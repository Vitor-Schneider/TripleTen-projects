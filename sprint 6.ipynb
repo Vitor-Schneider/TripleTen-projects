{
 "cells": [
  {
   "cell_type": "markdown",
   "metadata": {},
   "source": [
    "Olá, Vitor\n",
    "\n",
    "Meu nome é Ramon. Ao ao longo do texto farei algumas observações sobre melhorias no código. Nas partes em que não houver comentários, está tudo certo, ok? Estarei aberto a feedbacks e discussões sobre o tema.\n",
    "\n",
    "**Peço que mantenha e não altere os comentários que eu fizer por aqui para que possamos nos localizar posteriormente, ok?**\n",
    "\n",
    "Mais uma coisa, vamos utilizar um código de cores para você entender os meus feedbacks no seu notebook. Funciona assim:\n",
    "\n",
    "<div class=\"alert alert-block alert-success\">\n",
    "<b> Comentário do revisor: </b> <a class=\"tocSkip\"></a>\n",
    "\n",
    "Sucesso. Tudo foi feito corretamente.\n",
    "</div>\n",
    "\n",
    "<div class=\"alert alert-block alert-warning\">\n",
    "<b>Comentário do revisor: </b> <a class=\"tocSkip\"></a>\n",
    "\n",
    "Alerta não crítco, mas que pode ser corrigido para melhoria geral no seu código/análise\n",
    "</div>\n",
    "\n",
    "<div class=\"alert alert-block alert-danger\">\n",
    "\n",
    "<b>Comentário do revisor: </b> <a class=\"tocSkip\"></a>\n",
    "    \n",
    "Erro que precisa ser consertado, caso contrário seu projeto **não** será aceito.\n",
    "</div>\n",
    "\n",
    "Você pode me responder usando isso:\n",
    "<div class=\"alert alert-block alert-info\">\n",
    "<b>Resposta do Aluno.</b> <a class=\"tocSkip\"></a>\n",
    "</div>\n",
    "\n",
    "###\n",
    "\n",
    "<div class=\"alert alert-block alert-success\">\n",
    "<b>Comentário Geral do Revisor</b> <a class=\"tocSkip\"></a>\n",
    "\n",
    "Obrigado por enviar seu projeto. \n",
    "    \n",
    "Parabéns, você fez um bom trabalho.\n",
    "\n",
    "Como pontos fortes do projeto, destaco:\n",
    "- Código simples e eficiente (sem loop desnecessário)\n",
    "- Uso adequado dos recursos da lição\n",
    "\n",
    "    \n",
    "<span class=\"text-danger\">Porém, há espaço para melhorias conforme os itens apontados anteriormente. Destaco os  pontos a seguir: </span>\n",
    " * <span class=\"text-danger\"> Recortar a base corretamente; ajustar teste de hipótese </span>\n",
    "\n",
    "\n",
    "Portanto, sugiro que você corrija os pontos indicados.\n",
    "    \n",
    "Se você tiver alguma dúvida sobre de algo que você não tenha entendido, sinta-se à vontade para perguntar ao tutor ou deixar um comentário em **azul** para que, na próxima iteração, eu possa responder.\n",
    "\n",
    "Conte conosco. Lembre-se de que você pode tirar dúvidas com revisores usando os comentários ou buscar ajuda de um tutor.\n",
    "Bom trabalho. \n",
    "\n",
    "</div>\n",
    "\n",
    "\n",
    "\n"
   ]
  },
  {
   "cell_type": "markdown",
   "metadata": {},
   "source": [
    "<div class=\"alert alert-block alert-info\">\n",
    "<b>Obrigado pelo feedback. Aprendo bastante a cada projeto do curso!</b> <a class=\"tocSkip\"></a>\n",
    "</div>"
   ]
  },
  {
   "cell_type": "markdown",
   "metadata": {},
   "source": [
    "<div class=\"alert alert-block alert-success\">\n",
    "<b> Comentário final do revisor: </b> <a class=\"tocSkip\"></a>\n",
    "\n",
    "Excelente que você está aprendendo. O curso é muito bem feito. Garanto-lhe que só melhora.\n",
    "Tudo certo agora. Desejo sucesso na jornada. Parabéns pelo empenho.\n",
    "</div>\n"
   ]
  },
  {
   "cell_type": "markdown",
   "metadata": {},
   "source": [
    "## Visão geral e preparação dos dados"
   ]
  },
  {
   "cell_type": "markdown",
   "metadata": {},
   "source": [
    "\n",
    "**A análise deste dataframe nos ajudará a desenvolver uma boa estratégia de marketing para aumentar nossas receitas nos próximos trimestres.**\n",
    "\n",
    " **Identificaremos insights valiosos para nossa empresa através da análise de diversas estatísticas, gráficos e hipóteses sobre o feedback de vendas de jogos lançados no mercado.**  "
   ]
  },
  {
   "cell_type": "code",
   "execution_count": 1,
   "metadata": {},
   "outputs": [],
   "source": [
    "import pandas as pd\n",
    "import numpy as np\n",
    "import matplotlib.pyplot as plt\n",
    "import seaborn as sns\n",
    "import scipy.stats as st"
   ]
  },
  {
   "cell_type": "code",
   "execution_count": 2,
   "metadata": {},
   "outputs": [],
   "source": [
    "df = pd.read_csv('/datasets/games.csv')"
   ]
  },
  {
   "cell_type": "code",
   "execution_count": 3,
   "metadata": {
    "scrolled": true
   },
   "outputs": [
    {
     "data": {
      "text/html": [
       "<div>\n",
       "<style scoped>\n",
       "    .dataframe tbody tr th:only-of-type {\n",
       "        vertical-align: middle;\n",
       "    }\n",
       "\n",
       "    .dataframe tbody tr th {\n",
       "        vertical-align: top;\n",
       "    }\n",
       "\n",
       "    .dataframe thead th {\n",
       "        text-align: right;\n",
       "    }\n",
       "</style>\n",
       "<table border=\"1\" class=\"dataframe\">\n",
       "  <thead>\n",
       "    <tr style=\"text-align: right;\">\n",
       "      <th></th>\n",
       "      <th>Name</th>\n",
       "      <th>Platform</th>\n",
       "      <th>Year_of_Release</th>\n",
       "      <th>Genre</th>\n",
       "      <th>NA_sales</th>\n",
       "      <th>EU_sales</th>\n",
       "      <th>JP_sales</th>\n",
       "      <th>Other_sales</th>\n",
       "      <th>Critic_Score</th>\n",
       "      <th>User_Score</th>\n",
       "      <th>Rating</th>\n",
       "    </tr>\n",
       "  </thead>\n",
       "  <tbody>\n",
       "    <tr>\n",
       "      <th>0</th>\n",
       "      <td>Wii Sports</td>\n",
       "      <td>Wii</td>\n",
       "      <td>2006.0</td>\n",
       "      <td>Sports</td>\n",
       "      <td>41.36</td>\n",
       "      <td>28.96</td>\n",
       "      <td>3.77</td>\n",
       "      <td>8.45</td>\n",
       "      <td>76.0</td>\n",
       "      <td>8</td>\n",
       "      <td>E</td>\n",
       "    </tr>\n",
       "    <tr>\n",
       "      <th>1</th>\n",
       "      <td>Super Mario Bros.</td>\n",
       "      <td>NES</td>\n",
       "      <td>1985.0</td>\n",
       "      <td>Platform</td>\n",
       "      <td>29.08</td>\n",
       "      <td>3.58</td>\n",
       "      <td>6.81</td>\n",
       "      <td>0.77</td>\n",
       "      <td>NaN</td>\n",
       "      <td>NaN</td>\n",
       "      <td>NaN</td>\n",
       "    </tr>\n",
       "    <tr>\n",
       "      <th>2</th>\n",
       "      <td>Mario Kart Wii</td>\n",
       "      <td>Wii</td>\n",
       "      <td>2008.0</td>\n",
       "      <td>Racing</td>\n",
       "      <td>15.68</td>\n",
       "      <td>12.76</td>\n",
       "      <td>3.79</td>\n",
       "      <td>3.29</td>\n",
       "      <td>82.0</td>\n",
       "      <td>8.3</td>\n",
       "      <td>E</td>\n",
       "    </tr>\n",
       "    <tr>\n",
       "      <th>3</th>\n",
       "      <td>Wii Sports Resort</td>\n",
       "      <td>Wii</td>\n",
       "      <td>2009.0</td>\n",
       "      <td>Sports</td>\n",
       "      <td>15.61</td>\n",
       "      <td>10.93</td>\n",
       "      <td>3.28</td>\n",
       "      <td>2.95</td>\n",
       "      <td>80.0</td>\n",
       "      <td>8</td>\n",
       "      <td>E</td>\n",
       "    </tr>\n",
       "    <tr>\n",
       "      <th>4</th>\n",
       "      <td>Pokemon Red/Pokemon Blue</td>\n",
       "      <td>GB</td>\n",
       "      <td>1996.0</td>\n",
       "      <td>Role-Playing</td>\n",
       "      <td>11.27</td>\n",
       "      <td>8.89</td>\n",
       "      <td>10.22</td>\n",
       "      <td>1.00</td>\n",
       "      <td>NaN</td>\n",
       "      <td>NaN</td>\n",
       "      <td>NaN</td>\n",
       "    </tr>\n",
       "  </tbody>\n",
       "</table>\n",
       "</div>"
      ],
      "text/plain": [
       "                       Name Platform  Year_of_Release         Genre  NA_sales  \\\n",
       "0                Wii Sports      Wii           2006.0        Sports     41.36   \n",
       "1         Super Mario Bros.      NES           1985.0      Platform     29.08   \n",
       "2            Mario Kart Wii      Wii           2008.0        Racing     15.68   \n",
       "3         Wii Sports Resort      Wii           2009.0        Sports     15.61   \n",
       "4  Pokemon Red/Pokemon Blue       GB           1996.0  Role-Playing     11.27   \n",
       "\n",
       "   EU_sales  JP_sales  Other_sales  Critic_Score User_Score Rating  \n",
       "0     28.96      3.77         8.45          76.0          8      E  \n",
       "1      3.58      6.81         0.77           NaN        NaN    NaN  \n",
       "2     12.76      3.79         3.29          82.0        8.3      E  \n",
       "3     10.93      3.28         2.95          80.0          8      E  \n",
       "4      8.89     10.22         1.00           NaN        NaN    NaN  "
      ]
     },
     "execution_count": 3,
     "metadata": {},
     "output_type": "execute_result"
    }
   ],
   "source": [
    "df.head()\n"
   ]
  },
  {
   "cell_type": "code",
   "execution_count": 4,
   "metadata": {},
   "outputs": [
    {
     "name": "stdout",
     "output_type": "stream",
     "text": [
      "<class 'pandas.core.frame.DataFrame'>\n",
      "RangeIndex: 16715 entries, 0 to 16714\n",
      "Data columns (total 11 columns):\n",
      " #   Column           Non-Null Count  Dtype  \n",
      "---  ------           --------------  -----  \n",
      " 0   Name             16713 non-null  object \n",
      " 1   Platform         16715 non-null  object \n",
      " 2   Year_of_Release  16446 non-null  float64\n",
      " 3   Genre            16713 non-null  object \n",
      " 4   NA_sales         16715 non-null  float64\n",
      " 5   EU_sales         16715 non-null  float64\n",
      " 6   JP_sales         16715 non-null  float64\n",
      " 7   Other_sales      16715 non-null  float64\n",
      " 8   Critic_Score     8137 non-null   float64\n",
      " 9   User_Score       10014 non-null  object \n",
      " 10  Rating           9949 non-null   object \n",
      "dtypes: float64(6), object(5)\n",
      "memory usage: 1.4+ MB\n"
     ]
    }
   ],
   "source": [
    "df.info()"
   ]
  },
  {
   "cell_type": "code",
   "execution_count": 5,
   "metadata": {
    "scrolled": true
   },
   "outputs": [
    {
     "data": {
      "text/html": [
       "<div>\n",
       "<style scoped>\n",
       "    .dataframe tbody tr th:only-of-type {\n",
       "        vertical-align: middle;\n",
       "    }\n",
       "\n",
       "    .dataframe tbody tr th {\n",
       "        vertical-align: top;\n",
       "    }\n",
       "\n",
       "    .dataframe thead th {\n",
       "        text-align: right;\n",
       "    }\n",
       "</style>\n",
       "<table border=\"1\" class=\"dataframe\">\n",
       "  <thead>\n",
       "    <tr style=\"text-align: right;\">\n",
       "      <th></th>\n",
       "      <th>Name</th>\n",
       "      <th>Platform</th>\n",
       "      <th>Year_of_Release</th>\n",
       "      <th>Genre</th>\n",
       "      <th>NA_sales</th>\n",
       "      <th>EU_sales</th>\n",
       "      <th>JP_sales</th>\n",
       "      <th>Other_sales</th>\n",
       "      <th>Critic_Score</th>\n",
       "      <th>User_Score</th>\n",
       "      <th>Rating</th>\n",
       "    </tr>\n",
       "  </thead>\n",
       "  <tbody>\n",
       "    <tr>\n",
       "      <th>count</th>\n",
       "      <td>16713</td>\n",
       "      <td>16715</td>\n",
       "      <td>16446.000000</td>\n",
       "      <td>16713</td>\n",
       "      <td>16715.000000</td>\n",
       "      <td>16715.000000</td>\n",
       "      <td>16715.000000</td>\n",
       "      <td>16715.000000</td>\n",
       "      <td>8137.000000</td>\n",
       "      <td>10014</td>\n",
       "      <td>9949</td>\n",
       "    </tr>\n",
       "    <tr>\n",
       "      <th>unique</th>\n",
       "      <td>11559</td>\n",
       "      <td>31</td>\n",
       "      <td>NaN</td>\n",
       "      <td>12</td>\n",
       "      <td>NaN</td>\n",
       "      <td>NaN</td>\n",
       "      <td>NaN</td>\n",
       "      <td>NaN</td>\n",
       "      <td>NaN</td>\n",
       "      <td>96</td>\n",
       "      <td>8</td>\n",
       "    </tr>\n",
       "    <tr>\n",
       "      <th>top</th>\n",
       "      <td>Need for Speed: Most Wanted</td>\n",
       "      <td>PS2</td>\n",
       "      <td>NaN</td>\n",
       "      <td>Action</td>\n",
       "      <td>NaN</td>\n",
       "      <td>NaN</td>\n",
       "      <td>NaN</td>\n",
       "      <td>NaN</td>\n",
       "      <td>NaN</td>\n",
       "      <td>tbd</td>\n",
       "      <td>E</td>\n",
       "    </tr>\n",
       "    <tr>\n",
       "      <th>freq</th>\n",
       "      <td>12</td>\n",
       "      <td>2161</td>\n",
       "      <td>NaN</td>\n",
       "      <td>3369</td>\n",
       "      <td>NaN</td>\n",
       "      <td>NaN</td>\n",
       "      <td>NaN</td>\n",
       "      <td>NaN</td>\n",
       "      <td>NaN</td>\n",
       "      <td>2424</td>\n",
       "      <td>3990</td>\n",
       "    </tr>\n",
       "    <tr>\n",
       "      <th>mean</th>\n",
       "      <td>NaN</td>\n",
       "      <td>NaN</td>\n",
       "      <td>2006.484616</td>\n",
       "      <td>NaN</td>\n",
       "      <td>0.263377</td>\n",
       "      <td>0.145060</td>\n",
       "      <td>0.077617</td>\n",
       "      <td>0.047342</td>\n",
       "      <td>68.967679</td>\n",
       "      <td>NaN</td>\n",
       "      <td>NaN</td>\n",
       "    </tr>\n",
       "    <tr>\n",
       "      <th>std</th>\n",
       "      <td>NaN</td>\n",
       "      <td>NaN</td>\n",
       "      <td>5.877050</td>\n",
       "      <td>NaN</td>\n",
       "      <td>0.813604</td>\n",
       "      <td>0.503339</td>\n",
       "      <td>0.308853</td>\n",
       "      <td>0.186731</td>\n",
       "      <td>13.938165</td>\n",
       "      <td>NaN</td>\n",
       "      <td>NaN</td>\n",
       "    </tr>\n",
       "    <tr>\n",
       "      <th>min</th>\n",
       "      <td>NaN</td>\n",
       "      <td>NaN</td>\n",
       "      <td>1980.000000</td>\n",
       "      <td>NaN</td>\n",
       "      <td>0.000000</td>\n",
       "      <td>0.000000</td>\n",
       "      <td>0.000000</td>\n",
       "      <td>0.000000</td>\n",
       "      <td>13.000000</td>\n",
       "      <td>NaN</td>\n",
       "      <td>NaN</td>\n",
       "    </tr>\n",
       "    <tr>\n",
       "      <th>25%</th>\n",
       "      <td>NaN</td>\n",
       "      <td>NaN</td>\n",
       "      <td>2003.000000</td>\n",
       "      <td>NaN</td>\n",
       "      <td>0.000000</td>\n",
       "      <td>0.000000</td>\n",
       "      <td>0.000000</td>\n",
       "      <td>0.000000</td>\n",
       "      <td>60.000000</td>\n",
       "      <td>NaN</td>\n",
       "      <td>NaN</td>\n",
       "    </tr>\n",
       "    <tr>\n",
       "      <th>50%</th>\n",
       "      <td>NaN</td>\n",
       "      <td>NaN</td>\n",
       "      <td>2007.000000</td>\n",
       "      <td>NaN</td>\n",
       "      <td>0.080000</td>\n",
       "      <td>0.020000</td>\n",
       "      <td>0.000000</td>\n",
       "      <td>0.010000</td>\n",
       "      <td>71.000000</td>\n",
       "      <td>NaN</td>\n",
       "      <td>NaN</td>\n",
       "    </tr>\n",
       "    <tr>\n",
       "      <th>75%</th>\n",
       "      <td>NaN</td>\n",
       "      <td>NaN</td>\n",
       "      <td>2010.000000</td>\n",
       "      <td>NaN</td>\n",
       "      <td>0.240000</td>\n",
       "      <td>0.110000</td>\n",
       "      <td>0.040000</td>\n",
       "      <td>0.030000</td>\n",
       "      <td>79.000000</td>\n",
       "      <td>NaN</td>\n",
       "      <td>NaN</td>\n",
       "    </tr>\n",
       "    <tr>\n",
       "      <th>max</th>\n",
       "      <td>NaN</td>\n",
       "      <td>NaN</td>\n",
       "      <td>2016.000000</td>\n",
       "      <td>NaN</td>\n",
       "      <td>41.360000</td>\n",
       "      <td>28.960000</td>\n",
       "      <td>10.220000</td>\n",
       "      <td>10.570000</td>\n",
       "      <td>98.000000</td>\n",
       "      <td>NaN</td>\n",
       "      <td>NaN</td>\n",
       "    </tr>\n",
       "  </tbody>\n",
       "</table>\n",
       "</div>"
      ],
      "text/plain": [
       "                               Name Platform  Year_of_Release   Genre  \\\n",
       "count                         16713    16715     16446.000000   16713   \n",
       "unique                        11559       31              NaN      12   \n",
       "top     Need for Speed: Most Wanted      PS2              NaN  Action   \n",
       "freq                             12     2161              NaN    3369   \n",
       "mean                            NaN      NaN      2006.484616     NaN   \n",
       "std                             NaN      NaN         5.877050     NaN   \n",
       "min                             NaN      NaN      1980.000000     NaN   \n",
       "25%                             NaN      NaN      2003.000000     NaN   \n",
       "50%                             NaN      NaN      2007.000000     NaN   \n",
       "75%                             NaN      NaN      2010.000000     NaN   \n",
       "max                             NaN      NaN      2016.000000     NaN   \n",
       "\n",
       "            NA_sales      EU_sales      JP_sales   Other_sales  Critic_Score  \\\n",
       "count   16715.000000  16715.000000  16715.000000  16715.000000   8137.000000   \n",
       "unique           NaN           NaN           NaN           NaN           NaN   \n",
       "top              NaN           NaN           NaN           NaN           NaN   \n",
       "freq             NaN           NaN           NaN           NaN           NaN   \n",
       "mean        0.263377      0.145060      0.077617      0.047342     68.967679   \n",
       "std         0.813604      0.503339      0.308853      0.186731     13.938165   \n",
       "min         0.000000      0.000000      0.000000      0.000000     13.000000   \n",
       "25%         0.000000      0.000000      0.000000      0.000000     60.000000   \n",
       "50%         0.080000      0.020000      0.000000      0.010000     71.000000   \n",
       "75%         0.240000      0.110000      0.040000      0.030000     79.000000   \n",
       "max        41.360000     28.960000     10.220000     10.570000     98.000000   \n",
       "\n",
       "       User_Score Rating  \n",
       "count       10014   9949  \n",
       "unique         96      8  \n",
       "top           tbd      E  \n",
       "freq         2424   3990  \n",
       "mean          NaN    NaN  \n",
       "std           NaN    NaN  \n",
       "min           NaN    NaN  \n",
       "25%           NaN    NaN  \n",
       "50%           NaN    NaN  \n",
       "75%           NaN    NaN  \n",
       "max           NaN    NaN  "
      ]
     },
     "execution_count": 5,
     "metadata": {},
     "output_type": "execute_result"
    }
   ],
   "source": [
    "df.describe(include='all')"
   ]
  },
  {
   "cell_type": "code",
   "execution_count": 6,
   "metadata": {},
   "outputs": [],
   "source": [
    "df.columns = df.columns.str.lower().str.strip()"
   ]
  },
  {
   "cell_type": "markdown",
   "metadata": {},
   "source": [
    "**Convertendo o nome de todas as colunas para um formato padrao**"
   ]
  },
  {
   "cell_type": "code",
   "execution_count": 7,
   "metadata": {
    "scrolled": true
   },
   "outputs": [
    {
     "data": {
      "text/plain": [
       "0"
      ]
     },
     "execution_count": 7,
     "metadata": {},
     "output_type": "execute_result"
    }
   ],
   "source": [
    "df.duplicated().sum()"
   ]
  },
  {
   "cell_type": "markdown",
   "metadata": {},
   "source": [
    "**Nenhuma linha duplicada por inteira, veremos por colunas**"
   ]
  },
  {
   "cell_type": "code",
   "execution_count": 8,
   "metadata": {
    "scrolled": true
   },
   "outputs": [
    {
     "data": {
      "text/html": [
       "<div>\n",
       "<style scoped>\n",
       "    .dataframe tbody tr th:only-of-type {\n",
       "        vertical-align: middle;\n",
       "    }\n",
       "\n",
       "    .dataframe tbody tr th {\n",
       "        vertical-align: top;\n",
       "    }\n",
       "\n",
       "    .dataframe thead th {\n",
       "        text-align: right;\n",
       "    }\n",
       "</style>\n",
       "<table border=\"1\" class=\"dataframe\">\n",
       "  <thead>\n",
       "    <tr style=\"text-align: right;\">\n",
       "      <th></th>\n",
       "      <th>name</th>\n",
       "      <th>platform</th>\n",
       "      <th>year_of_release</th>\n",
       "      <th>genre</th>\n",
       "      <th>na_sales</th>\n",
       "      <th>eu_sales</th>\n",
       "      <th>jp_sales</th>\n",
       "      <th>other_sales</th>\n",
       "      <th>critic_score</th>\n",
       "      <th>user_score</th>\n",
       "      <th>rating</th>\n",
       "    </tr>\n",
       "  </thead>\n",
       "  <tbody>\n",
       "    <tr>\n",
       "      <th>3862</th>\n",
       "      <td>Frozen: Olaf's Quest</td>\n",
       "      <td>DS</td>\n",
       "      <td>2013.0</td>\n",
       "      <td>Platform</td>\n",
       "      <td>0.21</td>\n",
       "      <td>0.26</td>\n",
       "      <td>0.00</td>\n",
       "      <td>0.04</td>\n",
       "      <td>NaN</td>\n",
       "      <td>NaN</td>\n",
       "      <td>NaN</td>\n",
       "    </tr>\n",
       "    <tr>\n",
       "      <th>9507</th>\n",
       "      <td>007: Quantum of Solace</td>\n",
       "      <td>DS</td>\n",
       "      <td>2008.0</td>\n",
       "      <td>Action</td>\n",
       "      <td>0.11</td>\n",
       "      <td>0.01</td>\n",
       "      <td>0.00</td>\n",
       "      <td>0.01</td>\n",
       "      <td>65.0</td>\n",
       "      <td>tbd</td>\n",
       "      <td>T</td>\n",
       "    </tr>\n",
       "    <tr>\n",
       "      <th>4475</th>\n",
       "      <td>007: Quantum of Solace</td>\n",
       "      <td>PS2</td>\n",
       "      <td>2008.0</td>\n",
       "      <td>Action</td>\n",
       "      <td>0.17</td>\n",
       "      <td>0.00</td>\n",
       "      <td>0.00</td>\n",
       "      <td>0.26</td>\n",
       "      <td>NaN</td>\n",
       "      <td>NaN</td>\n",
       "      <td>NaN</td>\n",
       "    </tr>\n",
       "    <tr>\n",
       "      <th>1785</th>\n",
       "      <td>007: Quantum of Solace</td>\n",
       "      <td>PS3</td>\n",
       "      <td>2008.0</td>\n",
       "      <td>Action</td>\n",
       "      <td>0.43</td>\n",
       "      <td>0.51</td>\n",
       "      <td>0.02</td>\n",
       "      <td>0.19</td>\n",
       "      <td>65.0</td>\n",
       "      <td>6.6</td>\n",
       "      <td>T</td>\n",
       "    </tr>\n",
       "    <tr>\n",
       "      <th>3120</th>\n",
       "      <td>007: Quantum of Solace</td>\n",
       "      <td>Wii</td>\n",
       "      <td>2008.0</td>\n",
       "      <td>Action</td>\n",
       "      <td>0.29</td>\n",
       "      <td>0.28</td>\n",
       "      <td>0.01</td>\n",
       "      <td>0.07</td>\n",
       "      <td>54.0</td>\n",
       "      <td>7.5</td>\n",
       "      <td>T</td>\n",
       "    </tr>\n",
       "    <tr>\n",
       "      <th>...</th>\n",
       "      <td>...</td>\n",
       "      <td>...</td>\n",
       "      <td>...</td>\n",
       "      <td>...</td>\n",
       "      <td>...</td>\n",
       "      <td>...</td>\n",
       "      <td>...</td>\n",
       "      <td>...</td>\n",
       "      <td>...</td>\n",
       "      <td>...</td>\n",
       "      <td>...</td>\n",
       "    </tr>\n",
       "    <tr>\n",
       "      <th>3304</th>\n",
       "      <td>pro evolution soccer 2011</td>\n",
       "      <td>X360</td>\n",
       "      <td>2010.0</td>\n",
       "      <td>Sports</td>\n",
       "      <td>0.09</td>\n",
       "      <td>0.44</td>\n",
       "      <td>0.00</td>\n",
       "      <td>0.07</td>\n",
       "      <td>79.0</td>\n",
       "      <td>5.9</td>\n",
       "      <td>E</td>\n",
       "    </tr>\n",
       "    <tr>\n",
       "      <th>4664</th>\n",
       "      <td>pro evolution soccer 2011</td>\n",
       "      <td>PS2</td>\n",
       "      <td>2010.0</td>\n",
       "      <td>Sports</td>\n",
       "      <td>0.04</td>\n",
       "      <td>0.21</td>\n",
       "      <td>0.05</td>\n",
       "      <td>0.11</td>\n",
       "      <td>NaN</td>\n",
       "      <td>6.7</td>\n",
       "      <td>E</td>\n",
       "    </tr>\n",
       "    <tr>\n",
       "      <th>2583</th>\n",
       "      <td>pro evolution soccer 2011</td>\n",
       "      <td>PSP</td>\n",
       "      <td>2010.0</td>\n",
       "      <td>Sports</td>\n",
       "      <td>0.05</td>\n",
       "      <td>0.30</td>\n",
       "      <td>0.29</td>\n",
       "      <td>0.16</td>\n",
       "      <td>74.0</td>\n",
       "      <td>5.8</td>\n",
       "      <td>E</td>\n",
       "    </tr>\n",
       "    <tr>\n",
       "      <th>15612</th>\n",
       "      <td>uDraw Studio: Instant Artist</td>\n",
       "      <td>X360</td>\n",
       "      <td>2011.0</td>\n",
       "      <td>Misc</td>\n",
       "      <td>0.01</td>\n",
       "      <td>0.01</td>\n",
       "      <td>0.00</td>\n",
       "      <td>0.00</td>\n",
       "      <td>54.0</td>\n",
       "      <td>5.7</td>\n",
       "      <td>E</td>\n",
       "    </tr>\n",
       "    <tr>\n",
       "      <th>14244</th>\n",
       "      <td>NaN</td>\n",
       "      <td>GEN</td>\n",
       "      <td>1993.0</td>\n",
       "      <td>NaN</td>\n",
       "      <td>0.00</td>\n",
       "      <td>0.00</td>\n",
       "      <td>0.03</td>\n",
       "      <td>0.00</td>\n",
       "      <td>NaN</td>\n",
       "      <td>NaN</td>\n",
       "      <td>NaN</td>\n",
       "    </tr>\n",
       "  </tbody>\n",
       "</table>\n",
       "<p>5155 rows × 11 columns</p>\n",
       "</div>"
      ],
      "text/plain": [
       "                               name platform  year_of_release     genre  \\\n",
       "3862           Frozen: Olaf's Quest       DS           2013.0  Platform   \n",
       "9507         007: Quantum of Solace       DS           2008.0    Action   \n",
       "4475         007: Quantum of Solace      PS2           2008.0    Action   \n",
       "1785         007: Quantum of Solace      PS3           2008.0    Action   \n",
       "3120         007: Quantum of Solace      Wii           2008.0    Action   \n",
       "...                             ...      ...              ...       ...   \n",
       "3304      pro evolution soccer 2011     X360           2010.0    Sports   \n",
       "4664      pro evolution soccer 2011      PS2           2010.0    Sports   \n",
       "2583      pro evolution soccer 2011      PSP           2010.0    Sports   \n",
       "15612  uDraw Studio: Instant Artist     X360           2011.0      Misc   \n",
       "14244                           NaN      GEN           1993.0       NaN   \n",
       "\n",
       "       na_sales  eu_sales  jp_sales  other_sales  critic_score user_score  \\\n",
       "3862       0.21      0.26      0.00         0.04           NaN        NaN   \n",
       "9507       0.11      0.01      0.00         0.01          65.0        tbd   \n",
       "4475       0.17      0.00      0.00         0.26           NaN        NaN   \n",
       "1785       0.43      0.51      0.02         0.19          65.0        6.6   \n",
       "3120       0.29      0.28      0.01         0.07          54.0        7.5   \n",
       "...         ...       ...       ...          ...           ...        ...   \n",
       "3304       0.09      0.44      0.00         0.07          79.0        5.9   \n",
       "4664       0.04      0.21      0.05         0.11           NaN        6.7   \n",
       "2583       0.05      0.30      0.29         0.16          74.0        5.8   \n",
       "15612      0.01      0.01      0.00         0.00          54.0        5.7   \n",
       "14244      0.00      0.00      0.03         0.00           NaN        NaN   \n",
       "\n",
       "      rating  \n",
       "3862     NaN  \n",
       "9507       T  \n",
       "4475     NaN  \n",
       "1785       T  \n",
       "3120       T  \n",
       "...      ...  \n",
       "3304       E  \n",
       "4664       E  \n",
       "2583       E  \n",
       "15612      E  \n",
       "14244    NaN  \n",
       "\n",
       "[5155 rows x 11 columns]"
      ]
     },
     "execution_count": 8,
     "metadata": {},
     "output_type": "execute_result"
    }
   ],
   "source": [
    "df[df['name'].duplicated(keep='first') == True].sort_values(by = 'name')"
   ]
  },
  {
   "cell_type": "markdown",
   "metadata": {},
   "source": [
    "**VEMOS QUE APENAS OS NOMES REPETIDOS NAO SAO SUFICIENTES PARA SER DUPLICADOS POIS ELES DIFEREM NAS PLATAFORMAS**"
   ]
  },
  {
   "cell_type": "code",
   "execution_count": 9,
   "metadata": {},
   "outputs": [
    {
     "data": {
      "text/html": [
       "<div>\n",
       "<style scoped>\n",
       "    .dataframe tbody tr th:only-of-type {\n",
       "        vertical-align: middle;\n",
       "    }\n",
       "\n",
       "    .dataframe tbody tr th {\n",
       "        vertical-align: top;\n",
       "    }\n",
       "\n",
       "    .dataframe thead th {\n",
       "        text-align: right;\n",
       "    }\n",
       "</style>\n",
       "<table border=\"1\" class=\"dataframe\">\n",
       "  <thead>\n",
       "    <tr style=\"text-align: right;\">\n",
       "      <th></th>\n",
       "      <th>name</th>\n",
       "      <th>platform</th>\n",
       "      <th>year_of_release</th>\n",
       "      <th>genre</th>\n",
       "      <th>na_sales</th>\n",
       "      <th>eu_sales</th>\n",
       "      <th>jp_sales</th>\n",
       "      <th>other_sales</th>\n",
       "      <th>critic_score</th>\n",
       "      <th>user_score</th>\n",
       "      <th>rating</th>\n",
       "    </tr>\n",
       "  </thead>\n",
       "  <tbody>\n",
       "    <tr>\n",
       "      <th>604</th>\n",
       "      <td>Madden NFL 13</td>\n",
       "      <td>PS3</td>\n",
       "      <td>2012.0</td>\n",
       "      <td>Sports</td>\n",
       "      <td>2.11</td>\n",
       "      <td>0.22</td>\n",
       "      <td>0.00</td>\n",
       "      <td>0.23</td>\n",
       "      <td>83.0</td>\n",
       "      <td>5.5</td>\n",
       "      <td>E</td>\n",
       "    </tr>\n",
       "    <tr>\n",
       "      <th>16230</th>\n",
       "      <td>Madden NFL 13</td>\n",
       "      <td>PS3</td>\n",
       "      <td>2012.0</td>\n",
       "      <td>Sports</td>\n",
       "      <td>0.00</td>\n",
       "      <td>0.01</td>\n",
       "      <td>0.00</td>\n",
       "      <td>0.00</td>\n",
       "      <td>83.0</td>\n",
       "      <td>5.5</td>\n",
       "      <td>E</td>\n",
       "    </tr>\n",
       "    <tr>\n",
       "      <th>1190</th>\n",
       "      <td>Need for Speed: Most Wanted</td>\n",
       "      <td>X360</td>\n",
       "      <td>2012.0</td>\n",
       "      <td>Racing</td>\n",
       "      <td>0.62</td>\n",
       "      <td>0.78</td>\n",
       "      <td>0.01</td>\n",
       "      <td>0.15</td>\n",
       "      <td>83.0</td>\n",
       "      <td>8.5</td>\n",
       "      <td>T</td>\n",
       "    </tr>\n",
       "    <tr>\n",
       "      <th>1591</th>\n",
       "      <td>Need for Speed: Most Wanted</td>\n",
       "      <td>X360</td>\n",
       "      <td>2005.0</td>\n",
       "      <td>Racing</td>\n",
       "      <td>1.00</td>\n",
       "      <td>0.13</td>\n",
       "      <td>0.02</td>\n",
       "      <td>0.10</td>\n",
       "      <td>83.0</td>\n",
       "      <td>8.5</td>\n",
       "      <td>T</td>\n",
       "    </tr>\n",
       "    <tr>\n",
       "      <th>5972</th>\n",
       "      <td>Need for Speed: Most Wanted</td>\n",
       "      <td>PC</td>\n",
       "      <td>2005.0</td>\n",
       "      <td>Racing</td>\n",
       "      <td>0.02</td>\n",
       "      <td>0.23</td>\n",
       "      <td>0.00</td>\n",
       "      <td>0.04</td>\n",
       "      <td>82.0</td>\n",
       "      <td>8.5</td>\n",
       "      <td>T</td>\n",
       "    </tr>\n",
       "    <tr>\n",
       "      <th>11715</th>\n",
       "      <td>Need for Speed: Most Wanted</td>\n",
       "      <td>PC</td>\n",
       "      <td>2012.0</td>\n",
       "      <td>Racing</td>\n",
       "      <td>0.00</td>\n",
       "      <td>0.06</td>\n",
       "      <td>0.00</td>\n",
       "      <td>0.02</td>\n",
       "      <td>82.0</td>\n",
       "      <td>8.5</td>\n",
       "      <td>T</td>\n",
       "    </tr>\n",
       "    <tr>\n",
       "      <th>1745</th>\n",
       "      <td>Sonic the Hedgehog</td>\n",
       "      <td>PS3</td>\n",
       "      <td>2006.0</td>\n",
       "      <td>Platform</td>\n",
       "      <td>0.41</td>\n",
       "      <td>0.06</td>\n",
       "      <td>0.04</td>\n",
       "      <td>0.66</td>\n",
       "      <td>43.0</td>\n",
       "      <td>4.1</td>\n",
       "      <td>E10+</td>\n",
       "    </tr>\n",
       "    <tr>\n",
       "      <th>4127</th>\n",
       "      <td>Sonic the Hedgehog</td>\n",
       "      <td>PS3</td>\n",
       "      <td>NaN</td>\n",
       "      <td>Platform</td>\n",
       "      <td>0.00</td>\n",
       "      <td>0.48</td>\n",
       "      <td>0.00</td>\n",
       "      <td>0.00</td>\n",
       "      <td>43.0</td>\n",
       "      <td>4.1</td>\n",
       "      <td>E10+</td>\n",
       "    </tr>\n",
       "    <tr>\n",
       "      <th>659</th>\n",
       "      <td>NaN</td>\n",
       "      <td>GEN</td>\n",
       "      <td>1993.0</td>\n",
       "      <td>NaN</td>\n",
       "      <td>1.78</td>\n",
       "      <td>0.53</td>\n",
       "      <td>0.00</td>\n",
       "      <td>0.08</td>\n",
       "      <td>NaN</td>\n",
       "      <td>NaN</td>\n",
       "      <td>NaN</td>\n",
       "    </tr>\n",
       "    <tr>\n",
       "      <th>14244</th>\n",
       "      <td>NaN</td>\n",
       "      <td>GEN</td>\n",
       "      <td>1993.0</td>\n",
       "      <td>NaN</td>\n",
       "      <td>0.00</td>\n",
       "      <td>0.00</td>\n",
       "      <td>0.03</td>\n",
       "      <td>0.00</td>\n",
       "      <td>NaN</td>\n",
       "      <td>NaN</td>\n",
       "      <td>NaN</td>\n",
       "    </tr>\n",
       "  </tbody>\n",
       "</table>\n",
       "</div>"
      ],
      "text/plain": [
       "                              name platform  year_of_release     genre  \\\n",
       "604                  Madden NFL 13      PS3           2012.0    Sports   \n",
       "16230                Madden NFL 13      PS3           2012.0    Sports   \n",
       "1190   Need for Speed: Most Wanted     X360           2012.0    Racing   \n",
       "1591   Need for Speed: Most Wanted     X360           2005.0    Racing   \n",
       "5972   Need for Speed: Most Wanted       PC           2005.0    Racing   \n",
       "11715  Need for Speed: Most Wanted       PC           2012.0    Racing   \n",
       "1745            Sonic the Hedgehog      PS3           2006.0  Platform   \n",
       "4127            Sonic the Hedgehog      PS3              NaN  Platform   \n",
       "659                            NaN      GEN           1993.0       NaN   \n",
       "14244                          NaN      GEN           1993.0       NaN   \n",
       "\n",
       "       na_sales  eu_sales  jp_sales  other_sales  critic_score user_score  \\\n",
       "604        2.11      0.22      0.00         0.23          83.0        5.5   \n",
       "16230      0.00      0.01      0.00         0.00          83.0        5.5   \n",
       "1190       0.62      0.78      0.01         0.15          83.0        8.5   \n",
       "1591       1.00      0.13      0.02         0.10          83.0        8.5   \n",
       "5972       0.02      0.23      0.00         0.04          82.0        8.5   \n",
       "11715      0.00      0.06      0.00         0.02          82.0        8.5   \n",
       "1745       0.41      0.06      0.04         0.66          43.0        4.1   \n",
       "4127       0.00      0.48      0.00         0.00          43.0        4.1   \n",
       "659        1.78      0.53      0.00         0.08           NaN        NaN   \n",
       "14244      0.00      0.00      0.03         0.00           NaN        NaN   \n",
       "\n",
       "      rating  \n",
       "604        E  \n",
       "16230      E  \n",
       "1190       T  \n",
       "1591       T  \n",
       "5972       T  \n",
       "11715      T  \n",
       "1745    E10+  \n",
       "4127    E10+  \n",
       "659      NaN  \n",
       "14244    NaN  "
      ]
     },
     "execution_count": 9,
     "metadata": {},
     "output_type": "execute_result"
    }
   ],
   "source": [
    "df[df[['name', 'platform']].duplicated(keep=False) == True].sort_values(by = 'name')"
   ]
  },
  {
   "cell_type": "markdown",
   "metadata": {},
   "source": [
    "**AQUI ACHAMOS ALGUNS DADOS QUE PODERIAM ESTAR DUPLICADOS MAS OS DADOS SÃO DIFERENTES, ENTÃO NAO TEMOS DUPLICADOS**"
   ]
  },
  {
   "cell_type": "markdown",
   "metadata": {},
   "source": [
    "<s>\n",
    "    <div class=\"alert alert-block alert-danger\">\n",
    "<b> Comentário do revisor: </b> <a class=\"tocSkip\"></a>\n",
    "Não há duplicaçaõ  pois há valores diferentes.\n",
    "\n",
    "</div>"
   ]
  },
  {
   "cell_type": "code",
   "execution_count": 10,
   "metadata": {
    "scrolled": false
   },
   "outputs": [
    {
     "data": {
      "text/plain": [
       "array(['8', nan, '8.3', '8.5', '6.6', '8.4', '8.6', '7.7', '6.3', '7.4',\n",
       "       '8.2', '9', '7.9', '8.1', '8.7', '7.1', '3.4', '5.3', '4.8', '3.2',\n",
       "       '8.9', '6.4', '7.8', '7.5', '2.6', '7.2', '9.2', '7', '7.3', '4.3',\n",
       "       '7.6', '5.7', '5', '9.1', '6.5', 'tbd', '8.8', '6.9', '9.4', '6.8',\n",
       "       '6.1', '6.7', '5.4', '4', '4.9', '4.5', '9.3', '6.2', '4.2', '6',\n",
       "       '3.7', '4.1', '5.8', '5.6', '5.5', '4.4', '4.6', '5.9', '3.9',\n",
       "       '3.1', '2.9', '5.2', '3.3', '4.7', '5.1', '3.5', '2.5', '1.9', '3',\n",
       "       '2.7', '2.2', '2', '9.5', '2.1', '3.6', '2.8', '1.8', '3.8', '0',\n",
       "       '1.6', '9.6', '2.4', '1.7', '1.1', '0.3', '1.5', '0.7', '1.2',\n",
       "       '2.3', '0.5', '1.3', '0.2', '0.6', '1.4', '0.9', '1', '9.7'],\n",
       "      dtype=object)"
      ]
     },
     "execution_count": 10,
     "metadata": {},
     "output_type": "execute_result"
    }
   ],
   "source": [
    "df['user_score'].unique()"
   ]
  },
  {
   "cell_type": "markdown",
   "metadata": {},
   "source": [
    "**Coluna user_score esta como tipo 'object'  por conter a string 'tbd' como valores**"
   ]
  },
  {
   "cell_type": "markdown",
   "metadata": {},
   "source": [
    "/"
   ]
  },
  {
   "cell_type": "markdown",
   "metadata": {},
   "source": [
    "/"
   ]
  },
  {
   "cell_type": "markdown",
   "metadata": {},
   "source": [
    "\n",
    "###  Mudanças nos dados\n",
    " "
   ]
  },
  {
   "cell_type": "markdown",
   "metadata": {},
   "source": [
    "# Valores NaN"
   ]
  },
  {
   "cell_type": "code",
   "execution_count": 11,
   "metadata": {},
   "outputs": [],
   "source": [
    "df.dropna(subset=['name'], inplace = True)\n"
   ]
  },
  {
   "cell_type": "markdown",
   "metadata": {},
   "source": [
    "**Removemos linhas completas onde os nomes faltavam. Alem dos nomes ainda faltavam muitos outros dados dificultando ainda mais a analise.**"
   ]
  },
  {
   "cell_type": "markdown",
   "metadata": {},
   "source": [
    "\n",
    "**Em relaçao aos valores ausentes das colunas \"critic_score\t/user_score\t/rating\" foi deixado desta forma sem preencher pois existem muitos dados ausentes o que pode nos dar conclusoes erradas se forem preenchidos com valores como a mediana ou a media.**\n",
    "\n",
    "**A ausência de avaliações pode ser uma falta de dados suficientes para fazer uma nota mais verdadeira visto que os jogos mais antigos sao os que mais faltam notas, os quais poucas pessoas hoje em dia devem ter jogado.**"
   ]
  },
  {
   "cell_type": "code",
   "execution_count": 12,
   "metadata": {},
   "outputs": [
    {
     "data": {
      "text/html": [
       "<div>\n",
       "<style scoped>\n",
       "    .dataframe tbody tr th:only-of-type {\n",
       "        vertical-align: middle;\n",
       "    }\n",
       "\n",
       "    .dataframe tbody tr th {\n",
       "        vertical-align: top;\n",
       "    }\n",
       "\n",
       "    .dataframe thead th {\n",
       "        text-align: right;\n",
       "    }\n",
       "</style>\n",
       "<table border=\"1\" class=\"dataframe\">\n",
       "  <thead>\n",
       "    <tr style=\"text-align: right;\">\n",
       "      <th></th>\n",
       "      <th>year_of_release</th>\n",
       "      <th>name</th>\n",
       "      <th>critic_score</th>\n",
       "      <th>user_score</th>\n",
       "      <th>0</th>\n",
       "    </tr>\n",
       "  </thead>\n",
       "  <tbody>\n",
       "    <tr>\n",
       "      <th>0</th>\n",
       "      <td>1985.0</td>\n",
       "      <td>Alter Ego</td>\n",
       "      <td>59.0</td>\n",
       "      <td>5.8</td>\n",
       "      <td>1</td>\n",
       "    </tr>\n",
       "    <tr>\n",
       "      <th>1</th>\n",
       "      <td>1988.0</td>\n",
       "      <td>SimCity</td>\n",
       "      <td>64.0</td>\n",
       "      <td>2.2</td>\n",
       "      <td>1</td>\n",
       "    </tr>\n",
       "    <tr>\n",
       "      <th>2</th>\n",
       "      <td>1992.0</td>\n",
       "      <td>Doom</td>\n",
       "      <td>85.0</td>\n",
       "      <td>8.2</td>\n",
       "      <td>1</td>\n",
       "    </tr>\n",
       "    <tr>\n",
       "      <th>3</th>\n",
       "      <td>1994.0</td>\n",
       "      <td>Battle Arena Toshinden</td>\n",
       "      <td>69.0</td>\n",
       "      <td>6.3</td>\n",
       "      <td>1</td>\n",
       "    </tr>\n",
       "    <tr>\n",
       "      <th>4</th>\n",
       "      <td>1996.0</td>\n",
       "      <td>Diablo</td>\n",
       "      <td>94.0</td>\n",
       "      <td>8.7</td>\n",
       "      <td>1</td>\n",
       "    </tr>\n",
       "    <tr>\n",
       "      <th>...</th>\n",
       "      <td>...</td>\n",
       "      <td>...</td>\n",
       "      <td>...</td>\n",
       "      <td>...</td>\n",
       "      <td>...</td>\n",
       "    </tr>\n",
       "    <tr>\n",
       "      <th>7905</th>\n",
       "      <td>2016.0</td>\n",
       "      <td>XCOM 2</td>\n",
       "      <td>87.0</td>\n",
       "      <td>8.1</td>\n",
       "      <td>1</td>\n",
       "    </tr>\n",
       "    <tr>\n",
       "      <th>7906</th>\n",
       "      <td>2016.0</td>\n",
       "      <td>XCOM 2</td>\n",
       "      <td>88.0</td>\n",
       "      <td>7.1</td>\n",
       "      <td>1</td>\n",
       "    </tr>\n",
       "    <tr>\n",
       "      <th>7907</th>\n",
       "      <td>2016.0</td>\n",
       "      <td>XCOM 2</td>\n",
       "      <td>88.0</td>\n",
       "      <td>8</td>\n",
       "      <td>1</td>\n",
       "    </tr>\n",
       "    <tr>\n",
       "      <th>7908</th>\n",
       "      <td>2016.0</td>\n",
       "      <td>Zero Escape: Zero Time Dilemma</td>\n",
       "      <td>81.0</td>\n",
       "      <td>8.5</td>\n",
       "      <td>1</td>\n",
       "    </tr>\n",
       "    <tr>\n",
       "      <th>7909</th>\n",
       "      <td>2016.0</td>\n",
       "      <td>Zero Escape: Zero Time Dilemma</td>\n",
       "      <td>83.0</td>\n",
       "      <td>8.3</td>\n",
       "      <td>1</td>\n",
       "    </tr>\n",
       "  </tbody>\n",
       "</table>\n",
       "<p>7910 rows × 5 columns</p>\n",
       "</div>"
      ],
      "text/plain": [
       "      year_of_release                            name  critic_score  \\\n",
       "0              1985.0                       Alter Ego          59.0   \n",
       "1              1988.0                         SimCity          64.0   \n",
       "2              1992.0                            Doom          85.0   \n",
       "3              1994.0          Battle Arena Toshinden          69.0   \n",
       "4              1996.0                          Diablo          94.0   \n",
       "...               ...                             ...           ...   \n",
       "7905           2016.0                          XCOM 2          87.0   \n",
       "7906           2016.0                          XCOM 2          88.0   \n",
       "7907           2016.0                          XCOM 2          88.0   \n",
       "7908           2016.0  Zero Escape: Zero Time Dilemma          81.0   \n",
       "7909           2016.0  Zero Escape: Zero Time Dilemma          83.0   \n",
       "\n",
       "     user_score  0  \n",
       "0           5.8  1  \n",
       "1           2.2  1  \n",
       "2           8.2  1  \n",
       "3           6.3  1  \n",
       "4           8.7  1  \n",
       "...         ... ..  \n",
       "7905        8.1  1  \n",
       "7906        7.1  1  \n",
       "7907          8  1  \n",
       "7908        8.5  1  \n",
       "7909        8.3  1  \n",
       "\n",
       "[7910 rows x 5 columns]"
      ]
     },
     "execution_count": 12,
     "metadata": {},
     "output_type": "execute_result"
    }
   ],
   "source": [
    "df.groupby(['year_of_release','name','critic_score','user_score'] ).size().reset_index()\n",
    "\n",
    "# apenas jogos com notas, podemos ver que temos 1 jogo com nota em 1985 depois o proximo \n",
    "# jogo com nota só em 1988 e depois só em 1992...  "
   ]
  },
  {
   "cell_type": "markdown",
   "metadata": {},
   "source": [
    "# Duplicados"
   ]
  },
  {
   "cell_type": "code",
   "execution_count": null,
   "metadata": {},
   "outputs": [],
   "source": []
  },
  {
   "cell_type": "markdown",
   "metadata": {},
   "source": [
    "**nao temos duplicados**"
   ]
  },
  {
   "cell_type": "markdown",
   "metadata": {},
   "source": [
    "# user_score"
   ]
  },
  {
   "cell_type": "code",
   "execution_count": 13,
   "metadata": {},
   "outputs": [],
   "source": [
    "df['user_score'] = df['user_score'].replace('tbd', np.nan)\n",
    "df['user_score'] =  df['user_score'].astype(float)"
   ]
  },
  {
   "cell_type": "markdown",
   "metadata": {},
   "source": [
    "**Aqui, substituímos os valores 'tbd'(to be defined) por valores NaN (Not a Number) para que possamos calcular algumas estatísticas descritivas nesta série. Tbd para nos seria como se nao tivessemos nenhum valor, entao nao iremos atribuir um numero para nao atrapalhar a eficiencia de nossas campanhas**"
   ]
  },
  {
   "cell_type": "markdown",
   "metadata": {},
   "source": [
    "# year_of_release"
   ]
  },
  {
   "cell_type": "code",
   "execution_count": 14,
   "metadata": {},
   "outputs": [],
   "source": [
    "df['year_of_release'] = pd.to_numeric(df['year_of_release'], errors='coerce')\n",
    "df['year_of_release'] = df['year_of_release'].astype('Int64')"
   ]
  },
  {
   "cell_type": "markdown",
   "metadata": {},
   "source": [
    "**Passamos os anos de flutuantes para inteiros para uma mlehor visualizaçao e manipulaçao dos dados** "
   ]
  },
  {
   "cell_type": "markdown",
   "metadata": {},
   "source": [
    "# Criaçao da coluna total_vendas"
   ]
  },
  {
   "cell_type": "code",
   "execution_count": 15,
   "metadata": {},
   "outputs": [],
   "source": [
    "df['total_sales'] = df[['na_sales', 'eu_sales', 'jp_sales','other_sales']].sum(axis=1)"
   ]
  },
  {
   "cell_type": "markdown",
   "metadata": {},
   "source": [
    "**Criamos uma coluna com a soma total das vendas das 4 colunas para uma melhor visualização das receitas**"
   ]
  },
  {
   "cell_type": "markdown",
   "metadata": {},
   "source": [
    "# Visualização final da nossa tabela"
   ]
  },
  {
   "cell_type": "code",
   "execution_count": 16,
   "metadata": {
    "scrolled": true
   },
   "outputs": [
    {
     "data": {
      "text/html": [
       "<div>\n",
       "<style scoped>\n",
       "    .dataframe tbody tr th:only-of-type {\n",
       "        vertical-align: middle;\n",
       "    }\n",
       "\n",
       "    .dataframe tbody tr th {\n",
       "        vertical-align: top;\n",
       "    }\n",
       "\n",
       "    .dataframe thead th {\n",
       "        text-align: right;\n",
       "    }\n",
       "</style>\n",
       "<table border=\"1\" class=\"dataframe\">\n",
       "  <thead>\n",
       "    <tr style=\"text-align: right;\">\n",
       "      <th></th>\n",
       "      <th>name</th>\n",
       "      <th>platform</th>\n",
       "      <th>year_of_release</th>\n",
       "      <th>genre</th>\n",
       "      <th>na_sales</th>\n",
       "      <th>eu_sales</th>\n",
       "      <th>jp_sales</th>\n",
       "      <th>other_sales</th>\n",
       "      <th>critic_score</th>\n",
       "      <th>user_score</th>\n",
       "      <th>rating</th>\n",
       "      <th>total_sales</th>\n",
       "    </tr>\n",
       "  </thead>\n",
       "  <tbody>\n",
       "    <tr>\n",
       "      <th>0</th>\n",
       "      <td>Wii Sports</td>\n",
       "      <td>Wii</td>\n",
       "      <td>2006</td>\n",
       "      <td>Sports</td>\n",
       "      <td>41.36</td>\n",
       "      <td>28.96</td>\n",
       "      <td>3.77</td>\n",
       "      <td>8.45</td>\n",
       "      <td>76.0</td>\n",
       "      <td>8.0</td>\n",
       "      <td>E</td>\n",
       "      <td>82.54</td>\n",
       "    </tr>\n",
       "    <tr>\n",
       "      <th>1</th>\n",
       "      <td>Super Mario Bros.</td>\n",
       "      <td>NES</td>\n",
       "      <td>1985</td>\n",
       "      <td>Platform</td>\n",
       "      <td>29.08</td>\n",
       "      <td>3.58</td>\n",
       "      <td>6.81</td>\n",
       "      <td>0.77</td>\n",
       "      <td>NaN</td>\n",
       "      <td>NaN</td>\n",
       "      <td>NaN</td>\n",
       "      <td>40.24</td>\n",
       "    </tr>\n",
       "    <tr>\n",
       "      <th>2</th>\n",
       "      <td>Mario Kart Wii</td>\n",
       "      <td>Wii</td>\n",
       "      <td>2008</td>\n",
       "      <td>Racing</td>\n",
       "      <td>15.68</td>\n",
       "      <td>12.76</td>\n",
       "      <td>3.79</td>\n",
       "      <td>3.29</td>\n",
       "      <td>82.0</td>\n",
       "      <td>8.3</td>\n",
       "      <td>E</td>\n",
       "      <td>35.52</td>\n",
       "    </tr>\n",
       "    <tr>\n",
       "      <th>3</th>\n",
       "      <td>Wii Sports Resort</td>\n",
       "      <td>Wii</td>\n",
       "      <td>2009</td>\n",
       "      <td>Sports</td>\n",
       "      <td>15.61</td>\n",
       "      <td>10.93</td>\n",
       "      <td>3.28</td>\n",
       "      <td>2.95</td>\n",
       "      <td>80.0</td>\n",
       "      <td>8.0</td>\n",
       "      <td>E</td>\n",
       "      <td>32.77</td>\n",
       "    </tr>\n",
       "    <tr>\n",
       "      <th>4</th>\n",
       "      <td>Pokemon Red/Pokemon Blue</td>\n",
       "      <td>GB</td>\n",
       "      <td>1996</td>\n",
       "      <td>Role-Playing</td>\n",
       "      <td>11.27</td>\n",
       "      <td>8.89</td>\n",
       "      <td>10.22</td>\n",
       "      <td>1.00</td>\n",
       "      <td>NaN</td>\n",
       "      <td>NaN</td>\n",
       "      <td>NaN</td>\n",
       "      <td>31.38</td>\n",
       "    </tr>\n",
       "    <tr>\n",
       "      <th>...</th>\n",
       "      <td>...</td>\n",
       "      <td>...</td>\n",
       "      <td>...</td>\n",
       "      <td>...</td>\n",
       "      <td>...</td>\n",
       "      <td>...</td>\n",
       "      <td>...</td>\n",
       "      <td>...</td>\n",
       "      <td>...</td>\n",
       "      <td>...</td>\n",
       "      <td>...</td>\n",
       "      <td>...</td>\n",
       "    </tr>\n",
       "    <tr>\n",
       "      <th>16181</th>\n",
       "      <td>Sakura Sakura: Haru Urara</td>\n",
       "      <td>PSP</td>\n",
       "      <td>2010</td>\n",
       "      <td>Adventure</td>\n",
       "      <td>0.00</td>\n",
       "      <td>0.00</td>\n",
       "      <td>0.01</td>\n",
       "      <td>0.00</td>\n",
       "      <td>NaN</td>\n",
       "      <td>NaN</td>\n",
       "      <td>NaN</td>\n",
       "      <td>0.01</td>\n",
       "    </tr>\n",
       "    <tr>\n",
       "      <th>16182</th>\n",
       "      <td>Rocksmith 2014 Edition Remastered</td>\n",
       "      <td>XOne</td>\n",
       "      <td>2016</td>\n",
       "      <td>Misc</td>\n",
       "      <td>0.01</td>\n",
       "      <td>0.00</td>\n",
       "      <td>0.00</td>\n",
       "      <td>0.00</td>\n",
       "      <td>NaN</td>\n",
       "      <td>NaN</td>\n",
       "      <td>T</td>\n",
       "      <td>0.01</td>\n",
       "    </tr>\n",
       "    <tr>\n",
       "      <th>16714</th>\n",
       "      <td>Winning Post 8 2016</td>\n",
       "      <td>PSV</td>\n",
       "      <td>2016</td>\n",
       "      <td>Simulation</td>\n",
       "      <td>0.00</td>\n",
       "      <td>0.00</td>\n",
       "      <td>0.01</td>\n",
       "      <td>0.00</td>\n",
       "      <td>NaN</td>\n",
       "      <td>NaN</td>\n",
       "      <td>NaN</td>\n",
       "      <td>0.01</td>\n",
       "    </tr>\n",
       "    <tr>\n",
       "      <th>16676</th>\n",
       "      <td>G1 Jockey 4 2008</td>\n",
       "      <td>PS3</td>\n",
       "      <td>2008</td>\n",
       "      <td>Sports</td>\n",
       "      <td>0.00</td>\n",
       "      <td>0.00</td>\n",
       "      <td>0.00</td>\n",
       "      <td>0.00</td>\n",
       "      <td>NaN</td>\n",
       "      <td>NaN</td>\n",
       "      <td>NaN</td>\n",
       "      <td>0.00</td>\n",
       "    </tr>\n",
       "    <tr>\n",
       "      <th>16709</th>\n",
       "      <td>SCORE International Baja 1000: The Official Game</td>\n",
       "      <td>PS2</td>\n",
       "      <td>2008</td>\n",
       "      <td>Racing</td>\n",
       "      <td>0.00</td>\n",
       "      <td>0.00</td>\n",
       "      <td>0.00</td>\n",
       "      <td>0.00</td>\n",
       "      <td>NaN</td>\n",
       "      <td>NaN</td>\n",
       "      <td>NaN</td>\n",
       "      <td>0.00</td>\n",
       "    </tr>\n",
       "  </tbody>\n",
       "</table>\n",
       "<p>16713 rows × 12 columns</p>\n",
       "</div>"
      ],
      "text/plain": [
       "                                                   name platform  \\\n",
       "0                                            Wii Sports      Wii   \n",
       "1                                     Super Mario Bros.      NES   \n",
       "2                                        Mario Kart Wii      Wii   \n",
       "3                                     Wii Sports Resort      Wii   \n",
       "4                              Pokemon Red/Pokemon Blue       GB   \n",
       "...                                                 ...      ...   \n",
       "16181                         Sakura Sakura: Haru Urara      PSP   \n",
       "16182                 Rocksmith 2014 Edition Remastered     XOne   \n",
       "16714                               Winning Post 8 2016      PSV   \n",
       "16676                                  G1 Jockey 4 2008      PS3   \n",
       "16709  SCORE International Baja 1000: The Official Game      PS2   \n",
       "\n",
       "       year_of_release         genre  na_sales  eu_sales  jp_sales  \\\n",
       "0                 2006        Sports     41.36     28.96      3.77   \n",
       "1                 1985      Platform     29.08      3.58      6.81   \n",
       "2                 2008        Racing     15.68     12.76      3.79   \n",
       "3                 2009        Sports     15.61     10.93      3.28   \n",
       "4                 1996  Role-Playing     11.27      8.89     10.22   \n",
       "...                ...           ...       ...       ...       ...   \n",
       "16181             2010     Adventure      0.00      0.00      0.01   \n",
       "16182             2016          Misc      0.01      0.00      0.00   \n",
       "16714             2016    Simulation      0.00      0.00      0.01   \n",
       "16676             2008        Sports      0.00      0.00      0.00   \n",
       "16709             2008        Racing      0.00      0.00      0.00   \n",
       "\n",
       "       other_sales  critic_score  user_score rating  total_sales  \n",
       "0             8.45          76.0         8.0      E        82.54  \n",
       "1             0.77           NaN         NaN    NaN        40.24  \n",
       "2             3.29          82.0         8.3      E        35.52  \n",
       "3             2.95          80.0         8.0      E        32.77  \n",
       "4             1.00           NaN         NaN    NaN        31.38  \n",
       "...            ...           ...         ...    ...          ...  \n",
       "16181         0.00           NaN         NaN    NaN         0.01  \n",
       "16182         0.00           NaN         NaN      T         0.01  \n",
       "16714         0.00           NaN         NaN    NaN         0.01  \n",
       "16676         0.00           NaN         NaN    NaN         0.00  \n",
       "16709         0.00           NaN         NaN    NaN         0.00  \n",
       "\n",
       "[16713 rows x 12 columns]"
      ]
     },
     "execution_count": 16,
     "metadata": {},
     "output_type": "execute_result"
    }
   ],
   "source": [
    "df.sort_values(by ='total_sales', ascending = False)"
   ]
  },
  {
   "cell_type": "markdown",
   "metadata": {},
   "source": [
    "/"
   ]
  },
  {
   "cell_type": "markdown",
   "metadata": {},
   "source": [
    "## Analise dos dados"
   ]
  },
  {
   "cell_type": "markdown",
   "metadata": {},
   "source": [
    "###  Tendencia de  Receita da industria de jogos novos ao longo dos anos"
   ]
  },
  {
   "cell_type": "code",
   "execution_count": 17,
   "metadata": {},
   "outputs": [
    {
     "name": "stdout",
     "output_type": "stream",
     "text": [
      "lançamento de jogos por ano \n",
      " year_of_release\n",
      "1980       9\n",
      "1981      46\n",
      "1982      36\n",
      "1983      17\n",
      "1984      14\n",
      "1985      14\n",
      "1986      21\n",
      "1987      16\n",
      "1988      15\n",
      "1989      17\n",
      "1990      16\n",
      "1991      40\n",
      "1992      41\n",
      "1993      59\n",
      "1994     117\n",
      "1995     215\n",
      "1996     258\n",
      "1997     282\n",
      "1998     364\n",
      "1999     326\n",
      "2000     325\n",
      "2001     428\n",
      "2002     631\n",
      "2003     546\n",
      "2004     550\n",
      "2005     657\n",
      "2006     773\n",
      "2007     884\n",
      "2008    1039\n",
      "2009    1001\n",
      "2010     900\n",
      "2011     779\n",
      "2012     446\n",
      "2013     335\n",
      "2014     319\n",
      "2015     362\n",
      "2016     297\n",
      "Name: name, dtype: int64\n",
      "\n",
      "\n",
      "receita total da industria por ano \n",
      "     year_of_release  total_sales\n",
      "0              1980        11.38\n",
      "1              1981        35.68\n",
      "2              1982        28.88\n",
      "3              1983        16.80\n",
      "4              1984        50.35\n",
      "5              1985        53.95\n",
      "6              1986        37.08\n",
      "7              1987        21.70\n",
      "8              1988        47.21\n",
      "9              1989        73.45\n",
      "10             1990        49.37\n",
      "11             1991        32.23\n",
      "12             1992        76.16\n",
      "13             1993        45.99\n",
      "14             1994        79.23\n",
      "15             1995        88.12\n",
      "16             1996       199.15\n",
      "17             1997       201.07\n",
      "18             1998       256.31\n",
      "19             1999       251.11\n",
      "20             2000       201.66\n",
      "21             2001       331.46\n",
      "22             2002       394.97\n",
      "23             2003       357.54\n",
      "24             2004       418.68\n",
      "25             2005       457.82\n",
      "26             2006       517.71\n",
      "27             2007       604.75\n",
      "28             2008       671.50\n",
      "29             2009       658.82\n",
      "30             2010       590.13\n",
      "31             2011       507.58\n",
      "32             2012       355.84\n",
      "33             2013       361.24\n",
      "34             2014       331.53\n",
      "35             2015       267.98\n",
      "36             2016       129.94\n"
     ]
    }
   ],
   "source": [
    "x = df.groupby('year_of_release')['name'].nunique()\n",
    "print('lançamento de jogos por ano','\\n', x)\n",
    "print('\\n')\n",
    "y = df.groupby('year_of_release')['total_sales'].sum().reset_index()\n",
    "print('receita total da industria por ano' ,'\\n',y)"
   ]
  },
  {
   "cell_type": "code",
   "execution_count": 18,
   "metadata": {},
   "outputs": [
    {
     "data": {
      "image/png": "[encoded data removed]",
      "text/plain": [
       "<Figure size 1000x600 with 1 Axes>"
      ]
     },
     "metadata": {},
     "output_type": "display_data"
    }
   ],
   "source": [
    "plt.figure(figsize=(10, 6))\n",
    "sns.lineplot(x='year_of_release', y='total_sales', data=y, marker='o')\n",
    "plt.grid(True)\n",
    "plt.xlabel('Ano de Lançamento')\n",
    "plt.ylabel('Total de Vendas(milhões)')\n",
    "plt.title('Total de Vendas da indústria por Ano')\n",
    "plt.xticks(rotation=45)  \n",
    "plt.tight_layout()\n",
    "plt.show()"
   ]
  },
  {
   "cell_type": "markdown",
   "metadata": {},
   "source": [
    "**Quantidade de jogos lançados por ano e receita total da industria por ano**"
   ]
  },
  {
   "cell_type": "markdown",
   "metadata": {},
   "source": [
    "**Temos um pico de lançamentos nos anos de 2008 e 2009 e desde entao os números veem diminuindo**"
   ]
  },
  {
   "cell_type": "markdown",
   "metadata": {},
   "source": [
    "<s>\n",
    "    <div class=\"alert alert-block alert-danger\">\n",
    "<b> Comentário do revisor: </b> <a class=\"tocSkip\"></a>\n",
    "Para avaliar tendência precisa plotar gráficos\n",
    "\n",
    "</div>"
   ]
  },
  {
   "cell_type": "markdown",
   "metadata": {},
   "source": [
    "### Ciclos das plataformas"
   ]
  },
  {
   "cell_type": "code",
   "execution_count": 19,
   "metadata": {
    "scrolled": true
   },
   "outputs": [
    {
     "data": {
      "text/html": [
       "<div>\n",
       "<style scoped>\n",
       "    .dataframe tbody tr th:only-of-type {\n",
       "        vertical-align: middle;\n",
       "    }\n",
       "\n",
       "    .dataframe tbody tr th {\n",
       "        vertical-align: top;\n",
       "    }\n",
       "\n",
       "    .dataframe thead th {\n",
       "        text-align: right;\n",
       "    }\n",
       "</style>\n",
       "<table border=\"1\" class=\"dataframe\">\n",
       "  <thead>\n",
       "    <tr style=\"text-align: right;\">\n",
       "      <th></th>\n",
       "      <th>platform</th>\n",
       "      <th>total_sales</th>\n",
       "    </tr>\n",
       "  </thead>\n",
       "  <tbody>\n",
       "    <tr>\n",
       "      <th>26</th>\n",
       "      <td>DS</td>\n",
       "      <td>806.12</td>\n",
       "    </tr>\n",
       "    <tr>\n",
       "      <th>27</th>\n",
       "      <td>Wii</td>\n",
       "      <td>907.51</td>\n",
       "    </tr>\n",
       "    <tr>\n",
       "      <th>28</th>\n",
       "      <td>PS3</td>\n",
       "      <td>939.65</td>\n",
       "    </tr>\n",
       "    <tr>\n",
       "      <th>29</th>\n",
       "      <td>X360</td>\n",
       "      <td>971.42</td>\n",
       "    </tr>\n",
       "    <tr>\n",
       "      <th>30</th>\n",
       "      <td>PS2</td>\n",
       "      <td>1255.77</td>\n",
       "    </tr>\n",
       "  </tbody>\n",
       "</table>\n",
       "</div>"
      ],
      "text/plain": [
       "   platform  total_sales\n",
       "26       DS       806.12\n",
       "27      Wii       907.51\n",
       "28      PS3       939.65\n",
       "29     X360       971.42\n",
       "30      PS2      1255.77"
      ]
     },
     "execution_count": 19,
     "metadata": {},
     "output_type": "execute_result"
    }
   ],
   "source": [
    "x = df.groupby('platform')['total_sales'].sum().sort_values().reset_index()\n",
    "x5 = x.tail(5)\n",
    "x5"
   ]
  },
  {
   "cell_type": "markdown",
   "metadata": {},
   "source": [
    "**As 5 plataformas com mais jogos vendidos**"
   ]
  },
  {
   "cell_type": "code",
   "execution_count": 20,
   "metadata": {},
   "outputs": [
    {
     "data": {
      "text/html": [
       "<div>\n",
       "<style scoped>\n",
       "    .dataframe tbody tr th:only-of-type {\n",
       "        vertical-align: middle;\n",
       "    }\n",
       "\n",
       "    .dataframe tbody tr th {\n",
       "        vertical-align: top;\n",
       "    }\n",
       "\n",
       "    .dataframe thead th {\n",
       "        text-align: right;\n",
       "    }\n",
       "</style>\n",
       "<table border=\"1\" class=\"dataframe\">\n",
       "  <thead>\n",
       "    <tr style=\"text-align: right;\">\n",
       "      <th></th>\n",
       "      <th>year_of_release</th>\n",
       "      <th>platform</th>\n",
       "      <th>total_sales</th>\n",
       "    </tr>\n",
       "  </thead>\n",
       "  <tbody>\n",
       "    <tr>\n",
       "      <th>0</th>\n",
       "      <td>1985</td>\n",
       "      <td>DS</td>\n",
       "      <td>0.02</td>\n",
       "    </tr>\n",
       "    <tr>\n",
       "      <th>1</th>\n",
       "      <td>2000</td>\n",
       "      <td>PS2</td>\n",
       "      <td>39.17</td>\n",
       "    </tr>\n",
       "    <tr>\n",
       "      <th>2</th>\n",
       "      <td>2001</td>\n",
       "      <td>PS2</td>\n",
       "      <td>166.43</td>\n",
       "    </tr>\n",
       "    <tr>\n",
       "      <th>3</th>\n",
       "      <td>2002</td>\n",
       "      <td>PS2</td>\n",
       "      <td>205.38</td>\n",
       "    </tr>\n",
       "    <tr>\n",
       "      <th>4</th>\n",
       "      <td>2003</td>\n",
       "      <td>PS2</td>\n",
       "      <td>184.31</td>\n",
       "    </tr>\n",
       "    <tr>\n",
       "      <th>5</th>\n",
       "      <td>2004</td>\n",
       "      <td>DS</td>\n",
       "      <td>17.27</td>\n",
       "    </tr>\n",
       "    <tr>\n",
       "      <th>6</th>\n",
       "      <td>2004</td>\n",
       "      <td>PS2</td>\n",
       "      <td>211.81</td>\n",
       "    </tr>\n",
       "    <tr>\n",
       "      <th>7</th>\n",
       "      <td>2005</td>\n",
       "      <td>DS</td>\n",
       "      <td>130.14</td>\n",
       "    </tr>\n",
       "    <tr>\n",
       "      <th>8</th>\n",
       "      <td>2005</td>\n",
       "      <td>PS2</td>\n",
       "      <td>160.66</td>\n",
       "    </tr>\n",
       "    <tr>\n",
       "      <th>9</th>\n",
       "      <td>2005</td>\n",
       "      <td>X360</td>\n",
       "      <td>8.25</td>\n",
       "    </tr>\n",
       "  </tbody>\n",
       "</table>\n",
       "</div>"
      ],
      "text/plain": [
       "   year_of_release platform  total_sales\n",
       "0             1985       DS         0.02\n",
       "1             2000      PS2        39.17\n",
       "2             2001      PS2       166.43\n",
       "3             2002      PS2       205.38\n",
       "4             2003      PS2       184.31\n",
       "5             2004       DS        17.27\n",
       "6             2004      PS2       211.81\n",
       "7             2005       DS       130.14\n",
       "8             2005      PS2       160.66\n",
       "9             2005     X360         8.25"
      ]
     },
     "execution_count": 20,
     "metadata": {},
     "output_type": "execute_result"
    }
   ],
   "source": [
    "plataformas5 = df[df['platform'].isin(x5['platform'])].reset_index(drop = True)\n",
    "x = plataformas5.groupby(['year_of_release' ,'platform'])['total_sales'].sum().reset_index()\n",
    "x.head(10)"
   ]
  },
  {
   "cell_type": "markdown",
   "metadata": {},
   "source": [
    "**As 5 plataformas com mais jogos vendidos ao longo dos anos**"
   ]
  },
  {
   "cell_type": "code",
   "execution_count": 21,
   "metadata": {},
   "outputs": [
    {
     "data": {
      "image/png": "[encoded data removed]",
      "text/plain": [
       "<Figure size 1200x600 with 1 Axes>"
      ]
     },
     "metadata": {},
     "output_type": "display_data"
    }
   ],
   "source": [
    "vendas_por_ano_plataforma = x.pivot(index='year_of_release', columns='platform', values='total_sales')\n",
    "\n",
    "vendas_por_ano_plataforma.plot(kind='line', figsize=(12, 6), linewidth=3, grid = True)\n",
    "plt.xlabel('Ano de Lançamento')\n",
    "plt.ylabel('Total de Vendas(milhoes)')\n",
    "plt.title('Receita dos jogos nas 5 plataformas mais lucrativas')\n",
    "plt.xticks(rotation=45, ha='right')\n",
    "plt.tight_layout()\n",
    "plt.show()"
   ]
  },
  {
   "cell_type": "markdown",
   "metadata": {},
   "source": [
    "\n",
    "**Pela analise do grafico acima vemos que plataformas novas possuem um ciclo de vendas de jogos dentro do mercado de cerca de 10 anos. E antes mesmo desse ciclo se fechar as fabricantes lançam uma nova versao ou uma nova plataforma. Poderiamos pensar que a nova versao fosse a razao de uma plataforma mais antiga perder suas vendas mas essa afirmaçao é negada assim que vemos o grafico do PS2 que começa a cair mesmo antes do PS3 ser lançado.**\n",
    "\n",
    "**Graficos de linhas são ideias para visualizar tendencias. Estas informações nos dão insights valiosos sobre o comportamento de futuras vendas das plataformas e respectivos jogos.** \n",
    "\n",
    "**Sabendo que as plataformas possuem ciclos de 10 anos podemos nos antecipar em relaçao aos novos pedidos de jogos e plataformas e em relaçao ao momento de esvaziar nossos estoques.**"
   ]
  },
  {
   "cell_type": "markdown",
   "metadata": {},
   "source": [
    "### Receitas por plataforma dos ultimos 5 anos: plataformas em queda  e plataformas em ascenção."
   ]
  },
  {
   "cell_type": "code",
   "execution_count": 22,
   "metadata": {},
   "outputs": [
    {
     "data": {
      "text/html": [
       "<div>\n",
       "<style scoped>\n",
       "    .dataframe tbody tr th:only-of-type {\n",
       "        vertical-align: middle;\n",
       "    }\n",
       "\n",
       "    .dataframe tbody tr th {\n",
       "        vertical-align: top;\n",
       "    }\n",
       "\n",
       "    .dataframe thead th {\n",
       "        text-align: right;\n",
       "    }\n",
       "</style>\n",
       "<table border=\"1\" class=\"dataframe\">\n",
       "  <thead>\n",
       "    <tr style=\"text-align: right;\">\n",
       "      <th></th>\n",
       "      <th>year_of_release</th>\n",
       "      <th>platform</th>\n",
       "      <th>total_sales</th>\n",
       "    </tr>\n",
       "  </thead>\n",
       "  <tbody>\n",
       "    <tr>\n",
       "      <th>0</th>\n",
       "      <td>2015</td>\n",
       "      <td>PSP</td>\n",
       "      <td>0.12</td>\n",
       "    </tr>\n",
       "    <tr>\n",
       "      <th>1</th>\n",
       "      <td>2016</td>\n",
       "      <td>Wii</td>\n",
       "      <td>0.18</td>\n",
       "    </tr>\n",
       "    <tr>\n",
       "      <th>2</th>\n",
       "      <td>2014</td>\n",
       "      <td>PSP</td>\n",
       "      <td>0.24</td>\n",
       "    </tr>\n",
       "    <tr>\n",
       "      <th>3</th>\n",
       "      <td>2015</td>\n",
       "      <td>Wii</td>\n",
       "      <td>1.14</td>\n",
       "    </tr>\n",
       "    <tr>\n",
       "      <th>4</th>\n",
       "      <td>2016</td>\n",
       "      <td>X360</td>\n",
       "      <td>1.52</td>\n",
       "    </tr>\n",
       "    <tr>\n",
       "      <th>5</th>\n",
       "      <td>2013</td>\n",
       "      <td>DS</td>\n",
       "      <td>1.54</td>\n",
       "    </tr>\n",
       "    <tr>\n",
       "      <th>6</th>\n",
       "      <td>2013</td>\n",
       "      <td>PSP</td>\n",
       "      <td>3.14</td>\n",
       "    </tr>\n",
       "    <tr>\n",
       "      <th>7</th>\n",
       "      <td>2016</td>\n",
       "      <td>PS3</td>\n",
       "      <td>3.60</td>\n",
       "    </tr>\n",
       "    <tr>\n",
       "      <th>8</th>\n",
       "      <td>2014</td>\n",
       "      <td>Wii</td>\n",
       "      <td>3.75</td>\n",
       "    </tr>\n",
       "    <tr>\n",
       "      <th>9</th>\n",
       "      <td>2016</td>\n",
       "      <td>PSV</td>\n",
       "      <td>4.25</td>\n",
       "    </tr>\n",
       "    <tr>\n",
       "      <th>10</th>\n",
       "      <td>2016</td>\n",
       "      <td>WiiU</td>\n",
       "      <td>4.60</td>\n",
       "    </tr>\n",
       "    <tr>\n",
       "      <th>11</th>\n",
       "      <td>2016</td>\n",
       "      <td>PC</td>\n",
       "      <td>5.25</td>\n",
       "    </tr>\n",
       "    <tr>\n",
       "      <th>12</th>\n",
       "      <td>2015</td>\n",
       "      <td>PSV</td>\n",
       "      <td>6.25</td>\n",
       "    </tr>\n",
       "    <tr>\n",
       "      <th>13</th>\n",
       "      <td>2015</td>\n",
       "      <td>PC</td>\n",
       "      <td>8.52</td>\n",
       "    </tr>\n",
       "    <tr>\n",
       "      <th>14</th>\n",
       "      <td>2013</td>\n",
       "      <td>Wii</td>\n",
       "      <td>8.59</td>\n",
       "    </tr>\n",
       "    <tr>\n",
       "      <th>15</th>\n",
       "      <td>2013</td>\n",
       "      <td>PSV</td>\n",
       "      <td>10.59</td>\n",
       "    </tr>\n",
       "    <tr>\n",
       "      <th>16</th>\n",
       "      <td>2014</td>\n",
       "      <td>PSV</td>\n",
       "      <td>11.90</td>\n",
       "    </tr>\n",
       "    <tr>\n",
       "      <th>17</th>\n",
       "      <td>2015</td>\n",
       "      <td>X360</td>\n",
       "      <td>11.96</td>\n",
       "    </tr>\n",
       "    <tr>\n",
       "      <th>18</th>\n",
       "      <td>2013</td>\n",
       "      <td>PC</td>\n",
       "      <td>12.38</td>\n",
       "    </tr>\n",
       "    <tr>\n",
       "      <th>19</th>\n",
       "      <td>2014</td>\n",
       "      <td>PC</td>\n",
       "      <td>13.28</td>\n",
       "    </tr>\n",
       "    <tr>\n",
       "      <th>20</th>\n",
       "      <td>2016</td>\n",
       "      <td>3DS</td>\n",
       "      <td>15.14</td>\n",
       "    </tr>\n",
       "    <tr>\n",
       "      <th>21</th>\n",
       "      <td>2015</td>\n",
       "      <td>WiiU</td>\n",
       "      <td>16.35</td>\n",
       "    </tr>\n",
       "    <tr>\n",
       "      <th>22</th>\n",
       "      <td>2015</td>\n",
       "      <td>PS3</td>\n",
       "      <td>16.82</td>\n",
       "    </tr>\n",
       "    <tr>\n",
       "      <th>23</th>\n",
       "      <td>2013</td>\n",
       "      <td>XOne</td>\n",
       "      <td>18.96</td>\n",
       "    </tr>\n",
       "    <tr>\n",
       "      <th>24</th>\n",
       "      <td>2013</td>\n",
       "      <td>WiiU</td>\n",
       "      <td>21.65</td>\n",
       "    </tr>\n",
       "    <tr>\n",
       "      <th>25</th>\n",
       "      <td>2014</td>\n",
       "      <td>WiiU</td>\n",
       "      <td>22.03</td>\n",
       "    </tr>\n",
       "    <tr>\n",
       "      <th>26</th>\n",
       "      <td>2013</td>\n",
       "      <td>PS4</td>\n",
       "      <td>25.99</td>\n",
       "    </tr>\n",
       "    <tr>\n",
       "      <th>27</th>\n",
       "      <td>2016</td>\n",
       "      <td>XOne</td>\n",
       "      <td>26.15</td>\n",
       "    </tr>\n",
       "    <tr>\n",
       "      <th>28</th>\n",
       "      <td>2015</td>\n",
       "      <td>3DS</td>\n",
       "      <td>27.78</td>\n",
       "    </tr>\n",
       "    <tr>\n",
       "      <th>29</th>\n",
       "      <td>2014</td>\n",
       "      <td>X360</td>\n",
       "      <td>34.74</td>\n",
       "    </tr>\n",
       "    <tr>\n",
       "      <th>30</th>\n",
       "      <td>2014</td>\n",
       "      <td>3DS</td>\n",
       "      <td>43.76</td>\n",
       "    </tr>\n",
       "    <tr>\n",
       "      <th>31</th>\n",
       "      <td>2014</td>\n",
       "      <td>PS3</td>\n",
       "      <td>47.76</td>\n",
       "    </tr>\n",
       "    <tr>\n",
       "      <th>32</th>\n",
       "      <td>2014</td>\n",
       "      <td>XOne</td>\n",
       "      <td>54.07</td>\n",
       "    </tr>\n",
       "    <tr>\n",
       "      <th>33</th>\n",
       "      <td>2013</td>\n",
       "      <td>3DS</td>\n",
       "      <td>56.57</td>\n",
       "    </tr>\n",
       "    <tr>\n",
       "      <th>34</th>\n",
       "      <td>2015</td>\n",
       "      <td>XOne</td>\n",
       "      <td>60.14</td>\n",
       "    </tr>\n",
       "    <tr>\n",
       "      <th>35</th>\n",
       "      <td>2016</td>\n",
       "      <td>PS4</td>\n",
       "      <td>69.25</td>\n",
       "    </tr>\n",
       "    <tr>\n",
       "      <th>36</th>\n",
       "      <td>2013</td>\n",
       "      <td>X360</td>\n",
       "      <td>88.58</td>\n",
       "    </tr>\n",
       "    <tr>\n",
       "      <th>37</th>\n",
       "      <td>2014</td>\n",
       "      <td>PS4</td>\n",
       "      <td>100.00</td>\n",
       "    </tr>\n",
       "    <tr>\n",
       "      <th>38</th>\n",
       "      <td>2013</td>\n",
       "      <td>PS3</td>\n",
       "      <td>113.25</td>\n",
       "    </tr>\n",
       "    <tr>\n",
       "      <th>39</th>\n",
       "      <td>2015</td>\n",
       "      <td>PS4</td>\n",
       "      <td>118.90</td>\n",
       "    </tr>\n",
       "  </tbody>\n",
       "</table>\n",
       "</div>"
      ],
      "text/plain": [
       "    year_of_release platform  total_sales\n",
       "0              2015      PSP         0.12\n",
       "1              2016      Wii         0.18\n",
       "2              2014      PSP         0.24\n",
       "3              2015      Wii         1.14\n",
       "4              2016     X360         1.52\n",
       "5              2013       DS         1.54\n",
       "6              2013      PSP         3.14\n",
       "7              2016      PS3         3.60\n",
       "8              2014      Wii         3.75\n",
       "9              2016      PSV         4.25\n",
       "10             2016     WiiU         4.60\n",
       "11             2016       PC         5.25\n",
       "12             2015      PSV         6.25\n",
       "13             2015       PC         8.52\n",
       "14             2013      Wii         8.59\n",
       "15             2013      PSV        10.59\n",
       "16             2014      PSV        11.90\n",
       "17             2015     X360        11.96\n",
       "18             2013       PC        12.38\n",
       "19             2014       PC        13.28\n",
       "20             2016      3DS        15.14\n",
       "21             2015     WiiU        16.35\n",
       "22             2015      PS3        16.82\n",
       "23             2013     XOne        18.96\n",
       "24             2013     WiiU        21.65\n",
       "25             2014     WiiU        22.03\n",
       "26             2013      PS4        25.99\n",
       "27             2016     XOne        26.15\n",
       "28             2015      3DS        27.78\n",
       "29             2014     X360        34.74\n",
       "30             2014      3DS        43.76\n",
       "31             2014      PS3        47.76\n",
       "32             2014     XOne        54.07\n",
       "33             2013      3DS        56.57\n",
       "34             2015     XOne        60.14\n",
       "35             2016      PS4        69.25\n",
       "36             2013     X360        88.58\n",
       "37             2014      PS4       100.00\n",
       "38             2013      PS3       113.25\n",
       "39             2015      PS4       118.90"
      ]
     },
     "execution_count": 22,
     "metadata": {},
     "output_type": "execute_result"
    }
   ],
   "source": [
    "df['year_of_release']\n",
    "ultimo_ano = df['year_of_release'].max()\n",
    "\n",
    "x = (df['year_of_release'] >= 2013) & (df['year_of_release'] <= ultimo_ano)\n",
    "df_intervalo = df[x]\n",
    "x = df_intervalo.groupby(['year_of_release','platform' ])['total_sales'].sum().sort_values().reset_index()\n",
    "x = x.sort_values(by='total_sales')\n",
    "x"
   ]
  },
  {
   "cell_type": "markdown",
   "metadata": {},
   "source": [
    "<s>\n",
    "    <div class=\"alert alert-block alert-danger\">\n",
    "<b> Comentário do revisor: </b> <a class=\"tocSkip\"></a>\n",
    "O ideal é recortar >= 2013 pois dados de preferências precisam ser recentes. Toda a análise deste ponto em diante deve utilizar a base recortada\n",
    "\n",
    "</div>"
   ]
  },
  {
   "cell_type": "code",
   "execution_count": 23,
   "metadata": {},
   "outputs": [
    {
     "data": {
      "image/png": "[encoded data removed]",
      "text/plain": [
       "<Figure size 1200x600 with 1 Axes>"
      ]
     },
     "metadata": {},
     "output_type": "display_data"
    }
   ],
   "source": [
    "plt.figure(figsize=(12, 6))\n",
    "sns.barplot(x='year_of_release', y='total_sales', hue='platform', data=x)\n",
    "plt.xlabel('Ano de Lançamento')\n",
    "plt.ylabel('Total de Vendas')\n",
    "plt.title('Vendas Totais por Plataforma por Ano')\n",
    "plt.xticks(rotation=45)\n",
    "plt.tight_layout()\n",
    "plt.show()\n",
    "# as cores estão na ordem da legenda(PSP: cor mais a esquerda / PS4: cor mais a direita )"
   ]
  },
  {
   "cell_type": "markdown",
   "metadata": {},
   "source": [
    "\n",
    "**Neste grafico vemos o inicio do ciclo das plataformas PS4 e XOne com apenas 3 anos de lançamento com suas receitas ainda em ascençao.**\n",
    "\n",
    "**(No ano de 2016 temos receitas menores por conta dos dados estarem incompletos)**\n",
    "\n",
    "**Isso nos mostra quais plataformas estão sendo mais comercializadas atualmente e quais devemos focar nossas vendas para os próximos anos. Além de saber quais estão sendo descontinuadas para nos desfazermos dos jogos o mais rapidamente através de promoçoes e descontos.**"
   ]
  },
  {
   "cell_type": "markdown",
   "metadata": {},
   "source": [
    "### Correlação entre avaliações e receita"
   ]
  },
  {
   "cell_type": "code",
   "execution_count": 24,
   "metadata": {
    "scrolled": true
   },
   "outputs": [
    {
     "name": "stdout",
     "output_type": "stream",
     "text": [
      "  platform  critic_score  user_score  total_sales\n",
      "0      PS2          24.0         4.1         0.10\n",
      "1      PS2          27.0         3.8         0.08\n",
      "2      PS2          30.0         4.2         0.02\n",
      "3      PS2          30.0         5.1         0.29\n",
      "4      PS2          31.0         5.0         0.05\n",
      "5      PS2          32.0         4.0         0.03\n",
      "6      PS2          32.0         4.6         1.23\n",
      "7      PS2          32.0         4.8         0.16\n",
      "8      PS2          33.0         4.5         0.08\n",
      "9      PS2          34.0         3.2         0.07\n"
     ]
    },
    {
     "data": {
      "text/html": [
       "<div>\n",
       "<style scoped>\n",
       "    .dataframe tbody tr th:only-of-type {\n",
       "        vertical-align: middle;\n",
       "    }\n",
       "\n",
       "    .dataframe tbody tr th {\n",
       "        vertical-align: top;\n",
       "    }\n",
       "\n",
       "    .dataframe thead th {\n",
       "        text-align: right;\n",
       "    }\n",
       "</style>\n",
       "<table border=\"1\" class=\"dataframe\">\n",
       "  <thead>\n",
       "    <tr style=\"text-align: right;\">\n",
       "      <th></th>\n",
       "      <th>platform</th>\n",
       "      <th>critic_score</th>\n",
       "      <th>user_score</th>\n",
       "      <th>total_sales</th>\n",
       "    </tr>\n",
       "  </thead>\n",
       "  <tbody>\n",
       "    <tr>\n",
       "      <th>782</th>\n",
       "      <td>PS2</td>\n",
       "      <td>94.0</td>\n",
       "      <td>8.9</td>\n",
       "      <td>4.45</td>\n",
       "    </tr>\n",
       "    <tr>\n",
       "      <th>783</th>\n",
       "      <td>PS2</td>\n",
       "      <td>94.0</td>\n",
       "      <td>9.3</td>\n",
       "      <td>0.56</td>\n",
       "    </tr>\n",
       "    <tr>\n",
       "      <th>784</th>\n",
       "      <td>PS2</td>\n",
       "      <td>95.0</td>\n",
       "      <td>7.7</td>\n",
       "      <td>4.14</td>\n",
       "    </tr>\n",
       "    <tr>\n",
       "      <th>785</th>\n",
       "      <td>PS2</td>\n",
       "      <td>95.0</td>\n",
       "      <td>8.4</td>\n",
       "      <td>14.97</td>\n",
       "    </tr>\n",
       "    <tr>\n",
       "      <th>786</th>\n",
       "      <td>PS2</td>\n",
       "      <td>95.0</td>\n",
       "      <td>8.7</td>\n",
       "      <td>16.15</td>\n",
       "    </tr>\n",
       "    <tr>\n",
       "      <th>787</th>\n",
       "      <td>PS2</td>\n",
       "      <td>95.0</td>\n",
       "      <td>9.0</td>\n",
       "      <td>20.81</td>\n",
       "    </tr>\n",
       "    <tr>\n",
       "      <th>788</th>\n",
       "      <td>PS2</td>\n",
       "      <td>96.0</td>\n",
       "      <td>8.7</td>\n",
       "      <td>6.05</td>\n",
       "    </tr>\n",
       "    <tr>\n",
       "      <th>789</th>\n",
       "      <td>PS2</td>\n",
       "      <td>96.0</td>\n",
       "      <td>8.9</td>\n",
       "      <td>3.62</td>\n",
       "    </tr>\n",
       "    <tr>\n",
       "      <th>790</th>\n",
       "      <td>PS2</td>\n",
       "      <td>97.0</td>\n",
       "      <td>7.5</td>\n",
       "      <td>4.42</td>\n",
       "    </tr>\n",
       "    <tr>\n",
       "      <th>791</th>\n",
       "      <td>PS2</td>\n",
       "      <td>97.0</td>\n",
       "      <td>8.5</td>\n",
       "      <td>13.10</td>\n",
       "    </tr>\n",
       "  </tbody>\n",
       "</table>\n",
       "</div>"
      ],
      "text/plain": [
       "    platform  critic_score  user_score  total_sales\n",
       "782      PS2          94.0         8.9         4.45\n",
       "783      PS2          94.0         9.3         0.56\n",
       "784      PS2          95.0         7.7         4.14\n",
       "785      PS2          95.0         8.4        14.97\n",
       "786      PS2          95.0         8.7        16.15\n",
       "787      PS2          95.0         9.0        20.81\n",
       "788      PS2          96.0         8.7         6.05\n",
       "789      PS2          96.0         8.9         3.62\n",
       "790      PS2          97.0         7.5         4.42\n",
       "791      PS2          97.0         8.5        13.10"
      ]
     },
     "execution_count": 24,
     "metadata": {},
     "output_type": "execute_result"
    }
   ],
   "source": [
    "x =df[df['platform']== 'PS2']\n",
    "x1 =x.groupby(['platform','critic_score','user_score'] )['total_sales'].sum().reset_index()\n",
    "print(x1.head(10))\n",
    "x1.tail(10)"
   ]
  },
  {
   "cell_type": "markdown",
   "metadata": {},
   "source": [
    "**Uma simples amostra das maiores e menores notas dos jogos nos dá uma noçao de que as receitas relativas a cada plataforma parecem depender das notas dos criticos e usuarios. Iremos confirmar se isto é veradeiro nos gráficos seguintes.**\n",
    "\n",
    "**Pegamos uma plataforma com ciclo de vendas finalizado para uma melhor comparação dos dados**"
   ]
  },
  {
   "cell_type": "markdown",
   "metadata": {},
   "source": [
    "<div class=\"alert alert-block alert-danger\">\n",
    "<b> Comentário do revisor: </b> <a class=\"tocSkip\"></a>\n",
    "\n",
    "Correlação precisa plotar scatter plot e avaliar correlação de pearson corr()\n",
    "</div>"
   ]
  },
  {
   "cell_type": "markdown",
   "metadata": {},
   "source": [
    "<div class=\"alert alert-block alert-info\">\n",
    "<b>Os graficos de dispersão foram plotados abaixo, não são estes os graficos para correlacionar os dados? Este código acima foi apenas uma pré análise para ter uma noção se faz sentido fazer os gráficos, pois caso tivesse diferença nenhuma nao valeria a pena fazer os graficos certo?</b> <a class=\"tocSkip\"></a>\n",
    "</div>"
   ]
  },
  {
   "cell_type": "markdown",
   "metadata": {},
   "source": [
    "<div class=\"alert alert-block alert-warning\">\n",
    "<b> Comentário do revisor v2: </b> <a class=\"tocSkip\"></a>\n",
    "\n",
    "A questão é que com uma tabela com amostra de tamanho 10 é quase impossível ver correlação. Precisamos plotar ou medir a correlação de Pearson</div>"
   ]
  },
  {
   "cell_type": "markdown",
   "metadata": {},
   "source": [
    "### Comparação da correlação entre notas de usuários e criticos, qual correlação indica maiores vendas?"
   ]
  },
  {
   "cell_type": "code",
   "execution_count": 25,
   "metadata": {},
   "outputs": [
    {
     "data": {
      "image/png": "[encoded data removed]",
      "text/plain": [
       "<Figure size 1000x600 with 1 Axes>"
      ]
     },
     "metadata": {},
     "output_type": "display_data"
    },
    {
     "name": "stdout",
     "output_type": "stream",
     "text": [
      "Coeficiente de Correlação: 0.2638020669044232\n"
     ]
    }
   ],
   "source": [
    "plt.figure(figsize=(10, 6))\n",
    "sns.regplot(x='user_score', y='total_sales', data=x1, scatter_kws={'alpha':0.6}, line_kws={'color':'red'})\n",
    "plt.title('Relação entre user score e Total Sales(PS2)')\n",
    "plt.xlabel('user_score')\n",
    "plt.ylabel('Total Sales')\n",
    "plt.show()\n",
    "\n",
    "# Calcula o coeficiente de correlação entre 'user_score' e 'total_sales'\n",
    "correlation = x1['user_score'].corr(x1['total_sales'])\n",
    "print(\"Coeficiente de Correlação:\", correlation)"
   ]
  },
  {
   "cell_type": "code",
   "execution_count": 26,
   "metadata": {},
   "outputs": [
    {
     "data": {
      "image/png": "[encoded data removed]",
      "text/plain": [
       "<Figure size 1000x600 with 1 Axes>"
      ]
     },
     "metadata": {},
     "output_type": "display_data"
    },
    {
     "name": "stdout",
     "output_type": "stream",
     "text": [
      "Coeficiente de Correlação: 0.4642945708871288\n"
     ]
    }
   ],
   "source": [
    "plt.figure(figsize=(10, 6))\n",
    "sns.regplot(x='critic_score', y='total_sales', data=x1, scatter_kws={'alpha':0.6}, line_kws={'color':'red'})\n",
    "plt.title('Relação entre critic score e Total Sales(PS2)')\n",
    "plt.xlabel('critic_score')\n",
    "plt.ylabel('Total Sales')\n",
    "plt.show()\n",
    "\n",
    "# Calcula o coeficiente de correlação entre 'critc_score' e 'total_sales'\n",
    "correlation = x1['critic_score'].corr(x1['total_sales'])\n",
    "print(\"Coeficiente de Correlação:\", correlation)"
   ]
  },
  {
   "cell_type": "markdown",
   "metadata": {},
   "source": [
    "\n",
    "**Comparamos os gráfico de avaliações dos usuarios e criticos. Vemos uma correlaçao positiva media com relaçao as notas de criticos e uma positiva fraca nas notas de usuarios.**\n",
    "\n",
    "**Considerando que a correlaçao positiva entre as notas dos criticos e a receita é maior do que a correlaçao do usuario e a receita, nossas estrategias de vendas devem se basear nas notas dos criticos.** "
   ]
  },
  {
   "cell_type": "markdown",
   "metadata": {},
   "source": [
    "### Comparação da correlação em uma segunda plataforma"
   ]
  },
  {
   "cell_type": "code",
   "execution_count": 27,
   "metadata": {},
   "outputs": [],
   "source": [
    "x =df[df['platform']== 'Wii']\n",
    "x2 =x.groupby(['platform','critic_score','user_score'] )['total_sales'].sum().reset_index()"
   ]
  },
  {
   "cell_type": "code",
   "execution_count": 28,
   "metadata": {},
   "outputs": [
    {
     "data": {
      "image/png": "[encoded data removed]",
      "text/plain": [
       "<Figure size 1000x600 with 1 Axes>"
      ]
     },
     "metadata": {},
     "output_type": "display_data"
    },
    {
     "name": "stdout",
     "output_type": "stream",
     "text": [
      "Coeficiente de Correlação: 0.14424106193929787\n"
     ]
    }
   ],
   "source": [
    "plt.figure(figsize=(10, 6))\n",
    "sns.regplot(x='user_score', y='total_sales', data=x2, scatter_kws={'alpha':0.6}, line_kws={'color':'red'})\n",
    "plt.title('Relação entre user score e Total Sales (Wii)')\n",
    "plt.xlabel('user_score')\n",
    "plt.ylabel('Total Sales')\n",
    "plt.show()\n",
    "\n",
    "# Calcula o coeficiente de correlação entre 'user_score' e 'total_sales'\n",
    "correlation = x2['user_score'].corr(x2['total_sales'])\n",
    "print(\"Coeficiente de Correlação:\", correlation)"
   ]
  },
  {
   "cell_type": "code",
   "execution_count": 29,
   "metadata": {
    "scrolled": true
   },
   "outputs": [
    {
     "data": {
      "image/png": "[encoded data removed]",
      "text/plain": [
       "<Figure size 1000x600 with 1 Axes>"
      ]
     },
     "metadata": {},
     "output_type": "display_data"
    },
    {
     "name": "stdout",
     "output_type": "stream",
     "text": [
      "Coeficiente de Correlação: 0.20242581047497896\n"
     ]
    }
   ],
   "source": [
    "x =df[df['platform']== 'Wii']\n",
    "x2 =x.groupby(['platform','critic_score','user_score'] )['total_sales'].sum().reset_index()\n",
    "\n",
    "\n",
    "plt.figure(figsize=(10, 6))\n",
    "sns.regplot(x='critic_score', y='total_sales', data=x2, scatter_kws={'alpha':0.6}, line_kws={'color':'red'})\n",
    "plt.title('Relação entre critic score e Total Sales(Wii)')\n",
    "plt.xlabel('critic_score')\n",
    "plt.ylabel('Total Sales')\n",
    "plt.show()\n",
    "\n",
    "# Calcula o coeficiente de correlação entre 'critc_score' e 'total_sales'\n",
    "correlation = x2['critic_score'].corr(x2['total_sales'])\n",
    "print(\"Coeficiente de Correlação:\", correlation)"
   ]
  },
  {
   "cell_type": "markdown",
   "metadata": {},
   "source": [
    "**Comparando as correlações em uma segunda plataforma temos as 2 correlaçoes positivas fracas desta vez, porém a correlaçao das notas dos criticos ainda foi maior que a dos usuarios em quase 50%, o que nos assegura de que devemos nos basear nas notas dos criticos ao inves das notas dos usuarios.**"
   ]
  },
  {
   "cell_type": "markdown",
   "metadata": {},
   "source": [
    "### Vendas por genero de jogos"
   ]
  },
  {
   "cell_type": "code",
   "execution_count": 30,
   "metadata": {},
   "outputs": [],
   "source": [
    "x = df.groupby('genre')['total_sales'].sum().sort_values().reset_index()"
   ]
  },
  {
   "cell_type": "code",
   "execution_count": 31,
   "metadata": {},
   "outputs": [
    {
     "data": {
      "image/png": "[encoded data removed]",
      "text/plain": [
       "<Figure size 1200x600 with 1 Axes>"
      ]
     },
     "metadata": {},
     "output_type": "display_data"
    }
   ],
   "source": [
    "plt.figure(figsize=(12, 6))\n",
    "sns.barplot(x='genre', y='total_sales', data=x, palette='viridis')\n",
    "plt.xlabel('Gênero')\n",
    "plt.ylabel('Total de Vendas')\n",
    "plt.title('Total de Vendas por Gênero')\n",
    "plt.xticks(rotation=45)  \n",
    "plt.tight_layout()\n",
    "plt.show()"
   ]
  },
  {
   "cell_type": "markdown",
   "metadata": {},
   "source": [
    "**Este é outro fator que influencia bastante as vendas, vemos claramente que as pessoas compram muito mais jogos de ação, esportes e tiro do que os outros.**"
   ]
  },
  {
   "cell_type": "markdown",
   "metadata": {},
   "source": [
    "### Vendas por região."
   ]
  },
  {
   "cell_type": "code",
   "execution_count": 32,
   "metadata": {},
   "outputs": [],
   "source": [
    "x = df[df['year_of_release'] > 2012]"
   ]
  },
  {
   "cell_type": "code",
   "execution_count": 33,
   "metadata": {},
   "outputs": [
    {
     "name": "stdout",
     "output_type": "stream",
     "text": [
      "   platform  na_sales\n",
      "0       3DS     38.20\n",
      "3       PS3     63.50\n",
      "9      X360     81.66\n",
      "10     XOne     93.12\n",
      "4       PS4    108.74\n",
      "\n",
      "\n",
      "   platform  eu_sales\n",
      "0       3DS     30.96\n",
      "9      X360     42.52\n",
      "10     XOne     51.59\n",
      "3       PS3     67.81\n",
      "4       PS4    141.09\n",
      "\n",
      "\n",
      "  platform  jp_sales\n",
      "8     WiiU     10.88\n",
      "4      PS4     15.96\n",
      "6      PSV     18.59\n",
      "3      PS3     23.35\n",
      "0      3DS     67.81\n"
     ]
    }
   ],
   "source": [
    "\n",
    "\n",
    "xna = x.groupby('platform')['na_sales'].sum().reset_index()\n",
    "print(xna.sort_values(by='na_sales').tail())\n",
    "print('\\n')\n",
    "xeu = x.groupby('platform')['eu_sales'].sum().reset_index()\n",
    "print(xeu.sort_values(by='eu_sales').tail())\n",
    "print('\\n')\n",
    "xjp = x.groupby('platform')['jp_sales'].sum().reset_index()\n",
    "print(xjp.sort_values(by='jp_sales').tail())"
   ]
  },
  {
   "cell_type": "code",
   "execution_count": 34,
   "metadata": {},
   "outputs": [
    {
     "name": "stdout",
     "output_type": "stream",
     "text": [
      "           genre  na_sales\n",
      "3           Misc     27.49\n",
      "7   Role-Playing     46.40\n",
      "10        Sports     65.27\n",
      "8        Shooter    109.74\n",
      "0         Action    126.05\n",
      "\n",
      "\n",
      "           genre  eu_sales\n",
      "6         Racing     20.19\n",
      "7   Role-Playing     36.97\n",
      "10        Sports     60.52\n",
      "8        Shooter     87.86\n",
      "0         Action    118.13\n",
      "\n",
      "\n",
      "          genre  jp_sales\n",
      "8       Shooter      6.61\n",
      "2      Fighting      7.65\n",
      "3          Misc      9.20\n",
      "0        Action     40.49\n",
      "7  Role-Playing     51.04\n"
     ]
    }
   ],
   "source": [
    "\n",
    "xna = x.groupby('genre')['na_sales'].sum().reset_index()\n",
    "print(xna.sort_values(by='na_sales').tail())\n",
    "print('\\n')\n",
    "xeu = x.groupby('genre')['eu_sales'].sum().reset_index()\n",
    "print(xeu.sort_values(by='eu_sales').tail())\n",
    "print('\\n')\n",
    "xjp = x.groupby('genre')['jp_sales'].sum().reset_index()\n",
    "print(xjp.sort_values(by='jp_sales').tail())"
   ]
  },
  {
   "cell_type": "code",
   "execution_count": 35,
   "metadata": {},
   "outputs": [
    {
     "name": "stdout",
     "output_type": "stream",
     "text": [
      "  rating  na_sales\n",
      "3      T     49.79\n",
      "1   E10+     54.24\n",
      "0      E     79.05\n",
      "2      M    165.21\n",
      "\n",
      "\n",
      "  rating  eu_sales\n",
      "3      T     41.95\n",
      "1   E10+     42.69\n",
      "0      E     83.36\n",
      "2      M    145.32\n",
      "\n",
      "\n",
      "  rating  jp_sales\n",
      "1   E10+      5.89\n",
      "2      M     14.11\n",
      "0      E     15.14\n",
      "3      T     20.59\n"
     ]
    }
   ],
   "source": [
    "\n",
    "xna = x.groupby('rating')['na_sales'].sum().reset_index()\n",
    "print(xna.sort_values(by='na_sales').tail())\n",
    "print('\\n')\n",
    "xeu = x.groupby('rating')['eu_sales'].sum().reset_index()\n",
    "print(xeu.sort_values(by='eu_sales').tail())\n",
    "print('\\n')\n",
    "xjp = x.groupby('rating')['jp_sales'].sum().reset_index()\n",
    "print(xjp.sort_values(by='jp_sales').tail())"
   ]
  },
  {
   "cell_type": "markdown",
   "metadata": {},
   "source": [
    "# Perfil dos usuários : maior potencial de venda por região."
   ]
  },
  {
   "cell_type": "markdown",
   "metadata": {},
   "source": [
    "\n",
    "**USUARIOS NA ESTÃO JOGANDO: (PS4, XOne , X360) / (AÇÃO, TIRO)               / CLASS 'M'**\n",
    "\n",
    "**USUARIOS EU ESTÃO JOGANDO: PS4                / (AÇÃO, TIRO)               / CLASS 'M'**\n",
    "\n",
    "**USUARIOS JP ESTÃO JOGANDO: 3DS                / (AÇÃO , RPG(Role-Playing)) / CLASS 'T' e 'E'** "
   ]
  },
  {
   "cell_type": "markdown",
   "metadata": {},
   "source": [
    "\n",
    "**Na regiao 'NA' temos receitas parecidas em 3 plataformas (PS4, XOne , X360), por elas terem numeros relativamente próximos acho válido manter as 3 como preferencia dessa região. A mesma ideia se aplica para o gênero, mas não para a classificação.**\n",
    "\n",
    "**Na região 'EU' a preferencia é por PS4 com seu numero de receita isolado dos outros na primeira posição. Ação e tiro são os 2 generos mais escolhidos e a classificação 'M' na primeira posição.**\n",
    "\n",
    "**Na região 'JP' temos um perfil un pouco diferente dos outros 2. Preferem jogar no 3DS, jogos de ação e RPG e as classificações 'T' e 'E' sao as mais escolhidas.**\n"
   ]
  },
  {
   "cell_type": "markdown",
   "metadata": {},
   "source": [
    "## Teste de hipoteses"
   ]
  },
  {
   "cell_type": "markdown",
   "metadata": {},
   "source": [
    "### Hipotese 1: As classificações médias dos usuários das plataformas Xbox One e PC são as mesmas"
   ]
  },
  {
   "cell_type": "markdown",
   "metadata": {},
   "source": [
    "\n",
    "**Hipótese nula (H0): As médias das classificações dos usuários de Xbox One e PC são diferentes.**\n",
    "\n",
    "**Hipótese alternativa (H1): As médias das classificações dos usuários de Xbox One e PC são as mesmas.**"
   ]
  },
  {
   "cell_type": "code",
   "execution_count": 36,
   "metadata": {},
   "outputs": [
    {
     "name": "stdout",
     "output_type": "stream",
     "text": [
      "Variância XOne: 1.9069968429360695\n",
      "Variância PC: 2.3407871413372066\n",
      "\n",
      "\n",
      "Valor p : 4.935072360183574e-06\n",
      "Rejeitamos a hipotese nula H0 com mais de 95% de confiança\n"
     ]
    }
   ],
   "source": [
    "h_xone = df[df['platform'] == 'XOne']['user_score'].dropna()\n",
    "\n",
    "h_pc = df[df['platform']== 'PC']['user_score'].dropna()\n",
    "\n",
    "variancia_xone = h_xone.var()\n",
    "variancia_pc = h_pc.var()\n",
    "\n",
    "print(f\"Variância XOne: {variancia_xone}\")\n",
    "print(f\"Variância PC: {variancia_pc}\")\n",
    "print('\\n')\n",
    "\n",
    "alpha = 0.05\n",
    "\n",
    "result = st.ttest_ind(h_xone, h_pc , equal_var = False)\n",
    "print('Valor p :' , result.pvalue)\n",
    "\n",
    "if result.pvalue < alpha:\n",
    "    print('Rejeitamos a hipotese nula H0 com mais de 95% de confiança')\n",
    "    \n",
    "else:\n",
    "    print('Não podemos rejeitar a hipotese nule H0')"
   ]
  },
  {
   "cell_type": "markdown",
   "metadata": {},
   "source": [
    "<s>\n",
    "    <div class=\"alert alert-block alert-danger\">\n",
    "<b> Comentário do revisor: </b> <a class=\"tocSkip\"></a>\n",
    "\n",
    "Precisamos seguir estes passos para o teste de hipótese:\n",
    "\n",
    "- Avaliar se as variâncias são iguais, por exemplo, calculando a variância da amostra e vermificando a igualdade\n",
    "- Em seguida, ajustar equal_var=True no teste T se as variâncias forem iguais, senão usamos equal_var=False no teste T.\n",
    "- Avaliar o resultado do teste T\n",
    "\n",
    "</div>"
   ]
  },
  {
   "cell_type": "markdown",
   "metadata": {},
   "source": [
    "**Temos amostras de populações diferentes para comparar e variâncias bem diferentes, neste caso usamos o ttest independente com argumento de variância = False.**"
   ]
  },
  {
   "cell_type": "markdown",
   "metadata": {},
   "source": [
    "### Hipotese 2: classificações médias de usuários para os gêneros Action (ação) e Sports (esportes) são diferentes."
   ]
  },
  {
   "cell_type": "markdown",
   "metadata": {},
   "source": [
    "\n",
    "**Hipótese Nula (H0):  classificações médias dos usuários para os gêneros Action e Sports são iguais.**\n",
    "\n",
    "**Hipótese alternativa (H1):  classificações médias de usuários para os gêneros Action (ação) e Sports (esportes) são diferentes.**"
   ]
  },
  {
   "cell_type": "code",
   "execution_count": 37,
   "metadata": {},
   "outputs": [
    {
     "name": "stdout",
     "output_type": "stream",
     "text": [
      "Variância Action: 2.031746898033205\n",
      "Variância Sports: 2.5965147189730033\n",
      "\n",
      "\n",
      "valor p:  0.11483818791498286\n",
      "Não podemos rejeitar a hipotese nule H0\n"
     ]
    }
   ],
   "source": [
    "h_action = df[df['genre'] == 'Action']['user_score'].dropna()\n",
    "\n",
    "h_sports = df[df['genre']== 'Sports']['user_score'].dropna()\n",
    "\n",
    "variancia_action = h_action.var()\n",
    "variancia_sports = h_sports.var()\n",
    "\n",
    "print(f\"Variância Action: {variancia_action}\")\n",
    "print(f\"Variância Sports: {variancia_sports}\")\n",
    "print('\\n')\n",
    "\n",
    "alpha = 0.05\n",
    "\n",
    "result = st.ttest_ind(h_action , h_sports, equal_var = False)\n",
    "print('valor p: ' , result.pvalue)\n",
    "\n",
    "if result.pvalue < alpha:\n",
    "    print('Rejeitamos a hipotese nula H0 com mais de 95% de confiança')\n",
    "    \n",
    "else:\n",
    "    print('Não podemos rejeitar a hipotese nule H0')"
   ]
  },
  {
   "cell_type": "markdown",
   "metadata": {},
   "source": [
    "<s>\n",
    "    <div class=\"alert alert-block alert-danger\">\n",
    "<b> Comentário do revisor: </b> <a class=\"tocSkip\"></a>\n",
    "\n",
    "Precisamos seguir estes passos para o teste de hipótese:\n",
    "\n",
    "- Avaliar se as variâncias são iguais, por exemplo, calculando a variância da amostra e vermificando a igualdade\n",
    "- Em seguida, ajustar equal_var=True no teste T se as variâncias forem iguais, senão usamos equal_var=False no teste T.\n",
    "- Avaliar o resultado do teste T\n",
    "\n",
    "</div>"
   ]
  },
  {
   "cell_type": "markdown",
   "metadata": {},
   "source": [
    "**O mesmo critério do teste anterior se aplica aqui, amostras populacionais diferentes com variâncias diferentes usamos ttest independente e argumento de variância = False.**"
   ]
  },
  {
   "cell_type": "markdown",
   "metadata": {},
   "source": [
    "<div class=\"alert alert-block alert-success\">\n",
    "<b> Comentário do revisor v2: </b> <a class=\"tocSkip\"></a>\n",
    "\n",
    "correto. uma alternativa é usar o teste Levene. Porém, isso é mais avançado.\n",
    "\n",
    "</div>"
   ]
  },
  {
   "cell_type": "markdown",
   "metadata": {},
   "source": [
    "/"
   ]
  },
  {
   "cell_type": "markdown",
   "metadata": {},
   "source": [
    "## conclusão"
   ]
  },
  {
   "cell_type": "markdown",
   "metadata": {},
   "source": [
    "\n",
    "**PERCORREMOS ANÁLISES IMPORTANTES NO PROJETO:**\n",
    "\n",
    "**-MENOS JOGOS SENDO LANÇADOS AO LONGO DOS ANOS, RECEITA DESSE MERCADO EM TENDENCIA DE QUEDA.(UMA POSSÍVEL EXPLICAÇÃO SEJA QUE COM O PASSAR DOS ANOS OS JOGOS ONLINE TEM GANHADO MAIS POPULARIDADE, ISSO PRENDE OS JOGADORES EM APENAS 1 JOGO POR MUITO TEMPO)**\n",
    "\n",
    "**-PLATAFORMAS POSSUEM UM CICLO DE VENDAS APROXIMADO DE 10 ANOS, ISSO NOS AJUDA A ANTECIPAR O QUE FAZER COM NOSSOS ESTOQUES.**\n",
    "\n",
    "**-TENDENCIAS DE VENDAS EM ASCENÇÃO DAS PLATAFORMAS PS4 E XOne PARA OS PRÓXIMOS ANOS.** \n",
    "\n",
    "**-GENEROS DE AÇAO , ESPORTES E TIRO SÃO OS 3 GENEROS MAIS RENTAVEIS.**\n",
    "\n",
    "**-AS NOTAS DOS CRITICOS SÃO MUITO MAIS RELEVANTES DO QUE AS NOTAS DE USUARIOS PARA BASEAR ESTRATEGIAS DE VENDAS POIS A RECEITA É MAIOR DE ACORDO COM NOTAS MAIORES DOS CRITICOS MOSTRANDO UMA MELHOR CORRELAÇAO.**\n",
    "\n",
    "**-TEMOS PERFIS DIFERENTES DE COMPRAS DE USUARIOS DEPENDENDO DAS REGIÕES.**\n",
    "\n"
   ]
  },
  {
   "cell_type": "markdown",
   "metadata": {},
   "source": [
    "  **APESAR DESTE SETOR DE LANÇAMENTO DE JOGOS ESTAR EM TENDÊNCIA DE QUEDA, AINDA PODEMOS DIVERSIFICAR NOSSA RECEITA ATRAVÉS DELE SE FOCARMOS AS VENDAS NOS CASOS ESPECÍFICOS COM MAIORES POTENCIAIS OS QUAIS EVIDENCIAMOS AO LONGO DESTE PROJETO.**"
   ]
  }
 ],
 "metadata": {
  "ExecuteTimeLog": [
   {
    "duration": 156,
    "start_time": "2025-02-03T17:35:04.819Z"
   },
   {
    "duration": 12,
    "start_time": "2025-02-03T17:35:22.455Z"
   },
   {
    "duration": 286,
    "start_time": "2025-02-03T17:35:25.788Z"
   },
   {
    "duration": 278,
    "start_time": "2025-02-03T17:35:33.301Z"
   },
   {
    "duration": 37,
    "start_time": "2025-02-03T17:35:33.581Z"
   },
   {
    "duration": 15,
    "start_time": "2025-02-03T17:35:33.620Z"
   },
   {
    "duration": 221,
    "start_time": "2025-02-03T17:39:19.640Z"
   },
   {
    "duration": 1809,
    "start_time": "2025-02-03T17:39:55.696Z"
   },
   {
    "duration": 58,
    "start_time": "2025-02-03T17:40:16.832Z"
   },
   {
    "duration": 22,
    "start_time": "2025-02-03T17:40:58.819Z"
   },
   {
    "duration": 22,
    "start_time": "2025-02-03T17:43:59.987Z"
   },
   {
    "duration": 11,
    "start_time": "2025-02-03T17:44:05.003Z"
   },
   {
    "duration": 10,
    "start_time": "2025-02-03T17:44:22.510Z"
   },
   {
    "duration": 541,
    "start_time": "2025-02-03T17:50:57.884Z"
   },
   {
    "duration": 4,
    "start_time": "2025-02-03T17:51:28.411Z"
   },
   {
    "duration": 7,
    "start_time": "2025-02-03T18:01:57.928Z"
   },
   {
    "duration": 6,
    "start_time": "2025-02-03T18:02:03.392Z"
   },
   {
    "duration": 11,
    "start_time": "2025-02-03T18:02:12.035Z"
   },
   {
    "duration": 6,
    "start_time": "2025-02-03T18:02:18.971Z"
   },
   {
    "duration": 4,
    "start_time": "2025-02-03T18:02:47.920Z"
   },
   {
    "duration": 5,
    "start_time": "2025-02-03T18:02:50.556Z"
   },
   {
    "duration": 11,
    "start_time": "2025-02-03T18:03:49.201Z"
   },
   {
    "duration": 6,
    "start_time": "2025-02-03T18:04:14.980Z"
   },
   {
    "duration": 11,
    "start_time": "2025-02-03T18:04:17.928Z"
   },
   {
    "duration": 48,
    "start_time": "2025-02-03T18:31:12.957Z"
   },
   {
    "duration": 12,
    "start_time": "2025-02-03T18:32:56.174Z"
   },
   {
    "duration": 13,
    "start_time": "2025-02-03T18:33:50.055Z"
   },
   {
    "duration": 4,
    "start_time": "2025-02-03T18:33:55.018Z"
   },
   {
    "duration": 12,
    "start_time": "2025-02-03T18:34:07.472Z"
   },
   {
    "duration": 10,
    "start_time": "2025-02-03T18:34:14.480Z"
   },
   {
    "duration": 7,
    "start_time": "2025-02-03T18:35:29.446Z"
   },
   {
    "duration": 14,
    "start_time": "2025-02-03T18:41:34.614Z"
   },
   {
    "duration": 48,
    "start_time": "2025-02-03T18:42:13.265Z"
   },
   {
    "duration": 12,
    "start_time": "2025-02-03T18:55:38.553Z"
   },
   {
    "duration": 19,
    "start_time": "2025-02-03T18:56:04.396Z"
   },
   {
    "duration": 20,
    "start_time": "2025-02-03T18:56:11.803Z"
   },
   {
    "duration": 11,
    "start_time": "2025-02-03T18:57:32.773Z"
   },
   {
    "duration": 11,
    "start_time": "2025-02-03T18:57:42.183Z"
   },
   {
    "duration": 11,
    "start_time": "2025-02-03T18:58:09.528Z"
   },
   {
    "duration": 39,
    "start_time": "2025-02-03T18:59:01.498Z"
   },
   {
    "duration": 4,
    "start_time": "2025-02-03T18:59:12.689Z"
   },
   {
    "duration": 49,
    "start_time": "2025-02-03T18:59:15.069Z"
   },
   {
    "duration": 10,
    "start_time": "2025-02-03T18:59:26.202Z"
   },
   {
    "duration": 5,
    "start_time": "2025-02-03T19:01:25.007Z"
   },
   {
    "duration": 5,
    "start_time": "2025-02-03T19:02:14.470Z"
   },
   {
    "duration": 6,
    "start_time": "2025-02-03T19:02:20.529Z"
   },
   {
    "duration": 7,
    "start_time": "2025-02-03T19:02:56.429Z"
   },
   {
    "duration": 6,
    "start_time": "2025-02-03T19:03:05.488Z"
   },
   {
    "duration": 6,
    "start_time": "2025-02-03T19:03:18.894Z"
   },
   {
    "duration": 18,
    "start_time": "2025-02-03T19:03:34.471Z"
   },
   {
    "duration": 17,
    "start_time": "2025-02-03T19:03:40.926Z"
   },
   {
    "duration": 16,
    "start_time": "2025-02-03T19:04:01.449Z"
   },
   {
    "duration": 19,
    "start_time": "2025-02-03T19:04:09.471Z"
   },
   {
    "duration": 478,
    "start_time": "2025-02-03T19:05:47.127Z"
   },
   {
    "duration": 17,
    "start_time": "2025-02-03T19:05:55.372Z"
   },
   {
    "duration": 17,
    "start_time": "2025-02-03T19:06:36.869Z"
   },
   {
    "duration": 16,
    "start_time": "2025-02-03T19:09:20.681Z"
   },
   {
    "duration": 15,
    "start_time": "2025-02-03T19:10:08.257Z"
   },
   {
    "duration": 8,
    "start_time": "2025-02-03T19:12:03.386Z"
   },
   {
    "duration": 18,
    "start_time": "2025-02-03T19:12:07.664Z"
   },
   {
    "duration": 8,
    "start_time": "2025-02-03T19:12:37.703Z"
   },
   {
    "duration": 13,
    "start_time": "2025-02-03T19:12:40.599Z"
   },
   {
    "duration": 402,
    "start_time": "2025-02-03T19:18:36.195Z"
   },
   {
    "duration": 63,
    "start_time": "2025-02-03T19:18:36.599Z"
   },
   {
    "duration": 12,
    "start_time": "2025-02-03T19:18:36.664Z"
   },
   {
    "duration": 11,
    "start_time": "2025-02-03T19:18:36.677Z"
   },
   {
    "duration": 3,
    "start_time": "2025-02-03T19:18:36.690Z"
   },
   {
    "duration": 11,
    "start_time": "2025-02-03T19:18:36.709Z"
   },
   {
    "duration": 36,
    "start_time": "2025-02-03T19:18:36.721Z"
   },
   {
    "duration": 11,
    "start_time": "2025-02-03T19:18:36.758Z"
   },
   {
    "duration": 39,
    "start_time": "2025-02-03T19:18:36.771Z"
   },
   {
    "duration": 17,
    "start_time": "2025-02-03T19:18:36.812Z"
   },
   {
    "duration": 4,
    "start_time": "2025-02-03T19:18:36.831Z"
   },
   {
    "duration": 6,
    "start_time": "2025-02-03T19:18:36.837Z"
   },
   {
    "duration": 5,
    "start_time": "2025-02-03T19:18:36.845Z"
   },
   {
    "duration": 3,
    "start_time": "2025-02-03T19:18:36.853Z"
   },
   {
    "duration": 10,
    "start_time": "2025-02-03T19:18:51.693Z"
   },
   {
    "duration": 10,
    "start_time": "2025-02-03T19:19:59.060Z"
   },
   {
    "duration": 5,
    "start_time": "2025-02-03T19:47:56.720Z"
   },
   {
    "duration": 120,
    "start_time": "2025-02-03T19:55:29.339Z"
   },
   {
    "duration": 3,
    "start_time": "2025-02-03T19:55:45.604Z"
   },
   {
    "duration": 12,
    "start_time": "2025-02-03T19:55:52.360Z"
   },
   {
    "duration": 9,
    "start_time": "2025-02-03T19:56:15.325Z"
   },
   {
    "duration": 6,
    "start_time": "2025-02-03T19:56:30.137Z"
   },
   {
    "duration": 5,
    "start_time": "2025-02-03T19:56:47.343Z"
   },
   {
    "duration": 8,
    "start_time": "2025-02-03T19:58:20.923Z"
   },
   {
    "duration": 397,
    "start_time": "2025-02-03T19:58:32.177Z"
   },
   {
    "duration": 52,
    "start_time": "2025-02-03T19:58:32.576Z"
   },
   {
    "duration": 13,
    "start_time": "2025-02-03T19:58:32.630Z"
   },
   {
    "duration": 10,
    "start_time": "2025-02-03T19:58:32.645Z"
   },
   {
    "duration": 2,
    "start_time": "2025-02-03T19:58:32.657Z"
   },
   {
    "duration": 10,
    "start_time": "2025-02-03T19:58:32.661Z"
   },
   {
    "duration": 62,
    "start_time": "2025-02-03T19:58:32.672Z"
   },
   {
    "duration": 11,
    "start_time": "2025-02-03T19:58:32.735Z"
   },
   {
    "duration": 19,
    "start_time": "2025-02-03T19:58:32.747Z"
   },
   {
    "duration": 16,
    "start_time": "2025-02-03T19:58:32.769Z"
   },
   {
    "duration": 24,
    "start_time": "2025-02-03T19:58:32.786Z"
   },
   {
    "duration": 4,
    "start_time": "2025-02-03T19:58:32.812Z"
   },
   {
    "duration": 6,
    "start_time": "2025-02-03T19:58:32.817Z"
   },
   {
    "duration": 6,
    "start_time": "2025-02-03T19:58:32.825Z"
   },
   {
    "duration": 4,
    "start_time": "2025-02-03T19:58:32.833Z"
   },
   {
    "duration": 11,
    "start_time": "2025-02-03T19:58:32.838Z"
   },
   {
    "duration": 10,
    "start_time": "2025-02-03T19:58:32.851Z"
   },
   {
    "duration": 99,
    "start_time": "2025-02-03T20:00:01.694Z"
   },
   {
    "duration": 6,
    "start_time": "2025-02-03T20:01:01.290Z"
   },
   {
    "duration": 12,
    "start_time": "2025-02-03T20:01:08.162Z"
   },
   {
    "duration": 9,
    "start_time": "2025-02-03T20:01:42.544Z"
   },
   {
    "duration": 8,
    "start_time": "2025-02-03T20:01:48.934Z"
   },
   {
    "duration": 6,
    "start_time": "2025-02-03T20:01:58.359Z"
   },
   {
    "duration": 10,
    "start_time": "2025-02-03T20:02:08.203Z"
   },
   {
    "duration": 106,
    "start_time": "2025-02-03T20:09:24.307Z"
   },
   {
    "duration": 4,
    "start_time": "2025-02-03T20:09:55.868Z"
   },
   {
    "duration": 17,
    "start_time": "2025-02-03T20:09:59.716Z"
   },
   {
    "duration": 11,
    "start_time": "2025-02-03T20:10:19.431Z"
   },
   {
    "duration": 4,
    "start_time": "2025-02-03T20:24:07.157Z"
   },
   {
    "duration": 3,
    "start_time": "2025-02-03T20:31:01.269Z"
   },
   {
    "duration": 16,
    "start_time": "2025-02-03T20:31:19.944Z"
   },
   {
    "duration": 20,
    "start_time": "2025-02-03T20:32:25.548Z"
   },
   {
    "duration": 8,
    "start_time": "2025-02-03T20:32:40.870Z"
   },
   {
    "duration": 5,
    "start_time": "2025-02-03T20:33:42.012Z"
   },
   {
    "duration": 11,
    "start_time": "2025-02-03T20:36:02.582Z"
   },
   {
    "duration": 10,
    "start_time": "2025-02-03T20:36:41.487Z"
   },
   {
    "duration": 10,
    "start_time": "2025-02-03T20:38:21.218Z"
   },
   {
    "duration": 10,
    "start_time": "2025-02-03T20:38:42.544Z"
   },
   {
    "duration": 10,
    "start_time": "2025-02-03T20:38:46.820Z"
   },
   {
    "duration": 10,
    "start_time": "2025-02-03T20:40:15.655Z"
   },
   {
    "duration": 6,
    "start_time": "2025-02-03T20:41:37.796Z"
   },
   {
    "duration": 6,
    "start_time": "2025-02-03T20:41:57.932Z"
   },
   {
    "duration": 9,
    "start_time": "2025-02-03T20:43:43.580Z"
   },
   {
    "duration": 396,
    "start_time": "2025-02-03T20:47:59.088Z"
   },
   {
    "duration": 105,
    "start_time": "2025-02-03T20:48:16.418Z"
   },
   {
    "duration": 6,
    "start_time": "2025-02-03T20:50:44.806Z"
   },
   {
    "duration": 18,
    "start_time": "2025-02-03T20:50:55.930Z"
   },
   {
    "duration": 132,
    "start_time": "2025-02-03T20:51:22.322Z"
   },
   {
    "duration": 17,
    "start_time": "2025-02-03T20:51:35.907Z"
   },
   {
    "duration": 13,
    "start_time": "2025-02-03T20:53:54.879Z"
   },
   {
    "duration": 6,
    "start_time": "2025-02-03T20:53:59.191Z"
   },
   {
    "duration": 21,
    "start_time": "2025-02-03T20:54:01.455Z"
   },
   {
    "duration": 19,
    "start_time": "2025-02-03T20:54:37.327Z"
   },
   {
    "duration": 20,
    "start_time": "2025-02-03T20:54:43.348Z"
   },
   {
    "duration": 18,
    "start_time": "2025-02-03T23:22:50.630Z"
   },
   {
    "duration": 13,
    "start_time": "2025-02-03T23:23:53.025Z"
   },
   {
    "duration": 14,
    "start_time": "2025-02-03T23:24:24.871Z"
   },
   {
    "duration": 14,
    "start_time": "2025-02-03T23:24:58.340Z"
   },
   {
    "duration": 16,
    "start_time": "2025-02-03T23:26:47.447Z"
   },
   {
    "duration": 14,
    "start_time": "2025-02-03T23:27:13.010Z"
   },
   {
    "duration": 5,
    "start_time": "2025-02-03T23:37:44.356Z"
   },
   {
    "duration": 15,
    "start_time": "2025-02-04T00:11:36.882Z"
   },
   {
    "duration": 22,
    "start_time": "2025-02-04T00:11:57.433Z"
   },
   {
    "duration": 23,
    "start_time": "2025-02-04T00:18:16.656Z"
   },
   {
    "duration": 17,
    "start_time": "2025-02-04T00:18:56.566Z"
   },
   {
    "duration": 24,
    "start_time": "2025-02-04T00:19:03.400Z"
   },
   {
    "duration": 5,
    "start_time": "2025-02-04T00:32:16.800Z"
   },
   {
    "duration": 9,
    "start_time": "2025-02-04T00:32:26.725Z"
   },
   {
    "duration": 20,
    "start_time": "2025-02-04T00:38:33.383Z"
   },
   {
    "duration": 55,
    "start_time": "2025-02-04T00:39:23.448Z"
   },
   {
    "duration": 16,
    "start_time": "2025-02-04T00:39:38.620Z"
   },
   {
    "duration": 203,
    "start_time": "2025-02-04T00:42:27.957Z"
   },
   {
    "duration": 387,
    "start_time": "2025-02-04T00:44:29.548Z"
   },
   {
    "duration": 368,
    "start_time": "2025-02-04T00:44:47.259Z"
   },
   {
    "duration": 630,
    "start_time": "2025-02-04T00:45:02.188Z"
   },
   {
    "duration": 401,
    "start_time": "2025-02-04T00:45:22.986Z"
   },
   {
    "duration": 21,
    "start_time": "2025-02-04T00:47:50.836Z"
   },
   {
    "duration": 459,
    "start_time": "2025-02-04T00:47:55.863Z"
   },
   {
    "duration": 206,
    "start_time": "2025-02-04T00:48:02.230Z"
   },
   {
    "duration": 1530,
    "start_time": "2025-02-04T00:49:18.255Z"
   },
   {
    "duration": 1657,
    "start_time": "2025-02-04T00:49:42.590Z"
   },
   {
    "duration": 658,
    "start_time": "2025-02-04T00:51:14.076Z"
   },
   {
    "duration": 369,
    "start_time": "2025-02-04T01:12:43.298Z"
   },
   {
    "duration": 353,
    "start_time": "2025-02-04T01:15:36.501Z"
   },
   {
    "duration": 377,
    "start_time": "2025-02-04T01:15:49.180Z"
   },
   {
    "duration": 308,
    "start_time": "2025-02-04T01:19:51.611Z"
   },
   {
    "duration": 334,
    "start_time": "2025-02-04T01:20:06.482Z"
   },
   {
    "duration": 328,
    "start_time": "2025-02-04T01:20:40.852Z"
   },
   {
    "duration": 318,
    "start_time": "2025-02-04T01:20:45.207Z"
   },
   {
    "duration": 329,
    "start_time": "2025-02-04T01:20:49.813Z"
   },
   {
    "duration": 325,
    "start_time": "2025-02-04T01:21:57.230Z"
   },
   {
    "duration": 254,
    "start_time": "2025-02-04T01:24:44.525Z"
   },
   {
    "duration": 222,
    "start_time": "2025-02-04T01:25:07.836Z"
   },
   {
    "duration": 315,
    "start_time": "2025-02-04T01:25:37.436Z"
   },
   {
    "duration": 11,
    "start_time": "2025-02-04T01:26:07.261Z"
   },
   {
    "duration": 15,
    "start_time": "2025-02-04T01:26:09.720Z"
   },
   {
    "duration": 327,
    "start_time": "2025-02-04T01:26:14.568Z"
   },
   {
    "duration": 320,
    "start_time": "2025-02-04T01:57:37.765Z"
   },
   {
    "duration": 510,
    "start_time": "2025-02-04T01:58:23.907Z"
   },
   {
    "duration": 312,
    "start_time": "2025-02-04T01:59:26.566Z"
   },
   {
    "duration": 347,
    "start_time": "2025-02-04T02:00:02.006Z"
   },
   {
    "duration": 15,
    "start_time": "2025-02-04T02:00:38.694Z"
   },
   {
    "duration": 10,
    "start_time": "2025-02-04T02:00:42.944Z"
   },
   {
    "duration": 16,
    "start_time": "2025-02-04T02:00:44.718Z"
   },
   {
    "duration": 14,
    "start_time": "2025-02-04T02:04:25.401Z"
   },
   {
    "duration": 19,
    "start_time": "2025-02-04T02:04:39.849Z"
   },
   {
    "duration": 18,
    "start_time": "2025-02-04T02:05:04.635Z"
   },
   {
    "duration": 341,
    "start_time": "2025-02-04T02:17:24.702Z"
   },
   {
    "duration": 5,
    "start_time": "2025-02-04T02:24:45.643Z"
   },
   {
    "duration": 19,
    "start_time": "2025-02-04T02:24:47.782Z"
   },
   {
    "duration": 433,
    "start_time": "2025-02-04T02:26:30.868Z"
   },
   {
    "duration": 383,
    "start_time": "2025-02-04T02:30:03.034Z"
   },
   {
    "duration": 385,
    "start_time": "2025-02-04T02:32:42.354Z"
   },
   {
    "duration": 16,
    "start_time": "2025-02-04T02:35:33.414Z"
   },
   {
    "duration": 7,
    "start_time": "2025-02-04T02:36:09.926Z"
   },
   {
    "duration": 4,
    "start_time": "2025-02-04T02:37:27.302Z"
   },
   {
    "duration": 201,
    "start_time": "2025-02-04T02:37:37.266Z"
   },
   {
    "duration": 45,
    "start_time": "2025-02-04T02:37:48.371Z"
   },
   {
    "duration": 12,
    "start_time": "2025-02-04T02:38:31.170Z"
   },
   {
    "duration": 11,
    "start_time": "2025-02-04T02:40:15.940Z"
   },
   {
    "duration": 12,
    "start_time": "2025-02-04T02:40:40.812Z"
   },
   {
    "duration": 13,
    "start_time": "2025-02-04T02:41:49.604Z"
   },
   {
    "duration": 10,
    "start_time": "2025-02-04T02:48:41.206Z"
   },
   {
    "duration": 12,
    "start_time": "2025-02-04T02:52:21.996Z"
   },
   {
    "duration": 23,
    "start_time": "2025-02-04T02:55:09.941Z"
   },
   {
    "duration": 20,
    "start_time": "2025-02-04T02:56:49.735Z"
   },
   {
    "duration": 16,
    "start_time": "2025-02-04T02:56:58.631Z"
   },
   {
    "duration": 12,
    "start_time": "2025-02-04T02:59:50.005Z"
   },
   {
    "duration": 155,
    "start_time": "2025-02-04T10:42:23.480Z"
   },
   {
    "duration": 2560,
    "start_time": "2025-02-04T10:42:30.001Z"
   },
   {
    "duration": 36,
    "start_time": "2025-02-04T10:42:32.563Z"
   },
   {
    "duration": 15,
    "start_time": "2025-02-04T10:42:32.600Z"
   },
   {
    "duration": 12,
    "start_time": "2025-02-04T10:42:32.617Z"
   },
   {
    "duration": 36,
    "start_time": "2025-02-04T10:42:32.633Z"
   },
   {
    "duration": 3,
    "start_time": "2025-02-04T10:42:32.671Z"
   },
   {
    "duration": 38,
    "start_time": "2025-02-04T10:42:32.675Z"
   },
   {
    "duration": 20,
    "start_time": "2025-02-04T10:42:32.715Z"
   },
   {
    "duration": 15,
    "start_time": "2025-02-04T10:42:32.737Z"
   },
   {
    "duration": 4,
    "start_time": "2025-02-04T10:42:32.754Z"
   },
   {
    "duration": 6,
    "start_time": "2025-02-04T10:42:32.760Z"
   },
   {
    "duration": 54,
    "start_time": "2025-02-04T10:42:32.767Z"
   },
   {
    "duration": 7,
    "start_time": "2025-02-04T10:42:32.823Z"
   },
   {
    "duration": 5,
    "start_time": "2025-02-04T10:42:32.833Z"
   },
   {
    "duration": 4,
    "start_time": "2025-02-04T10:42:32.839Z"
   },
   {
    "duration": 4,
    "start_time": "2025-02-04T10:42:32.845Z"
   },
   {
    "duration": 18,
    "start_time": "2025-02-04T10:42:32.850Z"
   },
   {
    "duration": 41,
    "start_time": "2025-02-04T10:42:32.870Z"
   },
   {
    "duration": 10,
    "start_time": "2025-02-04T10:42:32.915Z"
   },
   {
    "duration": 12,
    "start_time": "2025-02-04T10:42:32.926Z"
   },
   {
    "duration": 402,
    "start_time": "2025-02-04T10:42:32.939Z"
   },
   {
    "duration": 9,
    "start_time": "2025-02-04T10:42:33.343Z"
   },
   {
    "duration": 128,
    "start_time": "2025-02-04T10:42:33.353Z"
   },
   {
    "duration": 10,
    "start_time": "2025-02-04T10:42:49.976Z"
   },
   {
    "duration": 5,
    "start_time": "2025-02-04T10:43:07.327Z"
   },
   {
    "duration": 668,
    "start_time": "2025-02-04T10:46:26.355Z"
   },
   {
    "duration": 159,
    "start_time": "2025-02-04T10:49:34.215Z"
   },
   {
    "duration": 19,
    "start_time": "2025-02-04T10:50:29.636Z"
   },
   {
    "duration": 15,
    "start_time": "2025-02-04T10:50:38.499Z"
   },
   {
    "duration": 664,
    "start_time": "2025-02-04T10:50:45.979Z"
   },
   {
    "duration": 667,
    "start_time": "2025-02-04T10:52:41.373Z"
   },
   {
    "duration": 653,
    "start_time": "2025-02-04T10:52:57.682Z"
   },
   {
    "duration": 735,
    "start_time": "2025-02-04T11:04:38.508Z"
   },
   {
    "duration": 647,
    "start_time": "2025-02-04T11:04:50.692Z"
   },
   {
    "duration": 108,
    "start_time": "2025-02-04T11:13:51.750Z"
   },
   {
    "duration": 5,
    "start_time": "2025-02-04T11:14:14.825Z"
   },
   {
    "duration": 19,
    "start_time": "2025-02-04T11:14:20.410Z"
   },
   {
    "duration": 10,
    "start_time": "2025-02-04T11:17:09.986Z"
   },
   {
    "duration": 13,
    "start_time": "2025-02-04T11:17:17.749Z"
   },
   {
    "duration": 15,
    "start_time": "2025-02-04T11:18:25.370Z"
   },
   {
    "duration": 19,
    "start_time": "2025-02-04T11:18:52.803Z"
   },
   {
    "duration": 18,
    "start_time": "2025-02-04T11:19:55.018Z"
   },
   {
    "duration": 12,
    "start_time": "2025-02-04T11:20:19.052Z"
   },
   {
    "duration": 14,
    "start_time": "2025-02-04T11:20:42.232Z"
   },
   {
    "duration": 16,
    "start_time": "2025-02-04T11:27:14.359Z"
   },
   {
    "duration": 469,
    "start_time": "2025-02-04T11:31:34.523Z"
   },
   {
    "duration": 3,
    "start_time": "2025-02-04T11:33:27.125Z"
   },
   {
    "duration": 15,
    "start_time": "2025-02-04T11:33:35.150Z"
   },
   {
    "duration": 15,
    "start_time": "2025-02-04T11:33:51.812Z"
   },
   {
    "duration": 303,
    "start_time": "2025-02-04T11:35:40.978Z"
   },
   {
    "duration": 232,
    "start_time": "2025-02-04T11:37:43.505Z"
   },
   {
    "duration": 225,
    "start_time": "2025-02-04T11:39:57.252Z"
   },
   {
    "duration": 11,
    "start_time": "2025-02-04T11:58:15.790Z"
   },
   {
    "duration": 9,
    "start_time": "2025-02-04T11:58:56.743Z"
   },
   {
    "duration": 9,
    "start_time": "2025-02-04T11:59:16.370Z"
   },
   {
    "duration": 17,
    "start_time": "2025-02-04T12:01:13.228Z"
   },
   {
    "duration": 5,
    "start_time": "2025-02-04T12:01:44.451Z"
   },
   {
    "duration": 304,
    "start_time": "2025-02-04T12:01:47.765Z"
   },
   {
    "duration": 17,
    "start_time": "2025-02-04T12:08:31.864Z"
   },
   {
    "duration": 212,
    "start_time": "2025-02-04T12:09:31.712Z"
   },
   {
    "duration": 204,
    "start_time": "2025-02-04T12:11:17.978Z"
   },
   {
    "duration": 209,
    "start_time": "2025-02-04T12:25:05.034Z"
   },
   {
    "duration": 10,
    "start_time": "2025-02-04T12:27:06.321Z"
   },
   {
    "duration": 10,
    "start_time": "2025-02-04T12:30:26.594Z"
   },
   {
    "duration": 11,
    "start_time": "2025-02-04T12:30:43.869Z"
   },
   {
    "duration": 9,
    "start_time": "2025-02-04T12:31:10.782Z"
   },
   {
    "duration": 11,
    "start_time": "2025-02-04T12:32:19.193Z"
   },
   {
    "duration": 5,
    "start_time": "2025-02-04T12:32:26.700Z"
   },
   {
    "duration": 11,
    "start_time": "2025-02-04T12:32:40.074Z"
   },
   {
    "duration": 26,
    "start_time": "2025-02-04T12:33:16.189Z"
   },
   {
    "duration": 15,
    "start_time": "2025-02-04T12:33:44.750Z"
   },
   {
    "duration": 370,
    "start_time": "2025-02-04T12:35:15.567Z"
   },
   {
    "duration": 14,
    "start_time": "2025-02-04T12:35:30.479Z"
   },
   {
    "duration": 16,
    "start_time": "2025-02-04T12:37:32.770Z"
   },
   {
    "duration": 13,
    "start_time": "2025-02-04T12:44:45.971Z"
   },
   {
    "duration": 3,
    "start_time": "2025-02-04T12:45:21.426Z"
   },
   {
    "duration": 13,
    "start_time": "2025-02-04T12:45:23.017Z"
   },
   {
    "duration": 12,
    "start_time": "2025-02-04T12:47:39.946Z"
   },
   {
    "duration": 14,
    "start_time": "2025-02-04T12:47:41.988Z"
   },
   {
    "duration": 2,
    "start_time": "2025-02-04T13:19:55.443Z"
   },
   {
    "duration": 11,
    "start_time": "2025-02-04T13:21:19.409Z"
   },
   {
    "duration": 6,
    "start_time": "2025-02-04T13:22:54.912Z"
   },
   {
    "duration": 9,
    "start_time": "2025-02-04T13:25:52.955Z"
   },
   {
    "duration": 8,
    "start_time": "2025-02-04T13:27:21.506Z"
   },
   {
    "duration": 9,
    "start_time": "2025-02-04T13:44:20.765Z"
   },
   {
    "duration": 8,
    "start_time": "2025-02-04T13:46:08.956Z"
   },
   {
    "duration": 8,
    "start_time": "2025-02-04T13:53:43.045Z"
   },
   {
    "duration": 4,
    "start_time": "2025-02-04T13:54:32.241Z"
   },
   {
    "duration": 18,
    "start_time": "2025-02-04T14:09:21.712Z"
   },
   {
    "duration": 11,
    "start_time": "2025-02-04T14:09:53.448Z"
   },
   {
    "duration": 12,
    "start_time": "2025-02-04T14:10:18.507Z"
   },
   {
    "duration": 14,
    "start_time": "2025-02-04T14:10:44.274Z"
   },
   {
    "duration": 10,
    "start_time": "2025-02-04T14:11:37.349Z"
   },
   {
    "duration": 7,
    "start_time": "2025-02-04T14:12:34.381Z"
   },
   {
    "duration": 11,
    "start_time": "2025-02-04T14:13:13.661Z"
   },
   {
    "duration": 2,
    "start_time": "2025-02-04T14:42:43.860Z"
   },
   {
    "duration": 821,
    "start_time": "2025-02-04T14:42:43.864Z"
   },
   {
    "duration": 24,
    "start_time": "2025-02-04T14:42:44.688Z"
   },
   {
    "duration": 15,
    "start_time": "2025-02-04T14:42:44.714Z"
   },
   {
    "duration": 11,
    "start_time": "2025-02-04T14:42:44.732Z"
   },
   {
    "duration": 36,
    "start_time": "2025-02-04T14:42:44.744Z"
   },
   {
    "duration": 3,
    "start_time": "2025-02-04T14:42:44.781Z"
   },
   {
    "duration": 31,
    "start_time": "2025-02-04T14:42:44.785Z"
   },
   {
    "duration": 19,
    "start_time": "2025-02-04T14:42:44.817Z"
   },
   {
    "duration": 16,
    "start_time": "2025-02-04T14:42:44.838Z"
   },
   {
    "duration": 4,
    "start_time": "2025-02-04T14:42:44.857Z"
   },
   {
    "duration": 5,
    "start_time": "2025-02-04T14:42:44.863Z"
   },
   {
    "duration": 56,
    "start_time": "2025-02-04T14:42:44.870Z"
   },
   {
    "duration": 8,
    "start_time": "2025-02-04T14:42:44.928Z"
   },
   {
    "duration": 6,
    "start_time": "2025-02-04T14:42:44.937Z"
   },
   {
    "duration": 4,
    "start_time": "2025-02-04T14:42:44.945Z"
   },
   {
    "duration": 5,
    "start_time": "2025-02-04T14:42:44.950Z"
   },
   {
    "duration": 49,
    "start_time": "2025-02-04T14:42:44.957Z"
   },
   {
    "duration": 12,
    "start_time": "2025-02-04T14:42:45.008Z"
   },
   {
    "duration": 8,
    "start_time": "2025-02-04T14:42:45.021Z"
   },
   {
    "duration": 11,
    "start_time": "2025-02-04T14:42:45.031Z"
   },
   {
    "duration": 402,
    "start_time": "2025-02-04T14:42:45.044Z"
   },
   {
    "duration": 16,
    "start_time": "2025-02-04T14:42:45.447Z"
   },
   {
    "duration": 683,
    "start_time": "2025-02-04T14:42:45.465Z"
   },
   {
    "duration": 16,
    "start_time": "2025-02-04T14:42:46.150Z"
   },
   {
    "duration": 253,
    "start_time": "2025-02-04T14:42:46.167Z"
   },
   {
    "duration": 237,
    "start_time": "2025-02-04T14:42:46.422Z"
   },
   {
    "duration": 8,
    "start_time": "2025-02-04T14:42:46.661Z"
   },
   {
    "duration": 233,
    "start_time": "2025-02-04T14:42:46.673Z"
   },
   {
    "duration": 222,
    "start_time": "2025-02-04T14:42:46.907Z"
   },
   {
    "duration": 5,
    "start_time": "2025-02-04T14:42:47.131Z"
   },
   {
    "duration": 289,
    "start_time": "2025-02-04T14:42:47.138Z"
   },
   {
    "duration": 4,
    "start_time": "2025-02-04T14:42:47.429Z"
   },
   {
    "duration": 12,
    "start_time": "2025-02-04T14:42:47.435Z"
   },
   {
    "duration": 12,
    "start_time": "2025-02-04T14:42:47.449Z"
   },
   {
    "duration": 12,
    "start_time": "2025-02-04T14:42:47.462Z"
   },
   {
    "duration": 36,
    "start_time": "2025-02-04T14:42:47.475Z"
   },
   {
    "duration": 8,
    "start_time": "2025-02-04T14:42:47.512Z"
   },
   {
    "duration": 12,
    "start_time": "2025-02-04T14:45:30.442Z"
   },
   {
    "duration": 12,
    "start_time": "2025-02-04T14:45:43.434Z"
   },
   {
    "duration": 9,
    "start_time": "2025-02-04T14:46:15.236Z"
   },
   {
    "duration": 10,
    "start_time": "2025-02-04T14:46:29.689Z"
   },
   {
    "duration": 10,
    "start_time": "2025-02-04T14:47:12.744Z"
   },
   {
    "duration": 4,
    "start_time": "2025-02-04T14:51:48.327Z"
   },
   {
    "duration": 830,
    "start_time": "2025-02-04T14:51:48.332Z"
   },
   {
    "duration": 25,
    "start_time": "2025-02-04T14:51:49.164Z"
   },
   {
    "duration": 22,
    "start_time": "2025-02-04T14:51:49.191Z"
   },
   {
    "duration": 11,
    "start_time": "2025-02-04T14:51:49.215Z"
   },
   {
    "duration": 36,
    "start_time": "2025-02-04T14:51:49.227Z"
   },
   {
    "duration": 3,
    "start_time": "2025-02-04T14:51:49.265Z"
   },
   {
    "duration": 36,
    "start_time": "2025-02-04T14:51:49.270Z"
   },
   {
    "duration": 18,
    "start_time": "2025-02-04T14:51:49.309Z"
   },
   {
    "duration": 16,
    "start_time": "2025-02-04T14:51:49.329Z"
   },
   {
    "duration": 4,
    "start_time": "2025-02-04T14:51:49.346Z"
   },
   {
    "duration": 5,
    "start_time": "2025-02-04T14:51:49.352Z"
   },
   {
    "duration": 51,
    "start_time": "2025-02-04T14:51:49.359Z"
   },
   {
    "duration": 7,
    "start_time": "2025-02-04T14:51:49.411Z"
   },
   {
    "duration": 5,
    "start_time": "2025-02-04T14:51:49.420Z"
   },
   {
    "duration": 4,
    "start_time": "2025-02-04T14:51:49.427Z"
   },
   {
    "duration": 5,
    "start_time": "2025-02-04T14:51:49.432Z"
   },
   {
    "duration": 17,
    "start_time": "2025-02-04T14:51:49.438Z"
   },
   {
    "duration": 10,
    "start_time": "2025-02-04T14:51:49.456Z"
   },
   {
    "duration": 41,
    "start_time": "2025-02-04T14:51:49.467Z"
   },
   {
    "duration": 14,
    "start_time": "2025-02-04T14:51:49.510Z"
   },
   {
    "duration": 332,
    "start_time": "2025-02-04T14:51:49.526Z"
   },
   {
    "duration": 14,
    "start_time": "2025-02-04T14:51:49.860Z"
   },
   {
    "duration": 692,
    "start_time": "2025-02-04T14:51:49.878Z"
   },
   {
    "duration": 16,
    "start_time": "2025-02-04T14:51:50.572Z"
   },
   {
    "duration": 237,
    "start_time": "2025-02-04T14:51:50.590Z"
   },
   {
    "duration": 217,
    "start_time": "2025-02-04T14:51:50.830Z"
   },
   {
    "duration": 8,
    "start_time": "2025-02-04T14:51:51.049Z"
   },
   {
    "duration": 216,
    "start_time": "2025-02-04T14:51:51.059Z"
   },
   {
    "duration": 215,
    "start_time": "2025-02-04T14:51:51.277Z"
   },
   {
    "duration": 14,
    "start_time": "2025-02-04T14:51:51.493Z"
   },
   {
    "duration": 293,
    "start_time": "2025-02-04T14:51:51.508Z"
   },
   {
    "duration": 5,
    "start_time": "2025-02-04T14:51:51.805Z"
   },
   {
    "duration": 14,
    "start_time": "2025-02-04T14:51:51.811Z"
   },
   {
    "duration": 11,
    "start_time": "2025-02-04T14:51:51.827Z"
   },
   {
    "duration": 11,
    "start_time": "2025-02-04T14:51:51.840Z"
   },
   {
    "duration": 8,
    "start_time": "2025-02-04T14:51:51.852Z"
   },
   {
    "duration": 9,
    "start_time": "2025-02-04T14:51:51.861Z"
   },
   {
    "duration": 3,
    "start_time": "2025-02-04T14:58:27.058Z"
   },
   {
    "duration": 860,
    "start_time": "2025-02-04T14:58:27.062Z"
   },
   {
    "duration": 24,
    "start_time": "2025-02-04T14:58:27.925Z"
   },
   {
    "duration": 13,
    "start_time": "2025-02-04T14:58:27.950Z"
   },
   {
    "duration": 11,
    "start_time": "2025-02-04T14:58:27.965Z"
   },
   {
    "duration": 63,
    "start_time": "2025-02-04T14:58:27.978Z"
   },
   {
    "duration": 4,
    "start_time": "2025-02-04T14:58:28.042Z"
   },
   {
    "duration": 14,
    "start_time": "2025-02-04T14:58:28.048Z"
   },
   {
    "duration": 41,
    "start_time": "2025-02-04T14:58:28.064Z"
   },
   {
    "duration": 24,
    "start_time": "2025-02-04T14:58:28.107Z"
   },
   {
    "duration": 4,
    "start_time": "2025-02-04T14:58:28.135Z"
   },
   {
    "duration": 6,
    "start_time": "2025-02-04T14:58:28.141Z"
   },
   {
    "duration": 29,
    "start_time": "2025-02-04T14:58:28.150Z"
   },
   {
    "duration": 28,
    "start_time": "2025-02-04T14:58:28.181Z"
   },
   {
    "duration": 6,
    "start_time": "2025-02-04T14:58:28.211Z"
   },
   {
    "duration": 4,
    "start_time": "2025-02-04T14:58:28.219Z"
   },
   {
    "duration": 5,
    "start_time": "2025-02-04T14:58:28.226Z"
   },
   {
    "duration": 21,
    "start_time": "2025-02-04T14:58:28.234Z"
   },
   {
    "duration": 10,
    "start_time": "2025-02-04T14:58:28.257Z"
   },
   {
    "duration": 8,
    "start_time": "2025-02-04T14:58:28.304Z"
   },
   {
    "duration": 12,
    "start_time": "2025-02-04T14:58:28.314Z"
   },
   {
    "duration": 322,
    "start_time": "2025-02-04T14:58:28.327Z"
   },
   {
    "duration": 15,
    "start_time": "2025-02-04T14:58:28.651Z"
   },
   {
    "duration": 728,
    "start_time": "2025-02-04T14:58:28.667Z"
   },
   {
    "duration": 24,
    "start_time": "2025-02-04T14:58:29.397Z"
   },
   {
    "duration": 235,
    "start_time": "2025-02-04T14:58:29.423Z"
   },
   {
    "duration": 245,
    "start_time": "2025-02-04T14:58:29.660Z"
   },
   {
    "duration": 9,
    "start_time": "2025-02-04T14:58:29.907Z"
   },
   {
    "duration": 261,
    "start_time": "2025-02-04T14:58:29.921Z"
   },
   {
    "duration": 221,
    "start_time": "2025-02-04T14:58:30.184Z"
   },
   {
    "duration": 6,
    "start_time": "2025-02-04T14:58:30.406Z"
   },
   {
    "duration": 339,
    "start_time": "2025-02-04T14:58:30.413Z"
   },
   {
    "duration": 5,
    "start_time": "2025-02-04T14:58:30.754Z"
   },
   {
    "duration": 17,
    "start_time": "2025-02-04T14:58:30.761Z"
   },
   {
    "duration": 35,
    "start_time": "2025-02-04T14:58:30.779Z"
   },
   {
    "duration": 15,
    "start_time": "2025-02-04T14:58:30.815Z"
   },
   {
    "duration": 8,
    "start_time": "2025-02-04T14:58:30.831Z"
   },
   {
    "duration": 9,
    "start_time": "2025-02-04T14:58:30.840Z"
   },
   {
    "duration": 12,
    "start_time": "2025-02-04T19:20:51.166Z"
   },
   {
    "duration": 3038,
    "start_time": "2025-02-04T19:33:25.245Z"
   },
   {
    "duration": 48,
    "start_time": "2025-02-04T19:33:28.285Z"
   },
   {
    "duration": 16,
    "start_time": "2025-02-04T19:33:28.334Z"
   },
   {
    "duration": 12,
    "start_time": "2025-02-04T19:33:28.351Z"
   },
   {
    "duration": 52,
    "start_time": "2025-02-04T19:33:28.365Z"
   },
   {
    "duration": 3,
    "start_time": "2025-02-04T19:33:28.419Z"
   },
   {
    "duration": 17,
    "start_time": "2025-02-04T19:33:28.426Z"
   },
   {
    "duration": 20,
    "start_time": "2025-02-04T19:33:28.445Z"
   },
   {
    "duration": 16,
    "start_time": "2025-02-04T19:33:28.466Z"
   },
   {
    "duration": 26,
    "start_time": "2025-02-04T19:33:28.484Z"
   },
   {
    "duration": 10,
    "start_time": "2025-02-04T19:33:28.512Z"
   },
   {
    "duration": 33,
    "start_time": "2025-02-04T19:33:28.524Z"
   },
   {
    "duration": 5,
    "start_time": "2025-02-04T19:33:28.559Z"
   },
   {
    "duration": 5,
    "start_time": "2025-02-04T19:33:28.568Z"
   },
   {
    "duration": 5,
    "start_time": "2025-02-04T19:33:28.574Z"
   },
   {
    "duration": 59,
    "start_time": "2025-02-04T19:33:28.581Z"
   },
   {
    "duration": 9,
    "start_time": "2025-02-04T19:33:28.642Z"
   },
   {
    "duration": 9,
    "start_time": "2025-02-04T19:33:28.654Z"
   },
   {
    "duration": 11,
    "start_time": "2025-02-04T19:33:28.664Z"
   },
   {
    "duration": 408,
    "start_time": "2025-02-04T19:33:28.677Z"
   },
   {
    "duration": 15,
    "start_time": "2025-02-04T19:33:29.087Z"
   },
   {
    "duration": 562,
    "start_time": "2025-02-04T19:33:29.105Z"
   },
   {
    "duration": 18,
    "start_time": "2025-02-04T19:33:29.669Z"
   },
   {
    "duration": 301,
    "start_time": "2025-02-04T19:33:29.688Z"
   },
   {
    "duration": 262,
    "start_time": "2025-02-04T19:33:29.992Z"
   },
   {
    "duration": 8,
    "start_time": "2025-02-04T19:33:30.257Z"
   },
   {
    "duration": 220,
    "start_time": "2025-02-04T19:33:30.267Z"
   },
   {
    "duration": 216,
    "start_time": "2025-02-04T19:33:30.489Z"
   },
   {
    "duration": 6,
    "start_time": "2025-02-04T19:33:30.711Z"
   },
   {
    "duration": 362,
    "start_time": "2025-02-04T19:33:30.718Z"
   },
   {
    "duration": 5,
    "start_time": "2025-02-04T19:33:31.082Z"
   },
   {
    "duration": 28,
    "start_time": "2025-02-04T19:33:31.089Z"
   },
   {
    "duration": 18,
    "start_time": "2025-02-04T19:33:31.119Z"
   },
   {
    "duration": 16,
    "start_time": "2025-02-04T19:33:31.139Z"
   },
   {
    "duration": 10,
    "start_time": "2025-02-04T19:33:31.157Z"
   },
   {
    "duration": 11,
    "start_time": "2025-02-04T19:33:31.169Z"
   },
   {
    "duration": 6,
    "start_time": "2025-02-04T19:35:51.977Z"
   },
   {
    "duration": 1374,
    "start_time": "2025-02-04T19:41:44.561Z"
   },
   {
    "duration": 12,
    "start_time": "2025-02-04T19:42:37.425Z"
   },
   {
    "duration": 289,
    "start_time": "2025-02-04T19:42:52.646Z"
   },
   {
    "duration": 249,
    "start_time": "2025-02-04T19:43:22.425Z"
   },
   {
    "duration": 387,
    "start_time": "2025-02-04T19:44:00.458Z"
   },
   {
    "duration": 276,
    "start_time": "2025-02-04T19:44:43.271Z"
   },
   {
    "duration": 278,
    "start_time": "2025-02-04T19:45:21.100Z"
   },
   {
    "duration": 277,
    "start_time": "2025-02-04T19:45:53.164Z"
   },
   {
    "duration": 10,
    "start_time": "2025-02-04T19:52:24.699Z"
   },
   {
    "duration": 6,
    "start_time": "2025-02-04T19:55:33.465Z"
   },
   {
    "duration": 10,
    "start_time": "2025-02-04T19:55:50.716Z"
   },
   {
    "duration": 10,
    "start_time": "2025-02-04T19:56:25.837Z"
   },
   {
    "duration": 11,
    "start_time": "2025-02-04T19:56:38.240Z"
   },
   {
    "duration": 9,
    "start_time": "2025-02-04T19:57:29.675Z"
   },
   {
    "duration": 9,
    "start_time": "2025-02-04T19:57:39.849Z"
   },
   {
    "duration": 4,
    "start_time": "2025-02-04T20:02:01.960Z"
   },
   {
    "duration": 5,
    "start_time": "2025-02-04T20:07:34.467Z"
   },
   {
    "duration": 10,
    "start_time": "2025-02-04T20:07:41.213Z"
   },
   {
    "duration": 10,
    "start_time": "2025-02-04T20:07:51.664Z"
   },
   {
    "duration": 10,
    "start_time": "2025-02-04T20:08:04.040Z"
   },
   {
    "duration": 839,
    "start_time": "2025-02-04T20:15:39.111Z"
   },
   {
    "duration": 26,
    "start_time": "2025-02-04T20:15:39.952Z"
   },
   {
    "duration": 13,
    "start_time": "2025-02-04T20:15:39.980Z"
   },
   {
    "duration": 20,
    "start_time": "2025-02-04T20:15:39.995Z"
   },
   {
    "duration": 35,
    "start_time": "2025-02-04T20:15:40.018Z"
   },
   {
    "duration": 3,
    "start_time": "2025-02-04T20:15:40.054Z"
   },
   {
    "duration": 12,
    "start_time": "2025-02-04T20:15:40.059Z"
   },
   {
    "duration": 48,
    "start_time": "2025-02-04T20:15:40.072Z"
   },
   {
    "duration": 16,
    "start_time": "2025-02-04T20:15:40.121Z"
   },
   {
    "duration": 4,
    "start_time": "2025-02-04T20:15:40.139Z"
   },
   {
    "duration": 5,
    "start_time": "2025-02-04T20:15:40.145Z"
   },
   {
    "duration": 28,
    "start_time": "2025-02-04T20:15:40.152Z"
   },
   {
    "duration": 31,
    "start_time": "2025-02-04T20:15:40.181Z"
   },
   {
    "duration": 4,
    "start_time": "2025-02-04T20:15:40.216Z"
   },
   {
    "duration": 5,
    "start_time": "2025-02-04T20:15:40.222Z"
   },
   {
    "duration": 18,
    "start_time": "2025-02-04T20:15:40.229Z"
   },
   {
    "duration": 10,
    "start_time": "2025-02-04T20:15:40.249Z"
   },
   {
    "duration": 332,
    "start_time": "2025-02-04T20:15:40.261Z"
   },
   {
    "duration": 9,
    "start_time": "2025-02-04T20:15:40.596Z"
   },
   {
    "duration": 11,
    "start_time": "2025-02-04T20:15:40.607Z"
   },
   {
    "duration": 308,
    "start_time": "2025-02-04T20:15:40.620Z"
   },
   {
    "duration": 16,
    "start_time": "2025-02-04T20:15:40.930Z"
   },
   {
    "duration": 599,
    "start_time": "2025-02-04T20:15:40.948Z"
   },
   {
    "duration": 16,
    "start_time": "2025-02-04T20:15:41.549Z"
   },
   {
    "duration": 232,
    "start_time": "2025-02-04T20:15:41.567Z"
   },
   {
    "duration": 226,
    "start_time": "2025-02-04T20:15:41.800Z"
   },
   {
    "duration": 8,
    "start_time": "2025-02-04T20:15:42.028Z"
   },
   {
    "duration": 218,
    "start_time": "2025-02-04T20:15:42.038Z"
   },
   {
    "duration": 223,
    "start_time": "2025-02-04T20:15:42.258Z"
   },
   {
    "duration": 6,
    "start_time": "2025-02-04T20:15:42.483Z"
   },
   {
    "duration": 301,
    "start_time": "2025-02-04T20:15:42.490Z"
   },
   {
    "duration": 16,
    "start_time": "2025-02-04T20:15:42.793Z"
   },
   {
    "duration": 14,
    "start_time": "2025-02-04T20:15:42.811Z"
   },
   {
    "duration": 12,
    "start_time": "2025-02-04T20:15:42.829Z"
   },
   {
    "duration": 13,
    "start_time": "2025-02-04T20:15:42.842Z"
   },
   {
    "duration": 8,
    "start_time": "2025-02-04T20:15:42.857Z"
   },
   {
    "duration": 9,
    "start_time": "2025-02-04T20:15:42.867Z"
   }
  ],
  "kernelspec": {
   "display_name": "Python 3 (ipykernel)",
   "language": "python",
   "name": "python3"
  },
  "language_info": {
   "codemirror_mode": {
    "name": "ipython",
    "version": 3
   },
   "file_extension": ".py",
   "mimetype": "text/x-python",
   "name": "python",
   "nbconvert_exporter": "python",
   "pygments_lexer": "ipython3",
   "version": "3.9.19"
  },
  "toc": {
   "base_numbering": 1,
   "nav_menu": {},
   "number_sections": true,
   "sideBar": true,
   "skip_h1_title": true,
   "title_cell": "Table of Contents",
   "title_sidebar": "Contents",
   "toc_cell": false,
   "toc_position": {},
   "toc_section_display": true,
   "toc_window_display": false
  }
 },
 "nbformat": 4,
 "nbformat_minor": 2
}
