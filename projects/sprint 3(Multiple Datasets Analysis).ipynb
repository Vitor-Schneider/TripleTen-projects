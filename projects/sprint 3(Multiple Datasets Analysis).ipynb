{
 "cells": [
  {
   "cell_type": "markdown",
   "id": "e06c7498",
   "metadata": {},
   "source": [
    "# Revisão de código \n",
    "\n",
    "Olá! \n",
    "\n",
    "Meu nome é Suelen. Estou feliz em revisar seu projeto hoje!\n",
    "\n",
    "Quando vejo um erro pela primeira vez, apenas aponto. Deixarei você encontrá-lo e corrigi-lo sozinho. Além disso, ao longo do texto, farei algumas observações sobre melhorias no código e também farei comentários sobre suas percepções sobre o assunto. Mas se você ainda não consegue lidar com essa tarefa, darei uma dica mais precisa na próxima iteração e também alguns exemplos práticos. Estarei aberta a feedbacks e discussões sobre o tema.\n",
    "\n",
    "Você pode encontrar meus comentários em caixas verdes, amarelas ou vermelhas como estas:\n",
    "\n",
    "\n",
    "<div class=\"alert alert-block alert-success\">\n",
    "<b>Comentário: </b> <a class=\"tocSkip\"></a>\n",
    "\n",
    "Sucesso. Tudo está correto.\n",
    "</div>\n",
    "\n",
    "<div class=\"alert alert-block alert-warning\">\n",
    "<b>Comentário: </b> <a class=\"tocSkip\"></a>\n",
    "\n",
    "Observações. Algumas recomendações.\n",
    "</div>\n",
    "\n",
    "<div class=\"alert alert-block alert-danger\">\n",
    "\n",
    "<b>Comentário: </b> <a class=\"tocSkip\"></a>\n",
    "\n",
    "O bloco requer algumas correções. O trabalho não pode ser aceito com os comentários vermelhos.\n",
    "</div>\n",
    "\n",
    "Você pode me responder usando isto:\n",
    "\n",
    "<div class=\"alert alert-block alert-info\">\n",
    "<b>Resposta do aluno</b> <a class=\"tocSkip\"></a>\n",
    "</div>\n",
    "\n"
   ]
  },
  {
   "cell_type": "code",
   "execution_count": null,
   "id": "1889f997",
   "metadata": {},
   "outputs": [],
   "source": []
  },
  {
   "cell_type": "markdown",
   "id": "7fd36059",
   "metadata": {},
   "source": [
    "<div class=\"alert alert-block alert-danger\">\n",
    "\n",
    "<b>Comentário geral v1: </b> <a class=\"tocSkip\"></a>\n",
    "\n",
    "\n",
    "Parabéns pela conclusão do projeto, Vitor! Seu trabalho já está com uma qualidade excelente! 🎉 Para avançarmos com a aprovação, precisamos fazer alguns ajustes:\n",
    "- Corrigir a análise:\n",
    "            \" 7.5 Diferenças nas quartas e sábados em 'order_hour_of_day'. Crie gráficos de barras para ambos os dias e descreva as diferenças.\"  \n",
    "- Corrigir a ordem dos top 20 produtos das tarefas:\n",
    "        7.7  [B3] Quais são os 20 produtos mais populares? \n",
    "        7.12  [C5] Quais são os 20 principais itens que as pessoas colocam nos carrinhos antes de todos os outros?\n",
    "\n",
    "Adicionei comentários para te ajudar com essas questões. \n",
    "Estou à disposição para qualquer dúvida que você tiver. \n",
    "\n",
    "Boa sorte! 🍀\n",
    "</div>"
   ]
  },
  {
   "cell_type": "markdown",
   "id": "40cf1244",
   "metadata": {},
   "source": [
    "Obrigada pelos ajustes! O projeto está aprovado. "
   ]
  },
  {
   "cell_type": "markdown",
   "id": "3Xg_RQfnafXz",
   "metadata": {
    "id": "3Xg_RQfnafXz"
   },
   "source": [
    "\n",
    "\n",
    "\n",
    "# Vamos encher o carrinho!"
   ]
  },
  {
   "cell_type": "markdown",
   "id": "mhIvmmkW414q",
   "metadata": {
    "id": "mhIvmmkW414q"
   },
   "source": [
    "# Introdução\n",
    "\n",
    "O Instacart é uma plataforma de entrega de supermercado onde os clientes podem fazer um pedido no supermercado e depois receber sua compra, semelhante ao funcionamento do Uber Eats e do iFood. O conjunto de dados que fornecemos foi modificado a partir do original. Reduzimos o tamanho dele para que seus cálculos sejam executados mais rapidamente e incluímos valores ausentes e duplicados. Também tivemos o cuidado de preservar as distribuições dos dados originais quando fizemos as alterações.\n",
    "\n",
    "Você precisa completar três etapas. Para cada uma delas, escreva uma breve introdução descrevendo como você pretende concluir a etapa e justifique suas decisões em parágrafos explicativos a medida que você avança na solução. Escreva também uma conclusão para resumir suas conclusões e escolhas.\n",
    "\n"
   ]
  },
  {
   "cell_type": "markdown",
   "id": "3MbyzpOQZ5Or",
   "metadata": {
    "id": "3MbyzpOQZ5Or"
   },
   "source": [
    "## Dicionário de dados\n",
    "\n",
    "Há cinco tabelas no conjunto de dados, e você vai precisar usar todas elas para pré-processar seus dados e fazer AED. Abaixo está um dicionário que lista as colunas de cada tabela e descreve os dados contidos nelas.\n",
    "\n",
    "- `instacart_orders.csv`: cada linha corresponde a um pedido no aplicativo da Instacart\n",
    "    - `'order_id'`: é o número que identifica cada pedido de forma exclusiva\n",
    "    - `'user_id'`: é o número de identificação exclusivo da conta de cada cliente\n",
    "    - `'order_number'`: é o número de vezes que o cliente fez um pedido\n",
    "    - `'order_dow'`: é o dia da semana em que o pedido foi feito (0 é domingo)\n",
    "    - `'order_hour_of_day'`: é a hora do dia em que o pedido foi feito\n",
    "    - `'days_since_prior_order'`: é o número de dias desde que o cliente fez seu pedido anterior\n",
    "\n",
    "\n",
    "\n",
    "\n",
    "- `products.csv`: cada linha corresponde a um produto exclusivo que os clientes podem comprar\n",
    "    - `'product_id'`: é o número de identificação unívoco de cada produto\n",
    "    - `'product_name'`: é o nome do produto\n",
    "    - `'aisle_id'`: é o número de identificação exclusivo de cada categoria de corredor do supermercado\n",
    "    - `'department_id'`: é o número de identificação exclusivo de cada categoria de departamento do supermercado\n",
    "\n",
    "\n",
    "\n",
    "\n",
    "-\t`order_products.csv`: cada linha corresponde a um item incluído em um pedido\n",
    "    -\t`'order_id'`: é o número que identifica cada pedido de forma exclusiva\n",
    "    -\t`'product_id'`: é o número de identificação exclusivo de cada produto\n",
    "    -\t`'add_to_cart_order'`: é a ordem sequencial em que cada item foi colocado no carrinho\n",
    "    -\t`'reordered'`: 0 se o cliente nunca comprou o produto antes, 1 se já o comprou\n",
    "\n",
    "\n",
    "\n",
    "\n",
    "-\t`aisles.csv`\n",
    "    -\t`'aisle_id'`: é o número de identificação exclusivo de cada categoria de corredor do supermercado\n",
    "    -\t`'aisle'`: é o nome do corredor\n",
    "\n",
    "\n",
    "\n",
    "-\t`departments.csv`\n",
    "    -\t`'department_id'`: é o número de identificação exclusivo de cada categoria de departamento do supermercado\n",
    "    -\t`'department'`: é o nome do departamento\n"
   ]
  },
  {
   "cell_type": "markdown",
   "id": "n3Ha_cNSZ8lK",
   "metadata": {
    "id": "n3Ha_cNSZ8lK"
   },
   "source": [
    "# Etapa 1. Visão geral dos dados\n",
    "\n",
    "Leia os arquivos de dados (/datasets/instacart_orders.csv, /datasets/products.csv, /datasets/aisles.csv, /datasets/departments.csv e /datasets/order_products.csv) com `pd.read_csv()` usando os parâmetros apropriados para fazer isso corretamente. Verifique as informações para cada DataFrame criado.\n"
   ]
  },
  {
   "cell_type": "markdown",
   "id": "OmlQPLlyaAfR",
   "metadata": {
    "id": "OmlQPLlyaAfR"
   },
   "source": [
    "## Plano de solução\n",
    "\n",
    "Escreva aqui seu plano para a Etapa 2. Visão geral dos dados"
   ]
  },
  {
   "cell_type": "markdown",
   "id": "d1e3c758",
   "metadata": {},
   "source": [
    "<div style=\"background-color: lightblue; padding: 10px;\">\n",
    "De início preciso verificar como os dados estão dispostos nos dataframes e para isso preciso chamar algumas funções como info() e head(). Caso os dados estejam certo e eu precise de mais alguma informação chamarei outras funções.\n",
    "\n",
    "    \n",
    "</div>"
   ]
  },
  {
   "cell_type": "code",
   "execution_count": 1,
   "id": "fbf1adab",
   "metadata": {
    "id": "fbf1adab"
   },
   "outputs": [],
   "source": [
    "import pandas as pd\n",
    "import numpy as np\n",
    "import matplotlib.pyplot as plt\n",
    "import seaborn as sea"
   ]
  },
  {
   "cell_type": "code",
   "execution_count": 2,
   "id": "ad36396d",
   "metadata": {
    "id": "ad36396d"
   },
   "outputs": [],
   "source": [
    "df_inorder = pd.read_csv('/datasets/instacart_orders.csv' , sep = ';')\n",
    "df_product = pd.read_csv('/datasets/products.csv' , sep = ';')\n",
    "df_orderprod = pd.read_csv('/datasets/order_products.csv' , sep = ';')\n",
    "df_les = pd.read_csv('/datasets/aisles.csv', sep = ';')\n",
    "df_depart = pd.read_csv('/datasets/departments.csv' , sep = ';')"
   ]
  },
  {
   "cell_type": "code",
   "execution_count": 3,
   "id": "ad6a1efa",
   "metadata": {
    "id": "ad6a1efa"
   },
   "outputs": [
    {
     "name": "stdout",
     "output_type": "stream",
     "text": [
      "<class 'pandas.core.frame.DataFrame'>\n",
      "RangeIndex: 478967 entries, 0 to 478966\n",
      "Data columns (total 6 columns):\n",
      " #   Column                  Non-Null Count   Dtype  \n",
      "---  ------                  --------------   -----  \n",
      " 0   order_id                478967 non-null  int64  \n",
      " 1   user_id                 478967 non-null  int64  \n",
      " 2   order_number            478967 non-null  int64  \n",
      " 3   order_dow               478967 non-null  int64  \n",
      " 4   order_hour_of_day       478967 non-null  int64  \n",
      " 5   days_since_prior_order  450148 non-null  float64\n",
      "dtypes: float64(1), int64(5)\n",
      "memory usage: 21.9 MB\n"
     ]
    },
    {
     "data": {
      "text/html": [
       "<div>\n",
       "<style scoped>\n",
       "    .dataframe tbody tr th:only-of-type {\n",
       "        vertical-align: middle;\n",
       "    }\n",
       "\n",
       "    .dataframe tbody tr th {\n",
       "        vertical-align: top;\n",
       "    }\n",
       "\n",
       "    .dataframe thead th {\n",
       "        text-align: right;\n",
       "    }\n",
       "</style>\n",
       "<table border=\"1\" class=\"dataframe\">\n",
       "  <thead>\n",
       "    <tr style=\"text-align: right;\">\n",
       "      <th></th>\n",
       "      <th>order_id</th>\n",
       "      <th>user_id</th>\n",
       "      <th>order_number</th>\n",
       "      <th>order_dow</th>\n",
       "      <th>order_hour_of_day</th>\n",
       "      <th>days_since_prior_order</th>\n",
       "    </tr>\n",
       "  </thead>\n",
       "  <tbody>\n",
       "    <tr>\n",
       "      <th>0</th>\n",
       "      <td>1515936</td>\n",
       "      <td>183418</td>\n",
       "      <td>11</td>\n",
       "      <td>6</td>\n",
       "      <td>13</td>\n",
       "      <td>30.0</td>\n",
       "    </tr>\n",
       "    <tr>\n",
       "      <th>1</th>\n",
       "      <td>1690866</td>\n",
       "      <td>163593</td>\n",
       "      <td>5</td>\n",
       "      <td>5</td>\n",
       "      <td>12</td>\n",
       "      <td>9.0</td>\n",
       "    </tr>\n",
       "    <tr>\n",
       "      <th>2</th>\n",
       "      <td>1454967</td>\n",
       "      <td>39980</td>\n",
       "      <td>4</td>\n",
       "      <td>5</td>\n",
       "      <td>19</td>\n",
       "      <td>2.0</td>\n",
       "    </tr>\n",
       "    <tr>\n",
       "      <th>3</th>\n",
       "      <td>1768857</td>\n",
       "      <td>82516</td>\n",
       "      <td>56</td>\n",
       "      <td>0</td>\n",
       "      <td>20</td>\n",
       "      <td>10.0</td>\n",
       "    </tr>\n",
       "    <tr>\n",
       "      <th>4</th>\n",
       "      <td>3007858</td>\n",
       "      <td>196724</td>\n",
       "      <td>2</td>\n",
       "      <td>4</td>\n",
       "      <td>12</td>\n",
       "      <td>17.0</td>\n",
       "    </tr>\n",
       "  </tbody>\n",
       "</table>\n",
       "</div>"
      ],
      "text/plain": [
       "   order_id  user_id  order_number  order_dow  order_hour_of_day  \\\n",
       "0   1515936   183418            11          6                 13   \n",
       "1   1690866   163593             5          5                 12   \n",
       "2   1454967    39980             4          5                 19   \n",
       "3   1768857    82516            56          0                 20   \n",
       "4   3007858   196724             2          4                 12   \n",
       "\n",
       "   days_since_prior_order  \n",
       "0                    30.0  \n",
       "1                     9.0  \n",
       "2                     2.0  \n",
       "3                    10.0  \n",
       "4                    17.0  "
      ]
     },
     "execution_count": 3,
     "metadata": {},
     "output_type": "execute_result"
    }
   ],
   "source": [
    "df_inorder.info()\n",
    "df_inorder.head()"
   ]
  },
  {
   "cell_type": "code",
   "execution_count": 4,
   "id": "5130e05e",
   "metadata": {
    "id": "5130e05e"
   },
   "outputs": [
    {
     "name": "stdout",
     "output_type": "stream",
     "text": [
      "<class 'pandas.core.frame.DataFrame'>\n",
      "RangeIndex: 49694 entries, 0 to 49693\n",
      "Data columns (total 4 columns):\n",
      " #   Column         Non-Null Count  Dtype \n",
      "---  ------         --------------  ----- \n",
      " 0   product_id     49694 non-null  int64 \n",
      " 1   product_name   48436 non-null  object\n",
      " 2   aisle_id       49694 non-null  int64 \n",
      " 3   department_id  49694 non-null  int64 \n",
      "dtypes: int64(3), object(1)\n",
      "memory usage: 1.5+ MB\n"
     ]
    },
    {
     "data": {
      "text/html": [
       "<div>\n",
       "<style scoped>\n",
       "    .dataframe tbody tr th:only-of-type {\n",
       "        vertical-align: middle;\n",
       "    }\n",
       "\n",
       "    .dataframe tbody tr th {\n",
       "        vertical-align: top;\n",
       "    }\n",
       "\n",
       "    .dataframe thead th {\n",
       "        text-align: right;\n",
       "    }\n",
       "</style>\n",
       "<table border=\"1\" class=\"dataframe\">\n",
       "  <thead>\n",
       "    <tr style=\"text-align: right;\">\n",
       "      <th></th>\n",
       "      <th>product_id</th>\n",
       "      <th>product_name</th>\n",
       "      <th>aisle_id</th>\n",
       "      <th>department_id</th>\n",
       "    </tr>\n",
       "  </thead>\n",
       "  <tbody>\n",
       "    <tr>\n",
       "      <th>0</th>\n",
       "      <td>1</td>\n",
       "      <td>Chocolate Sandwich Cookies</td>\n",
       "      <td>61</td>\n",
       "      <td>19</td>\n",
       "    </tr>\n",
       "    <tr>\n",
       "      <th>1</th>\n",
       "      <td>2</td>\n",
       "      <td>All-Seasons Salt</td>\n",
       "      <td>104</td>\n",
       "      <td>13</td>\n",
       "    </tr>\n",
       "    <tr>\n",
       "      <th>2</th>\n",
       "      <td>3</td>\n",
       "      <td>Robust Golden Unsweetened Oolong Tea</td>\n",
       "      <td>94</td>\n",
       "      <td>7</td>\n",
       "    </tr>\n",
       "    <tr>\n",
       "      <th>3</th>\n",
       "      <td>4</td>\n",
       "      <td>Smart Ones Classic Favorites Mini Rigatoni Wit...</td>\n",
       "      <td>38</td>\n",
       "      <td>1</td>\n",
       "    </tr>\n",
       "    <tr>\n",
       "      <th>4</th>\n",
       "      <td>5</td>\n",
       "      <td>Green Chile Anytime Sauce</td>\n",
       "      <td>5</td>\n",
       "      <td>13</td>\n",
       "    </tr>\n",
       "  </tbody>\n",
       "</table>\n",
       "</div>"
      ],
      "text/plain": [
       "   product_id                                       product_name  aisle_id  \\\n",
       "0           1                         Chocolate Sandwich Cookies        61   \n",
       "1           2                                   All-Seasons Salt       104   \n",
       "2           3               Robust Golden Unsweetened Oolong Tea        94   \n",
       "3           4  Smart Ones Classic Favorites Mini Rigatoni Wit...        38   \n",
       "4           5                          Green Chile Anytime Sauce         5   \n",
       "\n",
       "   department_id  \n",
       "0             19  \n",
       "1             13  \n",
       "2              7  \n",
       "3              1  \n",
       "4             13  "
      ]
     },
     "execution_count": 4,
     "metadata": {},
     "output_type": "execute_result"
    }
   ],
   "source": [
    "df_product.info()\n",
    "df_product.head()"
   ]
  },
  {
   "cell_type": "code",
   "execution_count": 5,
   "id": "d8370c05",
   "metadata": {
    "id": "d8370c05"
   },
   "outputs": [
    {
     "name": "stdout",
     "output_type": "stream",
     "text": [
      "<class 'pandas.core.frame.DataFrame'>\n",
      "RangeIndex: 4545007 entries, 0 to 4545006\n",
      "Data columns (total 4 columns):\n",
      " #   Column             Dtype  \n",
      "---  ------             -----  \n",
      " 0   order_id           int64  \n",
      " 1   product_id         int64  \n",
      " 2   add_to_cart_order  float64\n",
      " 3   reordered          int64  \n",
      "dtypes: float64(1), int64(3)\n",
      "memory usage: 138.7 MB\n"
     ]
    },
    {
     "data": {
      "text/html": [
       "<div>\n",
       "<style scoped>\n",
       "    .dataframe tbody tr th:only-of-type {\n",
       "        vertical-align: middle;\n",
       "    }\n",
       "\n",
       "    .dataframe tbody tr th {\n",
       "        vertical-align: top;\n",
       "    }\n",
       "\n",
       "    .dataframe thead th {\n",
       "        text-align: right;\n",
       "    }\n",
       "</style>\n",
       "<table border=\"1\" class=\"dataframe\">\n",
       "  <thead>\n",
       "    <tr style=\"text-align: right;\">\n",
       "      <th></th>\n",
       "      <th>order_id</th>\n",
       "      <th>product_id</th>\n",
       "      <th>add_to_cart_order</th>\n",
       "      <th>reordered</th>\n",
       "    </tr>\n",
       "  </thead>\n",
       "  <tbody>\n",
       "    <tr>\n",
       "      <th>0</th>\n",
       "      <td>2141543</td>\n",
       "      <td>11440</td>\n",
       "      <td>17.0</td>\n",
       "      <td>0</td>\n",
       "    </tr>\n",
       "    <tr>\n",
       "      <th>1</th>\n",
       "      <td>567889</td>\n",
       "      <td>1560</td>\n",
       "      <td>1.0</td>\n",
       "      <td>1</td>\n",
       "    </tr>\n",
       "    <tr>\n",
       "      <th>2</th>\n",
       "      <td>2261212</td>\n",
       "      <td>26683</td>\n",
       "      <td>1.0</td>\n",
       "      <td>1</td>\n",
       "    </tr>\n",
       "    <tr>\n",
       "      <th>3</th>\n",
       "      <td>491251</td>\n",
       "      <td>8670</td>\n",
       "      <td>35.0</td>\n",
       "      <td>1</td>\n",
       "    </tr>\n",
       "    <tr>\n",
       "      <th>4</th>\n",
       "      <td>2571142</td>\n",
       "      <td>1940</td>\n",
       "      <td>5.0</td>\n",
       "      <td>1</td>\n",
       "    </tr>\n",
       "  </tbody>\n",
       "</table>\n",
       "</div>"
      ],
      "text/plain": [
       "   order_id  product_id  add_to_cart_order  reordered\n",
       "0   2141543       11440               17.0          0\n",
       "1    567889        1560                1.0          1\n",
       "2   2261212       26683                1.0          1\n",
       "3    491251        8670               35.0          1\n",
       "4   2571142        1940                5.0          1"
      ]
     },
     "execution_count": 5,
     "metadata": {},
     "output_type": "execute_result"
    }
   ],
   "source": [
    "df_orderprod.info()\n",
    "df_orderprod.head()"
   ]
  },
  {
   "cell_type": "code",
   "execution_count": 6,
   "id": "59e2090f",
   "metadata": {
    "id": "59e2090f"
   },
   "outputs": [
    {
     "name": "stdout",
     "output_type": "stream",
     "text": [
      "<class 'pandas.core.frame.DataFrame'>\n",
      "RangeIndex: 134 entries, 0 to 133\n",
      "Data columns (total 2 columns):\n",
      " #   Column    Non-Null Count  Dtype \n",
      "---  ------    --------------  ----- \n",
      " 0   aisle_id  134 non-null    int64 \n",
      " 1   aisle     134 non-null    object\n",
      "dtypes: int64(1), object(1)\n",
      "memory usage: 2.2+ KB\n"
     ]
    },
    {
     "data": {
      "text/html": [
       "<div>\n",
       "<style scoped>\n",
       "    .dataframe tbody tr th:only-of-type {\n",
       "        vertical-align: middle;\n",
       "    }\n",
       "\n",
       "    .dataframe tbody tr th {\n",
       "        vertical-align: top;\n",
       "    }\n",
       "\n",
       "    .dataframe thead th {\n",
       "        text-align: right;\n",
       "    }\n",
       "</style>\n",
       "<table border=\"1\" class=\"dataframe\">\n",
       "  <thead>\n",
       "    <tr style=\"text-align: right;\">\n",
       "      <th></th>\n",
       "      <th>aisle_id</th>\n",
       "      <th>aisle</th>\n",
       "    </tr>\n",
       "  </thead>\n",
       "  <tbody>\n",
       "    <tr>\n",
       "      <th>0</th>\n",
       "      <td>1</td>\n",
       "      <td>prepared soups salads</td>\n",
       "    </tr>\n",
       "    <tr>\n",
       "      <th>1</th>\n",
       "      <td>2</td>\n",
       "      <td>specialty cheeses</td>\n",
       "    </tr>\n",
       "    <tr>\n",
       "      <th>2</th>\n",
       "      <td>3</td>\n",
       "      <td>energy granola bars</td>\n",
       "    </tr>\n",
       "    <tr>\n",
       "      <th>3</th>\n",
       "      <td>4</td>\n",
       "      <td>instant foods</td>\n",
       "    </tr>\n",
       "    <tr>\n",
       "      <th>4</th>\n",
       "      <td>5</td>\n",
       "      <td>marinades meat preparation</td>\n",
       "    </tr>\n",
       "  </tbody>\n",
       "</table>\n",
       "</div>"
      ],
      "text/plain": [
       "   aisle_id                       aisle\n",
       "0         1       prepared soups salads\n",
       "1         2           specialty cheeses\n",
       "2         3         energy granola bars\n",
       "3         4               instant foods\n",
       "4         5  marinades meat preparation"
      ]
     },
     "execution_count": 6,
     "metadata": {},
     "output_type": "execute_result"
    }
   ],
   "source": [
    "df_les.info()\n",
    "df_les.head()"
   ]
  },
  {
   "cell_type": "code",
   "execution_count": 7,
   "id": "6fc81694",
   "metadata": {
    "id": "6fc81694"
   },
   "outputs": [
    {
     "name": "stdout",
     "output_type": "stream",
     "text": [
      "<class 'pandas.core.frame.DataFrame'>\n",
      "RangeIndex: 21 entries, 0 to 20\n",
      "Data columns (total 2 columns):\n",
      " #   Column         Non-Null Count  Dtype \n",
      "---  ------         --------------  ----- \n",
      " 0   department_id  21 non-null     int64 \n",
      " 1   department     21 non-null     object\n",
      "dtypes: int64(1), object(1)\n",
      "memory usage: 464.0+ bytes\n"
     ]
    },
    {
     "data": {
      "text/html": [
       "<div>\n",
       "<style scoped>\n",
       "    .dataframe tbody tr th:only-of-type {\n",
       "        vertical-align: middle;\n",
       "    }\n",
       "\n",
       "    .dataframe tbody tr th {\n",
       "        vertical-align: top;\n",
       "    }\n",
       "\n",
       "    .dataframe thead th {\n",
       "        text-align: right;\n",
       "    }\n",
       "</style>\n",
       "<table border=\"1\" class=\"dataframe\">\n",
       "  <thead>\n",
       "    <tr style=\"text-align: right;\">\n",
       "      <th></th>\n",
       "      <th>department_id</th>\n",
       "      <th>department</th>\n",
       "    </tr>\n",
       "  </thead>\n",
       "  <tbody>\n",
       "    <tr>\n",
       "      <th>0</th>\n",
       "      <td>1</td>\n",
       "      <td>frozen</td>\n",
       "    </tr>\n",
       "    <tr>\n",
       "      <th>1</th>\n",
       "      <td>2</td>\n",
       "      <td>other</td>\n",
       "    </tr>\n",
       "    <tr>\n",
       "      <th>2</th>\n",
       "      <td>3</td>\n",
       "      <td>bakery</td>\n",
       "    </tr>\n",
       "    <tr>\n",
       "      <th>3</th>\n",
       "      <td>4</td>\n",
       "      <td>produce</td>\n",
       "    </tr>\n",
       "    <tr>\n",
       "      <th>4</th>\n",
       "      <td>5</td>\n",
       "      <td>alcohol</td>\n",
       "    </tr>\n",
       "  </tbody>\n",
       "</table>\n",
       "</div>"
      ],
      "text/plain": [
       "   department_id department\n",
       "0              1     frozen\n",
       "1              2      other\n",
       "2              3     bakery\n",
       "3              4    produce\n",
       "4              5    alcohol"
      ]
     },
     "execution_count": 7,
     "metadata": {},
     "output_type": "execute_result"
    }
   ],
   "source": [
    "df_depart.info()\n",
    "df_depart.head()"
   ]
  },
  {
   "cell_type": "markdown",
   "id": "t75BD19oaR5f",
   "metadata": {
    "id": "t75BD19oaR5f"
   },
   "source": [
    "## Conclusões\n",
    "\n",
    "Escreva aqui suas conclusões intermediárias da Etapa 1. Visão geral dos dados"
   ]
  },
  {
   "cell_type": "markdown",
   "id": "d5b9b5fb",
   "metadata": {},
   "source": [
    "<div style=\"background-color: lightblue; padding: 10px;\">\n",
    "   \n",
    "Os dados não estao organizados nem separados corretamente, eles estão separados por \";\" e a pandas não conseguiu lê-los como dataframe. Desta forma a visuzalização e compreensão dos dados ficam difíceis, eu precisaria organizá-los antes de tirar mais conclusões.\n",
    "    \n",
    "    \n",
    "</div>"
   ]
  },
  {
   "cell_type": "markdown",
   "id": "349c38c6",
   "metadata": {},
   "source": [
    "<div class=\"alert alert-block alert-success\">\n",
    "<b>Comentário: </b> <a class=\"tocSkip\"></a>   \n",
    "    \n",
    "- Leitura dos dados realizada com sucesso.\n",
    "- Foram adicionados comentários com observações do aluno. Adorei o capricho em colocar as observações com o fundo azul :) ajuda bastante na revisão"
   ]
  },
  {
   "cell_type": "markdown",
   "id": "8RJHqxVmaVsF",
   "metadata": {
    "id": "8RJHqxVmaVsF"
   },
   "source": [
    "# Etapa 2. Preparação de dados\n",
    "\n",
    "Faça o pré-processamento dos dados da seguinte maneira:\n",
    "\n",
    "-\tVerifique e corrija os tipos de dados (por exemplo, certifique-se de que as colunas de ID sejam números inteiros)\n",
    "-\tIdentifique e preencha valores ausentes\n",
    "-\tIdentifique e remova valores duplicados\n",
    "\n",
    "Certifique-se de explicar que tipos de valores ausentes e duplicados você encontrou, como você os preencheu ou removeu, por que escolheu esses métodos e por que você acha que esses valores ausentes e duplicados estavam presentes no conjunto de dados."
   ]
  },
  {
   "cell_type": "markdown",
   "id": "p6poABZQaZYb",
   "metadata": {
    "id": "p6poABZQaZYb"
   },
   "source": [
    "## Plano de solução\n",
    "\n",
    "Escreva aqui seu plano para a Etapa 2. Preparação de dados"
   ]
  },
  {
   "cell_type": "markdown",
   "id": "785308c1",
   "metadata": {},
   "source": [
    "<div style=\"background-color: lightblue; padding: 10px;\">\n",
    "   \n",
    "Acredito que esta parte seja a qual eu tenha que organizar os dados para uma leitura normal, \n",
    "sendo assim voltarei para o codigo de leitura dos dataframes para fazer modificações afim de que fiquem organizados \n",
    "e prontos para as futuras visualizações. \n",
    "    \n",
    "1- Terei que usar o argumento sep = ';' para a pandas ler os dados como um dataframe    \n",
    "    \n",
    "</div>"
   ]
  },
  {
   "cell_type": "markdown",
   "id": "07357848-dc64-4156-9cc3-01ff4365226d",
   "metadata": {
    "id": "07357848-dc64-4156-9cc3-01ff4365226d"
   },
   "source": [
    "## Encontre e remova valores duplicados (e descreva por que você está fazendo suas escolhas)"
   ]
  },
  {
   "cell_type": "markdown",
   "id": "f179f0a9",
   "metadata": {
    "id": "f179f0a9"
   },
   "source": [
    "### DataFrame `instacart_orders`"
   ]
  },
  {
   "cell_type": "code",
   "execution_count": 8,
   "id": "b99297a5-405a-463d-8535-9adc3da4ad74",
   "metadata": {
    "id": "b99297a5-405a-463d-8535-9adc3da4ad74"
   },
   "outputs": [
    {
     "name": "stdout",
     "output_type": "stream",
     "text": [
      "        order_id  user_id  order_number  order_dow  order_hour_of_day  \\\n",
      "145574    794638    50898            24          3                  2   \n",
      "223105   2160484   107525            16          3                  2   \n",
      "230807   1918001   188546            14          3                  2   \n",
      "266232   1782114   106752             1          3                  2   \n",
      "273805   1112182   202304            84          3                  2   \n",
      "284038   2845099    31189            11          3                  2   \n",
      "311713   1021560    53767             3          3                  2   \n",
      "321100    408114    68324             4          3                  2   \n",
      "323900   1919531   191501            32          3                  2   \n",
      "345917   2232988    82565             1          3                  2   \n",
      "371905    391768    57671            19          3                  2   \n",
      "394347    467134    63189            21          3                  2   \n",
      "411408   1286742   183220            48          3                  2   \n",
      "415163   2282673    86751            49          3                  2   \n",
      "441599   2125197    14050            48          3                  2   \n",
      "\n",
      "        days_since_prior_order  \n",
      "145574                     2.0  \n",
      "223105                    30.0  \n",
      "230807                    16.0  \n",
      "266232                     NaN  \n",
      "273805                     6.0  \n",
      "284038                     7.0  \n",
      "311713                     9.0  \n",
      "321100                    18.0  \n",
      "323900                     7.0  \n",
      "345917                     NaN  \n",
      "371905                    10.0  \n",
      "394347                     2.0  \n",
      "411408                     4.0  \n",
      "415163                     2.0  \n",
      "441599                     3.0  \n"
     ]
    }
   ],
   "source": [
    "# Verificar se há pedidos duplicados\n",
    "df_inorder.duplicated().sum()    # aqui verifiquei o numero de duplicados total do dataframe para ter ideia da dimensão.       \n",
    "pedidos_duplicados = df_inorder[df_inorder.duplicated() == True]\n",
    "print(pedidos_duplicados ) #todas as linhas duplicadas imprimidas"
   ]
  },
  {
   "cell_type": "markdown",
   "id": "PEkwUX_gvt5A",
   "metadata": {
    "id": "PEkwUX_gvt5A"
   },
   "source": [
    "\n",
    "Há linhas duplicadas? Se sim, o que elas têm em comum?\n",
    "\n"
   ]
  },
  {
   "cell_type": "markdown",
   "id": "724a1723",
   "metadata": {},
   "source": [
    "<div style=\"background-color: lightblue; padding: 10px;\">\n",
    "   \n",
    "Existem 15 linhas duplicadas neste dataframe e todos foram feitos as 2 da manha de quarta-feira.    \n",
    "    \n",
    "    \n",
    "</div>"
   ]
  },
  {
   "cell_type": "code",
   "execution_count": 9,
   "id": "0d44de5d",
   "metadata": {
    "id": "0d44de5d"
   },
   "outputs": [
    {
     "name": "stdout",
     "output_type": "stream",
     "text": [
      "        order_id  user_id  order_number  order_dow  order_hour_of_day  \\\n",
      "4838     2766110   162084            41          3                  2   \n",
      "5156     2190225   138285            18          3                  2   \n",
      "15506     553049    58599            13          3                  2   \n",
      "18420     382357   120200            19          3                  2   \n",
      "24691     690242    77357             2          3                  2   \n",
      "...          ...      ...           ...        ...                ...   \n",
      "457013   3384021    14881             6          3                  2   \n",
      "458816    910166   164782            18          3                  2   \n",
      "459635   1680532   106435             6          3                  2   \n",
      "468324    222962    54979            59          3                  2   \n",
      "477526   2592344    46860            38          3                  2   \n",
      "\n",
      "        days_since_prior_order  \n",
      "4838                      16.0  \n",
      "5156                      11.0  \n",
      "15506                      7.0  \n",
      "18420                     11.0  \n",
      "24691                      9.0  \n",
      "...                        ...  \n",
      "457013                    30.0  \n",
      "458816                     4.0  \n",
      "459635                    21.0  \n",
      "468324                     3.0  \n",
      "477526                     3.0  \n",
      "\n",
      "[121 rows x 6 columns]\n"
     ]
    }
   ],
   "source": [
    "# Com base nas suas conclusões,\n",
    "\n",
    "# verifique todos os pedidos feitos às 2h da manhã nas quartas-feiras\n",
    "\n",
    "pedidos_as2 = df_inorder.query('order_hour_of_day == 2 and order_dow == 3 ')\n",
    "print(pedidos_as2)\n"
   ]
  },
  {
   "cell_type": "markdown",
   "id": "vu2OWyoqwOx5",
   "metadata": {
    "id": "vu2OWyoqwOx5"
   },
   "source": [
    "O que esse resultado quer dizer?"
   ]
  },
  {
   "cell_type": "markdown",
   "id": "8197066f",
   "metadata": {},
   "source": [
    "<div style=\"background-color: lightblue; padding: 10px;\">\n",
    "Temos menos pedidos de fato do que os 121, desses 121 temos que remover os 15 pedidos duplicados no total temos apenas 107.  \n",
    "\n",
    "</div>"
   ]
  },
  {
   "cell_type": "code",
   "execution_count": 10,
   "id": "480563c7",
   "metadata": {
    "id": "480563c7"
   },
   "outputs": [
    {
     "data": {
      "text/html": [
       "<div>\n",
       "<style scoped>\n",
       "    .dataframe tbody tr th:only-of-type {\n",
       "        vertical-align: middle;\n",
       "    }\n",
       "\n",
       "    .dataframe tbody tr th {\n",
       "        vertical-align: top;\n",
       "    }\n",
       "\n",
       "    .dataframe thead th {\n",
       "        text-align: right;\n",
       "    }\n",
       "</style>\n",
       "<table border=\"1\" class=\"dataframe\">\n",
       "  <thead>\n",
       "    <tr style=\"text-align: right;\">\n",
       "      <th></th>\n",
       "      <th>order_id</th>\n",
       "      <th>user_id</th>\n",
       "      <th>order_number</th>\n",
       "      <th>order_dow</th>\n",
       "      <th>order_hour_of_day</th>\n",
       "      <th>days_since_prior_order</th>\n",
       "    </tr>\n",
       "  </thead>\n",
       "  <tbody>\n",
       "    <tr>\n",
       "      <th>0</th>\n",
       "      <td>1515936</td>\n",
       "      <td>183418</td>\n",
       "      <td>11</td>\n",
       "      <td>6</td>\n",
       "      <td>13</td>\n",
       "      <td>30.0</td>\n",
       "    </tr>\n",
       "    <tr>\n",
       "      <th>1</th>\n",
       "      <td>1690866</td>\n",
       "      <td>163593</td>\n",
       "      <td>5</td>\n",
       "      <td>5</td>\n",
       "      <td>12</td>\n",
       "      <td>9.0</td>\n",
       "    </tr>\n",
       "    <tr>\n",
       "      <th>2</th>\n",
       "      <td>1454967</td>\n",
       "      <td>39980</td>\n",
       "      <td>4</td>\n",
       "      <td>5</td>\n",
       "      <td>19</td>\n",
       "      <td>2.0</td>\n",
       "    </tr>\n",
       "    <tr>\n",
       "      <th>3</th>\n",
       "      <td>1768857</td>\n",
       "      <td>82516</td>\n",
       "      <td>56</td>\n",
       "      <td>0</td>\n",
       "      <td>20</td>\n",
       "      <td>10.0</td>\n",
       "    </tr>\n",
       "    <tr>\n",
       "      <th>4</th>\n",
       "      <td>3007858</td>\n",
       "      <td>196724</td>\n",
       "      <td>2</td>\n",
       "      <td>4</td>\n",
       "      <td>12</td>\n",
       "      <td>17.0</td>\n",
       "    </tr>\n",
       "    <tr>\n",
       "      <th>...</th>\n",
       "      <td>...</td>\n",
       "      <td>...</td>\n",
       "      <td>...</td>\n",
       "      <td>...</td>\n",
       "      <td>...</td>\n",
       "      <td>...</td>\n",
       "    </tr>\n",
       "    <tr>\n",
       "      <th>478947</th>\n",
       "      <td>3210681</td>\n",
       "      <td>5617</td>\n",
       "      <td>5</td>\n",
       "      <td>1</td>\n",
       "      <td>14</td>\n",
       "      <td>7.0</td>\n",
       "    </tr>\n",
       "    <tr>\n",
       "      <th>478948</th>\n",
       "      <td>3270802</td>\n",
       "      <td>112087</td>\n",
       "      <td>2</td>\n",
       "      <td>3</td>\n",
       "      <td>13</td>\n",
       "      <td>6.0</td>\n",
       "    </tr>\n",
       "    <tr>\n",
       "      <th>478949</th>\n",
       "      <td>885349</td>\n",
       "      <td>82944</td>\n",
       "      <td>16</td>\n",
       "      <td>2</td>\n",
       "      <td>11</td>\n",
       "      <td>6.0</td>\n",
       "    </tr>\n",
       "    <tr>\n",
       "      <th>478950</th>\n",
       "      <td>216274</td>\n",
       "      <td>4391</td>\n",
       "      <td>3</td>\n",
       "      <td>3</td>\n",
       "      <td>8</td>\n",
       "      <td>8.0</td>\n",
       "    </tr>\n",
       "    <tr>\n",
       "      <th>478951</th>\n",
       "      <td>2071924</td>\n",
       "      <td>1730</td>\n",
       "      <td>18</td>\n",
       "      <td>1</td>\n",
       "      <td>14</td>\n",
       "      <td>15.0</td>\n",
       "    </tr>\n",
       "  </tbody>\n",
       "</table>\n",
       "<p>478952 rows × 6 columns</p>\n",
       "</div>"
      ],
      "text/plain": [
       "        order_id  user_id  order_number  order_dow  order_hour_of_day  \\\n",
       "0        1515936   183418            11          6                 13   \n",
       "1        1690866   163593             5          5                 12   \n",
       "2        1454967    39980             4          5                 19   \n",
       "3        1768857    82516            56          0                 20   \n",
       "4        3007858   196724             2          4                 12   \n",
       "...          ...      ...           ...        ...                ...   \n",
       "478947   3210681     5617             5          1                 14   \n",
       "478948   3270802   112087             2          3                 13   \n",
       "478949    885349    82944            16          2                 11   \n",
       "478950    216274     4391             3          3                  8   \n",
       "478951   2071924     1730            18          1                 14   \n",
       "\n",
       "        days_since_prior_order  \n",
       "0                         30.0  \n",
       "1                          9.0  \n",
       "2                          2.0  \n",
       "3                         10.0  \n",
       "4                         17.0  \n",
       "...                        ...  \n",
       "478947                     7.0  \n",
       "478948                     6.0  \n",
       "478949                     6.0  \n",
       "478950                     8.0  \n",
       "478951                    15.0  \n",
       "\n",
       "[478952 rows x 6 columns]"
      ]
     },
     "execution_count": 10,
     "metadata": {},
     "output_type": "execute_result"
    }
   ],
   "source": [
    "df_inorder.drop_duplicates(inplace = True)\n",
    "df_inorder.reset_index(drop =True)"
   ]
  },
  {
   "cell_type": "code",
   "execution_count": 11,
   "id": "0b2396a2",
   "metadata": {
    "id": "0b2396a2"
   },
   "outputs": [
    {
     "data": {
      "text/plain": [
       "0"
      ]
     },
     "execution_count": 11,
     "metadata": {},
     "output_type": "execute_result"
    }
   ],
   "source": [
    "# Verifique as linhas duplicadas mais uma vez\n",
    "df_inorder.duplicated().sum()"
   ]
  },
  {
   "cell_type": "code",
   "execution_count": 12,
   "id": "f6113ef1",
   "metadata": {
    "id": "f6113ef1"
   },
   "outputs": [
    {
     "data": {
      "text/plain": [
       "145574     794638\n",
       "223105    2160484\n",
       "230807    1918001\n",
       "266232    1782114\n",
       "273805    1112182\n",
       "284038    2845099\n",
       "311713    1021560\n",
       "321100     408114\n",
       "323900    1919531\n",
       "345917    2232988\n",
       "371905     391768\n",
       "394347     467134\n",
       "411408    1286742\n",
       "415163    2282673\n",
       "441599    2125197\n",
       "Name: order_id, dtype: int64"
      ]
     },
     "execution_count": 12,
     "metadata": {},
     "output_type": "execute_result"
    }
   ],
   "source": [
    "# Verifique novamente apenas os IDs de pedidos duplicados\n",
    "pedidos_duplicados['order_id']"
   ]
  },
  {
   "cell_type": "markdown",
   "id": "5e8905ae",
   "metadata": {
    "id": "5e8905ae"
   },
   "source": [
    "\n",
    "\n",
    "Descreva brevemente suas conclusões e o que você fez com elas."
   ]
  },
  {
   "cell_type": "markdown",
   "id": "c7ad3fd8",
   "metadata": {},
   "source": [
    "<div style=\"background-color: lightblue; padding: 10px;\">\n",
    "       Tinhamos um dataframe com dados duplicados que poderiam nos atrapalhar em nossas análises e poderiam levar a conclusões\n",
    "errôneas. Removemos os duplicados mas ainda faltam alguns ajustes no dataframe como os valores ausentes.\n",
    "    \n",
    "\n",
    "\n",
    "</div>"
   ]
  },
  {
   "cell_type": "markdown",
   "id": "45e6bc46",
   "metadata": {
    "id": "45e6bc46"
   },
   "source": [
    "### DataFrame `products`"
   ]
  },
  {
   "cell_type": "code",
   "execution_count": 13,
   "id": "bcddc3d2",
   "metadata": {},
   "outputs": [
    {
     "data": {
      "text/html": [
       "<div>\n",
       "<style scoped>\n",
       "    .dataframe tbody tr th:only-of-type {\n",
       "        vertical-align: middle;\n",
       "    }\n",
       "\n",
       "    .dataframe tbody tr th {\n",
       "        vertical-align: top;\n",
       "    }\n",
       "\n",
       "    .dataframe thead th {\n",
       "        text-align: right;\n",
       "    }\n",
       "</style>\n",
       "<table border=\"1\" class=\"dataframe\">\n",
       "  <thead>\n",
       "    <tr style=\"text-align: right;\">\n",
       "      <th></th>\n",
       "      <th>product_id</th>\n",
       "      <th>product_name</th>\n",
       "      <th>aisle_id</th>\n",
       "      <th>department_id</th>\n",
       "    </tr>\n",
       "  </thead>\n",
       "  <tbody>\n",
       "    <tr>\n",
       "      <th>33234</th>\n",
       "      <td>33235</td>\n",
       "      <td>Buttercup Squash</td>\n",
       "      <td>83</td>\n",
       "      <td>4</td>\n",
       "    </tr>\n",
       "    <tr>\n",
       "      <th>26323</th>\n",
       "      <td>26324</td>\n",
       "      <td>Grass Fed Ground Beef</td>\n",
       "      <td>122</td>\n",
       "      <td>12</td>\n",
       "    </tr>\n",
       "    <tr>\n",
       "      <th>33562</th>\n",
       "      <td>33563</td>\n",
       "      <td>Oatmeal to Go Brown Sugar Cinnamon</td>\n",
       "      <td>48</td>\n",
       "      <td>14</td>\n",
       "    </tr>\n",
       "    <tr>\n",
       "      <th>45640</th>\n",
       "      <td>45641</td>\n",
       "      <td>Organic Whole Greek Olive Mix</td>\n",
       "      <td>110</td>\n",
       "      <td>13</td>\n",
       "    </tr>\n",
       "    <tr>\n",
       "      <th>11068</th>\n",
       "      <td>11069</td>\n",
       "      <td>Organic Kale Pesto Hummus</td>\n",
       "      <td>67</td>\n",
       "      <td>20</td>\n",
       "    </tr>\n",
       "    <tr>\n",
       "      <th>22454</th>\n",
       "      <td>22455</td>\n",
       "      <td>Deluxe Grahams</td>\n",
       "      <td>61</td>\n",
       "      <td>19</td>\n",
       "    </tr>\n",
       "    <tr>\n",
       "      <th>30482</th>\n",
       "      <td>30483</td>\n",
       "      <td>Dulce De Leche Sugar Free Pudding</td>\n",
       "      <td>71</td>\n",
       "      <td>16</td>\n",
       "    </tr>\n",
       "    <tr>\n",
       "      <th>3988</th>\n",
       "      <td>3989</td>\n",
       "      <td>Parmesan and Roasted Garlic Dressing</td>\n",
       "      <td>89</td>\n",
       "      <td>13</td>\n",
       "    </tr>\n",
       "    <tr>\n",
       "      <th>25784</th>\n",
       "      <td>25785</td>\n",
       "      <td>Neck Wrist and Shoulder Heat Wrap</td>\n",
       "      <td>133</td>\n",
       "      <td>11</td>\n",
       "    </tr>\n",
       "    <tr>\n",
       "      <th>3228</th>\n",
       "      <td>3229</td>\n",
       "      <td>Rich &amp; Hearty Chicken Corn Chowder Flavored wi...</td>\n",
       "      <td>69</td>\n",
       "      <td>15</td>\n",
       "    </tr>\n",
       "  </tbody>\n",
       "</table>\n",
       "</div>"
      ],
      "text/plain": [
       "       product_id                                       product_name  \\\n",
       "33234       33235                                   Buttercup Squash   \n",
       "26323       26324                              Grass Fed Ground Beef   \n",
       "33562       33563                 Oatmeal to Go Brown Sugar Cinnamon   \n",
       "45640       45641                      Organic Whole Greek Olive Mix   \n",
       "11068       11069                          Organic Kale Pesto Hummus   \n",
       "22454       22455                                     Deluxe Grahams   \n",
       "30482       30483                  Dulce De Leche Sugar Free Pudding   \n",
       "3988         3989               Parmesan and Roasted Garlic Dressing   \n",
       "25784       25785                  Neck Wrist and Shoulder Heat Wrap   \n",
       "3228         3229  Rich & Hearty Chicken Corn Chowder Flavored wi...   \n",
       "\n",
       "       aisle_id  department_id  \n",
       "33234        83              4  \n",
       "26323       122             12  \n",
       "33562        48             14  \n",
       "45640       110             13  \n",
       "11068        67             20  \n",
       "22454        61             19  \n",
       "30482        71             16  \n",
       "3988         89             13  \n",
       "25784       133             11  \n",
       "3228         69             15  "
      ]
     },
     "execution_count": 13,
     "metadata": {},
     "output_type": "execute_result"
    }
   ],
   "source": [
    "df_product.sample(10)  #imprimimos parte da tabela para uma melhor visualização"
   ]
  },
  {
   "cell_type": "code",
   "execution_count": 14,
   "id": "5f526b5b-8175-46fa-a0fd-441767d50e64",
   "metadata": {
    "id": "5f526b5b-8175-46fa-a0fd-441767d50e64"
   },
   "outputs": [
    {
     "data": {
      "text/plain": [
       "0"
      ]
     },
     "execution_count": 14,
     "metadata": {},
     "output_type": "execute_result"
    }
   ],
   "source": [
    "# Verifique se há linhas completamente duplicadas\n",
    "df_product.duplicated().sum()\n",
    "df_product.sample(10)\n",
    "df_product['product_name'] = df_product['product_name'].str.lower()\n",
    "df_product.sample(10)\n",
    "\n",
    "df_product.duplicated().sum()\n"
   ]
  },
  {
   "cell_type": "code",
   "execution_count": 15,
   "id": "88daa4f4",
   "metadata": {
    "id": "88daa4f4"
   },
   "outputs": [
    {
     "data": {
      "text/plain": [
       "0"
      ]
     },
     "execution_count": 15,
     "metadata": {},
     "output_type": "execute_result"
    }
   ],
   "source": [
    "# Verifique apenas IDs dos produtos duplicados\n",
    "df_product['product_id'].duplicated().sum()"
   ]
  },
  {
   "cell_type": "code",
   "execution_count": 16,
   "id": "c773f0bf",
   "metadata": {
    "id": "c773f0bf"
   },
   "outputs": [
    {
     "data": {
      "text/plain": [
       "104"
      ]
     },
     "execution_count": 16,
     "metadata": {},
     "output_type": "execute_result"
    }
   ],
   "source": [
    "# Verifique apenas nomes de produtos duplicados (converta os nomes para minúsculas para uma comparação melhor)\n",
    "df_product['product_name'] = df_product['product_name'].str.lower()\n",
    "df_product[df_product['product_name'].duplicated() ==True].value_counts().sum()"
   ]
  },
  {
   "cell_type": "code",
   "execution_count": 17,
   "id": "01efd02e",
   "metadata": {
    "id": "01efd02e"
   },
   "outputs": [
    {
     "name": "stdout",
     "output_type": "stream",
     "text": [
      "       product_id                               product_name  aisle_id  \\\n",
      "23339       23340  18-in-1 hemp peppermint pure-castile soap        25   \n",
      "31844       31845  18-in-1 hemp peppermint pure-castile soap        25   \n",
      "19941       19942            aged balsamic vinegar of modena        19   \n",
      "13152       13153            aged balsamic vinegar of modena        19   \n",
      "24830       24831         albacore solid white tuna in water        95   \n",
      "...           ...                                        ...       ...   \n",
      "46873       46874                         vitamin d3 5000 iu        47   \n",
      "21366       21367              wild sardines in spring water        95   \n",
      "40093       40094              wild sardines in spring water        95   \n",
      "1826         1827           yams cut sweet potatoes in syrup        81   \n",
      "38260       38261           yams cut sweet potatoes in syrup        81   \n",
      "\n",
      "       department_id  \n",
      "23339             11  \n",
      "31844             11  \n",
      "19941             13  \n",
      "13152             13  \n",
      "24830             15  \n",
      "...              ...  \n",
      "46873             11  \n",
      "21366             15  \n",
      "40093             15  \n",
      "1826              15  \n",
      "38260             15  \n",
      "\n",
      "[207 rows x 4 columns]\n"
     ]
    }
   ],
   "source": [
    "# Verifique os nomes de produtos duplicados que não estão faltando\n",
    "duplicated_names = df_product[df_product['product_name'].notna() & df_product['product_name'].duplicated(keep=False)]\n",
    "print(duplicated_names.sort_values(by ='product_name'))\n",
    "\n"
   ]
  },
  {
   "cell_type": "markdown",
   "id": "9da8d293",
   "metadata": {
    "id": "9da8d293"
   },
   "source": [
    "Descreva brevemente suas conclusões e o que você fez com elas."
   ]
  },
  {
   "cell_type": "markdown",
   "id": "1aa65444",
   "metadata": {},
   "source": [
    "<div style=\"background-color: lightblue; padding: 10px;\">\n",
    "Não existem linhas inteiras duplicadas, mas algumas colunas possuem valores únicos repetidos, não removemos pois mesmo sendo nomes duplicados eles possuem ids diferentes o que pode representar 2 produtos de marcas diferentes.\n",
    "\n",
    "</div>"
   ]
  },
  {
   "cell_type": "markdown",
   "id": "60f30db1",
   "metadata": {
    "id": "60f30db1"
   },
   "source": [
    "### DataFrame `departments`"
   ]
  },
  {
   "cell_type": "code",
   "execution_count": 18,
   "id": "78178251",
   "metadata": {},
   "outputs": [
    {
     "name": "stdout",
     "output_type": "stream",
     "text": [
      "<class 'pandas.core.frame.DataFrame'>\n",
      "RangeIndex: 21 entries, 0 to 20\n",
      "Data columns (total 2 columns):\n",
      " #   Column         Non-Null Count  Dtype \n",
      "---  ------         --------------  ----- \n",
      " 0   department_id  21 non-null     int64 \n",
      " 1   department     21 non-null     object\n",
      "dtypes: int64(1), object(1)\n",
      "memory usage: 464.0+ bytes\n"
     ]
    }
   ],
   "source": [
    "df_depart.info()"
   ]
  },
  {
   "cell_type": "code",
   "execution_count": 19,
   "id": "329dc0ab",
   "metadata": {},
   "outputs": [
    {
     "data": {
      "text/html": [
       "<div>\n",
       "<style scoped>\n",
       "    .dataframe tbody tr th:only-of-type {\n",
       "        vertical-align: middle;\n",
       "    }\n",
       "\n",
       "    .dataframe tbody tr th {\n",
       "        vertical-align: top;\n",
       "    }\n",
       "\n",
       "    .dataframe thead th {\n",
       "        text-align: right;\n",
       "    }\n",
       "</style>\n",
       "<table border=\"1\" class=\"dataframe\">\n",
       "  <thead>\n",
       "    <tr style=\"text-align: right;\">\n",
       "      <th></th>\n",
       "      <th>department_id</th>\n",
       "      <th>department</th>\n",
       "    </tr>\n",
       "  </thead>\n",
       "  <tbody>\n",
       "    <tr>\n",
       "      <th>9</th>\n",
       "      <td>10</td>\n",
       "      <td>bulk</td>\n",
       "    </tr>\n",
       "    <tr>\n",
       "      <th>0</th>\n",
       "      <td>1</td>\n",
       "      <td>frozen</td>\n",
       "    </tr>\n",
       "    <tr>\n",
       "      <th>17</th>\n",
       "      <td>18</td>\n",
       "      <td>babies</td>\n",
       "    </tr>\n",
       "    <tr>\n",
       "      <th>18</th>\n",
       "      <td>19</td>\n",
       "      <td>snacks</td>\n",
       "    </tr>\n",
       "    <tr>\n",
       "      <th>1</th>\n",
       "      <td>2</td>\n",
       "      <td>other</td>\n",
       "    </tr>\n",
       "    <tr>\n",
       "      <th>11</th>\n",
       "      <td>12</td>\n",
       "      <td>meat seafood</td>\n",
       "    </tr>\n",
       "    <tr>\n",
       "      <th>16</th>\n",
       "      <td>17</td>\n",
       "      <td>household</td>\n",
       "    </tr>\n",
       "    <tr>\n",
       "      <th>15</th>\n",
       "      <td>16</td>\n",
       "      <td>dairy eggs</td>\n",
       "    </tr>\n",
       "    <tr>\n",
       "      <th>2</th>\n",
       "      <td>3</td>\n",
       "      <td>bakery</td>\n",
       "    </tr>\n",
       "    <tr>\n",
       "      <th>5</th>\n",
       "      <td>6</td>\n",
       "      <td>international</td>\n",
       "    </tr>\n",
       "    <tr>\n",
       "      <th>7</th>\n",
       "      <td>8</td>\n",
       "      <td>pets</td>\n",
       "    </tr>\n",
       "    <tr>\n",
       "      <th>20</th>\n",
       "      <td>21</td>\n",
       "      <td>missing</td>\n",
       "    </tr>\n",
       "    <tr>\n",
       "      <th>3</th>\n",
       "      <td>4</td>\n",
       "      <td>produce</td>\n",
       "    </tr>\n",
       "    <tr>\n",
       "      <th>12</th>\n",
       "      <td>13</td>\n",
       "      <td>pantry</td>\n",
       "    </tr>\n",
       "    <tr>\n",
       "      <th>6</th>\n",
       "      <td>7</td>\n",
       "      <td>beverages</td>\n",
       "    </tr>\n",
       "    <tr>\n",
       "      <th>8</th>\n",
       "      <td>9</td>\n",
       "      <td>dry goods pasta</td>\n",
       "    </tr>\n",
       "    <tr>\n",
       "      <th>10</th>\n",
       "      <td>11</td>\n",
       "      <td>personal care</td>\n",
       "    </tr>\n",
       "    <tr>\n",
       "      <th>13</th>\n",
       "      <td>14</td>\n",
       "      <td>breakfast</td>\n",
       "    </tr>\n",
       "    <tr>\n",
       "      <th>19</th>\n",
       "      <td>20</td>\n",
       "      <td>deli</td>\n",
       "    </tr>\n",
       "    <tr>\n",
       "      <th>14</th>\n",
       "      <td>15</td>\n",
       "      <td>canned goods</td>\n",
       "    </tr>\n",
       "    <tr>\n",
       "      <th>4</th>\n",
       "      <td>5</td>\n",
       "      <td>alcohol</td>\n",
       "    </tr>\n",
       "  </tbody>\n",
       "</table>\n",
       "</div>"
      ],
      "text/plain": [
       "    department_id       department\n",
       "9              10             bulk\n",
       "0               1           frozen\n",
       "17             18           babies\n",
       "18             19           snacks\n",
       "1               2            other\n",
       "11             12     meat seafood\n",
       "16             17        household\n",
       "15             16       dairy eggs\n",
       "2               3           bakery\n",
       "5               6    international\n",
       "7               8             pets\n",
       "20             21          missing\n",
       "3               4          produce\n",
       "12             13           pantry\n",
       "6               7        beverages\n",
       "8               9  dry goods pasta\n",
       "10             11    personal care\n",
       "13             14        breakfast\n",
       "19             20             deli\n",
       "14             15     canned goods\n",
       "4               5          alcohol"
      ]
     },
     "execution_count": 19,
     "metadata": {},
     "output_type": "execute_result"
    }
   ],
   "source": [
    "df_depart.sample(21)"
   ]
  },
  {
   "cell_type": "code",
   "execution_count": 20,
   "id": "fb410ad4-0fbf-4b80-bb09-23fdea79afe3",
   "metadata": {
    "id": "fb410ad4-0fbf-4b80-bb09-23fdea79afe3"
   },
   "outputs": [
    {
     "data": {
      "text/plain": [
       "0"
      ]
     },
     "execution_count": 20,
     "metadata": {},
     "output_type": "execute_result"
    }
   ],
   "source": [
    "# Verifique se há linhas completamente duplicadas\n",
    "df_depart.duplicated().sum()"
   ]
  },
  {
   "cell_type": "code",
   "execution_count": 21,
   "id": "332b12bb",
   "metadata": {
    "id": "332b12bb"
   },
   "outputs": [
    {
     "data": {
      "text/plain": [
       "0"
      ]
     },
     "execution_count": 21,
     "metadata": {},
     "output_type": "execute_result"
    }
   ],
   "source": [
    "# Verifique apenas se há IDs dos produtos duplicados\n",
    "\n",
    "df_depart['department_id'].duplicated().sum()"
   ]
  },
  {
   "cell_type": "markdown",
   "id": "bd30d78e",
   "metadata": {
    "id": "bd30d78e"
   },
   "source": [
    "Descreva brevemente suas conclusões e o que você fez com elas."
   ]
  },
  {
   "cell_type": "markdown",
   "id": "9ea3e676",
   "metadata": {},
   "source": [
    "<div style=\"background-color: lightblue; padding: 10px;\">\n",
    "Este dataframe não posui duplicados. Verificado   \n",
    "   \n",
    "</div>"
   ]
  },
  {
   "cell_type": "markdown",
   "id": "889349c1",
   "metadata": {
    "id": "889349c1"
   },
   "source": [
    "### DataFrame `aisles`"
   ]
  },
  {
   "cell_type": "code",
   "execution_count": 22,
   "id": "9da89fb9-4679-40f5-ad0d-c34df753a3f8",
   "metadata": {
    "id": "9da89fb9-4679-40f5-ad0d-c34df753a3f8"
   },
   "outputs": [
    {
     "data": {
      "text/plain": [
       "0"
      ]
     },
     "execution_count": 22,
     "metadata": {},
     "output_type": "execute_result"
    }
   ],
   "source": [
    "# Verifique se há linhas completamente duplicadas\n",
    "df_les.duplicated().sum()"
   ]
  },
  {
   "cell_type": "code",
   "execution_count": 23,
   "id": "83f954b1",
   "metadata": {},
   "outputs": [
    {
     "data": {
      "text/html": [
       "<div>\n",
       "<style scoped>\n",
       "    .dataframe tbody tr th:only-of-type {\n",
       "        vertical-align: middle;\n",
       "    }\n",
       "\n",
       "    .dataframe tbody tr th {\n",
       "        vertical-align: top;\n",
       "    }\n",
       "\n",
       "    .dataframe thead th {\n",
       "        text-align: right;\n",
       "    }\n",
       "</style>\n",
       "<table border=\"1\" class=\"dataframe\">\n",
       "  <thead>\n",
       "    <tr style=\"text-align: right;\">\n",
       "      <th></th>\n",
       "      <th>aisle_id</th>\n",
       "      <th>aisle</th>\n",
       "    </tr>\n",
       "  </thead>\n",
       "  <tbody>\n",
       "    <tr>\n",
       "      <th>94</th>\n",
       "      <td>95</td>\n",
       "      <td>canned meat seafood</td>\n",
       "    </tr>\n",
       "    <tr>\n",
       "      <th>63</th>\n",
       "      <td>64</td>\n",
       "      <td>energy sports drinks</td>\n",
       "    </tr>\n",
       "    <tr>\n",
       "      <th>47</th>\n",
       "      <td>48</td>\n",
       "      <td>breakfast bars pastries</td>\n",
       "    </tr>\n",
       "    <tr>\n",
       "      <th>111</th>\n",
       "      <td>112</td>\n",
       "      <td>bread</td>\n",
       "    </tr>\n",
       "    <tr>\n",
       "      <th>102</th>\n",
       "      <td>103</td>\n",
       "      <td>ice cream toppings</td>\n",
       "    </tr>\n",
       "  </tbody>\n",
       "</table>\n",
       "</div>"
      ],
      "text/plain": [
       "     aisle_id                    aisle\n",
       "94         95      canned meat seafood\n",
       "63         64     energy sports drinks\n",
       "47         48  breakfast bars pastries\n",
       "111       112                    bread\n",
       "102       103       ice cream toppings"
      ]
     },
     "execution_count": 23,
     "metadata": {},
     "output_type": "execute_result"
    }
   ],
   "source": [
    "df_les.sample(5)   #imprimimos parte da tabela para uma melhor visualização"
   ]
  },
  {
   "cell_type": "code",
   "execution_count": 24,
   "id": "da7c2822",
   "metadata": {
    "id": "da7c2822"
   },
   "outputs": [
    {
     "data": {
      "text/plain": [
       "0"
      ]
     },
     "execution_count": 24,
     "metadata": {},
     "output_type": "execute_result"
    }
   ],
   "source": [
    "# Verifique apenas se há IDs dos produtos duplicados\n",
    "df_les['aisle_id'].duplicated().sum()"
   ]
  },
  {
   "cell_type": "code",
   "execution_count": 25,
   "id": "10e0036b",
   "metadata": {},
   "outputs": [
    {
     "data": {
      "text/plain": [
       "0"
      ]
     },
     "execution_count": 25,
     "metadata": {},
     "output_type": "execute_result"
    }
   ],
   "source": [
    "df_les['aisle'].duplicated().sum()"
   ]
  },
  {
   "cell_type": "markdown",
   "id": "ac63826f",
   "metadata": {
    "id": "ac63826f"
   },
   "source": [
    "Descreva brevemente suas conclusões e o que você fez com elas."
   ]
  },
  {
   "cell_type": "markdown",
   "id": "fc6f6f49",
   "metadata": {},
   "source": [
    "<div style=\"background-color: lightblue; padding: 10px;\">\n",
    "Não há duplicados neste dataframe.   \n",
    "   \n",
    "</div>"
   ]
  },
  {
   "cell_type": "markdown",
   "id": "274cd06a",
   "metadata": {
    "id": "274cd06a"
   },
   "source": [
    "### DataFrame `order_products`"
   ]
  },
  {
   "cell_type": "code",
   "execution_count": 26,
   "id": "91934a8d",
   "metadata": {},
   "outputs": [
    {
     "data": {
      "text/html": [
       "<div>\n",
       "<style scoped>\n",
       "    .dataframe tbody tr th:only-of-type {\n",
       "        vertical-align: middle;\n",
       "    }\n",
       "\n",
       "    .dataframe tbody tr th {\n",
       "        vertical-align: top;\n",
       "    }\n",
       "\n",
       "    .dataframe thead th {\n",
       "        text-align: right;\n",
       "    }\n",
       "</style>\n",
       "<table border=\"1\" class=\"dataframe\">\n",
       "  <thead>\n",
       "    <tr style=\"text-align: right;\">\n",
       "      <th></th>\n",
       "      <th>order_id</th>\n",
       "      <th>product_id</th>\n",
       "      <th>add_to_cart_order</th>\n",
       "      <th>reordered</th>\n",
       "    </tr>\n",
       "  </thead>\n",
       "  <tbody>\n",
       "    <tr>\n",
       "      <th>0</th>\n",
       "      <td>2141543</td>\n",
       "      <td>11440</td>\n",
       "      <td>17.0</td>\n",
       "      <td>0</td>\n",
       "    </tr>\n",
       "    <tr>\n",
       "      <th>1</th>\n",
       "      <td>567889</td>\n",
       "      <td>1560</td>\n",
       "      <td>1.0</td>\n",
       "      <td>1</td>\n",
       "    </tr>\n",
       "    <tr>\n",
       "      <th>2</th>\n",
       "      <td>2261212</td>\n",
       "      <td>26683</td>\n",
       "      <td>1.0</td>\n",
       "      <td>1</td>\n",
       "    </tr>\n",
       "    <tr>\n",
       "      <th>3</th>\n",
       "      <td>491251</td>\n",
       "      <td>8670</td>\n",
       "      <td>35.0</td>\n",
       "      <td>1</td>\n",
       "    </tr>\n",
       "    <tr>\n",
       "      <th>4</th>\n",
       "      <td>2571142</td>\n",
       "      <td>1940</td>\n",
       "      <td>5.0</td>\n",
       "      <td>1</td>\n",
       "    </tr>\n",
       "  </tbody>\n",
       "</table>\n",
       "</div>"
      ],
      "text/plain": [
       "   order_id  product_id  add_to_cart_order  reordered\n",
       "0   2141543       11440               17.0          0\n",
       "1    567889        1560                1.0          1\n",
       "2   2261212       26683                1.0          1\n",
       "3    491251        8670               35.0          1\n",
       "4   2571142        1940                5.0          1"
      ]
     },
     "execution_count": 26,
     "metadata": {},
     "output_type": "execute_result"
    }
   ],
   "source": [
    "df_orderprod.head()  #imprimimos parte da tabela para uma melhor visualização"
   ]
  },
  {
   "cell_type": "code",
   "execution_count": 27,
   "id": "52326689-84a8-4b8f-a881-7c68780f62c9",
   "metadata": {
    "id": "52326689-84a8-4b8f-a881-7c68780f62c9"
   },
   "outputs": [
    {
     "data": {
      "text/plain": [
       "0"
      ]
     },
     "execution_count": 27,
     "metadata": {},
     "output_type": "execute_result"
    }
   ],
   "source": [
    "# Verifique se há linhas completamente duplicadas\n",
    "df_orderprod.duplicated().sum()"
   ]
  },
  {
   "cell_type": "code",
   "execution_count": 28,
   "id": "7b861391",
   "metadata": {
    "id": "7b861391"
   },
   "outputs": [
    {
     "data": {
      "text/plain": [
       "0"
      ]
     },
     "execution_count": 28,
     "metadata": {},
     "output_type": "execute_result"
    }
   ],
   "source": [
    "# Verifique mais uma vez se há outros casos complicados de duplicados\n",
    "\n",
    "df_orderprod[df_orderprod[['order_id' ,'product_id' ]].duplicated() == True].value_counts().sum()"
   ]
  },
  {
   "cell_type": "markdown",
   "id": "0b890492",
   "metadata": {
    "id": "0b890492"
   },
   "source": [
    "Descreva brevemente suas conclusões e o que você fez com elas."
   ]
  },
  {
   "cell_type": "markdown",
   "id": "6230bf5c",
   "metadata": {},
   "source": [
    "<div style=\"background-color: lightblue; padding: 10px;\">\n",
    "Este dataframe não possui duplicados, tanto em linhas inteiras quanto nos pedidos.\n",
    "Temos varios produtos para uma mesma ordem de pedido, mas isso nao significa que são duplicaçoes, então verificamos se havia\n",
    "dois ids iguais de produtos pedidos em uma mesma ordem pois dessa forma haveria duplicaçoes e não encontramos também.\n",
    "   \n",
    "</div>"
   ]
  },
  {
   "cell_type": "markdown",
   "id": "1e46de76",
   "metadata": {
    "id": "1e46de76"
   },
   "source": [
    "## Encontre e remova valores ausentes\n",
    "\n",
    "\n",
    "Ao processarmos valores duplicados, observamos que também temos valores ausentes que precisamos investigar nas seguintes colunas:\n",
    "\n",
    "*\tA coluna `'product_name'` da tabela products.\n",
    "*\tA coluna `'days_since_prior_order'` da tabela orders.\n",
    "*\tA coluna `'add_to_cart_order'` da tabela order_products.\n"
   ]
  },
  {
   "cell_type": "markdown",
   "id": "c0aebd78",
   "metadata": {
    "id": "c0aebd78"
   },
   "source": [
    "### DataFrame `products`"
   ]
  },
  {
   "cell_type": "code",
   "execution_count": 29,
   "id": "fe4a8b0f",
   "metadata": {
    "id": "fe4a8b0f"
   },
   "outputs": [
    {
     "data": {
      "text/plain": [
       "product_id          0\n",
       "product_name     1258\n",
       "aisle_id            0\n",
       "department_id       0\n",
       "dtype: int64"
      ]
     },
     "execution_count": 29,
     "metadata": {},
     "output_type": "execute_result"
    }
   ],
   "source": [
    "# Encontre valores ausentes na coluna 'product_name'\n",
    "df_product.isna().sum()"
   ]
  },
  {
   "cell_type": "markdown",
   "id": "-A6x1AbJhjkp",
   "metadata": {
    "id": "-A6x1AbJhjkp"
   },
   "source": [
    "Descreva brevemente suas conclusões."
   ]
  },
  {
   "cell_type": "code",
   "execution_count": 30,
   "id": "e96167bc",
   "metadata": {
    "id": "e96167bc"
   },
   "outputs": [
    {
     "name": "stdout",
     "output_type": "stream",
     "text": [
      "todos os produtos ausentes tem id 100\n"
     ]
    }
   ],
   "source": [
    "# Todos os nomes de produtos ausentes estão associados com o corredor de ID 100?\n",
    "df_product['productna']= df_product['product_name'].isna() #productna= coluna nova com apenas os valores ausentes de product_name'\n",
    "product_na = df_product[df_product['productna']]\n",
    "if (product_na['aisle_id'] == 100).all():\n",
    "    print('todos os produtos ausentes tem id 100')\n",
    "else:\n",
    "    print('tem id diferente')\n",
    "\n",
    "        "
   ]
  },
  {
   "cell_type": "markdown",
   "id": "WRpIfXRphpSL",
   "metadata": {
    "id": "WRpIfXRphpSL"
   },
   "source": [
    "Descreva brevemente suas conclusões."
   ]
  },
  {
   "cell_type": "code",
   "execution_count": 31,
   "id": "8fd0a541",
   "metadata": {
    "id": "8fd0a541"
   },
   "outputs": [
    {
     "name": "stdout",
     "output_type": "stream",
     "text": [
      "sim são todos do departamento 21\n"
     ]
    }
   ],
   "source": [
    "# Todos os nomes de produtos ausentes estão associados com o departamento de ID 21?\n",
    "product_na[['product_name', 'department_id']] #este codigo mostra que aparentemente sim, vamos verificar\n",
    "if (product_na['department_id'] == 21).all():\n",
    "    print('sim são todos do departamento 21' )\n",
    "else:\n",
    "    print('Não, tem de outros departamentos')"
   ]
  },
  {
   "cell_type": "markdown",
   "id": "qDpdYn1Fht_I",
   "metadata": {
    "id": "qDpdYn1Fht_I"
   },
   "source": [
    "Descreva brevemente suas conclusões."
   ]
  },
  {
   "cell_type": "code",
   "execution_count": 32,
   "id": "325c3464",
   "metadata": {
    "id": "325c3464"
   },
   "outputs": [
    {
     "name": "stdout",
     "output_type": "stream",
     "text": [
      "       product_id product_name  aisle_id  department_id  productna\n",
      "37             38          NaN       100             21       True\n",
      "71             72          NaN       100             21       True\n",
      "109           110          NaN       100             21       True\n",
      "296           297          NaN       100             21       True\n",
      "416           417          NaN       100             21       True\n",
      "...           ...          ...       ...            ...        ...\n",
      "49552       49553          NaN       100             21       True\n",
      "49574       49575          NaN       100             21       True\n",
      "49640       49641          NaN       100             21       True\n",
      "49663       49664          NaN       100             21       True\n",
      "49668       49669          NaN       100             21       True\n",
      "\n",
      "[1258 rows x 5 columns]\n",
      "\n",
      "       product_id product_name  aisle_id  department_id  productna\n",
      "37             38          NaN       100             21       True\n",
      "71             72          NaN       100             21       True\n",
      "109           110          NaN       100             21       True\n",
      "296           297          NaN       100             21       True\n",
      "416           417          NaN       100             21       True\n",
      "...           ...          ...       ...            ...        ...\n",
      "49552       49553          NaN       100             21       True\n",
      "49574       49575          NaN       100             21       True\n",
      "49640       49641          NaN       100             21       True\n",
      "49663       49664          NaN       100             21       True\n",
      "49668       49669          NaN       100             21       True\n",
      "\n",
      "[1258 rows x 5 columns]\n"
     ]
    }
   ],
   "source": [
    "# Use as tabelas department e aisle para verificar os dados do corredor com ID 100 e do departamento com ID 21.\n",
    "department = df_product[df_product['aisle_id']==100]\n",
    "aisle = df_product[df_product['department_id'] ==21]\n",
    "print(department )\n",
    "print()\n",
    "print(aisle)"
   ]
  },
  {
   "cell_type": "markdown",
   "id": "nqhSTUPhhvEJ",
   "metadata": {
    "id": "nqhSTUPhhvEJ"
   },
   "source": [
    "Descreva brevemente suas conclusões."
   ]
  },
  {
   "cell_type": "code",
   "execution_count": 33,
   "id": "6b295120",
   "metadata": {
    "id": "6b295120"
   },
   "outputs": [
    {
     "data": {
      "text/plain": [
       "product_id       0\n",
       "product_name     0\n",
       "aisle_id         0\n",
       "department_id    0\n",
       "productna        0\n",
       "dtype: int64"
      ]
     },
     "execution_count": 33,
     "metadata": {},
     "output_type": "execute_result"
    }
   ],
   "source": [
    "# Preencha nomes de produtos ausentes com 'Unknown'\n",
    "df_product['product_name'] = df_product['product_name'].fillna('unknown') #preenchemos\n",
    "df_product.isna().sum() #verificamos se ainda existem valores ausentes"
   ]
  },
  {
   "cell_type": "markdown",
   "id": "fc70e5ad",
   "metadata": {
    "id": "fc70e5ad"
   },
   "source": [
    "Descreva brevemente suas conclusões e o que você fez com elas."
   ]
  },
  {
   "cell_type": "markdown",
   "id": "7eb45c86",
   "metadata": {
    "id": "7eb45c86"
   },
   "source": [
    "### DataFrame `orders`"
   ]
  },
  {
   "cell_type": "code",
   "execution_count": 34,
   "id": "7429047b",
   "metadata": {
    "id": "93e41d96"
   },
   "outputs": [
    {
     "data": {
      "text/plain": [
       "order_id                      0\n",
       "user_id                       0\n",
       "order_number                  0\n",
       "order_dow                     0\n",
       "order_hour_of_day             0\n",
       "days_since_prior_order    28817\n",
       "dtype: int64"
      ]
     },
     "execution_count": 34,
     "metadata": {},
     "output_type": "execute_result"
    }
   ],
   "source": [
    "# Encontre os valores ausentes\n",
    "df_inorder.isna().sum()"
   ]
  },
  {
   "cell_type": "code",
   "execution_count": 35,
   "id": "bf4ad3f8",
   "metadata": {
    "id": "166e5a86"
   },
   "outputs": [],
   "source": [
    "# Há valores ausentes para os clientes que não estão fazendo o primeiro pedido?\n",
    "\n",
    "# Se o cliente não faz o pedido não há registros."
   ]
  },
  {
   "cell_type": "markdown",
   "id": "4e23d089",
   "metadata": {
    "id": "4e23d089"
   },
   "source": [
    "Descreva brevemente suas conclusões e o que você fez com elas."
   ]
  },
  {
   "cell_type": "markdown",
   "id": "69dc9ca4",
   "metadata": {
    "id": "69dc9ca4"
   },
   "source": [
    "### DataFrame `order_products`"
   ]
  },
  {
   "cell_type": "code",
   "execution_count": 36,
   "id": "3ec00b84",
   "metadata": {
    "id": "b8240253"
   },
   "outputs": [
    {
     "data": {
      "text/plain": [
       "order_id               0\n",
       "product_id             0\n",
       "add_to_cart_order    836\n",
       "reordered              0\n",
       "dtype: int64"
      ]
     },
     "execution_count": 36,
     "metadata": {},
     "output_type": "execute_result"
    }
   ],
   "source": [
    "# Encontre os valores ausentes\n",
    "df_orderprod.isna().sum()"
   ]
  },
  {
   "cell_type": "code",
   "execution_count": 37,
   "id": "e8edf652",
   "metadata": {},
   "outputs": [
    {
     "data": {
      "text/html": [
       "<div>\n",
       "<style scoped>\n",
       "    .dataframe tbody tr th:only-of-type {\n",
       "        vertical-align: middle;\n",
       "    }\n",
       "\n",
       "    .dataframe tbody tr th {\n",
       "        vertical-align: top;\n",
       "    }\n",
       "\n",
       "    .dataframe thead th {\n",
       "        text-align: right;\n",
       "    }\n",
       "</style>\n",
       "<table border=\"1\" class=\"dataframe\">\n",
       "  <thead>\n",
       "    <tr style=\"text-align: right;\">\n",
       "      <th></th>\n",
       "      <th>order_id</th>\n",
       "      <th>product_id</th>\n",
       "      <th>add_to_cart_order</th>\n",
       "      <th>reordered</th>\n",
       "    </tr>\n",
       "  </thead>\n",
       "  <tbody>\n",
       "    <tr>\n",
       "      <th>0</th>\n",
       "      <td>2141543</td>\n",
       "      <td>11440</td>\n",
       "      <td>17.0</td>\n",
       "      <td>0</td>\n",
       "    </tr>\n",
       "    <tr>\n",
       "      <th>1</th>\n",
       "      <td>567889</td>\n",
       "      <td>1560</td>\n",
       "      <td>1.0</td>\n",
       "      <td>1</td>\n",
       "    </tr>\n",
       "    <tr>\n",
       "      <th>2</th>\n",
       "      <td>2261212</td>\n",
       "      <td>26683</td>\n",
       "      <td>1.0</td>\n",
       "      <td>1</td>\n",
       "    </tr>\n",
       "    <tr>\n",
       "      <th>3</th>\n",
       "      <td>491251</td>\n",
       "      <td>8670</td>\n",
       "      <td>35.0</td>\n",
       "      <td>1</td>\n",
       "    </tr>\n",
       "    <tr>\n",
       "      <th>4</th>\n",
       "      <td>2571142</td>\n",
       "      <td>1940</td>\n",
       "      <td>5.0</td>\n",
       "      <td>1</td>\n",
       "    </tr>\n",
       "  </tbody>\n",
       "</table>\n",
       "</div>"
      ],
      "text/plain": [
       "   order_id  product_id  add_to_cart_order  reordered\n",
       "0   2141543       11440               17.0          0\n",
       "1    567889        1560                1.0          1\n",
       "2   2261212       26683                1.0          1\n",
       "3    491251        8670               35.0          1\n",
       "4   2571142        1940                5.0          1"
      ]
     },
     "execution_count": 37,
     "metadata": {},
     "output_type": "execute_result"
    }
   ],
   "source": [
    "df_orderprod.head()  #imprimimos parte da tabela para uma melhor visualização"
   ]
  },
  {
   "cell_type": "code",
   "execution_count": 38,
   "id": "9a78e5ee",
   "metadata": {
    "id": "9a78e5ee"
   },
   "outputs": [
    {
     "name": "stdout",
     "output_type": "stream",
     "text": [
      "1.0\n",
      "64.0\n"
     ]
    }
   ],
   "source": [
    "# Quais são os valores mínimo e máximo dessa coluna?\n",
    "#acredito que esteja perguntando da coluna com valores ausentes entao vou me basear nela\n",
    "orderprod_min = df_orderprod['add_to_cart_order'].min()\n",
    "orderprod_max =  df_orderprod['add_to_cart_order'].max()\n",
    "print(orderprod_min)\n",
    "print(orderprod_max)"
   ]
  },
  {
   "cell_type": "markdown",
   "id": "-Z2Ja215jW78",
   "metadata": {
    "id": "-Z2Ja215jW78"
   },
   "source": [
    "Descreva brevemente suas conclusões."
   ]
  },
  {
   "cell_type": "code",
   "execution_count": 39,
   "id": "ab9d0c2b",
   "metadata": {
    "id": "ab9d0c2b"
   },
   "outputs": [
    {
     "data": {
      "text/html": [
       "<div>\n",
       "<style scoped>\n",
       "    .dataframe tbody tr th:only-of-type {\n",
       "        vertical-align: middle;\n",
       "    }\n",
       "\n",
       "    .dataframe tbody tr th {\n",
       "        vertical-align: top;\n",
       "    }\n",
       "\n",
       "    .dataframe thead th {\n",
       "        text-align: right;\n",
       "    }\n",
       "</style>\n",
       "<table border=\"1\" class=\"dataframe\">\n",
       "  <thead>\n",
       "    <tr style=\"text-align: right;\">\n",
       "      <th></th>\n",
       "      <th>order_id</th>\n",
       "      <th>product_id</th>\n",
       "      <th>add_to_cart_order</th>\n",
       "      <th>reordered</th>\n",
       "    </tr>\n",
       "  </thead>\n",
       "  <tbody>\n",
       "    <tr>\n",
       "      <th>2437093</th>\n",
       "      <td>9310</td>\n",
       "      <td>25753</td>\n",
       "      <td>NaN</td>\n",
       "      <td>0</td>\n",
       "    </tr>\n",
       "    <tr>\n",
       "      <th>3195573</th>\n",
       "      <td>61355</td>\n",
       "      <td>39972</td>\n",
       "      <td>NaN</td>\n",
       "      <td>0</td>\n",
       "    </tr>\n",
       "    <tr>\n",
       "      <th>3941595</th>\n",
       "      <td>61355</td>\n",
       "      <td>17807</td>\n",
       "      <td>NaN</td>\n",
       "      <td>0</td>\n",
       "    </tr>\n",
       "    <tr>\n",
       "      <th>2968806</th>\n",
       "      <td>61355</td>\n",
       "      <td>29660</td>\n",
       "      <td>NaN</td>\n",
       "      <td>0</td>\n",
       "    </tr>\n",
       "    <tr>\n",
       "      <th>3965219</th>\n",
       "      <td>61355</td>\n",
       "      <td>49325</td>\n",
       "      <td>NaN</td>\n",
       "      <td>0</td>\n",
       "    </tr>\n",
       "    <tr>\n",
       "      <th>...</th>\n",
       "      <td>...</td>\n",
       "      <td>...</td>\n",
       "      <td>...</td>\n",
       "      <td>...</td>\n",
       "    </tr>\n",
       "    <tr>\n",
       "      <th>3760909</th>\n",
       "      <td>3383594</td>\n",
       "      <td>63</td>\n",
       "      <td>NaN</td>\n",
       "      <td>0</td>\n",
       "    </tr>\n",
       "    <tr>\n",
       "      <th>3784932</th>\n",
       "      <td>3383594</td>\n",
       "      <td>49144</td>\n",
       "      <td>NaN</td>\n",
       "      <td>1</td>\n",
       "    </tr>\n",
       "    <tr>\n",
       "      <th>2772397</th>\n",
       "      <td>3383594</td>\n",
       "      <td>46710</td>\n",
       "      <td>NaN</td>\n",
       "      <td>0</td>\n",
       "    </tr>\n",
       "    <tr>\n",
       "      <th>1537276</th>\n",
       "      <td>3383594</td>\n",
       "      <td>15076</td>\n",
       "      <td>NaN</td>\n",
       "      <td>0</td>\n",
       "    </tr>\n",
       "    <tr>\n",
       "      <th>1038616</th>\n",
       "      <td>3383594</td>\n",
       "      <td>15424</td>\n",
       "      <td>NaN</td>\n",
       "      <td>1</td>\n",
       "    </tr>\n",
       "  </tbody>\n",
       "</table>\n",
       "<p>836 rows × 4 columns</p>\n",
       "</div>"
      ],
      "text/plain": [
       "         order_id  product_id  add_to_cart_order  reordered\n",
       "2437093      9310       25753                NaN          0\n",
       "3195573     61355       39972                NaN          0\n",
       "3941595     61355       17807                NaN          0\n",
       "2968806     61355       29660                NaN          0\n",
       "3965219     61355       49325                NaN          0\n",
       "...           ...         ...                ...        ...\n",
       "3760909   3383594          63                NaN          0\n",
       "3784932   3383594       49144                NaN          1\n",
       "2772397   3383594       46710                NaN          0\n",
       "1537276   3383594       15076                NaN          0\n",
       "1038616   3383594       15424                NaN          1\n",
       "\n",
       "[836 rows x 4 columns]"
      ]
     },
     "execution_count": 39,
     "metadata": {},
     "output_type": "execute_result"
    }
   ],
   "source": [
    "# Salve todos os IDs dos pedidos com pelo menos um valor ausente em 'add_to_cart_order'\n",
    "\n",
    "id_miss_order = df_orderprod[df_orderprod['add_to_cart_order'].isna() ==True]\n",
    "id_miss_order.sort_values(by = 'order_id')"
   ]
  },
  {
   "cell_type": "code",
   "execution_count": 40,
   "id": "54c31695",
   "metadata": {
    "id": "54c31695"
   },
   "outputs": [
    {
     "data": {
      "text/plain": [
       "order_id\n",
       "9310        1\n",
       "747668      1\n",
       "1598369     1\n",
       "1677118     1\n",
       "2170451     1\n",
       "           ..\n",
       "1959075    34\n",
       "171934     40\n",
       "2136777    44\n",
       "3308010    51\n",
       "61355      63\n",
       "Length: 70, dtype: int64"
      ]
     },
     "execution_count": 40,
     "metadata": {},
     "output_type": "execute_result"
    }
   ],
   "source": [
    "# Todos os pedidos com valores ausentes contêm mais de 64 produtos?  # não, nenhum possui mais do que 63 produtos\n",
    "id_miss_order['order_id'].value_counts()\n",
    "\n",
    "# Agrupe os pedidos com dados ausentes por ID de pedido\n",
    "order_group = id_miss_order.groupby('order_id').size()\n",
    "\n",
    "# Conte o número de 'product_id' em cada pedido e verifique o valor mínimo da contagem     #  minimo 1 e maximo 63\n",
    "order_group.sort_values()"
   ]
  },
  {
   "cell_type": "markdown",
   "id": "p9V6pddtjglj",
   "metadata": {
    "id": "p9V6pddtjglj"
   },
   "source": [
    "Descreva brevemente suas conclusões."
   ]
  },
  {
   "cell_type": "markdown",
   "id": "99c4e3bd",
   "metadata": {},
   "source": [
    "\n",
    "<div style=\"background-color: lightblue; padding: 10px;\">\n",
    " nenhum pedido com valor ausente tem mais do que 63 produtos\n",
    "    \n",
    " minimo 1 e maximo 63 produtos em cada pedido  \n",
    "   \n",
    "</div>"
   ]
  },
  {
   "cell_type": "code",
   "execution_count": 41,
   "id": "7a987d08",
   "metadata": {
    "id": "7a987d08"
   },
   "outputs": [],
   "source": [
    "# Substitua valores ausentes na coluna 'add_to_cart_order' por 999 e converta a coluna para o tipo integer\n",
    "df_orderprod['add_to_cart_order'].fillna(999 , inplace= True)\n",
    "df_orderprod['add_to_cart_order'].isna().sum()\n",
    "df_orderprod['add_to_cart_order'] = df_orderprod['add_to_cart_order'].astype(int)"
   ]
  },
  {
   "cell_type": "code",
   "execution_count": 42,
   "id": "2214c88a",
   "metadata": {},
   "outputs": [
    {
     "name": "stdout",
     "output_type": "stream",
     "text": [
      "<class 'pandas.core.frame.DataFrame'>\n",
      "RangeIndex: 4545007 entries, 0 to 4545006\n",
      "Data columns (total 4 columns):\n",
      " #   Column             Dtype\n",
      "---  ------             -----\n",
      " 0   order_id           int64\n",
      " 1   product_id         int64\n",
      " 2   add_to_cart_order  int64\n",
      " 3   reordered          int64\n",
      "dtypes: int64(4)\n",
      "memory usage: 138.7 MB\n"
     ]
    }
   ],
   "source": [
    "df_orderprod.info()"
   ]
  },
  {
   "cell_type": "markdown",
   "id": "fea4bcc7",
   "metadata": {
    "id": "fea4bcc7"
   },
   "source": [
    "Descreva brevemente suas conclusões e o que você fez com elas."
   ]
  },
  {
   "cell_type": "markdown",
   "id": "0078c49d",
   "metadata": {},
   "source": [
    "<div style=\"background-color: lightblue; padding: 10px;\">\n",
    "Preenchemos os valores ausentes por 999, verificamos se ainda existiam ausentes com a funçao sum() e depois passamos\n",
    "a serie para o tipo 'integer'\n",
    "   \n",
    "</div>"
   ]
  },
  {
   "cell_type": "markdown",
   "id": "RnplPFY1gSrb",
   "metadata": {
    "id": "RnplPFY1gSrb"
   },
   "source": [
    "## Conclusões\n",
    "\n",
    "Escreva aqui suas conclusões intermediárias da Etapa 2. Preparação de dados"
   ]
  },
  {
   "cell_type": "markdown",
   "id": "f6a9e4f2",
   "metadata": {},
   "source": [
    "<div style=\"background-color: lightblue; padding: 10px;\">\n",
    "Os dataframes vieram com bastante duplicados e valores ausentes, mas conseguimos organizar os dados de forma concisa.\n",
    "\n",
    "Acredito que podemos fazer nossas análises com mais precisão agora.\n",
    "   \n",
    "</div>"
   ]
  },
  {
   "cell_type": "markdown",
   "id": "d2c03452",
   "metadata": {},
   "source": [
    "<div class=\"alert alert-block alert-success\">\n",
    "<b>Comentário: </b> <a class=\"tocSkip\"></a>   \n",
    "    \n",
    "Todos os dataframes foram processados corretamente!"
   ]
  },
  {
   "cell_type": "markdown",
   "id": "UjrOIwTcz3ri",
   "metadata": {
    "id": "UjrOIwTcz3ri"
   },
   "source": [
    "# Etapa 3. Análise de dados\n",
    "\n",
    "Quando os dados estiverem processados ​​e prontos, execute a seguinte análise:"
   ]
  },
  {
   "cell_type": "markdown",
   "id": "turkish-kidney",
   "metadata": {
    "id": "turkish-kidney"
   },
   "source": [
    "# [A] Fácil (é necessário concluir tudo para passar)\n",
    "\n",
    "1.\tVerifique se os valores nas colunas `'order_hour_of_day'` e `'order_dow'` na tabela `orders` fazem sentido (ou seja, os valores da coluna  `'order_hour_of_day'` variam de 0 a 23 e os da `'order_dow'` variam de 0 a 6).\n",
    "2.\tCrie um gráfico que mostre quantas pessoas fazem pedidos a cada hora do dia.\n",
    "3.\tCrie um gráfico que mostre em que dia da semana as pessoas fazem compras.\n",
    "4.\tCrie um gráfico que mostre quanto tempo as pessoas esperam até fazer seu próximo pedido e comente sobre os valores mínimo e máximo.\n"
   ]
  },
  {
   "cell_type": "markdown",
   "id": "short-capability",
   "metadata": {
    "id": "short-capability"
   },
   "source": [
    "### [A1] Verifique se os valores fazem sentido"
   ]
  },
  {
   "cell_type": "code",
   "execution_count": 43,
   "id": "growing-fruit",
   "metadata": {
    "id": "growing-fruit"
   },
   "outputs": [
    {
     "data": {
      "text/plain": [
       "470819     0\n",
       "5371       0\n",
       "381617     0\n",
       "68665      0\n",
       "304638     0\n",
       "          ..\n",
       "59727     23\n",
       "333981    23\n",
       "322728    23\n",
       "429429    23\n",
       "138931    23\n",
       "Name: order_hour_of_day, Length: 478952, dtype: int64"
      ]
     },
     "execution_count": 43,
     "metadata": {},
     "output_type": "execute_result"
    }
   ],
   "source": [
    "df_inorder['order_hour_of_day'].sort_values()"
   ]
  },
  {
   "cell_type": "code",
   "execution_count": 44,
   "id": "accessory-malaysia",
   "metadata": {
    "id": "accessory-malaysia"
   },
   "outputs": [
    {
     "data": {
      "text/plain": [
       "361497    0\n",
       "420869    0\n",
       "358797    0\n",
       "62194     0\n",
       "62193     0\n",
       "         ..\n",
       "160821    6\n",
       "160834    6\n",
       "160836    6\n",
       "160912    6\n",
       "0         6\n",
       "Name: order_dow, Length: 478952, dtype: int64"
      ]
     },
     "execution_count": 44,
     "metadata": {},
     "output_type": "execute_result"
    }
   ],
   "source": [
    "df_inorder['order_dow'].sort_values()"
   ]
  },
  {
   "cell_type": "markdown",
   "id": "hmR2GNQ6lCsX",
   "metadata": {
    "id": "hmR2GNQ6lCsX"
   },
   "source": [
    "Escreva suas conclusões aqui"
   ]
  },
  {
   "cell_type": "markdown",
   "id": "a6743a70",
   "metadata": {
    "id": "a6743a70"
   },
   "source": [
    "### [A2] Quantas pessoas fazem pedidos a cada hora do dia?"
   ]
  },
  {
   "cell_type": "code",
   "execution_count": 45,
   "id": "cc3ed86c",
   "metadata": {},
   "outputs": [
    {
     "data": {
      "text/html": [
       "<div>\n",
       "<style scoped>\n",
       "    .dataframe tbody tr th:only-of-type {\n",
       "        vertical-align: middle;\n",
       "    }\n",
       "\n",
       "    .dataframe tbody tr th {\n",
       "        vertical-align: top;\n",
       "    }\n",
       "\n",
       "    .dataframe thead th {\n",
       "        text-align: right;\n",
       "    }\n",
       "</style>\n",
       "<table border=\"1\" class=\"dataframe\">\n",
       "  <thead>\n",
       "    <tr style=\"text-align: right;\">\n",
       "      <th></th>\n",
       "      <th>order_id</th>\n",
       "      <th>user_id</th>\n",
       "      <th>order_number</th>\n",
       "      <th>order_dow</th>\n",
       "      <th>order_hour_of_day</th>\n",
       "      <th>days_since_prior_order</th>\n",
       "    </tr>\n",
       "  </thead>\n",
       "  <tbody>\n",
       "    <tr>\n",
       "      <th>0</th>\n",
       "      <td>1515936</td>\n",
       "      <td>183418</td>\n",
       "      <td>11</td>\n",
       "      <td>6</td>\n",
       "      <td>13</td>\n",
       "      <td>30.0</td>\n",
       "    </tr>\n",
       "    <tr>\n",
       "      <th>1</th>\n",
       "      <td>1690866</td>\n",
       "      <td>163593</td>\n",
       "      <td>5</td>\n",
       "      <td>5</td>\n",
       "      <td>12</td>\n",
       "      <td>9.0</td>\n",
       "    </tr>\n",
       "    <tr>\n",
       "      <th>2</th>\n",
       "      <td>1454967</td>\n",
       "      <td>39980</td>\n",
       "      <td>4</td>\n",
       "      <td>5</td>\n",
       "      <td>19</td>\n",
       "      <td>2.0</td>\n",
       "    </tr>\n",
       "    <tr>\n",
       "      <th>3</th>\n",
       "      <td>1768857</td>\n",
       "      <td>82516</td>\n",
       "      <td>56</td>\n",
       "      <td>0</td>\n",
       "      <td>20</td>\n",
       "      <td>10.0</td>\n",
       "    </tr>\n",
       "    <tr>\n",
       "      <th>4</th>\n",
       "      <td>3007858</td>\n",
       "      <td>196724</td>\n",
       "      <td>2</td>\n",
       "      <td>4</td>\n",
       "      <td>12</td>\n",
       "      <td>17.0</td>\n",
       "    </tr>\n",
       "  </tbody>\n",
       "</table>\n",
       "</div>"
      ],
      "text/plain": [
       "   order_id  user_id  order_number  order_dow  order_hour_of_day  \\\n",
       "0   1515936   183418            11          6                 13   \n",
       "1   1690866   163593             5          5                 12   \n",
       "2   1454967    39980             4          5                 19   \n",
       "3   1768857    82516            56          0                 20   \n",
       "4   3007858   196724             2          4                 12   \n",
       "\n",
       "   days_since_prior_order  \n",
       "0                    30.0  \n",
       "1                     9.0  \n",
       "2                     2.0  \n",
       "3                    10.0  \n",
       "4                    17.0  "
      ]
     },
     "execution_count": 45,
     "metadata": {},
     "output_type": "execute_result"
    }
   ],
   "source": [
    "df_inorder.head()"
   ]
  },
  {
   "cell_type": "code",
   "execution_count": 46,
   "id": "a36cca27",
   "metadata": {
    "id": "a36cca27"
   },
   "outputs": [
    {
     "data": {
      "text/plain": [
       "<AxesSubplot:title={'center':'pedidos / hora'}, xlabel='horas', ylabel='numero de pedidos'>"
      ]
     },
     "execution_count": 46,
     "metadata": {},
     "output_type": "execute_result"
    },
    {
     "data": {
      "image/png": "[encoded data removed]",
      "text/plain": [
       "<Figure size 640x480 with 1 Axes>"
      ]
     },
     "metadata": {},
     "output_type": "display_data"
    }
   ],
   "source": [
    "p_hour = df_inorder.groupby('order_hour_of_day')['user_id'].nunique()\n",
    "p_hour\n",
    "p_hour.plot( kind = 'bar', xlabel = 'horas', ylabel = 'numero de pedidos' , title = 'pedidos / hora' , rot=0 )\n"
   ]
  },
  {
   "cell_type": "markdown",
   "id": "11270eed",
   "metadata": {
    "id": "11270eed"
   },
   "source": [
    "Escreva suas conclusões aqui"
   ]
  },
  {
   "cell_type": "markdown",
   "id": "3e05fdfc",
   "metadata": {},
   "source": [
    "<div style=\"background-color: lightblue; padding: 10px;\">\n",
    "Das 10 horas até as 16 horas temos o pico de pedidos, \n",
    "acredito que este intervalo seria o momento ideal para concentrar um marketing dos produtos, pois parece ser o momento em que as pessoas estão mais propicias a realizar suas compras.  \n",
    "   \n",
    "</div>"
   ]
  },
  {
   "cell_type": "markdown",
   "id": "documented-command",
   "metadata": {
    "id": "documented-command"
   },
   "source": [
    "### [A3] Em que dia da semana as pessoas compram produtos alimentícios?"
   ]
  },
  {
   "cell_type": "code",
   "execution_count": 147,
   "id": "chief-digit",
   "metadata": {
    "id": "chief-digit"
   },
   "outputs": [
    {
     "data": {
      "image/png": "[encoded data removed]",
      "text/plain": [
       "<Figure size 640x480 with 1 Axes>"
      ]
     },
     "metadata": {},
     "output_type": "display_data"
    }
   ],
   "source": [
    "# primeiro vamos ter que achar quais produtos são alimentos\n",
    "# decidi procurar pelo departamento pois era o dataframe que tinha dados mais resumidos.\n",
    "\n",
    "df_depart.head(21)  #1,3,5,7,9,10,12,13,14,15,16,19,20 \n",
    "food = df_product[df_product['department_id'].isin([1,3,5,7,9,10,12,13,14,15,16,19,20])]  # filtramos por departamento de comida\n",
    "\n",
    "df1 = df_inorder[['order_id', 'order_dow']]\n",
    "df2 = df_orderprod[['order_id', 'product_id']] # 3 váriaveis para gravar apenas as colunas que nos interessam dos dataframes\n",
    "df3 = food[['product_id']]\n",
    "\n",
    "result1 = df3.merge(df2 , how = 'left' , on ='product_id')\n",
    "result2 = result1.merge(df1 , how = 'left' , on ='order_id')  # aqui fizemos merge nas colunas de 3 dataframes diferentes \n",
    "\n",
    "group1 = result2.groupby('order_dow')['product_id'].nunique()  # contamos o numero de produtos e agrupamos por ordem na semana\n",
    "\n",
    "grp_graf = group1.plot(kind='bar' , xlabel = 'dia da semana' , ylabel = 'numero de pedidos' ,\n",
    "                       title= 'pedidos de alimentos na semana' , grid= True , rot = 45)\n",
    "\n",
    "new_labels = ['Domingo', 'Segunda-feira', 'Terça-feira', 'Quarta-feira',  'Quinta-feira','Sexta-feira', 'Sábado']\n",
    "\n",
    "grp_graf.set_xticks(range(len(new_labels)))\n",
    "grp_graf.set_xticklabels(new_labels) \n",
    "grp_graf.set_yticks(range(0,30000,2000))\n",
    "\n",
    "plt.show()                    \n"
   ]
  },
  {
   "cell_type": "markdown",
   "id": "dominant-lightning",
   "metadata": {
    "id": "dominant-lightning"
   },
   "source": [
    "Escreva suas conclusões aqui"
   ]
  },
  {
   "cell_type": "markdown",
   "id": "b395baef",
   "metadata": {},
   "source": [
    "<div style=\"background-color: lightblue; padding: 10px;\">\n",
    "As pessoas compram produtos alimentícios todos os dias da semana com poucas variações de quantiade de um dia para o outro, mas se fosse pra decidir em qual dia investir em marketing de alimentos para otimizar o orçamento seria domingo. \n",
    "    \n",
    "    \n",
    "    \n",
    "    \n",
    "</div>"
   ]
  },
  {
   "cell_type": "markdown",
   "id": "776bc0a2",
   "metadata": {},
   "source": [
    "<div class=\"alert alert-block alert-warning\">\n",
    "<b>Comentário: </b> <a class=\"tocSkip\"></a>\n",
    "\n",
    "Seria possível adicionar os dias da semana no eixo X a partir do seguinte código: \n",
    "```python\n",
    "\n",
    "from matplotlib import pyplot as plt\n",
    "\n",
    "plot_data = df_orders_instacart.groupby('order_dow').user_id.count()\n",
    "dias_da_semana = {\n",
    "    0: 'Domingo',\n",
    "    1: 'Segunda-feira',\n",
    "    2: 'Terça-feira',\n",
    "    3: 'Quarta-feira',\n",
    "    4: 'Quinta-feira',\n",
    "    5: 'Sexta-feira',\n",
    "    6: 'Sábado'\n",
    "}\n",
    "df_orders_instacart['nome_dia'] = df_orders_instacart['order_dow'].map(dias_da_semana)\n",
    "compras_por_dia = df_orders_instacart['nome_dia'].value_counts()\n",
    "compras_por_dia = compras_por_dia.reindex(['Domingo', 'Segunda-feira', 'Terça-feira', 'Quarta-feira', 'Quinta-feira', 'Sexta-feira', 'Sábado'])\n",
    "fig, ax = plt.subplots(figsize=(10, 8))\n",
    "ax.bar(compras_por_dia.index, compras_por_dia.values, color='skyblue')\n",
    "ax.set_title('Dia da semana que as pessoas fazem compras')\n",
    "ax.set_xlabel('Pedidos por dia')\n",
    "ax.set_ylabel('Quantidade de compras')\n",
    "\n",
    "plt.show()\n",
    "```\n",
    "\n",
    "</div>"
   ]
  },
  {
   "cell_type": "markdown",
   "id": "cutting-concert",
   "metadata": {
    "id": "cutting-concert"
   },
   "source": [
    "### [A4] Quanto tempo as pessoas esperam até fazer outro pedido?"
   ]
  },
  {
   "cell_type": "code",
   "execution_count": 48,
   "id": "4c5b2218",
   "metadata": {},
   "outputs": [
    {
     "data": {
      "text/plain": [
       "<AxesSubplot:title={'center':'dias desda ultima compra'}, xlabel='dias', ylabel='numero de pedidos'>"
      ]
     },
     "execution_count": 48,
     "metadata": {},
     "output_type": "execute_result"
    },
    {
     "data": {
      "image/png": "[encoded data removed]",
      "text/plain": [
       "<Figure size 640x480 with 1 Axes>"
      ]
     },
     "metadata": {},
     "output_type": "display_data"
    }
   ],
   "source": [
    "df_inorder['days_since_prior_order'].dropna().sort_values().mean()\n",
    "days_prior_order = df_inorder.groupby('days_since_prior_order')['order_id'].nunique()\n",
    "days_prior_order.plot(xlabel= 'dias' , ylabel='numero de pedidos' , title = 'dias desda ultima compra')"
   ]
  },
  {
   "cell_type": "markdown",
   "id": "discrete-vertex",
   "metadata": {
    "id": "discrete-vertex"
   },
   "source": [
    "Escreva suas conclusões aqui"
   ]
  },
  {
   "cell_type": "markdown",
   "id": "606c9928",
   "metadata": {
    "id": "gMOIimGd5VNb"
   },
   "source": [
    "<div style=\"background-color: lightblue; padding: 10px;\">\n",
    "Se fizermos a média com esses dados o valor diz que as pessoas levam cerca de 11 dias para copra de novo.\n",
    "    \n",
    "Porém, os dados só mostram até 30 dias passados da ultima compra, vemos pelo grafico que o numero de pedidos é exponencialmente elevado no\n",
    "    dia 30 mas provavelmente porque todos os dias posteriores ao 30 foram consideramdos como compras em 30 dias, levando a uma conclusão nao precisa deste parâmetro.\n",
    "    \n",
    "O que podemos concluir é que muitos pedidos são feitos entre 5 a 10 dias após a primiera compra, com o pico chegando por volta de 45.000 pedidos entre esses dias. \n",
    "    \n",
    "Seria interessante um novo contato (contato direto ou marketing direcionado) oferecendo promoçoes e descontos para aqueles que estão ha mais de 15 dias sem comprar pois o numero começa a cair drasticamente depois desse período.\n",
    "   \n",
    "</div>"
   ]
  },
  {
   "cell_type": "markdown",
   "id": "tight-staff",
   "metadata": {
    "id": "tight-staff"
   },
   "source": [
    "# [B] Médio (é necessário concluir tudo para passar)\n",
    "\n",
    "1.\tHá alguma diferença nas distribuições de `'order_hour_of_day'` nas quartas e sábados? Construa gráficos de barras para ambos os dias no mesmo gráfico e descreva as diferenças que você notou.\n",
    "2.\tConstrua um gráfico de distribuição para o número de pedidos que os clientes fazem (ou seja, quantos clientes fizeram apenas 1 pedido, quantos fizeram apenas 2, quantos apenas 3, etc.)\n",
    "3.\tQuais são os 20 produtos comprados com mais frequência? Exiba os IDs e nomes.\n"
   ]
  },
  {
   "cell_type": "markdown",
   "id": "packed-classic",
   "metadata": {
    "id": "packed-classic"
   },
   "source": [
    "### [B1] Diferenças nas quartas e sábados em `'order_hour_of_day'`. Crie gráficos de barras para ambos os dias e descreva as diferenças."
   ]
  },
  {
   "cell_type": "code",
   "execution_count": 141,
   "id": "d89b8403",
   "metadata": {
    "id": "d89b8403"
   },
   "outputs": [
    {
     "data": {
      "image/png": "[encoded data removed]",
      "text/plain": [
       "<Figure size 640x480 with 1 Axes>"
      ]
     },
     "metadata": {},
     "output_type": "display_data"
    }
   ],
   "source": [
    "quarta = df_inorder[df_inorder['order_dow'] == 3]\n",
    "sabado = df_inorder[df_inorder['order_dow'] == 6]\n",
    "\n",
    "quarta_count = quarta['order_hour_of_day'].value_counts().sort_index()\n",
    "sabado_count = sabado['order_hour_of_day'].value_counts().sort_index()\n",
    "\n",
    "quarta_count.plot(kind='bar', alpha=0.5, position=0,  color='orange',width=0.4)\n",
    "sabado_count.plot(kind='bar', alpha=0.5, position=1,    width=0.4)\n",
    "\n",
    "plt.legend(['quarta', 'sabado'])\n",
    "plt.show()"
   ]
  },
  {
   "cell_type": "markdown",
   "id": "charitable-congo",
   "metadata": {
    "id": "charitable-congo"
   },
   "source": [
    "Escreva suas conclusões aqui"
   ]
  },
  {
   "cell_type": "markdown",
   "id": "ae363759",
   "metadata": {},
   "source": [
    "<div style=\"background-color: lightblue; padding: 10px;\">\n",
    "    \n",
    "Das 11 até as 15 horas nos sábados os pedidos se sobressaem em relaçao às quartas. \n",
    "Entre as 18 e às 20 horas nas quartas os pedidos se sobressaem em relaçao aos sábados.\n",
    "\n",
    "    \n",
    "Esses horarios correspondem bastante com a rotina de alimentação das pessoas com seu tempo livre (nas quartas depois do expediente de trabalho 8 - 17), então muito provavelmente esses pedidos devem estar relacionados a itens alimentares. Precisariamos de uma análise mais profunda para confirmar.\n",
    "</div>"
   ]
  },
  {
   "cell_type": "markdown",
   "id": "350668fe",
   "metadata": {},
   "source": [
    "<div style=\"background-color: lightblue; padding: 10px;\">\n",
    "O KERNEL NAO CONSEGUE EXECUTAR OS CODIGOS QUE EU PASSO NESSA TAREFA, JA MUDEI A CELULA DE LUGAR MAS TBM NAO DEU CERTO, QUANDO EU PEÇO PRA CRIAR UM GRAFICO DESSE CODIGO ELE TRAVA   \n",
    "   \n",
    "</div>"
   ]
  },
  {
   "cell_type": "markdown",
   "id": "befc39d5",
   "metadata": {},
   "source": [
    "<div class=\"alert alert-block alert-danger\">\n",
    "<b>Comentário: </b> <a class=\"tocSkip\"></a>\n",
    "\n",
    "Oi, Vitor! O erro que aparece para você é 'dead kernel'? \n",
    "    \n",
    "    \n",
    "O código não está funcionando porque você estava tentando plotar todos os dados de uma vez, sem resumir antes. Quando você tenta plotar milhões de dados individuais (como as horas de todos os pedidos), isso sobrecarrega a memória do computador e pode fazer o kernel travar. O matplotlib não é otimizado para lidar com tanta informação de uma vez.\n",
    "\n",
    "Porém, se você agregar os dados antes, ou seja, contar quantos pedidos foram feitos em cada hora (com value_counts() ou group by()), o código fica muito mais eficiente. Isso reduz a quantidade de dados que você precisa plotar, fazendo o processo de visualização funcionar sem problemas.\n",
    "\n",
    "Em resumo: agrupar os dados primeiro (contando as horas) ajuda a evitar sobrecarga de memória e torna o gráfico mais fácil de gerar. Adicionei um código abaixo com um exemplo de como resolver:\n",
    "    \n",
    "```python\n",
    "# Filtra os dados para obter os pedidos das quartas-feiras (order_dow == 3) e dos sábados (order_dow == 6)\n",
    "quartas = data_orders[data_orders['order_dow'] == 3]\n",
    "sabados = data_orders[data_orders['order_dow'] == 6]\n",
    "\n",
    "# Conta o número de pedidos por hora do dia para cada grupo (quarta e sábado) e ordena pelo índice (hora do dia)\n",
    "quartas_counts = quartas['order_hour_of_day'].value_counts().sort_index()\n",
    "sabados_counts = sabados['order_hour_of_day'].value_counts().sort_index()\n",
    "\n",
    "# Cria uma figura para o gráfico\n",
    "plt.figure(figsize=(10, 6))\n",
    "\n",
    "# Plota o gráfico de barras para os pedidos nas quartas-feiras, com um pequeno deslocamento (-0.2) para evitar sobreposição\n",
    "plt.bar(quartas_counts.index - 0.2, quartas_counts.values, width=0.4, label='Quarta-feira', color='skyblue')\n",
    "\n",
    "# Plota o gráfico de barras para os pedidos nos sábados, com um pequeno deslocamento (+0.2) para evitar sobreposição\n",
    "plt.bar(sabados_counts.index + 0.2, sabados_counts.values, width=0.4, label='Sábado', color='lightgreen')\n",
    "\n",
    "# Define o título do gráfico\n",
    "plt.title('Diferenças nas Quartas e Sábados em \"order_hour_of_day\"')\n",
    "\n",
    "...continue o código\n",
    "\n",
    "```\n",
    "</div>"
   ]
  },
  {
   "cell_type": "markdown",
   "id": "401221c8",
   "metadata": {},
   "source": [
    "<div style=\"background-color: lightblue; padding: 10px;\">\n",
    "Entendi! agora deu certo, obrigado!  \n",
    "   \n",
    "</div>"
   ]
  },
  {
   "cell_type": "markdown",
   "id": "e3891143",
   "metadata": {
    "id": "e3891143"
   },
   "source": [
    "### [B2] Qual é a distribuição do número de pedidos por cliente?\n"
   ]
  },
  {
   "cell_type": "code",
   "execution_count": 50,
   "id": "d8c26c23",
   "metadata": {
    "id": "d8c26c23"
   },
   "outputs": [
    {
     "data": {
      "image/png": "[encoded data removed]",
      "text/plain": [
       "<Figure size 1200x800 with 1 Axes>"
      ]
     },
     "metadata": {},
     "output_type": "display_data"
    }
   ],
   "source": [
    "order_n = df_inorder['order_number'].value_counts().sort_index()\n",
    "order_graf = order_n.plot(kind = 'bar' , rot= 70 , figsize = [12 , 8] , grid = True , \n",
    "                          xlabel = 'n de pedidos' , ylabel='n de clientes totais por n de pedido',\n",
    "                          title='quantidade de pedidos / cliente')\n",
    "order_graf.set_xticks(range(-1,100,5)) \n",
    "order_graf.set_yticks(range(0,32000,2000))\n",
    "plt.show()"
   ]
  },
  {
   "cell_type": "markdown",
   "id": "d2eff7d5",
   "metadata": {
    "id": "d2eff7d5"
   },
   "source": [
    "Escreva suas conclusões aqui"
   ]
  },
  {
   "cell_type": "markdown",
   "id": "51cf29a7",
   "metadata": {},
   "source": [
    "<div style=\"background-color: lightblue; padding: 10px;\">\n",
    "    \n",
    "Temos uma grande concentração de clinetes que fazem até 5 pedidos, caindo pela metade de 5 ate 10 pedidos.\n",
    "\n",
    "\n",
    "\n",
    "Por se tratar de uma empresa de varejo esses números são normais e para aumento de pedidos a estratégia é separar aqueles que compram pouco dos que compram muito de um jeito que possamos fidelizar o cliente com alguma negociação de longo prazo de fornecimento para os que compram muito e talvez um clube(grupo de exclusividade) para os que compram pouco com promoções exclusivas .\n",
    "   \n",
    "</div>"
   ]
  },
  {
   "cell_type": "markdown",
   "id": "54a0319c",
   "metadata": {
    "id": "54a0319c"
   },
   "source": [
    "### [B3] Quais são os 20 produtos mais populares? Exiba os IDs e nomes."
   ]
  },
  {
   "cell_type": "code",
   "execution_count": 51,
   "id": "3f67f908",
   "metadata": {},
   "outputs": [
    {
     "data": {
      "text/plain": [
       "0"
      ]
     },
     "execution_count": 51,
     "metadata": {},
     "output_type": "execute_result"
    }
   ],
   "source": [
    "df_product['product_name'].isna().sum()"
   ]
  },
  {
   "cell_type": "code",
   "execution_count": 151,
   "id": "exterior-arizona",
   "metadata": {
    "id": "exterior-arizona",
    "scrolled": true
   },
   "outputs": [
    {
     "name": "stdout",
     "output_type": "stream",
     "text": [
      "    product_id              product_name  count\n",
      "0        24852                    banana  66050\n",
      "1        13176    bag of organic bananas  53297\n",
      "2        21137      organic strawberries  37039\n",
      "3        21903      organic baby spinach  33971\n",
      "4        47209      organic hass avocado  29773\n",
      "5        47766           organic avocado  24689\n",
      "6        47626               large lemon  21495\n",
      "7        16797              strawberries  20018\n",
      "8        26209                     limes  19690\n",
      "9        27845        organic whole milk  19600\n",
      "10       27966       organic raspberries  19197\n",
      "11       22935      organic yellow onion  15898\n",
      "12       24964            organic garlic  15292\n",
      "13       45007          organic zucchini  14584\n",
      "14       39275       organic blueberries  13879\n",
      "15       49683            cucumber kirby  13675\n",
      "16       28204        organic fuji apple  12544\n",
      "17        5876             organic lemon  12232\n",
      "18        8277  apple honeycrisp organic  11993\n",
      "19       40706    organic grape tomatoes  11781\n"
     ]
    }
   ],
   "source": [
    "prod_count = df_orderprod['product_id'].value_counts()\n",
    "x =prod_count.head(20).sort_values()\n",
    "x_df= x.reset_index()\n",
    "x_df.columns = ['product_id' , 'count']\n",
    "x_df1 =x_df['product_id'] \n",
    "prod_maispop = df_product.query('product_id in @x_df1')[['product_id' ,'product_name']].reset_index(drop=True)\n",
    "\n",
    "merged_df = pd.merge(prod_maispop, x_df, on='product_id', how='outer')\n",
    "merged_df = merged_df.sort_values( by = 'count', ascending = False).reset_index(drop=True)\n",
    "print(merged_df)"
   ]
  },
  {
   "cell_type": "markdown",
   "id": "7df00f47",
   "metadata": {
    "id": "7df00f47"
   },
   "source": [
    "Escreva suas conclusões aqui"
   ]
  },
  {
   "cell_type": "markdown",
   "id": "45fcad12",
   "metadata": {},
   "source": [
    "<div style=\"background-color: lightblue; padding: 10px;\">\n",
    "Produtos mais populares são alimentos.   \n",
    "   \n",
    "</div>"
   ]
  },
  {
   "cell_type": "markdown",
   "id": "7e452568",
   "metadata": {},
   "source": [
    "<div class=\"alert alert-block alert-danger\">\n",
    "<b>Comentário: </b> <a class=\"tocSkip\"></a>\n",
    "\n",
    "O top 20 gerado está incorreto. **Observe que a lista de ids do dataframe x_df não corresponde à ordem da lista no prod_maispop (inseri o código na célula abaixo). A ordem correta é a do x_df**. Portanto, é necessário localizar os nomes correspondentes dos produtos. Para isso, você pode usar o seguinte comando:\n",
    "```python\n",
    "df.groupby(['product_id', 'product_name'])['order_id'].count().sort_values(ascending=False).head(20)\n",
    "```\n",
    "Por favor ajuste o código com o nome do dataframe do seu projeto. \n",
    "    \n",
    "\n",
    "</div>"
   ]
  },
  {
   "cell_type": "markdown",
   "id": "c7e03600",
   "metadata": {},
   "source": [
    "<div style=\"background-color: lightblue; padding: 10px;\">\n",
    "ordem corrigida \n",
    "   \n",
    "</div>"
   ]
  },
  {
   "cell_type": "code",
   "execution_count": 53,
   "id": "f228a7d3",
   "metadata": {},
   "outputs": [
    {
     "data": {
      "text/html": [
       "<div>\n",
       "<style scoped>\n",
       "    .dataframe tbody tr th:only-of-type {\n",
       "        vertical-align: middle;\n",
       "    }\n",
       "\n",
       "    .dataframe tbody tr th {\n",
       "        vertical-align: top;\n",
       "    }\n",
       "\n",
       "    .dataframe thead th {\n",
       "        text-align: right;\n",
       "    }\n",
       "</style>\n",
       "<table border=\"1\" class=\"dataframe\">\n",
       "  <thead>\n",
       "    <tr style=\"text-align: right;\">\n",
       "      <th></th>\n",
       "      <th>product_id</th>\n",
       "      <th>count</th>\n",
       "    </tr>\n",
       "  </thead>\n",
       "  <tbody>\n",
       "    <tr>\n",
       "      <th>0</th>\n",
       "      <td>40706</td>\n",
       "      <td>11781</td>\n",
       "    </tr>\n",
       "    <tr>\n",
       "      <th>1</th>\n",
       "      <td>8277</td>\n",
       "      <td>11993</td>\n",
       "    </tr>\n",
       "    <tr>\n",
       "      <th>2</th>\n",
       "      <td>5876</td>\n",
       "      <td>12232</td>\n",
       "    </tr>\n",
       "    <tr>\n",
       "      <th>3</th>\n",
       "      <td>28204</td>\n",
       "      <td>12544</td>\n",
       "    </tr>\n",
       "    <tr>\n",
       "      <th>4</th>\n",
       "      <td>49683</td>\n",
       "      <td>13675</td>\n",
       "    </tr>\n",
       "    <tr>\n",
       "      <th>5</th>\n",
       "      <td>39275</td>\n",
       "      <td>13879</td>\n",
       "    </tr>\n",
       "    <tr>\n",
       "      <th>6</th>\n",
       "      <td>45007</td>\n",
       "      <td>14584</td>\n",
       "    </tr>\n",
       "    <tr>\n",
       "      <th>7</th>\n",
       "      <td>24964</td>\n",
       "      <td>15292</td>\n",
       "    </tr>\n",
       "    <tr>\n",
       "      <th>8</th>\n",
       "      <td>22935</td>\n",
       "      <td>15898</td>\n",
       "    </tr>\n",
       "    <tr>\n",
       "      <th>9</th>\n",
       "      <td>27966</td>\n",
       "      <td>19197</td>\n",
       "    </tr>\n",
       "    <tr>\n",
       "      <th>10</th>\n",
       "      <td>27845</td>\n",
       "      <td>19600</td>\n",
       "    </tr>\n",
       "    <tr>\n",
       "      <th>11</th>\n",
       "      <td>26209</td>\n",
       "      <td>19690</td>\n",
       "    </tr>\n",
       "    <tr>\n",
       "      <th>12</th>\n",
       "      <td>16797</td>\n",
       "      <td>20018</td>\n",
       "    </tr>\n",
       "    <tr>\n",
       "      <th>13</th>\n",
       "      <td>47626</td>\n",
       "      <td>21495</td>\n",
       "    </tr>\n",
       "    <tr>\n",
       "      <th>14</th>\n",
       "      <td>47766</td>\n",
       "      <td>24689</td>\n",
       "    </tr>\n",
       "    <tr>\n",
       "      <th>15</th>\n",
       "      <td>47209</td>\n",
       "      <td>29773</td>\n",
       "    </tr>\n",
       "    <tr>\n",
       "      <th>16</th>\n",
       "      <td>21903</td>\n",
       "      <td>33971</td>\n",
       "    </tr>\n",
       "    <tr>\n",
       "      <th>17</th>\n",
       "      <td>21137</td>\n",
       "      <td>37039</td>\n",
       "    </tr>\n",
       "    <tr>\n",
       "      <th>18</th>\n",
       "      <td>13176</td>\n",
       "      <td>53297</td>\n",
       "    </tr>\n",
       "    <tr>\n",
       "      <th>19</th>\n",
       "      <td>24852</td>\n",
       "      <td>66050</td>\n",
       "    </tr>\n",
       "  </tbody>\n",
       "</table>\n",
       "</div>"
      ],
      "text/plain": [
       "    product_id  count\n",
       "0        40706  11781\n",
       "1         8277  11993\n",
       "2         5876  12232\n",
       "3        28204  12544\n",
       "4        49683  13675\n",
       "5        39275  13879\n",
       "6        45007  14584\n",
       "7        24964  15292\n",
       "8        22935  15898\n",
       "9        27966  19197\n",
       "10       27845  19600\n",
       "11       26209  19690\n",
       "12       16797  20018\n",
       "13       47626  21495\n",
       "14       47766  24689\n",
       "15       47209  29773\n",
       "16       21903  33971\n",
       "17       21137  37039\n",
       "18       13176  53297\n",
       "19       24852  66050"
      ]
     },
     "execution_count": 53,
     "metadata": {},
     "output_type": "execute_result"
    }
   ],
   "source": [
    "#Código gerado pela revisora - repare na ordem do product_id ( 40706,8277...)\n",
    "x_df"
   ]
  },
  {
   "cell_type": "code",
   "execution_count": 54,
   "id": "b8dd18d1",
   "metadata": {
    "scrolled": true
   },
   "outputs": [
    {
     "data": {
      "text/html": [
       "<div>\n",
       "<style scoped>\n",
       "    .dataframe tbody tr th:only-of-type {\n",
       "        vertical-align: middle;\n",
       "    }\n",
       "\n",
       "    .dataframe tbody tr th {\n",
       "        vertical-align: top;\n",
       "    }\n",
       "\n",
       "    .dataframe thead th {\n",
       "        text-align: right;\n",
       "    }\n",
       "</style>\n",
       "<table border=\"1\" class=\"dataframe\">\n",
       "  <thead>\n",
       "    <tr style=\"text-align: right;\">\n",
       "      <th></th>\n",
       "      <th>product_id</th>\n",
       "      <th>product_name</th>\n",
       "    </tr>\n",
       "  </thead>\n",
       "  <tbody>\n",
       "    <tr>\n",
       "      <th>0</th>\n",
       "      <td>5876</td>\n",
       "      <td>organic lemon</td>\n",
       "    </tr>\n",
       "    <tr>\n",
       "      <th>1</th>\n",
       "      <td>8277</td>\n",
       "      <td>apple honeycrisp organic</td>\n",
       "    </tr>\n",
       "    <tr>\n",
       "      <th>2</th>\n",
       "      <td>13176</td>\n",
       "      <td>bag of organic bananas</td>\n",
       "    </tr>\n",
       "    <tr>\n",
       "      <th>3</th>\n",
       "      <td>16797</td>\n",
       "      <td>strawberries</td>\n",
       "    </tr>\n",
       "    <tr>\n",
       "      <th>4</th>\n",
       "      <td>21137</td>\n",
       "      <td>organic strawberries</td>\n",
       "    </tr>\n",
       "    <tr>\n",
       "      <th>5</th>\n",
       "      <td>21903</td>\n",
       "      <td>organic baby spinach</td>\n",
       "    </tr>\n",
       "    <tr>\n",
       "      <th>6</th>\n",
       "      <td>22935</td>\n",
       "      <td>organic yellow onion</td>\n",
       "    </tr>\n",
       "    <tr>\n",
       "      <th>7</th>\n",
       "      <td>24852</td>\n",
       "      <td>banana</td>\n",
       "    </tr>\n",
       "    <tr>\n",
       "      <th>8</th>\n",
       "      <td>24964</td>\n",
       "      <td>organic garlic</td>\n",
       "    </tr>\n",
       "    <tr>\n",
       "      <th>9</th>\n",
       "      <td>26209</td>\n",
       "      <td>limes</td>\n",
       "    </tr>\n",
       "    <tr>\n",
       "      <th>10</th>\n",
       "      <td>27845</td>\n",
       "      <td>organic whole milk</td>\n",
       "    </tr>\n",
       "    <tr>\n",
       "      <th>11</th>\n",
       "      <td>27966</td>\n",
       "      <td>organic raspberries</td>\n",
       "    </tr>\n",
       "    <tr>\n",
       "      <th>12</th>\n",
       "      <td>28204</td>\n",
       "      <td>organic fuji apple</td>\n",
       "    </tr>\n",
       "    <tr>\n",
       "      <th>13</th>\n",
       "      <td>39275</td>\n",
       "      <td>organic blueberries</td>\n",
       "    </tr>\n",
       "    <tr>\n",
       "      <th>14</th>\n",
       "      <td>40706</td>\n",
       "      <td>organic grape tomatoes</td>\n",
       "    </tr>\n",
       "    <tr>\n",
       "      <th>15</th>\n",
       "      <td>45007</td>\n",
       "      <td>organic zucchini</td>\n",
       "    </tr>\n",
       "    <tr>\n",
       "      <th>16</th>\n",
       "      <td>47209</td>\n",
       "      <td>organic hass avocado</td>\n",
       "    </tr>\n",
       "    <tr>\n",
       "      <th>17</th>\n",
       "      <td>47626</td>\n",
       "      <td>large lemon</td>\n",
       "    </tr>\n",
       "    <tr>\n",
       "      <th>18</th>\n",
       "      <td>47766</td>\n",
       "      <td>organic avocado</td>\n",
       "    </tr>\n",
       "    <tr>\n",
       "      <th>19</th>\n",
       "      <td>49683</td>\n",
       "      <td>cucumber kirby</td>\n",
       "    </tr>\n",
       "  </tbody>\n",
       "</table>\n",
       "</div>"
      ],
      "text/plain": [
       "    product_id              product_name\n",
       "0         5876             organic lemon\n",
       "1         8277  apple honeycrisp organic\n",
       "2        13176    bag of organic bananas\n",
       "3        16797              strawberries\n",
       "4        21137      organic strawberries\n",
       "5        21903      organic baby spinach\n",
       "6        22935      organic yellow onion\n",
       "7        24852                    banana\n",
       "8        24964            organic garlic\n",
       "9        26209                     limes\n",
       "10       27845        organic whole milk\n",
       "11       27966       organic raspberries\n",
       "12       28204        organic fuji apple\n",
       "13       39275       organic blueberries\n",
       "14       40706    organic grape tomatoes\n",
       "15       45007          organic zucchini\n",
       "16       47209      organic hass avocado\n",
       "17       47626               large lemon\n",
       "18       47766           organic avocado\n",
       "19       49683            cucumber kirby"
      ]
     },
     "execution_count": 54,
     "metadata": {},
     "output_type": "execute_result"
    }
   ],
   "source": [
    "#Código gerado pela revisora - os product_id não estão na ordem correta \n",
    "prod_maispop"
   ]
  },
  {
   "cell_type": "markdown",
   "id": "gross-theme",
   "metadata": {
    "id": "gross-theme"
   },
   "source": [
    "# [C] Difícil (é necessário concluir pelo menos duas perguntas para passar)\n",
    "\n",
    "1.\tQuantos itens as pessoas normalmente compram em um pedido? Como fica a distribuição?\n",
    "2.\tQuais são os 20 principais itens incluídos mais frequentemente em pedidos repetidos? Exiba os IDs e nomes.\n",
    "3.\tPara cada produto, qual parcela de seus pedidos são repetidos? Crie uma tabela com colunas de ID e nome do produto e a proporção de pedidos repetidos.\n",
    "4.\tPara cada cliente, qual proporção de todos os seus pedidos são repetidos?\n",
    "5.\tQuais são os 20 principais itens que as pessoas colocam nos carrinhos antes de todos os outros? Exiba o ID do produto, nome e o número de vezes que ele foi o primeiro a ser adicionado a um carrinho.\n"
   ]
  },
  {
   "cell_type": "markdown",
   "id": "romantic-deposit",
   "metadata": {
    "id": "romantic-deposit"
   },
   "source": [
    "### [C1] Quantos itens as pessoas normalmente compram em um pedido? Como fica a distribuição?"
   ]
  },
  {
   "cell_type": "code",
   "execution_count": 163,
   "id": "virtual-punch",
   "metadata": {
    "id": "virtual-punch"
   },
   "outputs": [
    {
     "name": "stdout",
     "output_type": "stream",
     "text": [
      "user_id  order_id  order_number\n",
      "2        738281    4               1\n",
      "         2168274   1               1\n",
      "4        329954    6               1\n",
      "         2030307   2               1\n",
      "5        157374    4               1\n",
      "                                  ..\n",
      "206208   2471606   21              1\n",
      "         2573371   24              1\n",
      "         3128968   23              1\n",
      "206209   688306    4               1\n",
      "         2977660   13              1\n",
      "Length: 478952, dtype: int64\n",
      "\n",
      "\n",
      "as pessoas normalmente compram 1 item nos pedidos\n"
     ]
    }
   ],
   "source": [
    "print(df_inorder.groupby(['user_id', 'order_id' , 'order_number']).size())\n",
    "print()\n",
    "df_inorder['order_number'].describe()\n",
    "print()\n",
    "moda_item = df_inorder['order_number'].mode()\n",
    "print( 'as pessoas normalmente compram', moda_item[0] ,'item nos pedidos')"
   ]
  },
  {
   "cell_type": "markdown",
   "id": "designed-mortality",
   "metadata": {
    "id": "designed-mortality"
   },
   "source": [
    "Escreva suas conclusões aqui"
   ]
  },
  {
   "cell_type": "markdown",
   "id": "87bb3875",
   "metadata": {},
   "source": [
    "<div style=\"background-color: lightblue; padding: 10px;\">\n",
    "Normalmente as pessoas compram 1 item por pedido, calculamos a moda que é o numero que mais se repete na coluna 'order_number'.\n",
    "    \n",
    "Podemos ver inclusie que no grafico do exercicio 7.6 [B2] a primeira coluna é a maior e representa quantas pessoas compraram 1 item por pedido. Pelo grafico vemos que 1 ,2 ,3 ,4 e 5 pedidos tem ocorrencias muito próximas, com isso poderiamos dizer que o normal seria entre 1 e 5 pedidos. \n",
    "\n",
    "   \n",
    "</div>"
   ]
  },
  {
   "cell_type": "markdown",
   "id": "5e6b5537",
   "metadata": {
    "id": "5e6b5537"
   },
   "source": [
    "### [C2] Quais são os 20 principais itens incluídos com mais frequência em pedidos repetidos? Exiba os IDs e nomes."
   ]
  },
  {
   "cell_type": "code",
   "execution_count": 56,
   "id": "9374e55a",
   "metadata": {
    "id": "9374e55a"
   },
   "outputs": [],
   "source": [
    "# gostaria de uma ideia/sugestão de como fazer esse"
   ]
  },
  {
   "cell_type": "markdown",
   "id": "790d2aaa",
   "metadata": {
    "id": "possible-change",
    "scrolled": true
   },
   "source": [
    "<div class=\"alert alert-block alert-warning\">\n",
    "<b>Comentário: </b> <a class=\"tocSkip\"></a>\n",
    "\n",
    "\n",
    "Exemplo de resolução do problema: \n",
    "    \n",
    "```python\n",
    "# Filtra os itens que foram reordenados (reordered = 1)\n",
    "reordered_items = df_order[df_order['reordered'] == 1]\n",
    "\n",
    "# Faz a junção dos dados de itens reordenados com os dados dos produtos, usando 'product_id' como chave\n",
    "merged_data = pd.merge(reordered_items, df_products, on='product_id')\n",
    "\n",
    "# Conta a frequência de cada produto reordenado, agrupando por 'product_id' e 'product_name'\n",
    "reordered_frequency = merged_data.groupby(['product_id', 'product_name']).size().reset_index(name='frequency')\n",
    "\n",
    "# Ordena os produtos pela frequência de reordenação em ordem decrescente e seleciona os 20 principais\n",
    "top_20_reordered = reordered_frequency.sort_values(by= ...continue o código\n",
    "\n",
    "# Exibe os 20 produtos mais reordenados\n",
    "print(top_20_reordered)\n",
    "\n",
    "\n",
    "```\n",
    "\n",
    "</div>"
   ]
  },
  {
   "cell_type": "code",
   "execution_count": null,
   "id": "professional-surfing",
   "metadata": {
    "id": "professional-surfing",
    "scrolled": true
   },
   "outputs": [],
   "source": [
    "# Obrigado pelas sugestões, como não consegui fazer acho justo deixar assim"
   ]
  },
  {
   "cell_type": "code",
   "execution_count": null,
   "id": "48dd3658",
   "metadata": {
    "id": "48dd3658"
   },
   "outputs": [],
   "source": []
  },
  {
   "cell_type": "markdown",
   "id": "80e70c74",
   "metadata": {
    "id": "80e70c74"
   },
   "source": [
    "Escreva suas conclusões aqui"
   ]
  },
  {
   "cell_type": "markdown",
   "id": "7add9ca3",
   "metadata": {},
   "source": [
    "<div style=\"background-color: lightblue; padding: 10px;\">\n",
    "   \n",
    "   \n",
    "</div>"
   ]
  },
  {
   "cell_type": "markdown",
   "id": "9d312b14",
   "metadata": {
    "id": "9d312b14"
   },
   "source": [
    "### [C3] Para cada produto, qual parcela de todos os pedidos dele são repetidos?"
   ]
  },
  {
   "cell_type": "code",
   "execution_count": 57,
   "id": "8ae9f4b1",
   "metadata": {
    "id": "8ae9f4b1"
   },
   "outputs": [],
   "source": [
    "# gostaria de uma ideia/sugestão de como fazer esse"
   ]
  },
  {
   "cell_type": "code",
   "execution_count": null,
   "id": "103e7fe1",
   "metadata": {
    "id": "103e7fe1"
   },
   "outputs": [],
   "source": [
    "# Obrigado pelas sugestões, como não consegui fazer acho justo deixar assim"
   ]
  },
  {
   "cell_type": "markdown",
   "id": "1a3cc764",
   "metadata": {
    "id": "social-individual"
   },
   "source": [
    "<div class=\"alert alert-block alert-warning\">\n",
    "<b>Comentário: </b> <a class=\"tocSkip\"></a>\n",
    "    \n",
    "Dica de como solucionar:\n",
    "\n",
    "```python \n",
    "# Contar o número total de pedidos para cada produto\n",
    "total_pedidos_por_produto = df_order_products['product_id'].value_counts()\n",
    "\n",
    "# Contar o número de pedidos repetidos para cada produto\n",
    "pedidos_repetidos_por_produto = df_order_products[df_order_products['reordered'] == 1]['product_id'].value_counts()\n",
    "\n",
    "# Calcular a proporção de pedidos repetidos para cada produto\n",
    "proporcao_pedidos_repetidos = pedidos_repetidos_por_produto / total_pedidos_por_produto\n",
    "\n",
    "# Criar uma tabela com as colunas de ID e nome do produto e a proporção de pedidos repetidos\n",
    "tabela_proporcao_repetidos = pd.DataFrame({\n",
    "    'product_id': proporcao_pedidos_repetidos.index,\n",
    "    'product_name': df_products.set_index('product_id').loc[proporcao_pedidos_repetidos.index, 'product_name'],\n",
    "    'proporcao_repetidos': proporcao_pedidos_repetidos.values\n",
    "})\n",
    "\n",
    "# Exibir a tabela\n",
    "print(tabela_proporcao_repetidos)\n",
    "\n",
    "```"
   ]
  },
  {
   "cell_type": "markdown",
   "id": "I10dEIAyldcO",
   "metadata": {
    "id": "I10dEIAyldcO"
   },
   "source": [
    "Escreva suas conclusões aqui"
   ]
  },
  {
   "cell_type": "markdown",
   "id": "b9f96773",
   "metadata": {},
   "source": [
    "<div style=\"background-color: lightblue; padding: 10px;\">\n",
    "   \n",
    "   \n",
    "</div>"
   ]
  },
  {
   "cell_type": "markdown",
   "id": "subject-boxing",
   "metadata": {
    "id": "subject-boxing"
   },
   "source": [
    "### [C4] Para cada cliente, qual proporção de todos os seus pedidos são repetidos?"
   ]
  },
  {
   "cell_type": "code",
   "execution_count": 58,
   "id": "medical-couple",
   "metadata": {
    "id": "medical-couple",
    "scrolled": true
   },
   "outputs": [],
   "source": [
    "# gostaria de uma ideia/sugestão de como fazer esse"
   ]
  },
  {
   "cell_type": "markdown",
   "id": "39b41432",
   "metadata": {
    "id": "8892e4b4"
   },
   "source": [
    "<div class=\"alert alert-block alert-warning\">\n",
    "<b>Comentário: </b> <a class=\"tocSkip\"></a>\n",
    "\n",
    "Dica de como solucionar essa tarefa: \n",
    "```python    \n",
    "# Contar o número total de pedidos para cada cliente\n",
    "total_pedidos_por_cliente = df_instacart_orders['user_id'].value_counts()\n",
    "\n",
    "# Contar o número de pedidos repetidos para cada cliente\n",
    "pedidos_repetidos_por_cliente = df_order_products[df_order_products['reordered'] == 1]['order_id'].value_counts()\n",
    "\n",
    "# Calcular a proporção de pedidos repetidos para cada cliente\n",
    "proporcao_pedidos_repetidos_cliente = pedidos_repetidos_por_cliente / total_pedidos_por_cliente\n",
    "\n",
    "# Criar uma tabela com as colunas de ID do cliente e a proporção de pedidos repetidos\n",
    "tabela_proporcao_repetidos_cliente = pd.DataFrame({\n",
    "        'user_id': proporcao_pedidos_repetidos_cliente.index,\n",
    "        'proporcao_repetidos': proporcao_pedidos_repetidos_cliente.values\n",
    "    })\n",
    "\n",
    "# Exibir a tabela\n",
    "print(tabela_proporcao_repetidos_cliente)\n",
    "```\n",
    "</div>"
   ]
  },
  {
   "cell_type": "code",
   "execution_count": null,
   "id": "302c3a7d",
   "metadata": {},
   "outputs": [],
   "source": [
    "# Obrigado pelas sugestões, como não consegui fazer acho justo deixar assim"
   ]
  },
  {
   "cell_type": "markdown",
   "id": "BgJSvXDsleXz",
   "metadata": {
    "id": "BgJSvXDsleXz"
   },
   "source": [
    "Escreva suas conclusões aqui"
   ]
  },
  {
   "cell_type": "markdown",
   "id": "83fd3f46",
   "metadata": {},
   "source": [
    "<div style=\"background-color: lightblue; padding: 10px;\">\n",
    "   \n",
    "   \n",
    "</div>"
   ]
  },
  {
   "cell_type": "markdown",
   "id": "92d35137",
   "metadata": {
    "id": "92d35137"
   },
   "source": [
    "### [C5] Quais são os 20 principais itens que as pessoas colocam nos carrinhos antes de todos os outros?"
   ]
  },
  {
   "cell_type": "code",
   "execution_count": 88,
   "id": "0ae57274",
   "metadata": {
    "id": "0ae57274",
    "scrolled": true
   },
   "outputs": [
    {
     "name": "stdout",
     "output_type": "stream",
     "text": [
      "Estes são os top 20 itens preferidos em sequencia do mais para o menos\n"
     ]
    },
    {
     "data": {
      "text/html": [
       "<div>\n",
       "<style scoped>\n",
       "    .dataframe tbody tr th:only-of-type {\n",
       "        vertical-align: middle;\n",
       "    }\n",
       "\n",
       "    .dataframe tbody tr th {\n",
       "        vertical-align: top;\n",
       "    }\n",
       "\n",
       "    .dataframe thead th {\n",
       "        text-align: right;\n",
       "    }\n",
       "</style>\n",
       "<table border=\"1\" class=\"dataframe\">\n",
       "  <thead>\n",
       "    <tr style=\"text-align: right;\">\n",
       "      <th></th>\n",
       "      <th>count</th>\n",
       "      <th>product_id</th>\n",
       "      <th>product_name</th>\n",
       "      <th>aisle_id</th>\n",
       "      <th>department_id</th>\n",
       "    </tr>\n",
       "  </thead>\n",
       "  <tbody>\n",
       "    <tr>\n",
       "      <th>0</th>\n",
       "      <td>15562</td>\n",
       "      <td>24852</td>\n",
       "      <td>banana</td>\n",
       "      <td>24</td>\n",
       "      <td>4</td>\n",
       "    </tr>\n",
       "    <tr>\n",
       "      <th>1</th>\n",
       "      <td>11026</td>\n",
       "      <td>13176</td>\n",
       "      <td>bag of organic bananas</td>\n",
       "      <td>24</td>\n",
       "      <td>4</td>\n",
       "    </tr>\n",
       "    <tr>\n",
       "      <th>2</th>\n",
       "      <td>4363</td>\n",
       "      <td>27845</td>\n",
       "      <td>organic whole milk</td>\n",
       "      <td>84</td>\n",
       "      <td>16</td>\n",
       "    </tr>\n",
       "    <tr>\n",
       "      <th>3</th>\n",
       "      <td>3946</td>\n",
       "      <td>21137</td>\n",
       "      <td>organic strawberries</td>\n",
       "      <td>24</td>\n",
       "      <td>4</td>\n",
       "    </tr>\n",
       "    <tr>\n",
       "      <th>4</th>\n",
       "      <td>3390</td>\n",
       "      <td>47209</td>\n",
       "      <td>organic hass avocado</td>\n",
       "      <td>24</td>\n",
       "      <td>4</td>\n",
       "    </tr>\n",
       "    <tr>\n",
       "      <th>5</th>\n",
       "      <td>3336</td>\n",
       "      <td>21903</td>\n",
       "      <td>organic baby spinach</td>\n",
       "      <td>123</td>\n",
       "      <td>4</td>\n",
       "    </tr>\n",
       "    <tr>\n",
       "      <th>6</th>\n",
       "      <td>3044</td>\n",
       "      <td>47766</td>\n",
       "      <td>organic avocado</td>\n",
       "      <td>24</td>\n",
       "      <td>4</td>\n",
       "    </tr>\n",
       "    <tr>\n",
       "      <th>7</th>\n",
       "      <td>2336</td>\n",
       "      <td>19660</td>\n",
       "      <td>spring water</td>\n",
       "      <td>115</td>\n",
       "      <td>7</td>\n",
       "    </tr>\n",
       "    <tr>\n",
       "      <th>8</th>\n",
       "      <td>2308</td>\n",
       "      <td>16797</td>\n",
       "      <td>strawberries</td>\n",
       "      <td>24</td>\n",
       "      <td>4</td>\n",
       "    </tr>\n",
       "    <tr>\n",
       "      <th>9</th>\n",
       "      <td>2024</td>\n",
       "      <td>27966</td>\n",
       "      <td>organic raspberries</td>\n",
       "      <td>123</td>\n",
       "      <td>4</td>\n",
       "    </tr>\n",
       "    <tr>\n",
       "      <th>10</th>\n",
       "      <td>1914</td>\n",
       "      <td>44632</td>\n",
       "      <td>sparkling water grapefruit</td>\n",
       "      <td>115</td>\n",
       "      <td>7</td>\n",
       "    </tr>\n",
       "    <tr>\n",
       "      <th>11</th>\n",
       "      <td>1797</td>\n",
       "      <td>49235</td>\n",
       "      <td>organic half &amp; half</td>\n",
       "      <td>53</td>\n",
       "      <td>16</td>\n",
       "    </tr>\n",
       "    <tr>\n",
       "      <th>12</th>\n",
       "      <td>1737</td>\n",
       "      <td>47626</td>\n",
       "      <td>large lemon</td>\n",
       "      <td>24</td>\n",
       "      <td>4</td>\n",
       "    </tr>\n",
       "    <tr>\n",
       "      <th>13</th>\n",
       "      <td>1733</td>\n",
       "      <td>196</td>\n",
       "      <td>soda</td>\n",
       "      <td>77</td>\n",
       "      <td>7</td>\n",
       "    </tr>\n",
       "    <tr>\n",
       "      <th>14</th>\n",
       "      <td>1397</td>\n",
       "      <td>38689</td>\n",
       "      <td>organic reduced fat milk</td>\n",
       "      <td>84</td>\n",
       "      <td>16</td>\n",
       "    </tr>\n",
       "    <tr>\n",
       "      <th>15</th>\n",
       "      <td>1370</td>\n",
       "      <td>26209</td>\n",
       "      <td>limes</td>\n",
       "      <td>24</td>\n",
       "      <td>4</td>\n",
       "    </tr>\n",
       "    <tr>\n",
       "      <th>16</th>\n",
       "      <td>1340</td>\n",
       "      <td>12341</td>\n",
       "      <td>hass avocados</td>\n",
       "      <td>32</td>\n",
       "      <td>4</td>\n",
       "    </tr>\n",
       "    <tr>\n",
       "      <th>17</th>\n",
       "      <td>1310</td>\n",
       "      <td>5785</td>\n",
       "      <td>organic reduced fat 2% milk</td>\n",
       "      <td>84</td>\n",
       "      <td>16</td>\n",
       "    </tr>\n",
       "    <tr>\n",
       "      <th>18</th>\n",
       "      <td>1309</td>\n",
       "      <td>27086</td>\n",
       "      <td>half &amp; half</td>\n",
       "      <td>53</td>\n",
       "      <td>16</td>\n",
       "    </tr>\n",
       "    <tr>\n",
       "      <th>19</th>\n",
       "      <td>1246</td>\n",
       "      <td>22935</td>\n",
       "      <td>organic yellow onion</td>\n",
       "      <td>83</td>\n",
       "      <td>4</td>\n",
       "    </tr>\n",
       "  </tbody>\n",
       "</table>\n",
       "</div>"
      ],
      "text/plain": [
       "    count  product_id                 product_name  aisle_id  department_id\n",
       "0   15562       24852                       banana        24              4\n",
       "1   11026       13176       bag of organic bananas        24              4\n",
       "2    4363       27845           organic whole milk        84             16\n",
       "3    3946       21137         organic strawberries        24              4\n",
       "4    3390       47209         organic hass avocado        24              4\n",
       "5    3336       21903         organic baby spinach       123              4\n",
       "6    3044       47766              organic avocado        24              4\n",
       "7    2336       19660                 spring water       115              7\n",
       "8    2308       16797                 strawberries        24              4\n",
       "9    2024       27966          organic raspberries       123              4\n",
       "10   1914       44632   sparkling water grapefruit       115              7\n",
       "11   1797       49235          organic half & half        53             16\n",
       "12   1737       47626                  large lemon        24              4\n",
       "13   1733         196                         soda        77              7\n",
       "14   1397       38689     organic reduced fat milk        84             16\n",
       "15   1370       26209                        limes        24              4\n",
       "16   1340       12341                hass avocados        32              4\n",
       "17   1310        5785  organic reduced fat 2% milk        84             16\n",
       "18   1309       27086                  half & half        53             16\n",
       "19   1246       22935         organic yellow onion        83              4"
      ]
     },
     "execution_count": 88,
     "metadata": {},
     "output_type": "execute_result"
    }
   ],
   "source": [
    "first_in = df_orderprod.groupby('add_to_cart_order')['product_id'].value_counts() # aqui temos a ordem decrescente de pref.\n",
    "first_df = first_in.reset_index(name= 'count')\n",
    "first_list = first_df[['count','product_id']].head(20).reset_index() # aqui pegamos os 20 primeiros com maior preferencia\n",
    "\n",
    "\n",
    "# agora precisamos fazer uma consulta no dataframe de products para achar o nome com os ids dos 20 mais preferidos.\n",
    "df_product.query('product_id in @first_list')[['product_id' , 'product_name']].reset_index()\n",
    "\n",
    "\n",
    "top_first_items = first_list.merge(df_product, on='product_id', how='left').reset_index(drop = True) # linha q corrige a ordem\n",
    "\n",
    "print('Estes são os top 20 itens preferidos em sequencia do mais para o menos')\n",
    "top_first_items = top_first_items.drop(columns=['productna' , 'index'])\n",
    "top_first_items"
   ]
  },
  {
   "cell_type": "markdown",
   "id": "bfd4df7a",
   "metadata": {},
   "source": [
    "<div class=\"alert alert-block alert-danger\">\n",
    "<b>Comentário: </b> <a class=\"tocSkip\"></a>\n",
    "\n",
    "O código acima necessita de ajustes na ordem dos produtos. Dica:\n",
    "    \n",
    "```python\n",
    "\n",
    "# Ordena os dados de pedidos por 'order_id' e 'add_to_cart_order' e seleciona o primeiro item de cada pedido\n",
    "first_items = data_order_prod.sort_values(by=['order_id', 'add_to_cart_order']).groupby('order_id').first().reset_index()\n",
    "\n",
    "# Conta a frequência dos produtos que aparecem primeiro nos pedidos, pegando os 20 mais frequentes\n",
    "first_item_counts = first_items['product_id'].value_counts().head(20).reset_index()\n",
    "first_item_counts.columns = ['product_id', 'count']  # Renomeia as colunas para 'product_id' e 'count'\n",
    "\n",
    "# Faz o merge com o dataframe de produtos para obter os nomes dos produtos\n",
    "top_first_items = first_item_counts.merge(data_products, on='product_id')\n",
    "\n",
    "# Exibe os 20 principais itens colocados nos carrinhos antes de todos os outros\n",
    "print(\"Os 20 principais itens colocados nos carrinhos antes de todos os outros:\")\n",
    "print(top_first_items[['product_id', 'product_name', 'count']])\n",
    "```\n",
    "\n",
    "</div>"
   ]
  },
  {
   "cell_type": "markdown",
   "id": "808af8d6",
   "metadata": {},
   "source": [
    "<div style=\"background-color: lightblue; padding: 10px;\">\n",
    "ordem corrigida \n",
    "   \n",
    "</div>"
   ]
  },
  {
   "cell_type": "markdown",
   "id": "cfa354ac",
   "metadata": {},
   "source": [
    "<div class=\"alert alert-block alert-success\">\n",
    "<b>Comentário: </b> <a class=\"tocSkip\"></a>\n",
    "\n",
    "Parabéns pelo interesse em realizar as perguntas difíceis!\n",
    "</div>"
   ]
  },
  {
   "cell_type": "markdown",
   "id": "28ce9872",
   "metadata": {
    "id": "28ce9872"
   },
   "source": [
    "Escreva suas conclusões aqui"
   ]
  },
  {
   "cell_type": "markdown",
   "id": "afd8e0f2",
   "metadata": {},
   "source": [
    "<div style=\"background-color: lightblue; padding: 10px;\">\n",
    "Esses produtos parecem ter preferencia por serem mais saudáveis, quando a pessoa muda a dieta e busca alternativas desse tipo ela acaba escolhendo esse tipo de produto antes de qualquer outro, sempre buscando rótulos \"orgânicos\".  \n",
    "   \n",
    "</div>"
   ]
  },
  {
   "cell_type": "markdown",
   "id": "TisH_5Cp3wAi",
   "metadata": {
    "id": "TisH_5Cp3wAi"
   },
   "source": [
    "# Conclusão geral do projeto:"
   ]
  },
  {
   "cell_type": "markdown",
   "id": "5c3518de",
   "metadata": {
    "id": "Nk-4GS7mDwqY"
   },
   "source": [
    "<div style=\"background-color: lightblue; padding: 10px;\">\n",
    "Esse projeto foi bom, muito conhecimento requisitado.   \n",
    "   \n",
    "</div>"
   ]
  }
 ],
 "metadata": {
  "ExecuteTimeLog": [
   {
    "duration": 2572,
    "start_time": "2025-01-22T13:23:22.449Z"
   },
   {
    "duration": 246,
    "start_time": "2025-01-22T14:13:27.044Z"
   },
   {
    "duration": 2515,
    "start_time": "2025-01-22T14:14:13.353Z"
   },
   {
    "duration": 21,
    "start_time": "2025-01-22T14:14:42.051Z"
   },
   {
    "duration": 12,
    "start_time": "2025-01-22T14:15:15.208Z"
   },
   {
    "duration": 2320,
    "start_time": "2025-01-22T14:16:38.450Z"
   },
   {
    "duration": 24,
    "start_time": "2025-01-22T14:16:56.019Z"
   },
   {
    "duration": 12,
    "start_time": "2025-01-22T14:17:27.268Z"
   },
   {
    "duration": 16,
    "start_time": "2025-01-22T14:18:02.274Z"
   },
   {
    "duration": 10,
    "start_time": "2025-01-22T14:18:07.374Z"
   },
   {
    "duration": 12,
    "start_time": "2025-01-22T14:19:03.775Z"
   },
   {
    "duration": 14,
    "start_time": "2025-01-22T14:19:26.784Z"
   },
   {
    "duration": 2262,
    "start_time": "2025-01-22T14:19:38.598Z"
   },
   {
    "duration": 11,
    "start_time": "2025-01-22T14:20:01.442Z"
   },
   {
    "duration": 11,
    "start_time": "2025-01-22T14:20:29.730Z"
   },
   {
    "duration": 7,
    "start_time": "2025-01-22T14:30:19.096Z"
   },
   {
    "duration": 956,
    "start_time": "2025-01-22T14:43:11.962Z"
   },
   {
    "duration": 16,
    "start_time": "2025-01-22T14:43:16.010Z"
   },
   {
    "duration": 16,
    "start_time": "2025-01-22T14:43:28.066Z"
   },
   {
    "duration": 14,
    "start_time": "2025-01-22T14:43:30.748Z"
   },
   {
    "duration": 16,
    "start_time": "2025-01-22T14:43:33.101Z"
   },
   {
    "duration": 14,
    "start_time": "2025-01-22T14:43:35.598Z"
   },
   {
    "duration": 120,
    "start_time": "2025-01-22T14:53:42.327Z"
   },
   {
    "duration": 85,
    "start_time": "2025-01-22T14:54:03.019Z"
   },
   {
    "duration": 113,
    "start_time": "2025-01-22T14:54:13.376Z"
   },
   {
    "duration": 3,
    "start_time": "2025-01-22T14:55:18.167Z"
   },
   {
    "duration": 3,
    "start_time": "2025-01-22T14:55:23.383Z"
   },
   {
    "duration": 8,
    "start_time": "2025-01-22T15:22:17.373Z"
   },
   {
    "duration": 16,
    "start_time": "2025-01-22T15:24:15.470Z"
   },
   {
    "duration": 158,
    "start_time": "2025-01-22T15:29:35.076Z"
   },
   {
    "duration": 169,
    "start_time": "2025-01-22T15:29:41.215Z"
   },
   {
    "duration": 4,
    "start_time": "2025-01-22T15:30:06.712Z"
   },
   {
    "duration": 168,
    "start_time": "2025-01-22T15:30:12.374Z"
   },
   {
    "duration": 777,
    "start_time": "2025-01-22T15:31:03.217Z"
   },
   {
    "duration": 894,
    "start_time": "2025-01-22T15:31:03.996Z"
   },
   {
    "duration": 19,
    "start_time": "2025-01-22T15:31:04.892Z"
   },
   {
    "duration": 14,
    "start_time": "2025-01-22T15:31:04.912Z"
   },
   {
    "duration": 10,
    "start_time": "2025-01-22T15:31:04.929Z"
   },
   {
    "duration": 11,
    "start_time": "2025-01-22T15:31:04.940Z"
   },
   {
    "duration": 11,
    "start_time": "2025-01-22T15:31:04.953Z"
   },
   {
    "duration": 241,
    "start_time": "2025-01-22T15:31:04.966Z"
   },
   {
    "duration": 4,
    "start_time": "2025-01-22T15:31:05.209Z"
   },
   {
    "duration": 0,
    "start_time": "2025-01-22T15:31:05.216Z"
   },
   {
    "duration": 0,
    "start_time": "2025-01-22T15:31:05.217Z"
   },
   {
    "duration": 0,
    "start_time": "2025-01-22T15:31:05.219Z"
   },
   {
    "duration": 0,
    "start_time": "2025-01-22T15:31:05.220Z"
   },
   {
    "duration": 0,
    "start_time": "2025-01-22T15:31:05.221Z"
   },
   {
    "duration": 0,
    "start_time": "2025-01-22T15:31:05.223Z"
   },
   {
    "duration": 0,
    "start_time": "2025-01-22T15:31:05.224Z"
   },
   {
    "duration": 0,
    "start_time": "2025-01-22T15:31:05.225Z"
   },
   {
    "duration": 0,
    "start_time": "2025-01-22T15:31:05.226Z"
   },
   {
    "duration": 0,
    "start_time": "2025-01-22T15:31:05.228Z"
   },
   {
    "duration": 0,
    "start_time": "2025-01-22T15:31:05.229Z"
   },
   {
    "duration": 0,
    "start_time": "2025-01-22T15:31:05.231Z"
   },
   {
    "duration": 0,
    "start_time": "2025-01-22T15:31:05.232Z"
   },
   {
    "duration": 0,
    "start_time": "2025-01-22T15:31:05.233Z"
   },
   {
    "duration": 0,
    "start_time": "2025-01-22T15:31:05.235Z"
   },
   {
    "duration": 0,
    "start_time": "2025-01-22T15:31:05.237Z"
   },
   {
    "duration": 0,
    "start_time": "2025-01-22T15:31:05.239Z"
   },
   {
    "duration": 0,
    "start_time": "2025-01-22T15:31:05.240Z"
   },
   {
    "duration": 0,
    "start_time": "2025-01-22T15:31:05.242Z"
   },
   {
    "duration": 0,
    "start_time": "2025-01-22T15:31:05.243Z"
   },
   {
    "duration": 0,
    "start_time": "2025-01-22T15:31:05.244Z"
   },
   {
    "duration": 0,
    "start_time": "2025-01-22T15:31:05.246Z"
   },
   {
    "duration": 0,
    "start_time": "2025-01-22T15:31:05.247Z"
   },
   {
    "duration": 1,
    "start_time": "2025-01-22T15:31:05.248Z"
   },
   {
    "duration": 0,
    "start_time": "2025-01-22T15:31:05.306Z"
   },
   {
    "duration": 0,
    "start_time": "2025-01-22T15:31:05.307Z"
   },
   {
    "duration": 0,
    "start_time": "2025-01-22T15:31:05.308Z"
   },
   {
    "duration": 10,
    "start_time": "2025-01-22T15:32:47.735Z"
   },
   {
    "duration": 5,
    "start_time": "2025-01-22T15:36:12.435Z"
   },
   {
    "duration": 18,
    "start_time": "2025-01-22T15:37:08.631Z"
   },
   {
    "duration": 93,
    "start_time": "2025-01-22T15:39:10.377Z"
   },
   {
    "duration": 89,
    "start_time": "2025-01-22T15:39:20.303Z"
   },
   {
    "duration": 100,
    "start_time": "2025-01-22T15:39:39.769Z"
   },
   {
    "duration": 81,
    "start_time": "2025-01-22T15:39:43.015Z"
   },
   {
    "duration": 824,
    "start_time": "2025-01-22T15:39:52.260Z"
   },
   {
    "duration": 871,
    "start_time": "2025-01-22T15:39:53.086Z"
   },
   {
    "duration": 16,
    "start_time": "2025-01-22T15:39:53.959Z"
   },
   {
    "duration": 12,
    "start_time": "2025-01-22T15:39:53.976Z"
   },
   {
    "duration": 10,
    "start_time": "2025-01-22T15:39:54.004Z"
   },
   {
    "duration": 10,
    "start_time": "2025-01-22T15:39:54.016Z"
   },
   {
    "duration": 11,
    "start_time": "2025-01-22T15:39:54.027Z"
   },
   {
    "duration": 228,
    "start_time": "2025-01-22T15:39:54.040Z"
   },
   {
    "duration": 8,
    "start_time": "2025-01-22T15:39:54.270Z"
   },
   {
    "duration": 118,
    "start_time": "2025-01-22T15:39:54.279Z"
   },
   {
    "duration": 95,
    "start_time": "2025-01-22T15:39:54.398Z"
   },
   {
    "duration": 3,
    "start_time": "2025-01-22T15:39:54.504Z"
   },
   {
    "duration": 2,
    "start_time": "2025-01-22T15:39:54.509Z"
   },
   {
    "duration": 2,
    "start_time": "2025-01-22T15:39:54.515Z"
   },
   {
    "duration": 2,
    "start_time": "2025-01-22T15:39:54.519Z"
   },
   {
    "duration": 2,
    "start_time": "2025-01-22T15:39:54.523Z"
   },
   {
    "duration": 2,
    "start_time": "2025-01-22T15:39:54.527Z"
   },
   {
    "duration": 3,
    "start_time": "2025-01-22T15:39:54.531Z"
   },
   {
    "duration": 2,
    "start_time": "2025-01-22T15:39:54.535Z"
   },
   {
    "duration": 3,
    "start_time": "2025-01-22T15:39:54.539Z"
   },
   {
    "duration": 3,
    "start_time": "2025-01-22T15:39:54.543Z"
   },
   {
    "duration": 3,
    "start_time": "2025-01-22T15:39:54.547Z"
   },
   {
    "duration": 2,
    "start_time": "2025-01-22T15:39:54.552Z"
   },
   {
    "duration": 51,
    "start_time": "2025-01-22T15:39:54.555Z"
   },
   {
    "duration": 2,
    "start_time": "2025-01-22T15:39:54.608Z"
   },
   {
    "duration": 2,
    "start_time": "2025-01-22T15:39:54.612Z"
   },
   {
    "duration": 2,
    "start_time": "2025-01-22T15:39:54.616Z"
   },
   {
    "duration": 2,
    "start_time": "2025-01-22T15:39:54.619Z"
   },
   {
    "duration": 2,
    "start_time": "2025-01-22T15:39:54.623Z"
   },
   {
    "duration": 2,
    "start_time": "2025-01-22T15:39:54.627Z"
   },
   {
    "duration": 2,
    "start_time": "2025-01-22T15:39:54.631Z"
   },
   {
    "duration": 3,
    "start_time": "2025-01-22T15:39:54.634Z"
   },
   {
    "duration": 2,
    "start_time": "2025-01-22T15:39:54.639Z"
   },
   {
    "duration": 3,
    "start_time": "2025-01-22T15:39:54.642Z"
   },
   {
    "duration": 199,
    "start_time": "2025-01-22T15:41:13.181Z"
   },
   {
    "duration": 876,
    "start_time": "2025-01-22T15:41:20.023Z"
   },
   {
    "duration": 871,
    "start_time": "2025-01-22T15:41:20.901Z"
   },
   {
    "duration": 17,
    "start_time": "2025-01-22T15:41:21.774Z"
   },
   {
    "duration": 25,
    "start_time": "2025-01-22T15:41:21.792Z"
   },
   {
    "duration": 13,
    "start_time": "2025-01-22T15:41:21.819Z"
   },
   {
    "duration": 12,
    "start_time": "2025-01-22T15:41:21.833Z"
   },
   {
    "duration": 10,
    "start_time": "2025-01-22T15:41:21.847Z"
   },
   {
    "duration": 222,
    "start_time": "2025-01-22T15:41:21.859Z"
   },
   {
    "duration": 9,
    "start_time": "2025-01-22T15:41:22.083Z"
   },
   {
    "duration": 111,
    "start_time": "2025-01-22T15:41:22.104Z"
   },
   {
    "duration": 103,
    "start_time": "2025-01-22T15:41:22.216Z"
   },
   {
    "duration": 2,
    "start_time": "2025-01-22T15:41:22.321Z"
   },
   {
    "duration": 3,
    "start_time": "2025-01-22T15:41:22.324Z"
   },
   {
    "duration": 2,
    "start_time": "2025-01-22T15:41:22.331Z"
   },
   {
    "duration": 2,
    "start_time": "2025-01-22T15:41:22.335Z"
   },
   {
    "duration": 3,
    "start_time": "2025-01-22T15:41:22.339Z"
   },
   {
    "duration": 2,
    "start_time": "2025-01-22T15:41:22.344Z"
   },
   {
    "duration": 3,
    "start_time": "2025-01-22T15:41:22.347Z"
   },
   {
    "duration": 2,
    "start_time": "2025-01-22T15:41:22.352Z"
   },
   {
    "duration": 2,
    "start_time": "2025-01-22T15:41:22.356Z"
   },
   {
    "duration": 3,
    "start_time": "2025-01-22T15:41:22.360Z"
   },
   {
    "duration": 2,
    "start_time": "2025-01-22T15:41:22.406Z"
   },
   {
    "duration": 2,
    "start_time": "2025-01-22T15:41:22.410Z"
   },
   {
    "duration": 3,
    "start_time": "2025-01-22T15:41:22.413Z"
   },
   {
    "duration": 8,
    "start_time": "2025-01-22T15:41:22.417Z"
   },
   {
    "duration": 2,
    "start_time": "2025-01-22T15:41:22.427Z"
   },
   {
    "duration": 3,
    "start_time": "2025-01-22T15:41:22.431Z"
   },
   {
    "duration": 3,
    "start_time": "2025-01-22T15:41:22.436Z"
   },
   {
    "duration": 3,
    "start_time": "2025-01-22T15:41:22.443Z"
   },
   {
    "duration": 2,
    "start_time": "2025-01-22T15:41:22.448Z"
   },
   {
    "duration": 3,
    "start_time": "2025-01-22T15:41:22.452Z"
   },
   {
    "duration": 3,
    "start_time": "2025-01-22T15:41:22.456Z"
   },
   {
    "duration": 48,
    "start_time": "2025-01-22T15:41:22.461Z"
   },
   {
    "duration": 3,
    "start_time": "2025-01-22T15:41:22.511Z"
   },
   {
    "duration": 5,
    "start_time": "2025-01-22T15:42:27.180Z"
   },
   {
    "duration": 4,
    "start_time": "2025-01-22T15:47:48.563Z"
   },
   {
    "duration": 12,
    "start_time": "2025-01-22T15:48:44.189Z"
   },
   {
    "duration": 15,
    "start_time": "2025-01-22T15:50:18.113Z"
   },
   {
    "duration": 16,
    "start_time": "2025-01-22T15:50:30.617Z"
   },
   {
    "duration": 14,
    "start_time": "2025-01-22T15:50:43.237Z"
   },
   {
    "duration": 15,
    "start_time": "2025-01-22T15:50:51.318Z"
   },
   {
    "duration": 16,
    "start_time": "2025-01-22T15:53:18.862Z"
   },
   {
    "duration": 17,
    "start_time": "2025-01-22T15:53:40.702Z"
   },
   {
    "duration": 130,
    "start_time": "2025-01-22T15:54:03.730Z"
   },
   {
    "duration": 832,
    "start_time": "2025-01-22T15:54:10.851Z"
   },
   {
    "duration": 906,
    "start_time": "2025-01-22T15:54:11.685Z"
   },
   {
    "duration": 19,
    "start_time": "2025-01-22T15:54:12.593Z"
   },
   {
    "duration": 15,
    "start_time": "2025-01-22T15:54:12.613Z"
   },
   {
    "duration": 14,
    "start_time": "2025-01-22T15:54:12.630Z"
   },
   {
    "duration": 11,
    "start_time": "2025-01-22T15:54:12.646Z"
   },
   {
    "duration": 10,
    "start_time": "2025-01-22T15:54:12.659Z"
   },
   {
    "duration": 218,
    "start_time": "2025-01-22T15:54:12.671Z"
   },
   {
    "duration": 17,
    "start_time": "2025-01-22T15:54:12.891Z"
   },
   {
    "duration": 103,
    "start_time": "2025-01-22T15:54:12.912Z"
   },
   {
    "duration": 106,
    "start_time": "2025-01-22T15:54:13.016Z"
   },
   {
    "duration": 5,
    "start_time": "2025-01-22T15:54:13.124Z"
   },
   {
    "duration": 143,
    "start_time": "2025-01-22T15:54:13.130Z"
   },
   {
    "duration": 0,
    "start_time": "2025-01-22T15:54:13.276Z"
   },
   {
    "duration": 0,
    "start_time": "2025-01-22T15:54:13.277Z"
   },
   {
    "duration": 0,
    "start_time": "2025-01-22T15:54:13.278Z"
   },
   {
    "duration": 0,
    "start_time": "2025-01-22T15:54:13.280Z"
   },
   {
    "duration": 0,
    "start_time": "2025-01-22T15:54:13.281Z"
   },
   {
    "duration": 0,
    "start_time": "2025-01-22T15:54:13.282Z"
   },
   {
    "duration": 0,
    "start_time": "2025-01-22T15:54:13.283Z"
   },
   {
    "duration": 0,
    "start_time": "2025-01-22T15:54:13.284Z"
   },
   {
    "duration": 0,
    "start_time": "2025-01-22T15:54:13.306Z"
   },
   {
    "duration": 0,
    "start_time": "2025-01-22T15:54:13.307Z"
   },
   {
    "duration": 0,
    "start_time": "2025-01-22T15:54:13.309Z"
   },
   {
    "duration": 0,
    "start_time": "2025-01-22T15:54:13.310Z"
   },
   {
    "duration": 0,
    "start_time": "2025-01-22T15:54:13.312Z"
   },
   {
    "duration": 0,
    "start_time": "2025-01-22T15:54:13.314Z"
   },
   {
    "duration": 0,
    "start_time": "2025-01-22T15:54:13.315Z"
   },
   {
    "duration": 0,
    "start_time": "2025-01-22T15:54:13.317Z"
   },
   {
    "duration": 0,
    "start_time": "2025-01-22T15:54:13.318Z"
   },
   {
    "duration": 0,
    "start_time": "2025-01-22T15:54:13.319Z"
   },
   {
    "duration": 0,
    "start_time": "2025-01-22T15:54:13.320Z"
   },
   {
    "duration": 1,
    "start_time": "2025-01-22T15:54:13.321Z"
   },
   {
    "duration": 0,
    "start_time": "2025-01-22T15:54:13.323Z"
   },
   {
    "duration": 22,
    "start_time": "2025-01-22T15:54:44.748Z"
   },
   {
    "duration": 45,
    "start_time": "2025-01-22T15:55:09.577Z"
   },
   {
    "duration": 420,
    "start_time": "2025-01-22T15:55:15.924Z"
   },
   {
    "duration": 38,
    "start_time": "2025-01-22T15:55:36.093Z"
   },
   {
    "duration": 860,
    "start_time": "2025-01-22T15:55:53.231Z"
   },
   {
    "duration": 880,
    "start_time": "2025-01-22T15:55:54.093Z"
   },
   {
    "duration": 20,
    "start_time": "2025-01-22T15:55:54.974Z"
   },
   {
    "duration": 13,
    "start_time": "2025-01-22T15:55:55.005Z"
   },
   {
    "duration": 10,
    "start_time": "2025-01-22T15:55:55.021Z"
   },
   {
    "duration": 11,
    "start_time": "2025-01-22T15:55:55.032Z"
   },
   {
    "duration": 11,
    "start_time": "2025-01-22T15:55:55.044Z"
   },
   {
    "duration": 226,
    "start_time": "2025-01-22T15:55:55.057Z"
   },
   {
    "duration": 9,
    "start_time": "2025-01-22T15:55:55.284Z"
   },
   {
    "duration": 105,
    "start_time": "2025-01-22T15:55:55.307Z"
   },
   {
    "duration": 104,
    "start_time": "2025-01-22T15:55:55.414Z"
   },
   {
    "duration": 5,
    "start_time": "2025-01-22T15:55:55.520Z"
   },
   {
    "duration": 30,
    "start_time": "2025-01-22T15:55:55.526Z"
   },
   {
    "duration": 3,
    "start_time": "2025-01-22T15:55:55.557Z"
   },
   {
    "duration": 2,
    "start_time": "2025-01-22T15:55:55.562Z"
   },
   {
    "duration": 3,
    "start_time": "2025-01-22T15:55:55.566Z"
   },
   {
    "duration": 36,
    "start_time": "2025-01-22T15:55:55.570Z"
   },
   {
    "duration": 3,
    "start_time": "2025-01-22T15:55:55.608Z"
   },
   {
    "duration": 3,
    "start_time": "2025-01-22T15:55:55.612Z"
   },
   {
    "duration": 2,
    "start_time": "2025-01-22T15:55:55.617Z"
   },
   {
    "duration": 2,
    "start_time": "2025-01-22T15:55:55.622Z"
   },
   {
    "duration": 3,
    "start_time": "2025-01-22T15:55:55.625Z"
   },
   {
    "duration": 3,
    "start_time": "2025-01-22T15:55:55.630Z"
   },
   {
    "duration": 3,
    "start_time": "2025-01-22T15:55:55.634Z"
   },
   {
    "duration": 2,
    "start_time": "2025-01-22T15:55:55.640Z"
   },
   {
    "duration": 4,
    "start_time": "2025-01-22T15:55:55.643Z"
   },
   {
    "duration": 3,
    "start_time": "2025-01-22T15:55:55.648Z"
   },
   {
    "duration": 2,
    "start_time": "2025-01-22T15:55:55.655Z"
   },
   {
    "duration": 3,
    "start_time": "2025-01-22T15:55:55.658Z"
   },
   {
    "duration": 2,
    "start_time": "2025-01-22T15:55:55.705Z"
   },
   {
    "duration": 3,
    "start_time": "2025-01-22T15:55:55.709Z"
   },
   {
    "duration": 2,
    "start_time": "2025-01-22T15:55:55.714Z"
   },
   {
    "duration": 3,
    "start_time": "2025-01-22T15:55:55.718Z"
   },
   {
    "duration": 4,
    "start_time": "2025-01-22T15:55:55.722Z"
   },
   {
    "duration": 31,
    "start_time": "2025-01-22T15:56:03.114Z"
   },
   {
    "duration": 29,
    "start_time": "2025-01-22T15:56:10.211Z"
   },
   {
    "duration": 38,
    "start_time": "2025-01-22T15:56:26.420Z"
   },
   {
    "duration": 28,
    "start_time": "2025-01-22T15:56:50.111Z"
   },
   {
    "duration": 5,
    "start_time": "2025-01-22T15:58:43.424Z"
   },
   {
    "duration": 36,
    "start_time": "2025-01-22T15:59:19.092Z"
   },
   {
    "duration": 30,
    "start_time": "2025-01-22T15:59:31.659Z"
   },
   {
    "duration": 32,
    "start_time": "2025-01-22T15:59:50.588Z"
   },
   {
    "duration": 278,
    "start_time": "2025-01-22T16:00:11.700Z"
   },
   {
    "duration": 34,
    "start_time": "2025-01-22T16:00:18.319Z"
   },
   {
    "duration": 9,
    "start_time": "2025-01-22T16:06:06.189Z"
   },
   {
    "duration": 5,
    "start_time": "2025-01-22T16:07:22.414Z"
   },
   {
    "duration": 4,
    "start_time": "2025-01-22T16:07:27.764Z"
   },
   {
    "duration": 6,
    "start_time": "2025-01-22T16:07:49.257Z"
   },
   {
    "duration": 6,
    "start_time": "2025-01-22T16:07:53.741Z"
   },
   {
    "duration": 5,
    "start_time": "2025-01-22T16:08:05.646Z"
   },
   {
    "duration": 9,
    "start_time": "2025-01-22T16:08:23.730Z"
   },
   {
    "duration": 11,
    "start_time": "2025-01-22T16:08:40.463Z"
   },
   {
    "duration": 6,
    "start_time": "2025-01-22T16:09:47.407Z"
   },
   {
    "duration": 410,
    "start_time": "2025-01-22T16:10:36.837Z"
   },
   {
    "duration": 5,
    "start_time": "2025-01-22T16:10:48.224Z"
   },
   {
    "duration": 24,
    "start_time": "2025-01-22T16:11:14.804Z"
   },
   {
    "duration": 6,
    "start_time": "2025-01-22T16:15:54.782Z"
   },
   {
    "duration": 4,
    "start_time": "2025-01-22T16:16:00.227Z"
   },
   {
    "duration": 15,
    "start_time": "2025-01-22T16:16:19.866Z"
   },
   {
    "duration": 535,
    "start_time": "2025-01-22T16:16:36.630Z"
   },
   {
    "duration": 25,
    "start_time": "2025-01-22T16:17:13.455Z"
   },
   {
    "duration": 21,
    "start_time": "2025-01-22T16:17:20.844Z"
   },
   {
    "duration": 19,
    "start_time": "2025-01-22T16:18:04.736Z"
   },
   {
    "duration": 20,
    "start_time": "2025-01-22T16:19:27.178Z"
   },
   {
    "duration": 44,
    "start_time": "2025-01-22T16:19:41.085Z"
   },
   {
    "duration": 33,
    "start_time": "2025-01-22T16:22:06.730Z"
   },
   {
    "duration": 22,
    "start_time": "2025-01-22T16:22:16.519Z"
   },
   {
    "duration": 23,
    "start_time": "2025-01-22T16:22:22.865Z"
   },
   {
    "duration": 20,
    "start_time": "2025-01-22T16:22:51.383Z"
   },
   {
    "duration": 4,
    "start_time": "2025-01-22T16:23:48.077Z"
   },
   {
    "duration": 4,
    "start_time": "2025-01-22T16:31:17.409Z"
   },
   {
    "duration": 5,
    "start_time": "2025-01-22T16:32:06.183Z"
   },
   {
    "duration": 4,
    "start_time": "2025-01-22T16:32:18.228Z"
   },
   {
    "duration": 9,
    "start_time": "2025-01-22T16:33:51.986Z"
   },
   {
    "duration": 17,
    "start_time": "2025-01-22T16:34:34.429Z"
   },
   {
    "duration": 14,
    "start_time": "2025-01-22T16:34:45.152Z"
   },
   {
    "duration": 14,
    "start_time": "2025-01-22T16:35:14.925Z"
   },
   {
    "duration": 16,
    "start_time": "2025-01-22T16:35:24.628Z"
   },
   {
    "duration": 14,
    "start_time": "2025-01-22T16:35:59.211Z"
   },
   {
    "duration": 16,
    "start_time": "2025-01-22T16:44:24.841Z"
   },
   {
    "duration": 16,
    "start_time": "2025-01-22T16:45:01.050Z"
   },
   {
    "duration": 24,
    "start_time": "2025-01-22T16:45:23.613Z"
   },
   {
    "duration": 15,
    "start_time": "2025-01-22T16:45:38.903Z"
   },
   {
    "duration": 229,
    "start_time": "2025-01-22T16:46:41.881Z"
   },
   {
    "duration": 21,
    "start_time": "2025-01-22T16:46:56.938Z"
   },
   {
    "duration": 20,
    "start_time": "2025-01-22T16:48:18.507Z"
   },
   {
    "duration": 11,
    "start_time": "2025-01-22T16:48:23.749Z"
   },
   {
    "duration": 10,
    "start_time": "2025-01-22T16:48:28.022Z"
   },
   {
    "duration": 15,
    "start_time": "2025-01-22T16:48:44.898Z"
   },
   {
    "duration": 73,
    "start_time": "2025-01-22T16:49:33.369Z"
   },
   {
    "duration": 9,
    "start_time": "2025-01-22T16:50:24.424Z"
   },
   {
    "duration": 11,
    "start_time": "2025-01-22T16:50:37.489Z"
   },
   {
    "duration": 12,
    "start_time": "2025-01-22T16:51:27.882Z"
   },
   {
    "duration": 14,
    "start_time": "2025-01-22T16:52:03.718Z"
   },
   {
    "duration": 25,
    "start_time": "2025-01-22T16:53:06.860Z"
   },
   {
    "duration": 26,
    "start_time": "2025-01-22T16:54:05.716Z"
   },
   {
    "duration": 20,
    "start_time": "2025-01-22T16:54:54.382Z"
   },
   {
    "duration": 5,
    "start_time": "2025-01-22T16:56:09.901Z"
   },
   {
    "duration": 12,
    "start_time": "2025-01-22T16:56:14.925Z"
   },
   {
    "duration": 5,
    "start_time": "2025-01-22T16:57:45.266Z"
   },
   {
    "duration": 8,
    "start_time": "2025-01-22T16:57:59.847Z"
   },
   {
    "duration": 7,
    "start_time": "2025-01-22T16:58:43.245Z"
   },
   {
    "duration": 4,
    "start_time": "2025-01-22T16:59:09.355Z"
   },
   {
    "duration": 7,
    "start_time": "2025-01-22T16:59:30.031Z"
   },
   {
    "duration": 7,
    "start_time": "2025-01-22T16:59:34.078Z"
   },
   {
    "duration": 8,
    "start_time": "2025-01-22T16:59:35.588Z"
   },
   {
    "duration": 7,
    "start_time": "2025-01-22T16:59:37.799Z"
   },
   {
    "duration": 4,
    "start_time": "2025-01-22T17:01:48.533Z"
   },
   {
    "duration": 787,
    "start_time": "2025-01-22T18:17:38.182Z"
   },
   {
    "duration": 779,
    "start_time": "2025-01-22T18:17:44.569Z"
   },
   {
    "duration": 6,
    "start_time": "2025-01-22T18:18:05.204Z"
   },
   {
    "duration": 38,
    "start_time": "2025-01-22T18:18:40.570Z"
   },
   {
    "duration": 42,
    "start_time": "2025-01-22T18:18:45.579Z"
   },
   {
    "duration": 100,
    "start_time": "2025-01-22T18:19:15.174Z"
   },
   {
    "duration": 166,
    "start_time": "2025-01-22T18:28:50.681Z"
   },
   {
    "duration": 151,
    "start_time": "2025-01-22T18:29:05.444Z"
   },
   {
    "duration": 145,
    "start_time": "2025-01-22T18:29:12.227Z"
   },
   {
    "duration": 800,
    "start_time": "2025-01-22T18:29:21.188Z"
   },
   {
    "duration": 612,
    "start_time": "2025-01-22T18:32:28.572Z"
   },
   {
    "duration": 585,
    "start_time": "2025-01-22T18:32:59.189Z"
   },
   {
    "duration": 595,
    "start_time": "2025-01-22T18:33:05.451Z"
   },
   {
    "duration": 581,
    "start_time": "2025-01-22T18:33:11.250Z"
   },
   {
    "duration": 4,
    "start_time": "2025-01-22T18:38:26.261Z"
   },
   {
    "duration": 8,
    "start_time": "2025-01-22T18:39:16.214Z"
   },
   {
    "duration": 19,
    "start_time": "2025-01-22T18:45:09.068Z"
   },
   {
    "duration": 20,
    "start_time": "2025-01-22T18:47:27.228Z"
   },
   {
    "duration": 20,
    "start_time": "2025-01-22T18:47:51.701Z"
   },
   {
    "duration": 28,
    "start_time": "2025-01-22T18:48:01.812Z"
   },
   {
    "duration": 29,
    "start_time": "2025-01-22T18:48:43.169Z"
   },
   {
    "duration": 3,
    "start_time": "2025-01-22T18:50:02.987Z"
   },
   {
    "duration": 8,
    "start_time": "2025-01-22T18:50:09.979Z"
   },
   {
    "duration": 7,
    "start_time": "2025-01-22T18:50:42.348Z"
   },
   {
    "duration": 6,
    "start_time": "2025-01-22T18:50:51.403Z"
   },
   {
    "duration": 18,
    "start_time": "2025-01-22T18:51:30.408Z"
   },
   {
    "duration": 9,
    "start_time": "2025-01-22T18:51:40.001Z"
   },
   {
    "duration": 70,
    "start_time": "2025-01-22T18:53:41.623Z"
   },
   {
    "duration": 3,
    "start_time": "2025-01-22T18:54:30.840Z"
   },
   {
    "duration": 3,
    "start_time": "2025-01-22T18:54:44.288Z"
   },
   {
    "duration": 68,
    "start_time": "2025-01-22T18:54:48.336Z"
   },
   {
    "duration": 8,
    "start_time": "2025-01-22T18:54:56.623Z"
   },
   {
    "duration": 10,
    "start_time": "2025-01-22T18:55:16.003Z"
   },
   {
    "duration": 10,
    "start_time": "2025-01-22T18:55:24.299Z"
   },
   {
    "duration": 6,
    "start_time": "2025-01-22T18:55:52.674Z"
   },
   {
    "duration": 5,
    "start_time": "2025-01-22T18:55:58.755Z"
   },
   {
    "duration": 23,
    "start_time": "2025-01-22T18:59:04.769Z"
   },
   {
    "duration": 16,
    "start_time": "2025-01-22T18:59:11.698Z"
   },
   {
    "duration": 6,
    "start_time": "2025-01-22T19:04:31.856Z"
   },
   {
    "duration": 7,
    "start_time": "2025-01-22T19:06:07.448Z"
   },
   {
    "duration": 20,
    "start_time": "2025-01-22T19:07:19.527Z"
   },
   {
    "duration": 7,
    "start_time": "2025-01-22T19:07:29.795Z"
   },
   {
    "duration": 7,
    "start_time": "2025-01-22T19:07:49.443Z"
   },
   {
    "duration": 9,
    "start_time": "2025-01-22T19:10:15.677Z"
   },
   {
    "duration": 10,
    "start_time": "2025-01-22T19:10:24.883Z"
   },
   {
    "duration": 865,
    "start_time": "2025-01-22T19:10:32.016Z"
   },
   {
    "duration": 963,
    "start_time": "2025-01-22T19:10:32.886Z"
   },
   {
    "duration": 22,
    "start_time": "2025-01-22T19:10:33.851Z"
   },
   {
    "duration": 30,
    "start_time": "2025-01-22T19:10:33.875Z"
   },
   {
    "duration": 11,
    "start_time": "2025-01-22T19:10:33.909Z"
   },
   {
    "duration": 11,
    "start_time": "2025-01-22T19:10:33.921Z"
   },
   {
    "duration": 10,
    "start_time": "2025-01-22T19:10:33.934Z"
   },
   {
    "duration": 259,
    "start_time": "2025-01-22T19:10:33.946Z"
   },
   {
    "duration": 10,
    "start_time": "2025-01-22T19:10:34.207Z"
   },
   {
    "duration": 152,
    "start_time": "2025-01-22T19:10:34.219Z"
   },
   {
    "duration": 104,
    "start_time": "2025-01-22T19:10:34.373Z"
   },
   {
    "duration": 5,
    "start_time": "2025-01-22T19:10:34.479Z"
   },
   {
    "duration": 27,
    "start_time": "2025-01-22T19:10:34.486Z"
   },
   {
    "duration": 7,
    "start_time": "2025-01-22T19:10:34.517Z"
   },
   {
    "duration": 36,
    "start_time": "2025-01-22T19:10:34.527Z"
   },
   {
    "duration": 4,
    "start_time": "2025-01-22T19:10:34.565Z"
   },
   {
    "duration": 54,
    "start_time": "2025-01-22T19:10:34.571Z"
   },
   {
    "duration": 13,
    "start_time": "2025-01-22T19:10:34.626Z"
   },
   {
    "duration": 13,
    "start_time": "2025-01-22T19:10:34.641Z"
   },
   {
    "duration": 7,
    "start_time": "2025-01-22T19:10:34.656Z"
   },
   {
    "duration": 5,
    "start_time": "2025-01-22T19:10:34.665Z"
   },
   {
    "duration": 4,
    "start_time": "2025-01-22T19:10:34.672Z"
   },
   {
    "duration": 38,
    "start_time": "2025-01-22T19:10:34.678Z"
   },
   {
    "duration": 5,
    "start_time": "2025-01-22T19:10:34.719Z"
   },
   {
    "duration": 7,
    "start_time": "2025-01-22T19:10:34.725Z"
   },
   {
    "duration": 5,
    "start_time": "2025-01-22T19:10:34.733Z"
   },
   {
    "duration": 4,
    "start_time": "2025-01-22T19:10:34.739Z"
   },
   {
    "duration": 6,
    "start_time": "2025-01-22T19:10:34.745Z"
   },
   {
    "duration": 979,
    "start_time": "2025-01-22T19:10:34.755Z"
   },
   {
    "duration": 5,
    "start_time": "2025-01-22T19:10:35.737Z"
   },
   {
    "duration": 1,
    "start_time": "2025-01-22T19:10:35.743Z"
   },
   {
    "duration": 0,
    "start_time": "2025-01-22T19:10:35.745Z"
   },
   {
    "duration": 0,
    "start_time": "2025-01-22T19:10:35.746Z"
   },
   {
    "duration": 0,
    "start_time": "2025-01-22T19:10:35.748Z"
   },
   {
    "duration": 0,
    "start_time": "2025-01-22T19:10:35.749Z"
   },
   {
    "duration": 0,
    "start_time": "2025-01-22T19:10:35.751Z"
   },
   {
    "duration": 0,
    "start_time": "2025-01-22T19:10:35.752Z"
   },
   {
    "duration": 0,
    "start_time": "2025-01-22T19:10:35.753Z"
   },
   {
    "duration": 0,
    "start_time": "2025-01-22T19:10:35.755Z"
   },
   {
    "duration": 0,
    "start_time": "2025-01-22T19:10:35.756Z"
   },
   {
    "duration": 0,
    "start_time": "2025-01-22T19:10:35.757Z"
   },
   {
    "duration": 0,
    "start_time": "2025-01-22T19:10:35.758Z"
   },
   {
    "duration": 954,
    "start_time": "2025-01-22T19:10:59.219Z"
   },
   {
    "duration": 4,
    "start_time": "2025-01-22T19:11:39.894Z"
   },
   {
    "duration": 290,
    "start_time": "2025-01-22T19:11:47.410Z"
   },
   {
    "duration": 22,
    "start_time": "2025-01-22T19:12:01.351Z"
   },
   {
    "duration": 475,
    "start_time": "2025-01-22T19:12:14.826Z"
   },
   {
    "duration": 10,
    "start_time": "2025-01-22T19:12:26.197Z"
   },
   {
    "duration": 7,
    "start_time": "2025-01-22T19:12:37.605Z"
   },
   {
    "duration": 17,
    "start_time": "2025-01-22T19:34:25.174Z"
   },
   {
    "duration": 16,
    "start_time": "2025-01-22T19:34:48.282Z"
   },
   {
    "duration": 18,
    "start_time": "2025-01-22T19:35:29.055Z"
   },
   {
    "duration": 21,
    "start_time": "2025-01-22T19:35:53.872Z"
   },
   {
    "duration": 7,
    "start_time": "2025-01-22T19:36:42.984Z"
   },
   {
    "duration": 7,
    "start_time": "2025-01-22T19:36:59.246Z"
   },
   {
    "duration": 7,
    "start_time": "2025-01-22T19:38:01.573Z"
   },
   {
    "duration": 7,
    "start_time": "2025-01-22T19:44:46.264Z"
   },
   {
    "duration": 45,
    "start_time": "2025-01-22T19:47:49.400Z"
   },
   {
    "duration": 9,
    "start_time": "2025-01-22T19:47:57.198Z"
   },
   {
    "duration": 4,
    "start_time": "2025-01-22T19:50:44.791Z"
   },
   {
    "duration": 40,
    "start_time": "2025-01-22T19:53:03.279Z"
   },
   {
    "duration": 15,
    "start_time": "2025-01-22T19:53:19.535Z"
   },
   {
    "duration": 4,
    "start_time": "2025-01-22T19:53:30.157Z"
   },
   {
    "duration": 11,
    "start_time": "2025-01-22T19:53:58.267Z"
   },
   {
    "duration": 400,
    "start_time": "2025-01-22T19:56:44.080Z"
   },
   {
    "duration": 36,
    "start_time": "2025-01-22T20:00:58.398Z"
   },
   {
    "duration": 36,
    "start_time": "2025-01-22T20:01:31.186Z"
   },
   {
    "duration": 33,
    "start_time": "2025-01-22T20:02:11.560Z"
   },
   {
    "duration": 864,
    "start_time": "2025-01-22T20:03:00.439Z"
   },
   {
    "duration": 887,
    "start_time": "2025-01-22T20:03:01.305Z"
   },
   {
    "duration": 18,
    "start_time": "2025-01-22T20:03:02.195Z"
   },
   {
    "duration": 14,
    "start_time": "2025-01-22T20:03:02.215Z"
   },
   {
    "duration": 10,
    "start_time": "2025-01-22T20:03:02.231Z"
   },
   {
    "duration": 10,
    "start_time": "2025-01-22T20:03:02.242Z"
   },
   {
    "duration": 10,
    "start_time": "2025-01-22T20:03:02.253Z"
   },
   {
    "duration": 248,
    "start_time": "2025-01-22T20:03:02.264Z"
   },
   {
    "duration": 10,
    "start_time": "2025-01-22T20:03:02.513Z"
   },
   {
    "duration": 117,
    "start_time": "2025-01-22T20:03:02.525Z"
   },
   {
    "duration": 106,
    "start_time": "2025-01-22T20:03:02.644Z"
   },
   {
    "duration": 4,
    "start_time": "2025-01-22T20:03:02.751Z"
   },
   {
    "duration": 9,
    "start_time": "2025-01-22T20:03:02.757Z"
   },
   {
    "duration": 7,
    "start_time": "2025-01-22T20:03:02.770Z"
   },
   {
    "duration": 57,
    "start_time": "2025-01-22T20:03:02.779Z"
   },
   {
    "duration": 4,
    "start_time": "2025-01-22T20:03:02.838Z"
   },
   {
    "duration": 19,
    "start_time": "2025-01-22T20:03:02.844Z"
   },
   {
    "duration": 9,
    "start_time": "2025-01-22T20:03:02.865Z"
   },
   {
    "duration": 32,
    "start_time": "2025-01-22T20:03:02.875Z"
   },
   {
    "duration": 8,
    "start_time": "2025-01-22T20:03:02.909Z"
   },
   {
    "duration": 4,
    "start_time": "2025-01-22T20:03:02.918Z"
   },
   {
    "duration": 4,
    "start_time": "2025-01-22T20:03:02.923Z"
   },
   {
    "duration": 7,
    "start_time": "2025-01-22T20:03:02.929Z"
   },
   {
    "duration": 4,
    "start_time": "2025-01-22T20:03:02.938Z"
   },
   {
    "duration": 6,
    "start_time": "2025-01-22T20:03:02.943Z"
   },
   {
    "duration": 3,
    "start_time": "2025-01-22T20:03:02.950Z"
   },
   {
    "duration": 51,
    "start_time": "2025-01-22T20:03:02.955Z"
   },
   {
    "duration": 10,
    "start_time": "2025-01-22T20:03:03.010Z"
   },
   {
    "duration": 748,
    "start_time": "2025-01-22T20:03:03.023Z"
   },
   {
    "duration": 724,
    "start_time": "2025-01-22T20:03:03.773Z"
   },
   {
    "duration": 7,
    "start_time": "2025-01-22T20:03:04.504Z"
   },
   {
    "duration": 6,
    "start_time": "2025-01-22T20:03:04.513Z"
   },
   {
    "duration": 3,
    "start_time": "2025-01-22T20:03:04.521Z"
   },
   {
    "duration": 30,
    "start_time": "2025-01-22T20:03:04.526Z"
   },
   {
    "duration": 3,
    "start_time": "2025-01-22T20:03:04.557Z"
   },
   {
    "duration": 2,
    "start_time": "2025-01-22T20:03:04.562Z"
   },
   {
    "duration": 3,
    "start_time": "2025-01-22T20:03:04.566Z"
   },
   {
    "duration": 34,
    "start_time": "2025-01-22T20:03:04.571Z"
   },
   {
    "duration": 3,
    "start_time": "2025-01-22T20:03:04.607Z"
   },
   {
    "duration": 3,
    "start_time": "2025-01-22T20:03:04.612Z"
   },
   {
    "duration": 2,
    "start_time": "2025-01-22T20:03:04.619Z"
   },
   {
    "duration": 2,
    "start_time": "2025-01-22T20:03:04.623Z"
   },
   {
    "duration": 12,
    "start_time": "2025-01-22T20:03:49.743Z"
   },
   {
    "duration": 7,
    "start_time": "2025-01-22T20:06:59.384Z"
   },
   {
    "duration": 11,
    "start_time": "2025-01-22T20:07:35.125Z"
   },
   {
    "duration": 10,
    "start_time": "2025-01-22T20:08:00.018Z"
   },
   {
    "duration": 7,
    "start_time": "2025-01-22T20:15:27.675Z"
   },
   {
    "duration": 4,
    "start_time": "2025-01-22T20:16:16.946Z"
   },
   {
    "duration": 17,
    "start_time": "2025-01-22T20:17:08.939Z"
   },
   {
    "duration": 6,
    "start_time": "2025-01-22T20:17:44.926Z"
   },
   {
    "duration": 3,
    "start_time": "2025-01-22T20:17:59.134Z"
   },
   {
    "duration": 29,
    "start_time": "2025-01-22T20:19:47.258Z"
   },
   {
    "duration": 314,
    "start_time": "2025-01-22T20:59:53.860Z"
   },
   {
    "duration": 12,
    "start_time": "2025-01-22T21:00:16.761Z"
   },
   {
    "duration": 5,
    "start_time": "2025-01-22T21:01:22.864Z"
   },
   {
    "duration": 60,
    "start_time": "2025-01-22T21:07:41.439Z"
   },
   {
    "duration": 8,
    "start_time": "2025-01-22T21:08:12.886Z"
   },
   {
    "duration": 9,
    "start_time": "2025-01-22T21:13:03.023Z"
   },
   {
    "duration": 6,
    "start_time": "2025-01-22T21:13:12.030Z"
   },
   {
    "duration": 5,
    "start_time": "2025-01-22T21:13:21.809Z"
   },
   {
    "duration": 7,
    "start_time": "2025-01-22T21:14:03.961Z"
   },
   {
    "duration": 6,
    "start_time": "2025-01-22T21:14:09.390Z"
   },
   {
    "duration": 15,
    "start_time": "2025-01-22T21:14:56.345Z"
   },
   {
    "duration": 5,
    "start_time": "2025-01-22T21:15:09.928Z"
   },
   {
    "duration": 4,
    "start_time": "2025-01-22T21:15:35.328Z"
   },
   {
    "duration": 15,
    "start_time": "2025-01-22T21:15:58.487Z"
   },
   {
    "duration": 14,
    "start_time": "2025-01-22T21:16:14.972Z"
   },
   {
    "duration": 11,
    "start_time": "2025-01-22T21:16:22.757Z"
   },
   {
    "duration": 6,
    "start_time": "2025-01-22T21:17:12.612Z"
   },
   {
    "duration": 5,
    "start_time": "2025-01-22T21:17:39.401Z"
   },
   {
    "duration": 148,
    "start_time": "2025-01-22T21:18:54.254Z"
   },
   {
    "duration": 33,
    "start_time": "2025-01-22T21:22:20.600Z"
   },
   {
    "duration": 42,
    "start_time": "2025-01-22T21:22:35.081Z"
   },
   {
    "duration": 125,
    "start_time": "2025-01-22T21:22:59.945Z"
   },
   {
    "duration": 18,
    "start_time": "2025-01-22T21:23:36.154Z"
   },
   {
    "duration": 840,
    "start_time": "2025-01-22T21:24:34.089Z"
   },
   {
    "duration": 903,
    "start_time": "2025-01-22T21:24:34.931Z"
   },
   {
    "duration": 21,
    "start_time": "2025-01-22T21:24:35.836Z"
   },
   {
    "duration": 17,
    "start_time": "2025-01-22T21:24:35.861Z"
   },
   {
    "duration": 25,
    "start_time": "2025-01-22T21:24:35.880Z"
   },
   {
    "duration": 12,
    "start_time": "2025-01-22T21:24:35.908Z"
   },
   {
    "duration": 12,
    "start_time": "2025-01-22T21:24:35.922Z"
   },
   {
    "duration": 247,
    "start_time": "2025-01-22T21:24:35.935Z"
   },
   {
    "duration": 9,
    "start_time": "2025-01-22T21:24:36.184Z"
   },
   {
    "duration": 125,
    "start_time": "2025-01-22T21:24:36.207Z"
   },
   {
    "duration": 115,
    "start_time": "2025-01-22T21:24:36.334Z"
   },
   {
    "duration": 5,
    "start_time": "2025-01-22T21:24:36.451Z"
   },
   {
    "duration": 10,
    "start_time": "2025-01-22T21:24:36.458Z"
   },
   {
    "duration": 16,
    "start_time": "2025-01-22T21:24:36.469Z"
   },
   {
    "duration": 40,
    "start_time": "2025-01-22T21:24:36.508Z"
   },
   {
    "duration": 4,
    "start_time": "2025-01-22T21:24:36.550Z"
   },
   {
    "duration": 23,
    "start_time": "2025-01-22T21:24:36.556Z"
   },
   {
    "duration": 33,
    "start_time": "2025-01-22T21:24:36.581Z"
   },
   {
    "duration": 10,
    "start_time": "2025-01-22T21:24:36.616Z"
   },
   {
    "duration": 7,
    "start_time": "2025-01-22T21:24:36.628Z"
   },
   {
    "duration": 4,
    "start_time": "2025-01-22T21:24:36.637Z"
   },
   {
    "duration": 4,
    "start_time": "2025-01-22T21:24:36.643Z"
   },
   {
    "duration": 8,
    "start_time": "2025-01-22T21:24:36.649Z"
   },
   {
    "duration": 5,
    "start_time": "2025-01-22T21:24:36.659Z"
   },
   {
    "duration": 45,
    "start_time": "2025-01-22T21:24:36.665Z"
   },
   {
    "duration": 4,
    "start_time": "2025-01-22T21:24:36.713Z"
   },
   {
    "duration": 4,
    "start_time": "2025-01-22T21:24:36.719Z"
   },
   {
    "duration": 7,
    "start_time": "2025-01-22T21:24:36.727Z"
   },
   {
    "duration": 931,
    "start_time": "2025-01-22T21:24:36.736Z"
   },
   {
    "duration": 836,
    "start_time": "2025-01-22T21:24:37.669Z"
   },
   {
    "duration": 9,
    "start_time": "2025-01-22T21:24:38.507Z"
   },
   {
    "duration": 8,
    "start_time": "2025-01-22T21:24:38.519Z"
   },
   {
    "duration": 5,
    "start_time": "2025-01-22T21:24:38.530Z"
   },
   {
    "duration": 11,
    "start_time": "2025-01-22T21:24:38.537Z"
   },
   {
    "duration": 10,
    "start_time": "2025-01-22T21:24:38.550Z"
   },
   {
    "duration": 6,
    "start_time": "2025-01-22T21:24:38.562Z"
   },
   {
    "duration": 19,
    "start_time": "2025-01-22T21:24:38.605Z"
   },
   {
    "duration": 7,
    "start_time": "2025-01-22T21:24:38.626Z"
   },
   {
    "duration": 31,
    "start_time": "2025-01-22T21:24:38.636Z"
   },
   {
    "duration": 45,
    "start_time": "2025-01-22T21:24:38.669Z"
   },
   {
    "duration": 303,
    "start_time": "2025-01-22T21:24:38.716Z"
   },
   {
    "duration": 0,
    "start_time": "2025-01-22T21:24:39.021Z"
   },
   {
    "duration": 0,
    "start_time": "2025-01-22T21:24:39.023Z"
   },
   {
    "duration": 16,
    "start_time": "2025-01-22T21:25:25.094Z"
   },
   {
    "duration": 7,
    "start_time": "2025-01-22T21:25:29.901Z"
   },
   {
    "duration": 5,
    "start_time": "2025-01-22T21:26:07.571Z"
   },
   {
    "duration": 6,
    "start_time": "2025-01-22T21:26:32.244Z"
   },
   {
    "duration": 6,
    "start_time": "2025-01-22T21:26:39.364Z"
   },
   {
    "duration": 6,
    "start_time": "2025-01-22T21:27:43.158Z"
   },
   {
    "duration": 5,
    "start_time": "2025-01-22T21:28:21.790Z"
   },
   {
    "duration": 5,
    "start_time": "2025-01-22T21:28:58.010Z"
   },
   {
    "duration": 5,
    "start_time": "2025-01-22T21:29:11.588Z"
   },
   {
    "duration": 4,
    "start_time": "2025-01-22T21:31:46.846Z"
   },
   {
    "duration": 7,
    "start_time": "2025-01-22T21:32:08.658Z"
   },
   {
    "duration": 282,
    "start_time": "2025-01-22T21:35:49.950Z"
   },
   {
    "duration": 876,
    "start_time": "2025-01-22T21:40:51.684Z"
   },
   {
    "duration": 339,
    "start_time": "2025-01-22T21:41:32.342Z"
   },
   {
    "duration": 18,
    "start_time": "2025-01-22T21:42:26.706Z"
   },
   {
    "duration": 13,
    "start_time": "2025-01-22T21:43:04.095Z"
   },
   {
    "duration": 27,
    "start_time": "2025-01-22T21:43:11.111Z"
   },
   {
    "duration": 8,
    "start_time": "2025-01-22T22:02:02.700Z"
   },
   {
    "duration": 2,
    "start_time": "2025-01-22T22:03:55.241Z"
   },
   {
    "duration": 26,
    "start_time": "2025-01-22T22:16:07.688Z"
   },
   {
    "duration": 24,
    "start_time": "2025-01-22T22:16:33.461Z"
   },
   {
    "duration": 8,
    "start_time": "2025-01-22T22:17:44.224Z"
   },
   {
    "duration": 18,
    "start_time": "2025-01-22T22:18:15.211Z"
   },
   {
    "duration": 17,
    "start_time": "2025-01-22T22:18:20.973Z"
   },
   {
    "duration": 7,
    "start_time": "2025-01-22T22:18:29.555Z"
   },
   {
    "duration": 8,
    "start_time": "2025-01-22T22:21:03.532Z"
   },
   {
    "duration": 129,
    "start_time": "2025-01-22T22:21:48.783Z"
   },
   {
    "duration": 119,
    "start_time": "2025-01-22T22:21:58.859Z"
   },
   {
    "duration": 206,
    "start_time": "2025-01-22T22:22:19.550Z"
   },
   {
    "duration": 119,
    "start_time": "2025-01-22T22:22:40.106Z"
   },
   {
    "duration": 119,
    "start_time": "2025-01-22T22:22:54.870Z"
   },
   {
    "duration": 158,
    "start_time": "2025-01-22T22:24:33.687Z"
   },
   {
    "duration": 197,
    "start_time": "2025-01-22T22:24:57.252Z"
   },
   {
    "duration": 659,
    "start_time": "2025-01-22T22:25:35.111Z"
   },
   {
    "duration": 233,
    "start_time": "2025-01-22T22:26:09.613Z"
   },
   {
    "duration": 806,
    "start_time": "2025-01-22T22:30:55.379Z"
   },
   {
    "duration": 876,
    "start_time": "2025-01-22T22:30:56.187Z"
   },
   {
    "duration": 17,
    "start_time": "2025-01-22T22:30:57.065Z"
   },
   {
    "duration": 21,
    "start_time": "2025-01-22T22:30:57.085Z"
   },
   {
    "duration": 10,
    "start_time": "2025-01-22T22:30:57.108Z"
   },
   {
    "duration": 11,
    "start_time": "2025-01-22T22:30:57.120Z"
   },
   {
    "duration": 11,
    "start_time": "2025-01-22T22:30:57.133Z"
   },
   {
    "duration": 219,
    "start_time": "2025-01-22T22:30:57.145Z"
   },
   {
    "duration": 10,
    "start_time": "2025-01-22T22:30:57.365Z"
   },
   {
    "duration": 115,
    "start_time": "2025-01-22T22:30:57.377Z"
   },
   {
    "duration": 96,
    "start_time": "2025-01-22T22:30:57.494Z"
   },
   {
    "duration": 13,
    "start_time": "2025-01-22T22:30:57.592Z"
   },
   {
    "duration": 9,
    "start_time": "2025-01-22T22:30:57.607Z"
   },
   {
    "duration": 7,
    "start_time": "2025-01-22T22:30:57.618Z"
   },
   {
    "duration": 33,
    "start_time": "2025-01-22T22:30:57.627Z"
   },
   {
    "duration": 3,
    "start_time": "2025-01-22T22:30:57.662Z"
   },
   {
    "duration": 49,
    "start_time": "2025-01-22T22:30:57.667Z"
   },
   {
    "duration": 9,
    "start_time": "2025-01-22T22:30:57.718Z"
   },
   {
    "duration": 8,
    "start_time": "2025-01-22T22:30:57.728Z"
   },
   {
    "duration": 6,
    "start_time": "2025-01-22T22:30:57.738Z"
   },
   {
    "duration": 4,
    "start_time": "2025-01-22T22:30:57.745Z"
   },
   {
    "duration": 4,
    "start_time": "2025-01-22T22:30:57.751Z"
   },
   {
    "duration": 7,
    "start_time": "2025-01-22T22:30:57.757Z"
   },
   {
    "duration": 4,
    "start_time": "2025-01-22T22:30:57.805Z"
   },
   {
    "duration": 5,
    "start_time": "2025-01-22T22:30:57.811Z"
   },
   {
    "duration": 5,
    "start_time": "2025-01-22T22:30:57.818Z"
   },
   {
    "duration": 4,
    "start_time": "2025-01-22T22:30:57.824Z"
   },
   {
    "duration": 8,
    "start_time": "2025-01-22T22:30:57.834Z"
   },
   {
    "duration": 791,
    "start_time": "2025-01-22T22:30:57.844Z"
   },
   {
    "duration": 747,
    "start_time": "2025-01-22T22:30:58.637Z"
   },
   {
    "duration": 6,
    "start_time": "2025-01-22T22:30:59.386Z"
   },
   {
    "duration": 7,
    "start_time": "2025-01-22T22:30:59.405Z"
   },
   {
    "duration": 4,
    "start_time": "2025-01-22T22:30:59.414Z"
   },
   {
    "duration": 10,
    "start_time": "2025-01-22T22:30:59.420Z"
   },
   {
    "duration": 9,
    "start_time": "2025-01-22T22:30:59.431Z"
   },
   {
    "duration": 6,
    "start_time": "2025-01-22T22:30:59.442Z"
   },
   {
    "duration": 2,
    "start_time": "2025-01-22T22:30:59.450Z"
   },
   {
    "duration": 54,
    "start_time": "2025-01-22T22:30:59.454Z"
   },
   {
    "duration": 6,
    "start_time": "2025-01-22T22:30:59.510Z"
   },
   {
    "duration": 29,
    "start_time": "2025-01-22T22:30:59.518Z"
   },
   {
    "duration": 16,
    "start_time": "2025-01-22T22:30:59.549Z"
   },
   {
    "duration": 6,
    "start_time": "2025-01-22T22:30:59.567Z"
   },
   {
    "duration": 50,
    "start_time": "2025-01-22T22:30:59.574Z"
   },
   {
    "duration": 8,
    "start_time": "2025-01-22T22:30:59.627Z"
   },
   {
    "duration": 25,
    "start_time": "2025-01-22T22:30:59.637Z"
   },
   {
    "duration": 47,
    "start_time": "2025-01-22T22:30:59.663Z"
   },
   {
    "duration": 9,
    "start_time": "2025-01-22T22:30:59.712Z"
   },
   {
    "duration": 816,
    "start_time": "2025-01-22T22:37:23.283Z"
   },
   {
    "duration": 989,
    "start_time": "2025-01-22T22:37:24.101Z"
   },
   {
    "duration": 20,
    "start_time": "2025-01-22T22:37:25.091Z"
   },
   {
    "duration": 14,
    "start_time": "2025-01-22T22:37:25.113Z"
   },
   {
    "duration": 10,
    "start_time": "2025-01-22T22:37:25.130Z"
   },
   {
    "duration": 10,
    "start_time": "2025-01-22T22:37:25.142Z"
   },
   {
    "duration": 10,
    "start_time": "2025-01-22T22:37:25.154Z"
   },
   {
    "duration": 221,
    "start_time": "2025-01-22T22:37:25.165Z"
   },
   {
    "duration": 18,
    "start_time": "2025-01-22T22:37:25.388Z"
   },
   {
    "duration": 114,
    "start_time": "2025-01-22T22:37:25.408Z"
   },
   {
    "duration": 97,
    "start_time": "2025-01-22T22:37:25.523Z"
   },
   {
    "duration": 5,
    "start_time": "2025-01-22T22:37:25.622Z"
   },
   {
    "duration": 10,
    "start_time": "2025-01-22T22:37:25.628Z"
   },
   {
    "duration": 9,
    "start_time": "2025-01-22T22:37:25.642Z"
   },
   {
    "duration": 62,
    "start_time": "2025-01-22T22:37:25.653Z"
   },
   {
    "duration": 4,
    "start_time": "2025-01-22T22:37:25.717Z"
   },
   {
    "duration": 20,
    "start_time": "2025-01-22T22:37:25.722Z"
   },
   {
    "duration": 8,
    "start_time": "2025-01-22T22:37:25.744Z"
   },
   {
    "duration": 7,
    "start_time": "2025-01-22T22:37:25.754Z"
   },
   {
    "duration": 7,
    "start_time": "2025-01-22T22:37:25.763Z"
   },
   {
    "duration": 35,
    "start_time": "2025-01-22T22:37:25.771Z"
   },
   {
    "duration": 4,
    "start_time": "2025-01-22T22:37:25.807Z"
   },
   {
    "duration": 7,
    "start_time": "2025-01-22T22:37:25.813Z"
   },
   {
    "duration": 4,
    "start_time": "2025-01-22T22:37:25.823Z"
   },
   {
    "duration": 6,
    "start_time": "2025-01-22T22:37:25.829Z"
   },
   {
    "duration": 4,
    "start_time": "2025-01-22T22:37:25.836Z"
   },
   {
    "duration": 4,
    "start_time": "2025-01-22T22:37:25.841Z"
   },
   {
    "duration": 7,
    "start_time": "2025-01-22T22:37:25.848Z"
   },
   {
    "duration": 786,
    "start_time": "2025-01-22T22:37:25.857Z"
   },
   {
    "duration": 809,
    "start_time": "2025-01-22T22:37:26.644Z"
   },
   {
    "duration": 10,
    "start_time": "2025-01-22T22:37:27.457Z"
   },
   {
    "duration": 10,
    "start_time": "2025-01-22T22:37:27.470Z"
   },
   {
    "duration": 24,
    "start_time": "2025-01-22T22:37:27.483Z"
   },
   {
    "duration": 15,
    "start_time": "2025-01-22T22:37:27.509Z"
   },
   {
    "duration": 12,
    "start_time": "2025-01-22T22:37:27.527Z"
   },
   {
    "duration": 9,
    "start_time": "2025-01-22T22:37:27.541Z"
   },
   {
    "duration": 3,
    "start_time": "2025-01-22T22:37:27.552Z"
   },
   {
    "duration": 24,
    "start_time": "2025-01-22T22:37:27.605Z"
   },
   {
    "duration": 11,
    "start_time": "2025-01-22T22:37:27.631Z"
   },
   {
    "duration": 73,
    "start_time": "2025-01-22T22:37:27.645Z"
   },
   {
    "duration": 23,
    "start_time": "2025-01-22T22:37:27.724Z"
   },
   {
    "duration": 9,
    "start_time": "2025-01-22T22:37:27.749Z"
   },
   {
    "duration": 68,
    "start_time": "2025-01-22T22:37:27.761Z"
   },
   {
    "duration": 8,
    "start_time": "2025-01-22T22:37:27.831Z"
   },
   {
    "duration": 25,
    "start_time": "2025-01-22T22:37:27.841Z"
   },
   {
    "duration": 39,
    "start_time": "2025-01-22T22:37:27.868Z"
   },
   {
    "duration": 6,
    "start_time": "2025-01-22T22:37:27.909Z"
   },
   {
    "duration": 137,
    "start_time": "2025-01-22T22:37:27.917Z"
   },
   {
    "duration": 10,
    "start_time": "2025-01-22T22:38:03.814Z"
   },
   {
    "duration": 126,
    "start_time": "2025-01-22T22:38:19.898Z"
   },
   {
    "duration": 118,
    "start_time": "2025-01-22T22:38:25.218Z"
   },
   {
    "duration": 809,
    "start_time": "2025-01-22T22:40:56.151Z"
   },
   {
    "duration": 996,
    "start_time": "2025-01-22T22:40:56.962Z"
   },
   {
    "duration": 17,
    "start_time": "2025-01-22T22:40:57.959Z"
   },
   {
    "duration": 12,
    "start_time": "2025-01-22T22:40:57.979Z"
   },
   {
    "duration": 10,
    "start_time": "2025-01-22T22:40:58.005Z"
   },
   {
    "duration": 10,
    "start_time": "2025-01-22T22:40:58.016Z"
   },
   {
    "duration": 10,
    "start_time": "2025-01-22T22:40:58.028Z"
   },
   {
    "duration": 209,
    "start_time": "2025-01-22T22:40:58.039Z"
   },
   {
    "duration": 8,
    "start_time": "2025-01-22T22:40:58.250Z"
   },
   {
    "duration": 116,
    "start_time": "2025-01-22T22:40:58.262Z"
   },
   {
    "duration": 108,
    "start_time": "2025-01-22T22:40:58.380Z"
   },
   {
    "duration": 4,
    "start_time": "2025-01-22T22:40:58.489Z"
   },
   {
    "duration": 17,
    "start_time": "2025-01-22T22:40:58.495Z"
   },
   {
    "duration": 8,
    "start_time": "2025-01-22T22:40:58.513Z"
   },
   {
    "duration": 32,
    "start_time": "2025-01-22T22:40:58.523Z"
   },
   {
    "duration": 4,
    "start_time": "2025-01-22T22:40:58.557Z"
   },
   {
    "duration": 46,
    "start_time": "2025-01-22T22:40:58.562Z"
   },
   {
    "duration": 12,
    "start_time": "2025-01-22T22:40:58.610Z"
   },
   {
    "duration": 8,
    "start_time": "2025-01-22T22:40:58.623Z"
   },
   {
    "duration": 7,
    "start_time": "2025-01-22T22:40:58.632Z"
   },
   {
    "duration": 4,
    "start_time": "2025-01-22T22:40:58.640Z"
   },
   {
    "duration": 4,
    "start_time": "2025-01-22T22:40:58.646Z"
   },
   {
    "duration": 7,
    "start_time": "2025-01-22T22:40:58.653Z"
   },
   {
    "duration": 47,
    "start_time": "2025-01-22T22:40:58.661Z"
   },
   {
    "duration": 8,
    "start_time": "2025-01-22T22:40:58.709Z"
   },
   {
    "duration": 4,
    "start_time": "2025-01-22T22:40:58.720Z"
   },
   {
    "duration": 4,
    "start_time": "2025-01-22T22:40:58.725Z"
   },
   {
    "duration": 5,
    "start_time": "2025-01-22T22:40:58.733Z"
   },
   {
    "duration": 805,
    "start_time": "2025-01-22T22:40:58.740Z"
   },
   {
    "duration": 1215,
    "start_time": "2025-01-22T22:40:59.546Z"
   },
   {
    "duration": 0,
    "start_time": "2025-01-22T22:41:00.763Z"
   },
   {
    "duration": 0,
    "start_time": "2025-01-22T22:41:00.765Z"
   },
   {
    "duration": 0,
    "start_time": "2025-01-22T22:41:00.766Z"
   },
   {
    "duration": 0,
    "start_time": "2025-01-22T22:41:00.768Z"
   },
   {
    "duration": 0,
    "start_time": "2025-01-22T22:41:00.769Z"
   },
   {
    "duration": 0,
    "start_time": "2025-01-22T22:41:00.770Z"
   },
   {
    "duration": 0,
    "start_time": "2025-01-22T22:41:00.772Z"
   },
   {
    "duration": 0,
    "start_time": "2025-01-22T22:41:00.773Z"
   },
   {
    "duration": 0,
    "start_time": "2025-01-22T22:41:00.775Z"
   },
   {
    "duration": 0,
    "start_time": "2025-01-22T22:41:00.777Z"
   },
   {
    "duration": 0,
    "start_time": "2025-01-22T22:41:00.778Z"
   },
   {
    "duration": 0,
    "start_time": "2025-01-22T22:41:00.805Z"
   },
   {
    "duration": 0,
    "start_time": "2025-01-22T22:41:00.806Z"
   },
   {
    "duration": 0,
    "start_time": "2025-01-22T22:41:00.807Z"
   },
   {
    "duration": 0,
    "start_time": "2025-01-22T22:41:00.809Z"
   },
   {
    "duration": 0,
    "start_time": "2025-01-22T22:41:00.810Z"
   },
   {
    "duration": 0,
    "start_time": "2025-01-22T22:41:00.812Z"
   },
   {
    "duration": 0,
    "start_time": "2025-01-22T22:41:00.813Z"
   },
   {
    "duration": 826,
    "start_time": "2025-01-22T22:41:23.858Z"
   },
   {
    "duration": 893,
    "start_time": "2025-01-22T22:41:24.686Z"
   },
   {
    "duration": 16,
    "start_time": "2025-01-22T22:41:25.580Z"
   },
   {
    "duration": 17,
    "start_time": "2025-01-22T22:41:25.597Z"
   },
   {
    "duration": 9,
    "start_time": "2025-01-22T22:41:25.616Z"
   },
   {
    "duration": 10,
    "start_time": "2025-01-22T22:41:25.627Z"
   },
   {
    "duration": 9,
    "start_time": "2025-01-22T22:41:25.639Z"
   },
   {
    "duration": 222,
    "start_time": "2025-01-22T22:41:25.650Z"
   },
   {
    "duration": 8,
    "start_time": "2025-01-22T22:41:25.873Z"
   },
   {
    "duration": 115,
    "start_time": "2025-01-22T22:41:25.884Z"
   },
   {
    "duration": 105,
    "start_time": "2025-01-22T22:41:26.001Z"
   },
   {
    "duration": 5,
    "start_time": "2025-01-22T22:41:26.108Z"
   },
   {
    "duration": 12,
    "start_time": "2025-01-22T22:41:26.115Z"
   },
   {
    "duration": 7,
    "start_time": "2025-01-22T22:41:26.132Z"
   },
   {
    "duration": 33,
    "start_time": "2025-01-22T22:41:26.141Z"
   },
   {
    "duration": 31,
    "start_time": "2025-01-22T22:41:26.176Z"
   },
   {
    "duration": 20,
    "start_time": "2025-01-22T22:41:26.209Z"
   },
   {
    "duration": 9,
    "start_time": "2025-01-22T22:41:26.230Z"
   },
   {
    "duration": 7,
    "start_time": "2025-01-22T22:41:26.240Z"
   },
   {
    "duration": 8,
    "start_time": "2025-01-22T22:41:26.249Z"
   },
   {
    "duration": 3,
    "start_time": "2025-01-22T22:41:26.259Z"
   },
   {
    "duration": 41,
    "start_time": "2025-01-22T22:41:26.264Z"
   },
   {
    "duration": 8,
    "start_time": "2025-01-22T22:41:26.306Z"
   },
   {
    "duration": 4,
    "start_time": "2025-01-22T22:41:26.317Z"
   },
   {
    "duration": 6,
    "start_time": "2025-01-22T22:41:26.323Z"
   },
   {
    "duration": 4,
    "start_time": "2025-01-22T22:41:26.331Z"
   },
   {
    "duration": 4,
    "start_time": "2025-01-22T22:41:26.337Z"
   },
   {
    "duration": 6,
    "start_time": "2025-01-22T22:41:26.344Z"
   },
   {
    "duration": 787,
    "start_time": "2025-01-22T22:41:26.352Z"
   },
   {
    "duration": 710,
    "start_time": "2025-01-22T22:41:27.141Z"
   },
   {
    "duration": 6,
    "start_time": "2025-01-22T22:41:27.852Z"
   },
   {
    "duration": 7,
    "start_time": "2025-01-22T22:41:27.860Z"
   },
   {
    "duration": 4,
    "start_time": "2025-01-22T22:41:27.868Z"
   },
   {
    "duration": 35,
    "start_time": "2025-01-22T22:41:27.873Z"
   },
   {
    "duration": 9,
    "start_time": "2025-01-22T22:41:27.910Z"
   },
   {
    "duration": 7,
    "start_time": "2025-01-22T22:41:27.920Z"
   },
   {
    "duration": 2,
    "start_time": "2025-01-22T22:41:27.928Z"
   },
   {
    "duration": 16,
    "start_time": "2025-01-22T22:41:27.932Z"
   },
   {
    "duration": 6,
    "start_time": "2025-01-22T22:41:27.950Z"
   },
   {
    "duration": 62,
    "start_time": "2025-01-22T22:41:27.957Z"
   },
   {
    "duration": 15,
    "start_time": "2025-01-22T22:41:28.025Z"
   },
   {
    "duration": 6,
    "start_time": "2025-01-22T22:41:28.041Z"
   },
   {
    "duration": 25,
    "start_time": "2025-01-22T22:41:28.048Z"
   },
   {
    "duration": 7,
    "start_time": "2025-01-22T22:41:28.074Z"
   },
   {
    "duration": 25,
    "start_time": "2025-01-22T22:41:28.106Z"
   },
   {
    "duration": 23,
    "start_time": "2025-01-22T22:41:28.133Z"
   },
   {
    "duration": 7,
    "start_time": "2025-01-22T22:41:28.157Z"
   },
   {
    "duration": 95,
    "start_time": "2025-01-22T22:41:28.166Z"
   },
   {
    "duration": 232,
    "start_time": "2025-01-22T22:42:39.043Z"
   },
   {
    "duration": 222,
    "start_time": "2025-01-22T22:43:26.483Z"
   },
   {
    "duration": 267,
    "start_time": "2025-01-22T22:43:33.838Z"
   },
   {
    "duration": 234,
    "start_time": "2025-01-22T22:44:00.030Z"
   },
   {
    "duration": 233,
    "start_time": "2025-01-22T22:44:53.030Z"
   },
   {
    "duration": 233,
    "start_time": "2025-01-22T22:45:00.230Z"
   },
   {
    "duration": 225,
    "start_time": "2025-01-22T22:45:06.985Z"
   },
   {
    "duration": 216,
    "start_time": "2025-01-22T22:47:29.351Z"
   },
   {
    "duration": 6,
    "start_time": "2025-01-22T22:47:36.271Z"
   },
   {
    "duration": 10,
    "start_time": "2025-01-22T22:47:59.478Z"
   },
   {
    "duration": 9,
    "start_time": "2025-01-22T22:48:39.335Z"
   },
   {
    "duration": 20,
    "start_time": "2025-01-22T22:49:12.914Z"
   },
   {
    "duration": 13,
    "start_time": "2025-01-22T22:49:20.370Z"
   },
   {
    "duration": 10,
    "start_time": "2025-01-22T22:56:28.710Z"
   },
   {
    "duration": 8,
    "start_time": "2025-01-22T22:56:42.691Z"
   },
   {
    "duration": 6,
    "start_time": "2025-01-22T22:59:19.387Z"
   },
   {
    "duration": 19,
    "start_time": "2025-01-22T23:00:12.731Z"
   },
   {
    "duration": 18,
    "start_time": "2025-01-22T23:00:26.443Z"
   },
   {
    "duration": 15,
    "start_time": "2025-01-22T23:00:44.133Z"
   },
   {
    "duration": 10,
    "start_time": "2025-01-22T23:29:59.538Z"
   },
   {
    "duration": 76,
    "start_time": "2025-01-22T23:32:52.942Z"
   },
   {
    "duration": 370,
    "start_time": "2025-01-22T23:33:29.583Z"
   },
   {
    "duration": 26,
    "start_time": "2025-01-22T23:33:41.721Z"
   },
   {
    "duration": 24,
    "start_time": "2025-01-22T23:34:30.572Z"
   },
   {
    "duration": 340,
    "start_time": "2025-01-22T23:37:33.146Z"
   },
   {
    "duration": 285,
    "start_time": "2025-01-22T23:37:59.207Z"
   },
   {
    "duration": 19,
    "start_time": "2025-01-22T23:38:10.181Z"
   },
   {
    "duration": 23,
    "start_time": "2025-01-22T23:38:14.312Z"
   },
   {
    "duration": 25,
    "start_time": "2025-01-22T23:39:10.766Z"
   },
   {
    "duration": 264,
    "start_time": "2025-01-22T23:39:49.166Z"
   },
   {
    "duration": 1238,
    "start_time": "2025-01-22T23:41:42.429Z"
   },
   {
    "duration": 1420,
    "start_time": "2025-01-22T23:44:48.799Z"
   },
   {
    "duration": 1479,
    "start_time": "2025-01-22T23:45:39.064Z"
   },
   {
    "duration": 1453,
    "start_time": "2025-01-22T23:45:51.192Z"
   },
   {
    "duration": 1420,
    "start_time": "2025-01-22T23:46:42.646Z"
   },
   {
    "duration": 4,
    "start_time": "2025-01-22T23:48:01.450Z"
   },
   {
    "duration": 1556,
    "start_time": "2025-01-22T23:48:43.851Z"
   },
   {
    "duration": 1495,
    "start_time": "2025-01-22T23:49:23.402Z"
   },
   {
    "duration": 1902,
    "start_time": "2025-01-22T23:52:26.420Z"
   },
   {
    "duration": 1586,
    "start_time": "2025-01-22T23:55:03.112Z"
   },
   {
    "duration": 33,
    "start_time": "2025-01-22T23:56:19.092Z"
   },
   {
    "duration": 33,
    "start_time": "2025-01-22T23:57:07.631Z"
   },
   {
    "duration": 33,
    "start_time": "2025-01-22T23:57:27.586Z"
   },
   {
    "duration": 109,
    "start_time": "2025-01-23T00:16:20.877Z"
   },
   {
    "duration": 109,
    "start_time": "2025-01-23T00:19:03.829Z"
   },
   {
    "duration": 338,
    "start_time": "2025-01-23T00:19:17.687Z"
   },
   {
    "duration": 106,
    "start_time": "2025-01-23T00:19:38.956Z"
   },
   {
    "duration": 245,
    "start_time": "2025-01-23T00:19:58.733Z"
   },
   {
    "duration": 235,
    "start_time": "2025-01-23T00:22:16.604Z"
   },
   {
    "duration": 156,
    "start_time": "2025-01-23T11:55:45.318Z"
   },
   {
    "duration": 2506,
    "start_time": "2025-01-23T11:55:55.758Z"
   },
   {
    "duration": 1031,
    "start_time": "2025-01-23T11:55:58.266Z"
   },
   {
    "duration": 17,
    "start_time": "2025-01-23T11:55:59.299Z"
   },
   {
    "duration": 25,
    "start_time": "2025-01-23T11:55:59.319Z"
   },
   {
    "duration": 11,
    "start_time": "2025-01-23T11:55:59.347Z"
   },
   {
    "duration": 12,
    "start_time": "2025-01-23T11:55:59.360Z"
   },
   {
    "duration": 10,
    "start_time": "2025-01-23T11:55:59.373Z"
   },
   {
    "duration": 222,
    "start_time": "2025-01-23T11:55:59.385Z"
   },
   {
    "duration": 8,
    "start_time": "2025-01-23T11:55:59.610Z"
   },
   {
    "duration": 116,
    "start_time": "2025-01-23T11:55:59.622Z"
   },
   {
    "duration": 104,
    "start_time": "2025-01-23T11:55:59.742Z"
   },
   {
    "duration": 4,
    "start_time": "2025-01-23T11:55:59.847Z"
   },
   {
    "duration": 9,
    "start_time": "2025-01-23T11:55:59.853Z"
   },
   {
    "duration": 7,
    "start_time": "2025-01-23T11:55:59.864Z"
   },
   {
    "duration": 33,
    "start_time": "2025-01-23T11:55:59.873Z"
   },
   {
    "duration": 37,
    "start_time": "2025-01-23T11:55:59.908Z"
   },
   {
    "duration": 21,
    "start_time": "2025-01-23T11:55:59.946Z"
   },
   {
    "duration": 10,
    "start_time": "2025-01-23T11:55:59.969Z"
   },
   {
    "duration": 8,
    "start_time": "2025-01-23T11:55:59.980Z"
   },
   {
    "duration": 6,
    "start_time": "2025-01-23T11:55:59.990Z"
   },
   {
    "duration": 4,
    "start_time": "2025-01-23T11:55:59.998Z"
   },
   {
    "duration": 40,
    "start_time": "2025-01-23T11:56:00.003Z"
   },
   {
    "duration": 7,
    "start_time": "2025-01-23T11:56:00.045Z"
   },
   {
    "duration": 5,
    "start_time": "2025-01-23T11:56:00.054Z"
   },
   {
    "duration": 14,
    "start_time": "2025-01-23T11:56:00.060Z"
   },
   {
    "duration": 4,
    "start_time": "2025-01-23T11:56:00.076Z"
   },
   {
    "duration": 4,
    "start_time": "2025-01-23T11:56:00.082Z"
   },
   {
    "duration": 5,
    "start_time": "2025-01-23T11:56:00.090Z"
   },
   {
    "duration": 835,
    "start_time": "2025-01-23T11:56:00.096Z"
   },
   {
    "duration": 750,
    "start_time": "2025-01-23T11:56:00.933Z"
   },
   {
    "duration": 7,
    "start_time": "2025-01-23T11:56:01.685Z"
   },
   {
    "duration": 6,
    "start_time": "2025-01-23T11:56:01.695Z"
   },
   {
    "duration": 5,
    "start_time": "2025-01-23T11:56:01.703Z"
   },
   {
    "duration": 36,
    "start_time": "2025-01-23T11:56:01.709Z"
   },
   {
    "duration": 10,
    "start_time": "2025-01-23T11:56:01.747Z"
   },
   {
    "duration": 6,
    "start_time": "2025-01-23T11:56:01.758Z"
   },
   {
    "duration": 2,
    "start_time": "2025-01-23T11:56:01.766Z"
   },
   {
    "duration": 17,
    "start_time": "2025-01-23T11:56:01.770Z"
   },
   {
    "duration": 6,
    "start_time": "2025-01-23T11:56:01.789Z"
   },
   {
    "duration": 64,
    "start_time": "2025-01-23T11:56:01.797Z"
   },
   {
    "duration": 16,
    "start_time": "2025-01-23T11:56:01.863Z"
   },
   {
    "duration": 7,
    "start_time": "2025-01-23T11:56:01.881Z"
   },
   {
    "duration": 54,
    "start_time": "2025-01-23T11:56:01.889Z"
   },
   {
    "duration": 7,
    "start_time": "2025-01-23T11:56:01.944Z"
   },
   {
    "duration": 27,
    "start_time": "2025-01-23T11:56:01.953Z"
   },
   {
    "duration": 24,
    "start_time": "2025-01-23T11:56:01.981Z"
   },
   {
    "duration": 6,
    "start_time": "2025-01-23T11:56:02.007Z"
   },
   {
    "duration": 278,
    "start_time": "2025-01-23T11:56:02.015Z"
   },
   {
    "duration": 1816,
    "start_time": "2025-01-23T11:56:02.295Z"
   },
   {
    "duration": 186,
    "start_time": "2025-01-23T11:56:04.113Z"
   },
   {
    "duration": 549,
    "start_time": "2025-01-23T11:56:04.301Z"
   },
   {
    "duration": 819,
    "start_time": "2025-01-23T11:58:38.400Z"
   },
   {
    "duration": 885,
    "start_time": "2025-01-23T11:58:39.222Z"
   },
   {
    "duration": 18,
    "start_time": "2025-01-23T11:58:40.109Z"
   },
   {
    "duration": 21,
    "start_time": "2025-01-23T11:58:40.128Z"
   },
   {
    "duration": 9,
    "start_time": "2025-01-23T11:58:40.151Z"
   },
   {
    "duration": 10,
    "start_time": "2025-01-23T11:58:40.162Z"
   },
   {
    "duration": 10,
    "start_time": "2025-01-23T11:58:40.174Z"
   },
   {
    "duration": 226,
    "start_time": "2025-01-23T11:58:40.186Z"
   },
   {
    "duration": 9,
    "start_time": "2025-01-23T11:58:40.414Z"
   },
   {
    "duration": 123,
    "start_time": "2025-01-23T11:58:40.424Z"
   },
   {
    "duration": 102,
    "start_time": "2025-01-23T11:58:40.550Z"
   },
   {
    "duration": 14,
    "start_time": "2025-01-23T11:58:40.654Z"
   },
   {
    "duration": 10,
    "start_time": "2025-01-23T11:58:40.669Z"
   },
   {
    "duration": 8,
    "start_time": "2025-01-23T11:58:40.683Z"
   },
   {
    "duration": 54,
    "start_time": "2025-01-23T11:58:40.692Z"
   },
   {
    "duration": 5,
    "start_time": "2025-01-23T11:58:40.748Z"
   },
   {
    "duration": 20,
    "start_time": "2025-01-23T11:58:40.755Z"
   },
   {
    "duration": 9,
    "start_time": "2025-01-23T11:58:40.776Z"
   },
   {
    "duration": 7,
    "start_time": "2025-01-23T11:58:40.786Z"
   },
   {
    "duration": 6,
    "start_time": "2025-01-23T11:58:40.795Z"
   },
   {
    "duration": 4,
    "start_time": "2025-01-23T11:58:40.803Z"
   },
   {
    "duration": 39,
    "start_time": "2025-01-23T11:58:40.808Z"
   },
   {
    "duration": 11,
    "start_time": "2025-01-23T11:58:40.849Z"
   },
   {
    "duration": 4,
    "start_time": "2025-01-23T11:58:40.862Z"
   },
   {
    "duration": 5,
    "start_time": "2025-01-23T11:58:40.868Z"
   },
   {
    "duration": 4,
    "start_time": "2025-01-23T11:58:40.874Z"
   },
   {
    "duration": 4,
    "start_time": "2025-01-23T11:58:40.880Z"
   },
   {
    "duration": 7,
    "start_time": "2025-01-23T11:58:40.886Z"
   },
   {
    "duration": 840,
    "start_time": "2025-01-23T11:58:40.895Z"
   },
   {
    "duration": 736,
    "start_time": "2025-01-23T11:58:41.737Z"
   },
   {
    "duration": 7,
    "start_time": "2025-01-23T11:58:42.474Z"
   },
   {
    "duration": 6,
    "start_time": "2025-01-23T11:58:42.483Z"
   },
   {
    "duration": 5,
    "start_time": "2025-01-23T11:58:42.490Z"
   },
   {
    "duration": 9,
    "start_time": "2025-01-23T11:58:42.496Z"
   },
   {
    "duration": 36,
    "start_time": "2025-01-23T11:58:42.507Z"
   },
   {
    "duration": 7,
    "start_time": "2025-01-23T11:58:42.544Z"
   },
   {
    "duration": 2,
    "start_time": "2025-01-23T11:58:42.553Z"
   },
   {
    "duration": 18,
    "start_time": "2025-01-23T11:58:42.557Z"
   },
   {
    "duration": 7,
    "start_time": "2025-01-23T11:58:42.576Z"
   },
   {
    "duration": 59,
    "start_time": "2025-01-23T11:58:42.584Z"
   },
   {
    "duration": 16,
    "start_time": "2025-01-23T11:58:42.647Z"
   },
   {
    "duration": 6,
    "start_time": "2025-01-23T11:58:42.665Z"
   },
   {
    "duration": 26,
    "start_time": "2025-01-23T11:58:42.673Z"
   },
   {
    "duration": 7,
    "start_time": "2025-01-23T11:58:42.701Z"
   },
   {
    "duration": 54,
    "start_time": "2025-01-23T11:58:42.711Z"
   },
   {
    "duration": 25,
    "start_time": "2025-01-23T11:58:42.767Z"
   },
   {
    "duration": 7,
    "start_time": "2025-01-23T11:58:42.794Z"
   },
   {
    "duration": 273,
    "start_time": "2025-01-23T11:58:42.803Z"
   },
   {
    "duration": 1891,
    "start_time": "2025-01-23T11:58:43.078Z"
   },
   {
    "duration": 180,
    "start_time": "2025-01-23T11:58:44.971Z"
   },
   {
    "duration": 795,
    "start_time": "2025-01-23T12:04:56.633Z"
   },
   {
    "duration": 888,
    "start_time": "2025-01-23T12:04:57.430Z"
   },
   {
    "duration": 23,
    "start_time": "2025-01-23T12:04:58.320Z"
   },
   {
    "duration": 13,
    "start_time": "2025-01-23T12:04:58.346Z"
   },
   {
    "duration": 10,
    "start_time": "2025-01-23T12:04:58.360Z"
   },
   {
    "duration": 10,
    "start_time": "2025-01-23T12:04:58.372Z"
   },
   {
    "duration": 10,
    "start_time": "2025-01-23T12:04:58.384Z"
   },
   {
    "duration": 232,
    "start_time": "2025-01-23T12:04:58.396Z"
   },
   {
    "duration": 13,
    "start_time": "2025-01-23T12:04:58.630Z"
   },
   {
    "duration": 119,
    "start_time": "2025-01-23T12:04:58.646Z"
   },
   {
    "duration": 110,
    "start_time": "2025-01-23T12:04:58.767Z"
   },
   {
    "duration": 5,
    "start_time": "2025-01-23T12:04:58.879Z"
   },
   {
    "duration": 10,
    "start_time": "2025-01-23T12:04:58.885Z"
   },
   {
    "duration": 8,
    "start_time": "2025-01-23T12:04:58.896Z"
   },
   {
    "duration": 59,
    "start_time": "2025-01-23T12:04:58.906Z"
   },
   {
    "duration": 4,
    "start_time": "2025-01-23T12:04:58.967Z"
   },
   {
    "duration": 21,
    "start_time": "2025-01-23T12:04:58.973Z"
   },
   {
    "duration": 9,
    "start_time": "2025-01-23T12:04:58.995Z"
   },
   {
    "duration": 8,
    "start_time": "2025-01-23T12:04:59.006Z"
   },
   {
    "duration": 33,
    "start_time": "2025-01-23T12:04:59.016Z"
   },
   {
    "duration": 5,
    "start_time": "2025-01-23T12:04:59.050Z"
   },
   {
    "duration": 4,
    "start_time": "2025-01-23T12:04:59.057Z"
   },
   {
    "duration": 12,
    "start_time": "2025-01-23T12:04:59.062Z"
   },
   {
    "duration": 5,
    "start_time": "2025-01-23T12:04:59.075Z"
   },
   {
    "duration": 7,
    "start_time": "2025-01-23T12:04:59.081Z"
   },
   {
    "duration": 4,
    "start_time": "2025-01-23T12:04:59.089Z"
   },
   {
    "duration": 4,
    "start_time": "2025-01-23T12:04:59.094Z"
   },
   {
    "duration": 6,
    "start_time": "2025-01-23T12:04:59.144Z"
   },
   {
    "duration": 819,
    "start_time": "2025-01-23T12:04:59.152Z"
   },
   {
    "duration": 712,
    "start_time": "2025-01-23T12:04:59.973Z"
   },
   {
    "duration": 7,
    "start_time": "2025-01-23T12:05:00.687Z"
   },
   {
    "duration": 6,
    "start_time": "2025-01-23T12:05:00.696Z"
   },
   {
    "duration": 4,
    "start_time": "2025-01-23T12:05:00.704Z"
   },
   {
    "duration": 10,
    "start_time": "2025-01-23T12:05:00.709Z"
   },
   {
    "duration": 11,
    "start_time": "2025-01-23T12:05:00.743Z"
   },
   {
    "duration": 5,
    "start_time": "2025-01-23T12:05:00.758Z"
   },
   {
    "duration": 3,
    "start_time": "2025-01-23T12:05:00.764Z"
   },
   {
    "duration": 17,
    "start_time": "2025-01-23T12:05:00.768Z"
   },
   {
    "duration": 6,
    "start_time": "2025-01-23T12:05:00.787Z"
   },
   {
    "duration": 67,
    "start_time": "2025-01-23T12:05:00.795Z"
   },
   {
    "duration": 16,
    "start_time": "2025-01-23T12:05:00.864Z"
   },
   {
    "duration": 7,
    "start_time": "2025-01-23T12:05:00.881Z"
   },
   {
    "duration": 25,
    "start_time": "2025-01-23T12:05:00.890Z"
   },
   {
    "duration": 30,
    "start_time": "2025-01-23T12:05:00.916Z"
   },
   {
    "duration": 25,
    "start_time": "2025-01-23T12:05:00.948Z"
   },
   {
    "duration": 23,
    "start_time": "2025-01-23T12:05:00.975Z"
   },
   {
    "duration": 6,
    "start_time": "2025-01-23T12:05:01.000Z"
   },
   {
    "duration": 275,
    "start_time": "2025-01-23T12:05:01.008Z"
   },
   {
    "duration": 1888,
    "start_time": "2025-01-23T12:05:01.286Z"
   },
   {
    "duration": 184,
    "start_time": "2025-01-23T12:05:03.176Z"
   },
   {
    "duration": 846,
    "start_time": "2025-01-23T12:08:13.375Z"
   },
   {
    "duration": 883,
    "start_time": "2025-01-23T12:08:14.224Z"
   },
   {
    "duration": 18,
    "start_time": "2025-01-23T12:08:15.108Z"
   },
   {
    "duration": 23,
    "start_time": "2025-01-23T12:08:15.128Z"
   },
   {
    "duration": 11,
    "start_time": "2025-01-23T12:08:15.154Z"
   },
   {
    "duration": 12,
    "start_time": "2025-01-23T12:08:15.167Z"
   },
   {
    "duration": 16,
    "start_time": "2025-01-23T12:08:15.181Z"
   },
   {
    "duration": 221,
    "start_time": "2025-01-23T12:08:15.200Z"
   },
   {
    "duration": 9,
    "start_time": "2025-01-23T12:08:15.423Z"
   },
   {
    "duration": 107,
    "start_time": "2025-01-23T12:08:15.443Z"
   },
   {
    "duration": 105,
    "start_time": "2025-01-23T12:08:15.551Z"
   },
   {
    "duration": 4,
    "start_time": "2025-01-23T12:08:15.658Z"
   },
   {
    "duration": 9,
    "start_time": "2025-01-23T12:08:15.664Z"
   },
   {
    "duration": 7,
    "start_time": "2025-01-23T12:08:15.676Z"
   },
   {
    "duration": 33,
    "start_time": "2025-01-23T12:08:15.685Z"
   },
   {
    "duration": 5,
    "start_time": "2025-01-23T12:08:15.742Z"
   },
   {
    "duration": 21,
    "start_time": "2025-01-23T12:08:15.748Z"
   },
   {
    "duration": 10,
    "start_time": "2025-01-23T12:08:15.771Z"
   },
   {
    "duration": 7,
    "start_time": "2025-01-23T12:08:15.783Z"
   },
   {
    "duration": 7,
    "start_time": "2025-01-23T12:08:15.792Z"
   },
   {
    "duration": 4,
    "start_time": "2025-01-23T12:08:15.800Z"
   },
   {
    "duration": 37,
    "start_time": "2025-01-23T12:08:15.806Z"
   },
   {
    "duration": 7,
    "start_time": "2025-01-23T12:08:15.845Z"
   },
   {
    "duration": 5,
    "start_time": "2025-01-23T12:08:15.854Z"
   },
   {
    "duration": 8,
    "start_time": "2025-01-23T12:08:15.860Z"
   },
   {
    "duration": 4,
    "start_time": "2025-01-23T12:08:15.869Z"
   },
   {
    "duration": 4,
    "start_time": "2025-01-23T12:08:15.874Z"
   },
   {
    "duration": 8,
    "start_time": "2025-01-23T12:08:15.879Z"
   },
   {
    "duration": 825,
    "start_time": "2025-01-23T12:08:15.888Z"
   },
   {
    "duration": 756,
    "start_time": "2025-01-23T12:08:16.715Z"
   },
   {
    "duration": 7,
    "start_time": "2025-01-23T12:08:17.472Z"
   },
   {
    "duration": 6,
    "start_time": "2025-01-23T12:08:17.481Z"
   },
   {
    "duration": 4,
    "start_time": "2025-01-23T12:08:17.489Z"
   },
   {
    "duration": 9,
    "start_time": "2025-01-23T12:08:17.495Z"
   },
   {
    "duration": 39,
    "start_time": "2025-01-23T12:08:17.505Z"
   },
   {
    "duration": 6,
    "start_time": "2025-01-23T12:08:17.545Z"
   },
   {
    "duration": 3,
    "start_time": "2025-01-23T12:08:17.552Z"
   },
   {
    "duration": 19,
    "start_time": "2025-01-23T12:08:17.556Z"
   },
   {
    "duration": 7,
    "start_time": "2025-01-23T12:08:17.576Z"
   },
   {
    "duration": 59,
    "start_time": "2025-01-23T12:08:17.584Z"
   },
   {
    "duration": 17,
    "start_time": "2025-01-23T12:08:17.648Z"
   },
   {
    "duration": 7,
    "start_time": "2025-01-23T12:08:17.666Z"
   },
   {
    "duration": 26,
    "start_time": "2025-01-23T12:08:17.674Z"
   },
   {
    "duration": 7,
    "start_time": "2025-01-23T12:08:17.702Z"
   },
   {
    "duration": 50,
    "start_time": "2025-01-23T12:08:17.712Z"
   },
   {
    "duration": 22,
    "start_time": "2025-01-23T12:08:17.764Z"
   },
   {
    "duration": 7,
    "start_time": "2025-01-23T12:08:17.788Z"
   },
   {
    "duration": 273,
    "start_time": "2025-01-23T12:08:17.797Z"
   },
   {
    "duration": 1813,
    "start_time": "2025-01-23T12:08:18.072Z"
   },
   {
    "duration": 199,
    "start_time": "2025-01-23T12:08:19.888Z"
   },
   {
    "duration": 839,
    "start_time": "2025-01-23T12:14:54.100Z"
   },
   {
    "duration": 891,
    "start_time": "2025-01-23T12:14:54.943Z"
   },
   {
    "duration": 17,
    "start_time": "2025-01-23T12:14:55.836Z"
   },
   {
    "duration": 14,
    "start_time": "2025-01-23T12:14:55.855Z"
   },
   {
    "duration": 11,
    "start_time": "2025-01-23T12:14:55.871Z"
   },
   {
    "duration": 11,
    "start_time": "2025-01-23T12:14:55.883Z"
   },
   {
    "duration": 11,
    "start_time": "2025-01-23T12:14:55.895Z"
   },
   {
    "duration": 200,
    "start_time": "2025-01-23T12:14:55.942Z"
   },
   {
    "duration": 10,
    "start_time": "2025-01-23T12:14:56.144Z"
   },
   {
    "duration": 124,
    "start_time": "2025-01-23T12:14:56.157Z"
   },
   {
    "duration": 113,
    "start_time": "2025-01-23T12:14:56.282Z"
   },
   {
    "duration": 4,
    "start_time": "2025-01-23T12:14:56.397Z"
   },
   {
    "duration": 10,
    "start_time": "2025-01-23T12:14:56.403Z"
   },
   {
    "duration": 8,
    "start_time": "2025-01-23T12:14:56.414Z"
   },
   {
    "duration": 52,
    "start_time": "2025-01-23T12:14:56.423Z"
   },
   {
    "duration": 5,
    "start_time": "2025-01-23T12:14:56.477Z"
   },
   {
    "duration": 22,
    "start_time": "2025-01-23T12:14:56.483Z"
   },
   {
    "duration": 37,
    "start_time": "2025-01-23T12:14:56.507Z"
   },
   {
    "duration": 8,
    "start_time": "2025-01-23T12:14:56.545Z"
   },
   {
    "duration": 7,
    "start_time": "2025-01-23T12:14:56.554Z"
   },
   {
    "duration": 4,
    "start_time": "2025-01-23T12:14:56.563Z"
   },
   {
    "duration": 5,
    "start_time": "2025-01-23T12:14:56.569Z"
   },
   {
    "duration": 8,
    "start_time": "2025-01-23T12:14:56.576Z"
   },
   {
    "duration": 5,
    "start_time": "2025-01-23T12:14:56.585Z"
   },
   {
    "duration": 6,
    "start_time": "2025-01-23T12:14:56.592Z"
   },
   {
    "duration": 42,
    "start_time": "2025-01-23T12:14:56.600Z"
   },
   {
    "duration": 4,
    "start_time": "2025-01-23T12:14:56.644Z"
   },
   {
    "duration": 6,
    "start_time": "2025-01-23T12:14:56.652Z"
   },
   {
    "duration": 829,
    "start_time": "2025-01-23T12:14:56.660Z"
   },
   {
    "duration": 765,
    "start_time": "2025-01-23T12:14:57.491Z"
   },
   {
    "duration": 7,
    "start_time": "2025-01-23T12:14:58.258Z"
   },
   {
    "duration": 6,
    "start_time": "2025-01-23T12:14:58.267Z"
   },
   {
    "duration": 4,
    "start_time": "2025-01-23T12:14:58.275Z"
   },
   {
    "duration": 10,
    "start_time": "2025-01-23T12:14:58.281Z"
   },
   {
    "duration": 9,
    "start_time": "2025-01-23T12:14:58.292Z"
   },
   {
    "duration": 41,
    "start_time": "2025-01-23T12:14:58.303Z"
   },
   {
    "duration": 2,
    "start_time": "2025-01-23T12:14:58.346Z"
   },
   {
    "duration": 18,
    "start_time": "2025-01-23T12:14:58.350Z"
   },
   {
    "duration": 6,
    "start_time": "2025-01-23T12:14:58.369Z"
   },
   {
    "duration": 32,
    "start_time": "2025-01-23T12:14:58.377Z"
   },
   {
    "duration": 41,
    "start_time": "2025-01-23T12:14:58.411Z"
   },
   {
    "duration": 7,
    "start_time": "2025-01-23T12:14:58.454Z"
   },
   {
    "duration": 27,
    "start_time": "2025-01-23T12:14:58.462Z"
   },
   {
    "duration": 7,
    "start_time": "2025-01-23T12:14:58.491Z"
   },
   {
    "duration": 51,
    "start_time": "2025-01-23T12:14:58.502Z"
   },
   {
    "duration": 23,
    "start_time": "2025-01-23T12:14:58.555Z"
   },
   {
    "duration": 6,
    "start_time": "2025-01-23T12:14:58.580Z"
   },
   {
    "duration": 264,
    "start_time": "2025-01-23T12:14:58.588Z"
   },
   {
    "duration": 1952,
    "start_time": "2025-01-23T12:14:58.854Z"
   },
   {
    "duration": 193,
    "start_time": "2025-01-23T12:15:00.808Z"
   },
   {
    "duration": 830,
    "start_time": "2025-01-23T12:16:25.901Z"
   },
   {
    "duration": 904,
    "start_time": "2025-01-23T12:16:26.733Z"
   },
   {
    "duration": 18,
    "start_time": "2025-01-23T12:16:27.639Z"
   },
   {
    "duration": 14,
    "start_time": "2025-01-23T12:16:27.658Z"
   },
   {
    "duration": 9,
    "start_time": "2025-01-23T12:16:27.676Z"
   },
   {
    "duration": 10,
    "start_time": "2025-01-23T12:16:27.687Z"
   },
   {
    "duration": 44,
    "start_time": "2025-01-23T12:16:27.699Z"
   },
   {
    "duration": 198,
    "start_time": "2025-01-23T12:16:27.745Z"
   },
   {
    "duration": 10,
    "start_time": "2025-01-23T12:16:27.945Z"
   },
   {
    "duration": 126,
    "start_time": "2025-01-23T12:16:27.957Z"
   },
   {
    "duration": 112,
    "start_time": "2025-01-23T12:16:28.085Z"
   },
   {
    "duration": 4,
    "start_time": "2025-01-23T12:16:28.199Z"
   },
   {
    "duration": 9,
    "start_time": "2025-01-23T12:16:28.204Z"
   },
   {
    "duration": 7,
    "start_time": "2025-01-23T12:16:28.216Z"
   },
   {
    "duration": 34,
    "start_time": "2025-01-23T12:16:28.242Z"
   },
   {
    "duration": 4,
    "start_time": "2025-01-23T12:16:28.277Z"
   },
   {
    "duration": 20,
    "start_time": "2025-01-23T12:16:28.283Z"
   },
   {
    "duration": 37,
    "start_time": "2025-01-23T12:16:28.306Z"
   },
   {
    "duration": 11,
    "start_time": "2025-01-23T12:16:28.344Z"
   },
   {
    "duration": 7,
    "start_time": "2025-01-23T12:16:28.357Z"
   },
   {
    "duration": 4,
    "start_time": "2025-01-23T12:16:28.365Z"
   },
   {
    "duration": 6,
    "start_time": "2025-01-23T12:16:28.371Z"
   },
   {
    "duration": 9,
    "start_time": "2025-01-23T12:16:28.380Z"
   },
   {
    "duration": 5,
    "start_time": "2025-01-23T12:16:28.390Z"
   },
   {
    "duration": 7,
    "start_time": "2025-01-23T12:16:28.396Z"
   },
   {
    "duration": 42,
    "start_time": "2025-01-23T12:16:28.404Z"
   },
   {
    "duration": 5,
    "start_time": "2025-01-23T12:16:28.448Z"
   },
   {
    "duration": 7,
    "start_time": "2025-01-23T12:16:28.455Z"
   },
   {
    "duration": 880,
    "start_time": "2025-01-23T12:16:28.464Z"
   },
   {
    "duration": 779,
    "start_time": "2025-01-23T12:16:29.345Z"
   },
   {
    "duration": 17,
    "start_time": "2025-01-23T12:16:30.126Z"
   },
   {
    "duration": 7,
    "start_time": "2025-01-23T12:16:30.145Z"
   },
   {
    "duration": 4,
    "start_time": "2025-01-23T12:16:30.154Z"
   },
   {
    "duration": 10,
    "start_time": "2025-01-23T12:16:30.159Z"
   },
   {
    "duration": 9,
    "start_time": "2025-01-23T12:16:30.171Z"
   },
   {
    "duration": 7,
    "start_time": "2025-01-23T12:16:30.181Z"
   },
   {
    "duration": 2,
    "start_time": "2025-01-23T12:16:30.190Z"
   },
   {
    "duration": 55,
    "start_time": "2025-01-23T12:16:30.194Z"
   },
   {
    "duration": 6,
    "start_time": "2025-01-23T12:16:30.251Z"
   },
   {
    "duration": 31,
    "start_time": "2025-01-23T12:16:30.260Z"
   },
   {
    "duration": 16,
    "start_time": "2025-01-23T12:16:30.296Z"
   },
   {
    "duration": 30,
    "start_time": "2025-01-23T12:16:30.314Z"
   },
   {
    "duration": 26,
    "start_time": "2025-01-23T12:16:30.347Z"
   },
   {
    "duration": 8,
    "start_time": "2025-01-23T12:16:30.375Z"
   },
   {
    "duration": 27,
    "start_time": "2025-01-23T12:16:30.385Z"
   },
   {
    "duration": 49,
    "start_time": "2025-01-23T12:16:30.413Z"
   },
   {
    "duration": 6,
    "start_time": "2025-01-23T12:16:30.464Z"
   },
   {
    "duration": 296,
    "start_time": "2025-01-23T12:16:30.472Z"
   },
   {
    "duration": 1838,
    "start_time": "2025-01-23T12:16:30.770Z"
   },
   {
    "duration": 188,
    "start_time": "2025-01-23T12:16:32.610Z"
   },
   {
    "duration": 2,
    "start_time": "2025-01-23T12:16:32.800Z"
   },
   {
    "duration": 8,
    "start_time": "2025-01-23T12:16:32.804Z"
   },
   {
    "duration": 8,
    "start_time": "2025-01-23T12:16:59.959Z"
   },
   {
    "duration": 5,
    "start_time": "2025-01-23T12:17:45.275Z"
   },
   {
    "duration": 925,
    "start_time": "2025-01-23T12:18:03.828Z"
   },
   {
    "duration": 906,
    "start_time": "2025-01-23T12:18:27.987Z"
   },
   {
    "duration": 898,
    "start_time": "2025-01-23T12:18:55.341Z"
   },
   {
    "duration": 155,
    "start_time": "2025-01-23T12:19:12.145Z"
   },
   {
    "duration": 949,
    "start_time": "2025-01-23T12:19:29.637Z"
   },
   {
    "duration": 938,
    "start_time": "2025-01-23T12:19:44.181Z"
   },
   {
    "duration": 979,
    "start_time": "2025-01-23T12:19:58.929Z"
   },
   {
    "duration": 1086,
    "start_time": "2025-01-23T12:20:10.461Z"
   },
   {
    "duration": 990,
    "start_time": "2025-01-23T12:20:20.025Z"
   },
   {
    "duration": 999,
    "start_time": "2025-01-23T12:20:43.046Z"
   },
   {
    "duration": 1000,
    "start_time": "2025-01-23T12:21:00.145Z"
   },
   {
    "duration": 31724,
    "start_time": "2025-01-23T12:23:29.141Z"
   },
   {
    "duration": 871,
    "start_time": "2025-01-23T12:27:50.063Z"
   },
   {
    "duration": 900,
    "start_time": "2025-01-23T12:27:50.936Z"
   },
   {
    "duration": 20,
    "start_time": "2025-01-23T12:27:51.838Z"
   },
   {
    "duration": 12,
    "start_time": "2025-01-23T12:27:51.860Z"
   },
   {
    "duration": 10,
    "start_time": "2025-01-23T12:27:51.874Z"
   },
   {
    "duration": 13,
    "start_time": "2025-01-23T12:27:51.886Z"
   },
   {
    "duration": 12,
    "start_time": "2025-01-23T12:27:51.900Z"
   },
   {
    "duration": 206,
    "start_time": "2025-01-23T12:27:51.942Z"
   },
   {
    "duration": 9,
    "start_time": "2025-01-23T12:27:52.149Z"
   },
   {
    "duration": 115,
    "start_time": "2025-01-23T12:27:52.161Z"
   },
   {
    "duration": 105,
    "start_time": "2025-01-23T12:27:52.277Z"
   },
   {
    "duration": 4,
    "start_time": "2025-01-23T12:27:52.384Z"
   },
   {
    "duration": 9,
    "start_time": "2025-01-23T12:27:52.390Z"
   },
   {
    "duration": 7,
    "start_time": "2025-01-23T12:27:52.400Z"
   },
   {
    "duration": 53,
    "start_time": "2025-01-23T12:27:52.409Z"
   },
   {
    "duration": 5,
    "start_time": "2025-01-23T12:27:52.463Z"
   },
   {
    "duration": 20,
    "start_time": "2025-01-23T12:27:52.469Z"
   },
   {
    "duration": 9,
    "start_time": "2025-01-23T12:27:52.491Z"
   },
   {
    "duration": 7,
    "start_time": "2025-01-23T12:27:52.501Z"
   },
   {
    "duration": 36,
    "start_time": "2025-01-23T12:27:52.510Z"
   },
   {
    "duration": 5,
    "start_time": "2025-01-23T12:27:52.547Z"
   },
   {
    "duration": 3,
    "start_time": "2025-01-23T12:27:52.554Z"
   },
   {
    "duration": 8,
    "start_time": "2025-01-23T12:27:52.559Z"
   },
   {
    "duration": 4,
    "start_time": "2025-01-23T12:27:52.568Z"
   },
   {
    "duration": 7,
    "start_time": "2025-01-23T12:27:52.574Z"
   },
   {
    "duration": 4,
    "start_time": "2025-01-23T12:27:52.583Z"
   },
   {
    "duration": 5,
    "start_time": "2025-01-23T12:27:52.588Z"
   },
   {
    "duration": 47,
    "start_time": "2025-01-23T12:27:52.597Z"
   },
   {
    "duration": 833,
    "start_time": "2025-01-23T12:27:52.646Z"
   },
   {
    "duration": 764,
    "start_time": "2025-01-23T12:27:53.481Z"
   },
   {
    "duration": 6,
    "start_time": "2025-01-23T12:27:54.247Z"
   },
   {
    "duration": 7,
    "start_time": "2025-01-23T12:27:54.255Z"
   },
   {
    "duration": 4,
    "start_time": "2025-01-23T12:27:54.264Z"
   },
   {
    "duration": 10,
    "start_time": "2025-01-23T12:27:54.269Z"
   },
   {
    "duration": 9,
    "start_time": "2025-01-23T12:27:54.281Z"
   },
   {
    "duration": 5,
    "start_time": "2025-01-23T12:27:54.292Z"
   },
   {
    "duration": 2,
    "start_time": "2025-01-23T12:27:54.299Z"
   },
   {
    "duration": 55,
    "start_time": "2025-01-23T12:27:54.303Z"
   },
   {
    "duration": 7,
    "start_time": "2025-01-23T12:27:54.360Z"
   },
   {
    "duration": 31,
    "start_time": "2025-01-23T12:27:54.370Z"
   },
   {
    "duration": 15,
    "start_time": "2025-01-23T12:27:54.403Z"
   },
   {
    "duration": 28,
    "start_time": "2025-01-23T12:27:54.420Z"
   },
   {
    "duration": 28,
    "start_time": "2025-01-23T12:27:54.449Z"
   },
   {
    "duration": 7,
    "start_time": "2025-01-23T12:27:54.479Z"
   },
   {
    "duration": 27,
    "start_time": "2025-01-23T12:27:54.487Z"
   },
   {
    "duration": 49,
    "start_time": "2025-01-23T12:27:54.515Z"
   },
   {
    "duration": 6,
    "start_time": "2025-01-23T12:27:54.566Z"
   },
   {
    "duration": 270,
    "start_time": "2025-01-23T12:27:54.574Z"
   },
   {
    "duration": 2039,
    "start_time": "2025-01-23T12:27:54.845Z"
   },
   {
    "duration": 187,
    "start_time": "2025-01-23T12:27:56.886Z"
   },
   {
    "duration": 2,
    "start_time": "2025-01-23T12:27:57.076Z"
   },
   {
    "duration": 1105,
    "start_time": "2025-01-23T12:27:57.081Z"
   },
   {
    "duration": 6,
    "start_time": "2025-01-23T12:29:23.314Z"
   },
   {
    "duration": 4,
    "start_time": "2025-01-23T12:29:34.629Z"
   },
   {
    "duration": 785,
    "start_time": "2025-01-23T12:29:47.561Z"
   },
   {
    "duration": 412,
    "start_time": "2025-01-23T12:32:09.600Z"
   },
   {
    "duration": 308,
    "start_time": "2025-01-23T12:32:31.139Z"
   },
   {
    "duration": 318,
    "start_time": "2025-01-23T12:32:53.458Z"
   },
   {
    "duration": 347,
    "start_time": "2025-01-23T12:33:11.890Z"
   },
   {
    "duration": 449,
    "start_time": "2025-01-23T12:33:31.499Z"
   },
   {
    "duration": 332,
    "start_time": "2025-01-23T12:33:44.576Z"
   },
   {
    "duration": 350,
    "start_time": "2025-01-23T12:34:05.108Z"
   },
   {
    "duration": 342,
    "start_time": "2025-01-23T12:34:44.358Z"
   },
   {
    "duration": 462,
    "start_time": "2025-01-23T12:34:57.068Z"
   },
   {
    "duration": 318,
    "start_time": "2025-01-23T12:35:09.368Z"
   },
   {
    "duration": 314,
    "start_time": "2025-01-23T12:35:33.231Z"
   },
   {
    "duration": 5,
    "start_time": "2025-01-23T12:37:41.844Z"
   },
   {
    "duration": 331,
    "start_time": "2025-01-23T12:37:51.589Z"
   },
   {
    "duration": 334,
    "start_time": "2025-01-23T12:39:33.167Z"
   },
   {
    "duration": 339,
    "start_time": "2025-01-23T12:40:06.059Z"
   },
   {
    "duration": 523,
    "start_time": "2025-01-23T12:42:49.015Z"
   },
   {
    "duration": 344,
    "start_time": "2025-01-23T12:45:42.693Z"
   },
   {
    "duration": 339,
    "start_time": "2025-01-23T12:47:25.598Z"
   },
   {
    "duration": 330,
    "start_time": "2025-01-23T12:47:33.682Z"
   },
   {
    "duration": 6,
    "start_time": "2025-01-23T12:59:32.180Z"
   },
   {
    "duration": 1605,
    "start_time": "2025-01-23T13:19:23.269Z"
   },
   {
    "duration": 7,
    "start_time": "2025-01-23T13:22:30.311Z"
   },
   {
    "duration": 5,
    "start_time": "2025-01-23T13:22:49.164Z"
   },
   {
    "duration": 5,
    "start_time": "2025-01-23T13:22:54.880Z"
   },
   {
    "duration": 6,
    "start_time": "2025-01-23T13:23:03.933Z"
   },
   {
    "duration": 5,
    "start_time": "2025-01-23T13:23:10.141Z"
   },
   {
    "duration": 1570,
    "start_time": "2025-01-23T13:23:23.398Z"
   },
   {
    "duration": 1422,
    "start_time": "2025-01-23T13:23:30.759Z"
   },
   {
    "duration": 1608,
    "start_time": "2025-01-23T13:24:47.591Z"
   },
   {
    "duration": 6,
    "start_time": "2025-01-23T13:27:31.078Z"
   },
   {
    "duration": 3,
    "start_time": "2025-01-23T13:28:00.847Z"
   },
   {
    "duration": 5,
    "start_time": "2025-01-23T13:28:09.523Z"
   },
   {
    "duration": 3,
    "start_time": "2025-01-23T13:30:17.548Z"
   },
   {
    "duration": 3,
    "start_time": "2025-01-23T13:30:37.177Z"
   },
   {
    "duration": 7,
    "start_time": "2025-01-23T13:31:45.263Z"
   },
   {
    "duration": 59,
    "start_time": "2025-01-23T13:32:24.971Z"
   },
   {
    "duration": 603,
    "start_time": "2025-01-23T13:34:45.241Z"
   },
   {
    "duration": 66,
    "start_time": "2025-01-23T13:35:05.849Z"
   },
   {
    "duration": 28,
    "start_time": "2025-01-23T13:37:55.524Z"
   },
   {
    "duration": 8,
    "start_time": "2025-01-23T13:38:37.382Z"
   },
   {
    "duration": 6,
    "start_time": "2025-01-23T13:41:54.300Z"
   },
   {
    "duration": 7,
    "start_time": "2025-01-23T13:42:13.375Z"
   },
   {
    "duration": 225,
    "start_time": "2025-01-23T13:43:50.506Z"
   },
   {
    "duration": 38,
    "start_time": "2025-01-23T13:44:10.145Z"
   },
   {
    "duration": 93,
    "start_time": "2025-01-23T13:44:22.655Z"
   },
   {
    "duration": 92,
    "start_time": "2025-01-23T13:54:16.415Z"
   },
   {
    "duration": 323,
    "start_time": "2025-01-23T13:56:25.051Z"
   },
   {
    "duration": 99,
    "start_time": "2025-01-23T13:56:36.838Z"
   },
   {
    "duration": 92,
    "start_time": "2025-01-23T13:57:04.911Z"
   },
   {
    "duration": 91,
    "start_time": "2025-01-23T13:57:57.076Z"
   },
   {
    "duration": 97,
    "start_time": "2025-01-23T13:58:44.033Z"
   },
   {
    "duration": 92,
    "start_time": "2025-01-23T13:58:52.485Z"
   },
   {
    "duration": 96,
    "start_time": "2025-01-23T14:00:51.400Z"
   },
   {
    "duration": 95,
    "start_time": "2025-01-23T14:01:12.662Z"
   },
   {
    "duration": 4,
    "start_time": "2025-01-23T14:04:15.935Z"
   },
   {
    "duration": 95,
    "start_time": "2025-01-23T14:04:21.051Z"
   },
   {
    "duration": 88,
    "start_time": "2025-01-23T14:04:54.466Z"
   },
   {
    "duration": 94,
    "start_time": "2025-01-23T14:06:03.671Z"
   },
   {
    "duration": 91,
    "start_time": "2025-01-23T14:06:28.676Z"
   },
   {
    "duration": 93,
    "start_time": "2025-01-23T14:07:13.364Z"
   },
   {
    "duration": 94,
    "start_time": "2025-01-23T14:07:29.330Z"
   },
   {
    "duration": 93,
    "start_time": "2025-01-23T14:07:40.976Z"
   },
   {
    "duration": 91,
    "start_time": "2025-01-23T14:09:36.139Z"
   },
   {
    "duration": 91,
    "start_time": "2025-01-23T14:10:44.311Z"
   },
   {
    "duration": 93,
    "start_time": "2025-01-23T14:12:21.669Z"
   },
   {
    "duration": 105,
    "start_time": "2025-01-23T14:15:10.696Z"
   },
   {
    "duration": 102,
    "start_time": "2025-01-23T14:15:26.993Z"
   },
   {
    "duration": 91,
    "start_time": "2025-01-23T14:17:23.509Z"
   },
   {
    "duration": 97,
    "start_time": "2025-01-23T14:19:23.115Z"
   },
   {
    "duration": 98,
    "start_time": "2025-01-23T14:19:32.998Z"
   },
   {
    "duration": 122,
    "start_time": "2025-01-23T14:20:08.784Z"
   },
   {
    "duration": 93,
    "start_time": "2025-01-23T14:20:47.941Z"
   },
   {
    "duration": 94,
    "start_time": "2025-01-23T14:21:08.749Z"
   },
   {
    "duration": 95,
    "start_time": "2025-01-23T14:21:24.256Z"
   },
   {
    "duration": 5,
    "start_time": "2025-01-23T14:22:07.018Z"
   },
   {
    "duration": 102,
    "start_time": "2025-01-23T14:23:50.415Z"
   },
   {
    "duration": 93,
    "start_time": "2025-01-23T14:24:39.597Z"
   },
   {
    "duration": 94,
    "start_time": "2025-01-23T14:24:56.347Z"
   },
   {
    "duration": 89,
    "start_time": "2025-01-23T14:26:16.189Z"
   },
   {
    "duration": 91,
    "start_time": "2025-01-23T14:26:27.013Z"
   },
   {
    "duration": 95,
    "start_time": "2025-01-23T14:27:23.728Z"
   },
   {
    "duration": 96,
    "start_time": "2025-01-23T14:28:05.062Z"
   },
   {
    "duration": 94,
    "start_time": "2025-01-23T14:28:27.190Z"
   },
   {
    "duration": 93,
    "start_time": "2025-01-23T14:28:37.333Z"
   },
   {
    "duration": 91,
    "start_time": "2025-01-23T14:28:56.624Z"
   },
   {
    "duration": 88,
    "start_time": "2025-01-23T14:29:20.112Z"
   },
   {
    "duration": 97,
    "start_time": "2025-01-23T14:29:36.696Z"
   },
   {
    "duration": 91,
    "start_time": "2025-01-23T14:29:44.855Z"
   },
   {
    "duration": 4,
    "start_time": "2025-01-23T14:30:44.700Z"
   },
   {
    "duration": 4,
    "start_time": "2025-01-23T14:31:12.092Z"
   },
   {
    "duration": 92,
    "start_time": "2025-01-23T14:31:59.466Z"
   },
   {
    "duration": 105,
    "start_time": "2025-01-23T14:32:10.911Z"
   },
   {
    "duration": 128,
    "start_time": "2025-01-23T14:38:14.852Z"
   },
   {
    "duration": 797,
    "start_time": "2025-01-23T14:38:29.037Z"
   },
   {
    "duration": 907,
    "start_time": "2025-01-23T14:38:29.836Z"
   },
   {
    "duration": 19,
    "start_time": "2025-01-23T14:38:30.745Z"
   },
   {
    "duration": 12,
    "start_time": "2025-01-23T14:38:30.767Z"
   },
   {
    "duration": 10,
    "start_time": "2025-01-23T14:38:30.780Z"
   },
   {
    "duration": 10,
    "start_time": "2025-01-23T14:38:30.792Z"
   },
   {
    "duration": 41,
    "start_time": "2025-01-23T14:38:30.804Z"
   },
   {
    "duration": 210,
    "start_time": "2025-01-23T14:38:30.847Z"
   },
   {
    "duration": 8,
    "start_time": "2025-01-23T14:38:31.059Z"
   },
   {
    "duration": 131,
    "start_time": "2025-01-23T14:38:31.070Z"
   },
   {
    "duration": 115,
    "start_time": "2025-01-23T14:38:31.204Z"
   },
   {
    "duration": 4,
    "start_time": "2025-01-23T14:38:31.320Z"
   },
   {
    "duration": 22,
    "start_time": "2025-01-23T14:38:31.326Z"
   },
   {
    "duration": 7,
    "start_time": "2025-01-23T14:38:31.349Z"
   },
   {
    "duration": 33,
    "start_time": "2025-01-23T14:38:31.358Z"
   },
   {
    "duration": 4,
    "start_time": "2025-01-23T14:38:31.393Z"
   },
   {
    "duration": 19,
    "start_time": "2025-01-23T14:38:31.399Z"
   },
   {
    "duration": 10,
    "start_time": "2025-01-23T14:38:31.443Z"
   },
   {
    "duration": 542,
    "start_time": "2025-01-23T14:38:31.455Z"
   },
   {
    "duration": 0,
    "start_time": "2025-01-23T14:38:32.000Z"
   },
   {
    "duration": 0,
    "start_time": "2025-01-23T14:38:32.001Z"
   },
   {
    "duration": 0,
    "start_time": "2025-01-23T14:38:32.002Z"
   },
   {
    "duration": 0,
    "start_time": "2025-01-23T14:38:32.003Z"
   },
   {
    "duration": 0,
    "start_time": "2025-01-23T14:38:32.004Z"
   },
   {
    "duration": 0,
    "start_time": "2025-01-23T14:38:32.006Z"
   },
   {
    "duration": 0,
    "start_time": "2025-01-23T14:38:32.007Z"
   },
   {
    "duration": 0,
    "start_time": "2025-01-23T14:38:32.008Z"
   },
   {
    "duration": 0,
    "start_time": "2025-01-23T14:38:32.009Z"
   },
   {
    "duration": 0,
    "start_time": "2025-01-23T14:38:32.011Z"
   },
   {
    "duration": 0,
    "start_time": "2025-01-23T14:38:32.012Z"
   },
   {
    "duration": 1,
    "start_time": "2025-01-23T14:38:32.013Z"
   },
   {
    "duration": 0,
    "start_time": "2025-01-23T14:38:32.015Z"
   },
   {
    "duration": 0,
    "start_time": "2025-01-23T14:38:32.043Z"
   },
   {
    "duration": 0,
    "start_time": "2025-01-23T14:38:32.044Z"
   },
   {
    "duration": 0,
    "start_time": "2025-01-23T14:38:32.046Z"
   },
   {
    "duration": 0,
    "start_time": "2025-01-23T14:38:32.047Z"
   },
   {
    "duration": 0,
    "start_time": "2025-01-23T14:38:32.049Z"
   },
   {
    "duration": 0,
    "start_time": "2025-01-23T14:38:32.050Z"
   },
   {
    "duration": 0,
    "start_time": "2025-01-23T14:38:32.051Z"
   },
   {
    "duration": 0,
    "start_time": "2025-01-23T14:38:32.052Z"
   },
   {
    "duration": 0,
    "start_time": "2025-01-23T14:38:32.053Z"
   },
   {
    "duration": 0,
    "start_time": "2025-01-23T14:38:32.054Z"
   },
   {
    "duration": 0,
    "start_time": "2025-01-23T14:38:32.056Z"
   },
   {
    "duration": 0,
    "start_time": "2025-01-23T14:38:32.057Z"
   },
   {
    "duration": 0,
    "start_time": "2025-01-23T14:38:32.058Z"
   },
   {
    "duration": 0,
    "start_time": "2025-01-23T14:38:32.059Z"
   },
   {
    "duration": 0,
    "start_time": "2025-01-23T14:38:32.060Z"
   },
   {
    "duration": 0,
    "start_time": "2025-01-23T14:38:32.061Z"
   },
   {
    "duration": 0,
    "start_time": "2025-01-23T14:38:32.063Z"
   },
   {
    "duration": 0,
    "start_time": "2025-01-23T14:38:32.064Z"
   },
   {
    "duration": 0,
    "start_time": "2025-01-23T14:38:32.065Z"
   },
   {
    "duration": 0,
    "start_time": "2025-01-23T14:38:32.066Z"
   },
   {
    "duration": 0,
    "start_time": "2025-01-23T14:38:32.067Z"
   },
   {
    "duration": 0,
    "start_time": "2025-01-23T14:38:32.068Z"
   },
   {
    "duration": 0,
    "start_time": "2025-01-23T14:38:32.069Z"
   },
   {
    "duration": 41,
    "start_time": "2025-01-23T14:39:23.779Z"
   },
   {
    "duration": 9,
    "start_time": "2025-01-23T14:40:23.359Z"
   },
   {
    "duration": 10,
    "start_time": "2025-01-23T14:40:43.938Z"
   },
   {
    "duration": 11,
    "start_time": "2025-01-23T14:41:33.602Z"
   },
   {
    "duration": 10,
    "start_time": "2025-01-23T14:42:47.387Z"
   },
   {
    "duration": 10,
    "start_time": "2025-01-23T14:45:17.494Z"
   },
   {
    "duration": 14,
    "start_time": "2025-01-23T14:47:34.939Z"
   },
   {
    "duration": 12,
    "start_time": "2025-01-23T14:48:01.600Z"
   },
   {
    "duration": 8,
    "start_time": "2025-01-23T14:49:39.638Z"
   },
   {
    "duration": 8,
    "start_time": "2025-01-23T14:49:45.317Z"
   },
   {
    "duration": 8,
    "start_time": "2025-01-23T14:49:54.949Z"
   },
   {
    "duration": 8,
    "start_time": "2025-01-23T14:49:57.126Z"
   },
   {
    "duration": 8,
    "start_time": "2025-01-23T14:50:01.626Z"
   },
   {
    "duration": 8,
    "start_time": "2025-01-23T14:50:04.726Z"
   },
   {
    "duration": 9,
    "start_time": "2025-01-23T14:50:09.205Z"
   },
   {
    "duration": 8,
    "start_time": "2025-01-23T14:50:11.185Z"
   },
   {
    "duration": 8,
    "start_time": "2025-01-23T14:50:12.505Z"
   },
   {
    "duration": 17,
    "start_time": "2025-01-23T14:50:34.264Z"
   },
   {
    "duration": 10,
    "start_time": "2025-01-23T14:50:59.574Z"
   },
   {
    "duration": 15,
    "start_time": "2025-01-23T14:54:50.870Z"
   },
   {
    "duration": 13,
    "start_time": "2025-01-23T14:55:05.491Z"
   },
   {
    "duration": 16,
    "start_time": "2025-01-23T14:55:36.191Z"
   },
   {
    "duration": 12,
    "start_time": "2025-01-23T14:55:40.115Z"
   },
   {
    "duration": 5,
    "start_time": "2025-01-23T14:58:11.704Z"
   },
   {
    "duration": 404,
    "start_time": "2025-01-23T14:58:21.312Z"
   },
   {
    "duration": 12,
    "start_time": "2025-01-23T14:58:44.178Z"
   },
   {
    "duration": 11,
    "start_time": "2025-01-23T14:59:24.231Z"
   },
   {
    "duration": 4,
    "start_time": "2025-01-23T14:59:40.285Z"
   },
   {
    "duration": 12,
    "start_time": "2025-01-23T14:59:44.657Z"
   },
   {
    "duration": 12,
    "start_time": "2025-01-23T15:01:53.136Z"
   },
   {
    "duration": 832,
    "start_time": "2025-01-23T15:04:14.800Z"
   },
   {
    "duration": 892,
    "start_time": "2025-01-23T15:04:15.635Z"
   },
   {
    "duration": 18,
    "start_time": "2025-01-23T15:04:16.529Z"
   },
   {
    "duration": 23,
    "start_time": "2025-01-23T15:04:16.548Z"
   },
   {
    "duration": 15,
    "start_time": "2025-01-23T15:04:16.578Z"
   },
   {
    "duration": 12,
    "start_time": "2025-01-23T15:04:16.595Z"
   },
   {
    "duration": 45,
    "start_time": "2025-01-23T15:04:16.609Z"
   },
   {
    "duration": 251,
    "start_time": "2025-01-23T15:04:16.656Z"
   },
   {
    "duration": 8,
    "start_time": "2025-01-23T15:04:16.909Z"
   },
   {
    "duration": 139,
    "start_time": "2025-01-23T15:04:16.919Z"
   },
   {
    "duration": 111,
    "start_time": "2025-01-23T15:04:17.060Z"
   },
   {
    "duration": 4,
    "start_time": "2025-01-23T15:04:17.173Z"
   },
   {
    "duration": 9,
    "start_time": "2025-01-23T15:04:17.179Z"
   },
   {
    "duration": 7,
    "start_time": "2025-01-23T15:04:17.192Z"
   },
   {
    "duration": 61,
    "start_time": "2025-01-23T15:04:17.201Z"
   },
   {
    "duration": 5,
    "start_time": "2025-01-23T15:04:17.264Z"
   },
   {
    "duration": 25,
    "start_time": "2025-01-23T15:04:17.270Z"
   },
   {
    "duration": 12,
    "start_time": "2025-01-23T15:04:17.297Z"
   },
   {
    "duration": 8,
    "start_time": "2025-01-23T15:04:17.312Z"
   },
   {
    "duration": 8,
    "start_time": "2025-01-23T15:04:17.343Z"
   },
   {
    "duration": 4,
    "start_time": "2025-01-23T15:04:17.353Z"
   },
   {
    "duration": 4,
    "start_time": "2025-01-23T15:04:17.359Z"
   },
   {
    "duration": 8,
    "start_time": "2025-01-23T15:04:17.365Z"
   },
   {
    "duration": 5,
    "start_time": "2025-01-23T15:04:17.375Z"
   },
   {
    "duration": 6,
    "start_time": "2025-01-23T15:04:17.382Z"
   },
   {
    "duration": 5,
    "start_time": "2025-01-23T15:04:17.389Z"
   },
   {
    "duration": 51,
    "start_time": "2025-01-23T15:04:17.395Z"
   },
   {
    "duration": 6,
    "start_time": "2025-01-23T15:04:17.448Z"
   },
   {
    "duration": 891,
    "start_time": "2025-01-23T15:04:17.455Z"
   },
   {
    "duration": 790,
    "start_time": "2025-01-23T15:04:18.348Z"
   },
   {
    "duration": 7,
    "start_time": "2025-01-23T15:04:19.143Z"
   },
   {
    "duration": 8,
    "start_time": "2025-01-23T15:04:19.152Z"
   },
   {
    "duration": 4,
    "start_time": "2025-01-23T15:04:19.161Z"
   },
   {
    "duration": 10,
    "start_time": "2025-01-23T15:04:19.167Z"
   },
   {
    "duration": 9,
    "start_time": "2025-01-23T15:04:19.179Z"
   },
   {
    "duration": 7,
    "start_time": "2025-01-23T15:04:19.190Z"
   },
   {
    "duration": 2,
    "start_time": "2025-01-23T15:04:19.199Z"
   },
   {
    "duration": 56,
    "start_time": "2025-01-23T15:04:19.203Z"
   },
   {
    "duration": 6,
    "start_time": "2025-01-23T15:04:19.260Z"
   },
   {
    "duration": 33,
    "start_time": "2025-01-23T15:04:19.268Z"
   },
   {
    "duration": 41,
    "start_time": "2025-01-23T15:04:19.306Z"
   },
   {
    "duration": 6,
    "start_time": "2025-01-23T15:04:19.348Z"
   },
   {
    "duration": 27,
    "start_time": "2025-01-23T15:04:19.356Z"
   },
   {
    "duration": 8,
    "start_time": "2025-01-23T15:04:19.384Z"
   },
   {
    "duration": 51,
    "start_time": "2025-01-23T15:04:19.393Z"
   },
   {
    "duration": 24,
    "start_time": "2025-01-23T15:04:19.445Z"
   },
   {
    "duration": 9,
    "start_time": "2025-01-23T15:04:19.471Z"
   },
   {
    "duration": 266,
    "start_time": "2025-01-23T15:04:19.482Z"
   },
   {
    "duration": 1947,
    "start_time": "2025-01-23T15:04:19.749Z"
   },
   {
    "duration": 194,
    "start_time": "2025-01-23T15:04:21.697Z"
   },
   {
    "duration": 2,
    "start_time": "2025-01-23T15:04:21.893Z"
   },
   {
    "duration": 348,
    "start_time": "2025-01-23T15:04:21.896Z"
   },
   {
    "duration": 115,
    "start_time": "2025-01-23T15:04:22.246Z"
   },
   {
    "duration": 4,
    "start_time": "2025-01-23T15:04:22.363Z"
   },
   {
    "duration": 618,
    "start_time": "2025-01-23T15:08:08.639Z"
   },
   {
    "duration": 7,
    "start_time": "2025-01-23T15:08:22.659Z"
   },
   {
    "duration": 6,
    "start_time": "2025-01-23T15:08:28.787Z"
   },
   {
    "duration": 95,
    "start_time": "2025-01-23T15:08:57.183Z"
   },
   {
    "duration": 90,
    "start_time": "2025-01-23T15:09:08.506Z"
   },
   {
    "duration": 4,
    "start_time": "2025-01-23T15:11:41.548Z"
   },
   {
    "duration": 87,
    "start_time": "2025-01-23T15:12:47.991Z"
   },
   {
    "duration": 4,
    "start_time": "2025-01-23T15:16:43.610Z"
   },
   {
    "duration": 6,
    "start_time": "2025-01-23T15:17:06.462Z"
   },
   {
    "duration": 4,
    "start_time": "2025-01-23T15:17:35.170Z"
   },
   {
    "duration": 106,
    "start_time": "2025-01-23T15:17:51.374Z"
   },
   {
    "duration": 142,
    "start_time": "2025-01-23T15:18:16.275Z"
   },
   {
    "duration": 89,
    "start_time": "2025-01-23T15:19:13.817Z"
   },
   {
    "duration": 97,
    "start_time": "2025-01-23T15:19:32.675Z"
   },
   {
    "duration": 96,
    "start_time": "2025-01-23T15:19:49.430Z"
   },
   {
    "duration": 99,
    "start_time": "2025-01-23T15:20:02.121Z"
   },
   {
    "duration": 95,
    "start_time": "2025-01-23T15:20:30.839Z"
   },
   {
    "duration": 97,
    "start_time": "2025-01-23T15:20:42.875Z"
   },
   {
    "duration": 99,
    "start_time": "2025-01-23T15:22:34.242Z"
   },
   {
    "duration": 114,
    "start_time": "2025-01-23T15:23:01.414Z"
   },
   {
    "duration": 318,
    "start_time": "2025-01-23T15:23:59.139Z"
   },
   {
    "duration": 203,
    "start_time": "2025-01-23T15:24:26.268Z"
   },
   {
    "duration": 118,
    "start_time": "2025-01-23T15:25:48.589Z"
   },
   {
    "duration": 122,
    "start_time": "2025-01-23T15:26:43.460Z"
   },
   {
    "duration": 126,
    "start_time": "2025-01-23T15:26:59.724Z"
   },
   {
    "duration": 133,
    "start_time": "2025-01-23T15:28:22.528Z"
   },
   {
    "duration": 119,
    "start_time": "2025-01-23T15:28:38.954Z"
   },
   {
    "duration": 86,
    "start_time": "2025-01-23T15:37:56.626Z"
   },
   {
    "duration": 92,
    "start_time": "2025-01-23T15:38:09.626Z"
   },
   {
    "duration": 109,
    "start_time": "2025-01-23T15:39:35.326Z"
   },
   {
    "duration": 89,
    "start_time": "2025-01-23T15:39:51.418Z"
   },
   {
    "duration": 92,
    "start_time": "2025-01-23T15:41:03.659Z"
   },
   {
    "duration": 84,
    "start_time": "2025-01-23T15:57:32.744Z"
   },
   {
    "duration": 153,
    "start_time": "2025-01-23T16:01:01.170Z"
   },
   {
    "duration": 38,
    "start_time": "2025-01-23T16:01:42.680Z"
   },
   {
    "duration": 258,
    "start_time": "2025-01-23T16:02:03.587Z"
   },
   {
    "duration": 564,
    "start_time": "2025-01-23T16:04:12.179Z"
   },
   {
    "duration": 253,
    "start_time": "2025-01-23T16:04:42.686Z"
   },
   {
    "duration": 349,
    "start_time": "2025-01-23T16:05:20.053Z"
   },
   {
    "duration": 353,
    "start_time": "2025-01-23T16:05:28.474Z"
   },
   {
    "duration": 6,
    "start_time": "2025-01-23T16:05:53.680Z"
   },
   {
    "duration": 131,
    "start_time": "2025-01-23T16:06:09.962Z"
   },
   {
    "duration": 7,
    "start_time": "2025-01-23T16:06:23.613Z"
   },
   {
    "duration": 14,
    "start_time": "2025-01-23T16:06:58.052Z"
   },
   {
    "duration": 7,
    "start_time": "2025-01-23T16:07:17.056Z"
   },
   {
    "duration": 7,
    "start_time": "2025-01-23T16:10:23.515Z"
   },
   {
    "duration": 6,
    "start_time": "2025-01-23T16:10:43.825Z"
   },
   {
    "duration": 134,
    "start_time": "2025-01-23T16:15:18.996Z"
   },
   {
    "duration": 17,
    "start_time": "2025-01-23T16:16:47.262Z"
   },
   {
    "duration": 5,
    "start_time": "2025-01-23T16:16:54.200Z"
   },
   {
    "duration": 306,
    "start_time": "2025-01-23T16:16:57.687Z"
   },
   {
    "duration": 12,
    "start_time": "2025-01-23T16:17:33.781Z"
   },
   {
    "duration": 218,
    "start_time": "2025-01-23T16:17:39.311Z"
   },
   {
    "duration": 19,
    "start_time": "2025-01-23T16:17:56.567Z"
   },
   {
    "duration": 307,
    "start_time": "2025-01-23T16:18:02.008Z"
   },
   {
    "duration": 4,
    "start_time": "2025-01-23T16:18:58.617Z"
   },
   {
    "duration": 231,
    "start_time": "2025-01-23T16:19:04.396Z"
   },
   {
    "duration": 269,
    "start_time": "2025-01-23T16:20:12.112Z"
   },
   {
    "duration": 245,
    "start_time": "2025-01-23T16:20:35.544Z"
   },
   {
    "duration": 226,
    "start_time": "2025-01-23T16:22:03.169Z"
   },
   {
    "duration": 229,
    "start_time": "2025-01-23T17:12:30.726Z"
   },
   {
    "duration": 232,
    "start_time": "2025-01-23T17:12:56.993Z"
   },
   {
    "duration": 235,
    "start_time": "2025-01-23T17:13:06.137Z"
   },
   {
    "duration": 235,
    "start_time": "2025-01-23T17:13:12.478Z"
   },
   {
    "duration": 235,
    "start_time": "2025-01-23T17:15:03.415Z"
   },
   {
    "duration": 363,
    "start_time": "2025-01-23T17:20:34.717Z"
   },
   {
    "duration": 342,
    "start_time": "2025-01-23T17:20:53.157Z"
   },
   {
    "duration": 338,
    "start_time": "2025-01-23T17:21:54.045Z"
   },
   {
    "duration": 361,
    "start_time": "2025-01-23T17:22:08.042Z"
   },
   {
    "duration": 479,
    "start_time": "2025-01-23T17:22:51.360Z"
   },
   {
    "duration": 5,
    "start_time": "2025-01-23T17:32:22.600Z"
   },
   {
    "duration": 4,
    "start_time": "2025-01-23T17:32:32.921Z"
   },
   {
    "duration": 766,
    "start_time": "2025-01-23T17:32:38.770Z"
   },
   {
    "duration": 784,
    "start_time": "2025-01-23T17:34:35.928Z"
   },
   {
    "duration": 766,
    "start_time": "2025-01-23T17:34:44.794Z"
   },
   {
    "duration": 333,
    "start_time": "2025-01-23T17:35:08.215Z"
   },
   {
    "duration": 13,
    "start_time": "2025-01-23T17:35:38.827Z"
   },
   {
    "duration": 758,
    "start_time": "2025-01-23T17:35:49.880Z"
   },
   {
    "duration": 504,
    "start_time": "2025-01-23T17:36:27.354Z"
   },
   {
    "duration": 531,
    "start_time": "2025-01-23T17:36:38.374Z"
   },
   {
    "duration": 549,
    "start_time": "2025-01-23T17:36:48.472Z"
   },
   {
    "duration": 534,
    "start_time": "2025-01-23T17:38:01.492Z"
   },
   {
    "duration": 519,
    "start_time": "2025-01-23T17:38:12.881Z"
   },
   {
    "duration": 538,
    "start_time": "2025-01-23T17:39:05.675Z"
   },
   {
    "duration": 510,
    "start_time": "2025-01-23T17:39:11.028Z"
   },
   {
    "duration": 516,
    "start_time": "2025-01-23T17:39:41.242Z"
   },
   {
    "duration": 512,
    "start_time": "2025-01-23T17:40:26.688Z"
   },
   {
    "duration": 545,
    "start_time": "2025-01-23T17:41:40.882Z"
   },
   {
    "duration": 530,
    "start_time": "2025-01-23T17:41:52.478Z"
   },
   {
    "duration": 6,
    "start_time": "2025-01-23T17:42:22.881Z"
   },
   {
    "duration": 4,
    "start_time": "2025-01-23T17:42:29.604Z"
   },
   {
    "duration": 2738,
    "start_time": "2025-01-23T17:42:35.810Z"
   },
   {
    "duration": 2476,
    "start_time": "2025-01-23T17:43:02.658Z"
   },
   {
    "duration": 1111,
    "start_time": "2025-01-23T17:45:00.158Z"
   },
   {
    "duration": 1095,
    "start_time": "2025-01-23T17:45:35.529Z"
   },
   {
    "duration": 1116,
    "start_time": "2025-01-23T17:45:49.073Z"
   },
   {
    "duration": 1085,
    "start_time": "2025-01-23T17:46:34.652Z"
   },
   {
    "duration": 1117,
    "start_time": "2025-01-23T17:50:46.317Z"
   },
   {
    "duration": 5,
    "start_time": "2025-01-23T17:52:32.766Z"
   },
   {
    "duration": 1064,
    "start_time": "2025-01-23T17:52:57.999Z"
   },
   {
    "duration": 1104,
    "start_time": "2025-01-23T17:54:30.295Z"
   },
   {
    "duration": 5,
    "start_time": "2025-01-23T17:54:58.893Z"
   },
   {
    "duration": 1056,
    "start_time": "2025-01-23T17:55:44.168Z"
   },
   {
    "duration": 4,
    "start_time": "2025-01-23T17:56:31.759Z"
   },
   {
    "duration": 1043,
    "start_time": "2025-01-23T17:56:45.596Z"
   },
   {
    "duration": 12,
    "start_time": "2025-01-23T17:57:19.313Z"
   },
   {
    "duration": 4,
    "start_time": "2025-01-23T17:57:49.572Z"
   },
   {
    "duration": 1283,
    "start_time": "2025-01-23T18:00:09.309Z"
   },
   {
    "duration": 4,
    "start_time": "2025-01-23T18:00:26.385Z"
   },
   {
    "duration": 13,
    "start_time": "2025-01-23T18:00:33.778Z"
   },
   {
    "duration": 1134,
    "start_time": "2025-01-23T18:01:04.993Z"
   },
   {
    "duration": 10,
    "start_time": "2025-01-23T18:01:21.421Z"
   },
   {
    "duration": 4,
    "start_time": "2025-01-23T18:01:45.847Z"
   },
   {
    "duration": 13,
    "start_time": "2025-01-23T18:02:12.660Z"
   },
   {
    "duration": 12,
    "start_time": "2025-01-23T18:02:21.387Z"
   },
   {
    "duration": 1086,
    "start_time": "2025-01-23T18:02:23.218Z"
   },
   {
    "duration": 1099,
    "start_time": "2025-01-23T18:02:42.231Z"
   },
   {
    "duration": 1082,
    "start_time": "2025-01-23T18:02:55.186Z"
   },
   {
    "duration": 1049,
    "start_time": "2025-01-23T18:03:15.903Z"
   },
   {
    "duration": 5,
    "start_time": "2025-01-23T18:03:27.197Z"
   },
   {
    "duration": 1241,
    "start_time": "2025-01-23T18:04:10.506Z"
   },
   {
    "duration": 1112,
    "start_time": "2025-01-23T18:05:12.326Z"
   },
   {
    "duration": 1061,
    "start_time": "2025-01-23T18:05:24.111Z"
   },
   {
    "duration": 5,
    "start_time": "2025-01-23T18:05:27.183Z"
   },
   {
    "duration": 60,
    "start_time": "2025-01-23T18:08:09.879Z"
   },
   {
    "duration": 7,
    "start_time": "2025-01-23T18:08:26.532Z"
   },
   {
    "duration": 1077,
    "start_time": "2025-01-23T18:12:41.533Z"
   },
   {
    "duration": 1229,
    "start_time": "2025-01-23T18:12:49.930Z"
   },
   {
    "duration": 1084,
    "start_time": "2025-01-23T18:13:46.959Z"
   },
   {
    "duration": 1369,
    "start_time": "2025-01-23T18:14:48.818Z"
   },
   {
    "duration": 6,
    "start_time": "2025-01-23T18:14:52.585Z"
   },
   {
    "duration": 7,
    "start_time": "2025-01-23T18:16:29.423Z"
   },
   {
    "duration": 64,
    "start_time": "2025-01-23T18:16:51.513Z"
   },
   {
    "duration": 1073,
    "start_time": "2025-01-23T18:24:41.808Z"
   },
   {
    "duration": 64,
    "start_time": "2025-01-23T18:24:48.820Z"
   },
   {
    "duration": 1114,
    "start_time": "2025-01-23T18:25:04.113Z"
   },
   {
    "duration": 8,
    "start_time": "2025-01-23T18:25:15.773Z"
   },
   {
    "duration": 1058,
    "start_time": "2025-01-23T18:26:10.963Z"
   },
   {
    "duration": 1048,
    "start_time": "2025-01-23T18:27:57.587Z"
   },
   {
    "duration": 4,
    "start_time": "2025-01-23T18:28:50.523Z"
   },
   {
    "duration": 1050,
    "start_time": "2025-01-23T18:29:09.347Z"
   },
   {
    "duration": 1044,
    "start_time": "2025-01-23T18:29:21.299Z"
   },
   {
    "duration": 831,
    "start_time": "2025-01-23T18:38:04.191Z"
   },
   {
    "duration": 883,
    "start_time": "2025-01-23T18:38:05.027Z"
   },
   {
    "duration": 17,
    "start_time": "2025-01-23T18:38:05.912Z"
   },
   {
    "duration": 22,
    "start_time": "2025-01-23T18:38:05.932Z"
   },
   {
    "duration": 11,
    "start_time": "2025-01-23T18:38:05.956Z"
   },
   {
    "duration": 12,
    "start_time": "2025-01-23T18:38:05.969Z"
   },
   {
    "duration": 11,
    "start_time": "2025-01-23T18:38:05.983Z"
   },
   {
    "duration": 226,
    "start_time": "2025-01-23T18:38:05.996Z"
   },
   {
    "duration": 8,
    "start_time": "2025-01-23T18:38:06.224Z"
   },
   {
    "duration": 129,
    "start_time": "2025-01-23T18:38:06.245Z"
   },
   {
    "duration": 113,
    "start_time": "2025-01-23T18:38:06.375Z"
   },
   {
    "duration": 4,
    "start_time": "2025-01-23T18:38:06.489Z"
   },
   {
    "duration": 8,
    "start_time": "2025-01-23T18:38:06.495Z"
   },
   {
    "duration": 50,
    "start_time": "2025-01-23T18:38:06.504Z"
   },
   {
    "duration": 4,
    "start_time": "2025-01-23T18:38:06.556Z"
   },
   {
    "duration": 21,
    "start_time": "2025-01-23T18:38:06.562Z"
   },
   {
    "duration": 10,
    "start_time": "2025-01-23T18:38:06.585Z"
   },
   {
    "duration": 8,
    "start_time": "2025-01-23T18:38:06.597Z"
   },
   {
    "duration": 36,
    "start_time": "2025-01-23T18:38:06.607Z"
   },
   {
    "duration": 4,
    "start_time": "2025-01-23T18:38:06.645Z"
   },
   {
    "duration": 5,
    "start_time": "2025-01-23T18:38:06.650Z"
   },
   {
    "duration": 5,
    "start_time": "2025-01-23T18:38:06.656Z"
   },
   {
    "duration": 7,
    "start_time": "2025-01-23T18:38:06.662Z"
   },
   {
    "duration": 4,
    "start_time": "2025-01-23T18:38:06.670Z"
   },
   {
    "duration": 5,
    "start_time": "2025-01-23T18:38:06.676Z"
   },
   {
    "duration": 8,
    "start_time": "2025-01-23T18:38:06.684Z"
   },
   {
    "duration": 874,
    "start_time": "2025-01-23T18:38:06.694Z"
   },
   {
    "duration": 765,
    "start_time": "2025-01-23T18:38:07.572Z"
   },
   {
    "duration": 6,
    "start_time": "2025-01-23T18:38:08.342Z"
   },
   {
    "duration": 7,
    "start_time": "2025-01-23T18:38:08.350Z"
   },
   {
    "duration": 4,
    "start_time": "2025-01-23T18:38:08.358Z"
   },
   {
    "duration": 10,
    "start_time": "2025-01-23T18:38:08.364Z"
   },
   {
    "duration": 10,
    "start_time": "2025-01-23T18:38:08.375Z"
   },
   {
    "duration": 6,
    "start_time": "2025-01-23T18:38:08.386Z"
   },
   {
    "duration": 2,
    "start_time": "2025-01-23T18:38:08.393Z"
   },
   {
    "duration": 58,
    "start_time": "2025-01-23T18:38:08.397Z"
   },
   {
    "duration": 8,
    "start_time": "2025-01-23T18:38:08.456Z"
   },
   {
    "duration": 31,
    "start_time": "2025-01-23T18:38:08.465Z"
   },
   {
    "duration": 19,
    "start_time": "2025-01-23T18:38:08.497Z"
   },
   {
    "duration": 28,
    "start_time": "2025-01-23T18:38:08.518Z"
   },
   {
    "duration": 25,
    "start_time": "2025-01-23T18:38:08.548Z"
   },
   {
    "duration": 7,
    "start_time": "2025-01-23T18:38:08.576Z"
   },
   {
    "duration": 27,
    "start_time": "2025-01-23T18:38:08.585Z"
   },
   {
    "duration": 51,
    "start_time": "2025-01-23T18:38:08.614Z"
   },
   {
    "duration": 8,
    "start_time": "2025-01-23T18:38:08.666Z"
   },
   {
    "duration": 285,
    "start_time": "2025-01-23T18:38:08.677Z"
   },
   {
    "duration": 1971,
    "start_time": "2025-01-23T18:38:08.964Z"
   },
   {
    "duration": 198,
    "start_time": "2025-01-23T18:38:10.937Z"
   },
   {
    "duration": 119075,
    "start_time": "2025-01-23T18:38:11.136Z"
   },
   {
    "duration": 0,
    "start_time": "2025-01-23T18:40:10.214Z"
   },
   {
    "duration": 0,
    "start_time": "2025-01-23T18:40:10.215Z"
   },
   {
    "duration": 0,
    "start_time": "2025-01-23T18:40:10.217Z"
   },
   {
    "duration": 0,
    "start_time": "2025-01-23T18:40:10.218Z"
   },
   {
    "duration": 0,
    "start_time": "2025-01-23T18:40:10.220Z"
   },
   {
    "duration": 0,
    "start_time": "2025-01-23T18:40:10.222Z"
   },
   {
    "duration": 8,
    "start_time": "2025-01-23T18:42:01.720Z"
   },
   {
    "duration": 154,
    "start_time": "2025-01-23T18:42:09.628Z"
   },
   {
    "duration": 819,
    "start_time": "2025-01-23T18:42:37.706Z"
   },
   {
    "duration": 993,
    "start_time": "2025-01-23T18:42:38.527Z"
   },
   {
    "duration": 21,
    "start_time": "2025-01-23T18:42:39.522Z"
   },
   {
    "duration": 16,
    "start_time": "2025-01-23T18:42:39.546Z"
   },
   {
    "duration": 10,
    "start_time": "2025-01-23T18:42:39.564Z"
   },
   {
    "duration": 10,
    "start_time": "2025-01-23T18:42:39.575Z"
   },
   {
    "duration": 15,
    "start_time": "2025-01-23T18:42:39.586Z"
   },
   {
    "duration": 219,
    "start_time": "2025-01-23T18:42:39.604Z"
   },
   {
    "duration": 18,
    "start_time": "2025-01-23T18:42:39.825Z"
   },
   {
    "duration": 117,
    "start_time": "2025-01-23T18:42:39.844Z"
   },
   {
    "duration": 118,
    "start_time": "2025-01-23T18:42:39.963Z"
   },
   {
    "duration": 4,
    "start_time": "2025-01-23T18:42:40.083Z"
   },
   {
    "duration": 9,
    "start_time": "2025-01-23T18:42:40.090Z"
   },
   {
    "duration": 48,
    "start_time": "2025-01-23T18:42:40.103Z"
   },
   {
    "duration": 5,
    "start_time": "2025-01-23T18:42:40.153Z"
   },
   {
    "duration": 23,
    "start_time": "2025-01-23T18:42:40.159Z"
   },
   {
    "duration": 12,
    "start_time": "2025-01-23T18:42:40.184Z"
   },
   {
    "duration": 8,
    "start_time": "2025-01-23T18:42:40.197Z"
   },
   {
    "duration": 37,
    "start_time": "2025-01-23T18:42:40.207Z"
   },
   {
    "duration": 5,
    "start_time": "2025-01-23T18:42:40.246Z"
   },
   {
    "duration": 4,
    "start_time": "2025-01-23T18:42:40.253Z"
   },
   {
    "duration": 4,
    "start_time": "2025-01-23T18:42:40.259Z"
   },
   {
    "duration": 6,
    "start_time": "2025-01-23T18:42:40.265Z"
   },
   {
    "duration": 5,
    "start_time": "2025-01-23T18:42:40.272Z"
   },
   {
    "duration": 4,
    "start_time": "2025-01-23T18:42:40.279Z"
   },
   {
    "duration": 6,
    "start_time": "2025-01-23T18:42:40.285Z"
   },
   {
    "duration": 853,
    "start_time": "2025-01-23T18:42:40.292Z"
   },
   {
    "duration": 732,
    "start_time": "2025-01-23T18:42:41.147Z"
   },
   {
    "duration": 6,
    "start_time": "2025-01-23T18:42:41.881Z"
   },
   {
    "duration": 6,
    "start_time": "2025-01-23T18:42:41.889Z"
   },
   {
    "duration": 5,
    "start_time": "2025-01-23T18:42:41.896Z"
   },
   {
    "duration": 11,
    "start_time": "2025-01-23T18:42:41.902Z"
   },
   {
    "duration": 35,
    "start_time": "2025-01-23T18:42:41.914Z"
   },
   {
    "duration": 6,
    "start_time": "2025-01-23T18:42:41.950Z"
   },
   {
    "duration": 2,
    "start_time": "2025-01-23T18:42:41.958Z"
   },
   {
    "duration": 17,
    "start_time": "2025-01-23T18:42:41.962Z"
   },
   {
    "duration": 6,
    "start_time": "2025-01-23T18:42:41.981Z"
   },
   {
    "duration": 58,
    "start_time": "2025-01-23T18:42:41.988Z"
   },
   {
    "duration": 17,
    "start_time": "2025-01-23T18:42:42.048Z"
   },
   {
    "duration": 8,
    "start_time": "2025-01-23T18:42:42.067Z"
   },
   {
    "duration": 27,
    "start_time": "2025-01-23T18:42:42.079Z"
   },
   {
    "duration": 8,
    "start_time": "2025-01-23T18:42:42.107Z"
   },
   {
    "duration": 31,
    "start_time": "2025-01-23T18:42:42.144Z"
   },
   {
    "duration": 25,
    "start_time": "2025-01-23T18:42:42.178Z"
   },
   {
    "duration": 7,
    "start_time": "2025-01-23T18:42:42.205Z"
   },
   {
    "duration": 273,
    "start_time": "2025-01-23T18:42:42.213Z"
   },
   {
    "duration": 1958,
    "start_time": "2025-01-23T18:42:42.488Z"
   },
   {
    "duration": 186,
    "start_time": "2025-01-23T18:42:44.447Z"
   },
   {
    "duration": 818,
    "start_time": "2025-01-23T18:50:29.368Z"
   },
   {
    "duration": 900,
    "start_time": "2025-01-23T18:50:30.188Z"
   },
   {
    "duration": 18,
    "start_time": "2025-01-23T18:50:31.089Z"
   },
   {
    "duration": 12,
    "start_time": "2025-01-23T18:50:31.110Z"
   },
   {
    "duration": 27,
    "start_time": "2025-01-23T18:50:31.123Z"
   },
   {
    "duration": 12,
    "start_time": "2025-01-23T18:50:31.153Z"
   },
   {
    "duration": 11,
    "start_time": "2025-01-23T18:50:31.166Z"
   },
   {
    "duration": 213,
    "start_time": "2025-01-23T18:50:31.179Z"
   },
   {
    "duration": 8,
    "start_time": "2025-01-23T18:50:31.394Z"
   },
   {
    "duration": 122,
    "start_time": "2025-01-23T18:50:31.406Z"
   },
   {
    "duration": 103,
    "start_time": "2025-01-23T18:50:31.530Z"
   },
   {
    "duration": 4,
    "start_time": "2025-01-23T18:50:31.634Z"
   },
   {
    "duration": 9,
    "start_time": "2025-01-23T18:50:31.643Z"
   },
   {
    "duration": 34,
    "start_time": "2025-01-23T18:50:31.653Z"
   },
   {
    "duration": 4,
    "start_time": "2025-01-23T18:50:31.689Z"
   },
   {
    "duration": 19,
    "start_time": "2025-01-23T18:50:31.695Z"
   },
   {
    "duration": 13,
    "start_time": "2025-01-23T18:50:31.743Z"
   },
   {
    "duration": 8,
    "start_time": "2025-01-23T18:50:31.758Z"
   },
   {
    "duration": 7,
    "start_time": "2025-01-23T18:50:31.767Z"
   },
   {
    "duration": 5,
    "start_time": "2025-01-23T18:50:31.775Z"
   },
   {
    "duration": 4,
    "start_time": "2025-01-23T18:50:31.781Z"
   },
   {
    "duration": 4,
    "start_time": "2025-01-23T18:50:31.788Z"
   },
   {
    "duration": 6,
    "start_time": "2025-01-23T18:50:31.794Z"
   },
   {
    "duration": 42,
    "start_time": "2025-01-23T18:50:31.802Z"
   },
   {
    "duration": 3,
    "start_time": "2025-01-23T18:50:31.845Z"
   },
   {
    "duration": 6,
    "start_time": "2025-01-23T18:50:31.850Z"
   },
   {
    "duration": 778,
    "start_time": "2025-01-23T18:50:31.857Z"
   },
   {
    "duration": 720,
    "start_time": "2025-01-23T18:50:32.644Z"
   },
   {
    "duration": 8,
    "start_time": "2025-01-23T18:50:33.365Z"
   },
   {
    "duration": 7,
    "start_time": "2025-01-23T18:50:33.375Z"
   },
   {
    "duration": 4,
    "start_time": "2025-01-23T18:50:33.384Z"
   },
   {
    "duration": 10,
    "start_time": "2025-01-23T18:50:33.389Z"
   },
   {
    "duration": 42,
    "start_time": "2025-01-23T18:50:33.401Z"
   },
   {
    "duration": 7,
    "start_time": "2025-01-23T18:50:33.444Z"
   },
   {
    "duration": 2,
    "start_time": "2025-01-23T18:50:33.454Z"
   },
   {
    "duration": 18,
    "start_time": "2025-01-23T18:50:33.457Z"
   },
   {
    "duration": 6,
    "start_time": "2025-01-23T18:50:33.477Z"
   },
   {
    "duration": 58,
    "start_time": "2025-01-23T18:50:33.485Z"
   },
   {
    "duration": 16,
    "start_time": "2025-01-23T18:50:33.545Z"
   },
   {
    "duration": 8,
    "start_time": "2025-01-23T18:50:33.563Z"
   },
   {
    "duration": 26,
    "start_time": "2025-01-23T18:50:33.572Z"
   },
   {
    "duration": 7,
    "start_time": "2025-01-23T18:50:33.600Z"
   },
   {
    "duration": 55,
    "start_time": "2025-01-23T18:50:33.609Z"
   },
   {
    "duration": 23,
    "start_time": "2025-01-23T18:50:33.665Z"
   },
   {
    "duration": 6,
    "start_time": "2025-01-23T18:50:33.691Z"
   },
   {
    "duration": 264,
    "start_time": "2025-01-23T18:50:33.699Z"
   },
   {
    "duration": 1786,
    "start_time": "2025-01-23T18:50:33.965Z"
   },
   {
    "duration": 191,
    "start_time": "2025-01-23T18:50:35.753Z"
   },
   {
    "duration": 7,
    "start_time": "2025-01-23T18:50:35.946Z"
   },
   {
    "duration": 352,
    "start_time": "2025-01-23T18:50:35.955Z"
   },
   {
    "duration": 6,
    "start_time": "2025-01-23T18:50:36.308Z"
   },
   {
    "duration": 312,
    "start_time": "2025-01-23T18:50:36.316Z"
   },
   {
    "duration": 0,
    "start_time": "2025-01-23T18:50:36.630Z"
   },
   {
    "duration": 0,
    "start_time": "2025-01-23T18:50:36.631Z"
   },
   {
    "duration": 16,
    "start_time": "2025-01-23T18:52:20.677Z"
   },
   {
    "duration": 11,
    "start_time": "2025-01-23T18:52:27.960Z"
   },
   {
    "duration": 857,
    "start_time": "2025-01-23T18:55:36.815Z"
   },
   {
    "duration": 950,
    "start_time": "2025-01-23T18:55:37.676Z"
   },
   {
    "duration": 23,
    "start_time": "2025-01-23T18:55:38.628Z"
   },
   {
    "duration": 16,
    "start_time": "2025-01-23T18:55:38.653Z"
   },
   {
    "duration": 15,
    "start_time": "2025-01-23T18:55:38.672Z"
   },
   {
    "duration": 13,
    "start_time": "2025-01-23T18:55:38.690Z"
   },
   {
    "duration": 42,
    "start_time": "2025-01-23T18:55:38.705Z"
   },
   {
    "duration": 227,
    "start_time": "2025-01-23T18:55:38.748Z"
   },
   {
    "duration": 9,
    "start_time": "2025-01-23T18:55:38.978Z"
   },
   {
    "duration": 133,
    "start_time": "2025-01-23T18:55:38.989Z"
   },
   {
    "duration": 105,
    "start_time": "2025-01-23T18:55:39.124Z"
   },
   {
    "duration": 13,
    "start_time": "2025-01-23T18:55:39.231Z"
   },
   {
    "duration": 8,
    "start_time": "2025-01-23T18:55:39.246Z"
   },
   {
    "duration": 55,
    "start_time": "2025-01-23T18:55:39.257Z"
   },
   {
    "duration": 4,
    "start_time": "2025-01-23T18:55:39.313Z"
   },
   {
    "duration": 23,
    "start_time": "2025-01-23T18:55:39.343Z"
   },
   {
    "duration": 12,
    "start_time": "2025-01-23T18:55:39.368Z"
   },
   {
    "duration": 8,
    "start_time": "2025-01-23T18:55:39.382Z"
   },
   {
    "duration": 7,
    "start_time": "2025-01-23T18:55:39.391Z"
   },
   {
    "duration": 4,
    "start_time": "2025-01-23T18:55:39.401Z"
   },
   {
    "duration": 39,
    "start_time": "2025-01-23T18:55:39.407Z"
   },
   {
    "duration": 5,
    "start_time": "2025-01-23T18:55:39.447Z"
   },
   {
    "duration": 6,
    "start_time": "2025-01-23T18:55:39.453Z"
   },
   {
    "duration": 3,
    "start_time": "2025-01-23T18:55:39.461Z"
   },
   {
    "duration": 4,
    "start_time": "2025-01-23T18:55:39.466Z"
   },
   {
    "duration": 6,
    "start_time": "2025-01-23T18:55:39.471Z"
   },
   {
    "duration": 967,
    "start_time": "2025-01-23T18:55:39.479Z"
   },
   {
    "duration": 919,
    "start_time": "2025-01-23T18:55:40.450Z"
   },
   {
    "duration": 7,
    "start_time": "2025-01-23T18:55:41.371Z"
   },
   {
    "duration": 7,
    "start_time": "2025-01-23T18:55:41.381Z"
   },
   {
    "duration": 5,
    "start_time": "2025-01-23T18:55:41.389Z"
   },
   {
    "duration": 18,
    "start_time": "2025-01-23T18:55:41.396Z"
   },
   {
    "duration": 32,
    "start_time": "2025-01-23T18:55:41.416Z"
   },
   {
    "duration": 7,
    "start_time": "2025-01-23T18:55:41.452Z"
   },
   {
    "duration": 5,
    "start_time": "2025-01-23T18:55:41.462Z"
   },
   {
    "duration": 21,
    "start_time": "2025-01-23T18:55:41.469Z"
   },
   {
    "duration": 8,
    "start_time": "2025-01-23T18:55:41.492Z"
   },
   {
    "duration": 54,
    "start_time": "2025-01-23T18:55:41.502Z"
   },
   {
    "duration": 17,
    "start_time": "2025-01-23T18:55:41.558Z"
   },
   {
    "duration": 5,
    "start_time": "2025-01-23T18:55:41.577Z"
   },
   {
    "duration": 25,
    "start_time": "2025-01-23T18:55:41.587Z"
   },
   {
    "duration": 30,
    "start_time": "2025-01-23T18:55:41.614Z"
   },
   {
    "duration": 29,
    "start_time": "2025-01-23T18:55:41.647Z"
   },
   {
    "duration": 34,
    "start_time": "2025-01-23T18:55:41.678Z"
   },
   {
    "duration": 9,
    "start_time": "2025-01-23T18:55:41.714Z"
   },
   {
    "duration": 303,
    "start_time": "2025-01-23T18:55:41.745Z"
   },
   {
    "duration": 2085,
    "start_time": "2025-01-23T18:55:42.050Z"
   },
   {
    "duration": 187,
    "start_time": "2025-01-23T18:55:44.142Z"
   },
   {
    "duration": 13,
    "start_time": "2025-01-23T18:55:44.331Z"
   },
   {
    "duration": 349,
    "start_time": "2025-01-23T18:55:44.346Z"
   },
   {
    "duration": 6,
    "start_time": "2025-01-23T18:55:44.697Z"
   },
   {
    "duration": 308,
    "start_time": "2025-01-23T18:55:44.705Z"
   },
   {
    "duration": 0,
    "start_time": "2025-01-23T18:55:45.014Z"
   },
   {
    "duration": 0,
    "start_time": "2025-01-23T18:55:45.016Z"
   },
   {
    "duration": 50100,
    "start_time": "2025-01-23T18:56:05.145Z"
   },
   {
    "duration": 48592,
    "start_time": "2025-01-23T18:57:01.583Z"
   },
   {
    "duration": 4025,
    "start_time": "2025-01-23T19:01:08.299Z"
   },
   {
    "duration": 17,
    "start_time": "2025-01-23T19:01:18.004Z"
   },
   {
    "duration": 17,
    "start_time": "2025-01-23T19:01:23.642Z"
   },
   {
    "duration": 796,
    "start_time": "2025-01-23T19:03:31.082Z"
   },
   {
    "duration": 866,
    "start_time": "2025-01-23T19:03:31.881Z"
   },
   {
    "duration": 16,
    "start_time": "2025-01-23T19:03:32.749Z"
   },
   {
    "duration": 13,
    "start_time": "2025-01-23T19:03:32.767Z"
   },
   {
    "duration": 9,
    "start_time": "2025-01-23T19:03:32.782Z"
   },
   {
    "duration": 10,
    "start_time": "2025-01-23T19:03:32.793Z"
   },
   {
    "duration": 43,
    "start_time": "2025-01-23T19:03:32.805Z"
   },
   {
    "duration": 218,
    "start_time": "2025-01-23T19:03:32.850Z"
   },
   {
    "duration": 10,
    "start_time": "2025-01-23T19:03:33.070Z"
   },
   {
    "duration": 129,
    "start_time": "2025-01-23T19:03:33.081Z"
   },
   {
    "duration": 101,
    "start_time": "2025-01-23T19:03:33.212Z"
   },
   {
    "duration": 4,
    "start_time": "2025-01-23T19:03:33.316Z"
   },
   {
    "duration": 7,
    "start_time": "2025-01-23T19:03:33.322Z"
   },
   {
    "duration": 33,
    "start_time": "2025-01-23T19:03:33.345Z"
   },
   {
    "duration": 4,
    "start_time": "2025-01-23T19:03:33.379Z"
   },
   {
    "duration": 19,
    "start_time": "2025-01-23T19:03:33.385Z"
   },
   {
    "duration": 11,
    "start_time": "2025-01-23T19:03:33.406Z"
   },
   {
    "duration": 8,
    "start_time": "2025-01-23T19:03:33.442Z"
   },
   {
    "duration": 5,
    "start_time": "2025-01-23T19:03:33.452Z"
   },
   {
    "duration": 4,
    "start_time": "2025-01-23T19:03:33.459Z"
   },
   {
    "duration": 4,
    "start_time": "2025-01-23T19:03:33.465Z"
   },
   {
    "duration": 4,
    "start_time": "2025-01-23T19:03:33.470Z"
   },
   {
    "duration": 6,
    "start_time": "2025-01-23T19:03:33.476Z"
   },
   {
    "duration": 4,
    "start_time": "2025-01-23T19:03:33.483Z"
   },
   {
    "duration": 4,
    "start_time": "2025-01-23T19:03:33.488Z"
   },
   {
    "duration": 51,
    "start_time": "2025-01-23T19:03:33.494Z"
   },
   {
    "duration": 810,
    "start_time": "2025-01-23T19:03:33.547Z"
   },
   {
    "duration": 697,
    "start_time": "2025-01-23T19:03:34.359Z"
   },
   {
    "duration": 8,
    "start_time": "2025-01-23T19:03:35.058Z"
   },
   {
    "duration": 6,
    "start_time": "2025-01-23T19:03:35.067Z"
   },
   {
    "duration": 4,
    "start_time": "2025-01-23T19:03:35.075Z"
   },
   {
    "duration": 10,
    "start_time": "2025-01-23T19:03:35.081Z"
   },
   {
    "duration": 10,
    "start_time": "2025-01-23T19:03:35.092Z"
   },
   {
    "duration": 43,
    "start_time": "2025-01-23T19:03:35.104Z"
   },
   {
    "duration": 4,
    "start_time": "2025-01-23T19:03:35.150Z"
   },
   {
    "duration": 21,
    "start_time": "2025-01-23T19:03:35.158Z"
   },
   {
    "duration": 8,
    "start_time": "2025-01-23T19:03:35.183Z"
   },
   {
    "duration": 35,
    "start_time": "2025-01-23T19:03:35.193Z"
   },
   {
    "duration": 19,
    "start_time": "2025-01-23T19:03:35.243Z"
   },
   {
    "duration": 6,
    "start_time": "2025-01-23T19:03:35.264Z"
   },
   {
    "duration": 26,
    "start_time": "2025-01-23T19:03:35.275Z"
   },
   {
    "duration": 6,
    "start_time": "2025-01-23T19:03:35.303Z"
   },
   {
    "duration": 51,
    "start_time": "2025-01-23T19:03:35.311Z"
   },
   {
    "duration": 25,
    "start_time": "2025-01-23T19:03:35.364Z"
   },
   {
    "duration": 7,
    "start_time": "2025-01-23T19:03:35.391Z"
   },
   {
    "duration": 271,
    "start_time": "2025-01-23T19:03:35.399Z"
   },
   {
    "duration": 1873,
    "start_time": "2025-01-23T19:03:35.672Z"
   },
   {
    "duration": 184,
    "start_time": "2025-01-23T19:03:37.547Z"
   },
   {
    "duration": 11,
    "start_time": "2025-01-23T19:03:37.733Z"
   },
   {
    "duration": 349,
    "start_time": "2025-01-23T19:03:37.746Z"
   },
   {
    "duration": 6,
    "start_time": "2025-01-23T19:03:38.097Z"
   },
   {
    "duration": 312,
    "start_time": "2025-01-23T19:03:38.104Z"
   },
   {
    "duration": 0,
    "start_time": "2025-01-23T19:03:38.418Z"
   },
   {
    "duration": 0,
    "start_time": "2025-01-23T19:03:38.419Z"
   },
   {
    "duration": 93,
    "start_time": "2025-01-23T19:04:31.868Z"
   },
   {
    "duration": 227,
    "start_time": "2025-01-23T19:05:41.249Z"
   },
   {
    "duration": 1137,
    "start_time": "2025-01-23T19:05:55.113Z"
   },
   {
    "duration": 827,
    "start_time": "2025-01-23T19:30:06.853Z"
   },
   {
    "duration": 876,
    "start_time": "2025-01-23T19:30:07.684Z"
   },
   {
    "duration": 18,
    "start_time": "2025-01-23T19:30:08.562Z"
   },
   {
    "duration": 13,
    "start_time": "2025-01-23T19:30:08.582Z"
   },
   {
    "duration": 11,
    "start_time": "2025-01-23T19:30:08.596Z"
   },
   {
    "duration": 36,
    "start_time": "2025-01-23T19:30:08.608Z"
   },
   {
    "duration": 10,
    "start_time": "2025-01-23T19:30:08.646Z"
   },
   {
    "duration": 221,
    "start_time": "2025-01-23T19:30:08.658Z"
   },
   {
    "duration": 9,
    "start_time": "2025-01-23T19:30:08.880Z"
   },
   {
    "duration": 124,
    "start_time": "2025-01-23T19:30:08.892Z"
   },
   {
    "duration": 106,
    "start_time": "2025-01-23T19:30:09.019Z"
   },
   {
    "duration": 4,
    "start_time": "2025-01-23T19:30:09.127Z"
   },
   {
    "duration": 9,
    "start_time": "2025-01-23T19:30:09.143Z"
   },
   {
    "duration": 35,
    "start_time": "2025-01-23T19:30:09.153Z"
   },
   {
    "duration": 4,
    "start_time": "2025-01-23T19:30:09.190Z"
   },
   {
    "duration": 20,
    "start_time": "2025-01-23T19:30:09.195Z"
   },
   {
    "duration": 11,
    "start_time": "2025-01-23T19:30:09.242Z"
   },
   {
    "duration": 8,
    "start_time": "2025-01-23T19:30:09.255Z"
   },
   {
    "duration": 7,
    "start_time": "2025-01-23T19:30:09.265Z"
   },
   {
    "duration": 4,
    "start_time": "2025-01-23T19:30:09.274Z"
   },
   {
    "duration": 4,
    "start_time": "2025-01-23T19:30:09.280Z"
   },
   {
    "duration": 5,
    "start_time": "2025-01-23T19:30:09.285Z"
   },
   {
    "duration": 5,
    "start_time": "2025-01-23T19:30:09.292Z"
   },
   {
    "duration": 4,
    "start_time": "2025-01-23T19:30:09.299Z"
   },
   {
    "duration": 41,
    "start_time": "2025-01-23T19:30:09.304Z"
   },
   {
    "duration": 7,
    "start_time": "2025-01-23T19:30:09.347Z"
   },
   {
    "duration": 863,
    "start_time": "2025-01-23T19:30:09.356Z"
   },
   {
    "duration": 778,
    "start_time": "2025-01-23T19:30:10.224Z"
   },
   {
    "duration": 7,
    "start_time": "2025-01-23T19:30:11.004Z"
   },
   {
    "duration": 7,
    "start_time": "2025-01-23T19:30:11.013Z"
   },
   {
    "duration": 25,
    "start_time": "2025-01-23T19:30:11.021Z"
   },
   {
    "duration": 12,
    "start_time": "2025-01-23T19:30:11.048Z"
   },
   {
    "duration": 9,
    "start_time": "2025-01-23T19:30:11.061Z"
   },
   {
    "duration": 6,
    "start_time": "2025-01-23T19:30:11.072Z"
   },
   {
    "duration": 2,
    "start_time": "2025-01-23T19:30:11.079Z"
   },
   {
    "duration": 16,
    "start_time": "2025-01-23T19:30:11.083Z"
   },
   {
    "duration": 6,
    "start_time": "2025-01-23T19:30:11.102Z"
   },
   {
    "duration": 61,
    "start_time": "2025-01-23T19:30:11.109Z"
   },
   {
    "duration": 15,
    "start_time": "2025-01-23T19:30:11.172Z"
   },
   {
    "duration": 6,
    "start_time": "2025-01-23T19:30:11.189Z"
   },
   {
    "duration": 48,
    "start_time": "2025-01-23T19:30:11.197Z"
   },
   {
    "duration": 8,
    "start_time": "2025-01-23T19:30:11.246Z"
   },
   {
    "duration": 26,
    "start_time": "2025-01-23T19:30:11.256Z"
   },
   {
    "duration": 23,
    "start_time": "2025-01-23T19:30:11.284Z"
   },
   {
    "duration": 6,
    "start_time": "2025-01-23T19:30:11.309Z"
   },
   {
    "duration": 271,
    "start_time": "2025-01-23T19:30:11.317Z"
   },
   {
    "duration": 1870,
    "start_time": "2025-01-23T19:30:11.590Z"
   },
   {
    "duration": 187,
    "start_time": "2025-01-23T19:30:13.463Z"
   },
   {
    "duration": 3,
    "start_time": "2025-01-23T19:30:13.652Z"
   },
   {
    "duration": 345,
    "start_time": "2025-01-23T19:30:13.656Z"
   },
   {
    "duration": 5,
    "start_time": "2025-01-23T19:30:14.003Z"
   },
   {
    "duration": 103,
    "start_time": "2025-01-23T19:30:14.010Z"
   },
   {
    "duration": 237,
    "start_time": "2025-01-23T19:30:14.115Z"
   },
   {
    "duration": 2,
    "start_time": "2025-01-23T19:30:14.354Z"
   },
   {
    "duration": 2,
    "start_time": "2025-01-23T19:30:14.358Z"
   },
   {
    "duration": 3,
    "start_time": "2025-01-23T19:30:14.362Z"
   },
   {
    "duration": 1042,
    "start_time": "2025-01-23T19:30:14.366Z"
   },
   {
    "duration": 11,
    "start_time": "2025-01-24T01:14:53.396Z"
   },
   {
    "duration": 175,
    "start_time": "2025-01-24T01:18:17.126Z"
   },
   {
    "duration": 2626,
    "start_time": "2025-01-24T01:18:19.728Z"
   },
   {
    "duration": 989,
    "start_time": "2025-01-24T01:18:22.356Z"
   },
   {
    "duration": 17,
    "start_time": "2025-01-24T01:18:23.347Z"
   },
   {
    "duration": 12,
    "start_time": "2025-01-24T01:18:23.368Z"
   },
   {
    "duration": 10,
    "start_time": "2025-01-24T01:18:23.382Z"
   },
   {
    "duration": 10,
    "start_time": "2025-01-24T01:18:23.394Z"
   },
   {
    "duration": 11,
    "start_time": "2025-01-24T01:18:23.405Z"
   },
   {
    "duration": 206,
    "start_time": "2025-01-24T01:18:23.418Z"
   },
   {
    "duration": 9,
    "start_time": "2025-01-24T01:18:23.627Z"
   },
   {
    "duration": 110,
    "start_time": "2025-01-24T01:18:23.870Z"
   },
   {
    "duration": 90,
    "start_time": "2025-01-24T01:18:24.079Z"
   },
   {
    "duration": 4,
    "start_time": "2025-01-24T01:18:24.301Z"
   },
   {
    "duration": 8,
    "start_time": "2025-01-24T01:18:25.139Z"
   },
   {
    "duration": 33,
    "start_time": "2025-01-24T01:18:25.355Z"
   },
   {
    "duration": 5,
    "start_time": "2025-01-24T01:18:25.554Z"
   },
   {
    "duration": 23,
    "start_time": "2025-01-24T01:18:25.771Z"
   },
   {
    "duration": 11,
    "start_time": "2025-01-24T01:18:26.003Z"
   },
   {
    "duration": 8,
    "start_time": "2025-01-24T01:18:26.808Z"
   },
   {
    "duration": 6,
    "start_time": "2025-01-24T01:18:27.023Z"
   },
   {
    "duration": 5,
    "start_time": "2025-01-24T01:18:27.219Z"
   },
   {
    "duration": 4,
    "start_time": "2025-01-24T01:18:27.417Z"
   },
   {
    "duration": 4,
    "start_time": "2025-01-24T01:18:28.227Z"
   },
   {
    "duration": 5,
    "start_time": "2025-01-24T01:18:28.430Z"
   },
   {
    "duration": 4,
    "start_time": "2025-01-24T01:18:28.628Z"
   },
   {
    "duration": 4,
    "start_time": "2025-01-24T01:18:28.840Z"
   },
   {
    "duration": 7,
    "start_time": "2025-01-24T01:18:29.635Z"
   },
   {
    "duration": 748,
    "start_time": "2025-01-24T01:18:29.850Z"
   },
   {
    "duration": 696,
    "start_time": "2025-01-24T01:18:30.600Z"
   },
   {
    "duration": 7,
    "start_time": "2025-01-24T01:18:31.298Z"
   },
   {
    "duration": 7,
    "start_time": "2025-01-24T01:18:31.550Z"
   },
   {
    "duration": 4,
    "start_time": "2025-01-24T01:18:31.956Z"
   },
   {
    "duration": 10,
    "start_time": "2025-01-24T01:18:32.410Z"
   },
   {
    "duration": 9,
    "start_time": "2025-01-24T01:18:32.841Z"
   },
   {
    "duration": 7,
    "start_time": "2025-01-24T01:18:33.494Z"
   },
   {
    "duration": 2,
    "start_time": "2025-01-24T01:18:33.723Z"
   },
   {
    "duration": 17,
    "start_time": "2025-01-24T01:18:34.452Z"
   },
   {
    "duration": 7,
    "start_time": "2025-01-24T01:18:34.681Z"
   },
   {
    "duration": 30,
    "start_time": "2025-01-24T01:18:34.946Z"
   },
   {
    "duration": 16,
    "start_time": "2025-01-24T01:18:35.443Z"
   },
   {
    "duration": 7,
    "start_time": "2025-01-24T01:18:35.669Z"
   },
   {
    "duration": 27,
    "start_time": "2025-01-24T01:18:36.494Z"
   },
   {
    "duration": 8,
    "start_time": "2025-01-24T01:18:36.881Z"
   },
   {
    "duration": 20964,
    "start_time": "2025-01-24T01:19:09.201Z"
   },
   {
    "duration": 0,
    "start_time": "2025-01-24T01:19:30.172Z"
   },
   {
    "duration": 9,
    "start_time": "2025-01-24T01:19:33.602Z"
   },
   {
    "duration": 8,
    "start_time": "2025-01-24T01:19:50.108Z"
   },
   {
    "duration": 438,
    "start_time": "2025-01-24T01:19:59.054Z"
   },
   {
    "duration": 10,
    "start_time": "2025-01-24T01:20:23.711Z"
   },
   {
    "duration": 12,
    "start_time": "2025-01-24T02:10:49.831Z"
   },
   {
    "duration": 2,
    "start_time": "2025-01-24T02:11:06.630Z"
   },
   {
    "duration": 879,
    "start_time": "2025-01-24T02:11:06.663Z"
   },
   {
    "duration": 15,
    "start_time": "2025-01-24T02:11:07.544Z"
   },
   {
    "duration": 23,
    "start_time": "2025-01-24T02:11:07.560Z"
   },
   {
    "duration": 11,
    "start_time": "2025-01-24T02:11:07.584Z"
   },
   {
    "duration": 10,
    "start_time": "2025-01-24T02:11:07.599Z"
   },
   {
    "duration": 12,
    "start_time": "2025-01-24T02:11:07.611Z"
   },
   {
    "duration": 199,
    "start_time": "2025-01-24T02:11:07.624Z"
   },
   {
    "duration": 8,
    "start_time": "2025-01-24T02:11:07.825Z"
   },
   {
    "duration": 109,
    "start_time": "2025-01-24T02:11:07.834Z"
   },
   {
    "duration": 91,
    "start_time": "2025-01-24T02:11:07.944Z"
   },
   {
    "duration": 4,
    "start_time": "2025-01-24T02:11:08.037Z"
   },
   {
    "duration": 7,
    "start_time": "2025-01-24T02:11:08.044Z"
   },
   {
    "duration": 50,
    "start_time": "2025-01-24T02:11:08.052Z"
   },
   {
    "duration": 4,
    "start_time": "2025-01-24T02:11:08.105Z"
   },
   {
    "duration": 19,
    "start_time": "2025-01-24T02:11:08.111Z"
   },
   {
    "duration": 11,
    "start_time": "2025-01-24T02:11:08.132Z"
   },
   {
    "duration": 33,
    "start_time": "2025-01-24T02:11:08.145Z"
   },
   {
    "duration": 6,
    "start_time": "2025-01-24T02:11:08.180Z"
   },
   {
    "duration": 5,
    "start_time": "2025-01-24T02:11:08.188Z"
   },
   {
    "duration": 5,
    "start_time": "2025-01-24T02:11:08.194Z"
   },
   {
    "duration": 5,
    "start_time": "2025-01-24T02:11:08.200Z"
   },
   {
    "duration": 6,
    "start_time": "2025-01-24T02:11:08.206Z"
   },
   {
    "duration": 4,
    "start_time": "2025-01-24T02:11:08.213Z"
   },
   {
    "duration": 4,
    "start_time": "2025-01-24T02:11:08.219Z"
   },
   {
    "duration": 52,
    "start_time": "2025-01-24T02:11:08.224Z"
   },
   {
    "duration": 809,
    "start_time": "2025-01-24T02:11:08.278Z"
   },
   {
    "duration": 757,
    "start_time": "2025-01-24T02:11:09.088Z"
   },
   {
    "duration": 6,
    "start_time": "2025-01-24T02:11:09.847Z"
   },
   {
    "duration": 18,
    "start_time": "2025-01-24T02:11:09.855Z"
   },
   {
    "duration": 4,
    "start_time": "2025-01-24T02:11:09.874Z"
   },
   {
    "duration": 9,
    "start_time": "2025-01-24T02:11:09.880Z"
   },
   {
    "duration": 9,
    "start_time": "2025-01-24T02:11:09.891Z"
   },
   {
    "duration": 7,
    "start_time": "2025-01-24T02:11:09.901Z"
   },
   {
    "duration": 2,
    "start_time": "2025-01-24T02:11:09.910Z"
   },
   {
    "duration": 17,
    "start_time": "2025-01-24T02:11:09.914Z"
   },
   {
    "duration": 44,
    "start_time": "2025-01-24T02:11:09.932Z"
   },
   {
    "duration": 31,
    "start_time": "2025-01-24T02:11:09.978Z"
   },
   {
    "duration": 15,
    "start_time": "2025-01-24T02:11:10.011Z"
   },
   {
    "duration": 6,
    "start_time": "2025-01-24T02:11:10.028Z"
   },
   {
    "duration": 49,
    "start_time": "2025-01-24T02:11:10.035Z"
   },
   {
    "duration": 7,
    "start_time": "2025-01-24T02:11:10.089Z"
   },
   {
    "duration": 26,
    "start_time": "2025-01-24T02:11:10.097Z"
   },
   {
    "duration": 48,
    "start_time": "2025-01-24T02:11:10.125Z"
   },
   {
    "duration": 6,
    "start_time": "2025-01-24T02:11:10.175Z"
   },
   {
    "duration": 248,
    "start_time": "2025-01-24T02:11:10.183Z"
   },
   {
    "duration": 1738,
    "start_time": "2025-01-24T02:11:10.432Z"
   },
   {
    "duration": 187,
    "start_time": "2025-01-24T02:11:12.172Z"
   },
   {
    "duration": 11,
    "start_time": "2025-01-24T02:11:12.360Z"
   },
   {
    "duration": 371,
    "start_time": "2025-01-24T02:11:12.373Z"
   },
   {
    "duration": 5,
    "start_time": "2025-01-24T02:11:12.746Z"
   },
   {
    "duration": 103,
    "start_time": "2025-01-24T02:11:12.753Z"
   },
   {
    "duration": 12,
    "start_time": "2025-01-24T02:11:12.858Z"
   },
   {
    "duration": 249,
    "start_time": "2025-01-24T02:11:12.871Z"
   },
   {
    "duration": 3,
    "start_time": "2025-01-24T02:11:13.121Z"
   },
   {
    "duration": 3,
    "start_time": "2025-01-24T02:11:13.125Z"
   },
   {
    "duration": 3,
    "start_time": "2025-01-24T02:11:13.130Z"
   },
   {
    "duration": 1089,
    "start_time": "2025-01-24T02:11:13.135Z"
   },
   {
    "duration": 6,
    "start_time": "2025-01-24T02:11:40.071Z"
   },
   {
    "duration": 164,
    "start_time": "2025-01-24T12:28:34.051Z"
   },
   {
    "duration": 2563,
    "start_time": "2025-01-24T12:28:45.554Z"
   },
   {
    "duration": 1042,
    "start_time": "2025-01-24T12:28:48.119Z"
   },
   {
    "duration": 18,
    "start_time": "2025-01-24T12:28:49.162Z"
   },
   {
    "duration": 13,
    "start_time": "2025-01-24T12:28:49.182Z"
   },
   {
    "duration": 9,
    "start_time": "2025-01-24T12:28:49.198Z"
   },
   {
    "duration": 27,
    "start_time": "2025-01-24T12:28:49.209Z"
   },
   {
    "duration": 11,
    "start_time": "2025-01-24T12:28:49.237Z"
   },
   {
    "duration": 208,
    "start_time": "2025-01-24T12:28:49.249Z"
   },
   {
    "duration": 9,
    "start_time": "2025-01-24T12:28:49.459Z"
   },
   {
    "duration": 130,
    "start_time": "2025-01-24T12:28:49.469Z"
   },
   {
    "duration": 105,
    "start_time": "2025-01-24T12:28:49.601Z"
   },
   {
    "duration": 4,
    "start_time": "2025-01-24T12:28:49.708Z"
   },
   {
    "duration": 19,
    "start_time": "2025-01-24T12:28:49.713Z"
   },
   {
    "duration": 39,
    "start_time": "2025-01-24T12:28:49.735Z"
   },
   {
    "duration": 5,
    "start_time": "2025-01-24T12:28:49.777Z"
   },
   {
    "duration": 23,
    "start_time": "2025-01-24T12:28:49.784Z"
   },
   {
    "duration": 33,
    "start_time": "2025-01-24T12:28:49.809Z"
   },
   {
    "duration": 8,
    "start_time": "2025-01-24T12:28:49.843Z"
   },
   {
    "duration": 7,
    "start_time": "2025-01-24T12:28:49.852Z"
   },
   {
    "duration": 5,
    "start_time": "2025-01-24T12:28:49.860Z"
   },
   {
    "duration": 4,
    "start_time": "2025-01-24T12:28:49.866Z"
   },
   {
    "duration": 4,
    "start_time": "2025-01-24T12:28:49.872Z"
   },
   {
    "duration": 6,
    "start_time": "2025-01-24T12:28:49.877Z"
   },
   {
    "duration": 47,
    "start_time": "2025-01-24T12:28:49.884Z"
   },
   {
    "duration": 4,
    "start_time": "2025-01-24T12:28:49.934Z"
   },
   {
    "duration": 5,
    "start_time": "2025-01-24T12:28:49.940Z"
   },
   {
    "duration": 798,
    "start_time": "2025-01-24T12:28:49.947Z"
   },
   {
    "duration": 703,
    "start_time": "2025-01-24T12:28:50.746Z"
   },
   {
    "duration": 7,
    "start_time": "2025-01-24T12:28:51.451Z"
   },
   {
    "duration": 7,
    "start_time": "2025-01-24T12:28:51.460Z"
   },
   {
    "duration": 3,
    "start_time": "2025-01-24T12:28:51.470Z"
   },
   {
    "duration": 10,
    "start_time": "2025-01-24T12:28:51.475Z"
   },
   {
    "duration": 9,
    "start_time": "2025-01-24T12:28:51.486Z"
   },
   {
    "duration": 40,
    "start_time": "2025-01-24T12:28:51.497Z"
   },
   {
    "duration": 2,
    "start_time": "2025-01-24T12:28:51.539Z"
   },
   {
    "duration": 18,
    "start_time": "2025-01-24T12:28:51.543Z"
   },
   {
    "duration": 6,
    "start_time": "2025-01-24T12:28:51.562Z"
   },
   {
    "duration": 32,
    "start_time": "2025-01-24T12:28:51.570Z"
   },
   {
    "duration": 41,
    "start_time": "2025-01-24T12:28:51.604Z"
   },
   {
    "duration": 6,
    "start_time": "2025-01-24T12:28:51.647Z"
   },
   {
    "duration": 27,
    "start_time": "2025-01-24T12:28:51.658Z"
   },
   {
    "duration": 7,
    "start_time": "2025-01-24T12:28:51.687Z"
   },
   {
    "duration": 56,
    "start_time": "2025-01-24T12:28:51.697Z"
   },
   {
    "duration": 25,
    "start_time": "2025-01-24T12:28:51.754Z"
   },
   {
    "duration": 7,
    "start_time": "2025-01-24T12:28:51.781Z"
   },
   {
    "duration": 276,
    "start_time": "2025-01-24T12:28:51.790Z"
   },
   {
    "duration": 1825,
    "start_time": "2025-01-24T12:28:52.068Z"
   },
   {
    "duration": 186,
    "start_time": "2025-01-24T12:28:53.895Z"
   },
   {
    "duration": 3,
    "start_time": "2025-01-24T12:28:54.084Z"
   },
   {
    "duration": 432,
    "start_time": "2025-01-24T12:28:54.088Z"
   },
   {
    "duration": 11,
    "start_time": "2025-01-24T12:28:54.522Z"
   },
   {
    "duration": 84,
    "start_time": "2025-01-24T12:28:54.535Z"
   },
   {
    "duration": 6,
    "start_time": "2025-01-24T12:28:54.630Z"
   },
   {
    "duration": 7,
    "start_time": "2025-01-24T12:28:54.638Z"
   },
   {
    "duration": 236,
    "start_time": "2025-01-24T12:28:54.646Z"
   },
   {
    "duration": 2,
    "start_time": "2025-01-24T12:28:54.884Z"
   },
   {
    "duration": 3,
    "start_time": "2025-01-24T12:28:54.888Z"
   },
   {
    "duration": 3,
    "start_time": "2025-01-24T12:28:54.892Z"
   },
   {
    "duration": 1109,
    "start_time": "2025-01-24T12:28:54.897Z"
   },
   {
    "duration": 1104,
    "start_time": "2025-01-24T12:30:01.559Z"
   },
   {
    "duration": 1097,
    "start_time": "2025-01-24T12:30:34.820Z"
   },
   {
    "duration": 1103,
    "start_time": "2025-01-24T12:32:02.477Z"
   },
   {
    "duration": 1056,
    "start_time": "2025-01-24T12:32:36.427Z"
   },
   {
    "duration": 1256,
    "start_time": "2025-01-24T12:36:48.215Z"
   },
   {
    "duration": 1113,
    "start_time": "2025-01-24T12:37:06.836Z"
   },
   {
    "duration": 1130,
    "start_time": "2025-01-24T12:37:18.428Z"
   },
   {
    "duration": 7,
    "start_time": "2025-01-24T12:38:13.480Z"
   },
   {
    "duration": 1172,
    "start_time": "2025-01-24T12:38:18.744Z"
   },
   {
    "duration": 1092,
    "start_time": "2025-01-24T12:40:21.468Z"
   },
   {
    "duration": 1119,
    "start_time": "2025-01-24T12:40:39.536Z"
   },
   {
    "duration": 1100,
    "start_time": "2025-01-24T12:40:50.604Z"
   },
   {
    "duration": 1082,
    "start_time": "2025-01-24T12:41:51.610Z"
   },
   {
    "duration": 1081,
    "start_time": "2025-01-24T12:42:05.607Z"
   },
   {
    "duration": 1064,
    "start_time": "2025-01-24T12:42:13.548Z"
   },
   {
    "duration": 1060,
    "start_time": "2025-01-24T12:42:34.853Z"
   },
   {
    "duration": 1075,
    "start_time": "2025-01-24T12:42:41.736Z"
   },
   {
    "duration": 1088,
    "start_time": "2025-01-24T12:42:50.656Z"
   },
   {
    "duration": 1050,
    "start_time": "2025-01-24T12:42:53.318Z"
   },
   {
    "duration": 1188,
    "start_time": "2025-01-24T12:43:06.343Z"
   },
   {
    "duration": 1065,
    "start_time": "2025-01-24T12:43:13.367Z"
   },
   {
    "duration": 1186,
    "start_time": "2025-01-24T12:43:27.989Z"
   },
   {
    "duration": 1125,
    "start_time": "2025-01-24T12:43:43.807Z"
   },
   {
    "duration": 1119,
    "start_time": "2025-01-24T12:43:48.871Z"
   },
   {
    "duration": 1071,
    "start_time": "2025-01-24T12:45:01.126Z"
   },
   {
    "duration": 1082,
    "start_time": "2025-01-24T12:45:53.739Z"
   },
   {
    "duration": 1104,
    "start_time": "2025-01-24T12:46:08.547Z"
   },
   {
    "duration": 1110,
    "start_time": "2025-01-24T12:47:35.023Z"
   },
   {
    "duration": 1081,
    "start_time": "2025-01-24T12:47:51.331Z"
   },
   {
    "duration": 87,
    "start_time": "2025-01-24T12:51:00.833Z"
   },
   {
    "duration": 91,
    "start_time": "2025-01-24T12:54:55.850Z"
   },
   {
    "duration": 92,
    "start_time": "2025-01-24T12:57:46.846Z"
   },
   {
    "duration": 99,
    "start_time": "2025-01-24T12:57:54.504Z"
   },
   {
    "duration": 89,
    "start_time": "2025-01-24T12:58:14.232Z"
   },
   {
    "duration": 98,
    "start_time": "2025-01-24T12:59:01.773Z"
   },
   {
    "duration": 94,
    "start_time": "2025-01-24T12:59:40.916Z"
   },
   {
    "duration": 91,
    "start_time": "2025-01-24T12:59:45.861Z"
   },
   {
    "duration": 87,
    "start_time": "2025-01-24T12:59:56.808Z"
   },
   {
    "duration": 95,
    "start_time": "2025-01-24T13:00:29.926Z"
   },
   {
    "duration": 492,
    "start_time": "2025-01-24T13:00:49.449Z"
   },
   {
    "duration": 88,
    "start_time": "2025-01-24T13:00:56.414Z"
   },
   {
    "duration": 95,
    "start_time": "2025-01-24T13:01:55.211Z"
   },
   {
    "duration": 94,
    "start_time": "2025-01-24T13:02:29.481Z"
   },
   {
    "duration": 97,
    "start_time": "2025-01-24T13:04:41.421Z"
   },
   {
    "duration": 94,
    "start_time": "2025-01-24T13:05:38.987Z"
   },
   {
    "duration": 89,
    "start_time": "2025-01-24T13:06:16.317Z"
   },
   {
    "duration": 99,
    "start_time": "2025-01-24T13:06:34.962Z"
   },
   {
    "duration": 97,
    "start_time": "2025-01-24T13:06:46.067Z"
   },
   {
    "duration": 98,
    "start_time": "2025-01-24T13:07:24.988Z"
   },
   {
    "duration": 6,
    "start_time": "2025-01-24T13:08:04.215Z"
   },
   {
    "duration": 89,
    "start_time": "2025-01-24T13:08:08.773Z"
   },
   {
    "duration": 94,
    "start_time": "2025-01-24T13:08:16.007Z"
   },
   {
    "duration": 92,
    "start_time": "2025-01-24T13:08:30.128Z"
   },
   {
    "duration": 113,
    "start_time": "2025-01-24T13:09:00.339Z"
   },
   {
    "duration": 96,
    "start_time": "2025-01-24T13:09:07.299Z"
   },
   {
    "duration": 84,
    "start_time": "2025-01-24T13:10:41.858Z"
   },
   {
    "duration": 92,
    "start_time": "2025-01-24T13:11:13.016Z"
   },
   {
    "duration": 87,
    "start_time": "2025-01-24T13:11:27.241Z"
   },
   {
    "duration": 86,
    "start_time": "2025-01-24T13:11:44.808Z"
   },
   {
    "duration": 88,
    "start_time": "2025-01-24T13:12:21.019Z"
   },
   {
    "duration": 5,
    "start_time": "2025-01-24T13:12:55.867Z"
   },
   {
    "duration": 88,
    "start_time": "2025-01-24T13:12:59.692Z"
   },
   {
    "duration": 199,
    "start_time": "2025-01-24T13:17:40.937Z"
   },
   {
    "duration": 198,
    "start_time": "2025-01-24T13:18:20.233Z"
   },
   {
    "duration": 780,
    "start_time": "2025-01-24T13:19:19.140Z"
   },
   {
    "duration": 4,
    "start_time": "2025-01-24T13:19:55.582Z"
   },
   {
    "duration": 6,
    "start_time": "2025-01-24T13:20:05.388Z"
   },
   {
    "duration": 5,
    "start_time": "2025-01-24T13:21:47.692Z"
   },
   {
    "duration": 193,
    "start_time": "2025-01-24T13:22:26.710Z"
   },
   {
    "duration": 199,
    "start_time": "2025-01-24T13:22:56.425Z"
   },
   {
    "duration": 187,
    "start_time": "2025-01-24T13:23:26.750Z"
   },
   {
    "duration": 6,
    "start_time": "2025-01-24T13:31:44.736Z"
   },
   {
    "duration": 185,
    "start_time": "2025-01-24T13:31:49.547Z"
   },
   {
    "duration": 197,
    "start_time": "2025-01-24T13:33:04.806Z"
   },
   {
    "duration": 14,
    "start_time": "2025-01-24T13:33:37.325Z"
   },
   {
    "duration": 186,
    "start_time": "2025-01-24T13:34:00.453Z"
   },
   {
    "duration": 184,
    "start_time": "2025-01-24T13:34:39.164Z"
   },
   {
    "duration": 217,
    "start_time": "2025-01-24T13:35:05.002Z"
   },
   {
    "duration": 214,
    "start_time": "2025-01-24T13:35:12.798Z"
   },
   {
    "duration": 4,
    "start_time": "2025-01-24T13:35:50.542Z"
   },
   {
    "duration": 206,
    "start_time": "2025-01-24T13:42:06.839Z"
   },
   {
    "duration": 2249,
    "start_time": "2025-01-24T13:54:09.324Z"
   },
   {
    "duration": 1532,
    "start_time": "2025-01-24T13:56:11.025Z"
   },
   {
    "duration": 1608,
    "start_time": "2025-01-24T13:56:55.714Z"
   },
   {
    "duration": 1607,
    "start_time": "2025-01-24T13:57:05.724Z"
   },
   {
    "duration": 1545,
    "start_time": "2025-01-24T13:58:08.212Z"
   },
   {
    "duration": 1509,
    "start_time": "2025-01-24T13:58:35.894Z"
   },
   {
    "duration": 18,
    "start_time": "2025-01-24T14:01:38.657Z"
   },
   {
    "duration": 5,
    "start_time": "2025-01-24T14:04:21.974Z"
   },
   {
    "duration": 3,
    "start_time": "2025-01-24T14:04:36.619Z"
   },
   {
    "duration": 69,
    "start_time": "2025-01-24T14:05:16.719Z"
   },
   {
    "duration": 214,
    "start_time": "2025-01-24T14:07:20.836Z"
   },
   {
    "duration": 6,
    "start_time": "2025-01-24T14:08:30.657Z"
   },
   {
    "duration": 222,
    "start_time": "2025-01-24T14:08:38.361Z"
   },
   {
    "duration": 223,
    "start_time": "2025-01-24T14:09:00.783Z"
   },
   {
    "duration": 217,
    "start_time": "2025-01-24T14:09:18.144Z"
   },
   {
    "duration": 218,
    "start_time": "2025-01-24T14:09:41.406Z"
   },
   {
    "duration": 215,
    "start_time": "2025-01-24T14:10:00.004Z"
   },
   {
    "duration": 219,
    "start_time": "2025-01-24T14:11:20.981Z"
   },
   {
    "duration": 220,
    "start_time": "2025-01-24T14:11:34.497Z"
   },
   {
    "duration": 228,
    "start_time": "2025-01-24T14:11:48.537Z"
   },
   {
    "duration": 224,
    "start_time": "2025-01-24T14:12:40.529Z"
   },
   {
    "duration": 228,
    "start_time": "2025-01-24T14:13:29.451Z"
   }
  ],
  "colab": {
   "provenance": []
  },
  "kernelspec": {
   "display_name": "Python 3 (ipykernel)",
   "language": "python",
   "name": "python3"
  },
  "language_info": {
   "codemirror_mode": {
    "name": "ipython",
    "version": 3
   },
   "file_extension": ".py",
   "mimetype": "text/x-python",
   "name": "python",
   "nbconvert_exporter": "python",
   "pygments_lexer": "ipython3",
   "version": "3.9.19"
  },
  "toc": {
   "base_numbering": 1,
   "nav_menu": {},
   "number_sections": true,
   "sideBar": true,
   "skip_h1_title": true,
   "title_cell": "Table of Contents",
   "title_sidebar": "Contents",
   "toc_cell": false,
   "toc_position": {},
   "toc_section_display": true,
   "toc_window_display": false
  },
  "vscode": {
   "interpreter": {
    "hash": "01a7be9ec63e704a62cefc5fe7a4756944464ee731be31632bdf42a4cb4688cf"
   }
  }
 },
 "nbformat": 4,
 "nbformat_minor": 5
}
