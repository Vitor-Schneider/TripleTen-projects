{
 "cells": [
  {
   "cell_type": "markdown",
   "metadata": {},
   "source": [
    "# Revisão de código \n",
    "\n",
    "Olá! \n",
    "\n",
    "Meu nome é Suelen. Estou feliz em revisar seu projeto hoje!\n",
    "\n",
    "Quando vejo um erro pela primeira vez, apenas aponto. Deixarei você encontrá-lo e corrigi-lo sozinho. Além disso, ao longo do texto, farei algumas observações sobre melhorias no código e também farei comentários sobre suas percepções sobre o assunto. Mas se você ainda não consegue lidar com essa tarefa, darei uma dica mais precisa na próxima iteração e também alguns exemplos práticos. Estarei aberta a feedbacks e discussões sobre o tema.\n",
    "\n",
    "Você pode encontrar meus comentários em caixas verdes, amarelas ou vermelhas como estas:\n",
    "\n",
    "\n",
    "<div class=\"alert alert-block alert-success\">\n",
    "<b>Comentário: </b> <a class=\"tocSkip\"></a>\n",
    "\n",
    "Sucesso. Tudo está correto.\n",
    "</div>\n",
    "\n",
    "<div class=\"alert alert-block alert-warning\">\n",
    "<b>Comentário: </b> <a class=\"tocSkip\"></a>\n",
    "\n",
    "Observações. Algumas recomendações.\n",
    "</div>\n",
    "\n",
    "<div class=\"alert alert-block alert-danger\">\n",
    "\n",
    "<b>Comentário: </b> <a class=\"tocSkip\"></a>\n",
    "\n",
    "O bloco requer algumas correções. O trabalho não pode ser aceito com os comentários vermelhos.\n",
    "</div>\n",
    "\n",
    "Você pode me responder usando isto:\n",
    "\n",
    "<div class=\"alert alert-block alert-info\">\n",
    "<b>Resposta do aluno</b> <a class=\"tocSkip\"></a>\n",
    "</div>\n",
    "\n"
   ]
  },
  {
   "cell_type": "code",
   "execution_count": null,
   "metadata": {},
   "outputs": [],
   "source": []
  },
  {
   "cell_type": "markdown",
   "metadata": {},
   "source": [
    "<div class=\"alert alert-block alert-success\">\n",
    "\n",
    "<b>Comentário geral: </b> <a class=\"tocSkip\"></a>\n",
    "\n",
    "Parabéns pela excelente conclusão do projeto, Vitor! 🎉 Seu projeto está com uma qualidade ótima.\n",
    "Adicionei apenas alguns comentários com sugestões e dicas para te ajudar a brilhar ainda mais.\n",
    "    \n",
    "Continue com esse trabalho incrível! 🔆 \n",
    "\n",
    "</div>"
   ]
  },
  {
   "cell_type": "markdown",
   "metadata": {},
   "source": [
    "# Carregamento e visualização dos dados"
   ]
  },
  {
   "cell_type": "code",
   "execution_count": 1,
   "metadata": {},
   "outputs": [],
   "source": [
    "import pandas as pd\n",
    "import numpy as np\n",
    "from sklearn.model_selection import train_test_split\n",
    "from sklearn.tree import DecisionTreeClassifier\n",
    "from sklearn.ensemble import RandomForestClassifier\n",
    "from sklearn.linear_model import LogisticRegression\n",
    "from sklearn.metrics import f1_score\n",
    "from sklearn.utils import shuffle\n",
    "from sklearn.preprocessing import StandardScaler\n",
    "from sklearn.model_selection import GridSearchCV\n",
    "from sklearn.metrics import roc_auc_score"
   ]
  },
  {
   "cell_type": "code",
   "execution_count": 2,
   "metadata": {},
   "outputs": [],
   "source": [
    "df = pd.read_csv('/datasets/Churn.csv')"
   ]
  },
  {
   "cell_type": "code",
   "execution_count": 3,
   "metadata": {
    "scrolled": true
   },
   "outputs": [
    {
     "data": {
      "text/html": [
       "<div>\n",
       "<style scoped>\n",
       "    .dataframe tbody tr th:only-of-type {\n",
       "        vertical-align: middle;\n",
       "    }\n",
       "\n",
       "    .dataframe tbody tr th {\n",
       "        vertical-align: top;\n",
       "    }\n",
       "\n",
       "    .dataframe thead th {\n",
       "        text-align: right;\n",
       "    }\n",
       "</style>\n",
       "<table border=\"1\" class=\"dataframe\">\n",
       "  <thead>\n",
       "    <tr style=\"text-align: right;\">\n",
       "      <th></th>\n",
       "      <th>RowNumber</th>\n",
       "      <th>CustomerId</th>\n",
       "      <th>Surname</th>\n",
       "      <th>CreditScore</th>\n",
       "      <th>Geography</th>\n",
       "      <th>Gender</th>\n",
       "      <th>Age</th>\n",
       "      <th>Tenure</th>\n",
       "      <th>Balance</th>\n",
       "      <th>NumOfProducts</th>\n",
       "      <th>HasCrCard</th>\n",
       "      <th>IsActiveMember</th>\n",
       "      <th>EstimatedSalary</th>\n",
       "      <th>Exited</th>\n",
       "    </tr>\n",
       "  </thead>\n",
       "  <tbody>\n",
       "    <tr>\n",
       "      <th>0</th>\n",
       "      <td>1</td>\n",
       "      <td>15634602</td>\n",
       "      <td>Hargrave</td>\n",
       "      <td>619</td>\n",
       "      <td>France</td>\n",
       "      <td>Female</td>\n",
       "      <td>42</td>\n",
       "      <td>2.0</td>\n",
       "      <td>0.00</td>\n",
       "      <td>1</td>\n",
       "      <td>1</td>\n",
       "      <td>1</td>\n",
       "      <td>101348.88</td>\n",
       "      <td>1</td>\n",
       "    </tr>\n",
       "    <tr>\n",
       "      <th>1</th>\n",
       "      <td>2</td>\n",
       "      <td>15647311</td>\n",
       "      <td>Hill</td>\n",
       "      <td>608</td>\n",
       "      <td>Spain</td>\n",
       "      <td>Female</td>\n",
       "      <td>41</td>\n",
       "      <td>1.0</td>\n",
       "      <td>83807.86</td>\n",
       "      <td>1</td>\n",
       "      <td>0</td>\n",
       "      <td>1</td>\n",
       "      <td>112542.58</td>\n",
       "      <td>0</td>\n",
       "    </tr>\n",
       "    <tr>\n",
       "      <th>2</th>\n",
       "      <td>3</td>\n",
       "      <td>15619304</td>\n",
       "      <td>Onio</td>\n",
       "      <td>502</td>\n",
       "      <td>France</td>\n",
       "      <td>Female</td>\n",
       "      <td>42</td>\n",
       "      <td>8.0</td>\n",
       "      <td>159660.80</td>\n",
       "      <td>3</td>\n",
       "      <td>1</td>\n",
       "      <td>0</td>\n",
       "      <td>113931.57</td>\n",
       "      <td>1</td>\n",
       "    </tr>\n",
       "    <tr>\n",
       "      <th>3</th>\n",
       "      <td>4</td>\n",
       "      <td>15701354</td>\n",
       "      <td>Boni</td>\n",
       "      <td>699</td>\n",
       "      <td>France</td>\n",
       "      <td>Female</td>\n",
       "      <td>39</td>\n",
       "      <td>1.0</td>\n",
       "      <td>0.00</td>\n",
       "      <td>2</td>\n",
       "      <td>0</td>\n",
       "      <td>0</td>\n",
       "      <td>93826.63</td>\n",
       "      <td>0</td>\n",
       "    </tr>\n",
       "    <tr>\n",
       "      <th>4</th>\n",
       "      <td>5</td>\n",
       "      <td>15737888</td>\n",
       "      <td>Mitchell</td>\n",
       "      <td>850</td>\n",
       "      <td>Spain</td>\n",
       "      <td>Female</td>\n",
       "      <td>43</td>\n",
       "      <td>2.0</td>\n",
       "      <td>125510.82</td>\n",
       "      <td>1</td>\n",
       "      <td>1</td>\n",
       "      <td>1</td>\n",
       "      <td>79084.10</td>\n",
       "      <td>0</td>\n",
       "    </tr>\n",
       "  </tbody>\n",
       "</table>\n",
       "</div>"
      ],
      "text/plain": [
       "   RowNumber  CustomerId   Surname  CreditScore Geography  Gender  Age  \\\n",
       "0          1    15634602  Hargrave          619    France  Female   42   \n",
       "1          2    15647311      Hill          608     Spain  Female   41   \n",
       "2          3    15619304      Onio          502    France  Female   42   \n",
       "3          4    15701354      Boni          699    France  Female   39   \n",
       "4          5    15737888  Mitchell          850     Spain  Female   43   \n",
       "\n",
       "   Tenure    Balance  NumOfProducts  HasCrCard  IsActiveMember  \\\n",
       "0     2.0       0.00              1          1               1   \n",
       "1     1.0   83807.86              1          0               1   \n",
       "2     8.0  159660.80              3          1               0   \n",
       "3     1.0       0.00              2          0               0   \n",
       "4     2.0  125510.82              1          1               1   \n",
       "\n",
       "   EstimatedSalary  Exited  \n",
       "0        101348.88       1  \n",
       "1        112542.58       0  \n",
       "2        113931.57       1  \n",
       "3         93826.63       0  \n",
       "4         79084.10       0  "
      ]
     },
     "execution_count": 3,
     "metadata": {},
     "output_type": "execute_result"
    }
   ],
   "source": [
    "df.head()"
   ]
  },
  {
   "cell_type": "code",
   "execution_count": 4,
   "metadata": {},
   "outputs": [
    {
     "name": "stdout",
     "output_type": "stream",
     "text": [
      "<class 'pandas.core.frame.DataFrame'>\n",
      "RangeIndex: 10000 entries, 0 to 9999\n",
      "Data columns (total 14 columns):\n",
      " #   Column           Non-Null Count  Dtype  \n",
      "---  ------           --------------  -----  \n",
      " 0   RowNumber        10000 non-null  int64  \n",
      " 1   CustomerId       10000 non-null  int64  \n",
      " 2   Surname          10000 non-null  object \n",
      " 3   CreditScore      10000 non-null  int64  \n",
      " 4   Geography        10000 non-null  object \n",
      " 5   Gender           10000 non-null  object \n",
      " 6   Age              10000 non-null  int64  \n",
      " 7   Tenure           9091 non-null   float64\n",
      " 8   Balance          10000 non-null  float64\n",
      " 9   NumOfProducts    10000 non-null  int64  \n",
      " 10  HasCrCard        10000 non-null  int64  \n",
      " 11  IsActiveMember   10000 non-null  int64  \n",
      " 12  EstimatedSalary  10000 non-null  float64\n",
      " 13  Exited           10000 non-null  int64  \n",
      "dtypes: float64(3), int64(8), object(3)\n",
      "memory usage: 1.1+ MB\n"
     ]
    }
   ],
   "source": [
    "df.info()"
   ]
  },
  {
   "cell_type": "markdown",
   "metadata": {},
   "source": [
    "# preenchendo valores nulos com a mediana"
   ]
  },
  {
   "cell_type": "code",
   "execution_count": 5,
   "metadata": {},
   "outputs": [],
   "source": [
    "tenure_median = df['Tenure'].median()\n",
    "df['Tenure'] = df['Tenure'].fillna(tenure_median)"
   ]
  },
  {
   "cell_type": "code",
   "execution_count": 6,
   "metadata": {},
   "outputs": [
    {
     "data": {
      "text/plain": [
       "0"
      ]
     },
     "execution_count": 6,
     "metadata": {},
     "output_type": "execute_result"
    }
   ],
   "source": [
    "df.duplicated().sum()"
   ]
  },
  {
   "cell_type": "markdown",
   "metadata": {},
   "source": [
    "<div class=\"alert alert-block alert-success\">\n",
    "\n",
    "<b>Comentário: </b> <a class=\"tocSkip\"></a>\n",
    "\n",
    "- Dados foram carregados corretamente. \n",
    "- Análise de dados nulos feita com sucesso\n",
    "    \n",
    "    \n",
    "Sugestões: \n",
    "    \n",
    "- Caso você tenha interesse em experimentar outras formas de imputação de dados nulos, recomendo a leitura: https://www.datacamp.com/tutorial/techniques-to-handle-missing-data-values. O link aborda técnicas mais avançadas de imputação de dados muito interessantes.  \n",
    "\n",
    "</div>"
   ]
  },
  {
   "cell_type": "markdown",
   "metadata": {},
   "source": [
    "# analisando o balanço das classes"
   ]
  },
  {
   "cell_type": "code",
   "execution_count": 7,
   "metadata": {},
   "outputs": [
    {
     "data": {
      "text/plain": [
       "0    0.7963\n",
       "1    0.2037\n",
       "Name: Exited, dtype: float64"
      ]
     },
     "execution_count": 7,
     "metadata": {},
     "output_type": "execute_result"
    }
   ],
   "source": [
    "df['Exited'].value_counts(normalize = True)"
   ]
  },
  {
   "cell_type": "markdown",
   "metadata": {},
   "source": [
    "# dados categóricos para numéricos"
   ]
  },
  {
   "cell_type": "code",
   "execution_count": 8,
   "metadata": {},
   "outputs": [],
   "source": [
    "features = pd.get_dummies(df.drop('Exited', axis=1), drop_first=True)\n",
    "target = df['Exited']"
   ]
  },
  {
   "cell_type": "markdown",
   "metadata": {},
   "source": [
    "**com dados categoricos no dataframe nao conseguimos treinar o modelo por isso transformamos em numericos antes**"
   ]
  },
  {
   "cell_type": "markdown",
   "metadata": {},
   "source": [
    "# Dividindo dados em conjuntos de: treino , validação e teste"
   ]
  },
  {
   "cell_type": "code",
   "execution_count": 9,
   "metadata": {},
   "outputs": [],
   "source": [
    "features_train, features_temp, target_train, target_temp = train_test_split(\n",
    "    features, target, test_size=0.4, random_state=12345\n",
    ")\n",
    "\n",
    "# Dividir temporário em validação (20%) e teste (20%)\n",
    "features_valid, features_test, target_valid, target_test = train_test_split(\n",
    "    features_temp, target_temp, test_size=0.5, random_state=12345\n",
    ")"
   ]
  },
  {
   "cell_type": "markdown",
   "metadata": {},
   "source": [
    "<div class=\"alert alert-block alert-success\">\n",
    "\n",
    "<b>Comentário: </b> <a class=\"tocSkip\"></a>\n",
    "\n",
    "Divisão dos dados realizada corretamente.\n",
    "\n",
    "</div>"
   ]
  },
  {
   "cell_type": "markdown",
   "metadata": {},
   "source": [
    "# Treinamento de modelos"
   ]
  },
  {
   "cell_type": "markdown",
   "metadata": {},
   "source": [
    "# DecisionTreeClassifier"
   ]
  },
  {
   "cell_type": "code",
   "execution_count": 10,
   "metadata": {},
   "outputs": [
    {
     "name": "stdout",
     "output_type": "stream",
     "text": [
      "Melhor F1 Score (Decision Tree sem upsampling): 0.595\n",
      "Melhor max_depth: 9\n",
      "Melhor min_samples_leaf: 1\n"
     ]
    }
   ],
   "source": [
    "best_f1 = 0\n",
    "best_depth = 0\n",
    "best_leaf = 0\n",
    "\n",
    "for depth in range(1, 11):\n",
    "    for leaf in range(1, 11):  # Testar min_samples_leaf\n",
    "        model = DecisionTreeClassifier(\n",
    "            random_state=12345,\n",
    "            max_depth=depth,\n",
    "            min_samples_leaf=leaf\n",
    "        )\n",
    "        model.fit(features_train, target_train)  \n",
    "        predicted_valid = model.predict(features_valid)\n",
    "        f1 = f1_score(target_valid, predicted_valid)\n",
    "        if f1 > best_f1:\n",
    "            best_f1 = f1\n",
    "            best_depth = depth\n",
    "            best_leaf = leaf\n",
    "\n",
    "print(f\"Melhor F1 Score (Decision Tree sem upsampling): {best_f1:.3f}\")\n",
    "print(f\"Melhor max_depth: {best_depth}\")\n",
    "print(f\"Melhor min_samples_leaf: {best_leaf}\")"
   ]
  },
  {
   "cell_type": "markdown",
   "metadata": {},
   "source": [
    "**modelo treinado sem balanceamento de classes no primeiro momento**"
   ]
  },
  {
   "cell_type": "code",
   "execution_count": 11,
   "metadata": {},
   "outputs": [
    {
     "name": "stdout",
     "output_type": "stream",
     "text": [
      "Melhor F1 Score (Decision Tree com class_weight='balanced'): 0.602\n",
      "Melhor max_depth: 5\n",
      "Melhor min_samples_leaf: 9\n"
     ]
    }
   ],
   "source": [
    "for depth in range(1, 11):\n",
    "    for leaf in range(1, 11):  # Testar min_samples_leaf\n",
    "        model = DecisionTreeClassifier(\n",
    "            random_state=12345,\n",
    "            max_depth=depth,\n",
    "            min_samples_leaf=leaf,\n",
    "            class_weight='balanced'  # Balancear classes\n",
    "        )\n",
    "        model.fit(features_train, target_train)  \n",
    "        predicted_valid = model.predict(features_valid)\n",
    "        f1 = f1_score(target_valid, predicted_valid)\n",
    "        if f1 > best_f1:\n",
    "            best_f1 = f1\n",
    "            best_depth = depth\n",
    "            best_leaf = leaf\n",
    "\n",
    "print(f\"Melhor F1 Score (Decision Tree com class_weight='balanced'): {best_f1:.3f}\")\n",
    "print(f\"Melhor max_depth: {best_depth}\")\n",
    "print(f\"Melhor min_samples_leaf: {best_leaf}\")"
   ]
  },
  {
   "cell_type": "markdown",
   "metadata": {},
   "source": [
    "**O modelo foi treinado com o hiperparâmetro class_weight='balanced' para ajustar os pesos das classes, compensando o desbalanceamento (80% classe 0, 20% classe 1). Isso permitiu ao modelo identificar os valores verdadeiros da classe minoritária com maior precisão, melhorando sua performance geral**"
   ]
  },
  {
   "cell_type": "code",
   "execution_count": 12,
   "metadata": {},
   "outputs": [],
   "source": [
    "\n",
    "def upsample(features_train, target_train, repeat):\n",
    "    features_zeros = features_train[target_train == 0]\n",
    "    features_ones = features_train[target_train == 1]\n",
    "    target_zeros = target_train[target_train == 0]\n",
    "    target_ones = target_train[target_train == 1]\n",
    "    features_upsampled = pd.concat([features_zeros] + [features_ones] * repeat)\n",
    "    target_upsampled = pd.concat([target_zeros] + [target_ones] * repeat)\n",
    "    return shuffle(features_upsampled, target_upsampled, random_state=12345)\n",
    "\n",
    "features_up, target_up = upsample(features_train, target_train, 4)"
   ]
  },
  {
   "cell_type": "code",
   "execution_count": null,
   "metadata": {},
   "outputs": [],
   "source": []
  },
  {
   "cell_type": "code",
   "execution_count": 13,
   "metadata": {},
   "outputs": [
    {
     "name": "stdout",
     "output_type": "stream",
     "text": [
      "Melhor F1 Score (Decision Tree com upsampling): 0.601\n",
      "Melhor max_depth: 5\n",
      "Melhor min_samples_leaf: 1\n"
     ]
    }
   ],
   "source": [
    "best_f1 = 0\n",
    "best_depth = 0\n",
    "best_leaf = 0\n",
    "\n",
    "for depth in range(1, 11):\n",
    "    for leaf in range(1, 11):  # Testar min_samples_leaf\n",
    "        model = DecisionTreeClassifier(\n",
    "            random_state=12345,\n",
    "            max_depth=depth,\n",
    "            min_samples_leaf=leaf\n",
    "        )\n",
    "        model.fit(features_up, target_up)  # Usar dados upsampled\n",
    "        predicted_valid = model.predict(features_valid)\n",
    "        f1 = f1_score(target_valid, predicted_valid)\n",
    "        if f1 > best_f1:\n",
    "            best_f1 = f1\n",
    "            best_depth = depth\n",
    "            best_leaf = leaf\n",
    "\n",
    "print(f\"Melhor F1 Score (Decision Tree com upsampling): {best_f1:.3f}\")\n",
    "print(f\"Melhor max_depth: {best_depth}\")\n",
    "print(f\"Melhor min_samples_leaf: {best_leaf}\")"
   ]
  },
  {
   "cell_type": "markdown",
   "metadata": {},
   "source": [
    "**Nesta etapa, aplicamos o método de upsampling para balancear a classe minoritária (20% dos dados) no conjunto de treinamento, replicando suas amostras e equilibrando a proporção com a classe majoritária (80%). Isso permitiu otimizar o treinamento do modelo, melhorando sua capacidade de identificar a classe minoritária de forma eficaz**"
   ]
  },
  {
   "cell_type": "markdown",
   "metadata": {},
   "source": [
    "# RandomForestClassifier"
   ]
  },
  {
   "cell_type": "code",
   "execution_count": 16,
   "metadata": {},
   "outputs": [
    {
     "name": "stdout",
     "output_type": "stream",
     "text": [
      "Melhor F1 Score (Random Forest sem upsampling): 0.009\n",
      "Melhor n_estimators: 1\n",
      "Melhor max_depth: 5\n"
     ]
    }
   ],
   "source": [
    "best_f1 = 0\n",
    "best_est = 0\n",
    "best_depth = 0\n",
    "\n",
    "for est in range(1, 101, 5 ):    # Número de árvores\n",
    "    for depth in range(1, 11):  # Profundidade máxima\n",
    "        model = RandomForestClassifier(\n",
    "            random_state=12345,\n",
    "            n_estimators=est,\n",
    "            max_depth=depth\n",
    "        )\n",
    "        model.fit(features_train, target_train)  \n",
    "        predicted_valid = model.predict(features_valid)\n",
    "        f1 = f1_score(target_valid, predicted_valid)\n",
    "        if f1 > best_f1:\n",
    "            best_f1 = f1\n",
    "            best_est = est\n",
    "            best_depth = depth\n",
    "\n",
    "print(f\"Melhor F1 Score (Random Forest sem upsampling): {best_f1:.3f}\")\n",
    "print(f\"Melhor n_estimators: {best_est}\")\n",
    "print(f\"Melhor max_depth: {best_depth}\")"
   ]
  },
  {
   "cell_type": "markdown",
   "metadata": {},
   "source": [
    "**Modelo treinado sem balancemanto de classes**"
   ]
  },
  {
   "cell_type": "code",
   "execution_count": 17,
   "metadata": {},
   "outputs": [
    {
     "name": "stdout",
     "output_type": "stream",
     "text": [
      "Melhor F1 Score (Random Forest sem upsampling): 0.568\n",
      "Melhor n_estimators: 21\n",
      "Melhor max_depth: 10\n"
     ]
    }
   ],
   "source": [
    "best_f1 = 0\n",
    "best_est = 0\n",
    "best_depth = 0\n",
    "\n",
    "for est in range(1, 101, 5):    # Número de árvores\n",
    "    for depth in range(1, 11):  # Profundidade máxima\n",
    "        model = RandomForestClassifier(\n",
    "            random_state=12345,\n",
    "            n_estimators=est,\n",
    "            max_depth=depth,\n",
    "            class_weight='balanced'\n",
    "        )\n",
    "        model.fit(features_train, target_train)  \n",
    "        predicted_valid = model.predict(features_valid)\n",
    "        f1 = f1_score(target_valid, predicted_valid)\n",
    "        if f1 > best_f1:\n",
    "            best_f1 = f1\n",
    "            best_est = est\n",
    "            best_depth = depth\n",
    "\n",
    "print(f\"Melhor F1 Score (Random Forest sem upsampling): {best_f1:.3f}\")\n",
    "print(f\"Melhor n_estimators: {best_est}\")\n",
    "print(f\"Melhor max_depth: {best_depth}\")"
   ]
  },
  {
   "cell_type": "markdown",
   "metadata": {},
   "source": [
    "**Foi usado o hiperparametro 'class_weight' para conseguirmos balancear melhor os pesos das classes e achar um resultado mais real**"
   ]
  },
  {
   "cell_type": "code",
   "execution_count": 18,
   "metadata": {},
   "outputs": [
    {
     "name": "stdout",
     "output_type": "stream",
     "text": [
      "Melhor F1 Score (Random Forest com upsampling): 0.553\n",
      "Melhor n_estimators: 61\n",
      "Melhor max_depth: 10\n"
     ]
    }
   ],
   "source": [
    "features_up, target_up = upsample(features_train, target_train, 4)\n",
    "best_f1 = 0\n",
    "best_est = 0\n",
    "best_depth = 0\n",
    "\n",
    "\n",
    "for est in range(1, 101,5):  \n",
    "    for depth in range(1, 11):  \n",
    "        model = RandomForestClassifier(\n",
    "            random_state=12345,\n",
    "            n_estimators=est,\n",
    "            max_depth=depth\n",
    "        )\n",
    "        model.fit(features_up, target_up)\n",
    "        \n",
    "        # Calcular F1 no conjunto de validação\n",
    "        predicted_valid = model.predict(features_valid)\n",
    "        f1 = f1_score(target_valid, predicted_valid)\n",
    "        \n",
    "        if f1 > best_f1:\n",
    "            best_f1 = f1\n",
    "            best_est = est\n",
    "            best_depth = depth\n",
    "\n",
    "print(f\"Melhor F1 Score (Random Forest com upsampling): {best_f1:.3f}\")\n",
    "print(f\"Melhor n_estimators: {best_est}\")\n",
    "print(f\"Melhor max_depth: {best_depth}\")"
   ]
  },
  {
   "cell_type": "markdown",
   "metadata": {},
   "source": [
    "**Usamos o metodo de upsampling no qual aumentamos as amostras da classe minoritaria para melhorar a precisão do nosso modelo e achar valores '1' com mais exatidão**"
   ]
  },
  {
   "cell_type": "markdown",
   "metadata": {},
   "source": [
    "# LogisticRegression"
   ]
  },
  {
   "cell_type": "code",
   "execution_count": 19,
   "metadata": {},
   "outputs": [
    {
     "name": "stdout",
     "output_type": "stream",
     "text": [
      "Previsões únicas: [0]\n",
      "F1 Score (Logistic Regression sem upsampling): 0.000\n"
     ]
    }
   ],
   "source": [
    "scaler = StandardScaler()\n",
    "numeric_cols = features.select_dtypes(include=['float64', 'int64']).columns\n",
    "features[numeric_cols] = scaler.fit_transform(features[numeric_cols])\n",
    "\n",
    "# Treinar Logistic Regression \n",
    "model = LogisticRegression(random_state=12345, solver='liblinear')\n",
    "model.fit(features_train, target_train)\n",
    "\n",
    "# Prever e calcular F1 no conjunto de validação\n",
    "predicted_valid = model.predict(features_valid)\n",
    "f1 = f1_score(target_valid, predicted_valid)\n",
    "\n",
    "# Verificar as previsões\n",
    "print(f\"Previsões únicas: {np.unique(predicted_valid)}\")\n",
    "print(f\"F1 Score (Logistic Regression sem upsampling): {f1:.3f}\")"
   ]
  },
  {
   "cell_type": "markdown",
   "metadata": {},
   "source": [
    "**o modelo de logistic regression não consegue prever os positivos por causa do desbalanceamento de classes**"
   ]
  },
  {
   "cell_type": "code",
   "execution_count": 20,
   "metadata": {},
   "outputs": [
    {
     "name": "stdout",
     "output_type": "stream",
     "text": [
      "Previsões únicas: [0 1]\n",
      "F1 Score (Logistic Regression sem upsampling): 0.504\n"
     ]
    }
   ],
   "source": [
    "scaler = StandardScaler()\n",
    "numeric_cols = features.select_dtypes(include=['float64', 'int64']).columns\n",
    "features[numeric_cols] = scaler.fit_transform(features[numeric_cols])\n",
    "\n",
    "# Treinar Logistic Regression com class_weight='balanced'\n",
    "model = LogisticRegression(random_state=12345, solver='liblinear', class_weight='balanced')\n",
    "model.fit(features_train, target_train)\n",
    "\n",
    "# Prever e calcular F1 no conjunto de validação\n",
    "predicted_valid = model.predict(features_valid)\n",
    "f1 = f1_score(target_valid, predicted_valid)\n",
    "\n",
    "# Verificar as previsões\n",
    "print(f\"Previsões únicas: {np.unique(predicted_valid)}\")\n",
    "print(f\"F1 Score (Logistic Regression sem upsampling): {f1:.3f}\")"
   ]
  },
  {
   "cell_type": "markdown",
   "metadata": {},
   "source": [
    "**Por meio do parâmetro de balanceamento class_weight='balanced', ajustamos os pesos das classes no modelo, compensando o desbalanceamento de 80% (classe 0) e 20% (classe 1). Isso resultou em uma identificação mais precisa da classe minoritária, alcançando um desempenho mais alinhado ao objetivo do projeto**"
   ]
  },
  {
   "cell_type": "code",
   "execution_count": 21,
   "metadata": {},
   "outputs": [
    {
     "name": "stdout",
     "output_type": "stream",
     "text": [
      "F1 Score (Logistic Regression com upsampling) no conjunto de validação: 0.492\n"
     ]
    }
   ],
   "source": [
    "features_up, target_up = upsample(features_train, target_train, 4)\n",
    "model = LogisticRegression(random_state=12345, solver='liblinear')\n",
    "model.fit(features_up, target_up)\n",
    "\n",
    "# Calcular F1 no conjunto de validação\n",
    "predicted_valid = model.predict(features_valid)\n",
    "f1 = f1_score(target_valid, predicted_valid)\n",
    "\n",
    "print(f\"F1 Score (Logistic Regression com upsampling) no conjunto de validação: {f1:.3f}\")"
   ]
  },
  {
   "cell_type": "markdown",
   "metadata": {},
   "source": [
    "**Utilizamos o método de upsampling para balancear o conjunto de treinamento, replicando as amostras da classe minoritária (20%) até aproximar a proporção da classe majoritária (80%). Essa técnica melhorou o aprendizado do modelo em relação à classe minoritária, aumentando sua capacidade de identificar corretamente os casos positivos**"
   ]
  },
  {
   "cell_type": "markdown",
   "metadata": {},
   "source": [
    "# DecisionTree melhor modelo: agora conjunto de teste como prova real\n"
   ]
  },
  {
   "cell_type": "code",
   "execution_count": 22,
   "metadata": {
    "scrolled": true
   },
   "outputs": [
    {
     "name": "stdout",
     "output_type": "stream",
     "text": [
      "Melhor F1 Score (Decision Tree): 0.604\n",
      "Melhor max_depth: 5\n",
      "Melhor threshold: 0.60\n"
     ]
    }
   ],
   "source": [
    "best_f1 = 0\n",
    "best_depth = 0\n",
    "best_threshold = 0\n",
    "\n",
    "for depth in range(1, 11):  # 1 a 9\n",
    "    model = DecisionTreeClassifier(\n",
    "        random_state=12345,\n",
    "        max_depth=depth,\n",
    "        min_samples_leaf=1,\n",
    "        class_weight='balanced'\n",
    "    )\n",
    "    model.fit(features_train, target_train)\n",
    "    \n",
    "    # Obter probabilidades pra classe 1\n",
    "    probabilities_test = model.predict_proba(features_test)[:, 1]\n",
    "    \n",
    "    # Testar diferentes thresholds\n",
    "    for threshold in np.arange(0.3, 0.8, 0.05):\n",
    "        predicted_test = probabilities_test > threshold\n",
    "        f1 = f1_score(target_test, predicted_test)\n",
    "        if f1 > best_f1:\n",
    "            best_f1 = f1\n",
    "            best_depth = depth\n",
    "            best_threshold = threshold\n",
    "\n",
    "print(f\"Melhor F1 Score (Decision Tree): {best_f1:.3f}\")\n",
    "print(f\"Melhor max_depth: {best_depth}\")\n",
    "print(f\"Melhor threshold: {best_threshold:.2f}\")"
   ]
  },
  {
   "cell_type": "markdown",
   "metadata": {},
   "source": [
    "**Além de usarmos o hiperparâmetro de balanceamento de pesos das classes (class_weight='balanced'), para alcançar um F1 acima de 0.59, foi necessário ajustar o limiar de classificação para 0.60. Isso melhorou a média harmônica entre precisão (a proporção de previsões '1' que estavam corretas, ou seja, verdadeiros positivos divididos por todos os previstos como 1) e sensibilidade (a proporção de valores '1' reais que o modelo identificou, ou seja, verdadeiros positivos divididos pelo total de 1 reais, que inclui verdadeiros positivos e falsos negativos).**"
   ]
  },
  {
   "cell_type": "markdown",
   "metadata": {},
   "source": [
    "<div class=\"alert alert-block alert-success\">\n",
    "\n",
    "<b>Comentário: </b> <a class=\"tocSkip\"></a>\n",
    "    \n",
    "Bom uso do class_weight e da técnica de upsample."
   ]
  },
  {
   "cell_type": "markdown",
   "metadata": {},
   "source": [
    "# Uso da métrica AUC-ROC no modelo escolhido"
   ]
  },
  {
   "cell_type": "code",
   "execution_count": 23,
   "metadata": {},
   "outputs": [
    {
     "name": "stdout",
     "output_type": "stream",
     "text": [
      "Melhor F1 Score (Decision Tree): 0.604\n",
      "Melhor AUC-ROC (Decision Tree): 0.834\n",
      "Melhor max_depth: 5\n",
      "Melhor threshold: 0.60\n"
     ]
    }
   ],
   "source": [
    "best_f1 = 0\n",
    "best_depth = 0\n",
    "best_threshold = 0\n",
    "best_auc = 0\n",
    "\n",
    "for depth in range(1, 11):  \n",
    "    model = DecisionTreeClassifier(\n",
    "        random_state=12345,\n",
    "        max_depth=depth,\n",
    "        min_samples_leaf=1,\n",
    "        class_weight='balanced'\n",
    "    )\n",
    "    model.fit(features_train, target_train)\n",
    "    \n",
    "    # Obter probabilidades pra classe 1\n",
    "    probabilities_test = model.predict_proba(features_test)[:, 1]\n",
    "    \n",
    "    # Calcular AUC-ROC\n",
    "    auc = roc_auc_score(target_test, probabilities_test)\n",
    "    \n",
    "    # Testar diferentes thresholds pra F1 (mantido pra comparação)\n",
    "    for threshold in np.arange(0.3, 0.8, 0.05):\n",
    "        predicted_test = probabilities_test > threshold\n",
    "        f1 = f1_score(target_test, predicted_test)\n",
    "        if f1 > best_f1:\n",
    "            best_f1 = f1\n",
    "            best_depth = depth\n",
    "            best_threshold = threshold\n",
    "            best_auc = auc  \n",
    "\n",
    "print(f\"Melhor F1 Score (Decision Tree): {best_f1:.3f}\")\n",
    "print(f\"Melhor AUC-ROC (Decision Tree): {best_auc:.3f}\")\n",
    "print(f\"Melhor max_depth: {best_depth}\")\n",
    "print(f\"Melhor threshold: {best_threshold:.2f}\")"
   ]
  },
  {
   "attachments": {
    "image.png": {
     "image/png": "[encoded data removed]"
    }
   },
   "cell_type": "markdown",
   "metadata": {},
   "source": [
    "<div class=\"alert alert-block alert-warning\">\n",
    "\n",
    "<b>Comentário: </b> <a class=\"tocSkip\"></a>\n",
    " \n",
    "Os modelos foram treinados corretamente. \n",
    "\n",
    "Sugestões: \n",
    "    \n",
    "- Gerar a visualização da curva ROC-AUC. Exemplo:\n",
    "\n",
    "```python\n",
    "\n",
    "fpr, tpr, _ = roc_curve(y_test, y_scores_RF)\n",
    "roc_auc = auc(fpr, tpr)\n",
    "\n",
    "# Plotar a curva ROC\n",
    "plt.figure(figsize=(8, 6))\n",
    "plt.plot(fpr, tpr, color='blue', lw=2, label=f'Área sob a Curva (AUC) = {roc_auc:.2f}')\n",
    "plt.plot([0, 1], [0, 1], color='gray', linestyle='--')  # Linha diagonal de referência\n",
    "plt.xlim([0.0, 1.0])\n",
    "plt.ylim([0.0, 1.05])\n",
    "plt.xlabel('Taxa de Falsos Positivos (FPR)')\n",
    "plt.ylabel('Taxa de Verdadeiros Positivos (TPR)')\n",
    "plt.title('Curva ROC')\n",
    "plt.legend(loc=\"lower right\")\n",
    "plt.show()\n",
    "```\n",
    "    \n",
    " ![image.png](attachment:image.png)   \n",
    "\n",
    "- O modelo random forest também oferece uma função de feature importances que é muito interessante para entender o impacto de cada variável no modelo. \n",
    "    \n",
    "```python\n",
    "import numpy as np\n",
    "\n",
    "importances = model_rf_balanced.feature_importances_\n",
    "indexes = np.argsort(importances)[::-1]\n",
    "\n",
    "coef = importances[indexes]\n",
    "\n",
    "# Supondo que 'features' seja a lista de nomes das colunas\n",
    "features_array = np.array(features.columns)\n",
    "\n",
    "# Plotar gráfico de barras\n",
    "fig, ax = plt.subplots(figsize=(20, 5))\n",
    "sns.barplot(x=features_array[indexes], y=coef, ax=ax, color='darkblue')\n",
    "plt.xticks(rotation=90)\n",
    "sns.despine()\n",
    "\n",
    "plt.title(\"Importância das Features - RandomForest\")\n",
    "plt.show()\n",
    "```\n",
    "    \n",
    "![image.png](attachment:image.png)"
   ]
  },
  {
   "cell_type": "markdown",
   "metadata": {},
   "source": [
    "**O AUC-ROC de 0.834 demonstra uma excelente capacidade do modelo em distinguir entre as classes (0 e 1), refletindo a robustez das probabilidades previstas em todos os limiares de classificação. Diferentemente do F1, que avalia o equilíbrio entre precisão e sensibilidade para um limiar específico, o AUC-ROC oferece uma visão geral da performance do modelo, indicando sua eficácia em separar as classes independentemente do ponto de corte escolhido**"
   ]
  },
  {
   "cell_type": "markdown",
   "metadata": {},
   "source": [
    "<div class=\"alert alert-block alert-warning\">\n",
    "\n",
    "<b>Comentário: </b> <a class=\"tocSkip\"></a>\n",
    "\n",
    "Apesar dos comentários após cada etapa da análise, ainda recomendo adicionar uma conclusão que englobe todos os achados do projeto. Sei que pode parecer repetitivo, mas é a oportunidade para refletirmos sobre os dados como um todo. Uma ótima prática para enriquecer ainda mais nosso senso crítico para análise de dados :) \n",
    "\n",
    "</div>"
   ]
  },
  {
   "cell_type": "code",
   "execution_count": null,
   "metadata": {},
   "outputs": [],
   "source": []
  }
 ],
 "metadata": {
  "ExecuteTimeLog": [
   {
    "duration": 321,
    "start_time": "2025-02-24T11:59:30.350Z"
   },
   {
    "duration": 24,
    "start_time": "2025-02-24T11:59:31.386Z"
   },
   {
    "duration": 14,
    "start_time": "2025-02-24T11:59:41.641Z"
   },
   {
    "duration": 781,
    "start_time": "2025-02-24T12:00:59.459Z"
   },
   {
    "duration": 3,
    "start_time": "2025-02-24T12:01:11.430Z"
   },
   {
    "duration": 13,
    "start_time": "2025-02-24T12:02:30.622Z"
   },
   {
    "duration": 17,
    "start_time": "2025-02-24T12:08:51.424Z"
   },
   {
    "duration": 460,
    "start_time": "2025-02-24T12:08:59.545Z"
   },
   {
    "duration": 72,
    "start_time": "2025-02-24T12:09:02.888Z"
   },
   {
    "duration": 53,
    "start_time": "2025-02-24T12:12:28.697Z"
   },
   {
    "duration": 478,
    "start_time": "2025-02-24T12:12:30.309Z"
   },
   {
    "duration": 11,
    "start_time": "2025-02-24T12:13:57.295Z"
   },
   {
    "duration": 9,
    "start_time": "2025-02-24T12:14:18.331Z"
   },
   {
    "duration": 6,
    "start_time": "2025-02-24T12:15:44.927Z"
   },
   {
    "duration": 11,
    "start_time": "2025-02-24T12:16:19.560Z"
   },
   {
    "duration": 8,
    "start_time": "2025-02-24T12:16:24.903Z"
   },
   {
    "duration": 18,
    "start_time": "2025-02-24T12:16:45.272Z"
   },
   {
    "duration": 5,
    "start_time": "2025-02-24T12:20:01.520Z"
   },
   {
    "duration": 9,
    "start_time": "2025-02-24T12:20:05.415Z"
   },
   {
    "duration": 9,
    "start_time": "2025-02-24T12:20:22.380Z"
   },
   {
    "duration": 285,
    "start_time": "2025-02-24T12:20:28.588Z"
   },
   {
    "duration": 50,
    "start_time": "2025-02-24T12:21:14.664Z"
   },
   {
    "duration": 652,
    "start_time": "2025-02-24T12:21:16.143Z"
   },
   {
    "duration": 642,
    "start_time": "2025-02-24T12:21:41.224Z"
   },
   {
    "duration": 16,
    "start_time": "2025-02-24T12:25:03.646Z"
   },
   {
    "duration": 14,
    "start_time": "2025-02-24T12:25:24.097Z"
   },
   {
    "duration": 8,
    "start_time": "2025-02-24T12:25:35.699Z"
   },
   {
    "duration": 81569,
    "start_time": "2025-02-24T12:25:38.173Z"
   },
   {
    "duration": 86,
    "start_time": "2025-02-24T12:29:30.377Z"
   },
   {
    "duration": 13918,
    "start_time": "2025-02-24T12:29:43.427Z"
   },
   {
    "duration": 82174,
    "start_time": "2025-02-24T12:30:01.611Z"
   },
   {
    "duration": 140682,
    "start_time": "2025-02-24T12:32:14.444Z"
   },
   {
    "duration": 96,
    "start_time": "2025-02-24T12:35:19.723Z"
   },
   {
    "duration": 3,
    "start_time": "2025-02-24T12:35:39.401Z"
   },
   {
    "duration": 18,
    "start_time": "2025-02-24T12:35:58.324Z"
   },
   {
    "duration": 196,
    "start_time": "2025-02-24T12:36:02.668Z"
   },
   {
    "duration": 118336,
    "start_time": "2025-02-24T12:36:05.144Z"
   },
   {
    "duration": 203,
    "start_time": "2025-02-24T12:39:59.676Z"
   },
   {
    "duration": 760,
    "start_time": "2025-02-24T12:41:22.871Z"
   },
   {
    "duration": 15,
    "start_time": "2025-02-24T12:41:23.634Z"
   },
   {
    "duration": 13,
    "start_time": "2025-02-24T12:41:23.651Z"
   },
   {
    "duration": 10,
    "start_time": "2025-02-24T12:41:23.666Z"
   },
   {
    "duration": 3,
    "start_time": "2025-02-24T12:41:23.679Z"
   },
   {
    "duration": 9,
    "start_time": "2025-02-24T12:41:23.684Z"
   },
   {
    "duration": 4,
    "start_time": "2025-02-24T12:41:23.695Z"
   },
   {
    "duration": 57,
    "start_time": "2025-02-24T12:41:23.725Z"
   },
   {
    "duration": 681,
    "start_time": "2025-02-24T12:41:23.784Z"
   },
   {
    "duration": 220,
    "start_time": "2025-02-24T12:41:24.467Z"
   },
   {
    "duration": 441,
    "start_time": "2025-02-24T12:46:44.531Z"
   },
   {
    "duration": 84719,
    "start_time": "2025-02-24T12:51:17.644Z"
   },
   {
    "duration": 421,
    "start_time": "2025-02-24T12:52:42.364Z"
   },
   {
    "duration": 754,
    "start_time": "2025-02-24T12:52:45.083Z"
   },
   {
    "duration": 15,
    "start_time": "2025-02-24T12:52:45.839Z"
   },
   {
    "duration": 13,
    "start_time": "2025-02-24T12:52:45.856Z"
   },
   {
    "duration": 9,
    "start_time": "2025-02-24T12:52:45.871Z"
   },
   {
    "duration": 4,
    "start_time": "2025-02-24T12:52:45.881Z"
   },
   {
    "duration": 9,
    "start_time": "2025-02-24T12:52:45.886Z"
   },
   {
    "duration": 30,
    "start_time": "2025-02-24T12:52:45.896Z"
   },
   {
    "duration": 54,
    "start_time": "2025-02-24T12:52:45.928Z"
   },
   {
    "duration": 669,
    "start_time": "2025-02-24T12:52:45.984Z"
   },
   {
    "duration": 222,
    "start_time": "2025-02-24T12:52:46.656Z"
   },
   {
    "duration": 86210,
    "start_time": "2025-02-24T12:52:46.879Z"
   },
   {
    "duration": 434,
    "start_time": "2025-02-24T12:54:13.091Z"
   },
   {
    "duration": 488,
    "start_time": "2025-02-24T13:28:51.171Z"
   },
   {
    "duration": 9,
    "start_time": "2025-02-24T13:28:55.312Z"
   },
   {
    "duration": 777,
    "start_time": "2025-02-24T13:29:12.467Z"
   },
   {
    "duration": 17,
    "start_time": "2025-02-24T13:29:13.246Z"
   },
   {
    "duration": 13,
    "start_time": "2025-02-24T13:29:13.264Z"
   },
   {
    "duration": 8,
    "start_time": "2025-02-24T13:29:13.280Z"
   },
   {
    "duration": 3,
    "start_time": "2025-02-24T13:29:13.291Z"
   },
   {
    "duration": 31,
    "start_time": "2025-02-24T13:29:13.296Z"
   },
   {
    "duration": 6,
    "start_time": "2025-02-24T13:29:13.328Z"
   },
   {
    "duration": 54,
    "start_time": "2025-02-24T13:29:13.336Z"
   },
   {
    "duration": 5,
    "start_time": "2025-02-24T13:29:13.392Z"
   },
   {
    "duration": 0,
    "start_time": "2025-02-24T13:29:13.399Z"
   },
   {
    "duration": 0,
    "start_time": "2025-02-24T13:29:13.400Z"
   },
   {
    "duration": 0,
    "start_time": "2025-02-24T13:29:13.424Z"
   },
   {
    "duration": 416,
    "start_time": "2025-02-24T13:29:38.752Z"
   },
   {
    "duration": 517,
    "start_time": "2025-02-24T13:29:41.453Z"
   },
   {
    "duration": 189,
    "start_time": "2025-02-24T13:31:06.572Z"
   },
   {
    "duration": 2956,
    "start_time": "2025-02-24T13:31:08.528Z"
   },
   {
    "duration": 86153,
    "start_time": "2025-02-24T13:31:17.040Z"
   },
   {
    "duration": 539,
    "start_time": "2025-02-24T13:35:36.134Z"
   },
   {
    "duration": 324,
    "start_time": "2025-02-24T13:38:28.837Z"
   },
   {
    "duration": 3,
    "start_time": "2025-02-24T13:38:45.075Z"
   },
   {
    "duration": 438,
    "start_time": "2025-02-24T13:38:49.215Z"
   },
   {
    "duration": 246,
    "start_time": "2025-02-24T13:40:50.052Z"
   },
   {
    "duration": 245,
    "start_time": "2025-02-24T13:41:50.836Z"
   },
   {
    "duration": 624,
    "start_time": "2025-02-24T13:46:26.601Z"
   },
   {
    "duration": 414,
    "start_time": "2025-02-24T13:48:11.189Z"
   },
   {
    "duration": 758,
    "start_time": "2025-02-24T13:48:23.180Z"
   },
   {
    "duration": 15,
    "start_time": "2025-02-24T13:48:23.940Z"
   },
   {
    "duration": 14,
    "start_time": "2025-02-24T13:48:23.957Z"
   },
   {
    "duration": 10,
    "start_time": "2025-02-24T13:48:23.972Z"
   },
   {
    "duration": 3,
    "start_time": "2025-02-24T13:48:23.985Z"
   },
   {
    "duration": 9,
    "start_time": "2025-02-24T13:48:23.989Z"
   },
   {
    "duration": 7,
    "start_time": "2025-02-24T13:48:24.024Z"
   },
   {
    "duration": 54,
    "start_time": "2025-02-24T13:48:24.032Z"
   },
   {
    "duration": 236,
    "start_time": "2025-02-24T13:48:24.088Z"
   },
   {
    "duration": 0,
    "start_time": "2025-02-24T13:48:24.325Z"
   },
   {
    "duration": 0,
    "start_time": "2025-02-24T13:48:24.326Z"
   },
   {
    "duration": 0,
    "start_time": "2025-02-24T13:48:24.328Z"
   },
   {
    "duration": 189,
    "start_time": "2025-02-24T13:50:23.436Z"
   },
   {
    "duration": 214,
    "start_time": "2025-02-24T13:50:25.393Z"
   },
   {
    "duration": 2941,
    "start_time": "2025-02-24T13:50:28.236Z"
   },
   {
    "duration": 60864,
    "start_time": "2025-02-24T13:50:43.791Z"
   },
   {
    "duration": 446,
    "start_time": "2025-02-24T13:51:48.699Z"
   },
   {
    "duration": 330,
    "start_time": "2025-02-24T13:54:45.777Z"
   },
   {
    "duration": 2952,
    "start_time": "2025-02-24T13:59:04.334Z"
   },
   {
    "duration": 4626,
    "start_time": "2025-02-24T13:59:37.605Z"
   },
   {
    "duration": 11411,
    "start_time": "2025-02-24T13:59:48.229Z"
   },
   {
    "duration": 1199,
    "start_time": "2025-02-24T14:01:28.271Z"
   },
   {
    "duration": 62568,
    "start_time": "2025-02-24T14:02:28.758Z"
   },
   {
    "duration": 30248,
    "start_time": "2025-02-24T14:03:41.370Z"
   },
   {
    "duration": 33594,
    "start_time": "2025-02-24T14:05:17.823Z"
   },
   {
    "duration": 19564,
    "start_time": "2025-02-24T15:02:12.642Z"
   },
   {
    "duration": 44267,
    "start_time": "2025-02-24T15:03:02.546Z"
   },
   {
    "duration": 158,
    "start_time": "2025-02-24T15:03:56.168Z"
   },
   {
    "duration": 440,
    "start_time": "2025-02-24T15:04:09.183Z"
   },
   {
    "duration": 154,
    "start_time": "2025-02-24T15:04:53.426Z"
   },
   {
    "duration": 222,
    "start_time": "2025-02-24T15:06:03.213Z"
   },
   {
    "duration": 2,
    "start_time": "2025-02-24T15:06:16.984Z"
   },
   {
    "duration": 205,
    "start_time": "2025-02-24T15:06:23.564Z"
   },
   {
    "duration": 153,
    "start_time": "2025-02-24T15:06:41.132Z"
   },
   {
    "duration": 59619,
    "start_time": "2025-02-24T15:09:59.186Z"
   },
   {
    "duration": 722,
    "start_time": "2025-02-24T15:29:23.419Z"
   },
   {
    "duration": 16,
    "start_time": "2025-02-24T15:29:24.143Z"
   },
   {
    "duration": 14,
    "start_time": "2025-02-24T15:29:24.160Z"
   },
   {
    "duration": 10,
    "start_time": "2025-02-24T15:29:24.175Z"
   },
   {
    "duration": 3,
    "start_time": "2025-02-24T15:29:24.187Z"
   },
   {
    "duration": 32,
    "start_time": "2025-02-24T15:29:24.192Z"
   },
   {
    "duration": 5,
    "start_time": "2025-02-24T15:29:24.226Z"
   },
   {
    "duration": 57,
    "start_time": "2025-02-24T15:29:24.233Z"
   },
   {
    "duration": 211,
    "start_time": "2025-02-24T15:29:24.292Z"
   },
   {
    "duration": 20380,
    "start_time": "2025-02-24T15:29:24.505Z"
   },
   {
    "duration": 61436,
    "start_time": "2025-02-24T15:29:44.888Z"
   },
   {
    "duration": 164,
    "start_time": "2025-02-24T15:30:46.326Z"
   },
   {
    "duration": 308,
    "start_time": "2025-02-24T15:30:46.492Z"
   },
   {
    "duration": 298,
    "start_time": "2025-02-24T15:30:46.826Z"
   },
   {
    "duration": 33102,
    "start_time": "2025-02-24T15:30:47.125Z"
   },
   {
    "duration": 19950,
    "start_time": "2025-02-24T15:33:59.074Z"
   },
   {
    "duration": 189,
    "start_time": "2025-02-24T15:34:52.920Z"
   },
   {
    "duration": 29800,
    "start_time": "2025-02-24T15:34:54.782Z"
   },
   {
    "duration": 20910,
    "start_time": "2025-02-24T15:39:59.557Z"
   },
   {
    "duration": 362999,
    "start_time": "2025-02-24T15:41:46.488Z"
   },
   {
    "duration": 742,
    "start_time": "2025-02-24T15:55:12.203Z"
   },
   {
    "duration": 15,
    "start_time": "2025-02-24T15:55:12.948Z"
   },
   {
    "duration": 14,
    "start_time": "2025-02-24T15:55:12.965Z"
   },
   {
    "duration": 10,
    "start_time": "2025-02-24T15:55:12.981Z"
   },
   {
    "duration": 4,
    "start_time": "2025-02-24T15:55:12.994Z"
   },
   {
    "duration": 32,
    "start_time": "2025-02-24T15:55:13.000Z"
   },
   {
    "duration": 8,
    "start_time": "2025-02-24T15:55:13.034Z"
   },
   {
    "duration": 62,
    "start_time": "2025-02-24T15:55:13.043Z"
   },
   {
    "duration": 202,
    "start_time": "2025-02-24T15:55:13.124Z"
   },
   {
    "duration": 22239,
    "start_time": "2025-02-24T15:55:13.328Z"
   },
   {
    "duration": 22051,
    "start_time": "2025-02-24T15:55:35.569Z"
   },
   {
    "duration": 246,
    "start_time": "2025-02-24T15:55:57.622Z"
   },
   {
    "duration": 32521,
    "start_time": "2025-02-24T15:55:57.870Z"
   },
   {
    "duration": 62202,
    "start_time": "2025-02-24T15:56:30.395Z"
   },
   {
    "duration": 170,
    "start_time": "2025-02-24T15:57:32.599Z"
   },
   {
    "duration": 329,
    "start_time": "2025-02-24T15:57:32.771Z"
   },
   {
    "duration": 291,
    "start_time": "2025-02-24T15:57:33.126Z"
   },
   {
    "duration": 769,
    "start_time": "2025-02-24T16:04:03.068Z"
   },
   {
    "duration": 15,
    "start_time": "2025-02-24T16:04:03.839Z"
   },
   {
    "duration": 17,
    "start_time": "2025-02-24T16:04:03.856Z"
   },
   {
    "duration": 11,
    "start_time": "2025-02-24T16:04:03.877Z"
   },
   {
    "duration": 4,
    "start_time": "2025-02-24T16:04:03.890Z"
   },
   {
    "duration": 30,
    "start_time": "2025-02-24T16:04:03.897Z"
   },
   {
    "duration": 6,
    "start_time": "2025-02-24T16:04:03.929Z"
   },
   {
    "duration": 59,
    "start_time": "2025-02-24T16:04:03.937Z"
   },
   {
    "duration": 209,
    "start_time": "2025-02-24T16:04:03.998Z"
   },
   {
    "duration": 19551,
    "start_time": "2025-02-24T16:04:04.208Z"
   },
   {
    "duration": 19498,
    "start_time": "2025-02-24T16:04:23.761Z"
   },
   {
    "duration": 224,
    "start_time": "2025-02-24T16:04:43.260Z"
   },
   {
    "duration": 30624,
    "start_time": "2025-02-24T16:04:43.486Z"
   },
   {
    "duration": 63535,
    "start_time": "2025-02-24T16:05:14.114Z"
   },
   {
    "duration": 174,
    "start_time": "2025-02-24T16:06:17.651Z"
   },
   {
    "duration": 304,
    "start_time": "2025-02-24T16:06:17.827Z"
   },
   {
    "duration": 295,
    "start_time": "2025-02-24T16:06:18.135Z"
   },
   {
    "duration": 166900,
    "start_time": "2025-02-24T16:06:18.431Z"
   },
   {
    "duration": 0,
    "start_time": "2025-02-24T16:09:05.332Z"
   },
   {
    "duration": 2359,
    "start_time": "2025-02-24T16:16:09.075Z"
   },
   {
    "duration": 1307,
    "start_time": "2025-02-24T16:16:40.246Z"
   },
   {
    "duration": 10,
    "start_time": "2025-02-24T16:17:57.534Z"
   },
   {
    "duration": 4,
    "start_time": "2025-02-24T16:18:05.848Z"
   },
   {
    "duration": 5862,
    "start_time": "2025-02-24T16:19:20.384Z"
   },
   {
    "duration": 147366,
    "start_time": "2025-02-24T16:20:19.312Z"
   },
   {
    "duration": 30359,
    "start_time": "2025-02-24T16:23:36.022Z"
   },
   {
    "duration": 255,
    "start_time": "2025-02-24T16:25:00.297Z"
   },
   {
    "duration": 251,
    "start_time": "2025-02-24T16:25:19.124Z"
   },
   {
    "duration": 212,
    "start_time": "2025-02-24T16:25:32.133Z"
   },
   {
    "duration": 4,
    "start_time": "2025-02-24T16:27:39.301Z"
   },
   {
    "duration": 223,
    "start_time": "2025-02-24T16:27:49.336Z"
   },
   {
    "duration": 443,
    "start_time": "2025-02-24T16:28:04.634Z"
   },
   {
    "duration": 457,
    "start_time": "2025-02-24T16:28:10.553Z"
   },
   {
    "duration": 550,
    "start_time": "2025-02-24T16:28:15.022Z"
   },
   {
    "duration": 207,
    "start_time": "2025-02-24T16:28:30.601Z"
   },
   {
    "duration": 261,
    "start_time": "2025-02-24T16:30:01.747Z"
   },
   {
    "duration": 206,
    "start_time": "2025-02-24T16:31:09.009Z"
   },
   {
    "duration": 7212,
    "start_time": "2025-02-24T16:31:34.824Z"
   },
   {
    "duration": 12201,
    "start_time": "2025-02-24T16:31:51.241Z"
   },
   {
    "duration": 61724,
    "start_time": "2025-02-24T16:33:04.621Z"
   },
   {
    "duration": 6829,
    "start_time": "2025-02-24T16:35:37.012Z"
   },
   {
    "duration": 12298,
    "start_time": "2025-02-24T16:36:40.283Z"
   },
   {
    "duration": 8,
    "start_time": "2025-02-24T16:37:33.074Z"
   },
   {
    "duration": 13817,
    "start_time": "2025-02-24T16:37:57.238Z"
   },
   {
    "duration": 18345,
    "start_time": "2025-02-24T16:38:34.451Z"
   },
   {
    "duration": 11827,
    "start_time": "2025-02-24T16:39:04.411Z"
   },
   {
    "duration": 217,
    "start_time": "2025-02-24T16:42:04.478Z"
   },
   {
    "duration": 5,
    "start_time": "2025-02-24T16:43:07.365Z"
   },
   {
    "duration": 98,
    "start_time": "2025-02-24T16:43:13.469Z"
   },
   {
    "duration": 87,
    "start_time": "2025-02-24T16:43:46.858Z"
   },
   {
    "duration": 339,
    "start_time": "2025-02-24T16:44:39.333Z"
   },
   {
    "duration": 364,
    "start_time": "2025-02-24T16:45:00.585Z"
   },
   {
    "duration": 213,
    "start_time": "2025-02-24T16:45:15.908Z"
   },
   {
    "duration": 1800,
    "start_time": "2025-02-24T16:46:03.152Z"
   },
   {
    "duration": 1783,
    "start_time": "2025-02-24T18:20:32.268Z"
   },
   {
    "duration": 125,
    "start_time": "2025-02-24T19:10:07.759Z"
   },
   {
    "duration": 3,
    "start_time": "2025-02-24T19:10:27.944Z"
   },
   {
    "duration": 1815,
    "start_time": "2025-02-24T19:10:33.571Z"
   },
   {
    "duration": 1785,
    "start_time": "2025-02-24T19:12:44.758Z"
   },
   {
    "duration": 337,
    "start_time": "2025-02-24T19:19:40.992Z"
   },
   {
    "duration": 13174,
    "start_time": "2025-02-24T19:20:49.226Z"
   },
   {
    "duration": 315,
    "start_time": "2025-02-24T19:21:16.466Z"
   },
   {
    "duration": 190439,
    "start_time": "2025-02-24T19:21:49.218Z"
   },
   {
    "duration": 419,
    "start_time": "2025-02-24T19:47:43.625Z"
   },
   {
    "duration": 7683,
    "start_time": "2025-02-24T19:48:06.329Z"
   },
   {
    "duration": 468,
    "start_time": "2025-02-24T19:48:35.874Z"
   },
   {
    "duration": 7603,
    "start_time": "2025-02-24T19:48:46.311Z"
   },
   {
    "duration": 7398,
    "start_time": "2025-02-24T19:49:02.215Z"
   },
   {
    "duration": 10316,
    "start_time": "2025-02-24T19:50:55.655Z"
   },
   {
    "duration": 200,
    "start_time": "2025-02-24T19:52:28.907Z"
   },
   {
    "duration": 63786,
    "start_time": "2025-02-24T19:52:54.354Z"
   },
   {
    "duration": 751,
    "start_time": "2025-02-24T20:18:27.987Z"
   },
   {
    "duration": 15,
    "start_time": "2025-02-24T20:18:28.741Z"
   },
   {
    "duration": 13,
    "start_time": "2025-02-24T20:18:28.758Z"
   },
   {
    "duration": 9,
    "start_time": "2025-02-24T20:18:28.773Z"
   },
   {
    "duration": 4,
    "start_time": "2025-02-24T20:18:28.784Z"
   },
   {
    "duration": 8,
    "start_time": "2025-02-24T20:18:28.790Z"
   },
   {
    "duration": 28,
    "start_time": "2025-02-24T20:18:28.800Z"
   },
   {
    "duration": 54,
    "start_time": "2025-02-24T20:18:28.829Z"
   },
   {
    "duration": 213,
    "start_time": "2025-02-24T20:18:28.885Z"
   },
   {
    "duration": 19983,
    "start_time": "2025-02-24T20:18:29.100Z"
   },
   {
    "duration": 19602,
    "start_time": "2025-02-24T20:18:49.085Z"
   },
   {
    "duration": 310,
    "start_time": "2025-02-24T20:19:08.689Z"
   },
   {
    "duration": 29757,
    "start_time": "2025-02-24T20:19:09.003Z"
   },
   {
    "duration": 83621,
    "start_time": "2025-02-24T20:19:38.763Z"
   },
   {
    "duration": 771,
    "start_time": "2025-02-24T20:24:16.470Z"
   },
   {
    "duration": 16,
    "start_time": "2025-02-24T20:24:17.242Z"
   },
   {
    "duration": 14,
    "start_time": "2025-02-24T20:24:17.259Z"
   },
   {
    "duration": 9,
    "start_time": "2025-02-24T20:24:17.275Z"
   },
   {
    "duration": 4,
    "start_time": "2025-02-24T20:24:17.285Z"
   },
   {
    "duration": 33,
    "start_time": "2025-02-24T20:24:17.291Z"
   },
   {
    "duration": 7,
    "start_time": "2025-02-24T20:24:17.326Z"
   },
   {
    "duration": 55,
    "start_time": "2025-02-24T20:24:17.334Z"
   },
   {
    "duration": 229,
    "start_time": "2025-02-24T20:24:17.390Z"
   },
   {
    "duration": 19660,
    "start_time": "2025-02-24T20:24:17.622Z"
   },
   {
    "duration": 20644,
    "start_time": "2025-02-24T20:24:37.284Z"
   },
   {
    "duration": 225,
    "start_time": "2025-02-24T20:24:57.930Z"
   },
   {
    "duration": 29944,
    "start_time": "2025-02-24T20:24:58.157Z"
   },
   {
    "duration": 36470,
    "start_time": "2025-02-24T20:25:28.103Z"
   },
   {
    "duration": 0,
    "start_time": "2025-02-24T20:26:04.575Z"
   },
   {
    "duration": 0,
    "start_time": "2025-02-24T20:26:04.576Z"
   },
   {
    "duration": 0,
    "start_time": "2025-02-24T20:26:04.577Z"
   },
   {
    "duration": 0,
    "start_time": "2025-02-24T20:26:04.578Z"
   },
   {
    "duration": 0,
    "start_time": "2025-02-24T20:26:04.579Z"
   },
   {
    "duration": 0,
    "start_time": "2025-02-24T20:26:04.580Z"
   },
   {
    "duration": 0,
    "start_time": "2025-02-24T20:26:04.581Z"
   },
   {
    "duration": 51273,
    "start_time": "2025-02-24T20:26:09.086Z"
   },
   {
    "duration": 52244,
    "start_time": "2025-02-24T20:27:16.205Z"
   },
   {
    "duration": 52792,
    "start_time": "2025-02-24T20:28:08.452Z"
   },
   {
    "duration": 77679,
    "start_time": "2025-02-24T20:29:01.246Z"
   },
   {
    "duration": 160,
    "start_time": "2025-02-24T20:30:18.927Z"
   },
   {
    "duration": 310,
    "start_time": "2025-02-24T20:30:19.090Z"
   },
   {
    "duration": 501,
    "start_time": "2025-02-24T20:30:19.424Z"
   },
   {
    "duration": 2314,
    "start_time": "2025-02-24T20:30:19.927Z"
   },
   {
    "duration": 2273,
    "start_time": "2025-02-24T20:30:22.243Z"
   },
   {
    "duration": 14,
    "start_time": "2025-02-25T18:56:25.591Z"
   }
  ],
  "kernelspec": {
   "display_name": "Python 3 (ipykernel)",
   "language": "python",
   "name": "python3"
  },
  "language_info": {
   "codemirror_mode": {
    "name": "ipython",
    "version": 3
   },
   "file_extension": ".py",
   "mimetype": "text/x-python",
   "name": "python",
   "nbconvert_exporter": "python",
   "pygments_lexer": "ipython3",
   "version": "3.9.19"
  },
  "toc": {
   "base_numbering": 1,
   "nav_menu": {},
   "number_sections": true,
   "sideBar": true,
   "skip_h1_title": true,
   "title_cell": "Table of Contents",
   "title_sidebar": "Contents",
   "toc_cell": false,
   "toc_position": {},
   "toc_section_display": true,
   "toc_window_display": false
  }
 },
 "nbformat": 4,
 "nbformat_minor": 2
}
