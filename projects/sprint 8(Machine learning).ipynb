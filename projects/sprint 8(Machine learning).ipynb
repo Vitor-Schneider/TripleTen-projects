{
 "cells": [
  {
   "cell_type": "markdown",
   "metadata": {},
   "source": [
    "<div>\n",
    "Olá, Vitor!\n",
    "\n",
    "Meu nome é Luiz. Fico feliz em revisar seu projeto. Ao longo do texto farei algumas observações sobre melhorias no código e também farei comentários sobre suas percepções sobre o assunto. Estarei aberto a feedbacks e discussões sobre o tema.\n",
    "\n",
    "**Peço que mantenha e não altere os comentários que eu fizer por aqui para que possamos nos localizar posteriormente, ok?**\n",
    "\n",
    "Mais uma coisa, vamos utilizar um código de cores para você entender o meu feedback no seu notebook. Funciona assim:\n",
    "\n",
    "<div class=\"alert alert-block alert-success\">\n",
    "<b> Comentário do revisor: </b> <a class=\"tocSkip\"></a>\n",
    "\n",
    "Sucesso. Tudo foi feito corretamente.\n",
    "</div>\n",
    "\n",
    "<div class=\"alert alert-block alert-warning\">\n",
    "<b>Comentário do revisor: </b> <a class=\"tocSkip\"></a>\n",
    "\n",
    "Alerta não crítico, mas que pode ser corrigido para melhoria geral no seu código/análise.\n",
    "</div>\n",
    "\n",
    "<div class=\"alert alert-block alert-danger\">\n",
    "\n",
    "<b>Comentário do revisor: </b> <a class=\"tocSkip\"></a>\n",
    "    \n",
    "Erro que precisa ser arrumado, caso contrário seu projeto **não** será aceito.\n",
    "</div>\n",
    "\n",
    "Você pode interagir comigo através dessa célula:\n",
    "<div class=\"alert alert-block alert-info\">\n",
    "<b>Resposta do Aluno.</b> <a class=\"tocSkip\"></a>\n",
    "</div>"
   ]
  },
  {
   "cell_type": "markdown",
   "metadata": {},
   "source": [
    "<div class=\"alert alert-block alert-danger\">\n",
    "<b> Comentário geral do revisor v1</b> <a class=\"tocSkip\"></a>\n",
    "    \n",
    "Obrigado por enviar o seu projeto e pelo esforço de chegar até aqui. O seu projeto possui alguns pontos bem interessantes, dos quais eu destaco:\n",
    "    \n",
    "- Código bem simples e estruturado \n",
    "- Comentários sucintos e bem objetivos\n",
    "    \n",
    "Entretanto, deixei alguns comentários em alguns trechos que precisam de ajuste. Peço que trabalhe nesses pontos para avançarmos.\n",
    "    \n",
    "Qualquer dúvida, pode contar comigo.   \n",
    "    \n",
    "    \n",
    "**Até breve!**\n",
    "\n",
    "</div>"
   ]
  },
  {
   "cell_type": "markdown",
   "metadata": {},
   "source": [
    "<div class=\"alert alert-block alert-info\">\n",
    "<b>Obrigado pela revisão Luiz. Só para esclarecer um pouco sobre os ajustes, a parte onde precisa ter pelo menos 3 hiperparametros e 75% de acuracia não está na descrição do projeto, acredito que quando os outros alunos chegarem aqui todos irao mandar sem estes detalhes também. Concordo que sempre devemos melhorar nossos projetos, apenas acho que exigencias específicas precisam estar determinadas. É como se o cliente pedisse para comprar maçã e depois que nós entregassemos a sacola ele falasse que queria exatamente 7 maçãs. </b> <a class=\"tocSkip\"></a>\n",
    "</div>"
   ]
  },
  {
   "cell_type": "markdown",
   "metadata": {},
   "source": [
    "\n",
    "<div class=\"alert alert-block alert-info\">\n",
    "<b> \n",
    "    O que nós temos na descrição é isto:\n",
    "    \n",
    "Investigue a qualidade de diferentes modelos alterando hiperparâmetros. \n",
    "    \n",
    "Verifique a qualidade do modelo usando o conjunto de teste..\n",
    "    </b> <a class=\"tocSkip\"></a>\n",
    "</div>"
   ]
  },
  {
   "cell_type": "markdown",
   "metadata": {},
   "source": [
    "<div class=\"alert alert-block alert-success\">\n",
    "<b> Comentário geral do revisor v2</b> <a class=\"tocSkip\"></a>\n",
    "\n",
    "Obrigado por enviar o seu projeto e fazer os ajustes sugeridos. Essa versão do seu trabalho ficou muito melhor! \n",
    "\n",
    "<br>\n",
    "\n",
    "Sobre o score de `75%` de acurácia, não sabia que essa informação não estava disponível no enunciado do projeto, pois ela é um requisito na nossa rúbrica de avaliação. Porém, concordo com você que ficaria mais claro se essa informação estivesse disponível para vocês. Vou fazer essa sugestão internamente, obrigado!    \n",
    "    \n",
    "    \n",
    "<br>\n",
    "Te desejo uma jornada de muito sucesso e aprendizado.\n",
    "    \n",
    "<br>   \n",
    "    \n",
    "Qualquer dúvida, pode contar comigo.   \n",
    "    \n",
    "<br>  \n",
    "    \n",
    "**Até breve!**\n",
    "\n",
    "</div>"
   ]
  },
  {
   "cell_type": "markdown",
   "metadata": {},
   "source": [
    "# Modelos de machine learning testados no dataset users_behavior"
   ]
  },
  {
   "cell_type": "code",
   "execution_count": 20,
   "metadata": {},
   "outputs": [],
   "source": [
    "import pandas as pd\n",
    "from sklearn.model_selection import train_test_split\n",
    "from sklearn.tree import DecisionTreeClassifier\n",
    "from sklearn.ensemble import RandomForestClassifier\n",
    "from sklearn.linear_model import LogisticRegression\n",
    "from sklearn.linear_model import LinearRegression\n",
    "from sklearn.metrics import accuracy_score\n",
    "from sklearn.preprocessing import StandardScaler\n",
    "from sklearn.model_selection import GridSearchCV"
   ]
  },
  {
   "cell_type": "markdown",
   "metadata": {},
   "source": [
    "# Carregando e lendo os dados"
   ]
  },
  {
   "cell_type": "code",
   "execution_count": 2,
   "metadata": {},
   "outputs": [],
   "source": [
    "df = pd.read_csv('/datasets/users_behavior.csv')"
   ]
  },
  {
   "cell_type": "markdown",
   "metadata": {},
   "source": [
    "<div class=\"alert alert-block alert-success\">\n",
    "<b> Comentário do revisor: </b> <a class=\"tocSkip\"></a>\n",
    "\n",
    "- O conjunto de dados foi carregado corretamente\n",
    "- Os pacotes foram importados corretamente em células separadas\n",
    "</div>"
   ]
  },
  {
   "cell_type": "code",
   "execution_count": 3,
   "metadata": {
    "scrolled": true
   },
   "outputs": [
    {
     "data": {
      "text/html": [
       "<div>\n",
       "<style scoped>\n",
       "    .dataframe tbody tr th:only-of-type {\n",
       "        vertical-align: middle;\n",
       "    }\n",
       "\n",
       "    .dataframe tbody tr th {\n",
       "        vertical-align: top;\n",
       "    }\n",
       "\n",
       "    .dataframe thead th {\n",
       "        text-align: right;\n",
       "    }\n",
       "</style>\n",
       "<table border=\"1\" class=\"dataframe\">\n",
       "  <thead>\n",
       "    <tr style=\"text-align: right;\">\n",
       "      <th></th>\n",
       "      <th>calls</th>\n",
       "      <th>minutes</th>\n",
       "      <th>messages</th>\n",
       "      <th>mb_used</th>\n",
       "      <th>is_ultra</th>\n",
       "    </tr>\n",
       "  </thead>\n",
       "  <tbody>\n",
       "    <tr>\n",
       "      <th>0</th>\n",
       "      <td>40.0</td>\n",
       "      <td>311.90</td>\n",
       "      <td>83.0</td>\n",
       "      <td>19915.42</td>\n",
       "      <td>0</td>\n",
       "    </tr>\n",
       "    <tr>\n",
       "      <th>1</th>\n",
       "      <td>85.0</td>\n",
       "      <td>516.75</td>\n",
       "      <td>56.0</td>\n",
       "      <td>22696.96</td>\n",
       "      <td>0</td>\n",
       "    </tr>\n",
       "    <tr>\n",
       "      <th>2</th>\n",
       "      <td>77.0</td>\n",
       "      <td>467.66</td>\n",
       "      <td>86.0</td>\n",
       "      <td>21060.45</td>\n",
       "      <td>0</td>\n",
       "    </tr>\n",
       "    <tr>\n",
       "      <th>3</th>\n",
       "      <td>106.0</td>\n",
       "      <td>745.53</td>\n",
       "      <td>81.0</td>\n",
       "      <td>8437.39</td>\n",
       "      <td>1</td>\n",
       "    </tr>\n",
       "    <tr>\n",
       "      <th>4</th>\n",
       "      <td>66.0</td>\n",
       "      <td>418.74</td>\n",
       "      <td>1.0</td>\n",
       "      <td>14502.75</td>\n",
       "      <td>0</td>\n",
       "    </tr>\n",
       "  </tbody>\n",
       "</table>\n",
       "</div>"
      ],
      "text/plain": [
       "   calls  minutes  messages   mb_used  is_ultra\n",
       "0   40.0   311.90      83.0  19915.42         0\n",
       "1   85.0   516.75      56.0  22696.96         0\n",
       "2   77.0   467.66      86.0  21060.45         0\n",
       "3  106.0   745.53      81.0   8437.39         1\n",
       "4   66.0   418.74       1.0  14502.75         0"
      ]
     },
     "execution_count": 3,
     "metadata": {},
     "output_type": "execute_result"
    }
   ],
   "source": [
    "df.head()"
   ]
  },
  {
   "cell_type": "code",
   "execution_count": 4,
   "metadata": {},
   "outputs": [
    {
     "data": {
      "text/plain": [
       "0"
      ]
     },
     "execution_count": 4,
     "metadata": {},
     "output_type": "execute_result"
    }
   ],
   "source": [
    "df.duplicated().sum()"
   ]
  },
  {
   "cell_type": "code",
   "execution_count": 5,
   "metadata": {},
   "outputs": [
    {
     "name": "stdout",
     "output_type": "stream",
     "text": [
      "<class 'pandas.core.frame.DataFrame'>\n",
      "RangeIndex: 3214 entries, 0 to 3213\n",
      "Data columns (total 5 columns):\n",
      " #   Column    Non-Null Count  Dtype  \n",
      "---  ------    --------------  -----  \n",
      " 0   calls     3214 non-null   float64\n",
      " 1   minutes   3214 non-null   float64\n",
      " 2   messages  3214 non-null   float64\n",
      " 3   mb_used   3214 non-null   float64\n",
      " 4   is_ultra  3214 non-null   int64  \n",
      "dtypes: float64(4), int64(1)\n",
      "memory usage: 125.7 KB\n"
     ]
    }
   ],
   "source": [
    "df.info()"
   ]
  },
  {
   "cell_type": "code",
   "execution_count": 6,
   "metadata": {},
   "outputs": [
    {
     "data": {
      "text/plain": [
       "calls       0\n",
       "minutes     0\n",
       "messages    0\n",
       "mb_used     0\n",
       "is_ultra    0\n",
       "dtype: int64"
      ]
     },
     "execution_count": 6,
     "metadata": {},
     "output_type": "execute_result"
    }
   ],
   "source": [
    "df.isna().sum()"
   ]
  },
  {
   "cell_type": "code",
   "execution_count": 7,
   "metadata": {
    "scrolled": false
   },
   "outputs": [
    {
     "data": {
      "text/html": [
       "<div>\n",
       "<style scoped>\n",
       "    .dataframe tbody tr th:only-of-type {\n",
       "        vertical-align: middle;\n",
       "    }\n",
       "\n",
       "    .dataframe tbody tr th {\n",
       "        vertical-align: top;\n",
       "    }\n",
       "\n",
       "    .dataframe thead th {\n",
       "        text-align: right;\n",
       "    }\n",
       "</style>\n",
       "<table border=\"1\" class=\"dataframe\">\n",
       "  <thead>\n",
       "    <tr style=\"text-align: right;\">\n",
       "      <th></th>\n",
       "      <th>index</th>\n",
       "      <th>calls</th>\n",
       "      <th>minutes</th>\n",
       "      <th>messages</th>\n",
       "      <th>mb_used</th>\n",
       "      <th>is_ultra</th>\n",
       "    </tr>\n",
       "  </thead>\n",
       "  <tbody>\n",
       "    <tr>\n",
       "      <th>0</th>\n",
       "      <td>count</td>\n",
       "      <td>985.000000</td>\n",
       "      <td>985.000000</td>\n",
       "      <td>985.000000</td>\n",
       "      <td>985.000000</td>\n",
       "      <td>985.0</td>\n",
       "    </tr>\n",
       "    <tr>\n",
       "      <th>1</th>\n",
       "      <td>mean</td>\n",
       "      <td>73.392893</td>\n",
       "      <td>511.224569</td>\n",
       "      <td>49.363452</td>\n",
       "      <td>19468.823228</td>\n",
       "      <td>1.0</td>\n",
       "    </tr>\n",
       "    <tr>\n",
       "      <th>2</th>\n",
       "      <td>std</td>\n",
       "      <td>43.916853</td>\n",
       "      <td>308.031100</td>\n",
       "      <td>47.804457</td>\n",
       "      <td>10087.178654</td>\n",
       "      <td>0.0</td>\n",
       "    </tr>\n",
       "    <tr>\n",
       "      <th>3</th>\n",
       "      <td>min</td>\n",
       "      <td>0.000000</td>\n",
       "      <td>0.000000</td>\n",
       "      <td>0.000000</td>\n",
       "      <td>0.000000</td>\n",
       "      <td>1.0</td>\n",
       "    </tr>\n",
       "    <tr>\n",
       "      <th>4</th>\n",
       "      <td>25%</td>\n",
       "      <td>41.000000</td>\n",
       "      <td>276.030000</td>\n",
       "      <td>6.000000</td>\n",
       "      <td>11770.280000</td>\n",
       "      <td>1.0</td>\n",
       "    </tr>\n",
       "    <tr>\n",
       "      <th>5</th>\n",
       "      <td>50%</td>\n",
       "      <td>74.000000</td>\n",
       "      <td>502.550000</td>\n",
       "      <td>38.000000</td>\n",
       "      <td>19308.010000</td>\n",
       "      <td>1.0</td>\n",
       "    </tr>\n",
       "    <tr>\n",
       "      <th>6</th>\n",
       "      <td>75%</td>\n",
       "      <td>104.000000</td>\n",
       "      <td>730.050000</td>\n",
       "      <td>79.000000</td>\n",
       "      <td>26837.720000</td>\n",
       "      <td>1.0</td>\n",
       "    </tr>\n",
       "    <tr>\n",
       "      <th>7</th>\n",
       "      <td>max</td>\n",
       "      <td>244.000000</td>\n",
       "      <td>1632.060000</td>\n",
       "      <td>224.000000</td>\n",
       "      <td>49745.730000</td>\n",
       "      <td>1.0</td>\n",
       "    </tr>\n",
       "  </tbody>\n",
       "</table>\n",
       "</div>"
      ],
      "text/plain": [
       "   index       calls      minutes    messages       mb_used  is_ultra\n",
       "0  count  985.000000   985.000000  985.000000    985.000000     985.0\n",
       "1   mean   73.392893   511.224569   49.363452  19468.823228       1.0\n",
       "2    std   43.916853   308.031100   47.804457  10087.178654       0.0\n",
       "3    min    0.000000     0.000000    0.000000      0.000000       1.0\n",
       "4    25%   41.000000   276.030000    6.000000  11770.280000       1.0\n",
       "5    50%   74.000000   502.550000   38.000000  19308.010000       1.0\n",
       "6    75%  104.000000   730.050000   79.000000  26837.720000       1.0\n",
       "7    max  244.000000  1632.060000  224.000000  49745.730000       1.0"
      ]
     },
     "execution_count": 7,
     "metadata": {},
     "output_type": "execute_result"
    }
   ],
   "source": [
    "df[df['is_ultra'] == 1].describe().reset_index()"
   ]
  },
  {
   "cell_type": "code",
   "execution_count": 8,
   "metadata": {},
   "outputs": [
    {
     "data": {
      "text/html": [
       "<div>\n",
       "<style scoped>\n",
       "    .dataframe tbody tr th:only-of-type {\n",
       "        vertical-align: middle;\n",
       "    }\n",
       "\n",
       "    .dataframe tbody tr th {\n",
       "        vertical-align: top;\n",
       "    }\n",
       "\n",
       "    .dataframe thead th {\n",
       "        text-align: right;\n",
       "    }\n",
       "</style>\n",
       "<table border=\"1\" class=\"dataframe\">\n",
       "  <thead>\n",
       "    <tr style=\"text-align: right;\">\n",
       "      <th></th>\n",
       "      <th>index</th>\n",
       "      <th>calls</th>\n",
       "      <th>minutes</th>\n",
       "      <th>messages</th>\n",
       "      <th>mb_used</th>\n",
       "      <th>is_ultra</th>\n",
       "    </tr>\n",
       "  </thead>\n",
       "  <tbody>\n",
       "    <tr>\n",
       "      <th>0</th>\n",
       "      <td>count</td>\n",
       "      <td>2229.000000</td>\n",
       "      <td>2229.000000</td>\n",
       "      <td>2229.000000</td>\n",
       "      <td>2229.000000</td>\n",
       "      <td>2229.0</td>\n",
       "    </tr>\n",
       "    <tr>\n",
       "      <th>1</th>\n",
       "      <td>mean</td>\n",
       "      <td>58.463437</td>\n",
       "      <td>405.942952</td>\n",
       "      <td>33.384029</td>\n",
       "      <td>16208.466949</td>\n",
       "      <td>0.0</td>\n",
       "    </tr>\n",
       "    <tr>\n",
       "      <th>2</th>\n",
       "      <td>std</td>\n",
       "      <td>25.939858</td>\n",
       "      <td>184.512604</td>\n",
       "      <td>28.227876</td>\n",
       "      <td>5870.498853</td>\n",
       "      <td>0.0</td>\n",
       "    </tr>\n",
       "    <tr>\n",
       "      <th>3</th>\n",
       "      <td>min</td>\n",
       "      <td>0.000000</td>\n",
       "      <td>0.000000</td>\n",
       "      <td>0.000000</td>\n",
       "      <td>0.000000</td>\n",
       "      <td>0.0</td>\n",
       "    </tr>\n",
       "    <tr>\n",
       "      <th>4</th>\n",
       "      <td>25%</td>\n",
       "      <td>40.000000</td>\n",
       "      <td>274.230000</td>\n",
       "      <td>10.000000</td>\n",
       "      <td>12643.050000</td>\n",
       "      <td>0.0</td>\n",
       "    </tr>\n",
       "    <tr>\n",
       "      <th>5</th>\n",
       "      <td>50%</td>\n",
       "      <td>60.000000</td>\n",
       "      <td>410.560000</td>\n",
       "      <td>28.000000</td>\n",
       "      <td>16506.930000</td>\n",
       "      <td>0.0</td>\n",
       "    </tr>\n",
       "    <tr>\n",
       "      <th>6</th>\n",
       "      <td>75%</td>\n",
       "      <td>76.000000</td>\n",
       "      <td>529.510000</td>\n",
       "      <td>51.000000</td>\n",
       "      <td>20043.060000</td>\n",
       "      <td>0.0</td>\n",
       "    </tr>\n",
       "    <tr>\n",
       "      <th>7</th>\n",
       "      <td>max</td>\n",
       "      <td>198.000000</td>\n",
       "      <td>1390.220000</td>\n",
       "      <td>143.000000</td>\n",
       "      <td>38552.620000</td>\n",
       "      <td>0.0</td>\n",
       "    </tr>\n",
       "  </tbody>\n",
       "</table>\n",
       "</div>"
      ],
      "text/plain": [
       "   index        calls      minutes     messages       mb_used  is_ultra\n",
       "0  count  2229.000000  2229.000000  2229.000000   2229.000000    2229.0\n",
       "1   mean    58.463437   405.942952    33.384029  16208.466949       0.0\n",
       "2    std    25.939858   184.512604    28.227876   5870.498853       0.0\n",
       "3    min     0.000000     0.000000     0.000000      0.000000       0.0\n",
       "4    25%    40.000000   274.230000    10.000000  12643.050000       0.0\n",
       "5    50%    60.000000   410.560000    28.000000  16506.930000       0.0\n",
       "6    75%    76.000000   529.510000    51.000000  20043.060000       0.0\n",
       "7    max   198.000000  1390.220000   143.000000  38552.620000       0.0"
      ]
     },
     "execution_count": 8,
     "metadata": {},
     "output_type": "execute_result"
    }
   ],
   "source": [
    "df[df['is_ultra'] == 0].describe().reset_index()"
   ]
  },
  {
   "cell_type": "code",
   "execution_count": 9,
   "metadata": {},
   "outputs": [
    {
     "data": {
      "text/plain": [
       "calls       985\n",
       "minutes     985\n",
       "messages    985\n",
       "mb_used     985\n",
       "is_ultra    985\n",
       "dtype: int64"
      ]
     },
     "execution_count": 9,
     "metadata": {},
     "output_type": "execute_result"
    }
   ],
   "source": [
    "df[df['is_ultra']== 1].count()"
   ]
  },
  {
   "cell_type": "code",
   "execution_count": 10,
   "metadata": {
    "scrolled": true
   },
   "outputs": [
    {
     "data": {
      "text/plain": [
       "calls       2229\n",
       "minutes     2229\n",
       "messages    2229\n",
       "mb_used     2229\n",
       "is_ultra    2229\n",
       "dtype: int64"
      ]
     },
     "execution_count": 10,
     "metadata": {},
     "output_type": "execute_result"
    }
   ],
   "source": [
    "df[df['is_ultra']== 0].count()"
   ]
  },
  {
   "cell_type": "code",
   "execution_count": 11,
   "metadata": {},
   "outputs": [
    {
     "data": {
      "text/plain": [
       "0    0.693528\n",
       "1    0.306472\n",
       "Name: is_ultra, dtype: float64"
      ]
     },
     "execution_count": 11,
     "metadata": {},
     "output_type": "execute_result"
    }
   ],
   "source": [
    "df['is_ultra'].value_counts(normalize=True)"
   ]
  },
  {
   "cell_type": "markdown",
   "metadata": {},
   "source": [
    "**Temos 985 planos ultra e 2229 planos smart na proporção de 31% para 69% respectivamente**"
   ]
  },
  {
   "cell_type": "markdown",
   "metadata": {},
   "source": [
    "**Analisando os dados vemos que eles estão tratados ou então foram bem armazenados, sem valores ausentes, nulos ou erros de classe.**"
   ]
  },
  {
   "cell_type": "markdown",
   "metadata": {},
   "source": [
    "**Usuários do plano ultra costumam usar um numero bem maior de dados do que os do plano smart, uma informação na qual podemos explorar para achar potenciais clientes para o plano ultra**"
   ]
  },
  {
   "cell_type": "markdown",
   "metadata": {},
   "source": [
    "<div class=\"alert alert-block alert-danger\">\n",
    "<b> Comentário do revisor: </b> <a class=\"tocSkip\"></a>\n",
    "<s>\n",
    "    \n",
    "- Aqui você precisa fazer um estudo de valores ausentes também: `data.isna().sum())`  \n",
    "- Você precisa fazer um estudo de balanceamento dos dados também. Qual a proporção de exemplos na classe `is_ultra==1`? Essa propriedade é importante em modelagem de aprendizado de máquina para embasar a escolha de modelos e técnicas de transformação dos dados. Sugestão:\n",
    "    \n",
    "```python\n",
    "data['is_ultra'].value_counts(normalize=True)\n",
    "...\n",
    "```\n",
    "- É necessário adicionar suas conclusões também sobre essa etapa\n",
    "</s>\n",
    "</div>"
   ]
  },
  {
   "cell_type": "markdown",
   "metadata": {},
   "source": [
    "# Separando os dados em conjuntos de treino,validação e teste"
   ]
  },
  {
   "cell_type": "code",
   "execution_count": 12,
   "metadata": {},
   "outputs": [
    {
     "name": "stdout",
     "output_type": "stream",
     "text": [
      "Quantidade no conjunto de treino: (1928, 4)\n",
      "Quantidade no conjunto de validação: (643, 4)\n",
      "Quantidade no conjunto de teste: (643, 4)\n"
     ]
    }
   ],
   "source": [
    "features = df.drop('is_ultra', axis= 1)\n",
    "target = df['is_ultra']\n",
    "\n",
    "x_train, x_temp, y_train, y_temp = train_test_split(features, target, test_size=0.4, random_state=42)\n",
    "x_val, x_test, y_val, y_test = train_test_split(x_temp, y_temp, test_size=0.5, random_state=42)\n",
    "\n",
    "print('Quantidade no conjunto de treino:', x_train.shape)\n",
    "print('Quantidade no conjunto de validação:', x_val.shape)\n",
    "print('Quantidade no conjunto de teste:', x_test.shape)\n"
   ]
  },
  {
   "cell_type": "markdown",
   "metadata": {},
   "source": [
    "**conjunto de dados divididos em 60% treinamento , 20% validação e 20% teste**"
   ]
  },
  {
   "cell_type": "markdown",
   "metadata": {},
   "source": [
    "<div class=\"alert alert-block alert-warning\">\n",
    "<b> Comentário do revisor: </b> <a class=\"tocSkip\"></a>\n",
    "\n",
    "- Os dados foram separados em `treino`, `validação` e `teste` corretamente. Como sugestão, você poderia imprimir a quantidade de exemplos em cada conjunto.\n",
    "</div>"
   ]
  },
  {
   "cell_type": "markdown",
   "metadata": {},
   "source": [
    "# Qualidade dos modelos: qual faz a melhor previsão?"
   ]
  },
  {
   "cell_type": "markdown",
   "metadata": {},
   "source": [
    "# DecisionTreeClassifier"
   ]
  },
  {
   "cell_type": "code",
   "execution_count": 13,
   "metadata": {},
   "outputs": [
    {
     "name": "stdout",
     "output_type": "stream",
     "text": [
      "Best Accuracy: 0.8009\n",
      "Best Depth: 10\n",
      "Best Min Samples Leaf: 2\n"
     ]
    }
   ],
   "source": [
    "best_depth = None\n",
    "best_accuracy = 0.0\n",
    "\n",
    "for depth in range(1, 16):\n",
    "    for min_samples_leaf in range(1, 6):  \n",
    "        model = DecisionTreeClassifier(random_state=42, \n",
    "                                       max_depth=depth, \n",
    "                                       min_samples_split=2, \n",
    "                                       min_samples_leaf=min_samples_leaf)\n",
    "        model.fit(x_train, y_train)\n",
    "        \n",
    "        accuracy_train = model.score(x_train, y_train)\n",
    "        accuracy_val = model.score(x_val, y_val)\n",
    "        \n",
    "        if accuracy_val > best_accuracy:\n",
    "            best_accuracy = accuracy_val\n",
    "            best_depth = depth\n",
    "            best_min_samples_leaf = min_samples_leaf\n",
    "\n",
    "print(f'Best Accuracy: {best_accuracy:.4f}')\n",
    "print(f'Best Depth: {best_depth}')\n",
    "print(f'Best Min Samples Leaf: {best_min_samples_leaf}')"
   ]
  },
  {
   "cell_type": "markdown",
   "metadata": {},
   "source": [
    "**achamos neste modelo qual é a melhor profundidade para encontrar a melhor precisão com um hiperparametro de max_depth = 10 e com um numero minimo de 2 amostras por folha (este hiperparametro ajuda a ajustar o modelo para nao ficar nem sobreajustado e nem subajustado)**"
   ]
  },
  {
   "cell_type": "markdown",
   "metadata": {},
   "source": [
    "# RandomForestClassifier"
   ]
  },
  {
   "cell_type": "code",
   "execution_count": 15,
   "metadata": {},
   "outputs": [
    {
     "name": "stdout",
     "output_type": "stream",
     "text": [
      "best_score:  0.8195956454121306 best_est: 24 best_depth: 9\n"
     ]
    }
   ],
   "source": [
    "best_score =0\n",
    "best_est =0\n",
    "\n",
    "for est in range(1, 31):\n",
    "    for depth in range(1, 11): \n",
    "        model = RandomForestClassifier(random_state=42, n_estimators=est, max_depth=depth)\n",
    "        model.fit(x_train, y_train)\n",
    "        score = model.score(x_val, y_val)\n",
    "        \n",
    "        if score > best_score:\n",
    "            best_score = score\n",
    "            best_est = est\n",
    "            best_depth = depth\n",
    "        \n",
    "        \n",
    "print('best_score: ', best_score, 'best_est:', best_est, 'best_depth:', best_depth)"
   ]
  },
  {
   "cell_type": "markdown",
   "metadata": {},
   "source": [
    "**testamos o numero de estimadores de 1 a 30 e max_depth entre 1 e 10 para achar qual é o numero com melhor precisão no modelo sendo n_estiamtor = 24 e max_depth = 9 o melhor hiperparametro para este modelo**"
   ]
  },
  {
   "cell_type": "markdown",
   "metadata": {},
   "source": [
    "# RandomForestClassifier usado no conjunto de teste"
   ]
  },
  {
   "cell_type": "code",
   "execution_count": 17,
   "metadata": {},
   "outputs": [
    {
     "name": "stdout",
     "output_type": "stream",
     "text": [
      "0.8164852255054432\n"
     ]
    }
   ],
   "source": [
    "model = RandomForestClassifier(random_state=42, n_estimators=24, max_depth=9)\n",
    "model.fit(x_train, y_train)\n",
    "score_test = model.score(x_test, y_test)\n",
    "print(score_test)"
   ]
  },
  {
   "cell_type": "markdown",
   "metadata": {},
   "source": [
    "**Até então temos o randomforest como o modelo com melhor precisão de acertos**"
   ]
  },
  {
   "cell_type": "markdown",
   "metadata": {},
   "source": [
    "# LogisticRegression"
   ]
  },
  {
   "cell_type": "code",
   "execution_count": 35,
   "metadata": {},
   "outputs": [
    {
     "name": "stdout",
     "output_type": "stream",
     "text": [
      "Precisão de treino: 0.7422199170124482\n",
      "Precisão de validação: 0.7387247278382582\n",
      "Melhores parâmetros: {'C': 0.1, 'penalty': 'l2', 'solver': 'saga'}\n"
     ]
    }
   ],
   "source": [
    "\n",
    "scale = StandardScaler()\n",
    "x_train_scale = scale.fit_transform(x_train)\n",
    "x_val_scale = scale.transform(x_val) \n",
    "\n",
    "\n",
    "model = LogisticRegression(random_state=42)\n",
    "\n",
    "param_grid = {\n",
    "    'solver': ['liblinear', 'saga'], \n",
    "    'C': [0.01, 0.1, 1, 10, 100],\n",
    "    'penalty': ['l1', 'l2']  \n",
    "}\n",
    "\n",
    "grid_search = GridSearchCV(estimator=model,  param_grid=param_grid,  cv=5, scoring='accuracy', n_jobs=-1)  \n",
    "\n",
    "grid_search.fit(x_train_scale, y_train)\n",
    "\n",
    "# Melhor modelo selecionado pelo GridSearchCV\n",
    "best_model = grid_search.best_estimator_\n",
    "\n",
    "score_train = best_model.score(x_train_scale, y_train)\n",
    "score_valid = best_model.score(x_val_scale, y_val)\n",
    "\n",
    "print('Precisão de treino:', score_train)\n",
    "print('Precisão de validação:', score_valid)\n",
    "print('Melhores parâmetros:', grid_search.best_params_)"
   ]
  },
  {
   "cell_type": "markdown",
   "metadata": {},
   "source": [
    "**Usamos a regressão logistica por estamos tentando achar uma variavel categorica, caso fossem variaveis numericas continuas usariamos a regressão liner**"
   ]
  },
  {
   "cell_type": "markdown",
   "metadata": {},
   "source": [
    "**Apesar de testarmos varios hiperparametros adicionais para este modelo ele ficou com a precisão abaixo do nossos outros dois modelos**"
   ]
  },
  {
   "cell_type": "markdown",
   "metadata": {},
   "source": [
    "<div class=\"alert alert-block alert-danger\">\n",
    "<b> Comentário do revisor: </b> <a class=\"tocSkip\"></a>\n",
    "<s>\n",
    "    \n",
    "O modelo `LogisticRegression()` é baseado em pesos, ou seja, se você tiver dados em escalas muito diferentes, essa característica irá impactar no modelo treinado. Por esse motivo, é preciso normalizar os dados para esse modelo especificamente dos modelos que você utilizou (você pode usar `StandardScaler()`, por exemplo).\n",
    "</s>\n",
    "</div>"
   ]
  },
  {
   "cell_type": "markdown",
   "metadata": {},
   "source": [
    "<div class=\"alert alert-block alert-danger\">\n",
    "<b> Comentário do revisor: </b> <a class=\"tocSkip\"></a>\n",
    "<s>\n",
    "    \n",
    "Aqui nesta seção, precisamos de alguns ajustes:\n",
    "    \n",
    "- [x] Pelo menos 2 modelos foram testados\n",
    "- [x] Pelo menos 3 hiperparâmetros foram estudados\n",
    "- [x] A etapa de estudo de hiperparâmetros precisa ser feita no conjunto de **validação** e não de teste. O conjunto de teste deve ser usado apenas para validação final dos modelos\n",
    "- [x] A acurácia de pelo menos `75%` precisa ser atingida no conjunto **de teste**\n",
    "- Dica: Você pode usar métodos como `Randomsearch` para fazer o estudo de hiperparâmetros de forma automatizada. Exemplo:\n",
    "    ```python\n",
    "        param_grids = {\n",
    "            'DecisionTree': {'max_depth': [None, 5, 10, 15], 'min_samples_split': [2, 5, 10]},\n",
    "            'RandomForest': {'n_estimators': [10, 50, 100], 'max_depth': [None, 5, 10, 15]},\n",
    "            'KNeighbors': {'n_neighbors': [3, 5, 7], 'weights': ['uniform', 'distance']}\n",
    "        }\n",
    "    ...\n",
    "\n",
    "        grid_search = GridSearchCV(model, param_grids[model_name], cv=5, scoring='accuracy')\n",
    "        grid_search.fit(features_train, target_train)\n",
    "        ...\n",
    "    ```\n",
    "    \n",
    "**Obs.**: a prova real deve ser fazer o teste do melhor modelo no conjunto de *teste**. Na etapa de estudo dos hiperparâmetros, você deve usar o conjunto de validação e só então, por fim, você deve usar o conjunto de dados de teste.\n",
    "</s>\n",
    "</div>"
   ]
  },
  {
   "cell_type": "markdown",
   "metadata": {},
   "source": [
    "# Prova real do melhor modelo: RandomForest"
   ]
  },
  {
   "cell_type": "code",
   "execution_count": 36,
   "metadata": {},
   "outputs": [
    {
     "name": "stdout",
     "output_type": "stream",
     "text": [
      "best_score:  0.8304821150855366 best_est: 10 best_depth: 6\n"
     ]
    }
   ],
   "source": [
    "best_score =0\n",
    "best_est =0\n",
    "\n",
    "for est in range(1, 31):\n",
    "    for depth in range(1, 11): \n",
    "        model = RandomForestClassifier(random_state=42, n_estimators=est, max_depth=depth)\n",
    "        model.fit(x_train, y_train)\n",
    "        score = model.score(x_test, y_test)\n",
    "        \n",
    "        if score > best_score:\n",
    "            best_score = score\n",
    "            best_est = est\n",
    "            best_depth = depth\n",
    "        \n",
    "        \n",
    "print('best_score: ', best_score, 'best_est:', best_est, 'best_depth:', best_depth)"
   ]
  },
  {
   "cell_type": "markdown",
   "metadata": {},
   "source": [
    "**Aqui na prova real fizemos o teste do nosso modelo mais preciso com o conjunto de teste e encontramos uma acurácia ainda maior do que no conjunto de treinamento com n_estimators = 10 e max_depth = 6, confirmando que este é o modelo mais preciso.**"
   ]
  },
  {
   "cell_type": "markdown",
   "metadata": {},
   "source": [
    "# Conclusão"
   ]
  },
  {
   "cell_type": "markdown",
   "metadata": {},
   "source": [
    "**Se quisermos o modelo com melhor precisão de previsão e tivermos capacidade computacional para suportal tal feito usaremos o modelo de RandomForest.**\n",
    "\n",
    "**Caso não tenhamos tal poder, usaremos o DecisionTreeClassifier com o hiperparametro max_depth = 10 e min_samples_leaf = 2**"
   ]
  }
 ],
 "metadata": {
  "ExecuteTimeLog": [
   {
    "duration": 170,
    "start_time": "2025-02-18T18:28:22.487Z"
   },
   {
    "duration": 326,
    "start_time": "2025-02-18T18:28:34.518Z"
   },
   {
    "duration": 374,
    "start_time": "2025-02-18T18:28:36.090Z"
   },
   {
    "duration": 60,
    "start_time": "2025-02-18T18:30:34.370Z"
   },
   {
    "duration": 99,
    "start_time": "2025-02-18T18:44:13.871Z"
   },
   {
    "duration": 58,
    "start_time": "2025-02-18T18:46:12.949Z"
   },
   {
    "duration": 16,
    "start_time": "2025-02-18T18:46:19.669Z"
   },
   {
    "duration": 11,
    "start_time": "2025-02-18T18:47:24.844Z"
   },
   {
    "duration": 616,
    "start_time": "2025-02-18T18:50:53.104Z"
   },
   {
    "duration": 3,
    "start_time": "2025-02-18T18:51:23.698Z"
   },
   {
    "duration": 19,
    "start_time": "2025-02-18T18:54:12.245Z"
   },
   {
    "duration": 13,
    "start_time": "2025-02-18T18:54:44.465Z"
   },
   {
    "duration": 681,
    "start_time": "2025-02-18T18:58:03.847Z"
   },
   {
    "duration": 37,
    "start_time": "2025-02-18T18:58:28.260Z"
   },
   {
    "duration": 22,
    "start_time": "2025-02-18T18:58:47.918Z"
   },
   {
    "duration": 7,
    "start_time": "2025-02-18T18:58:53.760Z"
   },
   {
    "duration": 8,
    "start_time": "2025-02-18T19:00:13.575Z"
   },
   {
    "duration": 14,
    "start_time": "2025-02-18T19:06:15.567Z"
   },
   {
    "duration": 3,
    "start_time": "2025-02-18T19:20:00.089Z"
   },
   {
    "duration": 21,
    "start_time": "2025-02-18T19:24:53.827Z"
   },
   {
    "duration": 4,
    "start_time": "2025-02-18T19:24:58.534Z"
   },
   {
    "duration": 20,
    "start_time": "2025-02-18T19:25:00.403Z"
   },
   {
    "duration": 226,
    "start_time": "2025-02-18T19:25:56.427Z"
   },
   {
    "duration": 109,
    "start_time": "2025-02-18T19:26:37.379Z"
   },
   {
    "duration": 118,
    "start_time": "2025-02-18T19:28:29.072Z"
   },
   {
    "duration": 20,
    "start_time": "2025-02-18T19:28:50.927Z"
   },
   {
    "duration": 99,
    "start_time": "2025-02-18T19:29:08.541Z"
   },
   {
    "duration": 7,
    "start_time": "2025-02-18T20:16:49.135Z"
   },
   {
    "duration": 779,
    "start_time": "2025-02-18T20:17:15.009Z"
   },
   {
    "duration": 9,
    "start_time": "2025-02-18T20:17:15.790Z"
   },
   {
    "duration": 12,
    "start_time": "2025-02-18T20:17:15.800Z"
   },
   {
    "duration": 6,
    "start_time": "2025-02-18T20:17:15.813Z"
   },
   {
    "duration": 129,
    "start_time": "2025-02-18T20:17:15.822Z"
   },
   {
    "duration": 254,
    "start_time": "2025-02-18T20:29:36.873Z"
   },
   {
    "duration": 16104,
    "start_time": "2025-02-18T20:29:51.067Z"
   },
   {
    "duration": 16211,
    "start_time": "2025-02-18T20:31:52.139Z"
   },
   {
    "duration": 14,
    "start_time": "2025-02-19T00:26:16.035Z"
   },
   {
    "duration": 762,
    "start_time": "2025-02-19T00:26:39.560Z"
   },
   {
    "duration": 10,
    "start_time": "2025-02-19T00:26:40.324Z"
   },
   {
    "duration": 12,
    "start_time": "2025-02-19T00:26:40.335Z"
   },
   {
    "duration": 6,
    "start_time": "2025-02-19T00:26:40.349Z"
   },
   {
    "duration": 133,
    "start_time": "2025-02-19T00:26:40.358Z"
   },
   {
    "duration": 16099,
    "start_time": "2025-02-19T00:26:40.493Z"
   },
   {
    "duration": 230,
    "start_time": "2025-02-19T00:26:56.594Z"
   },
   {
    "duration": 19,
    "start_time": "2025-02-19T00:27:21.496Z"
   },
   {
    "duration": 9,
    "start_time": "2025-02-19T00:27:28.711Z"
   },
   {
    "duration": 5,
    "start_time": "2025-02-19T00:34:42.326Z"
   },
   {
    "duration": 5,
    "start_time": "2025-02-19T00:34:53.671Z"
   },
   {
    "duration": 798,
    "start_time": "2025-02-19T00:35:35.220Z"
   },
   {
    "duration": 8,
    "start_time": "2025-02-19T00:35:36.021Z"
   },
   {
    "duration": 10,
    "start_time": "2025-02-19T00:35:36.030Z"
   },
   {
    "duration": 6,
    "start_time": "2025-02-19T00:35:36.041Z"
   },
   {
    "duration": 133,
    "start_time": "2025-02-19T00:35:36.050Z"
   },
   {
    "duration": 5,
    "start_time": "2025-02-19T00:35:36.185Z"
   },
   {
    "duration": 16086,
    "start_time": "2025-02-19T00:35:36.191Z"
   },
   {
    "duration": 15,
    "start_time": "2025-02-19T00:35:52.278Z"
   },
   {
    "duration": 18,
    "start_time": "2025-02-19T00:35:52.295Z"
   },
   {
    "duration": 5,
    "start_time": "2025-02-19T00:35:52.314Z"
   },
   {
    "duration": 353,
    "start_time": "2025-02-19T00:48:56.373Z"
   },
   {
    "duration": 114,
    "start_time": "2025-02-19T00:49:10.012Z"
   },
   {
    "duration": 112,
    "start_time": "2025-02-19T00:50:35.015Z"
   },
   {
    "duration": 809,
    "start_time": "2025-02-19T00:59:58.129Z"
   },
   {
    "duration": 10,
    "start_time": "2025-02-19T00:59:58.941Z"
   },
   {
    "duration": 12,
    "start_time": "2025-02-19T00:59:58.952Z"
   },
   {
    "duration": 7,
    "start_time": "2025-02-19T00:59:58.966Z"
   },
   {
    "duration": 128,
    "start_time": "2025-02-19T00:59:58.975Z"
   },
   {
    "duration": 4,
    "start_time": "2025-02-19T00:59:59.105Z"
   },
   {
    "duration": 16096,
    "start_time": "2025-02-19T00:59:59.111Z"
   },
   {
    "duration": 18,
    "start_time": "2025-02-19T01:00:15.209Z"
   },
   {
    "duration": 11,
    "start_time": "2025-02-19T01:00:15.228Z"
   },
   {
    "duration": 5,
    "start_time": "2025-02-19T01:00:15.241Z"
   },
   {
    "duration": 9,
    "start_time": "2025-02-19T01:02:04.791Z"
   },
   {
    "duration": 19,
    "start_time": "2025-02-19T01:02:16.139Z"
   },
   {
    "duration": 792,
    "start_time": "2025-02-19T14:30:14.507Z"
   },
   {
    "duration": 11,
    "start_time": "2025-02-19T14:30:15.301Z"
   },
   {
    "duration": 13,
    "start_time": "2025-02-19T14:30:15.314Z"
   },
   {
    "duration": 8,
    "start_time": "2025-02-19T14:30:15.329Z"
   },
   {
    "duration": 16,
    "start_time": "2025-02-19T14:30:15.339Z"
   },
   {
    "duration": 3,
    "start_time": "2025-02-19T14:30:21.892Z"
   },
   {
    "duration": 5,
    "start_time": "2025-02-19T14:30:30.834Z"
   },
   {
    "duration": 4,
    "start_time": "2025-02-19T14:31:18.216Z"
   },
   {
    "duration": 4,
    "start_time": "2025-02-19T14:31:39.236Z"
   },
   {
    "duration": 127,
    "start_time": "2025-02-19T14:31:44.556Z"
   },
   {
    "duration": 12,
    "start_time": "2025-02-19T14:32:41.372Z"
   },
   {
    "duration": 7,
    "start_time": "2025-02-19T14:32:56.296Z"
   },
   {
    "duration": 5,
    "start_time": "2025-02-19T14:36:14.245Z"
   },
   {
    "duration": 11,
    "start_time": "2025-02-19T14:41:33.878Z"
   },
   {
    "duration": 482,
    "start_time": "2025-02-19T14:41:52.037Z"
   },
   {
    "duration": 19,
    "start_time": "2025-02-19T14:42:09.866Z"
   },
   {
    "duration": 18,
    "start_time": "2025-02-19T14:42:25.549Z"
   },
   {
    "duration": 7,
    "start_time": "2025-02-19T14:48:30.209Z"
   },
   {
    "duration": 7,
    "start_time": "2025-02-19T14:49:06.608Z"
   },
   {
    "duration": 7,
    "start_time": "2025-02-19T14:49:11.916Z"
   },
   {
    "duration": 7,
    "start_time": "2025-02-19T14:49:40.097Z"
   },
   {
    "duration": 3,
    "start_time": "2025-02-19T15:00:29.742Z"
   },
   {
    "duration": 5,
    "start_time": "2025-02-19T15:02:59.720Z"
   },
   {
    "duration": 12,
    "start_time": "2025-02-19T17:07:10.930Z"
   },
   {
    "duration": 7,
    "start_time": "2025-02-19T17:07:16.422Z"
   },
   {
    "duration": 9,
    "start_time": "2025-02-19T17:07:30.053Z"
   },
   {
    "duration": 31,
    "start_time": "2025-02-19T17:27:45.835Z"
   },
   {
    "duration": 5,
    "start_time": "2025-02-19T17:27:50.247Z"
   },
   {
    "duration": 5,
    "start_time": "2025-02-19T17:47:58.444Z"
   },
   {
    "duration": 31133,
    "start_time": "2025-02-19T18:03:01.240Z"
   },
   {
    "duration": 0,
    "start_time": "2025-02-19T18:06:29.887Z"
   },
   {
    "duration": 0,
    "start_time": "2025-02-19T18:06:29.888Z"
   },
   {
    "duration": 136,
    "start_time": "2025-02-19T18:06:37.466Z"
   },
   {
    "duration": 201923,
    "start_time": "2025-02-19T18:07:07.034Z"
   },
   {
    "duration": 17,
    "start_time": "2025-02-19T18:17:19.266Z"
   },
   {
    "duration": 161551,
    "start_time": "2025-02-19T18:18:18.965Z"
   },
   {
    "duration": 0,
    "start_time": "2025-02-19T18:21:00.519Z"
   },
   {
    "duration": 44059,
    "start_time": "2025-02-19T18:21:11.427Z"
   },
   {
    "duration": 23518,
    "start_time": "2025-02-19T18:22:00.319Z"
   },
   {
    "duration": 9390,
    "start_time": "2025-02-19T18:22:39.359Z"
   },
   {
    "duration": 864,
    "start_time": "2025-02-19T18:25:59.126Z"
   },
   {
    "duration": 10,
    "start_time": "2025-02-19T18:25:59.993Z"
   },
   {
    "duration": 13,
    "start_time": "2025-02-19T18:26:00.013Z"
   },
   {
    "duration": 8,
    "start_time": "2025-02-19T18:26:00.028Z"
   },
   {
    "duration": 10,
    "start_time": "2025-02-19T18:26:00.040Z"
   },
   {
    "duration": 5,
    "start_time": "2025-02-19T18:26:00.052Z"
   },
   {
    "duration": 19,
    "start_time": "2025-02-19T18:26:00.060Z"
   },
   {
    "duration": 43,
    "start_time": "2025-02-19T18:26:00.081Z"
   },
   {
    "duration": 6,
    "start_time": "2025-02-19T18:26:00.126Z"
   },
   {
    "duration": 6,
    "start_time": "2025-02-19T18:26:00.133Z"
   },
   {
    "duration": 9,
    "start_time": "2025-02-19T18:26:00.142Z"
   },
   {
    "duration": 15,
    "start_time": "2025-02-19T18:26:00.152Z"
   },
   {
    "duration": 581,
    "start_time": "2025-02-19T18:26:00.169Z"
   },
   {
    "duration": 4,
    "start_time": "2025-02-19T18:26:00.754Z"
   },
   {
    "duration": 9145,
    "start_time": "2025-02-19T18:26:00.760Z"
   },
   {
    "duration": 389,
    "start_time": "2025-02-19T18:26:09.906Z"
   },
   {
    "duration": 0,
    "start_time": "2025-02-19T18:26:10.297Z"
   },
   {
    "duration": 0,
    "start_time": "2025-02-19T18:26:10.298Z"
   },
   {
    "duration": 62,
    "start_time": "2025-02-19T18:26:48.091Z"
   },
   {
    "duration": 5,
    "start_time": "2025-02-19T18:38:15.764Z"
   },
   {
    "duration": 21,
    "start_time": "2025-02-19T18:45:25.735Z"
   },
   {
    "duration": 3,
    "start_time": "2025-02-19T18:46:17.864Z"
   },
   {
    "duration": 323,
    "start_time": "2025-02-19T18:46:32.631Z"
   },
   {
    "duration": 248,
    "start_time": "2025-02-19T18:48:19.643Z"
   },
   {
    "duration": 374,
    "start_time": "2025-02-19T18:55:19.647Z"
   },
   {
    "duration": 48,
    "start_time": "2025-02-19T18:55:35.593Z"
   },
   {
    "duration": 12,
    "start_time": "2025-02-19T18:56:17.322Z"
   },
   {
    "duration": 129,
    "start_time": "2025-02-19T18:59:19.933Z"
   },
   {
    "duration": 12,
    "start_time": "2025-02-19T19:00:26.137Z"
   },
   {
    "duration": 89,
    "start_time": "2025-02-19T19:00:30.505Z"
   },
   {
    "duration": 46,
    "start_time": "2025-02-19T19:05:13.083Z"
   },
   {
    "duration": 60,
    "start_time": "2025-02-19T19:05:23.246Z"
   },
   {
    "duration": 378,
    "start_time": "2025-02-19T19:07:36.096Z"
   },
   {
    "duration": 36,
    "start_time": "2025-02-19T19:08:31.955Z"
   },
   {
    "duration": 37,
    "start_time": "2025-02-19T19:09:00.601Z"
   },
   {
    "duration": 13,
    "start_time": "2025-02-19T19:18:41.296Z"
   },
   {
    "duration": 375,
    "start_time": "2025-02-19T19:20:17.138Z"
   },
   {
    "duration": 9063,
    "start_time": "2025-02-19T19:28:39.797Z"
   }
  ],
  "kernelspec": {
   "display_name": "Python 3 (ipykernel)",
   "language": "python",
   "name": "python3"
  },
  "language_info": {
   "codemirror_mode": {
    "name": "ipython",
    "version": 3
   },
   "file_extension": ".py",
   "mimetype": "text/x-python",
   "name": "python",
   "nbconvert_exporter": "python",
   "pygments_lexer": "ipython3",
   "version": "3.9.19"
  },
  "toc": {
   "base_numbering": 1,
   "nav_menu": {},
   "number_sections": true,
   "sideBar": true,
   "skip_h1_title": true,
   "title_cell": "Table of Contents",
   "title_sidebar": "Contents",
   "toc_cell": false,
   "toc_position": {},
   "toc_section_display": true,
   "toc_window_display": false
  }
 },
 "nbformat": 4,
 "nbformat_minor": 2
}
