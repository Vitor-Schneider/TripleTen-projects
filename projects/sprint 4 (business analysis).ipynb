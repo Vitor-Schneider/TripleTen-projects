{
 "cells": [
  {
   "cell_type": "markdown",
   "metadata": {},
   "source": [
    "<div>\n",
    "Olá, Vitor!\n",
    "\n",
    "Meu nome é Luiz. Fico feliz em revisar seu projeto. Ao longo do texto farei algumas observações sobre melhorias no código e também farei comentários sobre suas percepções sobre o assunto. Estarei aberto a feedbacks e discussões sobre o tema.\n",
    "\n",
    "**Peço que mantenha e não altere os comentários que eu fizer por aqui para que possamos nos localizar posteriormente, ok?**\n",
    "\n",
    "Mais uma coisa, vamos utilizar um código de cores para você entender o meu feedback no seu notebook. Funciona assim:\n",
    "\n",
    "<div class=\"alert alert-block alert-success\">\n",
    "<b> Comentário do revisor: </b> <a class=\"tocSkip\"></a>\n",
    "\n",
    "Sucesso. Tudo foi feito corretamente.\n",
    "</div>\n",
    "\n",
    "<div class=\"alert alert-block alert-warning\">\n",
    "<b>Comentário do revisor: </b> <a class=\"tocSkip\"></a>\n",
    "\n",
    "Alerta não crítico, mas que pode ser corrigido para melhoria geral no seu código/análise.\n",
    "</div>\n",
    "\n",
    "<div class=\"alert alert-block alert-danger\">\n",
    "\n",
    "<b>Comentário do revisor: </b> <a class=\"tocSkip\"></a>\n",
    "    \n",
    "Erro que precisa ser arrumado, caso contrário seu projeto **não** será aceito.\n",
    "</div>\n",
    "\n",
    "Você pode interagir comigo através dessa célula:\n",
    "<div class=\"alert alert-block alert-info\">\n",
    "<b>Resposta do Aluno.</b> <a class=\"tocSkip\"></a>\n",
    "</div>"
   ]
  },
  {
   "cell_type": "markdown",
   "metadata": {},
   "source": [
    "<div class=\"alert alert-block alert-danger\">\n",
    "<b> Comentário geral do revisor v1</b> <a class=\"tocSkip\"></a>\n",
    "<s>\n",
    "    \n",
    "Obrigado por enviar o seu projeto e pelo esforço de chegar até aqui. O seu projeto possui alguns pontos bem interessantes, dos quais eu destaco:\n",
    "    \n",
    "- Código bem simples e estruturado \n",
    "- Comentários sucintos e bem objetivos\n",
    "- Análises bem detalhadas em cada etapa do projeto\n",
    "    \n",
    "Entretanto, deixei alguns comentários em alguns trechos que precisam de ajuste. Peço que trabalhe nesses pontos para avançarmos.\n",
    "    \n",
    "Qualquer dúvida, pode contar comigo.   \n",
    "    \n",
    "    \n",
    "**Até breve!**\n",
    "</s>\n",
    "</div>"
   ]
  },
  {
   "cell_type": "markdown",
   "metadata": {},
   "source": [
    "<div class=\"alert alert-block alert-success\">\n",
    "<b> Comentário geral do revisor v2</b> <a class=\"tocSkip\"></a>\n",
    "\n",
    "Obrigado por enviar o seu projeto e fazer os ajustes sugeridos. Essa versão do seu trabalho ficou muito melhor! Espero que as sugestões sejam relevantes para projetos futuros.\n",
    "    \n",
    "<br>\n",
    "Te desejo uma jornada de muito sucesso e aprendizado.\n",
    "    \n",
    "<br>   \n",
    "    \n",
    "Qualquer dúvida, pode contar comigo.   \n",
    "    \n",
    "<br>  \n",
    "    \n",
    "**Até breve!**\n",
    "\n",
    "</div>"
   ]
  },
  {
   "cell_type": "markdown",
   "metadata": {
    "id": "eAkbw7Ueuj8X"
   },
   "source": [
    "# Qual é o melhor plano?\n",
    "\n",
    "Você trabalha como analista para a empresa de telecomunicações Megaline. A empresa oferece aos clientes dois planos pré-pagos: Surf e Ultimate. O departamento comercial quer saber qual dos planos gera mais receita para ajustar o orçamento de publicidade.\n",
    "\n",
    "Você vai realizar uma análise preliminar dos planos com base em uma pequena seleção de clientes. Você terá dados de 500 clientes da Megaline: que clientes são, de onde eles são, qual plano usam e o número de chamadas e mensagens realizadas em 2018. Seu trabalho é analisar o comportamento dos clientes e determinar qual plano pré-pago gera mais receita."
   ]
  },
  {
   "cell_type": "markdown",
   "metadata": {},
   "source": [
    "<div style=\"background-color: lightblue; color: black; padding: 10px;\">\n",
    " \n",
    "Neste projeto iremos verificar qual dos 2 planos da empresa geram mais receita à empresa para dar um direcionamento e foco maior na publicidade através de testes de hipóteses com níveis de confiança maiores que 95%.    \n",
    "    \n",
    "</div>\n",
    "\n",
    " "
   ]
  },
  {
   "cell_type": "markdown",
   "metadata": {
    "id": "lnomf-3Xuj8b"
   },
   "source": [
    "## Inicialização"
   ]
  },
  {
   "cell_type": "code",
   "execution_count": 1,
   "metadata": {
    "id": "JdJusn5ouj8c"
   },
   "outputs": [],
   "source": [
    "# Carregando todas as bibliotecas\n",
    "import pandas as pd\n",
    "import numpy as np\n",
    "from scipy import stats as st\n",
    "import matplotlib.pyplot as plt\n",
    "import seaborn as sns\n"
   ]
  },
  {
   "cell_type": "markdown",
   "metadata": {
    "id": "rzqsCrgquj8d"
   },
   "source": [
    "## Carregue os dados"
   ]
  },
  {
   "cell_type": "code",
   "execution_count": 2,
   "metadata": {
    "id": "HmzmQRXIuj8e"
   },
   "outputs": [],
   "source": [
    "# Carregue os arquivos de dados em diferentes DataFrames\n",
    "call = pd.read_csv('/datasets/megaline_calls.csv')\n",
    "internet = pd.read_csv('/datasets/megaline_internet.csv')\n",
    "msg = pd.read_csv('/datasets/megaline_messages.csv')\n",
    "plan = pd.read_csv('/datasets/megaline_plans.csv')\n",
    "user =pd.read_csv('/datasets/megaline_users.csv')"
   ]
  },
  {
   "cell_type": "markdown",
   "metadata": {},
   "source": [
    "<div class=\"alert alert-block alert-success\">\n",
    "<b> Comentário do revisor: </b> <a class=\"tocSkip\"></a>\n",
    "    \n",
    "- Os conjuntos de dados foram carregados corretamente\n",
    "- O import das bibliotecas foi feito de forma correta e em uma célula separada.\n",
    "</div>"
   ]
  },
  {
   "cell_type": "markdown",
   "metadata": {
    "id": "XQh-EeiIuj8e"
   },
   "source": [
    "## Prepare os dados"
   ]
  },
  {
   "cell_type": "code",
   "execution_count": 3,
   "metadata": {},
   "outputs": [
    {
     "name": "stdout",
     "output_type": "stream",
     "text": [
      "0\n",
      "\n",
      "\n",
      "0\n",
      "\n",
      "\n",
      "0\n",
      "\n",
      "\n",
      "0\n",
      "\n",
      "\n",
      "0\n"
     ]
    }
   ],
   "source": [
    "print(call.duplicated().sum())\n",
    "print('\\n')\n",
    "print(internet.duplicated().sum())\n",
    "print('\\n')\n",
    "print(plan.duplicated().sum())\n",
    "print('\\n')\n",
    "print(msg.duplicated().sum())\n",
    "print('\\n')\n",
    "print(user.duplicated().sum())"
   ]
  },
  {
   "cell_type": "markdown",
   "metadata": {
    "id": "TlZUw_Cyuj8f"
   },
   "source": [
    "## Planos"
   ]
  },
  {
   "cell_type": "code",
   "execution_count": 4,
   "metadata": {
    "id": "x9qB5mAOuj8f"
   },
   "outputs": [
    {
     "name": "stdout",
     "output_type": "stream",
     "text": [
      "<class 'pandas.core.frame.DataFrame'>\n",
      "RangeIndex: 2 entries, 0 to 1\n",
      "Data columns (total 8 columns):\n",
      " #   Column                 Non-Null Count  Dtype  \n",
      "---  ------                 --------------  -----  \n",
      " 0   messages_included      2 non-null      int64  \n",
      " 1   mb_per_month_included  2 non-null      int64  \n",
      " 2   minutes_included       2 non-null      int64  \n",
      " 3   usd_monthly_pay        2 non-null      int64  \n",
      " 4   usd_per_gb             2 non-null      int64  \n",
      " 5   usd_per_message        2 non-null      float64\n",
      " 6   usd_per_minute         2 non-null      float64\n",
      " 7   plan_name              2 non-null      object \n",
      "dtypes: float64(2), int64(5), object(1)\n",
      "memory usage: 256.0+ bytes\n",
      "DATAFRAM PLAN None\n",
      "\n",
      "\n",
      "        messages_included  mb_per_month_included  minutes_included  \\\n",
      "count            2.000000               2.000000          2.000000   \n",
      "unique                NaN                    NaN               NaN   \n",
      "top                   NaN                    NaN               NaN   \n",
      "freq                  NaN                    NaN               NaN   \n",
      "mean           525.000000           23040.000000       1750.000000   \n",
      "std            671.751442           10861.160159       1767.766953   \n",
      "min             50.000000           15360.000000        500.000000   \n",
      "25%            287.500000           19200.000000       1125.000000   \n",
      "50%            525.000000           23040.000000       1750.000000   \n",
      "75%            762.500000           26880.000000       2375.000000   \n",
      "max           1000.000000           30720.000000       3000.000000   \n",
      "\n",
      "        usd_monthly_pay  usd_per_gb  usd_per_message  usd_per_minute plan_name  \n",
      "count          2.000000     2.00000         2.000000        2.000000         2  \n",
      "unique              NaN         NaN              NaN             NaN         2  \n",
      "top                 NaN         NaN              NaN             NaN  ultimate  \n",
      "freq                NaN         NaN              NaN             NaN         1  \n",
      "mean          45.000000     8.50000         0.020000        0.020000       NaN  \n",
      "std           35.355339     2.12132         0.014142        0.014142       NaN  \n",
      "min           20.000000     7.00000         0.010000        0.010000       NaN  \n",
      "25%           32.500000     7.75000         0.015000        0.015000       NaN  \n",
      "50%           45.000000     8.50000         0.020000        0.020000       NaN  \n",
      "75%           57.500000     9.25000         0.025000        0.025000       NaN  \n",
      "max           70.000000    10.00000         0.030000        0.030000       NaN  \n"
     ]
    }
   ],
   "source": [
    "# Imprima informações gerais/resumo sobre o DataFrame dos planos\n",
    "print('DATAFRAM PLAN', plan.info())\n",
    "print('\\n')\n",
    "print(plan.describe(include='all'))\n"
   ]
  },
  {
   "cell_type": "code",
   "execution_count": 5,
   "metadata": {
    "id": "9MRo7tyVuj8f"
   },
   "outputs": [
    {
     "data": {
      "text/html": [
       "<div>\n",
       "<style scoped>\n",
       "    .dataframe tbody tr th:only-of-type {\n",
       "        vertical-align: middle;\n",
       "    }\n",
       "\n",
       "    .dataframe tbody tr th {\n",
       "        vertical-align: top;\n",
       "    }\n",
       "\n",
       "    .dataframe thead th {\n",
       "        text-align: right;\n",
       "    }\n",
       "</style>\n",
       "<table border=\"1\" class=\"dataframe\">\n",
       "  <thead>\n",
       "    <tr style=\"text-align: right;\">\n",
       "      <th></th>\n",
       "      <th>messages_included</th>\n",
       "      <th>mb_per_month_included</th>\n",
       "      <th>minutes_included</th>\n",
       "      <th>usd_monthly_pay</th>\n",
       "      <th>usd_per_gb</th>\n",
       "      <th>usd_per_message</th>\n",
       "      <th>usd_per_minute</th>\n",
       "      <th>plan_name</th>\n",
       "    </tr>\n",
       "  </thead>\n",
       "  <tbody>\n",
       "    <tr>\n",
       "      <th>0</th>\n",
       "      <td>50</td>\n",
       "      <td>15360</td>\n",
       "      <td>500</td>\n",
       "      <td>20</td>\n",
       "      <td>10</td>\n",
       "      <td>0.03</td>\n",
       "      <td>0.03</td>\n",
       "      <td>surf</td>\n",
       "    </tr>\n",
       "    <tr>\n",
       "      <th>1</th>\n",
       "      <td>1000</td>\n",
       "      <td>30720</td>\n",
       "      <td>3000</td>\n",
       "      <td>70</td>\n",
       "      <td>7</td>\n",
       "      <td>0.01</td>\n",
       "      <td>0.01</td>\n",
       "      <td>ultimate</td>\n",
       "    </tr>\n",
       "  </tbody>\n",
       "</table>\n",
       "</div>"
      ],
      "text/plain": [
       "   messages_included  mb_per_month_included  minutes_included  \\\n",
       "0                 50                  15360               500   \n",
       "1               1000                  30720              3000   \n",
       "\n",
       "   usd_monthly_pay  usd_per_gb  usd_per_message  usd_per_minute plan_name  \n",
       "0               20          10             0.03            0.03      surf  \n",
       "1               70           7             0.01            0.01  ultimate  "
      ]
     },
     "execution_count": 5,
     "metadata": {},
     "output_type": "execute_result"
    }
   ],
   "source": [
    "# Imprima uma amostra de dados dos planos\n",
    "plan.head()\n",
    "\n"
   ]
  },
  {
   "cell_type": "markdown",
   "metadata": {
    "id": "P8hzr-lquj8f"
   },
   "source": [
    "<div style=\"background-color: lightblue; color: black; padding: 10px;\">\n",
    "    \n",
    "\n",
    "    \n",
    "</div>"
   ]
  },
  {
   "cell_type": "markdown",
   "metadata": {},
   "source": [
    "<div class=\"alert alert-block alert-success\">\n",
    "<b> Comentário do revisor: </b> <a class=\"tocSkip\"></a>\n",
    "    \n",
    "- Os métodos `info()` e `head()` foram utilizados para estudo inicial do conjunto de dados\n",
    "</div>"
   ]
  },
  {
   "cell_type": "markdown",
   "metadata": {
    "id": "KXtaxmKsuj8f"
   },
   "source": [
    "## Corrija os dados"
   ]
  },
  {
   "cell_type": "code",
   "execution_count": 6,
   "metadata": {
    "id": "Hen8bhG1uj8g"
   },
   "outputs": [
    {
     "data": {
      "text/html": [
       "<div>\n",
       "<style scoped>\n",
       "    .dataframe tbody tr th:only-of-type {\n",
       "        vertical-align: middle;\n",
       "    }\n",
       "\n",
       "    .dataframe tbody tr th {\n",
       "        vertical-align: top;\n",
       "    }\n",
       "\n",
       "    .dataframe thead th {\n",
       "        text-align: right;\n",
       "    }\n",
       "</style>\n",
       "<table border=\"1\" class=\"dataframe\">\n",
       "  <thead>\n",
       "    <tr style=\"text-align: right;\">\n",
       "      <th></th>\n",
       "      <th>messages_included</th>\n",
       "      <th>gb_per_month_included</th>\n",
       "      <th>minutes_included</th>\n",
       "      <th>usd_monthly_pay</th>\n",
       "      <th>usd_per_gb</th>\n",
       "      <th>usd_per_message</th>\n",
       "      <th>usd_per_minute</th>\n",
       "      <th>plan_name</th>\n",
       "    </tr>\n",
       "  </thead>\n",
       "  <tbody>\n",
       "    <tr>\n",
       "      <th>0</th>\n",
       "      <td>50</td>\n",
       "      <td>15.0</td>\n",
       "      <td>500</td>\n",
       "      <td>20</td>\n",
       "      <td>10</td>\n",
       "      <td>0.03</td>\n",
       "      <td>0.03</td>\n",
       "      <td>surf</td>\n",
       "    </tr>\n",
       "    <tr>\n",
       "      <th>1</th>\n",
       "      <td>1000</td>\n",
       "      <td>30.0</td>\n",
       "      <td>3000</td>\n",
       "      <td>70</td>\n",
       "      <td>7</td>\n",
       "      <td>0.01</td>\n",
       "      <td>0.01</td>\n",
       "      <td>ultimate</td>\n",
       "    </tr>\n",
       "  </tbody>\n",
       "</table>\n",
       "</div>"
      ],
      "text/plain": [
       "   messages_included  gb_per_month_included  minutes_included  \\\n",
       "0                 50                   15.0               500   \n",
       "1               1000                   30.0              3000   \n",
       "\n",
       "   usd_monthly_pay  usd_per_gb  usd_per_message  usd_per_minute plan_name  \n",
       "0               20          10             0.03            0.03      surf  \n",
       "1               70           7             0.01            0.01  ultimate  "
      ]
     },
     "execution_count": 6,
     "metadata": {},
     "output_type": "execute_result"
    }
   ],
   "source": [
    "plan.rename(columns={'mb_per_month_included': 'gb_per_month_included'}, inplace=True)\n",
    "plan['gb_per_month_included'] = plan['gb_per_month_included'] / 1024\n",
    "    \n",
    "\n",
    "plan"
   ]
  },
  {
   "cell_type": "markdown",
   "metadata": {},
   "source": [
    "<div class=\"alert alert-block alert-danger\">\n",
    "<b> Comentário do revisor: </b> <a class=\"tocSkip\"></a>\n",
    "    \n",
    "<s>- Aqui o ideal é transformar para `gb` usando a fórmula, evitando preenchimento manual de valores.</s>\n",
    "</div>"
   ]
  },
  {
   "cell_type": "markdown",
   "metadata": {
    "id": "kLcdKu6Duj8g"
   },
   "source": [
    "## Enriqueça os dados"
   ]
  },
  {
   "cell_type": "markdown",
   "metadata": {
    "id": "6j4XA9_ruj8g"
   },
   "source": [
    "<div class=\"alert alert-block alert-danger\">\n",
    "<b> Comentário do revisor: </b> <a class=\"tocSkip\"></a>\n",
    "    \n",
    "<s>- Aqui você precisa justificar, mesmo não fazendo transformação dos dados.</s>\n",
    "</div>"
   ]
  },
  {
   "cell_type": "markdown",
   "metadata": {},
   "source": [
    "<div class=\"alert alert-block alert-info\">\n",
    "a tabela é muito sucinta, a princípio ela parece ter tudo que preciso, caso eu precise de alguma informaçao extra mais a frente eu farei mudanças\n",
    "</div>"
   ]
  },
  {
   "cell_type": "markdown",
   "metadata": {
    "id": "YJg2O9qjuj8g"
   },
   "source": [
    "## Usuários"
   ]
  },
  {
   "cell_type": "code",
   "execution_count": 7,
   "metadata": {
    "id": "7JzxwD2juj8g"
   },
   "outputs": [
    {
     "name": "stdout",
     "output_type": "stream",
     "text": [
      "<class 'pandas.core.frame.DataFrame'>\n",
      "RangeIndex: 500 entries, 0 to 499\n",
      "Data columns (total 8 columns):\n",
      " #   Column      Non-Null Count  Dtype \n",
      "---  ------      --------------  ----- \n",
      " 0   user_id     500 non-null    int64 \n",
      " 1   first_name  500 non-null    object\n",
      " 2   last_name   500 non-null    object\n",
      " 3   age         500 non-null    int64 \n",
      " 4   city        500 non-null    object\n",
      " 5   reg_date    500 non-null    object\n",
      " 6   plan        500 non-null    object\n",
      " 7   churn_date  34 non-null     object\n",
      "dtypes: int64(2), object(6)\n",
      "memory usage: 31.4+ KB\n",
      "DATAFRAME USER None\n",
      "\n",
      "\n",
      "            user_id first_name  last_name         age  \\\n",
      "count    500.000000        500        500  500.000000   \n",
      "unique          NaN        458        399         NaN   \n",
      "top             NaN    Seymour  Wilkinson         NaN   \n",
      "freq            NaN          3          3         NaN   \n",
      "mean    1249.500000        NaN        NaN   45.486000   \n",
      "std      144.481833        NaN        NaN   16.972269   \n",
      "min     1000.000000        NaN        NaN   18.000000   \n",
      "25%     1124.750000        NaN        NaN   30.000000   \n",
      "50%     1249.500000        NaN        NaN   46.000000   \n",
      "75%     1374.250000        NaN        NaN   61.000000   \n",
      "max     1499.000000        NaN        NaN   75.000000   \n",
      "\n",
      "                                             city    reg_date  plan  \\\n",
      "count                                         500         500   500   \n",
      "unique                                         73         266     2   \n",
      "top     New York-Newark-Jersey City, NY-NJ-PA MSA  2018-06-04  surf   \n",
      "freq                                           80           5   339   \n",
      "mean                                          NaN         NaN   NaN   \n",
      "std                                           NaN         NaN   NaN   \n",
      "min                                           NaN         NaN   NaN   \n",
      "25%                                           NaN         NaN   NaN   \n",
      "50%                                           NaN         NaN   NaN   \n",
      "75%                                           NaN         NaN   NaN   \n",
      "max                                           NaN         NaN   NaN   \n",
      "\n",
      "        churn_date  \n",
      "count           34  \n",
      "unique          29  \n",
      "top     2018-12-18  \n",
      "freq             3  \n",
      "mean           NaN  \n",
      "std            NaN  \n",
      "min            NaN  \n",
      "25%            NaN  \n",
      "50%            NaN  \n",
      "75%            NaN  \n",
      "max            NaN  \n"
     ]
    }
   ],
   "source": [
    "# Imprima informações gerais/resumo sobre o DataFrame dos usuários\n",
    "print('DATAFRAME USER', user.info())\n",
    "print('\\n')\n",
    "print(user.describe(include='all'))"
   ]
  },
  {
   "cell_type": "code",
   "execution_count": 8,
   "metadata": {},
   "outputs": [
    {
     "data": {
      "text/plain": [
       "0"
      ]
     },
     "execution_count": 8,
     "metadata": {},
     "output_type": "execute_result"
    }
   ],
   "source": [
    "duplicated_rows = user[user[['first_name' ,'last_name']].duplicated(keep=False)] \n",
    "duplicated_rows.value_counts().sum()    #nenhuma linha duplicada"
   ]
  },
  {
   "cell_type": "code",
   "execution_count": 9,
   "metadata": {},
   "outputs": [
    {
     "data": {
      "text/plain": [
       "False    500\n",
       "Name: user_id, dtype: int64"
      ]
     },
     "execution_count": 9,
     "metadata": {},
     "output_type": "execute_result"
    }
   ],
   "source": [
    "user['user_id'].duplicated().value_counts() #nenhum id duplicado"
   ]
  },
  {
   "cell_type": "code",
   "execution_count": 10,
   "metadata": {
    "id": "5KZ8XmD8uj8g"
   },
   "outputs": [
    {
     "data": {
      "text/html": [
       "<div>\n",
       "<style scoped>\n",
       "    .dataframe tbody tr th:only-of-type {\n",
       "        vertical-align: middle;\n",
       "    }\n",
       "\n",
       "    .dataframe tbody tr th {\n",
       "        vertical-align: top;\n",
       "    }\n",
       "\n",
       "    .dataframe thead th {\n",
       "        text-align: right;\n",
       "    }\n",
       "</style>\n",
       "<table border=\"1\" class=\"dataframe\">\n",
       "  <thead>\n",
       "    <tr style=\"text-align: right;\">\n",
       "      <th></th>\n",
       "      <th>user_id</th>\n",
       "      <th>first_name</th>\n",
       "      <th>last_name</th>\n",
       "      <th>age</th>\n",
       "      <th>city</th>\n",
       "      <th>reg_date</th>\n",
       "      <th>plan</th>\n",
       "      <th>churn_date</th>\n",
       "    </tr>\n",
       "  </thead>\n",
       "  <tbody>\n",
       "    <tr>\n",
       "      <th>0</th>\n",
       "      <td>1000</td>\n",
       "      <td>Anamaria</td>\n",
       "      <td>Bauer</td>\n",
       "      <td>45</td>\n",
       "      <td>Atlanta-Sandy Springs-Roswell, GA MSA</td>\n",
       "      <td>2018-12-24</td>\n",
       "      <td>ultimate</td>\n",
       "      <td>NaN</td>\n",
       "    </tr>\n",
       "    <tr>\n",
       "      <th>1</th>\n",
       "      <td>1001</td>\n",
       "      <td>Mickey</td>\n",
       "      <td>Wilkerson</td>\n",
       "      <td>28</td>\n",
       "      <td>Seattle-Tacoma-Bellevue, WA MSA</td>\n",
       "      <td>2018-08-13</td>\n",
       "      <td>surf</td>\n",
       "      <td>NaN</td>\n",
       "    </tr>\n",
       "    <tr>\n",
       "      <th>2</th>\n",
       "      <td>1002</td>\n",
       "      <td>Carlee</td>\n",
       "      <td>Hoffman</td>\n",
       "      <td>36</td>\n",
       "      <td>Las Vegas-Henderson-Paradise, NV MSA</td>\n",
       "      <td>2018-10-21</td>\n",
       "      <td>surf</td>\n",
       "      <td>NaN</td>\n",
       "    </tr>\n",
       "    <tr>\n",
       "      <th>3</th>\n",
       "      <td>1003</td>\n",
       "      <td>Reynaldo</td>\n",
       "      <td>Jenkins</td>\n",
       "      <td>52</td>\n",
       "      <td>Tulsa, OK MSA</td>\n",
       "      <td>2018-01-28</td>\n",
       "      <td>surf</td>\n",
       "      <td>NaN</td>\n",
       "    </tr>\n",
       "    <tr>\n",
       "      <th>4</th>\n",
       "      <td>1004</td>\n",
       "      <td>Leonila</td>\n",
       "      <td>Thompson</td>\n",
       "      <td>40</td>\n",
       "      <td>Seattle-Tacoma-Bellevue, WA MSA</td>\n",
       "      <td>2018-05-23</td>\n",
       "      <td>surf</td>\n",
       "      <td>NaN</td>\n",
       "    </tr>\n",
       "  </tbody>\n",
       "</table>\n",
       "</div>"
      ],
      "text/plain": [
       "   user_id first_name  last_name  age                                   city  \\\n",
       "0     1000   Anamaria      Bauer   45  Atlanta-Sandy Springs-Roswell, GA MSA   \n",
       "1     1001     Mickey  Wilkerson   28        Seattle-Tacoma-Bellevue, WA MSA   \n",
       "2     1002     Carlee    Hoffman   36   Las Vegas-Henderson-Paradise, NV MSA   \n",
       "3     1003   Reynaldo    Jenkins   52                          Tulsa, OK MSA   \n",
       "4     1004    Leonila   Thompson   40        Seattle-Tacoma-Bellevue, WA MSA   \n",
       "\n",
       "     reg_date      plan churn_date  \n",
       "0  2018-12-24  ultimate        NaN  \n",
       "1  2018-08-13      surf        NaN  \n",
       "2  2018-10-21      surf        NaN  \n",
       "3  2018-01-28      surf        NaN  \n",
       "4  2018-05-23      surf        NaN  "
      ]
     },
     "execution_count": 10,
     "metadata": {},
     "output_type": "execute_result"
    }
   ],
   "source": [
    "# Imprima uma amostra de dados dos usuários\n",
    "user.head()\n",
    "\n",
    "# temos dados ausentes para serem corrigidos mas nenhum dado duplicado"
   ]
  },
  {
   "cell_type": "markdown",
   "metadata": {
    "id": "ppiEfe3luj8i"
   },
   "source": [
    "### Corrija os dados"
   ]
  },
  {
   "cell_type": "code",
   "execution_count": 11,
   "metadata": {
    "id": "Oa1XFooouj8j"
   },
   "outputs": [],
   "source": [
    "user['user_id']= user['user_id'].astype('category')\n",
    "\n",
    "user['reg_date'] = pd.to_datetime(user['reg_date'])"
   ]
  },
  {
   "cell_type": "markdown",
   "metadata": {},
   "source": [
    "<div class=\"alert alert-block alert-danger\">\n",
    "<b> Comentário do revisor: </b> <a class=\"tocSkip\"></a>\n",
    "<s>\n",
    "    \n",
    "- Aqui não podemos preencher os valores nulos do atributo `churn_date` com um valor inteiro, pois o tipo de dados original é uma data. Recomendo deixar esse atributo nesse formato e criar uma outra coluna com base nessa informação. Por exemplo, se o usuário já cancelou, o valor do atributo é `True` ou `False`, caso contrário.\n",
    "</s>\n",
    "</div>"
   ]
  },
  {
   "cell_type": "markdown",
   "metadata": {},
   "source": [
    "<div class=\"alert alert-block alert-info\">\n",
    "Nesse caso como eu ainda não sei se vou usar essa coluna mais a frente então seria uma boa ideia nem criar outra pra otimizar o tempo certo? apenas deixar ela nao preenchida mesmo\n",
    "</div>"
   ]
  },
  {
   "cell_type": "markdown",
   "metadata": {},
   "source": [
    "<div class=\"alert alert-block alert-success\">\n",
    "<b> Comentário do revisor v2: </b> <a class=\"tocSkip\"></a>\n",
    "\n",
    "Correto!\n",
    "</div>"
   ]
  },
  {
   "cell_type": "markdown",
   "metadata": {
    "id": "H3gpde3Juj8j"
   },
   "source": [
    "### Enriqueça os dados"
   ]
  },
  {
   "cell_type": "code",
   "execution_count": 12,
   "metadata": {},
   "outputs": [],
   "source": [
    "user['year_month'] = user['reg_date'].dt.to_period('M')\n",
    "user['estado'] = user['city'].str.split(',').str[1]\n",
    "user['estado'] = user['estado'].str.strip()"
   ]
  },
  {
   "cell_type": "code",
   "execution_count": 13,
   "metadata": {
    "id": "4vuUjT2juj8j"
   },
   "outputs": [
    {
     "data": {
      "text/plain": [
       "surf        339\n",
       "ultimate    161\n",
       "Name: plan, dtype: int64"
      ]
     },
     "execution_count": 13,
     "metadata": {},
     "output_type": "execute_result"
    }
   ],
   "source": [
    "user['plan'].value_counts()      #numero de usuarios em cada plano"
   ]
  },
  {
   "cell_type": "code",
   "execution_count": 14,
   "metadata": {},
   "outputs": [
    {
     "name": "stdout",
     "output_type": "stream",
     "text": [
      "NOVOS USUARIOS POR PLANO POR MES\n"
     ]
    },
    {
     "data": {
      "text/html": [
       "<div>\n",
       "<style scoped>\n",
       "    .dataframe tbody tr th:only-of-type {\n",
       "        vertical-align: middle;\n",
       "    }\n",
       "\n",
       "    .dataframe tbody tr th {\n",
       "        vertical-align: top;\n",
       "    }\n",
       "\n",
       "    .dataframe thead th {\n",
       "        text-align: right;\n",
       "    }\n",
       "</style>\n",
       "<table border=\"1\" class=\"dataframe\">\n",
       "  <thead>\n",
       "    <tr style=\"text-align: right;\">\n",
       "      <th></th>\n",
       "      <th>year_month</th>\n",
       "      <th>plan</th>\n",
       "      <th>count</th>\n",
       "    </tr>\n",
       "  </thead>\n",
       "  <tbody>\n",
       "    <tr>\n",
       "      <th>0</th>\n",
       "      <td>2018-01</td>\n",
       "      <td>surf</td>\n",
       "      <td>30</td>\n",
       "    </tr>\n",
       "    <tr>\n",
       "      <th>1</th>\n",
       "      <td>2018-01</td>\n",
       "      <td>ultimate</td>\n",
       "      <td>19</td>\n",
       "    </tr>\n",
       "    <tr>\n",
       "      <th>2</th>\n",
       "      <td>2018-02</td>\n",
       "      <td>surf</td>\n",
       "      <td>30</td>\n",
       "    </tr>\n",
       "    <tr>\n",
       "      <th>3</th>\n",
       "      <td>2018-02</td>\n",
       "      <td>ultimate</td>\n",
       "      <td>12</td>\n",
       "    </tr>\n",
       "    <tr>\n",
       "      <th>4</th>\n",
       "      <td>2018-03</td>\n",
       "      <td>surf</td>\n",
       "      <td>30</td>\n",
       "    </tr>\n",
       "  </tbody>\n",
       "</table>\n",
       "</div>"
      ],
      "text/plain": [
       "  year_month      plan  count\n",
       "0    2018-01      surf     30\n",
       "1    2018-01  ultimate     19\n",
       "2    2018-02      surf     30\n",
       "3    2018-02  ultimate     12\n",
       "4    2018-03      surf     30"
      ]
     },
     "execution_count": 14,
     "metadata": {},
     "output_type": "execute_result"
    }
   ],
   "source": [
    "x = user.groupby(['year_month', 'plan'])['user_id'].size().reset_index(name='count')  #usuarios registrados mes\n",
    "print('NOVOS USUARIOS POR PLANO POR MES')\n",
    "x.reset_index(drop = True)\n",
    "x.head()"
   ]
  },
  {
   "cell_type": "code",
   "execution_count": 15,
   "metadata": {},
   "outputs": [
    {
     "data": {
      "text/html": [
       "<div>\n",
       "<style scoped>\n",
       "    .dataframe tbody tr th:only-of-type {\n",
       "        vertical-align: middle;\n",
       "    }\n",
       "\n",
       "    .dataframe tbody tr th {\n",
       "        vertical-align: top;\n",
       "    }\n",
       "\n",
       "    .dataframe thead th {\n",
       "        text-align: right;\n",
       "    }\n",
       "</style>\n",
       "<table border=\"1\" class=\"dataframe\">\n",
       "  <thead>\n",
       "    <tr style=\"text-align: right;\">\n",
       "      <th></th>\n",
       "      <th>user_id</th>\n",
       "      <th>first_name</th>\n",
       "      <th>last_name</th>\n",
       "      <th>age</th>\n",
       "      <th>city</th>\n",
       "      <th>reg_date</th>\n",
       "      <th>plan</th>\n",
       "      <th>churn_date</th>\n",
       "      <th>year_month</th>\n",
       "      <th>estado</th>\n",
       "    </tr>\n",
       "  </thead>\n",
       "  <tbody>\n",
       "    <tr>\n",
       "      <th>0</th>\n",
       "      <td>1000</td>\n",
       "      <td>Anamaria</td>\n",
       "      <td>Bauer</td>\n",
       "      <td>45</td>\n",
       "      <td>Atlanta-Sandy Springs-Roswell, GA MSA</td>\n",
       "      <td>2018-12-24</td>\n",
       "      <td>ultimate</td>\n",
       "      <td>NaN</td>\n",
       "      <td>2018-12</td>\n",
       "      <td>GA MSA</td>\n",
       "    </tr>\n",
       "    <tr>\n",
       "      <th>1</th>\n",
       "      <td>1001</td>\n",
       "      <td>Mickey</td>\n",
       "      <td>Wilkerson</td>\n",
       "      <td>28</td>\n",
       "      <td>Seattle-Tacoma-Bellevue, WA MSA</td>\n",
       "      <td>2018-08-13</td>\n",
       "      <td>surf</td>\n",
       "      <td>NaN</td>\n",
       "      <td>2018-08</td>\n",
       "      <td>WA MSA</td>\n",
       "    </tr>\n",
       "    <tr>\n",
       "      <th>2</th>\n",
       "      <td>1002</td>\n",
       "      <td>Carlee</td>\n",
       "      <td>Hoffman</td>\n",
       "      <td>36</td>\n",
       "      <td>Las Vegas-Henderson-Paradise, NV MSA</td>\n",
       "      <td>2018-10-21</td>\n",
       "      <td>surf</td>\n",
       "      <td>NaN</td>\n",
       "      <td>2018-10</td>\n",
       "      <td>NV MSA</td>\n",
       "    </tr>\n",
       "    <tr>\n",
       "      <th>3</th>\n",
       "      <td>1003</td>\n",
       "      <td>Reynaldo</td>\n",
       "      <td>Jenkins</td>\n",
       "      <td>52</td>\n",
       "      <td>Tulsa, OK MSA</td>\n",
       "      <td>2018-01-28</td>\n",
       "      <td>surf</td>\n",
       "      <td>NaN</td>\n",
       "      <td>2018-01</td>\n",
       "      <td>OK MSA</td>\n",
       "    </tr>\n",
       "    <tr>\n",
       "      <th>4</th>\n",
       "      <td>1004</td>\n",
       "      <td>Leonila</td>\n",
       "      <td>Thompson</td>\n",
       "      <td>40</td>\n",
       "      <td>Seattle-Tacoma-Bellevue, WA MSA</td>\n",
       "      <td>2018-05-23</td>\n",
       "      <td>surf</td>\n",
       "      <td>NaN</td>\n",
       "      <td>2018-05</td>\n",
       "      <td>WA MSA</td>\n",
       "    </tr>\n",
       "  </tbody>\n",
       "</table>\n",
       "</div>"
      ],
      "text/plain": [
       "  user_id first_name  last_name  age                                   city  \\\n",
       "0    1000   Anamaria      Bauer   45  Atlanta-Sandy Springs-Roswell, GA MSA   \n",
       "1    1001     Mickey  Wilkerson   28        Seattle-Tacoma-Bellevue, WA MSA   \n",
       "2    1002     Carlee    Hoffman   36   Las Vegas-Henderson-Paradise, NV MSA   \n",
       "3    1003   Reynaldo    Jenkins   52                          Tulsa, OK MSA   \n",
       "4    1004    Leonila   Thompson   40        Seattle-Tacoma-Bellevue, WA MSA   \n",
       "\n",
       "    reg_date      plan churn_date year_month  estado  \n",
       "0 2018-12-24  ultimate        NaN    2018-12  GA MSA  \n",
       "1 2018-08-13      surf        NaN    2018-08  WA MSA  \n",
       "2 2018-10-21      surf        NaN    2018-10  NV MSA  \n",
       "3 2018-01-28      surf        NaN    2018-01  OK MSA  \n",
       "4 2018-05-23      surf        NaN    2018-05  WA MSA  "
      ]
     },
     "execution_count": 15,
     "metadata": {},
     "output_type": "execute_result"
    }
   ],
   "source": [
    "user.head()"
   ]
  },
  {
   "cell_type": "markdown",
   "metadata": {},
   "source": [
    "<div class=\"alert alert-block alert-danger\">\n",
    "<b> Comentário do revisor: </b> <a class=\"tocSkip\"></a>\n",
    "    \n",
    "<s>Aqui você precisa enriquecer os dados disponibilizados, criando novos atributos a partir dos mesmos. Por exemplo, você poderia criar atributos temporais (semana, dia da semana, etc) a partir do atributo `reg_date`.</s>\n",
    "</div>"
   ]
  },
  {
   "cell_type": "markdown",
   "metadata": {},
   "source": [
    "<div class=\"alert alert-block alert-info\">    \n",
    "<b>    \n",
    "    Esse codigo de criaçao de 'year_month' estava na parte de 'corrija os dados' , agora coloquei ele aqui.\n",
    "    \n",
    "    \n",
    "Isso aconteceu com todos os 'enriqueça os dados' , eu fui criando novas colunas conforme fui precisando mas os codigos ficaram nas celulas mais a frente, por isso essa parte da tarefa ficou vazia para cada dataframe.</b> <a class=\"tocSkip\"></a>\n",
    "</div>\n"
   ]
  },
  {
   "cell_type": "markdown",
   "metadata": {
    "id": "f4uSIMuuuj8j"
   },
   "source": [
    "## Chamadas"
   ]
  },
  {
   "cell_type": "code",
   "execution_count": 16,
   "metadata": {
    "id": "hkY01fJnuj8j"
   },
   "outputs": [
    {
     "name": "stdout",
     "output_type": "stream",
     "text": [
      "              id        user_id   call_date       duration\n",
      "count     137735  137735.000000      137735  137735.000000\n",
      "unique    137735            NaN         351            NaN\n",
      "top     1018_533            NaN  2018-12-27            NaN\n",
      "freq           1            NaN        1091            NaN\n",
      "mean         NaN    1247.658046         NaN       6.745927\n",
      "std          NaN     139.416268         NaN       5.839241\n",
      "min          NaN    1000.000000         NaN       0.000000\n",
      "25%          NaN    1128.000000         NaN       1.290000\n",
      "50%          NaN    1247.000000         NaN       5.980000\n",
      "75%          NaN    1365.000000         NaN      10.690000\n",
      "max          NaN    1499.000000         NaN      37.600000\n",
      "\n",
      "\n",
      "<class 'pandas.core.frame.DataFrame'>\n",
      "RangeIndex: 137735 entries, 0 to 137734\n",
      "Data columns (total 4 columns):\n",
      " #   Column     Non-Null Count   Dtype  \n",
      "---  ------     --------------   -----  \n",
      " 0   id         137735 non-null  object \n",
      " 1   user_id    137735 non-null  int64  \n",
      " 2   call_date  137735 non-null  object \n",
      " 3   duration   137735 non-null  float64\n",
      "dtypes: float64(1), int64(1), object(2)\n",
      "memory usage: 4.2+ MB\n",
      "DATA FRAME CALL None\n"
     ]
    }
   ],
   "source": [
    "# Imprima informações gerais/resumo sobre o DataFrame das chamadas\n",
    "print(call.describe(include = 'all'))\n",
    "print('\\n')\n",
    "print( 'DATA FRAME CALL', call.info())\n"
   ]
  },
  {
   "cell_type": "code",
   "execution_count": 17,
   "metadata": {
    "id": "wdBwJG5Yuj8k"
   },
   "outputs": [
    {
     "data": {
      "text/html": [
       "<div>\n",
       "<style scoped>\n",
       "    .dataframe tbody tr th:only-of-type {\n",
       "        vertical-align: middle;\n",
       "    }\n",
       "\n",
       "    .dataframe tbody tr th {\n",
       "        vertical-align: top;\n",
       "    }\n",
       "\n",
       "    .dataframe thead th {\n",
       "        text-align: right;\n",
       "    }\n",
       "</style>\n",
       "<table border=\"1\" class=\"dataframe\">\n",
       "  <thead>\n",
       "    <tr style=\"text-align: right;\">\n",
       "      <th></th>\n",
       "      <th>id</th>\n",
       "      <th>user_id</th>\n",
       "      <th>call_date</th>\n",
       "      <th>duration</th>\n",
       "    </tr>\n",
       "  </thead>\n",
       "  <tbody>\n",
       "    <tr>\n",
       "      <th>91411</th>\n",
       "      <td>1329_295</td>\n",
       "      <td>1329</td>\n",
       "      <td>2018-11-21</td>\n",
       "      <td>13.52</td>\n",
       "    </tr>\n",
       "    <tr>\n",
       "      <th>14098</th>\n",
       "      <td>1059_324</td>\n",
       "      <td>1059</td>\n",
       "      <td>2018-12-06</td>\n",
       "      <td>1.14</td>\n",
       "    </tr>\n",
       "    <tr>\n",
       "      <th>81356</th>\n",
       "      <td>1293_248</td>\n",
       "      <td>1293</td>\n",
       "      <td>2018-10-13</td>\n",
       "      <td>8.03</td>\n",
       "    </tr>\n",
       "    <tr>\n",
       "      <th>41296</th>\n",
       "      <td>1152_241</td>\n",
       "      <td>1152</td>\n",
       "      <td>2018-12-03</td>\n",
       "      <td>9.01</td>\n",
       "    </tr>\n",
       "    <tr>\n",
       "      <th>41778</th>\n",
       "      <td>1153_606</td>\n",
       "      <td>1153</td>\n",
       "      <td>2018-08-28</td>\n",
       "      <td>0.84</td>\n",
       "    </tr>\n",
       "  </tbody>\n",
       "</table>\n",
       "</div>"
      ],
      "text/plain": [
       "             id  user_id   call_date  duration\n",
       "91411  1329_295     1329  2018-11-21     13.52\n",
       "14098  1059_324     1059  2018-12-06      1.14\n",
       "81356  1293_248     1293  2018-10-13      8.03\n",
       "41296  1152_241     1152  2018-12-03      9.01\n",
       "41778  1153_606     1153  2018-08-28      0.84"
      ]
     },
     "execution_count": 17,
     "metadata": {},
     "output_type": "execute_result"
    }
   ],
   "source": [
    "# Imprima uma amostra de dados das chamadas\n",
    "\n",
    "call.sample(5)"
   ]
  },
  {
   "cell_type": "markdown",
   "metadata": {
    "id": "x5a99U4xuj8k"
   },
   "source": [
    "### Corrija os dados"
   ]
  },
  {
   "cell_type": "code",
   "execution_count": 18,
   "metadata": {
    "id": "lBjdw0Bnuj8l"
   },
   "outputs": [],
   "source": [
    "call['call_date'] = pd.to_datetime(call['call_date'])\n",
    "call['id'] = call['id'].astype('category')\n",
    "call['user_id'] = call['user_id'].astype('category')"
   ]
  },
  {
   "cell_type": "markdown",
   "metadata": {
    "id": "MFm5xyh4uj8l"
   },
   "source": [
    "### Enriqueça os dados"
   ]
  },
  {
   "cell_type": "markdown",
   "metadata": {
    "id": "nwOKTgfluj8l"
   },
   "source": [
    "<div class=\"alert alert-block alert-danger\">\n",
    "<b> Comentário do revisor: </b> <a class=\"tocSkip\"></a>\n",
    "    \n",
    "<s>Aqui você precisa enriquecer os dados disponibilizados, criando novos atributos a partir dos mesmos. Por exemplo, você poderia criar atributos temporais (semana, dia da semana, etc) a partir do atributo `call_date`.</s>\n",
    "</div>"
   ]
  },
  {
   "cell_type": "code",
   "execution_count": 19,
   "metadata": {},
   "outputs": [
    {
     "data": {
      "text/html": [
       "<div>\n",
       "<style scoped>\n",
       "    .dataframe tbody tr th:only-of-type {\n",
       "        vertical-align: middle;\n",
       "    }\n",
       "\n",
       "    .dataframe tbody tr th {\n",
       "        vertical-align: top;\n",
       "    }\n",
       "\n",
       "    .dataframe thead th {\n",
       "        text-align: right;\n",
       "    }\n",
       "</style>\n",
       "<table border=\"1\" class=\"dataframe\">\n",
       "  <thead>\n",
       "    <tr style=\"text-align: right;\">\n",
       "      <th></th>\n",
       "      <th>id</th>\n",
       "      <th>user_id</th>\n",
       "      <th>call_date</th>\n",
       "      <th>duration</th>\n",
       "      <th>year_month</th>\n",
       "    </tr>\n",
       "  </thead>\n",
       "  <tbody>\n",
       "    <tr>\n",
       "      <th>0</th>\n",
       "      <td>1000_93</td>\n",
       "      <td>1000</td>\n",
       "      <td>2018-12-27</td>\n",
       "      <td>8.52</td>\n",
       "      <td>2018-12</td>\n",
       "    </tr>\n",
       "    <tr>\n",
       "      <th>1</th>\n",
       "      <td>1000_145</td>\n",
       "      <td>1000</td>\n",
       "      <td>2018-12-27</td>\n",
       "      <td>13.66</td>\n",
       "      <td>2018-12</td>\n",
       "    </tr>\n",
       "    <tr>\n",
       "      <th>2</th>\n",
       "      <td>1000_247</td>\n",
       "      <td>1000</td>\n",
       "      <td>2018-12-27</td>\n",
       "      <td>14.48</td>\n",
       "      <td>2018-12</td>\n",
       "    </tr>\n",
       "    <tr>\n",
       "      <th>3</th>\n",
       "      <td>1000_309</td>\n",
       "      <td>1000</td>\n",
       "      <td>2018-12-28</td>\n",
       "      <td>5.76</td>\n",
       "      <td>2018-12</td>\n",
       "    </tr>\n",
       "    <tr>\n",
       "      <th>4</th>\n",
       "      <td>1000_380</td>\n",
       "      <td>1000</td>\n",
       "      <td>2018-12-30</td>\n",
       "      <td>4.22</td>\n",
       "      <td>2018-12</td>\n",
       "    </tr>\n",
       "  </tbody>\n",
       "</table>\n",
       "</div>"
      ],
      "text/plain": [
       "         id user_id  call_date  duration year_month\n",
       "0   1000_93    1000 2018-12-27      8.52    2018-12\n",
       "1  1000_145    1000 2018-12-27     13.66    2018-12\n",
       "2  1000_247    1000 2018-12-27     14.48    2018-12\n",
       "3  1000_309    1000 2018-12-28      5.76    2018-12\n",
       "4  1000_380    1000 2018-12-30      4.22    2018-12"
      ]
     },
     "execution_count": 19,
     "metadata": {},
     "output_type": "execute_result"
    }
   ],
   "source": [
    "call['year_month'] = call['call_date'].dt.to_period('M')\n",
    "call.head()"
   ]
  },
  {
   "cell_type": "markdown",
   "metadata": {
    "id": "qLz4FkyRuj8l"
   },
   "source": [
    "## Mensagens"
   ]
  },
  {
   "cell_type": "code",
   "execution_count": 20,
   "metadata": {
    "id": "nFA9DFkCuj8l"
   },
   "outputs": [
    {
     "name": "stdout",
     "output_type": "stream",
     "text": [
      "              id       user_id message_date\n",
      "count      76051  76051.000000        76051\n",
      "unique     76051           NaN          351\n",
      "top     1384_318           NaN   2018-12-28\n",
      "freq           1           NaN          702\n",
      "mean         NaN   1245.972768          NaN\n",
      "std          NaN    139.843635          NaN\n",
      "min          NaN   1000.000000          NaN\n",
      "25%          NaN   1123.000000          NaN\n",
      "50%          NaN   1251.000000          NaN\n",
      "75%          NaN   1362.000000          NaN\n",
      "max          NaN   1497.000000          NaN\n",
      "\n",
      "\n",
      "<class 'pandas.core.frame.DataFrame'>\n",
      "RangeIndex: 76051 entries, 0 to 76050\n",
      "Data columns (total 3 columns):\n",
      " #   Column        Non-Null Count  Dtype \n",
      "---  ------        --------------  ----- \n",
      " 0   id            76051 non-null  object\n",
      " 1   user_id       76051 non-null  int64 \n",
      " 2   message_date  76051 non-null  object\n",
      "dtypes: int64(1), object(2)\n",
      "memory usage: 1.7+ MB\n",
      "DATAFRAME MSG None\n"
     ]
    }
   ],
   "source": [
    "# Imprima informações gerais/resumo sobre o DataFrame das mensagens\n",
    "\n",
    "print(msg.describe(include='all'))\n",
    "print('\\n')\n",
    "print('DATAFRAME MSG', msg.info())"
   ]
  },
  {
   "cell_type": "code",
   "execution_count": 21,
   "metadata": {
    "id": "ysEFBZWxuj8m"
   },
   "outputs": [
    {
     "data": {
      "text/html": [
       "<div>\n",
       "<style scoped>\n",
       "    .dataframe tbody tr th:only-of-type {\n",
       "        vertical-align: middle;\n",
       "    }\n",
       "\n",
       "    .dataframe tbody tr th {\n",
       "        vertical-align: top;\n",
       "    }\n",
       "\n",
       "    .dataframe thead th {\n",
       "        text-align: right;\n",
       "    }\n",
       "</style>\n",
       "<table border=\"1\" class=\"dataframe\">\n",
       "  <thead>\n",
       "    <tr style=\"text-align: right;\">\n",
       "      <th></th>\n",
       "      <th>id</th>\n",
       "      <th>user_id</th>\n",
       "      <th>message_date</th>\n",
       "    </tr>\n",
       "  </thead>\n",
       "  <tbody>\n",
       "    <tr>\n",
       "      <th>75084</th>\n",
       "      <td>1489_159</td>\n",
       "      <td>1489</td>\n",
       "      <td>2018-10-19</td>\n",
       "    </tr>\n",
       "    <tr>\n",
       "      <th>17351</th>\n",
       "      <td>1114_209</td>\n",
       "      <td>1114</td>\n",
       "      <td>2018-08-25</td>\n",
       "    </tr>\n",
       "    <tr>\n",
       "      <th>7647</th>\n",
       "      <td>1059_531</td>\n",
       "      <td>1059</td>\n",
       "      <td>2018-12-11</td>\n",
       "    </tr>\n",
       "    <tr>\n",
       "      <th>70229</th>\n",
       "      <td>1456_153</td>\n",
       "      <td>1456</td>\n",
       "      <td>2018-09-01</td>\n",
       "    </tr>\n",
       "    <tr>\n",
       "      <th>9521</th>\n",
       "      <td>1069_662</td>\n",
       "      <td>1069</td>\n",
       "      <td>2018-12-15</td>\n",
       "    </tr>\n",
       "  </tbody>\n",
       "</table>\n",
       "</div>"
      ],
      "text/plain": [
       "             id  user_id message_date\n",
       "75084  1489_159     1489   2018-10-19\n",
       "17351  1114_209     1114   2018-08-25\n",
       "7647   1059_531     1059   2018-12-11\n",
       "70229  1456_153     1456   2018-09-01\n",
       "9521   1069_662     1069   2018-12-15"
      ]
     },
     "execution_count": 21,
     "metadata": {},
     "output_type": "execute_result"
    }
   ],
   "source": [
    "# Imprima uma amostra dos dados das mensagens\n",
    "msg.sample(5)\n"
   ]
  },
  {
   "cell_type": "markdown",
   "metadata": {
    "id": "tT8N_hc6uj8m"
   },
   "source": [
    "### Corrija os dados"
   ]
  },
  {
   "cell_type": "code",
   "execution_count": 22,
   "metadata": {
    "id": "SpBqbQHCuj8m"
   },
   "outputs": [],
   "source": [
    "msg['message_date'] = pd.to_datetime(msg['message_date'])\n",
    "msg['id'] = msg['id'].astype('category')\n",
    "msg['user_id'] = msg['user_id'].astype('category')\n"
   ]
  },
  {
   "cell_type": "markdown",
   "metadata": {
    "id": "feV2Njo9uj8n"
   },
   "source": [
    "### Enriqueça os dados"
   ]
  },
  {
   "cell_type": "markdown",
   "metadata": {
    "id": "SkuCXcLJuj8n"
   },
   "source": [
    "<div class=\"alert alert-block alert-danger\">\n",
    "<b> Comentário do revisor: </b> <a class=\"tocSkip\"></a>\n",
    "    \n",
    "<s>Aqui você precisa enriquecer os dados disponibilizados, criando novos atributos a partir dos mesmos. Por exemplo, você poderia criar atributos temporais (semana, dia da semana, etc) a partir do atributo `message_date`.</s>\n",
    "</div>"
   ]
  },
  {
   "cell_type": "code",
   "execution_count": 23,
   "metadata": {},
   "outputs": [
    {
     "data": {
      "text/html": [
       "<div>\n",
       "<style scoped>\n",
       "    .dataframe tbody tr th:only-of-type {\n",
       "        vertical-align: middle;\n",
       "    }\n",
       "\n",
       "    .dataframe tbody tr th {\n",
       "        vertical-align: top;\n",
       "    }\n",
       "\n",
       "    .dataframe thead th {\n",
       "        text-align: right;\n",
       "    }\n",
       "</style>\n",
       "<table border=\"1\" class=\"dataframe\">\n",
       "  <thead>\n",
       "    <tr style=\"text-align: right;\">\n",
       "      <th></th>\n",
       "      <th>id</th>\n",
       "      <th>user_id</th>\n",
       "      <th>message_date</th>\n",
       "      <th>year_month</th>\n",
       "    </tr>\n",
       "  </thead>\n",
       "  <tbody>\n",
       "    <tr>\n",
       "      <th>0</th>\n",
       "      <td>1000_125</td>\n",
       "      <td>1000</td>\n",
       "      <td>2018-12-27</td>\n",
       "      <td>2018-12</td>\n",
       "    </tr>\n",
       "    <tr>\n",
       "      <th>1</th>\n",
       "      <td>1000_160</td>\n",
       "      <td>1000</td>\n",
       "      <td>2018-12-31</td>\n",
       "      <td>2018-12</td>\n",
       "    </tr>\n",
       "    <tr>\n",
       "      <th>2</th>\n",
       "      <td>1000_223</td>\n",
       "      <td>1000</td>\n",
       "      <td>2018-12-31</td>\n",
       "      <td>2018-12</td>\n",
       "    </tr>\n",
       "    <tr>\n",
       "      <th>3</th>\n",
       "      <td>1000_251</td>\n",
       "      <td>1000</td>\n",
       "      <td>2018-12-27</td>\n",
       "      <td>2018-12</td>\n",
       "    </tr>\n",
       "    <tr>\n",
       "      <th>4</th>\n",
       "      <td>1000_255</td>\n",
       "      <td>1000</td>\n",
       "      <td>2018-12-26</td>\n",
       "      <td>2018-12</td>\n",
       "    </tr>\n",
       "  </tbody>\n",
       "</table>\n",
       "</div>"
      ],
      "text/plain": [
       "         id user_id message_date year_month\n",
       "0  1000_125    1000   2018-12-27    2018-12\n",
       "1  1000_160    1000   2018-12-31    2018-12\n",
       "2  1000_223    1000   2018-12-31    2018-12\n",
       "3  1000_251    1000   2018-12-27    2018-12\n",
       "4  1000_255    1000   2018-12-26    2018-12"
      ]
     },
     "execution_count": 23,
     "metadata": {},
     "output_type": "execute_result"
    }
   ],
   "source": [
    "msg['year_month'] = msg['message_date'].dt.to_period('M')\n",
    "msg.head()\n"
   ]
  },
  {
   "cell_type": "markdown",
   "metadata": {
    "id": "ZRFaOWzGuj8n"
   },
   "source": [
    "## Internet"
   ]
  },
  {
   "cell_type": "code",
   "execution_count": 24,
   "metadata": {
    "id": "ob3-qv4nuj8n"
   },
   "outputs": [
    {
     "name": "stdout",
     "output_type": "stream",
     "text": [
      "              id        user_id session_date        mb_used\n",
      "count     104825  104825.000000       104825  104825.000000\n",
      "unique    104825            NaN          351            NaN\n",
      "top     1043_361            NaN   2018-12-24            NaN\n",
      "freq           1            NaN          851            NaN\n",
      "mean         NaN    1242.496361          NaN     366.713701\n",
      "std          NaN     142.053913          NaN     277.170542\n",
      "min          NaN    1000.000000          NaN       0.000000\n",
      "25%          NaN    1122.000000          NaN     136.080000\n",
      "50%          NaN    1236.000000          NaN     343.980000\n",
      "75%          NaN    1367.000000          NaN     554.610000\n",
      "max          NaN    1499.000000          NaN    1693.470000\n",
      "\n",
      "\n",
      "<class 'pandas.core.frame.DataFrame'>\n",
      "RangeIndex: 104825 entries, 0 to 104824\n",
      "Data columns (total 4 columns):\n",
      " #   Column        Non-Null Count   Dtype  \n",
      "---  ------        --------------   -----  \n",
      " 0   id            104825 non-null  object \n",
      " 1   user_id       104825 non-null  int64  \n",
      " 2   session_date  104825 non-null  object \n",
      " 3   mb_used       104825 non-null  float64\n",
      "dtypes: float64(1), int64(1), object(2)\n",
      "memory usage: 3.2+ MB\n",
      "DATAFRAME INTERNET None\n"
     ]
    }
   ],
   "source": [
    "# Imprima informações gerais/resumo sobre o DataFrame da internet\n",
    "print(internet.describe(include='all'))\n",
    "print('\\n')\n",
    "print('DATAFRAME INTERNET', internet.info())"
   ]
  },
  {
   "cell_type": "code",
   "execution_count": 25,
   "metadata": {
    "id": "iIHK4fZsuj8n"
   },
   "outputs": [
    {
     "data": {
      "text/html": [
       "<div>\n",
       "<style scoped>\n",
       "    .dataframe tbody tr th:only-of-type {\n",
       "        vertical-align: middle;\n",
       "    }\n",
       "\n",
       "    .dataframe tbody tr th {\n",
       "        vertical-align: top;\n",
       "    }\n",
       "\n",
       "    .dataframe thead th {\n",
       "        text-align: right;\n",
       "    }\n",
       "</style>\n",
       "<table border=\"1\" class=\"dataframe\">\n",
       "  <thead>\n",
       "    <tr style=\"text-align: right;\">\n",
       "      <th></th>\n",
       "      <th>id</th>\n",
       "      <th>user_id</th>\n",
       "      <th>session_date</th>\n",
       "      <th>mb_used</th>\n",
       "    </tr>\n",
       "  </thead>\n",
       "  <tbody>\n",
       "    <tr>\n",
       "      <th>0</th>\n",
       "      <td>1000_13</td>\n",
       "      <td>1000</td>\n",
       "      <td>2018-12-29</td>\n",
       "      <td>89.86</td>\n",
       "    </tr>\n",
       "    <tr>\n",
       "      <th>1</th>\n",
       "      <td>1000_204</td>\n",
       "      <td>1000</td>\n",
       "      <td>2018-12-31</td>\n",
       "      <td>0.00</td>\n",
       "    </tr>\n",
       "    <tr>\n",
       "      <th>2</th>\n",
       "      <td>1000_379</td>\n",
       "      <td>1000</td>\n",
       "      <td>2018-12-28</td>\n",
       "      <td>660.40</td>\n",
       "    </tr>\n",
       "    <tr>\n",
       "      <th>3</th>\n",
       "      <td>1000_413</td>\n",
       "      <td>1000</td>\n",
       "      <td>2018-12-26</td>\n",
       "      <td>270.99</td>\n",
       "    </tr>\n",
       "    <tr>\n",
       "      <th>4</th>\n",
       "      <td>1000_442</td>\n",
       "      <td>1000</td>\n",
       "      <td>2018-12-27</td>\n",
       "      <td>880.22</td>\n",
       "    </tr>\n",
       "  </tbody>\n",
       "</table>\n",
       "</div>"
      ],
      "text/plain": [
       "         id  user_id session_date  mb_used\n",
       "0   1000_13     1000   2018-12-29    89.86\n",
       "1  1000_204     1000   2018-12-31     0.00\n",
       "2  1000_379     1000   2018-12-28   660.40\n",
       "3  1000_413     1000   2018-12-26   270.99\n",
       "4  1000_442     1000   2018-12-27   880.22"
      ]
     },
     "execution_count": 25,
     "metadata": {},
     "output_type": "execute_result"
    }
   ],
   "source": [
    "#  Imprima uma amostra de dados para o tráfego da internet\n",
    "internet.head()\n"
   ]
  },
  {
   "cell_type": "markdown",
   "metadata": {
    "id": "Tly90YrTuj8o"
   },
   "source": [
    "### Corrija os dados"
   ]
  },
  {
   "cell_type": "code",
   "execution_count": 26,
   "metadata": {
    "id": "GCoX7kbmuj8o"
   },
   "outputs": [],
   "source": [
    "internet['session_date'] = pd.to_datetime(internet['session_date'])\n",
    "\n",
    "internet['user_id'] = internet['user_id'].astype('category')\n",
    "\n",
    "internet['id'] = internet['id'].astype('category')"
   ]
  },
  {
   "cell_type": "markdown",
   "metadata": {
    "id": "DEDbrtFduj8o"
   },
   "source": [
    "### Enriqueça os dados"
   ]
  },
  {
   "cell_type": "markdown",
   "metadata": {
    "id": "f1PoZ3Ukuj8p"
   },
   "source": [
    "<div class=\"alert alert-block alert-danger\">\n",
    "<b> Comentário do revisor: </b> <a class=\"tocSkip\"></a>\n",
    "    \n",
    "<s>Aqui também você precisa criar uma coluna que converte o uso de dados de `mb` para `gb` (pois isso será necessário mais a frente)</s>\n",
    "</div>"
   ]
  },
  {
   "cell_type": "code",
   "execution_count": 27,
   "metadata": {},
   "outputs": [
    {
     "data": {
      "text/html": [
       "<div>\n",
       "<style scoped>\n",
       "    .dataframe tbody tr th:only-of-type {\n",
       "        vertical-align: middle;\n",
       "    }\n",
       "\n",
       "    .dataframe tbody tr th {\n",
       "        vertical-align: top;\n",
       "    }\n",
       "\n",
       "    .dataframe thead th {\n",
       "        text-align: right;\n",
       "    }\n",
       "</style>\n",
       "<table border=\"1\" class=\"dataframe\">\n",
       "  <thead>\n",
       "    <tr style=\"text-align: right;\">\n",
       "      <th></th>\n",
       "      <th>id</th>\n",
       "      <th>user_id</th>\n",
       "      <th>session_date</th>\n",
       "      <th>gb_used</th>\n",
       "      <th>year_month</th>\n",
       "    </tr>\n",
       "  </thead>\n",
       "  <tbody>\n",
       "    <tr>\n",
       "      <th>0</th>\n",
       "      <td>1000_13</td>\n",
       "      <td>1000</td>\n",
       "      <td>2018-12-29</td>\n",
       "      <td>0.087754</td>\n",
       "      <td>2018-12</td>\n",
       "    </tr>\n",
       "    <tr>\n",
       "      <th>1</th>\n",
       "      <td>1000_204</td>\n",
       "      <td>1000</td>\n",
       "      <td>2018-12-31</td>\n",
       "      <td>0.000000</td>\n",
       "      <td>2018-12</td>\n",
       "    </tr>\n",
       "    <tr>\n",
       "      <th>2</th>\n",
       "      <td>1000_379</td>\n",
       "      <td>1000</td>\n",
       "      <td>2018-12-28</td>\n",
       "      <td>0.644922</td>\n",
       "      <td>2018-12</td>\n",
       "    </tr>\n",
       "    <tr>\n",
       "      <th>3</th>\n",
       "      <td>1000_413</td>\n",
       "      <td>1000</td>\n",
       "      <td>2018-12-26</td>\n",
       "      <td>0.264639</td>\n",
       "      <td>2018-12</td>\n",
       "    </tr>\n",
       "    <tr>\n",
       "      <th>4</th>\n",
       "      <td>1000_442</td>\n",
       "      <td>1000</td>\n",
       "      <td>2018-12-27</td>\n",
       "      <td>0.859590</td>\n",
       "      <td>2018-12</td>\n",
       "    </tr>\n",
       "  </tbody>\n",
       "</table>\n",
       "</div>"
      ],
      "text/plain": [
       "         id user_id session_date   gb_used year_month\n",
       "0   1000_13    1000   2018-12-29  0.087754    2018-12\n",
       "1  1000_204    1000   2018-12-31  0.000000    2018-12\n",
       "2  1000_379    1000   2018-12-28  0.644922    2018-12\n",
       "3  1000_413    1000   2018-12-26  0.264639    2018-12\n",
       "4  1000_442    1000   2018-12-27  0.859590    2018-12"
      ]
     },
     "execution_count": 27,
     "metadata": {},
     "output_type": "execute_result"
    }
   ],
   "source": [
    "internet['year_month'] = internet['session_date'].dt.to_period('M')\n",
    "internet.rename(columns={'mb_used': 'gb_used'}, inplace=True)\n",
    "internet['gb_used'] = internet['gb_used'] / 1024\n",
    "    \n",
    "internet.head()"
   ]
  },
  {
   "cell_type": "markdown",
   "metadata": {
    "id": "bnOX4ARJuj8p"
   },
   "source": [
    "## Estude as condições dos planos"
   ]
  },
  {
   "cell_type": "code",
   "execution_count": 28,
   "metadata": {
    "id": "vMXVndWEuj8p"
   },
   "outputs": [
    {
     "data": {
      "text/html": [
       "<div>\n",
       "<style scoped>\n",
       "    .dataframe tbody tr th:only-of-type {\n",
       "        vertical-align: middle;\n",
       "    }\n",
       "\n",
       "    .dataframe tbody tr th {\n",
       "        vertical-align: top;\n",
       "    }\n",
       "\n",
       "    .dataframe thead th {\n",
       "        text-align: right;\n",
       "    }\n",
       "</style>\n",
       "<table border=\"1\" class=\"dataframe\">\n",
       "  <thead>\n",
       "    <tr style=\"text-align: right;\">\n",
       "      <th></th>\n",
       "      <th>messages_included</th>\n",
       "      <th>gb_per_month_included</th>\n",
       "      <th>minutes_included</th>\n",
       "      <th>usd_monthly_pay</th>\n",
       "      <th>usd_per_gb</th>\n",
       "      <th>usd_per_message</th>\n",
       "      <th>usd_per_minute</th>\n",
       "      <th>plan_name</th>\n",
       "    </tr>\n",
       "  </thead>\n",
       "  <tbody>\n",
       "    <tr>\n",
       "      <th>0</th>\n",
       "      <td>50</td>\n",
       "      <td>15.0</td>\n",
       "      <td>500</td>\n",
       "      <td>20</td>\n",
       "      <td>10</td>\n",
       "      <td>0.03</td>\n",
       "      <td>0.03</td>\n",
       "      <td>surf</td>\n",
       "    </tr>\n",
       "    <tr>\n",
       "      <th>1</th>\n",
       "      <td>1000</td>\n",
       "      <td>30.0</td>\n",
       "      <td>3000</td>\n",
       "      <td>70</td>\n",
       "      <td>7</td>\n",
       "      <td>0.01</td>\n",
       "      <td>0.01</td>\n",
       "      <td>ultimate</td>\n",
       "    </tr>\n",
       "  </tbody>\n",
       "</table>\n",
       "</div>"
      ],
      "text/plain": [
       "   messages_included  gb_per_month_included  minutes_included  \\\n",
       "0                 50                   15.0               500   \n",
       "1               1000                   30.0              3000   \n",
       "\n",
       "   usd_monthly_pay  usd_per_gb  usd_per_message  usd_per_minute plan_name  \n",
       "0               20          10             0.03            0.03      surf  \n",
       "1               70           7             0.01            0.01  ultimate  "
      ]
     },
     "execution_count": 28,
     "metadata": {},
     "output_type": "execute_result"
    }
   ],
   "source": [
    "# Imprima as condições dos planos e certifique-se de que elas fazem sentido para você\n",
    "plan.head()\n",
    "\n",
    "plan"
   ]
  },
  {
   "cell_type": "markdown",
   "metadata": {
    "id": "1v1EshDmuj8q"
   },
   "source": [
    "## Agregue os dados por usuário\n",
    "\n"
   ]
  },
  {
   "cell_type": "code",
   "execution_count": 29,
   "metadata": {},
   "outputs": [
    {
     "data": {
      "text/html": [
       "<div>\n",
       "<style scoped>\n",
       "    .dataframe tbody tr th:only-of-type {\n",
       "        vertical-align: middle;\n",
       "    }\n",
       "\n",
       "    .dataframe tbody tr th {\n",
       "        vertical-align: top;\n",
       "    }\n",
       "\n",
       "    .dataframe thead th {\n",
       "        text-align: right;\n",
       "    }\n",
       "</style>\n",
       "<table border=\"1\" class=\"dataframe\">\n",
       "  <thead>\n",
       "    <tr style=\"text-align: right;\">\n",
       "      <th></th>\n",
       "      <th>id</th>\n",
       "      <th>user_id</th>\n",
       "      <th>call_date</th>\n",
       "      <th>duration</th>\n",
       "      <th>year_month</th>\n",
       "    </tr>\n",
       "  </thead>\n",
       "  <tbody>\n",
       "    <tr>\n",
       "      <th>0</th>\n",
       "      <td>1000_93</td>\n",
       "      <td>1000</td>\n",
       "      <td>2018-12-27</td>\n",
       "      <td>8.52</td>\n",
       "      <td>2018-12</td>\n",
       "    </tr>\n",
       "    <tr>\n",
       "      <th>1</th>\n",
       "      <td>1000_145</td>\n",
       "      <td>1000</td>\n",
       "      <td>2018-12-27</td>\n",
       "      <td>13.66</td>\n",
       "      <td>2018-12</td>\n",
       "    </tr>\n",
       "    <tr>\n",
       "      <th>2</th>\n",
       "      <td>1000_247</td>\n",
       "      <td>1000</td>\n",
       "      <td>2018-12-27</td>\n",
       "      <td>14.48</td>\n",
       "      <td>2018-12</td>\n",
       "    </tr>\n",
       "    <tr>\n",
       "      <th>3</th>\n",
       "      <td>1000_309</td>\n",
       "      <td>1000</td>\n",
       "      <td>2018-12-28</td>\n",
       "      <td>5.76</td>\n",
       "      <td>2018-12</td>\n",
       "    </tr>\n",
       "    <tr>\n",
       "      <th>4</th>\n",
       "      <td>1000_380</td>\n",
       "      <td>1000</td>\n",
       "      <td>2018-12-30</td>\n",
       "      <td>4.22</td>\n",
       "      <td>2018-12</td>\n",
       "    </tr>\n",
       "  </tbody>\n",
       "</table>\n",
       "</div>"
      ],
      "text/plain": [
       "         id user_id  call_date  duration year_month\n",
       "0   1000_93    1000 2018-12-27      8.52    2018-12\n",
       "1  1000_145    1000 2018-12-27     13.66    2018-12\n",
       "2  1000_247    1000 2018-12-27     14.48    2018-12\n",
       "3  1000_309    1000 2018-12-28      5.76    2018-12\n",
       "4  1000_380    1000 2018-12-30      4.22    2018-12"
      ]
     },
     "execution_count": 29,
     "metadata": {},
     "output_type": "execute_result"
    }
   ],
   "source": [
    "call.head()"
   ]
  },
  {
   "cell_type": "code",
   "execution_count": 30,
   "metadata": {
    "id": "4hmb2pSPuj8q"
   },
   "outputs": [
    {
     "data": {
      "text/html": [
       "<div>\n",
       "<style scoped>\n",
       "    .dataframe tbody tr th:only-of-type {\n",
       "        vertical-align: middle;\n",
       "    }\n",
       "\n",
       "    .dataframe tbody tr th {\n",
       "        vertical-align: top;\n",
       "    }\n",
       "\n",
       "    .dataframe thead th {\n",
       "        text-align: right;\n",
       "    }\n",
       "</style>\n",
       "<table border=\"1\" class=\"dataframe\">\n",
       "  <thead>\n",
       "    <tr style=\"text-align: right;\">\n",
       "      <th></th>\n",
       "      <th>user_id</th>\n",
       "      <th>year_month</th>\n",
       "      <th>call_count</th>\n",
       "      <th>duration</th>\n",
       "    </tr>\n",
       "  </thead>\n",
       "  <tbody>\n",
       "    <tr>\n",
       "      <th>11</th>\n",
       "      <td>1000</td>\n",
       "      <td>2018-12</td>\n",
       "      <td>16</td>\n",
       "      <td>116.83</td>\n",
       "    </tr>\n",
       "    <tr>\n",
       "      <th>19</th>\n",
       "      <td>1001</td>\n",
       "      <td>2018-08</td>\n",
       "      <td>27</td>\n",
       "      <td>171.14</td>\n",
       "    </tr>\n",
       "    <tr>\n",
       "      <th>20</th>\n",
       "      <td>1001</td>\n",
       "      <td>2018-09</td>\n",
       "      <td>49</td>\n",
       "      <td>297.69</td>\n",
       "    </tr>\n",
       "    <tr>\n",
       "      <th>21</th>\n",
       "      <td>1001</td>\n",
       "      <td>2018-10</td>\n",
       "      <td>65</td>\n",
       "      <td>374.11</td>\n",
       "    </tr>\n",
       "    <tr>\n",
       "      <th>22</th>\n",
       "      <td>1001</td>\n",
       "      <td>2018-11</td>\n",
       "      <td>64</td>\n",
       "      <td>404.59</td>\n",
       "    </tr>\n",
       "    <tr>\n",
       "      <th>...</th>\n",
       "      <td>...</td>\n",
       "      <td>...</td>\n",
       "      <td>...</td>\n",
       "      <td>...</td>\n",
       "    </tr>\n",
       "    <tr>\n",
       "      <th>5759</th>\n",
       "      <td>1498</td>\n",
       "      <td>2018-12</td>\n",
       "      <td>39</td>\n",
       "      <td>324.77</td>\n",
       "    </tr>\n",
       "    <tr>\n",
       "      <th>5768</th>\n",
       "      <td>1499</td>\n",
       "      <td>2018-09</td>\n",
       "      <td>41</td>\n",
       "      <td>330.37</td>\n",
       "    </tr>\n",
       "    <tr>\n",
       "      <th>5769</th>\n",
       "      <td>1499</td>\n",
       "      <td>2018-10</td>\n",
       "      <td>53</td>\n",
       "      <td>363.28</td>\n",
       "    </tr>\n",
       "    <tr>\n",
       "      <th>5770</th>\n",
       "      <td>1499</td>\n",
       "      <td>2018-11</td>\n",
       "      <td>45</td>\n",
       "      <td>288.56</td>\n",
       "    </tr>\n",
       "    <tr>\n",
       "      <th>5771</th>\n",
       "      <td>1499</td>\n",
       "      <td>2018-12</td>\n",
       "      <td>65</td>\n",
       "      <td>468.10</td>\n",
       "    </tr>\n",
       "  </tbody>\n",
       "</table>\n",
       "<p>2258 rows × 4 columns</p>\n",
       "</div>"
      ],
      "text/plain": [
       "     user_id year_month  call_count  duration\n",
       "11      1000    2018-12          16    116.83\n",
       "19      1001    2018-08          27    171.14\n",
       "20      1001    2018-09          49    297.69\n",
       "21      1001    2018-10          65    374.11\n",
       "22      1001    2018-11          64    404.59\n",
       "...      ...        ...         ...       ...\n",
       "5759    1498    2018-12          39    324.77\n",
       "5768    1499    2018-09          41    330.37\n",
       "5769    1499    2018-10          53    363.28\n",
       "5770    1499    2018-11          45    288.56\n",
       "5771    1499    2018-12          65    468.10\n",
       "\n",
       "[2258 rows x 4 columns]"
      ]
     },
     "execution_count": 30,
     "metadata": {},
     "output_type": "execute_result"
    }
   ],
   "source": [
    "# Calcule o número de chamadas feitas por cada usuário por mês. Salve o resultado.\n",
    "\n",
    "call_counts = call.groupby(['user_id', 'year_month']).agg( call_count=('duration', 'size'),duration=('duration', 'sum')\n",
    ").reset_index()\n",
    "call_counts = call_counts[call_counts['call_count'] != 0]\n",
    "call_counts"
   ]
  },
  {
   "cell_type": "code",
   "execution_count": 31,
   "metadata": {
    "id": "yHgBWCJJuj8q"
   },
   "outputs": [
    {
     "data": {
      "text/html": [
       "<div>\n",
       "<style scoped>\n",
       "    .dataframe tbody tr th:only-of-type {\n",
       "        vertical-align: middle;\n",
       "    }\n",
       "\n",
       "    .dataframe tbody tr th {\n",
       "        vertical-align: top;\n",
       "    }\n",
       "\n",
       "    .dataframe thead th {\n",
       "        text-align: right;\n",
       "    }\n",
       "</style>\n",
       "<table border=\"1\" class=\"dataframe\">\n",
       "  <thead>\n",
       "    <tr style=\"text-align: right;\">\n",
       "      <th></th>\n",
       "      <th>user_id</th>\n",
       "      <th>year_month</th>\n",
       "      <th>duration</th>\n",
       "    </tr>\n",
       "  </thead>\n",
       "  <tbody>\n",
       "    <tr>\n",
       "      <th>0</th>\n",
       "      <td>1000</td>\n",
       "      <td>2018-12</td>\n",
       "      <td>116.83</td>\n",
       "    </tr>\n",
       "    <tr>\n",
       "      <th>1</th>\n",
       "      <td>1001</td>\n",
       "      <td>2018-08</td>\n",
       "      <td>171.14</td>\n",
       "    </tr>\n",
       "    <tr>\n",
       "      <th>2</th>\n",
       "      <td>1001</td>\n",
       "      <td>2018-09</td>\n",
       "      <td>297.69</td>\n",
       "    </tr>\n",
       "    <tr>\n",
       "      <th>3</th>\n",
       "      <td>1001</td>\n",
       "      <td>2018-10</td>\n",
       "      <td>374.11</td>\n",
       "    </tr>\n",
       "    <tr>\n",
       "      <th>4</th>\n",
       "      <td>1001</td>\n",
       "      <td>2018-11</td>\n",
       "      <td>404.59</td>\n",
       "    </tr>\n",
       "    <tr>\n",
       "      <th>...</th>\n",
       "      <td>...</td>\n",
       "      <td>...</td>\n",
       "      <td>...</td>\n",
       "    </tr>\n",
       "    <tr>\n",
       "      <th>2251</th>\n",
       "      <td>1498</td>\n",
       "      <td>2018-12</td>\n",
       "      <td>324.77</td>\n",
       "    </tr>\n",
       "    <tr>\n",
       "      <th>2252</th>\n",
       "      <td>1499</td>\n",
       "      <td>2018-09</td>\n",
       "      <td>330.37</td>\n",
       "    </tr>\n",
       "    <tr>\n",
       "      <th>2253</th>\n",
       "      <td>1499</td>\n",
       "      <td>2018-10</td>\n",
       "      <td>363.28</td>\n",
       "    </tr>\n",
       "    <tr>\n",
       "      <th>2254</th>\n",
       "      <td>1499</td>\n",
       "      <td>2018-11</td>\n",
       "      <td>288.56</td>\n",
       "    </tr>\n",
       "    <tr>\n",
       "      <th>2255</th>\n",
       "      <td>1499</td>\n",
       "      <td>2018-12</td>\n",
       "      <td>468.10</td>\n",
       "    </tr>\n",
       "  </tbody>\n",
       "</table>\n",
       "<p>2256 rows × 3 columns</p>\n",
       "</div>"
      ],
      "text/plain": [
       "     user_id year_month  duration\n",
       "0       1000    2018-12    116.83\n",
       "1       1001    2018-08    171.14\n",
       "2       1001    2018-09    297.69\n",
       "3       1001    2018-10    374.11\n",
       "4       1001    2018-11    404.59\n",
       "...      ...        ...       ...\n",
       "2251    1498    2018-12    324.77\n",
       "2252    1499    2018-09    330.37\n",
       "2253    1499    2018-10    363.28\n",
       "2254    1499    2018-11    288.56\n",
       "2255    1499    2018-12    468.10\n",
       "\n",
       "[2256 rows x 3 columns]"
      ]
     },
     "execution_count": 31,
     "metadata": {},
     "output_type": "execute_result"
    }
   ],
   "source": [
    "# Calcule a quantidade de minutos gastos por cada usuário por mês. Salve o resultado.\n",
    "callmin_user = call_counts.groupby(['user_id' ,'year_month'])['duration'].sum().reset_index()\n",
    "callmin_user['duration'] = pd.to_numeric(callmin_user['duration'], errors='coerce')\n",
    "callmin_user = callmin_user[callmin_user['duration'] != 0]\n",
    "callmin_user.reset_index(drop =True)"
   ]
  },
  {
   "cell_type": "code",
   "execution_count": 32,
   "metadata": {
    "id": "MaM_cPxauj8q"
   },
   "outputs": [
    {
     "data": {
      "text/html": [
       "<div>\n",
       "<style scoped>\n",
       "    .dataframe tbody tr th:only-of-type {\n",
       "        vertical-align: middle;\n",
       "    }\n",
       "\n",
       "    .dataframe tbody tr th {\n",
       "        vertical-align: top;\n",
       "    }\n",
       "\n",
       "    .dataframe thead th {\n",
       "        text-align: right;\n",
       "    }\n",
       "</style>\n",
       "<table border=\"1\" class=\"dataframe\">\n",
       "  <thead>\n",
       "    <tr style=\"text-align: right;\">\n",
       "      <th></th>\n",
       "      <th>user_id</th>\n",
       "      <th>year_month</th>\n",
       "      <th>message_count</th>\n",
       "    </tr>\n",
       "  </thead>\n",
       "  <tbody>\n",
       "    <tr>\n",
       "      <th>0</th>\n",
       "      <td>1000</td>\n",
       "      <td>2018-12</td>\n",
       "      <td>11</td>\n",
       "    </tr>\n",
       "    <tr>\n",
       "      <th>1</th>\n",
       "      <td>1001</td>\n",
       "      <td>2018-08</td>\n",
       "      <td>30</td>\n",
       "    </tr>\n",
       "    <tr>\n",
       "      <th>2</th>\n",
       "      <td>1001</td>\n",
       "      <td>2018-09</td>\n",
       "      <td>44</td>\n",
       "    </tr>\n",
       "    <tr>\n",
       "      <th>3</th>\n",
       "      <td>1001</td>\n",
       "      <td>2018-10</td>\n",
       "      <td>53</td>\n",
       "    </tr>\n",
       "    <tr>\n",
       "      <th>4</th>\n",
       "      <td>1001</td>\n",
       "      <td>2018-11</td>\n",
       "      <td>36</td>\n",
       "    </tr>\n",
       "    <tr>\n",
       "      <th>...</th>\n",
       "      <td>...</td>\n",
       "      <td>...</td>\n",
       "      <td>...</td>\n",
       "    </tr>\n",
       "    <tr>\n",
       "      <th>1801</th>\n",
       "      <td>1496</td>\n",
       "      <td>2018-09</td>\n",
       "      <td>21</td>\n",
       "    </tr>\n",
       "    <tr>\n",
       "      <th>1802</th>\n",
       "      <td>1496</td>\n",
       "      <td>2018-10</td>\n",
       "      <td>18</td>\n",
       "    </tr>\n",
       "    <tr>\n",
       "      <th>1803</th>\n",
       "      <td>1496</td>\n",
       "      <td>2018-11</td>\n",
       "      <td>13</td>\n",
       "    </tr>\n",
       "    <tr>\n",
       "      <th>1804</th>\n",
       "      <td>1496</td>\n",
       "      <td>2018-12</td>\n",
       "      <td>11</td>\n",
       "    </tr>\n",
       "    <tr>\n",
       "      <th>1805</th>\n",
       "      <td>1497</td>\n",
       "      <td>2018-12</td>\n",
       "      <td>50</td>\n",
       "    </tr>\n",
       "  </tbody>\n",
       "</table>\n",
       "<p>1806 rows × 3 columns</p>\n",
       "</div>"
      ],
      "text/plain": [
       "     user_id year_month  message_count\n",
       "0       1000    2018-12             11\n",
       "1       1001    2018-08             30\n",
       "2       1001    2018-09             44\n",
       "3       1001    2018-10             53\n",
       "4       1001    2018-11             36\n",
       "...      ...        ...            ...\n",
       "1801    1496    2018-09             21\n",
       "1802    1496    2018-10             18\n",
       "1803    1496    2018-11             13\n",
       "1804    1496    2018-12             11\n",
       "1805    1497    2018-12             50\n",
       "\n",
       "[1806 rows x 3 columns]"
      ]
     },
     "execution_count": 32,
     "metadata": {},
     "output_type": "execute_result"
    }
   ],
   "source": [
    "# Calcule o número de mensagens enviadas por cada usuário por mês. Salve o resultado.\n",
    "\n",
    "msg_user = msg.groupby(['user_id', 'year_month']).size().reset_index(name='message_count')\n",
    "msg_user = msg_user[msg_user['message_count'] != 0]\n",
    "msg_user.reset_index(drop =True)"
   ]
  },
  {
   "cell_type": "code",
   "execution_count": 33,
   "metadata": {
    "id": "WsCEZJ_xuj8q"
   },
   "outputs": [
    {
     "data": {
      "text/html": [
       "<div>\n",
       "<style scoped>\n",
       "    .dataframe tbody tr th:only-of-type {\n",
       "        vertical-align: middle;\n",
       "    }\n",
       "\n",
       "    .dataframe tbody tr th {\n",
       "        vertical-align: top;\n",
       "    }\n",
       "\n",
       "    .dataframe thead th {\n",
       "        text-align: right;\n",
       "    }\n",
       "</style>\n",
       "<table border=\"1\" class=\"dataframe\">\n",
       "  <thead>\n",
       "    <tr style=\"text-align: right;\">\n",
       "      <th></th>\n",
       "      <th>user_id</th>\n",
       "      <th>year_month</th>\n",
       "      <th>gb_used</th>\n",
       "    </tr>\n",
       "  </thead>\n",
       "  <tbody>\n",
       "    <tr>\n",
       "      <th>0</th>\n",
       "      <td>1000</td>\n",
       "      <td>2018-12</td>\n",
       "      <td>1.856904</td>\n",
       "    </tr>\n",
       "    <tr>\n",
       "      <th>1</th>\n",
       "      <td>1001</td>\n",
       "      <td>2018-08</td>\n",
       "      <td>6.756982</td>\n",
       "    </tr>\n",
       "    <tr>\n",
       "      <th>2</th>\n",
       "      <td>1001</td>\n",
       "      <td>2018-09</td>\n",
       "      <td>13.002754</td>\n",
       "    </tr>\n",
       "    <tr>\n",
       "      <th>3</th>\n",
       "      <td>1001</td>\n",
       "      <td>2018-10</td>\n",
       "      <td>21.807119</td>\n",
       "    </tr>\n",
       "    <tr>\n",
       "      <th>4</th>\n",
       "      <td>1001</td>\n",
       "      <td>2018-11</td>\n",
       "      <td>18.070605</td>\n",
       "    </tr>\n",
       "    <tr>\n",
       "      <th>...</th>\n",
       "      <td>...</td>\n",
       "      <td>...</td>\n",
       "      <td>...</td>\n",
       "    </tr>\n",
       "    <tr>\n",
       "      <th>2272</th>\n",
       "      <td>1498</td>\n",
       "      <td>2018-12</td>\n",
       "      <td>22.595400</td>\n",
       "    </tr>\n",
       "    <tr>\n",
       "      <th>2273</th>\n",
       "      <td>1499</td>\n",
       "      <td>2018-09</td>\n",
       "      <td>12.680430</td>\n",
       "    </tr>\n",
       "    <tr>\n",
       "      <th>2274</th>\n",
       "      <td>1499</td>\n",
       "      <td>2018-10</td>\n",
       "      <td>19.035576</td>\n",
       "    </tr>\n",
       "    <tr>\n",
       "      <th>2275</th>\n",
       "      <td>1499</td>\n",
       "      <td>2018-11</td>\n",
       "      <td>16.419756</td>\n",
       "    </tr>\n",
       "    <tr>\n",
       "      <th>2276</th>\n",
       "      <td>1499</td>\n",
       "      <td>2018-12</td>\n",
       "      <td>21.542197</td>\n",
       "    </tr>\n",
       "  </tbody>\n",
       "</table>\n",
       "<p>2277 rows × 3 columns</p>\n",
       "</div>"
      ],
      "text/plain": [
       "     user_id year_month    gb_used\n",
       "0       1000    2018-12   1.856904\n",
       "1       1001    2018-08   6.756982\n",
       "2       1001    2018-09  13.002754\n",
       "3       1001    2018-10  21.807119\n",
       "4       1001    2018-11  18.070605\n",
       "...      ...        ...        ...\n",
       "2272    1498    2018-12  22.595400\n",
       "2273    1499    2018-09  12.680430\n",
       "2274    1499    2018-10  19.035576\n",
       "2275    1499    2018-11  16.419756\n",
       "2276    1499    2018-12  21.542197\n",
       "\n",
       "[2277 rows x 3 columns]"
      ]
     },
     "execution_count": 33,
     "metadata": {},
     "output_type": "execute_result"
    }
   ],
   "source": [
    "# Calcule o volume de tráfego de internet usado por cada usuário por mês. Salve o resultado.\n",
    "\n",
    "trafego_user = internet.groupby(['user_id', 'year_month']).agg({'gb_used': 'sum'}).reset_index()\n",
    "trafego_user = trafego_user[trafego_user['gb_used']!= 0]\n",
    "\n",
    "trafego_user.reset_index(drop =True)"
   ]
  },
  {
   "cell_type": "code",
   "execution_count": 34,
   "metadata": {
    "id": "BYDTkxOauj8r"
   },
   "outputs": [
    {
     "data": {
      "text/html": [
       "<div>\n",
       "<style scoped>\n",
       "    .dataframe tbody tr th:only-of-type {\n",
       "        vertical-align: middle;\n",
       "    }\n",
       "\n",
       "    .dataframe tbody tr th {\n",
       "        vertical-align: top;\n",
       "    }\n",
       "\n",
       "    .dataframe thead th {\n",
       "        text-align: right;\n",
       "    }\n",
       "</style>\n",
       "<table border=\"1\" class=\"dataframe\">\n",
       "  <thead>\n",
       "    <tr style=\"text-align: right;\">\n",
       "      <th></th>\n",
       "      <th>user_id</th>\n",
       "      <th>year_month</th>\n",
       "      <th>gb_used</th>\n",
       "      <th>message_count</th>\n",
       "      <th>duration</th>\n",
       "    </tr>\n",
       "  </thead>\n",
       "  <tbody>\n",
       "    <tr>\n",
       "      <th>0</th>\n",
       "      <td>1000.0</td>\n",
       "      <td>2018-12</td>\n",
       "      <td>1.856904</td>\n",
       "      <td>11.0</td>\n",
       "      <td>116.83</td>\n",
       "    </tr>\n",
       "    <tr>\n",
       "      <th>1</th>\n",
       "      <td>1001.0</td>\n",
       "      <td>2018-08</td>\n",
       "      <td>6.756982</td>\n",
       "      <td>30.0</td>\n",
       "      <td>171.14</td>\n",
       "    </tr>\n",
       "    <tr>\n",
       "      <th>2</th>\n",
       "      <td>1001.0</td>\n",
       "      <td>2018-09</td>\n",
       "      <td>13.002754</td>\n",
       "      <td>44.0</td>\n",
       "      <td>297.69</td>\n",
       "    </tr>\n",
       "    <tr>\n",
       "      <th>3</th>\n",
       "      <td>1001.0</td>\n",
       "      <td>2018-10</td>\n",
       "      <td>21.807119</td>\n",
       "      <td>53.0</td>\n",
       "      <td>374.11</td>\n",
       "    </tr>\n",
       "    <tr>\n",
       "      <th>4</th>\n",
       "      <td>1001.0</td>\n",
       "      <td>2018-11</td>\n",
       "      <td>18.070605</td>\n",
       "      <td>36.0</td>\n",
       "      <td>404.59</td>\n",
       "    </tr>\n",
       "    <tr>\n",
       "      <th>...</th>\n",
       "      <td>...</td>\n",
       "      <td>...</td>\n",
       "      <td>...</td>\n",
       "      <td>...</td>\n",
       "      <td>...</td>\n",
       "    </tr>\n",
       "    <tr>\n",
       "      <th>2288</th>\n",
       "      <td>1470.0</td>\n",
       "      <td>2018-12</td>\n",
       "      <td>NaN</td>\n",
       "      <td>153.0</td>\n",
       "      <td>560.44</td>\n",
       "    </tr>\n",
       "    <tr>\n",
       "      <th>2289</th>\n",
       "      <td>1482.0</td>\n",
       "      <td>2018-10</td>\n",
       "      <td>NaN</td>\n",
       "      <td>2.0</td>\n",
       "      <td>NaN</td>\n",
       "    </tr>\n",
       "    <tr>\n",
       "      <th>2290</th>\n",
       "      <td>1484.0</td>\n",
       "      <td>2018-11</td>\n",
       "      <td>NaN</td>\n",
       "      <td>1.0</td>\n",
       "      <td>37.50</td>\n",
       "    </tr>\n",
       "    <tr>\n",
       "      <th>2291</th>\n",
       "      <td>1491.0</td>\n",
       "      <td>2018-04</td>\n",
       "      <td>NaN</td>\n",
       "      <td>6.0</td>\n",
       "      <td>40.45</td>\n",
       "    </tr>\n",
       "    <tr>\n",
       "      <th>2292</th>\n",
       "      <td>1044.0</td>\n",
       "      <td>2018-08</td>\n",
       "      <td>NaN</td>\n",
       "      <td>NaN</td>\n",
       "      <td>12.45</td>\n",
       "    </tr>\n",
       "  </tbody>\n",
       "</table>\n",
       "<p>2293 rows × 5 columns</p>\n",
       "</div>"
      ],
      "text/plain": [
       "      user_id year_month    gb_used  message_count  duration\n",
       "0      1000.0    2018-12   1.856904           11.0    116.83\n",
       "1      1001.0    2018-08   6.756982           30.0    171.14\n",
       "2      1001.0    2018-09  13.002754           44.0    297.69\n",
       "3      1001.0    2018-10  21.807119           53.0    374.11\n",
       "4      1001.0    2018-11  18.070605           36.0    404.59\n",
       "...       ...        ...        ...            ...       ...\n",
       "2288   1470.0    2018-12        NaN          153.0    560.44\n",
       "2289   1482.0    2018-10        NaN            2.0       NaN\n",
       "2290   1484.0    2018-11        NaN            1.0     37.50\n",
       "2291   1491.0    2018-04        NaN            6.0     40.45\n",
       "2292   1044.0    2018-08        NaN            NaN     12.45\n",
       "\n",
       "[2293 rows x 5 columns]"
      ]
     },
     "execution_count": 34,
     "metadata": {},
     "output_type": "execute_result"
    }
   ],
   "source": [
    "# Junte os dados de chamadas, minutos, mensagens e internet com base em user_id e month\n",
    "merged_data = trafego_user.merge(msg_user, on=['user_id', 'year_month'], how='outer')\n",
    "merged_data = merged_data.merge(callmin_user, on=['user_id', 'year_month'], how='outer')\n",
    "\n",
    "merged_data"
   ]
  },
  {
   "cell_type": "markdown",
   "metadata": {},
   "source": [
    "<div class=\"alert alert-block alert-danger\">\n",
    "<b> Comentário do revisor: </b> <a class=\"tocSkip\"></a>\n",
    "    \n",
    "<s>Você fez o uso correto do `outer` nessa etapa, porém o dataframe resultante possui mais linhas do que o esperado. Dica: aqui é esperado que se tenha não mais do que `2300` linhas após a execução do `merge`. Você pode investigar as etapas de agregação anteriores ao `merge` para garantir que os dados estão sendo unidos corretamente. </s>\n",
    "</div>"
   ]
  },
  {
   "cell_type": "code",
   "execution_count": 35,
   "metadata": {
    "id": "SW-sgLaHuj8r"
   },
   "outputs": [
    {
     "data": {
      "text/html": [
       "<div>\n",
       "<style scoped>\n",
       "    .dataframe tbody tr th:only-of-type {\n",
       "        vertical-align: middle;\n",
       "    }\n",
       "\n",
       "    .dataframe tbody tr th {\n",
       "        vertical-align: top;\n",
       "    }\n",
       "\n",
       "    .dataframe thead th {\n",
       "        text-align: right;\n",
       "    }\n",
       "</style>\n",
       "<table border=\"1\" class=\"dataframe\">\n",
       "  <thead>\n",
       "    <tr style=\"text-align: right;\">\n",
       "      <th></th>\n",
       "      <th>user_id</th>\n",
       "      <th>year_month</th>\n",
       "      <th>gb_used</th>\n",
       "      <th>message_count</th>\n",
       "      <th>duration</th>\n",
       "      <th>plan</th>\n",
       "      <th>estado</th>\n",
       "    </tr>\n",
       "  </thead>\n",
       "  <tbody>\n",
       "    <tr>\n",
       "      <th>0</th>\n",
       "      <td>1000.0</td>\n",
       "      <td>2018-12</td>\n",
       "      <td>1.856904</td>\n",
       "      <td>11.0</td>\n",
       "      <td>116.83</td>\n",
       "      <td>ultimate</td>\n",
       "      <td>GA MSA</td>\n",
       "    </tr>\n",
       "    <tr>\n",
       "      <th>1</th>\n",
       "      <td>1001.0</td>\n",
       "      <td>2018-08</td>\n",
       "      <td>6.756982</td>\n",
       "      <td>30.0</td>\n",
       "      <td>171.14</td>\n",
       "      <td>surf</td>\n",
       "      <td>WA MSA</td>\n",
       "    </tr>\n",
       "    <tr>\n",
       "      <th>2</th>\n",
       "      <td>1001.0</td>\n",
       "      <td>2018-09</td>\n",
       "      <td>13.002754</td>\n",
       "      <td>44.0</td>\n",
       "      <td>297.69</td>\n",
       "      <td>surf</td>\n",
       "      <td>WA MSA</td>\n",
       "    </tr>\n",
       "    <tr>\n",
       "      <th>3</th>\n",
       "      <td>1001.0</td>\n",
       "      <td>2018-10</td>\n",
       "      <td>21.807119</td>\n",
       "      <td>53.0</td>\n",
       "      <td>374.11</td>\n",
       "      <td>surf</td>\n",
       "      <td>WA MSA</td>\n",
       "    </tr>\n",
       "    <tr>\n",
       "      <th>4</th>\n",
       "      <td>1001.0</td>\n",
       "      <td>2018-11</td>\n",
       "      <td>18.070605</td>\n",
       "      <td>36.0</td>\n",
       "      <td>404.59</td>\n",
       "      <td>surf</td>\n",
       "      <td>WA MSA</td>\n",
       "    </tr>\n",
       "  </tbody>\n",
       "</table>\n",
       "</div>"
      ],
      "text/plain": [
       "  user_id year_month    gb_used  message_count  duration      plan  estado\n",
       "0  1000.0    2018-12   1.856904           11.0    116.83  ultimate  GA MSA\n",
       "1  1001.0    2018-08   6.756982           30.0    171.14      surf  WA MSA\n",
       "2  1001.0    2018-09  13.002754           44.0    297.69      surf  WA MSA\n",
       "3  1001.0    2018-10  21.807119           53.0    374.11      surf  WA MSA\n",
       "4  1001.0    2018-11  18.070605           36.0    404.59      surf  WA MSA"
      ]
     },
     "execution_count": 35,
     "metadata": {},
     "output_type": "execute_result"
    }
   ],
   "source": [
    "merged_data = merged_data.merge(user[['user_id', 'plan' , 'estado']], on='user_id', how='left')\n",
    "\n",
    "merged_data.head()"
   ]
  },
  {
   "cell_type": "code",
   "execution_count": 36,
   "metadata": {},
   "outputs": [
    {
     "data": {
      "text/html": [
       "<div>\n",
       "<style scoped>\n",
       "    .dataframe tbody tr th:only-of-type {\n",
       "        vertical-align: middle;\n",
       "    }\n",
       "\n",
       "    .dataframe tbody tr th {\n",
       "        vertical-align: top;\n",
       "    }\n",
       "\n",
       "    .dataframe thead th {\n",
       "        text-align: right;\n",
       "    }\n",
       "</style>\n",
       "<table border=\"1\" class=\"dataframe\">\n",
       "  <thead>\n",
       "    <tr style=\"text-align: right;\">\n",
       "      <th></th>\n",
       "      <th>messages_included</th>\n",
       "      <th>gb_per_month_included</th>\n",
       "      <th>minutes_included</th>\n",
       "      <th>usd_monthly_pay</th>\n",
       "      <th>usd_per_gb</th>\n",
       "      <th>usd_per_message</th>\n",
       "      <th>usd_per_minute</th>\n",
       "      <th>plan</th>\n",
       "    </tr>\n",
       "  </thead>\n",
       "  <tbody>\n",
       "    <tr>\n",
       "      <th>0</th>\n",
       "      <td>50</td>\n",
       "      <td>15.0</td>\n",
       "      <td>500</td>\n",
       "      <td>20</td>\n",
       "      <td>10</td>\n",
       "      <td>0.03</td>\n",
       "      <td>0.03</td>\n",
       "      <td>surf</td>\n",
       "    </tr>\n",
       "    <tr>\n",
       "      <th>1</th>\n",
       "      <td>1000</td>\n",
       "      <td>30.0</td>\n",
       "      <td>3000</td>\n",
       "      <td>70</td>\n",
       "      <td>7</td>\n",
       "      <td>0.01</td>\n",
       "      <td>0.01</td>\n",
       "      <td>ultimate</td>\n",
       "    </tr>\n",
       "  </tbody>\n",
       "</table>\n",
       "</div>"
      ],
      "text/plain": [
       "   messages_included  gb_per_month_included  minutes_included  \\\n",
       "0                 50                   15.0               500   \n",
       "1               1000                   30.0              3000   \n",
       "\n",
       "   usd_monthly_pay  usd_per_gb  usd_per_message  usd_per_minute      plan  \n",
       "0               20          10             0.03            0.03      surf  \n",
       "1               70           7             0.01            0.01  ultimate  "
      ]
     },
     "execution_count": 36,
     "metadata": {},
     "output_type": "execute_result"
    }
   ],
   "source": [
    "plan = plan.rename(columns={'plan_name': 'plan'})\n",
    "plan.head()"
   ]
  },
  {
   "cell_type": "code",
   "execution_count": 37,
   "metadata": {},
   "outputs": [
    {
     "data": {
      "text/html": [
       "<div>\n",
       "<style scoped>\n",
       "    .dataframe tbody tr th:only-of-type {\n",
       "        vertical-align: middle;\n",
       "    }\n",
       "\n",
       "    .dataframe tbody tr th {\n",
       "        vertical-align: top;\n",
       "    }\n",
       "\n",
       "    .dataframe thead th {\n",
       "        text-align: right;\n",
       "    }\n",
       "</style>\n",
       "<table border=\"1\" class=\"dataframe\">\n",
       "  <thead>\n",
       "    <tr style=\"text-align: right;\">\n",
       "      <th></th>\n",
       "      <th>user_id</th>\n",
       "      <th>year_month</th>\n",
       "      <th>gb_used</th>\n",
       "      <th>message_count</th>\n",
       "      <th>duration</th>\n",
       "      <th>plan</th>\n",
       "      <th>estado</th>\n",
       "      <th>messages_included</th>\n",
       "      <th>gb_per_month_included</th>\n",
       "      <th>minutes_included</th>\n",
       "      <th>usd_monthly_pay</th>\n",
       "      <th>usd_per_gb</th>\n",
       "      <th>usd_per_message</th>\n",
       "      <th>usd_per_minute</th>\n",
       "    </tr>\n",
       "  </thead>\n",
       "  <tbody>\n",
       "    <tr>\n",
       "      <th>0</th>\n",
       "      <td>1000.0</td>\n",
       "      <td>2018-12</td>\n",
       "      <td>1.856904</td>\n",
       "      <td>11.0</td>\n",
       "      <td>116.83</td>\n",
       "      <td>ultimate</td>\n",
       "      <td>GA MSA</td>\n",
       "      <td>1000</td>\n",
       "      <td>30.0</td>\n",
       "      <td>3000</td>\n",
       "      <td>70</td>\n",
       "      <td>7</td>\n",
       "      <td>0.01</td>\n",
       "      <td>0.01</td>\n",
       "    </tr>\n",
       "    <tr>\n",
       "      <th>1</th>\n",
       "      <td>1006.0</td>\n",
       "      <td>2018-11</td>\n",
       "      <td>2.019893</td>\n",
       "      <td>15.0</td>\n",
       "      <td>9.32</td>\n",
       "      <td>ultimate</td>\n",
       "      <td>CA MSA</td>\n",
       "      <td>1000</td>\n",
       "      <td>30.0</td>\n",
       "      <td>3000</td>\n",
       "      <td>70</td>\n",
       "      <td>7</td>\n",
       "      <td>0.01</td>\n",
       "      <td>0.01</td>\n",
       "    </tr>\n",
       "    <tr>\n",
       "      <th>2</th>\n",
       "      <td>1006.0</td>\n",
       "      <td>2018-12</td>\n",
       "      <td>31.366035</td>\n",
       "      <td>139.0</td>\n",
       "      <td>54.79</td>\n",
       "      <td>ultimate</td>\n",
       "      <td>CA MSA</td>\n",
       "      <td>1000</td>\n",
       "      <td>30.0</td>\n",
       "      <td>3000</td>\n",
       "      <td>70</td>\n",
       "      <td>7</td>\n",
       "      <td>0.01</td>\n",
       "      <td>0.01</td>\n",
       "    </tr>\n",
       "    <tr>\n",
       "      <th>3</th>\n",
       "      <td>1008.0</td>\n",
       "      <td>2018-10</td>\n",
       "      <td>16.706045</td>\n",
       "      <td>21.0</td>\n",
       "      <td>450.21</td>\n",
       "      <td>ultimate</td>\n",
       "      <td>FL MSA</td>\n",
       "      <td>1000</td>\n",
       "      <td>30.0</td>\n",
       "      <td>3000</td>\n",
       "      <td>70</td>\n",
       "      <td>7</td>\n",
       "      <td>0.01</td>\n",
       "      <td>0.01</td>\n",
       "    </tr>\n",
       "    <tr>\n",
       "      <th>4</th>\n",
       "      <td>1008.0</td>\n",
       "      <td>2018-11</td>\n",
       "      <td>23.121797</td>\n",
       "      <td>37.0</td>\n",
       "      <td>422.81</td>\n",
       "      <td>ultimate</td>\n",
       "      <td>FL MSA</td>\n",
       "      <td>1000</td>\n",
       "      <td>30.0</td>\n",
       "      <td>3000</td>\n",
       "      <td>70</td>\n",
       "      <td>7</td>\n",
       "      <td>0.01</td>\n",
       "      <td>0.01</td>\n",
       "    </tr>\n",
       "  </tbody>\n",
       "</table>\n",
       "</div>"
      ],
      "text/plain": [
       "  user_id year_month    gb_used  message_count  duration      plan  estado  \\\n",
       "0  1000.0    2018-12   1.856904           11.0    116.83  ultimate  GA MSA   \n",
       "1  1006.0    2018-11   2.019893           15.0      9.32  ultimate  CA MSA   \n",
       "2  1006.0    2018-12  31.366035          139.0     54.79  ultimate  CA MSA   \n",
       "3  1008.0    2018-10  16.706045           21.0    450.21  ultimate  FL MSA   \n",
       "4  1008.0    2018-11  23.121797           37.0    422.81  ultimate  FL MSA   \n",
       "\n",
       "   messages_included  gb_per_month_included  minutes_included  \\\n",
       "0               1000                   30.0              3000   \n",
       "1               1000                   30.0              3000   \n",
       "2               1000                   30.0              3000   \n",
       "3               1000                   30.0              3000   \n",
       "4               1000                   30.0              3000   \n",
       "\n",
       "   usd_monthly_pay  usd_per_gb  usd_per_message  usd_per_minute  \n",
       "0               70           7             0.01            0.01  \n",
       "1               70           7             0.01            0.01  \n",
       "2               70           7             0.01            0.01  \n",
       "3               70           7             0.01            0.01  \n",
       "4               70           7             0.01            0.01  "
      ]
     },
     "execution_count": 37,
     "metadata": {},
     "output_type": "execute_result"
    }
   ],
   "source": [
    "merged_data = merged_data.merge(plan, on='plan', how='outer')\n",
    "merged_data.head()"
   ]
  },
  {
   "cell_type": "code",
   "execution_count": 38,
   "metadata": {},
   "outputs": [
    {
     "data": {
      "text/html": [
       "<div>\n",
       "<style scoped>\n",
       "    .dataframe tbody tr th:only-of-type {\n",
       "        vertical-align: middle;\n",
       "    }\n",
       "\n",
       "    .dataframe tbody tr th {\n",
       "        vertical-align: top;\n",
       "    }\n",
       "\n",
       "    .dataframe thead th {\n",
       "        text-align: right;\n",
       "    }\n",
       "</style>\n",
       "<table border=\"1\" class=\"dataframe\">\n",
       "  <thead>\n",
       "    <tr style=\"text-align: right;\">\n",
       "      <th></th>\n",
       "      <th>user_id</th>\n",
       "      <th>year_month</th>\n",
       "      <th>total_revenue</th>\n",
       "    </tr>\n",
       "  </thead>\n",
       "  <tbody>\n",
       "    <tr>\n",
       "      <th>0</th>\n",
       "      <td>1000.0</td>\n",
       "      <td>2018-12</td>\n",
       "      <td>70.000000</td>\n",
       "    </tr>\n",
       "    <tr>\n",
       "      <th>1</th>\n",
       "      <td>1001.0</td>\n",
       "      <td>2018-08</td>\n",
       "      <td>20.000000</td>\n",
       "    </tr>\n",
       "    <tr>\n",
       "      <th>2</th>\n",
       "      <td>1001.0</td>\n",
       "      <td>2018-09</td>\n",
       "      <td>20.000000</td>\n",
       "    </tr>\n",
       "    <tr>\n",
       "      <th>3</th>\n",
       "      <td>1001.0</td>\n",
       "      <td>2018-10</td>\n",
       "      <td>88.161191</td>\n",
       "    </tr>\n",
       "    <tr>\n",
       "      <th>4</th>\n",
       "      <td>1001.0</td>\n",
       "      <td>2018-11</td>\n",
       "      <td>50.706055</td>\n",
       "    </tr>\n",
       "    <tr>\n",
       "      <th>...</th>\n",
       "      <td>...</td>\n",
       "      <td>...</td>\n",
       "      <td>...</td>\n",
       "    </tr>\n",
       "    <tr>\n",
       "      <th>2288</th>\n",
       "      <td>1498.0</td>\n",
       "      <td>2018-12</td>\n",
       "      <td>95.954004</td>\n",
       "    </tr>\n",
       "    <tr>\n",
       "      <th>2289</th>\n",
       "      <td>1499.0</td>\n",
       "      <td>2018-09</td>\n",
       "      <td>20.000000</td>\n",
       "    </tr>\n",
       "    <tr>\n",
       "      <th>2290</th>\n",
       "      <td>1499.0</td>\n",
       "      <td>2018-10</td>\n",
       "      <td>60.355762</td>\n",
       "    </tr>\n",
       "    <tr>\n",
       "      <th>2291</th>\n",
       "      <td>1499.0</td>\n",
       "      <td>2018-11</td>\n",
       "      <td>34.197559</td>\n",
       "    </tr>\n",
       "    <tr>\n",
       "      <th>2292</th>\n",
       "      <td>1499.0</td>\n",
       "      <td>2018-12</td>\n",
       "      <td>85.421973</td>\n",
       "    </tr>\n",
       "  </tbody>\n",
       "</table>\n",
       "<p>2293 rows × 3 columns</p>\n",
       "</div>"
      ],
      "text/plain": [
       "      user_id year_month  total_revenue\n",
       "0      1000.0    2018-12      70.000000\n",
       "1      1001.0    2018-08      20.000000\n",
       "2      1001.0    2018-09      20.000000\n",
       "3      1001.0    2018-10      88.161191\n",
       "4      1001.0    2018-11      50.706055\n",
       "...       ...        ...            ...\n",
       "2288   1498.0    2018-12      95.954004\n",
       "2289   1499.0    2018-09      20.000000\n",
       "2290   1499.0    2018-10      60.355762\n",
       "2291   1499.0    2018-11      34.197559\n",
       "2292   1499.0    2018-12      85.421973\n",
       "\n",
       "[2293 rows x 3 columns]"
      ]
     },
     "execution_count": 38,
     "metadata": {},
     "output_type": "execute_result"
    }
   ],
   "source": [
    "def calculate_rev(row):\n",
    "    minutes_used = max(0, row['duration'] - row['minutes_included'])\n",
    "    messages_used = max(0, row['message_count'] - row['messages_included'])\n",
    "    internet_used = max(0, (row['gb_used']) - row['gb_per_month_included']) \n",
    "\n",
    "    # Calcular o custo excedente \n",
    "    extra_minutes_cost = minutes_used * row['usd_per_minute']\n",
    "    extra_messages_cost = messages_used * row['usd_per_message']\n",
    "    extra_internet_cost = internet_used * row['usd_per_gb'] # verifique que o valor está por `gb`\n",
    "\n",
    "    # Calcular o custo Total dos extras adicionar o preço mensal do plano\n",
    "    total_monthly_revenue = extra_minutes_cost + extra_messages_cost + extra_internet_cost + row['usd_monthly_pay'] \n",
    "\n",
    "    return total_monthly_revenue\n",
    "\n",
    "merged_data['total_revenue'] = merged_data.apply(calculate_rev, axis=1)\n",
    "\n",
    "   \n",
    "merged_data.groupby(['user_id','year_month'])['total_revenue'].sum().reset_index()"
   ]
  },
  {
   "attachments": {
    "image.png": {
     "image/png": "[encoded data removed]"
    }
   },
   "cell_type": "markdown",
   "metadata": {},
   "source": [
    "<div class=\"alert alert-block alert-danger\">\n",
    "<b> Comentário do revisor v1: </b> <a class=\"tocSkip\"></a>\n",
    "<s>\n",
    "    \n",
    "Aqui precisamos de um pequeno ajuste, pois os resultados não estão de acordo com o esperado. Segue abaixo a receita esperada para as 5 primeiras linhas. \n",
    "    \n",
    "![image.png](attachment:image.png)\n",
    "    \n",
    "    \n",
    "Obs.: Aqui o ideal é usar `max()` também, para evitar valores negativos na operação acima. Segue um exemplo de código para cálculo da receita.\n",
    "    \n",
    "```python\n",
    "def calculate_rev(row):\n",
    "    minutes_used = max(0, row['total_duration'] - row['minutes_included'])\n",
    "    messages_used = max(0, row['total_sms'] - row['messages_included'])\n",
    "    internet_used = max(0, (row['..']) - row['..']) \n",
    "\n",
    "    # Calcular o custo excedente \n",
    "    extra_minutes_cost = minutes_used * row['..']\n",
    "    extra_messages_cost = messages_used * row['..']\n",
    "    extra_internet_cost = internet_used * row['usd_per_gb'] # verifique que o valor está por `gb`\n",
    "    \n",
    "    # Calcular o custo Total dos extras adicionar o preço mensal do plano\n",
    "    total_monthly_revenue = extra_minutes_cost + extra_messages_cost + extra_internet_cost + row['..'] # valor do plano\n",
    "        \n",
    "    return total_monthly_revenue\n",
    "``` \n",
    "</s>\n",
    "</div>"
   ]
  },
  {
   "cell_type": "markdown",
   "metadata": {},
   "source": [
    "<div class=\"alert alert-block alert-info\">\n",
    "<b>\n",
    "tinha faltado ter dado merge na tabela plan pra fazer assim e remover os valores 0 pra ajustar a tabela\n",
    "</b> <a class=\"tocSkip\"></a>\n",
    "</div> "
   ]
  },
  {
   "cell_type": "markdown",
   "metadata": {
    "id": "0HFWXKTQuj8r"
   },
   "source": [
    "## Estude o comportamento do usuário"
   ]
  },
  {
   "cell_type": "markdown",
   "metadata": {
    "id": "umaMfSLxuj8s"
   },
   "source": [
    "### Chamadas"
   ]
  },
  {
   "cell_type": "code",
   "execution_count": 39,
   "metadata": {},
   "outputs": [
    {
     "data": {
      "text/html": [
       "<div>\n",
       "<style scoped>\n",
       "    .dataframe tbody tr th:only-of-type {\n",
       "        vertical-align: middle;\n",
       "    }\n",
       "\n",
       "    .dataframe tbody tr th {\n",
       "        vertical-align: top;\n",
       "    }\n",
       "\n",
       "    .dataframe thead th {\n",
       "        text-align: right;\n",
       "    }\n",
       "</style>\n",
       "<table border=\"1\" class=\"dataframe\">\n",
       "  <thead>\n",
       "    <tr style=\"text-align: right;\">\n",
       "      <th>plan</th>\n",
       "      <th>surf</th>\n",
       "      <th>ultimate</th>\n",
       "    </tr>\n",
       "    <tr>\n",
       "      <th>year_month</th>\n",
       "      <th></th>\n",
       "      <th></th>\n",
       "    </tr>\n",
       "  </thead>\n",
       "  <tbody>\n",
       "    <tr>\n",
       "      <th>2018-01</th>\n",
       "      <td>192.840000</td>\n",
       "      <td>183.162500</td>\n",
       "    </tr>\n",
       "    <tr>\n",
       "      <th>2018-02</th>\n",
       "      <td>280.851111</td>\n",
       "      <td>443.171667</td>\n",
       "    </tr>\n",
       "    <tr>\n",
       "      <th>2018-03</th>\n",
       "      <td>310.970000</td>\n",
       "      <td>285.701667</td>\n",
       "    </tr>\n",
       "    <tr>\n",
       "      <th>2018-04</th>\n",
       "      <td>332.380000</td>\n",
       "      <td>316.508095</td>\n",
       "    </tr>\n",
       "    <tr>\n",
       "      <th>2018-05</th>\n",
       "      <td>387.108000</td>\n",
       "      <td>383.664828</td>\n",
       "    </tr>\n",
       "    <tr>\n",
       "      <th>2018-06</th>\n",
       "      <td>411.450625</td>\n",
       "      <td>365.358222</td>\n",
       "    </tr>\n",
       "    <tr>\n",
       "      <th>2018-07</th>\n",
       "      <td>428.060917</td>\n",
       "      <td>403.767288</td>\n",
       "    </tr>\n",
       "    <tr>\n",
       "      <th>2018-08</th>\n",
       "      <td>394.474717</td>\n",
       "      <td>397.274789</td>\n",
       "    </tr>\n",
       "    <tr>\n",
       "      <th>2018-09</th>\n",
       "      <td>397.133298</td>\n",
       "      <td>413.287326</td>\n",
       "    </tr>\n",
       "    <tr>\n",
       "      <th>2018-10</th>\n",
       "      <td>416.229827</td>\n",
       "      <td>429.217238</td>\n",
       "    </tr>\n",
       "    <tr>\n",
       "      <th>2018-11</th>\n",
       "      <td>408.255415</td>\n",
       "      <td>427.205200</td>\n",
       "    </tr>\n",
       "    <tr>\n",
       "      <th>2018-12</th>\n",
       "      <td>457.547074</td>\n",
       "      <td>438.824832</td>\n",
       "    </tr>\n",
       "  </tbody>\n",
       "</table>\n",
       "</div>"
      ],
      "text/plain": [
       "plan              surf    ultimate\n",
       "year_month                        \n",
       "2018-01     192.840000  183.162500\n",
       "2018-02     280.851111  443.171667\n",
       "2018-03     310.970000  285.701667\n",
       "2018-04     332.380000  316.508095\n",
       "2018-05     387.108000  383.664828\n",
       "2018-06     411.450625  365.358222\n",
       "2018-07     428.060917  403.767288\n",
       "2018-08     394.474717  397.274789\n",
       "2018-09     397.133298  413.287326\n",
       "2018-10     416.229827  429.217238\n",
       "2018-11     408.255415  427.205200\n",
       "2018-12     457.547074  438.824832"
      ]
     },
     "execution_count": 39,
     "metadata": {},
     "output_type": "execute_result"
    }
   ],
   "source": [
    "merged_data.groupby(['year_month' ,'plan'])['duration'].mean().unstack()"
   ]
  },
  {
   "cell_type": "code",
   "execution_count": 40,
   "metadata": {
    "id": "0236-tJnuj8t"
   },
   "outputs": [
    {
     "data": {
      "image/png": "[encoded data removed]",
      "text/plain": [
       "<Figure size 1200x600 with 1 Axes>"
      ]
     },
     "metadata": {},
     "output_type": "display_data"
    }
   ],
   "source": [
    "# Compare a duração média das chamadas de cada plano para cada mês. Crie um gráfico de barras para visualizar o resultado.\n",
    "\n",
    "x = merged_data.groupby(['year_month' ,'plan'])['duration'].mean().unstack()\n",
    "\n",
    "x.plot(kind='bar', figsize=(12, 6), color=['blue', 'orange'])\n",
    "\n",
    "\n",
    "plt.title('Média de Duração por Mês e Plano')\n",
    "plt.xlabel('Ano e Mês')\n",
    "plt.ylabel('Duração Média')\n",
    "plt.xticks(rotation=75)\n",
    "plt.legend(title='Plano')\n",
    "plt.tight_layout()\n",
    "\n",
    "plt.show()\n"
   ]
  },
  {
   "cell_type": "code",
   "execution_count": 41,
   "metadata": {},
   "outputs": [
    {
     "data": {
      "text/plain": [
       "<Figure size 1200x600 with 0 Axes>"
      ]
     },
     "metadata": {},
     "output_type": "display_data"
    },
    {
     "data": {
      "image/png": "[encoded data removed]",
      "text/plain": [
       "<Figure size 640x480 with 1 Axes>"
      ]
     },
     "metadata": {},
     "output_type": "display_data"
    }
   ],
   "source": [
    " #Compare o número de minutos que os usuários de cada plano necessitam a cada mês.\n",
    "x = merged_data.groupby(['year_month', 'plan'])['duration'].sum().unstack()\n",
    "\n",
    "plt.figure(figsize=(12, 6))\n",
    "x.plot(kind='bar', alpha=0.7)\n",
    "\n",
    "plt.title('Minutos totais por Mês para Planos Surf e Ultimate')\n",
    "plt.xlabel('Mês')\n",
    "plt.ylabel('Duração Total (minutos)')\n",
    "plt.xticks(rotation=45)  \n",
    "plt.legend(title='Planos')     \n",
    "plt.tight_layout()  \n",
    "plt.show()"
   ]
  },
  {
   "cell_type": "code",
   "execution_count": 42,
   "metadata": {},
   "outputs": [
    {
     "data": {
      "image/png": "[encoded data removed]",
      "text/plain": [
       "<Figure size 1200x600 with 1 Axes>"
      ]
     },
     "metadata": {},
     "output_type": "display_data"
    }
   ],
   "source": [
    "# Compare o número de minutos que os usuários de cada plano necessitam a cada mês. Construa um histograma.\n",
    "x = merged_data.groupby(['year_month', 'plan'])['duration'].sum().unstack()\n",
    "\n",
    "\n",
    "plt.figure(figsize=(12, 6))\n",
    "plt.hist(x['surf'], bins=12, alpha=0.5, color='blue', label='surf', edgecolor='black')\n",
    "\n",
    "plt.hist(x['ultimate'], bins=12, alpha=0.5, color='orange', label='ultimate', edgecolor='black')\n",
    "\n",
    "plt.title('Duração Total por Mês para Surf e Ultimate')\n",
    "plt.xlabel('Duração Total (minutos)')\n",
    "plt.ylabel('Frequência')\n",
    "plt.xticks(rotation=45) \n",
    "plt.legend()\n",
    "plt.tight_layout()  \n",
    "plt.show()\n"
   ]
  },
  {
   "cell_type": "markdown",
   "metadata": {},
   "source": [
    "<div style=\"background-color: lightblue; color: black; padding: 10px;\">\n",
    "O grafico de barras ficou muito mais didatico neste caso especifico para ver o total de minutos por plano a cada mes, caso o cliente pedisse para analisar estes dados em sequencia por mes eu entregaria um grafico de barras para uma melhor visualização.    \n",
    "</div>"
   ]
  },
  {
   "cell_type": "markdown",
   "metadata": {
    "id": "_x1pRDFtuj8u"
   },
   "source": [
    "[Calcule a média e a variância da duração das chamadas para refletir se os usuários de cada plano possuem comportamentos diferentes sobre as chamadas.]"
   ]
  },
  {
   "cell_type": "code",
   "execution_count": 43,
   "metadata": {
    "id": "cIdodPExuj8u"
   },
   "outputs": [
    {
     "name": "stdout",
     "output_type": "stream",
     "text": [
      "MEDIA DE CADA PLANO \n",
      " plan              surf    ultimate\n",
      "year_month                        \n",
      "2018-01     192.840000  183.162500\n",
      "2018-02     280.851111  443.171667\n",
      "2018-03     310.970000  285.701667\n",
      "2018-04     332.380000  316.508095\n",
      "2018-05     387.108000  383.664828\n",
      "2018-06     411.450625  365.358222\n",
      "2018-07     428.060917  403.767288\n",
      "2018-08     394.474717  397.274789\n",
      "2018-09     397.133298  413.287326\n",
      "2018-10     416.229827  429.217238\n",
      "2018-11     408.255415  427.205200\n",
      "2018-12     457.547074  438.824832\n",
      "\n",
      "\n",
      "VARIANCIA \n",
      " plan\n",
      "surf        5181.029808\n",
      "ultimate    5460.575876\n",
      "dtype: float64\n"
     ]
    }
   ],
   "source": [
    "# Calcule a média e a variância da duração mensal das chamadas\n",
    "media = merged_data.groupby(['year_month' ,'plan'])['duration'].mean().unstack()\n",
    "print('MEDIA DE CADA PLANO' ,'\\n', media)\n",
    "print('\\n')\n",
    "vari = np.var(media)\n",
    "print('VARIANCIA' ,'\\n',vari)\n"
   ]
  },
  {
   "cell_type": "code",
   "execution_count": 44,
   "metadata": {
    "id": "DW7vTypxuj8u"
   },
   "outputs": [
    {
     "data": {
      "image/png": "[encoded data removed]",
      "text/plain": [
       "<Figure size 1200x600 with 1 Axes>"
      ]
     },
     "metadata": {},
     "output_type": "display_data"
    }
   ],
   "source": [
    "# Faça um diagrama de caixa para visualizar a distribuição da duração mensal das chamadas\n",
    "x = merged_data.groupby(['year_month', 'plan'])['duration'].sum().reset_index()\n",
    "plt.figure(figsize=(12, 6))\n",
    "\n",
    "palette = {'surf': 'blue', 'ultimate': 'orange'}\n",
    "sns.boxplot(x='year_month', y='duration', hue='plan', data=merged_data, palette=palette)\n",
    "plt.title('Boxplot da Duração por Mês e Plano')\n",
    "plt.xlabel('Mês')\n",
    "plt.ylabel('Duração')\n",
    "plt.xticks(rotation=45)  \n",
    "plt.legend(title='Plano')\n",
    "plt.tight_layout()  \n",
    "plt.show()"
   ]
  },
  {
   "cell_type": "markdown",
   "metadata": {},
   "source": [
    "<div style=\"background-color: lightblue; color: black; padding: 10px;\">\n",
    "    \n",
    "Quando comparamos os minutos totais vemos que o plano surf possui muitos minutos a mais que o ultimate, mas existem muito mais usuarios no surf do que no plano ultimate.\n",
    "\n",
    "Para uma melhor comparação de comportamento o ideal é verificar a média ou mediana(depenendo do caso) e nessas medidas vemos que o comportamento não são tão díspares pelo gráfico de barras \" Média de Duração por Mês e Plano\" com exceção do segundo mês.\n",
    "    \n",
    "Usuarios dos dois planos usam quase a mesma quantidade de minutos, mesmo os usuarios do ultimate tendo 6 vezes mais minutos disponiveis do que os do plano surf.\n",
    "    \n",
    "</div>"
   ]
  },
  {
   "attachments": {
    "image.png": {
     "image/png": "[encoded data removed]"
    }
   },
   "cell_type": "markdown",
   "metadata": {},
   "source": [
    "<div class=\"alert alert-block alert-danger\">\n",
    "<b> Comentário do revisor: </b> <a class=\"tocSkip\"></a>\n",
    "<s>\n",
    "    \n",
    "Aqui você precisa analisar a distribuição por mês também usando boxplots. Exemplo:\n",
    "    \n",
    "![image.png](attachment:image.png)\n",
    "</s>\n",
    "</div>"
   ]
  },
  {
   "cell_type": "markdown",
   "metadata": {
    "id": "2hWSPtrnuj8v"
   },
   "source": [
    "### Mensagens"
   ]
  },
  {
   "cell_type": "code",
   "execution_count": 45,
   "metadata": {
    "id": "9kPlAhOJuj8v"
   },
   "outputs": [
    {
     "data": {
      "image/png": "[encoded data removed]",
      "text/plain": [
       "<Figure size 1200x600 with 1 Axes>"
      ]
     },
     "metadata": {},
     "output_type": "display_data"
    }
   ],
   "source": [
    "# Compare o número de mensagens que os usuários de cada plano costumam enviar a cada mês\n",
    "x = merged_data.groupby(['year_month', 'plan'])['message_count'].sum().reset_index()\n",
    "plt.figure(figsize=(12, 6))\n",
    "sns.barplot(data=x, x='year_month', y='message_count', hue='plan')\n",
    "plt.grid(True, linestyle='--', alpha=0.7)\n",
    "plt.title('Mensagens por Usuários por Plano e Mês')\n",
    "plt.ylabel('Número de Mensagens')\n",
    "plt.xlabel('Mês e Ano')\n",
    "plt.xticks(rotation=45) \n",
    "\n",
    "plt.legend(title='Planos')\n",
    "plt.tight_layout()\n",
    "plt.show()\n"
   ]
  },
  {
   "cell_type": "code",
   "execution_count": 46,
   "metadata": {},
   "outputs": [
    {
     "name": "stdout",
     "output_type": "stream",
     "text": [
      "MEDIA DE MENSAGENS POR PLANO E MES\n",
      "plan             surf   ultimate\n",
      "year_month                      \n",
      "2018-01     21.000000  20.666667\n",
      "2018-02     21.600000  25.166667\n",
      "2018-03     21.937500  34.714286\n",
      "2018-04     24.166667  28.937500\n",
      "2018-05     33.017857  44.333333\n",
      "2018-06     33.616438  36.289474\n",
      "2018-07     35.945055  41.212766\n",
      "2018-08     37.596774  47.929825\n",
      "2018-09     39.523179  45.901408\n",
      "2018-10     42.433862  46.977528\n",
      "2018-11     40.553097  47.601942\n",
      "2018-12     48.326772  53.936508\n",
      "\n",
      "\n",
      "VARIANCIA DE MENSAGENS POR PLANO\n"
     ]
    },
    {
     "data": {
      "text/plain": [
       "plan\n",
       "surf        77.242337\n",
       "ultimate    97.767412\n",
       "dtype: float64"
      ]
     },
     "execution_count": 46,
     "metadata": {},
     "output_type": "execute_result"
    }
   ],
   "source": [
    "x = merged_data.groupby(['year_month', 'plan'])['message_count'].mean().unstack()\n",
    "print('MEDIA DE MENSAGENS POR PLANO E MES')\n",
    "print(x)\n",
    "print('\\n')\n",
    "print('VARIANCIA DE MENSAGENS POR PLANO')\n",
    "vari = np.var(x)  \n",
    "vari"
   ]
  },
  {
   "cell_type": "code",
   "execution_count": 47,
   "metadata": {},
   "outputs": [
    {
     "data": {
      "text/plain": [
       "<Figure size 1200x600 with 0 Axes>"
      ]
     },
     "metadata": {},
     "output_type": "display_data"
    },
    {
     "data": {
      "image/png": "[encoded data removed]",
      "text/plain": [
       "<Figure size 640x480 with 1 Axes>"
      ]
     },
     "metadata": {},
     "output_type": "display_data"
    }
   ],
   "source": [
    "x = merged_data.groupby(['year_month', 'plan'])['message_count'].mean().unstack()\n",
    "\n",
    "plt.figure(figsize=(12, 6))\n",
    "x.plot(kind='bar', stacked=False)\n",
    "plt.grid(True, linestyle='--', alpha=0.7)\n",
    "plt.title('Média de Mensagens por Usuários de Cada Plano e Mês')\n",
    "plt.ylabel('Média de Mensagens')\n",
    "plt.xlabel('Mês e Ano')\n",
    "plt.xticks(rotation=45)  \n",
    "\n",
    "plt.legend(title='Planos')\n",
    "plt.tight_layout()\n",
    "plt.show()\n"
   ]
  },
  {
   "cell_type": "code",
   "execution_count": 48,
   "metadata": {
    "id": "fIVdRuT6uj8v"
   },
   "outputs": [],
   "source": [
    "# Compare a quantidade de tráfego de internet consumido pelos usuários por plano\n",
    "\n"
   ]
  },
  {
   "cell_type": "markdown",
   "metadata": {
    "id": "v6QELMtcuj8v"
   },
   "source": [
    "[Formule conclusões sobre como os usuários costumam consumir o tráfego da internet. O comportamento é diferente dependendo do plano?]"
   ]
  },
  {
   "cell_type": "markdown",
   "metadata": {
    "id": "nHUCwAnauj8w"
   },
   "source": [
    "### Internet"
   ]
  },
  {
   "cell_type": "code",
   "execution_count": 49,
   "metadata": {
    "id": "EEm27RaRuj8w"
   },
   "outputs": [
    {
     "data": {
      "text/html": [
       "<div>\n",
       "<style scoped>\n",
       "    .dataframe tbody tr th:only-of-type {\n",
       "        vertical-align: middle;\n",
       "    }\n",
       "\n",
       "    .dataframe tbody tr th {\n",
       "        vertical-align: top;\n",
       "    }\n",
       "\n",
       "    .dataframe thead th {\n",
       "        text-align: right;\n",
       "    }\n",
       "</style>\n",
       "<table border=\"1\" class=\"dataframe\">\n",
       "  <thead>\n",
       "    <tr style=\"text-align: right;\">\n",
       "      <th></th>\n",
       "      <th>user_id</th>\n",
       "      <th>year_month</th>\n",
       "      <th>gb_used</th>\n",
       "      <th>message_count</th>\n",
       "      <th>duration</th>\n",
       "      <th>plan</th>\n",
       "      <th>estado</th>\n",
       "      <th>messages_included</th>\n",
       "      <th>gb_per_month_included</th>\n",
       "      <th>minutes_included</th>\n",
       "      <th>usd_monthly_pay</th>\n",
       "      <th>usd_per_gb</th>\n",
       "      <th>usd_per_message</th>\n",
       "      <th>usd_per_minute</th>\n",
       "      <th>total_revenue</th>\n",
       "    </tr>\n",
       "  </thead>\n",
       "  <tbody>\n",
       "    <tr>\n",
       "      <th>0</th>\n",
       "      <td>1000.0</td>\n",
       "      <td>2018-12</td>\n",
       "      <td>1.856904</td>\n",
       "      <td>11.0</td>\n",
       "      <td>116.83</td>\n",
       "      <td>ultimate</td>\n",
       "      <td>GA MSA</td>\n",
       "      <td>1000</td>\n",
       "      <td>30.0</td>\n",
       "      <td>3000</td>\n",
       "      <td>70</td>\n",
       "      <td>7</td>\n",
       "      <td>0.01</td>\n",
       "      <td>0.01</td>\n",
       "      <td>70.000000</td>\n",
       "    </tr>\n",
       "    <tr>\n",
       "      <th>1</th>\n",
       "      <td>1006.0</td>\n",
       "      <td>2018-11</td>\n",
       "      <td>2.019893</td>\n",
       "      <td>15.0</td>\n",
       "      <td>9.32</td>\n",
       "      <td>ultimate</td>\n",
       "      <td>CA MSA</td>\n",
       "      <td>1000</td>\n",
       "      <td>30.0</td>\n",
       "      <td>3000</td>\n",
       "      <td>70</td>\n",
       "      <td>7</td>\n",
       "      <td>0.01</td>\n",
       "      <td>0.01</td>\n",
       "      <td>70.000000</td>\n",
       "    </tr>\n",
       "    <tr>\n",
       "      <th>2</th>\n",
       "      <td>1006.0</td>\n",
       "      <td>2018-12</td>\n",
       "      <td>31.366035</td>\n",
       "      <td>139.0</td>\n",
       "      <td>54.79</td>\n",
       "      <td>ultimate</td>\n",
       "      <td>CA MSA</td>\n",
       "      <td>1000</td>\n",
       "      <td>30.0</td>\n",
       "      <td>3000</td>\n",
       "      <td>70</td>\n",
       "      <td>7</td>\n",
       "      <td>0.01</td>\n",
       "      <td>0.01</td>\n",
       "      <td>79.562246</td>\n",
       "    </tr>\n",
       "    <tr>\n",
       "      <th>3</th>\n",
       "      <td>1008.0</td>\n",
       "      <td>2018-10</td>\n",
       "      <td>16.706045</td>\n",
       "      <td>21.0</td>\n",
       "      <td>450.21</td>\n",
       "      <td>ultimate</td>\n",
       "      <td>FL MSA</td>\n",
       "      <td>1000</td>\n",
       "      <td>30.0</td>\n",
       "      <td>3000</td>\n",
       "      <td>70</td>\n",
       "      <td>7</td>\n",
       "      <td>0.01</td>\n",
       "      <td>0.01</td>\n",
       "      <td>70.000000</td>\n",
       "    </tr>\n",
       "    <tr>\n",
       "      <th>4</th>\n",
       "      <td>1008.0</td>\n",
       "      <td>2018-11</td>\n",
       "      <td>23.121797</td>\n",
       "      <td>37.0</td>\n",
       "      <td>422.81</td>\n",
       "      <td>ultimate</td>\n",
       "      <td>FL MSA</td>\n",
       "      <td>1000</td>\n",
       "      <td>30.0</td>\n",
       "      <td>3000</td>\n",
       "      <td>70</td>\n",
       "      <td>7</td>\n",
       "      <td>0.01</td>\n",
       "      <td>0.01</td>\n",
       "      <td>70.000000</td>\n",
       "    </tr>\n",
       "  </tbody>\n",
       "</table>\n",
       "</div>"
      ],
      "text/plain": [
       "  user_id year_month    gb_used  message_count  duration      plan  estado  \\\n",
       "0  1000.0    2018-12   1.856904           11.0    116.83  ultimate  GA MSA   \n",
       "1  1006.0    2018-11   2.019893           15.0      9.32  ultimate  CA MSA   \n",
       "2  1006.0    2018-12  31.366035          139.0     54.79  ultimate  CA MSA   \n",
       "3  1008.0    2018-10  16.706045           21.0    450.21  ultimate  FL MSA   \n",
       "4  1008.0    2018-11  23.121797           37.0    422.81  ultimate  FL MSA   \n",
       "\n",
       "   messages_included  gb_per_month_included  minutes_included  \\\n",
       "0               1000                   30.0              3000   \n",
       "1               1000                   30.0              3000   \n",
       "2               1000                   30.0              3000   \n",
       "3               1000                   30.0              3000   \n",
       "4               1000                   30.0              3000   \n",
       "\n",
       "   usd_monthly_pay  usd_per_gb  usd_per_message  usd_per_minute  total_revenue  \n",
       "0               70           7             0.01            0.01      70.000000  \n",
       "1               70           7             0.01            0.01      70.000000  \n",
       "2               70           7             0.01            0.01      79.562246  \n",
       "3               70           7             0.01            0.01      70.000000  \n",
       "4               70           7             0.01            0.01      70.000000  "
      ]
     },
     "execution_count": 49,
     "metadata": {},
     "output_type": "execute_result"
    }
   ],
   "source": [
    "merged_data.head()"
   ]
  },
  {
   "cell_type": "code",
   "execution_count": 50,
   "metadata": {},
   "outputs": [
    {
     "data": {
      "text/html": [
       "<div>\n",
       "<style scoped>\n",
       "    .dataframe tbody tr th:only-of-type {\n",
       "        vertical-align: middle;\n",
       "    }\n",
       "\n",
       "    .dataframe tbody tr th {\n",
       "        vertical-align: top;\n",
       "    }\n",
       "\n",
       "    .dataframe thead th {\n",
       "        text-align: right;\n",
       "    }\n",
       "</style>\n",
       "<table border=\"1\" class=\"dataframe\">\n",
       "  <thead>\n",
       "    <tr style=\"text-align: right;\">\n",
       "      <th>plan</th>\n",
       "      <th>surf</th>\n",
       "      <th>ultimate</th>\n",
       "    </tr>\n",
       "    <tr>\n",
       "      <th>year_month</th>\n",
       "      <th></th>\n",
       "      <th></th>\n",
       "    </tr>\n",
       "  </thead>\n",
       "  <tbody>\n",
       "    <tr>\n",
       "      <th>2018-01</th>\n",
       "      <td>9.521211</td>\n",
       "      <td>27.023799</td>\n",
       "    </tr>\n",
       "    <tr>\n",
       "      <th>2018-02</th>\n",
       "      <td>107.040615</td>\n",
       "      <td>117.091465</td>\n",
       "    </tr>\n",
       "    <tr>\n",
       "      <th>2018-03</th>\n",
       "      <td>299.751094</td>\n",
       "      <td>214.705293</td>\n",
       "    </tr>\n",
       "    <tr>\n",
       "      <th>2018-04</th>\n",
       "      <td>585.166162</td>\n",
       "      <td>330.619873</td>\n",
       "    </tr>\n",
       "    <tr>\n",
       "      <th>2018-05</th>\n",
       "      <td>1047.948564</td>\n",
       "      <td>470.810537</td>\n",
       "    </tr>\n",
       "    <tr>\n",
       "      <th>2018-06</th>\n",
       "      <td>1449.461260</td>\n",
       "      <td>703.986611</td>\n",
       "    </tr>\n",
       "    <tr>\n",
       "      <th>2018-07</th>\n",
       "      <td>1983.218428</td>\n",
       "      <td>941.738203</td>\n",
       "    </tr>\n",
       "    <tr>\n",
       "      <th>2018-08</th>\n",
       "      <td>2657.073906</td>\n",
       "      <td>1235.200322</td>\n",
       "    </tr>\n",
       "    <tr>\n",
       "      <th>2018-09</th>\n",
       "      <td>3143.298506</td>\n",
       "      <td>1425.203887</td>\n",
       "    </tr>\n",
       "    <tr>\n",
       "      <th>2018-10</th>\n",
       "      <td>4006.627354</td>\n",
       "      <td>1823.174473</td>\n",
       "    </tr>\n",
       "    <tr>\n",
       "      <th>2018-11</th>\n",
       "      <td>4515.633789</td>\n",
       "      <td>2112.576211</td>\n",
       "    </tr>\n",
       "    <tr>\n",
       "      <th>2018-12</th>\n",
       "      <td>5630.981699</td>\n",
       "      <td>2701.955049</td>\n",
       "    </tr>\n",
       "  </tbody>\n",
       "</table>\n",
       "</div>"
      ],
      "text/plain": [
       "plan               surf     ultimate\n",
       "year_month                          \n",
       "2018-01        9.521211    27.023799\n",
       "2018-02      107.040615   117.091465\n",
       "2018-03      299.751094   214.705293\n",
       "2018-04      585.166162   330.619873\n",
       "2018-05     1047.948564   470.810537\n",
       "2018-06     1449.461260   703.986611\n",
       "2018-07     1983.218428   941.738203\n",
       "2018-08     2657.073906  1235.200322\n",
       "2018-09     3143.298506  1425.203887\n",
       "2018-10     4006.627354  1823.174473\n",
       "2018-11     4515.633789  2112.576211\n",
       "2018-12     5630.981699  2701.955049"
      ]
     },
     "execution_count": 50,
     "metadata": {},
     "output_type": "execute_result"
    }
   ],
   "source": [
    "x = merged_data.groupby(['year_month','plan'])['gb_used'].sum().unstack()\n",
    "x"
   ]
  },
  {
   "cell_type": "code",
   "execution_count": 51,
   "metadata": {},
   "outputs": [
    {
     "data": {
      "text/plain": [
       "<Figure size 1200x600 with 0 Axes>"
      ]
     },
     "metadata": {},
     "output_type": "display_data"
    },
    {
     "data": {
      "image/png": "[encoded data removed]",
      "text/plain": [
       "<Figure size 640x480 with 1 Axes>"
      ]
     },
     "metadata": {},
     "output_type": "display_data"
    }
   ],
   "source": [
    "plt.figure(figsize=(12, 6))\n",
    "x.plot(kind='bar')\n",
    "\n",
    "plt.title('Total de GB dos Usuários de Cada Plano por Mês')\n",
    "plt.ylabel('Uso Total de GB')\n",
    "plt.xlabel('Mês e Ano')\n",
    "plt.xticks(rotation=45)  \n",
    "\n",
    "plt.legend(title='Planos')\n",
    "plt.tight_layout()\n",
    "plt.show()"
   ]
  },
  {
   "cell_type": "code",
   "execution_count": 52,
   "metadata": {},
   "outputs": [
    {
     "data": {
      "text/html": [
       "<div>\n",
       "<style scoped>\n",
       "    .dataframe tbody tr th:only-of-type {\n",
       "        vertical-align: middle;\n",
       "    }\n",
       "\n",
       "    .dataframe tbody tr th {\n",
       "        vertical-align: top;\n",
       "    }\n",
       "\n",
       "    .dataframe thead th {\n",
       "        text-align: right;\n",
       "    }\n",
       "</style>\n",
       "<table border=\"1\" class=\"dataframe\">\n",
       "  <thead>\n",
       "    <tr style=\"text-align: right;\">\n",
       "      <th>plan</th>\n",
       "      <th>surf</th>\n",
       "      <th>ultimate</th>\n",
       "    </tr>\n",
       "    <tr>\n",
       "      <th>year_month</th>\n",
       "      <th></th>\n",
       "      <th></th>\n",
       "    </tr>\n",
       "  </thead>\n",
       "  <tbody>\n",
       "    <tr>\n",
       "      <th>2018-01</th>\n",
       "      <td>4.760605</td>\n",
       "      <td>6.755950</td>\n",
       "    </tr>\n",
       "    <tr>\n",
       "      <th>2018-02</th>\n",
       "      <td>11.893402</td>\n",
       "      <td>16.727352</td>\n",
       "    </tr>\n",
       "    <tr>\n",
       "      <th>2018-03</th>\n",
       "      <td>13.032656</td>\n",
       "      <td>17.892108</td>\n",
       "    </tr>\n",
       "    <tr>\n",
       "      <th>2018-04</th>\n",
       "      <td>11.942167</td>\n",
       "      <td>15.743803</td>\n",
       "    </tr>\n",
       "    <tr>\n",
       "      <th>2018-05</th>\n",
       "      <td>13.788797</td>\n",
       "      <td>16.234846</td>\n",
       "    </tr>\n",
       "    <tr>\n",
       "      <th>2018-06</th>\n",
       "      <td>15.257487</td>\n",
       "      <td>14.978439</td>\n",
       "    </tr>\n",
       "    <tr>\n",
       "      <th>2018-07</th>\n",
       "      <td>16.526820</td>\n",
       "      <td>15.961664</td>\n",
       "    </tr>\n",
       "    <tr>\n",
       "      <th>2018-08</th>\n",
       "      <td>16.711157</td>\n",
       "      <td>17.397188</td>\n",
       "    </tr>\n",
       "    <tr>\n",
       "      <th>2018-09</th>\n",
       "      <td>16.286521</td>\n",
       "      <td>16.572138</td>\n",
       "    </tr>\n",
       "    <tr>\n",
       "      <th>2018-10</th>\n",
       "      <td>17.122339</td>\n",
       "      <td>17.363566</td>\n",
       "    </tr>\n",
       "    <tr>\n",
       "      <th>2018-11</th>\n",
       "      <td>16.069871</td>\n",
       "      <td>16.634458</td>\n",
       "    </tr>\n",
       "    <tr>\n",
       "      <th>2018-12</th>\n",
       "      <td>17.763349</td>\n",
       "      <td>17.893742</td>\n",
       "    </tr>\n",
       "  </tbody>\n",
       "</table>\n",
       "</div>"
      ],
      "text/plain": [
       "plan             surf   ultimate\n",
       "year_month                      \n",
       "2018-01      4.760605   6.755950\n",
       "2018-02     11.893402  16.727352\n",
       "2018-03     13.032656  17.892108\n",
       "2018-04     11.942167  15.743803\n",
       "2018-05     13.788797  16.234846\n",
       "2018-06     15.257487  14.978439\n",
       "2018-07     16.526820  15.961664\n",
       "2018-08     16.711157  17.397188\n",
       "2018-09     16.286521  16.572138\n",
       "2018-10     17.122339  17.363566\n",
       "2018-11     16.069871  16.634458\n",
       "2018-12     17.763349  17.893742"
      ]
     },
     "execution_count": 52,
     "metadata": {},
     "output_type": "execute_result"
    }
   ],
   "source": [
    "x = merged_data.groupby(['year_month','plan'])['gb_used'].mean().unstack()\n",
    "x"
   ]
  },
  {
   "cell_type": "code",
   "execution_count": 53,
   "metadata": {},
   "outputs": [
    {
     "data": {
      "text/plain": [
       "<Figure size 1200x600 with 0 Axes>"
      ]
     },
     "metadata": {},
     "output_type": "display_data"
    },
    {
     "data": {
      "image/png": "[encoded data removed]",
      "text/plain": [
       "<Figure size 640x480 with 1 Axes>"
      ]
     },
     "metadata": {},
     "output_type": "display_data"
    }
   ],
   "source": [
    "x = merged_data.groupby(['year_month','plan'])['gb_used'].mean().unstack()\n",
    "plt.figure(figsize=(12, 6))\n",
    "x.plot(kind='bar')\n",
    "\n",
    "\n",
    "plt.title('Média de GB dos Usuários de Cada Plano por Mês')\n",
    "plt.ylabel('Média de Uso de GB')\n",
    "plt.xlabel('Mês e Ano')\n",
    "plt.xticks(rotation=45)  \n",
    "\n",
    "plt.legend(title='Planos')\n",
    "plt.tight_layout()\n",
    "plt.show()"
   ]
  },
  {
   "cell_type": "markdown",
   "metadata": {
    "id": "GsHkFpGmuj8w"
   },
   "source": [
    "<div style=\"background-color: lightblue; color: black; padding: 10px;\">\n",
    "    \n",
    "Temos medias de GB usados muito parecidos, talvez vale a pena fazer uma propaganda direcionada para os usuarios do plano surf darem um upgrade ja que estão consumindo mais do que seu limite.\n",
    "    \n",
    "</div>"
   ]
  },
  {
   "cell_type": "markdown",
   "metadata": {
    "id": "g23qXaYNuj8x"
   },
   "source": [
    "## Receita"
   ]
  },
  {
   "cell_type": "code",
   "execution_count": 54,
   "metadata": {},
   "outputs": [
    {
     "name": "stdout",
     "output_type": "stream",
     "text": [
      "SOMA TOTAL DA RECEITA POR PLANO E MES\n"
     ]
    },
    {
     "data": {
      "text/html": [
       "<div>\n",
       "<style scoped>\n",
       "    .dataframe tbody tr th:only-of-type {\n",
       "        vertical-align: middle;\n",
       "    }\n",
       "\n",
       "    .dataframe tbody tr th {\n",
       "        vertical-align: top;\n",
       "    }\n",
       "\n",
       "    .dataframe thead th {\n",
       "        text-align: right;\n",
       "    }\n",
       "</style>\n",
       "<table border=\"1\" class=\"dataframe\">\n",
       "  <thead>\n",
       "    <tr style=\"text-align: right;\">\n",
       "      <th>plan</th>\n",
       "      <th>surf</th>\n",
       "      <th>ultimate</th>\n",
       "    </tr>\n",
       "    <tr>\n",
       "      <th>year_month</th>\n",
       "      <th></th>\n",
       "      <th></th>\n",
       "    </tr>\n",
       "  </thead>\n",
       "  <tbody>\n",
       "    <tr>\n",
       "      <th>2018-01</th>\n",
       "      <td>40.000000</td>\n",
       "      <td>280.000000</td>\n",
       "    </tr>\n",
       "    <tr>\n",
       "      <th>2018-02</th>\n",
       "      <td>297.035600</td>\n",
       "      <td>490.000000</td>\n",
       "    </tr>\n",
       "    <tr>\n",
       "      <th>2018-03</th>\n",
       "      <td>1002.312133</td>\n",
       "      <td>880.709375</td>\n",
       "    </tr>\n",
       "    <tr>\n",
       "      <th>2018-04</th>\n",
       "      <td>1938.874258</td>\n",
       "      <td>1528.198916</td>\n",
       "    </tr>\n",
       "    <tr>\n",
       "      <th>2018-05</th>\n",
       "      <td>3491.678287</td>\n",
       "      <td>2044.955869</td>\n",
       "    </tr>\n",
       "    <tr>\n",
       "      <th>2018-06</th>\n",
       "      <td>4454.303370</td>\n",
       "      <td>3359.418057</td>\n",
       "    </tr>\n",
       "    <tr>\n",
       "      <th>2018-07</th>\n",
       "      <td>7159.723945</td>\n",
       "      <td>4239.174434</td>\n",
       "    </tr>\n",
       "    <tr>\n",
       "      <th>2018-08</th>\n",
       "      <td>9825.320625</td>\n",
       "      <td>5160.287275</td>\n",
       "    </tr>\n",
       "    <tr>\n",
       "      <th>2018-09</th>\n",
       "      <td>10655.194925</td>\n",
       "      <td>6175.858623</td>\n",
       "    </tr>\n",
       "    <tr>\n",
       "      <th>2018-10</th>\n",
       "      <td>14610.214048</td>\n",
       "      <td>7641.719053</td>\n",
       "    </tr>\n",
       "    <tr>\n",
       "      <th>2018-11</th>\n",
       "      <td>15545.777833</td>\n",
       "      <td>9093.352871</td>\n",
       "    </tr>\n",
       "    <tr>\n",
       "      <th>2018-12</th>\n",
       "      <td>21102.687315</td>\n",
       "      <td>11029.902871</td>\n",
       "    </tr>\n",
       "  </tbody>\n",
       "</table>\n",
       "</div>"
      ],
      "text/plain": [
       "plan                surf      ultimate\n",
       "year_month                            \n",
       "2018-01        40.000000    280.000000\n",
       "2018-02       297.035600    490.000000\n",
       "2018-03      1002.312133    880.709375\n",
       "2018-04      1938.874258   1528.198916\n",
       "2018-05      3491.678287   2044.955869\n",
       "2018-06      4454.303370   3359.418057\n",
       "2018-07      7159.723945   4239.174434\n",
       "2018-08      9825.320625   5160.287275\n",
       "2018-09     10655.194925   6175.858623\n",
       "2018-10     14610.214048   7641.719053\n",
       "2018-11     15545.777833   9093.352871\n",
       "2018-12     21102.687315  11029.902871"
      ]
     },
     "execution_count": 54,
     "metadata": {},
     "output_type": "execute_result"
    }
   ],
   "source": [
    "x = merged_data.groupby(['year_month', 'plan'])['total_revenue'].sum().unstack()\n",
    "print('SOMA TOTAL DA RECEITA POR PLANO E MES')\n",
    "x"
   ]
  },
  {
   "cell_type": "code",
   "execution_count": 55,
   "metadata": {},
   "outputs": [
    {
     "name": "stdout",
     "output_type": "stream",
     "text": [
      "RECEITA TOTAL ANUALIZADO\n"
     ]
    },
    {
     "data": {
      "text/plain": [
       "plan\n",
       "surf        90123.122338\n",
       "ultimate    51923.577344\n",
       "Name: total_revenue, dtype: float64"
      ]
     },
     "execution_count": 55,
     "metadata": {},
     "output_type": "execute_result"
    }
   ],
   "source": [
    "print('RECEITA TOTAL ANUALIZADO')\n",
    "merged_data.groupby( 'plan')['total_revenue'].sum()"
   ]
  },
  {
   "cell_type": "code",
   "execution_count": 56,
   "metadata": {
    "scrolled": false
   },
   "outputs": [
    {
     "data": {
      "text/plain": [
       "<Figure size 1400x700 with 0 Axes>"
      ]
     },
     "metadata": {},
     "output_type": "display_data"
    },
    {
     "data": {
      "image/png": "[encoded data removed]",
      "text/plain": [
       "<Figure size 640x480 with 1 Axes>"
      ]
     },
     "metadata": {},
     "output_type": "display_data"
    }
   ],
   "source": [
    "plt.figure(figsize=(14, 7))\n",
    "x.plot(kind='bar', grid=True)\n",
    "\n",
    "\n",
    "plt.title('Receita Total de Cada Plano por Mês')\n",
    "plt.ylabel('Receita Total')\n",
    "plt.xlabel('Mês e Ano')\n",
    "plt.xticks(rotation=45)  \n",
    "\n",
    "\n",
    "plt.legend(title='Planos', bbox_to_anchor=(1.05, 1), loc='upper left') \n",
    "\n",
    "plt.tight_layout()\n",
    "plt.show()"
   ]
  },
  {
   "cell_type": "code",
   "execution_count": 57,
   "metadata": {},
   "outputs": [],
   "source": [
    "media_receita = merged_data.groupby(['year_month', 'plan'])['total_revenue'].mean().reset_index()\n"
   ]
  },
  {
   "cell_type": "code",
   "execution_count": 58,
   "metadata": {},
   "outputs": [
    {
     "data": {
      "text/plain": [
       "<Figure size 1200x600 with 0 Axes>"
      ]
     },
     "metadata": {},
     "output_type": "display_data"
    },
    {
     "data": {
      "image/png": "[encoded data removed]",
      "text/plain": [
       "<Figure size 640x480 with 1 Axes>"
      ]
     },
     "metadata": {},
     "output_type": "display_data"
    }
   ],
   "source": [
    "receita_media = merged_data.groupby(['year_month', 'plan'])['total_revenue'].mean().unstack()\n",
    "plt.figure(figsize=(12, 6))\n",
    "cores = ['blue', 'orange']\n",
    "receita_media.plot(kind='bar', grid=True , color = cores)\n",
    "\n",
    "plt.title('Média da Receita Total de Cada Plano por Mês')\n",
    "plt.ylabel('Média da Receita Total')\n",
    "plt.xlabel('Mês e Ano')\n",
    "plt.xticks(rotation=45)  \n",
    "\n",
    "plt.legend(title='Planos', bbox_to_anchor=(1.05, 1), loc='upper left')  \n",
    "\n",
    "plt.tight_layout()\n",
    "plt.show()"
   ]
  },
  {
   "cell_type": "markdown",
   "metadata": {
    "id": "6X34EwHpuj8z"
   },
   "source": [
    "<div style=\"background-color: lightblue; color: black; padding: 10px;\">\n",
    "    \n",
    "Pelos graficos das receitas vemos que o plano ultimate tem sido mais rentável para a companhia até o presente momento mesmo o numero de usuarios do plano surf sendo mais de 2 vezes o do plano ultimate.\n",
    "    \n",
    "A receita do plano surf vem aumentando em comparaçao aos usuarios do ultimate, caso esta tendencia se mantenha o plano surf deverá ultrapassar o plano ultimate em receita no proximo ano.\n",
    "     \n",
    "\n",
    "    \n",
    "</div>"
   ]
  },
  {
   "cell_type": "markdown",
   "metadata": {
    "id": "xJ6Mu-KAuj8z"
   },
   "source": [
    "## Teste hipóteses estatísticas"
   ]
  },
  {
   "cell_type": "markdown",
   "metadata": {
    "id": "lop_0j4Duj8z"
   },
   "source": [
    "[Teste a hipótese de que a receita média dos usuários dos planos Ultimate e Surf são diferentes.]"
   ]
  },
  {
   "cell_type": "markdown",
   "metadata": {
    "id": "-X2l1R8Luj80"
   },
   "source": [
    "[Formule as hipóteses nula e alternativa, escolha o teste estatístico, escolha o valor alfa.]"
   ]
  },
  {
   "cell_type": "markdown",
   "metadata": {},
   "source": [
    "<div class=\"alert alert-block alert-warning\">\n",
    "<b> Comentário do revisor: </b> <a class=\"tocSkip\"></a>\n",
    "    \n",
    "Considere declarar as hipóteses nula e alternativa diretamente no texto.\n",
    "</div>"
   ]
  },
  {
   "cell_type": "code",
   "execution_count": 59,
   "metadata": {
    "id": "LyGrPhpUuj80"
   },
   "outputs": [
    {
     "name": "stdout",
     "output_type": "stream",
     "text": [
      "p.value: 6.759125050854976e-05\n",
      "Rejeitamos a hipótese nula onde media_receita_surf = media_receita_ultimate\n"
     ]
    }
   ],
   "source": [
    "# Teste as hipóteses\n",
    "#h0 = media_receita_surf == media_receita_ultimate\n",
    "#h1 = media_receita_surf != media_receita_ultimate\n",
    "alpha = 0.05\n",
    "m1 = media_receita[media_receita['plan']=='surf']['total_revenue'].reset_index(drop=True)\n",
    "m2 = media_receita[media_receita['plan']=='ultimate']['total_revenue'].reset_index(drop=True)\n",
    "\n",
    "teste1 = st.ttest_rel(m1 , m2)\n",
    "\n",
    "print('p.value:' , teste1.pvalue)\n",
    "if teste1.pvalue < alpha:\n",
    "    print(\"Rejeitamos a hipótese nula onde media_receita_surf = media_receita_ultimate\")\n",
    "else:\n",
    "    print(\"Não podemos rejeitar a hipótese nula onde media_receita_surf = media_receita_ultimate\")"
   ]
  },
  {
   "cell_type": "markdown",
   "metadata": {
    "id": "Cz6rwE56uj80"
   },
   "source": [
    "[Teste a hipótese de que a receita média dos usuários da área de NY-NJ difere dos usuários das demais regiões.]"
   ]
  },
  {
   "cell_type": "markdown",
   "metadata": {
    "id": "kMHim5__uj80"
   },
   "source": [
    "[Formule as hipóteses nula e alternativa, escolha o teste estatístico, escolha o valor alfa.]"
   ]
  },
  {
   "cell_type": "markdown",
   "metadata": {},
   "source": [
    "<div class=\"alert alert-block alert-danger\">\n",
    "<b> Comentário do revisor: </b> <a class=\"tocSkip\"></a>\n",
    "    \n",
    "<s>Aqui não é necessário fazer o `merge` dos dados novamente, pois essa etapa já foi realizada na primeira parte do estudo.</s>\n",
    "</div>"
   ]
  },
  {
   "cell_type": "markdown",
   "metadata": {},
   "source": [
    "<div class=\"alert alert-block alert-info\">\n",
    "<b>\n",
    "    \n",
    "Esse foi o mesmo caso do 'enriqueça os dados' eu fui fazendo conforme fui precisando, e fui deixando os codigos perto ou dentro  das celulas que precisei.\n",
    "    \n",
    "</b> <a class=\"tocSkip\"></a>\n",
    "</div>"
   ]
  },
  {
   "cell_type": "code",
   "execution_count": 60,
   "metadata": {},
   "outputs": [],
   "source": [
    "nynj = merged_data[merged_data['estado']== 'NY-NJ-PA MSA']\n",
    "rest = merged_data[~(merged_data['estado']== 'NY-NJ-PA MSA')]\n",
    "\n",
    "m11 =nynj.groupby('year_month')['total_revenue'].mean()\n",
    "m22 =rest.groupby('year_month')['total_revenue'].mean()"
   ]
  },
  {
   "cell_type": "code",
   "execution_count": 61,
   "metadata": {
    "id": "98t8iiJyuj80"
   },
   "outputs": [
    {
     "name": "stdout",
     "output_type": "stream",
     "text": [
      "valor p: 0.043346165359584014\n",
      "Rejeitamos a hipotese nula (nynj == rest)\n"
     ]
    }
   ],
   "source": [
    "# Teste as hipóteses\n",
    "#h0 = nynj == rest\n",
    "#h1 = nynj != rest\n",
    "alpha = .05\n",
    "teste2 = st.ttest_ind(m11,m22 , equal_var=False)\n",
    "print('valor p:', teste2.pvalue)\n",
    "if teste2.pvalue < alpha:\n",
    "    print('Rejeitamos a hipotese nula (nynj == rest)')\n",
    "else:\n",
    "    print('Nao podemos rejeitar a hipotese nula(nynj == rest)')\n",
    "    "
   ]
  },
  {
   "cell_type": "markdown",
   "metadata": {},
   "source": [
    "<div class=\"alert alert-block alert-danger\">\n",
    "<b> Comentário do revisor: </b> <a class=\"tocSkip\"></a>\n",
    "<s>\n",
    "    \n",
    "Aqui você precisa executar o teste-t independente:\n",
    "    \n",
    "```python\n",
    "st.ttest_ind(sample_1, sample_2, equal_var=#True ou False)\n",
    "...\n",
    "```\n",
    "</s>\n",
    "</div>"
   ]
  },
  {
   "cell_type": "markdown",
   "metadata": {
    "id": "M8WycwWFuj81"
   },
   "source": [
    "## Conclusão geral\n",
    "\n"
   ]
  },
  {
   "cell_type": "markdown",
   "metadata": {},
   "source": [
    "<div class=\"alert alert-block alert-info\">\n",
    "<b>\n",
    "\n",
    "Vimos que a receita do plano surf vem aumentando em uma escala rapida, mas no comparativo anual temos o plano ultimate superando o plano surf ainda neste ultimo ano\n",
    "    \n",
    "Caso a tendencia continue desta forma a media de receita do plano surf poderá ultrapassar a do ultimate ou quando essa media ficar parelha com a do ultimate a empresa pode oferecer um upgrade de conta afim de fidelizar os usuários e ter receitas mais estáveis.\n",
    "    \n",
    "E como solução do problema de negocio inicial, o plano surf tem atraido mais clientes para a empresa e vem aumentando a sua receita média de forma rapida, então se tivermos que escolher um plano para otimizar nosso orçamento de marketing seria para o plano surf.\n",
    "</b> <a class=\"tocSkip\"></a>\n",
    "</div>    \n"
   ]
  }
 ],
 "metadata": {
  "ExecuteTimeLog": [
   {
    "duration": 828,
    "start_time": "2021-11-16T09:21:11.304Z"
   },
   {
    "duration": 893,
    "start_time": "2021-11-16T09:21:17.728Z"
   },
   {
    "duration": 1150,
    "start_time": "2021-11-16T09:21:29.568Z"
   },
   {
    "duration": 3,
    "start_time": "2021-11-16T09:24:14.495Z"
   },
   {
    "duration": 120,
    "start_time": "2021-11-16T09:24:46.630Z"
   },
   {
    "duration": 3,
    "start_time": "2021-11-16T09:28:27.882Z"
   },
   {
    "duration": 4,
    "start_time": "2021-11-16T09:29:54.281Z"
   },
   {
    "duration": 3,
    "start_time": "2021-11-16T09:30:45.936Z"
   },
   {
    "duration": 4,
    "start_time": "2021-11-16T09:31:06.300Z"
   },
   {
    "duration": 113,
    "start_time": "2021-11-16T09:31:37.208Z"
   },
   {
    "duration": 143,
    "start_time": "2021-11-16T09:31:48.656Z"
   },
   {
    "duration": 98,
    "start_time": "2021-11-16T09:31:55.678Z"
   },
   {
    "duration": 3,
    "start_time": "2021-11-16T09:32:08.535Z"
   },
   {
    "duration": 111,
    "start_time": "2021-11-16T09:32:10.120Z"
   },
   {
    "duration": 3,
    "start_time": "2021-11-16T09:32:15.732Z"
   },
   {
    "duration": 4,
    "start_time": "2021-11-16T09:32:29.423Z"
   },
   {
    "duration": 3,
    "start_time": "2021-11-16T10:03:03.074Z"
   },
   {
    "duration": 3,
    "start_time": "2021-11-16T10:10:01.288Z"
   },
   {
    "duration": 3,
    "start_time": "2021-11-16T10:10:46.923Z"
   },
   {
    "duration": 121,
    "start_time": "2021-11-16T10:37:46.494Z"
   },
   {
    "duration": 125,
    "start_time": "2021-11-16T10:38:20.632Z"
   },
   {
    "duration": 112,
    "start_time": "2021-11-16T10:46:53.001Z"
   },
   {
    "duration": 110,
    "start_time": "2021-11-16T10:48:25.775Z"
   },
   {
    "duration": 3,
    "start_time": "2021-11-16T10:50:18.720Z"
   },
   {
    "duration": 4,
    "start_time": "2021-11-16T10:50:37.649Z"
   },
   {
    "duration": 2,
    "start_time": "2021-11-16T10:50:51.884Z"
   },
   {
    "duration": 3,
    "start_time": "2021-11-16T10:51:56.237Z"
   },
   {
    "duration": 101,
    "start_time": "2021-11-16T10:53:13.791Z"
   },
   {
    "duration": 3,
    "start_time": "2021-11-16T10:55:59.186Z"
   },
   {
    "duration": 3,
    "start_time": "2021-11-16T10:56:10.751Z"
   },
   {
    "duration": 3,
    "start_time": "2021-11-16T10:56:49.038Z"
   },
   {
    "duration": 3,
    "start_time": "2021-11-16T10:56:49.174Z"
   },
   {
    "duration": 4,
    "start_time": "2021-11-16T10:56:49.414Z"
   },
   {
    "duration": 3,
    "start_time": "2021-11-16T10:56:49.680Z"
   },
   {
    "duration": 3,
    "start_time": "2021-11-16T10:56:50.370Z"
   },
   {
    "duration": 114,
    "start_time": "2021-11-16T10:59:34.518Z"
   },
   {
    "duration": 3,
    "start_time": "2021-11-16T11:01:41.201Z"
   },
   {
    "duration": 116,
    "start_time": "2021-11-16T11:01:48.754Z"
   },
   {
    "duration": 3,
    "start_time": "2021-11-16T11:02:16.685Z"
   },
   {
    "duration": 3,
    "start_time": "2021-11-16T11:02:19.479Z"
   },
   {
    "duration": 3,
    "start_time": "2021-11-16T11:02:47.067Z"
   },
   {
    "duration": 3,
    "start_time": "2021-11-16T11:02:49.353Z"
   },
   {
    "duration": 3,
    "start_time": "2021-11-16T11:03:07.835Z"
   },
   {
    "duration": 3,
    "start_time": "2021-11-16T11:03:07.953Z"
   },
   {
    "duration": 112,
    "start_time": "2021-11-16T11:07:52.072Z"
   },
   {
    "duration": 187,
    "start_time": "2021-11-16T11:09:23.468Z"
   },
   {
    "duration": 4,
    "start_time": "2021-11-16T11:10:01.455Z"
   },
   {
    "duration": 3,
    "start_time": "2021-11-16T11:10:05.069Z"
   },
   {
    "duration": 4,
    "start_time": "2021-11-16T11:10:13.376Z"
   },
   {
    "duration": 3,
    "start_time": "2021-11-16T11:10:14.434Z"
   },
   {
    "duration": 3,
    "start_time": "2021-11-16T11:10:22.853Z"
   },
   {
    "duration": 4,
    "start_time": "2021-11-16T11:27:29.279Z"
   },
   {
    "duration": 4,
    "start_time": "2021-11-16T11:29:08.919Z"
   },
   {
    "duration": 118,
    "start_time": "2021-11-16T11:29:46.703Z"
   },
   {
    "duration": 437,
    "start_time": "2021-11-16T11:36:02.181Z"
   },
   {
    "duration": 157,
    "start_time": "2021-11-16T11:36:14.388Z"
   },
   {
    "duration": 207,
    "start_time": "2021-11-16T11:47:15.898Z"
   },
   {
    "duration": 3,
    "start_time": "2021-11-16T11:53:52.092Z"
   },
   {
    "duration": 3,
    "start_time": "2021-11-16T11:53:52.236Z"
   },
   {
    "duration": 3,
    "start_time": "2021-11-16T11:59:12.005Z"
   },
   {
    "duration": 112,
    "start_time": "2021-11-16T12:00:33.446Z"
   },
   {
    "duration": 3,
    "start_time": "2021-11-16T12:02:14.453Z"
   },
   {
    "duration": 3,
    "start_time": "2021-11-16T12:02:39.512Z"
   },
   {
    "duration": 106,
    "start_time": "2021-11-16T12:03:03.460Z"
   },
   {
    "duration": 3,
    "start_time": "2021-11-17T20:37:21.139Z"
   },
   {
    "duration": 3,
    "start_time": "2021-11-17T20:37:22.229Z"
   },
   {
    "duration": 3,
    "start_time": "2021-11-17T20:38:38.806Z"
   },
   {
    "duration": 3,
    "start_time": "2021-11-17T20:38:41.958Z"
   },
   {
    "duration": 3,
    "start_time": "2021-11-17T20:43:46.551Z"
   },
   {
    "duration": 4,
    "start_time": "2021-11-17T20:58:21.835Z"
   },
   {
    "duration": 3,
    "start_time": "2021-11-17T20:59:21.872Z"
   },
   {
    "duration": 4,
    "start_time": "2021-11-17T20:59:45.352Z"
   },
   {
    "duration": 4,
    "start_time": "2021-11-17T20:59:49.646Z"
   },
   {
    "duration": 159,
    "start_time": "2021-11-17T21:02:26.949Z"
   },
   {
    "duration": 3,
    "start_time": "2021-11-17T21:03:53.461Z"
   },
   {
    "duration": 3,
    "start_time": "2021-11-17T21:03:53.694Z"
   },
   {
    "duration": 3,
    "start_time": "2021-11-17T21:05:28.145Z"
   },
   {
    "duration": 116,
    "start_time": "2021-11-17T21:05:57.787Z"
   },
   {
    "duration": 3,
    "start_time": "2021-11-17T21:06:37.993Z"
   },
   {
    "duration": 3,
    "start_time": "2021-11-17T21:06:38.261Z"
   },
   {
    "duration": 3,
    "start_time": "2021-11-17T21:11:54.358Z"
   },
   {
    "duration": 3,
    "start_time": "2021-11-17T21:12:43.846Z"
   },
   {
    "duration": 4,
    "start_time": "2021-11-17T21:13:08.773Z"
   },
   {
    "duration": 3,
    "start_time": "2021-11-17T21:14:44.441Z"
   },
   {
    "duration": 3,
    "start_time": "2021-11-17T21:15:42.059Z"
   },
   {
    "duration": 4,
    "start_time": "2021-11-17T21:15:51.995Z"
   },
   {
    "duration": 3,
    "start_time": "2021-11-17T21:15:53.923Z"
   },
   {
    "duration": 3,
    "start_time": "2021-11-17T21:15:55.282Z"
   },
   {
    "duration": 3,
    "start_time": "2021-11-17T21:16:28.492Z"
   },
   {
    "duration": 3,
    "start_time": "2021-11-17T21:16:32.603Z"
   },
   {
    "duration": 3,
    "start_time": "2021-11-17T21:17:06.941Z"
   },
   {
    "duration": 98,
    "start_time": "2021-11-17T21:18:05.733Z"
   },
   {
    "duration": 4,
    "start_time": "2021-11-17T21:21:35.255Z"
   },
   {
    "duration": 3,
    "start_time": "2021-11-17T21:21:37.804Z"
   },
   {
    "duration": 4,
    "start_time": "2021-11-17T21:23:06.071Z"
   },
   {
    "duration": 3,
    "start_time": "2021-11-17T21:23:24.799Z"
   },
   {
    "duration": 3,
    "start_time": "2021-11-17T21:23:32.591Z"
   },
   {
    "duration": 98,
    "start_time": "2021-11-17T21:28:31.559Z"
   },
   {
    "duration": 3,
    "start_time": "2021-11-17T21:28:45.448Z"
   },
   {
    "duration": 3,
    "start_time": "2021-11-17T21:29:17.303Z"
   },
   {
    "duration": 3,
    "start_time": "2021-11-17T21:29:29.617Z"
   },
   {
    "duration": 3,
    "start_time": "2021-11-17T21:29:32.681Z"
   },
   {
    "duration": 3,
    "start_time": "2021-11-17T21:36:11.474Z"
   },
   {
    "duration": 3,
    "start_time": "2021-11-17T21:36:14.791Z"
   },
   {
    "duration": 3,
    "start_time": "2021-11-17T21:36:53.943Z"
   },
   {
    "duration": 3,
    "start_time": "2021-11-17T21:36:56.165Z"
   },
   {
    "duration": 4,
    "start_time": "2021-11-17T21:37:16.590Z"
   },
   {
    "duration": 3,
    "start_time": "2021-11-17T21:37:22.702Z"
   },
   {
    "duration": 4,
    "start_time": "2021-11-17T21:38:03.479Z"
   },
   {
    "duration": 3,
    "start_time": "2021-11-17T21:38:08.601Z"
   },
   {
    "duration": 3,
    "start_time": "2021-11-17T21:38:12.928Z"
   },
   {
    "duration": 3,
    "start_time": "2021-11-17T21:38:48.896Z"
   },
   {
    "duration": 2,
    "start_time": "2021-11-17T21:38:49.171Z"
   },
   {
    "duration": 4,
    "start_time": "2021-11-17T21:39:57.889Z"
   },
   {
    "duration": 3,
    "start_time": "2021-11-17T21:39:58.057Z"
   },
   {
    "duration": 3,
    "start_time": "2021-11-17T21:41:20.108Z"
   },
   {
    "duration": 3,
    "start_time": "2021-11-17T21:41:20.629Z"
   },
   {
    "duration": 3,
    "start_time": "2021-11-17T21:42:49.136Z"
   },
   {
    "duration": 3,
    "start_time": "2021-11-17T21:43:15.137Z"
   },
   {
    "duration": 4,
    "start_time": "2021-11-17T21:43:16.766Z"
   },
   {
    "duration": 4,
    "start_time": "2021-11-17T21:43:31.711Z"
   },
   {
    "duration": 3,
    "start_time": "2021-11-17T21:43:36.312Z"
   },
   {
    "duration": 4,
    "start_time": "2021-11-17T21:45:08.825Z"
   },
   {
    "duration": 4,
    "start_time": "2021-11-17T21:45:10.119Z"
   },
   {
    "duration": 4,
    "start_time": "2021-11-17T21:45:13.748Z"
   },
   {
    "duration": 3,
    "start_time": "2021-11-17T21:45:22.219Z"
   },
   {
    "duration": 3,
    "start_time": "2021-11-17T21:45:33.412Z"
   },
   {
    "duration": 2,
    "start_time": "2021-11-17T21:46:01.885Z"
   },
   {
    "duration": 3,
    "start_time": "2021-11-17T21:46:03.628Z"
   },
   {
    "duration": 107,
    "start_time": "2021-11-17T21:47:32.512Z"
   },
   {
    "duration": 103,
    "start_time": "2021-11-17T21:50:36.243Z"
   },
   {
    "duration": 3,
    "start_time": "2021-11-18T06:28:31.440Z"
   },
   {
    "duration": 3,
    "start_time": "2021-11-18T06:29:00.168Z"
   },
   {
    "duration": 3,
    "start_time": "2021-11-18T06:31:27.008Z"
   },
   {
    "duration": 2,
    "start_time": "2021-11-18T06:35:34.288Z"
   },
   {
    "duration": 2,
    "start_time": "2021-11-18T06:38:04.527Z"
   },
   {
    "duration": 2100,
    "start_time": "2025-01-27T10:54:45.172Z"
   },
   {
    "duration": 131,
    "start_time": "2025-01-27T10:56:39.611Z"
   },
   {
    "duration": 5,
    "start_time": "2025-01-27T10:58:24.460Z"
   },
   {
    "duration": 197,
    "start_time": "2025-01-27T10:58:38.917Z"
   },
   {
    "duration": 160,
    "start_time": "2025-01-27T10:59:14.901Z"
   },
   {
    "duration": 450,
    "start_time": "2025-01-27T10:59:15.262Z"
   },
   {
    "duration": 154,
    "start_time": "2025-01-27T10:59:15.714Z"
   },
   {
    "duration": 3,
    "start_time": "2025-01-27T10:59:15.869Z"
   },
   {
    "duration": 2,
    "start_time": "2025-01-27T10:59:15.874Z"
   },
   {
    "duration": 2,
    "start_time": "2025-01-27T10:59:15.880Z"
   },
   {
    "duration": 2,
    "start_time": "2025-01-27T10:59:15.884Z"
   },
   {
    "duration": 18,
    "start_time": "2025-01-27T10:59:15.888Z"
   },
   {
    "duration": 2,
    "start_time": "2025-01-27T10:59:15.908Z"
   },
   {
    "duration": 2,
    "start_time": "2025-01-27T10:59:15.912Z"
   },
   {
    "duration": 2,
    "start_time": "2025-01-27T10:59:15.916Z"
   },
   {
    "duration": 2,
    "start_time": "2025-01-27T10:59:15.920Z"
   },
   {
    "duration": 2,
    "start_time": "2025-01-27T10:59:15.924Z"
   },
   {
    "duration": 2,
    "start_time": "2025-01-27T10:59:15.928Z"
   },
   {
    "duration": 2,
    "start_time": "2025-01-27T10:59:15.933Z"
   },
   {
    "duration": 2,
    "start_time": "2025-01-27T10:59:15.936Z"
   },
   {
    "duration": 2,
    "start_time": "2025-01-27T10:59:15.940Z"
   },
   {
    "duration": 4,
    "start_time": "2025-01-27T10:59:15.944Z"
   },
   {
    "duration": 3,
    "start_time": "2025-01-27T10:59:15.949Z"
   },
   {
    "duration": 2,
    "start_time": "2025-01-27T10:59:15.953Z"
   },
   {
    "duration": 3,
    "start_time": "2025-01-27T10:59:16.004Z"
   },
   {
    "duration": 2,
    "start_time": "2025-01-27T10:59:16.009Z"
   },
   {
    "duration": 3,
    "start_time": "2025-01-27T10:59:16.012Z"
   },
   {
    "duration": 3,
    "start_time": "2025-01-27T10:59:16.016Z"
   },
   {
    "duration": 2,
    "start_time": "2025-01-27T10:59:16.021Z"
   },
   {
    "duration": 2,
    "start_time": "2025-01-27T10:59:16.025Z"
   },
   {
    "duration": 3,
    "start_time": "2025-01-27T10:59:16.028Z"
   },
   {
    "duration": 2,
    "start_time": "2025-01-27T10:59:16.032Z"
   },
   {
    "duration": 2,
    "start_time": "2025-01-27T10:59:16.036Z"
   },
   {
    "duration": 28,
    "start_time": "2025-01-27T11:00:07.241Z"
   },
   {
    "duration": 24,
    "start_time": "2025-01-27T11:00:12.877Z"
   },
   {
    "duration": 4,
    "start_time": "2025-01-27T11:00:31.422Z"
   },
   {
    "duration": 24,
    "start_time": "2025-01-27T11:00:41.351Z"
   },
   {
    "duration": 25,
    "start_time": "2025-01-27T11:00:49.808Z"
   },
   {
    "duration": 4,
    "start_time": "2025-01-27T11:01:00.236Z"
   },
   {
    "duration": 25,
    "start_time": "2025-01-27T11:01:03.603Z"
   },
   {
    "duration": 4,
    "start_time": "2025-01-27T11:01:22.593Z"
   },
   {
    "duration": 3,
    "start_time": "2025-01-27T11:01:27.544Z"
   },
   {
    "duration": 25,
    "start_time": "2025-01-27T11:01:31.620Z"
   },
   {
    "duration": 4,
    "start_time": "2025-01-27T11:02:06.315Z"
   },
   {
    "duration": 61,
    "start_time": "2025-01-27T11:02:10.104Z"
   },
   {
    "duration": 25,
    "start_time": "2025-01-27T11:02:18.444Z"
   },
   {
    "duration": 34,
    "start_time": "2025-01-27T11:03:02.588Z"
   },
   {
    "duration": 4,
    "start_time": "2025-01-27T11:03:13.635Z"
   },
   {
    "duration": 27,
    "start_time": "2025-01-27T11:03:17.141Z"
   },
   {
    "duration": 33,
    "start_time": "2025-01-27T11:03:30.781Z"
   },
   {
    "duration": 42,
    "start_time": "2025-01-27T11:04:21.375Z"
   },
   {
    "duration": 12,
    "start_time": "2025-01-27T11:06:40.060Z"
   },
   {
    "duration": 11,
    "start_time": "2025-01-27T11:07:05.515Z"
   },
   {
    "duration": 11,
    "start_time": "2025-01-27T11:07:25.515Z"
   },
   {
    "duration": 16,
    "start_time": "2025-01-27T11:08:54.395Z"
   },
   {
    "duration": 227,
    "start_time": "2025-01-27T11:09:07.788Z"
   },
   {
    "duration": 19,
    "start_time": "2025-01-27T11:09:48.479Z"
   },
   {
    "duration": 17,
    "start_time": "2025-01-27T14:37:55.071Z"
   },
   {
    "duration": 4,
    "start_time": "2025-01-27T14:38:20.378Z"
   },
   {
    "duration": 123,
    "start_time": "2025-01-27T14:38:27.578Z"
   },
   {
    "duration": 73,
    "start_time": "2025-01-27T14:40:52.100Z"
   },
   {
    "duration": 3,
    "start_time": "2025-01-27T14:41:13.313Z"
   },
   {
    "duration": 25,
    "start_time": "2025-01-27T14:41:47.452Z"
   },
   {
    "duration": 20,
    "start_time": "2025-01-27T14:42:22.798Z"
   },
   {
    "duration": 42,
    "start_time": "2025-01-27T14:42:39.892Z"
   },
   {
    "duration": 10,
    "start_time": "2025-01-27T14:43:19.944Z"
   },
   {
    "duration": 15,
    "start_time": "2025-01-27T14:44:40.217Z"
   },
   {
    "duration": 8,
    "start_time": "2025-01-27T14:44:45.112Z"
   },
   {
    "duration": 21,
    "start_time": "2025-01-27T14:44:56.882Z"
   },
   {
    "duration": 11,
    "start_time": "2025-01-27T14:45:12.459Z"
   },
   {
    "duration": 23,
    "start_time": "2025-01-27T14:45:16.563Z"
   },
   {
    "duration": 4,
    "start_time": "2025-01-27T14:45:42.873Z"
   },
   {
    "duration": 56,
    "start_time": "2025-01-27T14:45:49.489Z"
   },
   {
    "duration": 18,
    "start_time": "2025-01-27T14:51:32.157Z"
   },
   {
    "duration": 44,
    "start_time": "2025-01-27T14:52:03.532Z"
   },
   {
    "duration": 26,
    "start_time": "2025-01-27T14:52:13.836Z"
   },
   {
    "duration": 9,
    "start_time": "2025-01-27T14:52:23.767Z"
   },
   {
    "duration": 12,
    "start_time": "2025-01-27T14:53:51.531Z"
   },
   {
    "duration": 58,
    "start_time": "2025-01-27T14:54:21.279Z"
   },
   {
    "duration": 59,
    "start_time": "2025-01-27T14:55:06.729Z"
   },
   {
    "duration": 13,
    "start_time": "2025-01-27T14:58:59.392Z"
   },
   {
    "duration": 53,
    "start_time": "2025-01-27T15:23:51.085Z"
   },
   {
    "duration": 79,
    "start_time": "2025-01-27T15:24:26.204Z"
   },
   {
    "duration": 224,
    "start_time": "2025-01-27T15:24:28.376Z"
   },
   {
    "duration": 447,
    "start_time": "2025-01-27T15:24:40.813Z"
   },
   {
    "duration": 206,
    "start_time": "2025-01-27T15:24:41.262Z"
   },
   {
    "duration": 9,
    "start_time": "2025-01-27T15:24:41.469Z"
   },
   {
    "duration": 16,
    "start_time": "2025-01-27T15:24:41.481Z"
   },
   {
    "duration": 82,
    "start_time": "2025-01-27T15:24:41.505Z"
   },
   {
    "duration": 37,
    "start_time": "2025-01-27T15:24:41.589Z"
   },
   {
    "duration": 8,
    "start_time": "2025-01-27T15:24:41.627Z"
   },
   {
    "duration": 5,
    "start_time": "2025-01-27T15:24:41.636Z"
   },
   {
    "duration": 14,
    "start_time": "2025-01-27T15:24:41.643Z"
   },
   {
    "duration": 2,
    "start_time": "2025-01-27T15:24:41.661Z"
   },
   {
    "duration": 46,
    "start_time": "2025-01-27T15:24:41.664Z"
   },
   {
    "duration": 44,
    "start_time": "2025-01-27T15:24:41.712Z"
   },
   {
    "duration": 2,
    "start_time": "2025-01-27T15:24:41.758Z"
   },
   {
    "duration": 10,
    "start_time": "2025-01-27T15:24:41.761Z"
   },
   {
    "duration": 79,
    "start_time": "2025-01-27T15:24:41.772Z"
   },
   {
    "duration": 2,
    "start_time": "2025-01-27T15:24:41.853Z"
   },
   {
    "duration": 100,
    "start_time": "2025-01-27T15:24:41.857Z"
   },
   {
    "duration": 3,
    "start_time": "2025-01-27T15:24:41.958Z"
   },
   {
    "duration": 3,
    "start_time": "2025-01-27T15:24:41.962Z"
   },
   {
    "duration": 3,
    "start_time": "2025-01-27T15:24:41.966Z"
   },
   {
    "duration": 3,
    "start_time": "2025-01-27T15:24:41.970Z"
   },
   {
    "duration": 3,
    "start_time": "2025-01-27T15:24:41.974Z"
   },
   {
    "duration": 26,
    "start_time": "2025-01-27T15:24:41.979Z"
   },
   {
    "duration": 2,
    "start_time": "2025-01-27T15:24:42.007Z"
   },
   {
    "duration": 3,
    "start_time": "2025-01-27T15:24:42.011Z"
   },
   {
    "duration": 3,
    "start_time": "2025-01-27T15:24:42.015Z"
   },
   {
    "duration": 3,
    "start_time": "2025-01-27T15:24:42.020Z"
   },
   {
    "duration": 2,
    "start_time": "2025-01-27T15:24:42.026Z"
   },
   {
    "duration": 2,
    "start_time": "2025-01-27T15:24:42.030Z"
   },
   {
    "duration": 2,
    "start_time": "2025-01-27T15:24:42.034Z"
   },
   {
    "duration": 2,
    "start_time": "2025-01-27T15:24:42.038Z"
   },
   {
    "duration": 2,
    "start_time": "2025-01-27T15:24:42.042Z"
   },
   {
    "duration": 3,
    "start_time": "2025-01-27T15:24:42.045Z"
   },
   {
    "duration": 7,
    "start_time": "2025-01-27T15:25:01.235Z"
   },
   {
    "duration": 9,
    "start_time": "2025-01-27T15:25:09.977Z"
   },
   {
    "duration": 467,
    "start_time": "2025-01-27T15:25:21.979Z"
   },
   {
    "duration": 9,
    "start_time": "2025-01-27T15:25:36.269Z"
   },
   {
    "duration": 24,
    "start_time": "2025-01-27T15:25:40.306Z"
   },
   {
    "duration": 8,
    "start_time": "2025-01-27T15:25:47.697Z"
   },
   {
    "duration": 66,
    "start_time": "2025-01-27T15:26:18.782Z"
   },
   {
    "duration": 4,
    "start_time": "2025-01-27T15:28:39.541Z"
   },
   {
    "duration": 3,
    "start_time": "2025-01-27T15:28:48.692Z"
   },
   {
    "duration": 4,
    "start_time": "2025-01-27T15:28:50.423Z"
   },
   {
    "duration": 3,
    "start_time": "2025-01-27T15:28:54.541Z"
   },
   {
    "duration": 3,
    "start_time": "2025-01-27T15:29:04.720Z"
   },
   {
    "duration": 246,
    "start_time": "2025-01-27T15:48:12.811Z"
   },
   {
    "duration": 9,
    "start_time": "2025-01-27T15:48:27.354Z"
   },
   {
    "duration": 231,
    "start_time": "2025-01-27T15:48:53.128Z"
   },
   {
    "duration": 78,
    "start_time": "2025-01-27T15:49:24.988Z"
   },
   {
    "duration": 73,
    "start_time": "2025-01-27T15:49:32.016Z"
   },
   {
    "duration": 24,
    "start_time": "2025-01-27T15:49:58.886Z"
   },
   {
    "duration": 26,
    "start_time": "2025-01-27T15:50:11.443Z"
   },
   {
    "duration": 25,
    "start_time": "2025-01-27T15:50:42.508Z"
   },
   {
    "duration": 6,
    "start_time": "2025-01-27T15:51:28.922Z"
   },
   {
    "duration": 54,
    "start_time": "2025-01-27T15:52:37.227Z"
   },
   {
    "duration": 232,
    "start_time": "2025-01-27T15:52:48.618Z"
   },
   {
    "duration": 7,
    "start_time": "2025-01-27T15:54:02.947Z"
   },
   {
    "duration": 5,
    "start_time": "2025-01-27T15:58:36.107Z"
   },
   {
    "duration": 4,
    "start_time": "2025-01-27T15:58:49.054Z"
   },
   {
    "duration": 4,
    "start_time": "2025-01-27T15:59:07.677Z"
   },
   {
    "duration": 13,
    "start_time": "2025-01-27T16:00:30.408Z"
   },
   {
    "duration": 3,
    "start_time": "2025-01-27T16:00:35.734Z"
   },
   {
    "duration": 5,
    "start_time": "2025-01-27T16:00:39.608Z"
   },
   {
    "duration": 5,
    "start_time": "2025-01-27T16:01:07.928Z"
   },
   {
    "duration": 6,
    "start_time": "2025-01-27T16:01:11.525Z"
   },
   {
    "duration": 12,
    "start_time": "2025-01-27T16:02:03.318Z"
   },
   {
    "duration": 15,
    "start_time": "2025-01-27T16:02:16.169Z"
   },
   {
    "duration": 415,
    "start_time": "2025-01-27T16:03:13.371Z"
   },
   {
    "duration": 15,
    "start_time": "2025-01-27T16:03:48.423Z"
   },
   {
    "duration": 11,
    "start_time": "2025-01-27T16:04:07.932Z"
   },
   {
    "duration": 15,
    "start_time": "2025-01-27T16:04:30.497Z"
   },
   {
    "duration": 10,
    "start_time": "2025-01-27T16:04:40.875Z"
   },
   {
    "duration": 9,
    "start_time": "2025-01-27T16:04:53.583Z"
   },
   {
    "duration": 9,
    "start_time": "2025-01-27T16:05:27.240Z"
   },
   {
    "duration": 12,
    "start_time": "2025-01-27T16:06:32.505Z"
   },
   {
    "duration": 93,
    "start_time": "2025-01-27T16:07:38.205Z"
   },
   {
    "duration": 311,
    "start_time": "2025-01-27T16:07:41.442Z"
   },
   {
    "duration": 4,
    "start_time": "2025-01-27T16:17:33.075Z"
   },
   {
    "duration": 5,
    "start_time": "2025-01-27T16:17:54.526Z"
   },
   {
    "duration": 6,
    "start_time": "2025-01-27T16:18:16.110Z"
   },
   {
    "duration": 473,
    "start_time": "2025-01-27T16:18:42.411Z"
   },
   {
    "duration": 228,
    "start_time": "2025-01-27T16:18:42.886Z"
   },
   {
    "duration": 77,
    "start_time": "2025-01-27T16:18:43.116Z"
   },
   {
    "duration": 35,
    "start_time": "2025-01-27T16:18:43.195Z"
   },
   {
    "duration": 15,
    "start_time": "2025-01-27T16:18:43.232Z"
   },
   {
    "duration": 20,
    "start_time": "2025-01-27T16:18:43.249Z"
   },
   {
    "duration": 8,
    "start_time": "2025-01-27T16:18:43.271Z"
   },
   {
    "duration": 4,
    "start_time": "2025-01-27T16:18:43.282Z"
   },
   {
    "duration": 10,
    "start_time": "2025-01-27T16:18:43.305Z"
   },
   {
    "duration": 6,
    "start_time": "2025-01-27T16:18:43.317Z"
   },
   {
    "duration": 128,
    "start_time": "2025-01-27T16:18:43.325Z"
   },
   {
    "duration": 9,
    "start_time": "2025-01-27T16:18:43.454Z"
   },
   {
    "duration": 129,
    "start_time": "2025-01-27T16:18:43.465Z"
   },
   {
    "duration": 64,
    "start_time": "2025-01-27T16:18:43.598Z"
   },
   {
    "duration": 7,
    "start_time": "2025-01-27T16:18:43.664Z"
   },
   {
    "duration": 88,
    "start_time": "2025-01-27T16:18:43.672Z"
   },
   {
    "duration": 95,
    "start_time": "2025-01-27T16:18:43.762Z"
   },
   {
    "duration": 8,
    "start_time": "2025-01-27T16:18:43.859Z"
   },
   {
    "duration": 113,
    "start_time": "2025-01-27T16:18:43.869Z"
   },
   {
    "duration": 7,
    "start_time": "2025-01-27T16:18:43.984Z"
   },
   {
    "duration": 17,
    "start_time": "2025-01-27T16:18:43.992Z"
   },
   {
    "duration": 5,
    "start_time": "2025-01-27T16:18:44.012Z"
   },
   {
    "duration": 3,
    "start_time": "2025-01-27T16:18:44.018Z"
   },
   {
    "duration": 5,
    "start_time": "2025-01-27T16:18:44.022Z"
   },
   {
    "duration": 8,
    "start_time": "2025-01-27T16:18:44.028Z"
   },
   {
    "duration": 4,
    "start_time": "2025-01-27T16:18:44.037Z"
   },
   {
    "duration": 3,
    "start_time": "2025-01-27T16:18:44.043Z"
   },
   {
    "duration": 2,
    "start_time": "2025-01-27T16:18:44.048Z"
   },
   {
    "duration": 8,
    "start_time": "2025-01-27T16:18:44.051Z"
   },
   {
    "duration": 2,
    "start_time": "2025-01-27T16:18:44.061Z"
   },
   {
    "duration": 2,
    "start_time": "2025-01-27T16:18:44.065Z"
   },
   {
    "duration": 2,
    "start_time": "2025-01-27T16:18:44.069Z"
   },
   {
    "duration": 2,
    "start_time": "2025-01-27T16:18:44.073Z"
   },
   {
    "duration": 2,
    "start_time": "2025-01-27T16:18:44.077Z"
   },
   {
    "duration": 3,
    "start_time": "2025-01-27T16:18:44.105Z"
   },
   {
    "duration": 64,
    "start_time": "2025-01-27T16:25:11.159Z"
   },
   {
    "duration": 633,
    "start_time": "2025-01-27T16:28:16.567Z"
   },
   {
    "duration": 59,
    "start_time": "2025-01-27T16:28:35.619Z"
   },
   {
    "duration": 49,
    "start_time": "2025-01-27T16:29:12.625Z"
   },
   {
    "duration": 11,
    "start_time": "2025-01-27T16:30:12.268Z"
   },
   {
    "duration": 24,
    "start_time": "2025-01-27T16:31:57.069Z"
   },
   {
    "duration": 5,
    "start_time": "2025-01-27T16:32:36.980Z"
   },
   {
    "duration": 27,
    "start_time": "2025-01-27T16:32:42.113Z"
   },
   {
    "duration": 36,
    "start_time": "2025-01-27T16:33:23.874Z"
   },
   {
    "duration": 303,
    "start_time": "2025-01-27T16:33:44.604Z"
   },
   {
    "duration": 33,
    "start_time": "2025-01-27T16:34:09.038Z"
   },
   {
    "duration": 46,
    "start_time": "2025-01-27T16:34:16.190Z"
   },
   {
    "duration": 55,
    "start_time": "2025-01-27T16:35:11.485Z"
   },
   {
    "duration": 48,
    "start_time": "2025-01-27T16:35:17.227Z"
   },
   {
    "duration": 47,
    "start_time": "2025-01-27T16:35:29.359Z"
   },
   {
    "duration": 44,
    "start_time": "2025-01-27T16:35:40.105Z"
   },
   {
    "duration": 39,
    "start_time": "2025-01-27T16:35:56.301Z"
   },
   {
    "duration": 43,
    "start_time": "2025-01-27T16:36:06.793Z"
   },
   {
    "duration": 464,
    "start_time": "2025-01-27T16:36:31.976Z"
   },
   {
    "duration": 251,
    "start_time": "2025-01-27T16:36:32.442Z"
   },
   {
    "duration": 84,
    "start_time": "2025-01-27T16:36:32.694Z"
   },
   {
    "duration": 36,
    "start_time": "2025-01-27T16:36:32.781Z"
   },
   {
    "duration": 15,
    "start_time": "2025-01-27T16:36:32.818Z"
   },
   {
    "duration": 22,
    "start_time": "2025-01-27T16:36:32.835Z"
   },
   {
    "duration": 7,
    "start_time": "2025-01-27T16:36:32.859Z"
   },
   {
    "duration": 5,
    "start_time": "2025-01-27T16:36:32.867Z"
   },
   {
    "duration": 33,
    "start_time": "2025-01-27T16:36:32.874Z"
   },
   {
    "duration": 8,
    "start_time": "2025-01-27T16:36:32.911Z"
   },
   {
    "duration": 106,
    "start_time": "2025-01-27T16:36:32.921Z"
   },
   {
    "duration": 12,
    "start_time": "2025-01-27T16:36:33.030Z"
   },
   {
    "duration": 109,
    "start_time": "2025-01-27T16:36:33.044Z"
   },
   {
    "duration": 54,
    "start_time": "2025-01-27T16:36:33.155Z"
   },
   {
    "duration": 10,
    "start_time": "2025-01-27T16:36:33.212Z"
   },
   {
    "duration": 54,
    "start_time": "2025-01-27T16:36:33.225Z"
   },
   {
    "duration": 91,
    "start_time": "2025-01-27T16:36:33.281Z"
   },
   {
    "duration": 9,
    "start_time": "2025-01-27T16:36:33.374Z"
   },
   {
    "duration": 116,
    "start_time": "2025-01-27T16:36:33.384Z"
   },
   {
    "duration": 11,
    "start_time": "2025-01-27T16:36:33.502Z"
   },
   {
    "duration": 71,
    "start_time": "2025-01-27T16:36:33.515Z"
   },
   {
    "duration": 392,
    "start_time": "2025-01-27T16:36:33.588Z"
   },
   {
    "duration": 3,
    "start_time": "2025-01-27T16:36:33.982Z"
   },
   {
    "duration": 5,
    "start_time": "2025-01-27T16:36:33.987Z"
   },
   {
    "duration": 15,
    "start_time": "2025-01-27T16:36:33.993Z"
   },
   {
    "duration": 4,
    "start_time": "2025-01-27T16:36:34.012Z"
   },
   {
    "duration": 2,
    "start_time": "2025-01-27T16:36:34.018Z"
   },
   {
    "duration": 4,
    "start_time": "2025-01-27T16:36:34.029Z"
   },
   {
    "duration": 4,
    "start_time": "2025-01-27T16:36:34.035Z"
   },
   {
    "duration": 4,
    "start_time": "2025-01-27T16:36:34.041Z"
   },
   {
    "duration": 3,
    "start_time": "2025-01-27T16:36:34.047Z"
   },
   {
    "duration": 6,
    "start_time": "2025-01-27T16:36:34.052Z"
   },
   {
    "duration": 2,
    "start_time": "2025-01-27T16:36:34.061Z"
   },
   {
    "duration": 2,
    "start_time": "2025-01-27T16:36:34.066Z"
   },
   {
    "duration": 2,
    "start_time": "2025-01-27T16:36:34.071Z"
   },
   {
    "duration": 32,
    "start_time": "2025-01-27T16:37:00.835Z"
   },
   {
    "duration": 6,
    "start_time": "2025-01-27T16:37:53.438Z"
   },
   {
    "duration": 123,
    "start_time": "2025-01-27T16:38:05.361Z"
   },
   {
    "duration": 30,
    "start_time": "2025-01-27T16:38:16.898Z"
   },
   {
    "duration": 491,
    "start_time": "2025-01-27T16:38:23.289Z"
   },
   {
    "duration": 413,
    "start_time": "2025-01-27T16:38:37.559Z"
   },
   {
    "duration": 192,
    "start_time": "2025-01-27T16:38:37.974Z"
   },
   {
    "duration": 97,
    "start_time": "2025-01-27T16:38:38.168Z"
   },
   {
    "duration": 29,
    "start_time": "2025-01-27T16:38:38.266Z"
   },
   {
    "duration": 10,
    "start_time": "2025-01-27T16:38:38.310Z"
   },
   {
    "duration": 26,
    "start_time": "2025-01-27T16:38:38.322Z"
   },
   {
    "duration": 8,
    "start_time": "2025-01-27T16:38:38.351Z"
   },
   {
    "duration": 5,
    "start_time": "2025-01-27T16:38:38.361Z"
   },
   {
    "duration": 9,
    "start_time": "2025-01-27T16:38:38.368Z"
   },
   {
    "duration": 31,
    "start_time": "2025-01-27T16:38:38.379Z"
   },
   {
    "duration": 120,
    "start_time": "2025-01-27T16:38:38.412Z"
   },
   {
    "duration": 12,
    "start_time": "2025-01-27T16:38:38.534Z"
   },
   {
    "duration": 123,
    "start_time": "2025-01-27T16:38:38.549Z"
   },
   {
    "duration": 59,
    "start_time": "2025-01-27T16:38:38.676Z"
   },
   {
    "duration": 7,
    "start_time": "2025-01-27T16:38:38.737Z"
   },
   {
    "duration": 83,
    "start_time": "2025-01-27T16:38:38.749Z"
   },
   {
    "duration": 76,
    "start_time": "2025-01-27T16:38:38.834Z"
   },
   {
    "duration": 13,
    "start_time": "2025-01-27T16:38:38.912Z"
   },
   {
    "duration": 111,
    "start_time": "2025-01-27T16:38:38.927Z"
   },
   {
    "duration": 9,
    "start_time": "2025-01-27T16:38:39.039Z"
   },
   {
    "duration": 76,
    "start_time": "2025-01-27T16:38:39.050Z"
   },
   {
    "duration": 38,
    "start_time": "2025-01-27T16:38:39.128Z"
   },
   {
    "duration": 3,
    "start_time": "2025-01-27T16:38:39.167Z"
   },
   {
    "duration": 2,
    "start_time": "2025-01-27T16:38:39.172Z"
   },
   {
    "duration": 2,
    "start_time": "2025-01-27T16:38:39.176Z"
   },
   {
    "duration": 25,
    "start_time": "2025-01-27T16:38:39.180Z"
   },
   {
    "duration": 2,
    "start_time": "2025-01-27T16:38:39.206Z"
   },
   {
    "duration": 2,
    "start_time": "2025-01-27T16:38:39.210Z"
   },
   {
    "duration": 7,
    "start_time": "2025-01-27T16:38:39.214Z"
   },
   {
    "duration": 2,
    "start_time": "2025-01-27T16:38:39.223Z"
   },
   {
    "duration": 2,
    "start_time": "2025-01-27T16:38:39.227Z"
   },
   {
    "duration": 2,
    "start_time": "2025-01-27T16:38:39.231Z"
   },
   {
    "duration": 2,
    "start_time": "2025-01-27T16:38:39.235Z"
   },
   {
    "duration": 2,
    "start_time": "2025-01-27T16:38:39.239Z"
   },
   {
    "duration": 2,
    "start_time": "2025-01-27T16:38:39.243Z"
   },
   {
    "duration": 14,
    "start_time": "2025-01-27T16:39:32.098Z"
   },
   {
    "duration": 20,
    "start_time": "2025-01-27T16:43:16.261Z"
   },
   {
    "duration": 38,
    "start_time": "2025-01-27T16:43:56.430Z"
   },
   {
    "duration": 8,
    "start_time": "2025-01-27T16:47:49.980Z"
   },
   {
    "duration": 45,
    "start_time": "2025-01-27T16:48:36.141Z"
   },
   {
    "duration": 42,
    "start_time": "2025-01-27T16:48:51.844Z"
   },
   {
    "duration": 52,
    "start_time": "2025-01-27T16:48:53.821Z"
   },
   {
    "duration": 58,
    "start_time": "2025-01-27T16:49:08.713Z"
   },
   {
    "duration": 8,
    "start_time": "2025-01-27T16:53:50.103Z"
   },
   {
    "duration": 46,
    "start_time": "2025-01-27T16:55:10.263Z"
   },
   {
    "duration": 52,
    "start_time": "2025-01-27T16:55:39.257Z"
   },
   {
    "duration": 105,
    "start_time": "2025-01-27T16:55:59.241Z"
   },
   {
    "duration": 57,
    "start_time": "2025-01-27T16:56:15.462Z"
   },
   {
    "duration": 62,
    "start_time": "2025-01-27T16:56:37.221Z"
   },
   {
    "duration": 184,
    "start_time": "2025-01-27T17:26:22.021Z"
   },
   {
    "duration": 45,
    "start_time": "2025-01-27T17:26:34.386Z"
   },
   {
    "duration": 20,
    "start_time": "2025-01-27T17:26:37.500Z"
   },
   {
    "duration": 549,
    "start_time": "2025-01-27T17:26:48.644Z"
   },
   {
    "duration": 207,
    "start_time": "2025-01-27T17:26:49.195Z"
   },
   {
    "duration": 103,
    "start_time": "2025-01-27T17:26:49.405Z"
   },
   {
    "duration": 25,
    "start_time": "2025-01-27T17:26:49.511Z"
   },
   {
    "duration": 9,
    "start_time": "2025-01-27T17:26:49.539Z"
   },
   {
    "duration": 26,
    "start_time": "2025-01-27T17:26:49.550Z"
   },
   {
    "duration": 33,
    "start_time": "2025-01-27T17:26:49.578Z"
   },
   {
    "duration": 8,
    "start_time": "2025-01-27T17:26:49.613Z"
   },
   {
    "duration": 8,
    "start_time": "2025-01-27T17:26:49.623Z"
   },
   {
    "duration": 6,
    "start_time": "2025-01-27T17:26:49.633Z"
   },
   {
    "duration": 112,
    "start_time": "2025-01-27T17:26:49.640Z"
   },
   {
    "duration": 11,
    "start_time": "2025-01-27T17:26:49.754Z"
   },
   {
    "duration": 138,
    "start_time": "2025-01-27T17:26:49.767Z"
   },
   {
    "duration": 44,
    "start_time": "2025-01-27T17:26:49.908Z"
   },
   {
    "duration": 8,
    "start_time": "2025-01-27T17:26:49.955Z"
   },
   {
    "duration": 82,
    "start_time": "2025-01-27T17:26:49.965Z"
   },
   {
    "duration": 100,
    "start_time": "2025-01-27T17:26:50.049Z"
   },
   {
    "duration": 10,
    "start_time": "2025-01-27T17:26:50.152Z"
   },
   {
    "duration": 89,
    "start_time": "2025-01-27T17:26:50.164Z"
   },
   {
    "duration": 7,
    "start_time": "2025-01-27T17:26:50.254Z"
   },
   {
    "duration": 72,
    "start_time": "2025-01-27T17:26:50.263Z"
   },
   {
    "duration": 28,
    "start_time": "2025-01-27T17:26:50.338Z"
   },
   {
    "duration": 81,
    "start_time": "2025-01-27T17:26:50.368Z"
   },
   {
    "duration": 97,
    "start_time": "2025-01-27T17:26:50.450Z"
   },
   {
    "duration": 155,
    "start_time": "2025-01-27T17:26:50.550Z"
   },
   {
    "duration": 0,
    "start_time": "2025-01-27T17:26:50.707Z"
   },
   {
    "duration": 0,
    "start_time": "2025-01-27T17:26:50.708Z"
   },
   {
    "duration": 0,
    "start_time": "2025-01-27T17:26:50.711Z"
   },
   {
    "duration": 0,
    "start_time": "2025-01-27T17:26:50.713Z"
   },
   {
    "duration": 0,
    "start_time": "2025-01-27T17:26:50.714Z"
   },
   {
    "duration": 0,
    "start_time": "2025-01-27T17:26:50.716Z"
   },
   {
    "duration": 0,
    "start_time": "2025-01-27T17:26:50.717Z"
   },
   {
    "duration": 0,
    "start_time": "2025-01-27T17:26:50.718Z"
   },
   {
    "duration": 0,
    "start_time": "2025-01-27T17:26:50.720Z"
   },
   {
    "duration": 0,
    "start_time": "2025-01-27T17:26:50.721Z"
   },
   {
    "duration": 63,
    "start_time": "2025-01-27T17:28:26.603Z"
   },
   {
    "duration": 28,
    "start_time": "2025-01-27T17:28:28.653Z"
   },
   {
    "duration": 64,
    "start_time": "2025-01-27T17:28:31.990Z"
   },
   {
    "duration": 27,
    "start_time": "2025-01-27T17:28:35.173Z"
   },
   {
    "duration": 467,
    "start_time": "2025-01-27T17:30:00.216Z"
   },
   {
    "duration": 220,
    "start_time": "2025-01-27T17:30:00.685Z"
   },
   {
    "duration": 92,
    "start_time": "2025-01-27T17:30:00.907Z"
   },
   {
    "duration": 29,
    "start_time": "2025-01-27T17:30:01.001Z"
   },
   {
    "duration": 10,
    "start_time": "2025-01-27T17:30:01.033Z"
   },
   {
    "duration": 23,
    "start_time": "2025-01-27T17:30:01.045Z"
   },
   {
    "duration": 38,
    "start_time": "2025-01-27T17:30:01.070Z"
   },
   {
    "duration": 4,
    "start_time": "2025-01-27T17:30:01.110Z"
   },
   {
    "duration": 8,
    "start_time": "2025-01-27T17:30:01.116Z"
   },
   {
    "duration": 8,
    "start_time": "2025-01-27T17:30:01.126Z"
   },
   {
    "duration": 145,
    "start_time": "2025-01-27T17:30:01.138Z"
   },
   {
    "duration": 24,
    "start_time": "2025-01-27T17:30:01.285Z"
   },
   {
    "duration": 128,
    "start_time": "2025-01-27T17:30:01.311Z"
   },
   {
    "duration": 50,
    "start_time": "2025-01-27T17:30:01.444Z"
   },
   {
    "duration": 15,
    "start_time": "2025-01-27T17:30:01.496Z"
   },
   {
    "duration": 69,
    "start_time": "2025-01-27T17:30:01.513Z"
   },
   {
    "duration": 117,
    "start_time": "2025-01-27T17:30:01.584Z"
   },
   {
    "duration": 11,
    "start_time": "2025-01-27T17:30:01.712Z"
   },
   {
    "duration": 109,
    "start_time": "2025-01-27T17:30:01.725Z"
   },
   {
    "duration": 10,
    "start_time": "2025-01-27T17:30:01.836Z"
   },
   {
    "duration": 66,
    "start_time": "2025-01-27T17:30:01.848Z"
   },
   {
    "duration": 28,
    "start_time": "2025-01-27T17:30:01.917Z"
   },
   {
    "duration": 46,
    "start_time": "2025-01-27T17:30:01.947Z"
   },
   {
    "duration": 70,
    "start_time": "2025-01-27T17:30:02.011Z"
   },
   {
    "duration": 24,
    "start_time": "2025-01-27T17:30:02.082Z"
   },
   {
    "duration": 6,
    "start_time": "2025-01-27T17:30:02.108Z"
   },
   {
    "duration": 5,
    "start_time": "2025-01-27T17:30:02.116Z"
   },
   {
    "duration": 3,
    "start_time": "2025-01-27T17:30:02.123Z"
   },
   {
    "duration": 3,
    "start_time": "2025-01-27T17:30:02.128Z"
   },
   {
    "duration": 2,
    "start_time": "2025-01-27T17:30:02.133Z"
   },
   {
    "duration": 2,
    "start_time": "2025-01-27T17:30:02.137Z"
   },
   {
    "duration": 3,
    "start_time": "2025-01-27T17:30:02.141Z"
   },
   {
    "duration": 3,
    "start_time": "2025-01-27T17:30:02.145Z"
   },
   {
    "duration": 2,
    "start_time": "2025-01-27T17:30:02.150Z"
   },
   {
    "duration": 2,
    "start_time": "2025-01-27T17:30:02.154Z"
   },
   {
    "duration": 40,
    "start_time": "2025-01-27T17:34:09.792Z"
   },
   {
    "duration": 39,
    "start_time": "2025-01-27T17:41:46.257Z"
   },
   {
    "duration": 27,
    "start_time": "2025-01-27T17:41:51.848Z"
   },
   {
    "duration": 37,
    "start_time": "2025-01-27T17:55:52.319Z"
   },
   {
    "duration": 250,
    "start_time": "2025-01-27T18:10:38.396Z"
   },
   {
    "duration": 451,
    "start_time": "2025-01-27T18:11:59.096Z"
   },
   {
    "duration": 520,
    "start_time": "2025-01-27T18:12:09.720Z"
   },
   {
    "duration": 1081,
    "start_time": "2025-01-27T18:12:50.885Z"
   },
   {
    "duration": 501,
    "start_time": "2025-01-27T18:15:31.653Z"
   },
   {
    "duration": 512,
    "start_time": "2025-01-27T18:15:39.567Z"
   },
   {
    "duration": 473,
    "start_time": "2025-01-27T18:16:31.683Z"
   },
   {
    "duration": 594,
    "start_time": "2025-01-27T18:16:39.341Z"
   },
   {
    "duration": 28,
    "start_time": "2025-01-27T18:16:50.295Z"
   },
   {
    "duration": 21,
    "start_time": "2025-01-27T18:16:58.716Z"
   },
   {
    "duration": 24,
    "start_time": "2025-01-27T18:17:07.872Z"
   },
   {
    "duration": 398,
    "start_time": "2025-01-27T18:17:12.248Z"
   },
   {
    "duration": 373,
    "start_time": "2025-01-27T18:17:37.136Z"
   },
   {
    "duration": 392,
    "start_time": "2025-01-27T18:25:55.725Z"
   },
   {
    "duration": 392,
    "start_time": "2025-01-27T18:26:10.088Z"
   },
   {
    "duration": 364,
    "start_time": "2025-01-27T18:27:13.631Z"
   },
   {
    "duration": 6,
    "start_time": "2025-01-27T18:33:19.635Z"
   },
   {
    "duration": 28,
    "start_time": "2025-01-27T18:36:32.058Z"
   },
   {
    "duration": 368,
    "start_time": "2025-01-27T18:36:56.197Z"
   },
   {
    "duration": 17,
    "start_time": "2025-01-27T18:40:22.160Z"
   },
   {
    "duration": 406,
    "start_time": "2025-01-27T18:40:33.481Z"
   },
   {
    "duration": 193,
    "start_time": "2025-01-27T18:40:33.889Z"
   },
   {
    "duration": 87,
    "start_time": "2025-01-27T18:40:34.085Z"
   },
   {
    "duration": 30,
    "start_time": "2025-01-27T18:40:34.175Z"
   },
   {
    "duration": 8,
    "start_time": "2025-01-27T18:40:34.206Z"
   },
   {
    "duration": 21,
    "start_time": "2025-01-27T18:40:34.216Z"
   },
   {
    "duration": 7,
    "start_time": "2025-01-27T18:40:34.239Z"
   },
   {
    "duration": 5,
    "start_time": "2025-01-27T18:40:34.247Z"
   },
   {
    "duration": 8,
    "start_time": "2025-01-27T18:40:34.253Z"
   },
   {
    "duration": 4,
    "start_time": "2025-01-27T18:40:34.264Z"
   },
   {
    "duration": 103,
    "start_time": "2025-01-27T18:40:34.305Z"
   },
   {
    "duration": 10,
    "start_time": "2025-01-27T18:40:34.410Z"
   },
   {
    "duration": 105,
    "start_time": "2025-01-27T18:40:34.422Z"
   },
   {
    "duration": 44,
    "start_time": "2025-01-27T18:40:34.528Z"
   },
   {
    "duration": 5,
    "start_time": "2025-01-27T18:40:34.574Z"
   },
   {
    "duration": 69,
    "start_time": "2025-01-27T18:40:34.582Z"
   },
   {
    "duration": 75,
    "start_time": "2025-01-27T18:40:34.653Z"
   },
   {
    "duration": 7,
    "start_time": "2025-01-27T18:40:34.730Z"
   },
   {
    "duration": 90,
    "start_time": "2025-01-27T18:40:34.739Z"
   },
   {
    "duration": 12,
    "start_time": "2025-01-27T18:40:34.830Z"
   },
   {
    "duration": 71,
    "start_time": "2025-01-27T18:40:34.844Z"
   },
   {
    "duration": 13,
    "start_time": "2025-01-27T18:40:34.917Z"
   },
   {
    "duration": 43,
    "start_time": "2025-01-27T18:40:34.932Z"
   },
   {
    "duration": 66,
    "start_time": "2025-01-27T18:40:34.977Z"
   },
   {
    "duration": 28,
    "start_time": "2025-01-27T18:40:35.045Z"
   },
   {
    "duration": 33,
    "start_time": "2025-01-27T18:40:35.075Z"
   },
   {
    "duration": 2,
    "start_time": "2025-01-27T18:40:35.111Z"
   },
   {
    "duration": 2,
    "start_time": "2025-01-27T18:40:35.117Z"
   },
   {
    "duration": 2,
    "start_time": "2025-01-27T18:40:35.121Z"
   },
   {
    "duration": 3,
    "start_time": "2025-01-27T18:40:35.125Z"
   },
   {
    "duration": 2,
    "start_time": "2025-01-27T18:40:35.130Z"
   },
   {
    "duration": 2,
    "start_time": "2025-01-27T18:40:35.134Z"
   },
   {
    "duration": 3,
    "start_time": "2025-01-27T18:40:35.138Z"
   },
   {
    "duration": 2,
    "start_time": "2025-01-27T18:40:35.142Z"
   },
   {
    "duration": 2,
    "start_time": "2025-01-27T18:40:35.146Z"
   },
   {
    "duration": 4,
    "start_time": "2025-01-27T19:11:16.725Z"
   },
   {
    "duration": 9,
    "start_time": "2025-01-27T19:11:22.452Z"
   },
   {
    "duration": 9,
    "start_time": "2025-01-27T19:12:59.207Z"
   },
   {
    "duration": 12,
    "start_time": "2025-01-27T19:14:30.066Z"
   },
   {
    "duration": 7,
    "start_time": "2025-01-27T19:14:36.943Z"
   },
   {
    "duration": 10,
    "start_time": "2025-01-27T19:14:51.476Z"
   },
   {
    "duration": 12,
    "start_time": "2025-01-27T19:15:37.306Z"
   },
   {
    "duration": 98,
    "start_time": "2025-01-27T19:16:13.498Z"
   },
   {
    "duration": 12,
    "start_time": "2025-01-27T19:16:18.006Z"
   },
   {
    "duration": 12,
    "start_time": "2025-01-27T19:18:35.395Z"
   },
   {
    "duration": 11,
    "start_time": "2025-01-27T19:19:24.302Z"
   },
   {
    "duration": 8,
    "start_time": "2025-01-27T19:19:41.842Z"
   },
   {
    "duration": 7,
    "start_time": "2025-01-27T19:41:01.901Z"
   },
   {
    "duration": 5,
    "start_time": "2025-01-27T19:41:13.028Z"
   },
   {
    "duration": 394,
    "start_time": "2025-01-27T19:42:10.283Z"
   },
   {
    "duration": 40,
    "start_time": "2025-01-27T19:42:43.052Z"
   },
   {
    "duration": 10,
    "start_time": "2025-01-27T19:43:25.067Z"
   },
   {
    "duration": 208,
    "start_time": "2025-01-27T19:43:39.255Z"
   },
   {
    "duration": 15,
    "start_time": "2025-01-27T19:44:05.970Z"
   },
   {
    "duration": 17,
    "start_time": "2025-01-27T19:44:29.354Z"
   },
   {
    "duration": 15,
    "start_time": "2025-01-27T19:44:49.185Z"
   },
   {
    "duration": 4,
    "start_time": "2025-01-27T19:45:58.750Z"
   },
   {
    "duration": 13,
    "start_time": "2025-01-27T19:46:07.287Z"
   },
   {
    "duration": 14,
    "start_time": "2025-01-27T19:46:16.559Z"
   },
   {
    "duration": 14,
    "start_time": "2025-01-27T19:46:33.434Z"
   },
   {
    "duration": 9,
    "start_time": "2025-01-27T19:47:02.630Z"
   },
   {
    "duration": 13,
    "start_time": "2025-01-27T19:48:04.420Z"
   },
   {
    "duration": 51,
    "start_time": "2025-01-27T19:48:55.063Z"
   },
   {
    "duration": 4,
    "start_time": "2025-01-27T19:50:51.703Z"
   },
   {
    "duration": 4,
    "start_time": "2025-01-27T19:50:57.840Z"
   },
   {
    "duration": 3,
    "start_time": "2025-01-27T19:51:11.870Z"
   },
   {
    "duration": 4,
    "start_time": "2025-01-27T19:51:35.075Z"
   },
   {
    "duration": 13,
    "start_time": "2025-01-27T19:51:51.861Z"
   },
   {
    "duration": 13,
    "start_time": "2025-01-27T19:51:55.867Z"
   },
   {
    "duration": 14,
    "start_time": "2025-01-27T19:52:07.147Z"
   },
   {
    "duration": 13,
    "start_time": "2025-01-27T19:53:19.639Z"
   },
   {
    "duration": 3,
    "start_time": "2025-01-27T19:53:24.521Z"
   },
   {
    "duration": 41,
    "start_time": "2025-01-27T19:53:41.468Z"
   },
   {
    "duration": 40,
    "start_time": "2025-01-27T19:54:04.510Z"
   },
   {
    "duration": 46,
    "start_time": "2025-01-27T19:55:14.323Z"
   },
   {
    "duration": 15,
    "start_time": "2025-01-27T19:55:29.744Z"
   },
   {
    "duration": 14,
    "start_time": "2025-01-27T19:56:52.623Z"
   },
   {
    "duration": 418,
    "start_time": "2025-01-27T19:57:10.189Z"
   },
   {
    "duration": 200,
    "start_time": "2025-01-27T19:57:10.610Z"
   },
   {
    "duration": 78,
    "start_time": "2025-01-27T19:57:10.811Z"
   },
   {
    "duration": 31,
    "start_time": "2025-01-27T19:57:10.891Z"
   },
   {
    "duration": 9,
    "start_time": "2025-01-27T19:57:10.924Z"
   },
   {
    "duration": 20,
    "start_time": "2025-01-27T19:57:10.934Z"
   },
   {
    "duration": 7,
    "start_time": "2025-01-27T19:57:10.955Z"
   },
   {
    "duration": 5,
    "start_time": "2025-01-27T19:57:10.964Z"
   },
   {
    "duration": 36,
    "start_time": "2025-01-27T19:57:10.971Z"
   },
   {
    "duration": 4,
    "start_time": "2025-01-27T19:57:11.009Z"
   },
   {
    "duration": 102,
    "start_time": "2025-01-27T19:57:11.015Z"
   },
   {
    "duration": 9,
    "start_time": "2025-01-27T19:57:11.119Z"
   },
   {
    "duration": 110,
    "start_time": "2025-01-27T19:57:11.129Z"
   },
   {
    "duration": 49,
    "start_time": "2025-01-27T19:57:11.242Z"
   },
   {
    "duration": 16,
    "start_time": "2025-01-27T19:57:11.292Z"
   },
   {
    "duration": 52,
    "start_time": "2025-01-27T19:57:11.310Z"
   },
   {
    "duration": 85,
    "start_time": "2025-01-27T19:57:11.363Z"
   },
   {
    "duration": 8,
    "start_time": "2025-01-27T19:57:11.450Z"
   },
   {
    "duration": 99,
    "start_time": "2025-01-27T19:57:11.460Z"
   },
   {
    "duration": 7,
    "start_time": "2025-01-27T19:57:11.561Z"
   },
   {
    "duration": 72,
    "start_time": "2025-01-27T19:57:11.570Z"
   },
   {
    "duration": 13,
    "start_time": "2025-01-27T19:57:11.644Z"
   },
   {
    "duration": 58,
    "start_time": "2025-01-27T19:57:11.658Z"
   },
   {
    "duration": 49,
    "start_time": "2025-01-27T19:57:11.718Z"
   },
   {
    "duration": 49,
    "start_time": "2025-01-27T19:57:11.769Z"
   },
   {
    "duration": 23,
    "start_time": "2025-01-27T19:57:11.820Z"
   },
   {
    "duration": 4,
    "start_time": "2025-01-27T19:57:11.845Z"
   },
   {
    "duration": 0,
    "start_time": "2025-01-27T19:57:11.852Z"
   },
   {
    "duration": 0,
    "start_time": "2025-01-27T19:57:11.853Z"
   },
   {
    "duration": 0,
    "start_time": "2025-01-27T19:57:11.854Z"
   },
   {
    "duration": 0,
    "start_time": "2025-01-27T19:57:11.855Z"
   },
   {
    "duration": 0,
    "start_time": "2025-01-27T19:57:11.857Z"
   },
   {
    "duration": 0,
    "start_time": "2025-01-27T19:57:11.857Z"
   },
   {
    "duration": 0,
    "start_time": "2025-01-27T19:57:11.859Z"
   },
   {
    "duration": 0,
    "start_time": "2025-01-27T19:57:11.861Z"
   },
   {
    "duration": 25,
    "start_time": "2025-01-27T19:58:11.227Z"
   },
   {
    "duration": 24,
    "start_time": "2025-01-27T19:58:21.227Z"
   },
   {
    "duration": 3,
    "start_time": "2025-01-27T20:00:57.119Z"
   },
   {
    "duration": 5,
    "start_time": "2025-01-27T20:03:05.003Z"
   },
   {
    "duration": 9,
    "start_time": "2025-01-27T20:03:14.189Z"
   },
   {
    "duration": 9,
    "start_time": "2025-01-27T20:03:35.859Z"
   },
   {
    "duration": 435,
    "start_time": "2025-01-27T20:03:56.780Z"
   },
   {
    "duration": 195,
    "start_time": "2025-01-27T20:03:57.217Z"
   },
   {
    "duration": 75,
    "start_time": "2025-01-27T20:03:57.413Z"
   },
   {
    "duration": 33,
    "start_time": "2025-01-27T20:03:57.491Z"
   },
   {
    "duration": 8,
    "start_time": "2025-01-27T20:03:57.526Z"
   },
   {
    "duration": 9,
    "start_time": "2025-01-27T20:03:57.535Z"
   },
   {
    "duration": 25,
    "start_time": "2025-01-27T20:03:57.546Z"
   },
   {
    "duration": 38,
    "start_time": "2025-01-27T20:03:57.572Z"
   },
   {
    "duration": 5,
    "start_time": "2025-01-27T20:03:57.612Z"
   },
   {
    "duration": 10,
    "start_time": "2025-01-27T20:03:57.622Z"
   },
   {
    "duration": 8,
    "start_time": "2025-01-27T20:03:57.633Z"
   },
   {
    "duration": 129,
    "start_time": "2025-01-27T20:03:57.643Z"
   },
   {
    "duration": 12,
    "start_time": "2025-01-27T20:03:57.774Z"
   },
   {
    "duration": 110,
    "start_time": "2025-01-27T20:03:57.788Z"
   },
   {
    "duration": 45,
    "start_time": "2025-01-27T20:03:57.900Z"
   },
   {
    "duration": 6,
    "start_time": "2025-01-27T20:03:57.947Z"
   },
   {
    "duration": 91,
    "start_time": "2025-01-27T20:03:57.955Z"
   },
   {
    "duration": 85,
    "start_time": "2025-01-27T20:03:58.048Z"
   },
   {
    "duration": 10,
    "start_time": "2025-01-27T20:03:58.135Z"
   },
   {
    "duration": 93,
    "start_time": "2025-01-27T20:03:58.147Z"
   },
   {
    "duration": 8,
    "start_time": "2025-01-27T20:03:58.242Z"
   },
   {
    "duration": 76,
    "start_time": "2025-01-27T20:03:58.252Z"
   },
   {
    "duration": 17,
    "start_time": "2025-01-27T20:03:58.330Z"
   },
   {
    "duration": 67,
    "start_time": "2025-01-27T20:03:58.349Z"
   },
   {
    "duration": 50,
    "start_time": "2025-01-27T20:03:58.419Z"
   },
   {
    "duration": 40,
    "start_time": "2025-01-27T20:03:58.471Z"
   },
   {
    "duration": 19,
    "start_time": "2025-01-27T20:03:58.513Z"
   },
   {
    "duration": 5,
    "start_time": "2025-01-27T20:03:58.537Z"
   },
   {
    "duration": 0,
    "start_time": "2025-01-27T20:03:58.544Z"
   },
   {
    "duration": 0,
    "start_time": "2025-01-27T20:03:58.545Z"
   },
   {
    "duration": 0,
    "start_time": "2025-01-27T20:03:58.546Z"
   },
   {
    "duration": 0,
    "start_time": "2025-01-27T20:03:58.548Z"
   },
   {
    "duration": 0,
    "start_time": "2025-01-27T20:03:58.549Z"
   },
   {
    "duration": 0,
    "start_time": "2025-01-27T20:03:58.550Z"
   },
   {
    "duration": 0,
    "start_time": "2025-01-27T20:03:58.552Z"
   },
   {
    "duration": 0,
    "start_time": "2025-01-27T20:03:58.553Z"
   },
   {
    "duration": 787,
    "start_time": "2025-01-27T22:39:10.103Z"
   },
   {
    "duration": 66,
    "start_time": "2025-01-27T22:43:37.466Z"
   },
   {
    "duration": 116,
    "start_time": "2025-01-27T22:45:39.602Z"
   },
   {
    "duration": 8,
    "start_time": "2025-01-27T23:22:13.471Z"
   },
   {
    "duration": 60,
    "start_time": "2025-01-27T23:26:01.492Z"
   },
   {
    "duration": 52,
    "start_time": "2025-01-27T23:26:06.968Z"
   },
   {
    "duration": 82,
    "start_time": "2025-01-27T23:27:28.198Z"
   },
   {
    "duration": 51,
    "start_time": "2025-01-27T23:29:49.259Z"
   },
   {
    "duration": 423,
    "start_time": "2025-01-27T23:30:13.254Z"
   },
   {
    "duration": 188,
    "start_time": "2025-01-27T23:30:13.679Z"
   },
   {
    "duration": 78,
    "start_time": "2025-01-27T23:30:13.869Z"
   },
   {
    "duration": 24,
    "start_time": "2025-01-27T23:30:13.948Z"
   },
   {
    "duration": 9,
    "start_time": "2025-01-27T23:30:13.975Z"
   },
   {
    "duration": 24,
    "start_time": "2025-01-27T23:30:13.985Z"
   },
   {
    "duration": 20,
    "start_time": "2025-01-27T23:30:14.012Z"
   },
   {
    "duration": 8,
    "start_time": "2025-01-27T23:30:14.034Z"
   },
   {
    "duration": 6,
    "start_time": "2025-01-27T23:30:14.044Z"
   },
   {
    "duration": 8,
    "start_time": "2025-01-27T23:30:14.052Z"
   },
   {
    "duration": 5,
    "start_time": "2025-01-27T23:30:14.061Z"
   },
   {
    "duration": 153,
    "start_time": "2025-01-27T23:30:14.068Z"
   },
   {
    "duration": 9,
    "start_time": "2025-01-27T23:30:14.223Z"
   },
   {
    "duration": 110,
    "start_time": "2025-01-27T23:30:14.236Z"
   },
   {
    "duration": 45,
    "start_time": "2025-01-27T23:30:14.347Z"
   },
   {
    "duration": 14,
    "start_time": "2025-01-27T23:30:14.394Z"
   },
   {
    "duration": 50,
    "start_time": "2025-01-27T23:30:14.409Z"
   },
   {
    "duration": 88,
    "start_time": "2025-01-27T23:30:14.460Z"
   },
   {
    "duration": 7,
    "start_time": "2025-01-27T23:30:14.550Z"
   },
   {
    "duration": 99,
    "start_time": "2025-01-27T23:30:14.559Z"
   },
   {
    "duration": 9,
    "start_time": "2025-01-27T23:30:14.660Z"
   },
   {
    "duration": 70,
    "start_time": "2025-01-27T23:30:14.670Z"
   },
   {
    "duration": 13,
    "start_time": "2025-01-27T23:30:14.741Z"
   },
   {
    "duration": 53,
    "start_time": "2025-01-27T23:30:14.756Z"
   },
   {
    "duration": 55,
    "start_time": "2025-01-27T23:30:14.811Z"
   },
   {
    "duration": 41,
    "start_time": "2025-01-27T23:30:14.868Z"
   },
   {
    "duration": 17,
    "start_time": "2025-01-27T23:30:14.911Z"
   },
   {
    "duration": 8,
    "start_time": "2025-01-27T23:30:14.930Z"
   },
   {
    "duration": 2,
    "start_time": "2025-01-27T23:30:14.940Z"
   },
   {
    "duration": 2,
    "start_time": "2025-01-27T23:30:14.944Z"
   },
   {
    "duration": 2,
    "start_time": "2025-01-27T23:30:14.948Z"
   },
   {
    "duration": 3,
    "start_time": "2025-01-27T23:30:14.952Z"
   },
   {
    "duration": 2,
    "start_time": "2025-01-27T23:30:14.957Z"
   },
   {
    "duration": 3,
    "start_time": "2025-01-27T23:30:14.961Z"
   },
   {
    "duration": 4,
    "start_time": "2025-01-27T23:30:14.965Z"
   },
   {
    "duration": 3,
    "start_time": "2025-01-27T23:30:15.005Z"
   },
   {
    "duration": 2,
    "start_time": "2025-01-27T23:30:15.009Z"
   },
   {
    "duration": 18,
    "start_time": "2025-01-27T23:33:45.937Z"
   },
   {
    "duration": 22,
    "start_time": "2025-01-27T23:35:27.154Z"
   },
   {
    "duration": 24,
    "start_time": "2025-01-27T23:35:38.751Z"
   },
   {
    "duration": 24,
    "start_time": "2025-01-27T23:37:56.646Z"
   },
   {
    "duration": 18,
    "start_time": "2025-01-27T23:39:38.172Z"
   },
   {
    "duration": 17,
    "start_time": "2025-01-27T23:39:43.788Z"
   },
   {
    "duration": 23,
    "start_time": "2025-01-27T23:39:45.212Z"
   },
   {
    "duration": 20,
    "start_time": "2025-01-27T23:39:48.495Z"
   },
   {
    "duration": 16,
    "start_time": "2025-01-27T23:40:02.015Z"
   },
   {
    "duration": 425,
    "start_time": "2025-01-27T23:40:47.064Z"
   },
   {
    "duration": 191,
    "start_time": "2025-01-27T23:40:47.491Z"
   },
   {
    "duration": 75,
    "start_time": "2025-01-27T23:40:47.683Z"
   },
   {
    "duration": 23,
    "start_time": "2025-01-27T23:40:47.760Z"
   },
   {
    "duration": 21,
    "start_time": "2025-01-27T23:40:47.785Z"
   },
   {
    "duration": 8,
    "start_time": "2025-01-27T23:40:47.807Z"
   },
   {
    "duration": 19,
    "start_time": "2025-01-27T23:40:47.816Z"
   },
   {
    "duration": 7,
    "start_time": "2025-01-27T23:40:47.837Z"
   },
   {
    "duration": 4,
    "start_time": "2025-01-27T23:40:47.846Z"
   },
   {
    "duration": 8,
    "start_time": "2025-01-27T23:40:47.854Z"
   },
   {
    "duration": 5,
    "start_time": "2025-01-27T23:40:47.863Z"
   },
   {
    "duration": 116,
    "start_time": "2025-01-27T23:40:47.869Z"
   },
   {
    "duration": 21,
    "start_time": "2025-01-27T23:40:47.987Z"
   },
   {
    "duration": 99,
    "start_time": "2025-01-27T23:40:48.010Z"
   },
   {
    "duration": 45,
    "start_time": "2025-01-27T23:40:48.110Z"
   },
   {
    "duration": 5,
    "start_time": "2025-01-27T23:40:48.157Z"
   },
   {
    "duration": 71,
    "start_time": "2025-01-27T23:40:48.164Z"
   },
   {
    "duration": 78,
    "start_time": "2025-01-27T23:40:48.237Z"
   },
   {
    "duration": 9,
    "start_time": "2025-01-27T23:40:48.318Z"
   },
   {
    "duration": 92,
    "start_time": "2025-01-27T23:40:48.331Z"
   },
   {
    "duration": 7,
    "start_time": "2025-01-27T23:40:48.425Z"
   },
   {
    "duration": 58,
    "start_time": "2025-01-27T23:40:48.433Z"
   },
   {
    "duration": 14,
    "start_time": "2025-01-27T23:40:48.506Z"
   },
   {
    "duration": 42,
    "start_time": "2025-01-27T23:40:48.522Z"
   },
   {
    "duration": 73,
    "start_time": "2025-01-27T23:40:48.565Z"
   },
   {
    "duration": 23,
    "start_time": "2025-01-27T23:40:48.639Z"
   },
   {
    "duration": 12,
    "start_time": "2025-01-27T23:40:48.663Z"
   },
   {
    "duration": 25,
    "start_time": "2025-01-27T23:40:48.679Z"
   },
   {
    "duration": 2,
    "start_time": "2025-01-27T23:40:48.706Z"
   },
   {
    "duration": 2,
    "start_time": "2025-01-27T23:40:48.711Z"
   },
   {
    "duration": 3,
    "start_time": "2025-01-27T23:40:48.714Z"
   },
   {
    "duration": 3,
    "start_time": "2025-01-27T23:40:48.718Z"
   },
   {
    "duration": 2,
    "start_time": "2025-01-27T23:40:48.722Z"
   },
   {
    "duration": 2,
    "start_time": "2025-01-27T23:40:48.726Z"
   },
   {
    "duration": 3,
    "start_time": "2025-01-27T23:40:48.729Z"
   },
   {
    "duration": 2,
    "start_time": "2025-01-27T23:40:48.734Z"
   },
   {
    "duration": 2,
    "start_time": "2025-01-27T23:40:48.738Z"
   },
   {
    "duration": 800,
    "start_time": "2025-01-27T23:46:37.100Z"
   },
   {
    "duration": 156,
    "start_time": "2025-01-28T00:41:11.913Z"
   },
   {
    "duration": 99,
    "start_time": "2025-01-28T00:43:17.730Z"
   },
   {
    "duration": 115,
    "start_time": "2025-01-28T00:43:24.776Z"
   },
   {
    "duration": 122,
    "start_time": "2025-01-28T00:43:41.625Z"
   },
   {
    "duration": 124,
    "start_time": "2025-01-28T01:03:47.381Z"
   },
   {
    "duration": 110,
    "start_time": "2025-01-28T01:05:07.967Z"
   },
   {
    "duration": 99,
    "start_time": "2025-01-28T01:05:37.030Z"
   },
   {
    "duration": 100,
    "start_time": "2025-01-28T01:06:48.302Z"
   },
   {
    "duration": 130,
    "start_time": "2025-01-28T01:07:35.744Z"
   },
   {
    "duration": 137,
    "start_time": "2025-01-28T01:07:51.163Z"
   },
   {
    "duration": 104,
    "start_time": "2025-01-28T01:08:09.581Z"
   },
   {
    "duration": 441,
    "start_time": "2025-01-28T01:08:46.464Z"
   },
   {
    "duration": 183,
    "start_time": "2025-01-28T01:10:26.339Z"
   },
   {
    "duration": 145,
    "start_time": "2025-01-28T01:10:32.695Z"
   },
   {
    "duration": 97,
    "start_time": "2025-01-28T01:11:17.114Z"
   },
   {
    "duration": 148,
    "start_time": "2025-01-28T01:11:26.303Z"
   },
   {
    "duration": 97,
    "start_time": "2025-01-28T01:13:52.847Z"
   },
   {
    "duration": 97,
    "start_time": "2025-01-28T01:14:03.655Z"
   },
   {
    "duration": 104,
    "start_time": "2025-01-28T01:14:30.295Z"
   },
   {
    "duration": 100,
    "start_time": "2025-01-28T01:14:49.587Z"
   },
   {
    "duration": 96,
    "start_time": "2025-01-28T01:15:09.311Z"
   },
   {
    "duration": 96,
    "start_time": "2025-01-28T01:15:18.952Z"
   },
   {
    "duration": 102,
    "start_time": "2025-01-28T01:15:20.996Z"
   },
   {
    "duration": 99,
    "start_time": "2025-01-28T01:15:26.631Z"
   },
   {
    "duration": 103,
    "start_time": "2025-01-28T01:17:21.054Z"
   },
   {
    "duration": 161,
    "start_time": "2025-01-28T01:18:29.210Z"
   },
   {
    "duration": 163,
    "start_time": "2025-01-28T01:18:52.375Z"
   },
   {
    "duration": 100,
    "start_time": "2025-01-28T01:19:35.546Z"
   },
   {
    "duration": 115,
    "start_time": "2025-01-28T01:19:54.871Z"
   },
   {
    "duration": 136,
    "start_time": "2025-01-28T01:20:45.845Z"
   },
   {
    "duration": 114,
    "start_time": "2025-01-28T01:21:03.752Z"
   },
   {
    "duration": 96,
    "start_time": "2025-01-28T01:31:26.739Z"
   },
   {
    "duration": 178,
    "start_time": "2025-01-28T01:31:35.785Z"
   },
   {
    "duration": 110,
    "start_time": "2025-01-28T01:32:54.872Z"
   },
   {
    "duration": 157,
    "start_time": "2025-01-28T14:03:09.092Z"
   },
   {
    "duration": 2136,
    "start_time": "2025-01-28T14:03:23.116Z"
   },
   {
    "duration": 226,
    "start_time": "2025-01-28T14:03:25.255Z"
   },
   {
    "duration": 75,
    "start_time": "2025-01-28T14:03:25.482Z"
   },
   {
    "duration": 36,
    "start_time": "2025-01-28T14:03:25.560Z"
   },
   {
    "duration": 8,
    "start_time": "2025-01-28T14:03:25.598Z"
   },
   {
    "duration": 9,
    "start_time": "2025-01-28T14:03:25.608Z"
   },
   {
    "duration": 19,
    "start_time": "2025-01-28T14:03:25.619Z"
   },
   {
    "duration": 8,
    "start_time": "2025-01-28T14:03:25.639Z"
   },
   {
    "duration": 4,
    "start_time": "2025-01-28T14:03:25.649Z"
   },
   {
    "duration": 8,
    "start_time": "2025-01-28T14:03:25.687Z"
   },
   {
    "duration": 4,
    "start_time": "2025-01-28T14:03:25.697Z"
   },
   {
    "duration": 96,
    "start_time": "2025-01-28T14:03:25.703Z"
   },
   {
    "duration": 8,
    "start_time": "2025-01-28T14:03:25.802Z"
   },
   {
    "duration": 112,
    "start_time": "2025-01-28T14:03:25.815Z"
   },
   {
    "duration": 47,
    "start_time": "2025-01-28T14:03:25.929Z"
   },
   {
    "duration": 7,
    "start_time": "2025-01-28T14:03:25.986Z"
   },
   {
    "duration": 50,
    "start_time": "2025-01-28T14:03:25.995Z"
   },
   {
    "duration": 79,
    "start_time": "2025-01-28T14:03:26.046Z"
   },
   {
    "duration": 8,
    "start_time": "2025-01-28T14:03:26.127Z"
   },
   {
    "duration": 93,
    "start_time": "2025-01-28T14:03:26.137Z"
   },
   {
    "duration": 7,
    "start_time": "2025-01-28T14:03:26.232Z"
   },
   {
    "duration": 80,
    "start_time": "2025-01-28T14:03:26.241Z"
   },
   {
    "duration": 15,
    "start_time": "2025-01-28T14:03:26.324Z"
   },
   {
    "duration": 88,
    "start_time": "2025-01-28T14:03:26.341Z"
   },
   {
    "duration": 61,
    "start_time": "2025-01-28T14:03:26.431Z"
   },
   {
    "duration": 25,
    "start_time": "2025-01-28T14:03:26.494Z"
   },
   {
    "duration": 13,
    "start_time": "2025-01-28T14:03:26.521Z"
   },
   {
    "duration": 7,
    "start_time": "2025-01-28T14:03:26.536Z"
   },
   {
    "duration": 117,
    "start_time": "2025-01-28T14:03:26.545Z"
   },
   {
    "duration": 9,
    "start_time": "2025-01-28T14:03:26.664Z"
   },
   {
    "duration": 385,
    "start_time": "2025-01-28T14:03:26.675Z"
   },
   {
    "duration": 0,
    "start_time": "2025-01-28T14:03:27.063Z"
   },
   {
    "duration": 0,
    "start_time": "2025-01-28T14:03:27.065Z"
   },
   {
    "duration": 0,
    "start_time": "2025-01-28T14:03:27.067Z"
   },
   {
    "duration": 0,
    "start_time": "2025-01-28T14:03:27.068Z"
   },
   {
    "duration": 0,
    "start_time": "2025-01-28T14:03:27.069Z"
   },
   {
    "duration": 0,
    "start_time": "2025-01-28T14:03:27.070Z"
   },
   {
    "duration": 0,
    "start_time": "2025-01-28T14:03:27.070Z"
   },
   {
    "duration": 18,
    "start_time": "2025-01-28T14:08:13.335Z"
   },
   {
    "duration": 16,
    "start_time": "2025-01-28T14:09:18.518Z"
   },
   {
    "duration": 10,
    "start_time": "2025-01-28T14:09:33.175Z"
   },
   {
    "duration": 394,
    "start_time": "2025-01-28T14:10:45.036Z"
   },
   {
    "duration": 370,
    "start_time": "2025-01-28T14:11:09.356Z"
   },
   {
    "duration": 347,
    "start_time": "2025-01-28T14:11:18.885Z"
   },
   {
    "duration": 15,
    "start_time": "2025-01-28T14:13:10.303Z"
   },
   {
    "duration": 314,
    "start_time": "2025-01-28T14:17:19.648Z"
   },
   {
    "duration": 186,
    "start_time": "2025-01-28T14:18:01.786Z"
   },
   {
    "duration": 180,
    "start_time": "2025-01-28T14:18:14.584Z"
   },
   {
    "duration": 286,
    "start_time": "2025-01-28T14:19:00.088Z"
   },
   {
    "duration": 306,
    "start_time": "2025-01-28T14:19:38.185Z"
   },
   {
    "duration": 7,
    "start_time": "2025-01-28T14:19:54.874Z"
   },
   {
    "duration": 296,
    "start_time": "2025-01-28T14:20:02.694Z"
   },
   {
    "duration": 88,
    "start_time": "2025-01-28T14:21:00.295Z"
   },
   {
    "duration": 311,
    "start_time": "2025-01-28T14:21:05.870Z"
   },
   {
    "duration": 10,
    "start_time": "2025-01-28T14:23:44.822Z"
   },
   {
    "duration": 9,
    "start_time": "2025-01-28T14:23:57.522Z"
   },
   {
    "duration": 10,
    "start_time": "2025-01-28T14:24:10.545Z"
   },
   {
    "duration": 3,
    "start_time": "2025-01-28T14:26:02.879Z"
   },
   {
    "duration": 10,
    "start_time": "2025-01-28T14:26:07.773Z"
   },
   {
    "duration": 296,
    "start_time": "2025-01-28T14:27:15.200Z"
   },
   {
    "duration": 289,
    "start_time": "2025-01-28T14:28:02.516Z"
   },
   {
    "duration": 19,
    "start_time": "2025-01-28T14:32:33.853Z"
   },
   {
    "duration": 8,
    "start_time": "2025-01-28T14:33:35.955Z"
   },
   {
    "duration": 10,
    "start_time": "2025-01-28T14:33:47.268Z"
   },
   {
    "duration": 279,
    "start_time": "2025-01-28T14:34:05.599Z"
   },
   {
    "duration": 19,
    "start_time": "2025-01-28T14:36:03.049Z"
   },
   {
    "duration": 19,
    "start_time": "2025-01-28T14:36:09.652Z"
   },
   {
    "duration": 250,
    "start_time": "2025-01-28T14:37:07.588Z"
   },
   {
    "duration": 18,
    "start_time": "2025-01-28T14:38:11.904Z"
   },
   {
    "duration": 18,
    "start_time": "2025-01-28T14:38:16.732Z"
   },
   {
    "duration": 139,
    "start_time": "2025-01-28T14:38:22.558Z"
   },
   {
    "duration": 17,
    "start_time": "2025-01-28T14:41:54.662Z"
   },
   {
    "duration": 491,
    "start_time": "2025-01-28T14:42:59.873Z"
   },
   {
    "duration": 122,
    "start_time": "2025-01-28T14:45:20.423Z"
   },
   {
    "duration": 303,
    "start_time": "2025-01-28T14:46:35.123Z"
   },
   {
    "duration": 48,
    "start_time": "2025-01-28T14:49:59.571Z"
   },
   {
    "duration": 7,
    "start_time": "2025-01-28T14:51:17.437Z"
   },
   {
    "duration": 6,
    "start_time": "2025-01-28T14:52:43.183Z"
   },
   {
    "duration": 5,
    "start_time": "2025-01-28T14:53:59.810Z"
   },
   {
    "duration": 327,
    "start_time": "2025-01-28T14:55:16.692Z"
   },
   {
    "duration": 52,
    "start_time": "2025-01-28T14:56:23.097Z"
   },
   {
    "duration": 46,
    "start_time": "2025-01-28T14:56:37.616Z"
   },
   {
    "duration": 5,
    "start_time": "2025-01-28T14:58:00.968Z"
   },
   {
    "duration": 10,
    "start_time": "2025-01-28T14:58:03.433Z"
   },
   {
    "duration": 75,
    "start_time": "2025-01-28T14:58:56.141Z"
   },
   {
    "duration": 173,
    "start_time": "2025-01-28T14:59:03.196Z"
   },
   {
    "duration": 295,
    "start_time": "2025-01-28T15:00:43.036Z"
   },
   {
    "duration": 286,
    "start_time": "2025-01-28T15:01:40.503Z"
   },
   {
    "duration": 19,
    "start_time": "2025-01-28T15:07:01.090Z"
   },
   {
    "duration": 181,
    "start_time": "2025-01-28T15:07:07.891Z"
   },
   {
    "duration": 160,
    "start_time": "2025-01-28T15:08:18.804Z"
   },
   {
    "duration": 164,
    "start_time": "2025-01-28T15:08:39.039Z"
   },
   {
    "duration": 275,
    "start_time": "2025-01-28T15:09:22.416Z"
   },
   {
    "duration": 406,
    "start_time": "2025-01-28T15:11:46.400Z"
   },
   {
    "duration": 300,
    "start_time": "2025-01-28T15:11:56.794Z"
   },
   {
    "duration": 304,
    "start_time": "2025-01-28T15:12:07.946Z"
   },
   {
    "duration": 299,
    "start_time": "2025-01-28T15:12:41.779Z"
   },
   {
    "duration": 282,
    "start_time": "2025-01-28T15:12:54.498Z"
   },
   {
    "duration": 193,
    "start_time": "2025-01-28T15:13:54.994Z"
   },
   {
    "duration": 284,
    "start_time": "2025-01-28T15:15:48.590Z"
   },
   {
    "duration": 322,
    "start_time": "2025-01-28T15:16:55.238Z"
   },
   {
    "duration": 1210,
    "start_time": "2025-01-28T15:22:50.138Z"
   },
   {
    "duration": 45,
    "start_time": "2025-01-28T15:29:53.447Z"
   },
   {
    "duration": 245,
    "start_time": "2025-01-28T15:32:05.609Z"
   },
   {
    "duration": 289,
    "start_time": "2025-01-28T15:32:46.359Z"
   },
   {
    "duration": 278,
    "start_time": "2025-01-28T15:33:14.501Z"
   },
   {
    "duration": 301,
    "start_time": "2025-01-28T15:34:13.631Z"
   },
   {
    "duration": 6,
    "start_time": "2025-01-28T15:35:01.341Z"
   },
   {
    "duration": 93042,
    "start_time": "2025-01-28T15:35:14.564Z"
   },
   {
    "duration": 0,
    "start_time": "2025-01-28T15:36:47.608Z"
   },
   {
    "duration": 0,
    "start_time": "2025-01-28T15:38:51.446Z"
   },
   {
    "duration": 7,
    "start_time": "2025-01-28T15:39:13.743Z"
   },
   {
    "duration": 205,
    "start_time": "2025-01-28T15:39:37.997Z"
   },
   {
    "duration": 52989,
    "start_time": "2025-01-28T15:39:48.600Z"
   },
   {
    "duration": 286,
    "start_time": "2025-01-28T15:41:42.142Z"
   },
   {
    "duration": 287,
    "start_time": "2025-01-28T15:45:14.000Z"
   },
   {
    "duration": 5,
    "start_time": "2025-01-28T15:45:35.653Z"
   },
   {
    "duration": 277,
    "start_time": "2025-01-28T15:45:46.092Z"
   },
   {
    "duration": 291,
    "start_time": "2025-01-28T15:46:37.342Z"
   },
   {
    "duration": 712,
    "start_time": "2025-01-28T15:50:37.272Z"
   },
   {
    "duration": 256,
    "start_time": "2025-01-28T15:52:01.272Z"
   },
   {
    "duration": 217,
    "start_time": "2025-01-28T15:53:12.340Z"
   },
   {
    "duration": 25,
    "start_time": "2025-01-28T15:55:28.020Z"
   },
   {
    "duration": 160,
    "start_time": "2025-01-28T15:55:39.456Z"
   },
   {
    "duration": 240,
    "start_time": "2025-01-28T15:57:15.997Z"
   },
   {
    "duration": 5,
    "start_time": "2025-01-28T16:33:25.193Z"
   },
   {
    "duration": 9,
    "start_time": "2025-01-28T16:41:01.304Z"
   },
   {
    "duration": 20,
    "start_time": "2025-01-28T16:45:11.233Z"
   },
   {
    "duration": 318,
    "start_time": "2025-01-28T16:45:31.563Z"
   },
   {
    "duration": 320,
    "start_time": "2025-01-28T16:45:36.587Z"
   },
   {
    "duration": 325,
    "start_time": "2025-01-28T16:46:09.090Z"
   },
   {
    "duration": 10,
    "start_time": "2025-01-28T16:47:46.549Z"
   },
   {
    "duration": 10,
    "start_time": "2025-01-28T16:48:05.042Z"
   },
   {
    "duration": 7,
    "start_time": "2025-01-28T16:49:00.618Z"
   },
   {
    "duration": 10,
    "start_time": "2025-01-28T16:49:24.628Z"
   },
   {
    "duration": 368,
    "start_time": "2025-01-28T16:50:32.135Z"
   },
   {
    "duration": 350,
    "start_time": "2025-01-28T16:50:44.424Z"
   },
   {
    "duration": 248,
    "start_time": "2025-01-28T16:51:12.216Z"
   },
   {
    "duration": 348,
    "start_time": "2025-01-28T17:13:05.793Z"
   },
   {
    "duration": 269,
    "start_time": "2025-01-28T17:13:15.510Z"
   },
   {
    "duration": 10,
    "start_time": "2025-01-28T17:14:24.349Z"
   },
   {
    "duration": 17,
    "start_time": "2025-01-28T17:17:04.973Z"
   },
   {
    "duration": 10,
    "start_time": "2025-01-28T17:17:42.774Z"
   },
   {
    "duration": 10,
    "start_time": "2025-01-28T17:18:56.558Z"
   },
   {
    "duration": 277,
    "start_time": "2025-01-28T17:20:15.393Z"
   },
   {
    "duration": 5,
    "start_time": "2025-01-28T17:21:08.463Z"
   },
   {
    "duration": 286,
    "start_time": "2025-01-28T17:22:05.877Z"
   },
   {
    "duration": 277,
    "start_time": "2025-01-28T17:22:45.285Z"
   },
   {
    "duration": 306,
    "start_time": "2025-01-28T17:22:50.950Z"
   },
   {
    "duration": 10,
    "start_time": "2025-01-28T17:25:38.828Z"
   },
   {
    "duration": 12,
    "start_time": "2025-01-28T17:27:11.249Z"
   },
   {
    "duration": 11,
    "start_time": "2025-01-28T17:27:21.415Z"
   },
   {
    "duration": 275,
    "start_time": "2025-01-28T17:29:41.931Z"
   },
   {
    "duration": 167,
    "start_time": "2025-01-28T17:29:55.967Z"
   },
   {
    "duration": 180,
    "start_time": "2025-01-28T17:30:19.570Z"
   },
   {
    "duration": 168,
    "start_time": "2025-01-28T17:30:29.349Z"
   },
   {
    "duration": 445,
    "start_time": "2025-01-28T17:31:19.733Z"
   },
   {
    "duration": 243,
    "start_time": "2025-01-28T17:32:15.428Z"
   },
   {
    "duration": 10,
    "start_time": "2025-01-28T17:48:15.368Z"
   },
   {
    "duration": 245,
    "start_time": "2025-01-28T17:49:21.417Z"
   },
   {
    "duration": 13,
    "start_time": "2025-01-28T17:51:55.003Z"
   },
   {
    "duration": 844,
    "start_time": "2025-01-28T17:52:08.725Z"
   },
   {
    "duration": 160,
    "start_time": "2025-01-28T17:52:09.571Z"
   },
   {
    "duration": 75,
    "start_time": "2025-01-28T17:52:09.732Z"
   },
   {
    "duration": 24,
    "start_time": "2025-01-28T17:52:09.810Z"
   },
   {
    "duration": 9,
    "start_time": "2025-01-28T17:52:09.835Z"
   },
   {
    "duration": 8,
    "start_time": "2025-01-28T17:52:09.847Z"
   },
   {
    "duration": 47,
    "start_time": "2025-01-28T17:52:09.856Z"
   },
   {
    "duration": 8,
    "start_time": "2025-01-28T17:52:09.905Z"
   },
   {
    "duration": 4,
    "start_time": "2025-01-28T17:52:09.914Z"
   },
   {
    "duration": 9,
    "start_time": "2025-01-28T17:52:09.921Z"
   },
   {
    "duration": 5,
    "start_time": "2025-01-28T17:52:09.931Z"
   },
   {
    "duration": 5,
    "start_time": "2025-01-28T17:52:09.937Z"
   },
   {
    "duration": 113,
    "start_time": "2025-01-28T17:52:09.943Z"
   },
   {
    "duration": 9,
    "start_time": "2025-01-28T17:52:10.059Z"
   },
   {
    "duration": 109,
    "start_time": "2025-01-28T17:52:10.070Z"
   },
   {
    "duration": 49,
    "start_time": "2025-01-28T17:52:10.181Z"
   },
   {
    "duration": 13,
    "start_time": "2025-01-28T17:52:10.233Z"
   },
   {
    "duration": 58,
    "start_time": "2025-01-28T17:52:10.248Z"
   },
   {
    "duration": 79,
    "start_time": "2025-01-28T17:52:10.308Z"
   },
   {
    "duration": 10,
    "start_time": "2025-01-28T17:52:10.389Z"
   },
   {
    "duration": 94,
    "start_time": "2025-01-28T17:52:10.401Z"
   },
   {
    "duration": 7,
    "start_time": "2025-01-28T17:52:10.497Z"
   },
   {
    "duration": 58,
    "start_time": "2025-01-28T17:52:10.506Z"
   },
   {
    "duration": 30,
    "start_time": "2025-01-28T17:52:10.567Z"
   },
   {
    "duration": 41,
    "start_time": "2025-01-28T17:52:10.599Z"
   },
   {
    "duration": 110,
    "start_time": "2025-01-28T17:52:10.642Z"
   },
   {
    "duration": 23,
    "start_time": "2025-01-28T17:52:10.754Z"
   },
   {
    "duration": 13,
    "start_time": "2025-01-28T17:52:10.790Z"
   },
   {
    "duration": 7,
    "start_time": "2025-01-28T17:52:10.804Z"
   },
   {
    "duration": 116,
    "start_time": "2025-01-28T17:52:10.812Z"
   },
   {
    "duration": 9,
    "start_time": "2025-01-28T17:52:10.930Z"
   },
   {
    "duration": 340,
    "start_time": "2025-01-28T17:52:10.941Z"
   },
   {
    "duration": 293,
    "start_time": "2025-01-28T17:52:11.287Z"
   },
   {
    "duration": 276,
    "start_time": "2025-01-28T17:52:11.587Z"
   },
   {
    "duration": 9,
    "start_time": "2025-01-28T17:52:11.865Z"
   },
   {
    "duration": 241,
    "start_time": "2025-01-28T17:52:11.887Z"
   },
   {
    "duration": 9,
    "start_time": "2025-01-28T17:52:12.131Z"
   },
   {
    "duration": 392,
    "start_time": "2025-01-28T17:52:12.143Z"
   },
   {
    "duration": 11,
    "start_time": "2025-01-28T17:52:12.537Z"
   },
   {
    "duration": 314,
    "start_time": "2025-01-28T17:52:12.550Z"
   },
   {
    "duration": 3,
    "start_time": "2025-01-28T17:52:12.865Z"
   },
   {
    "duration": 18,
    "start_time": "2025-01-28T17:52:12.870Z"
   },
   {
    "duration": 10,
    "start_time": "2025-01-28T17:52:12.889Z"
   },
   {
    "duration": 286,
    "start_time": "2025-01-28T17:52:12.901Z"
   },
   {
    "duration": 12,
    "start_time": "2025-01-28T17:52:13.188Z"
   },
   {
    "duration": 279,
    "start_time": "2025-01-28T17:52:13.201Z"
   },
   {
    "duration": 11,
    "start_time": "2025-01-28T17:52:13.482Z"
   },
   {
    "duration": 357,
    "start_time": "2025-01-28T17:52:13.497Z"
   },
   {
    "duration": 12,
    "start_time": "2025-01-28T17:52:13.856Z"
   },
   {
    "duration": 293,
    "start_time": "2025-01-28T17:52:13.869Z"
   },
   {
    "duration": 226,
    "start_time": "2025-01-28T17:52:14.164Z"
   },
   {
    "duration": 0,
    "start_time": "2025-01-28T17:52:14.391Z"
   },
   {
    "duration": 0,
    "start_time": "2025-01-28T17:52:14.392Z"
   },
   {
    "duration": 3,
    "start_time": "2025-01-28T17:52:39.262Z"
   },
   {
    "duration": 15,
    "start_time": "2025-01-28T17:52:41.830Z"
   },
   {
    "duration": 14,
    "start_time": "2025-01-28T17:54:05.927Z"
   },
   {
    "duration": 13,
    "start_time": "2025-01-28T17:54:09.351Z"
   },
   {
    "duration": 11,
    "start_time": "2025-01-28T17:54:26.527Z"
   },
   {
    "duration": 444,
    "start_time": "2025-01-28T17:55:07.828Z"
   },
   {
    "duration": 4,
    "start_time": "2025-01-28T17:55:43.185Z"
   },
   {
    "duration": 39,
    "start_time": "2025-01-28T17:55:47.748Z"
   },
   {
    "duration": 7,
    "start_time": "2025-01-28T17:55:52.115Z"
   },
   {
    "duration": 31,
    "start_time": "2025-01-28T17:57:16.519Z"
   },
   {
    "duration": 4,
    "start_time": "2025-01-28T17:57:41.960Z"
   },
   {
    "duration": 26,
    "start_time": "2025-01-28T17:57:46.620Z"
   },
   {
    "duration": 26,
    "start_time": "2025-01-28T17:58:00.782Z"
   },
   {
    "duration": 3,
    "start_time": "2025-01-28T17:58:29.456Z"
   },
   {
    "duration": 352,
    "start_time": "2025-01-28T17:58:43.413Z"
   },
   {
    "duration": 6,
    "start_time": "2025-01-28T18:00:20.700Z"
   },
   {
    "duration": 4,
    "start_time": "2025-01-28T18:00:43.717Z"
   },
   {
    "duration": 4,
    "start_time": "2025-01-28T18:00:58.276Z"
   },
   {
    "duration": 8,
    "start_time": "2025-01-28T18:01:00.566Z"
   },
   {
    "duration": 6,
    "start_time": "2025-01-28T18:01:17.648Z"
   },
   {
    "duration": 65,
    "start_time": "2025-01-28T18:01:24.106Z"
   },
   {
    "duration": 6,
    "start_time": "2025-01-28T18:01:35.284Z"
   },
   {
    "duration": 4,
    "start_time": "2025-01-28T18:01:37.650Z"
   },
   {
    "duration": 7,
    "start_time": "2025-01-28T18:03:04.452Z"
   },
   {
    "duration": 9,
    "start_time": "2025-01-28T18:04:19.710Z"
   },
   {
    "duration": 12,
    "start_time": "2025-01-28T18:04:47.376Z"
   },
   {
    "duration": 363,
    "start_time": "2025-01-28T18:07:49.295Z"
   },
   {
    "duration": 13,
    "start_time": "2025-01-28T18:07:58.059Z"
   },
   {
    "duration": 13,
    "start_time": "2025-01-28T18:11:31.177Z"
   },
   {
    "duration": 10,
    "start_time": "2025-01-28T18:13:15.540Z"
   },
   {
    "duration": 4,
    "start_time": "2025-01-28T18:13:37.210Z"
   },
   {
    "duration": 17,
    "start_time": "2025-01-28T18:13:46.111Z"
   },
   {
    "duration": 17,
    "start_time": "2025-01-28T18:14:35.691Z"
   },
   {
    "duration": 9,
    "start_time": "2025-01-28T18:16:02.867Z"
   },
   {
    "duration": 14,
    "start_time": "2025-01-28T18:16:09.983Z"
   },
   {
    "duration": 9,
    "start_time": "2025-01-28T18:16:18.578Z"
   },
   {
    "duration": 13,
    "start_time": "2025-01-28T18:16:27.915Z"
   },
   {
    "duration": 8,
    "start_time": "2025-01-28T18:16:55.860Z"
   },
   {
    "duration": 19,
    "start_time": "2025-01-28T18:17:10.318Z"
   },
   {
    "duration": 19,
    "start_time": "2025-01-28T18:17:18.041Z"
   },
   {
    "duration": 497,
    "start_time": "2025-01-28T18:20:09.524Z"
   },
   {
    "duration": 18,
    "start_time": "2025-01-28T18:20:34.546Z"
   },
   {
    "duration": 22,
    "start_time": "2025-01-28T18:23:51.778Z"
   },
   {
    "duration": 50,
    "start_time": "2025-01-28T18:28:27.464Z"
   },
   {
    "duration": 35,
    "start_time": "2025-01-28T18:28:41.772Z"
   },
   {
    "duration": 22,
    "start_time": "2025-01-28T18:29:36.523Z"
   },
   {
    "duration": 24,
    "start_time": "2025-01-28T18:30:50.300Z"
   },
   {
    "duration": 766,
    "start_time": "2025-01-28T18:31:01.674Z"
   },
   {
    "duration": 172,
    "start_time": "2025-01-28T18:31:02.442Z"
   },
   {
    "duration": 74,
    "start_time": "2025-01-28T18:31:02.616Z"
   },
   {
    "duration": 24,
    "start_time": "2025-01-28T18:31:02.692Z"
   },
   {
    "duration": 8,
    "start_time": "2025-01-28T18:31:02.719Z"
   },
   {
    "duration": 8,
    "start_time": "2025-01-28T18:31:02.729Z"
   },
   {
    "duration": 48,
    "start_time": "2025-01-28T18:31:02.739Z"
   },
   {
    "duration": 8,
    "start_time": "2025-01-28T18:31:02.788Z"
   },
   {
    "duration": 5,
    "start_time": "2025-01-28T18:31:02.798Z"
   },
   {
    "duration": 8,
    "start_time": "2025-01-28T18:31:02.804Z"
   },
   {
    "duration": 4,
    "start_time": "2025-01-28T18:31:02.814Z"
   },
   {
    "duration": 6,
    "start_time": "2025-01-28T18:31:02.820Z"
   },
   {
    "duration": 114,
    "start_time": "2025-01-28T18:31:02.827Z"
   },
   {
    "duration": 9,
    "start_time": "2025-01-28T18:31:02.944Z"
   },
   {
    "duration": 110,
    "start_time": "2025-01-28T18:31:02.954Z"
   },
   {
    "duration": 54,
    "start_time": "2025-01-28T18:31:03.066Z"
   },
   {
    "duration": 6,
    "start_time": "2025-01-28T18:31:03.121Z"
   },
   {
    "duration": 79,
    "start_time": "2025-01-28T18:31:03.129Z"
   },
   {
    "duration": 81,
    "start_time": "2025-01-28T18:31:03.210Z"
   },
   {
    "duration": 10,
    "start_time": "2025-01-28T18:31:03.294Z"
   },
   {
    "duration": 92,
    "start_time": "2025-01-28T18:31:03.306Z"
   },
   {
    "duration": 8,
    "start_time": "2025-01-28T18:31:03.400Z"
   },
   {
    "duration": 59,
    "start_time": "2025-01-28T18:31:03.410Z"
   },
   {
    "duration": 28,
    "start_time": "2025-01-28T18:31:03.471Z"
   },
   {
    "duration": 42,
    "start_time": "2025-01-28T18:31:03.501Z"
   },
   {
    "duration": 124,
    "start_time": "2025-01-28T18:31:03.545Z"
   },
   {
    "duration": 34,
    "start_time": "2025-01-28T18:31:03.671Z"
   },
   {
    "duration": 12,
    "start_time": "2025-01-28T18:31:03.707Z"
   },
   {
    "duration": 6,
    "start_time": "2025-01-28T18:31:03.721Z"
   },
   {
    "duration": 115,
    "start_time": "2025-01-28T18:31:03.730Z"
   },
   {
    "duration": 9,
    "start_time": "2025-01-28T18:31:03.847Z"
   },
   {
    "duration": 338,
    "start_time": "2025-01-28T18:31:03.857Z"
   },
   {
    "duration": 296,
    "start_time": "2025-01-28T18:31:04.196Z"
   },
   {
    "duration": 280,
    "start_time": "2025-01-28T18:31:04.494Z"
   },
   {
    "duration": 17,
    "start_time": "2025-01-28T18:31:04.776Z"
   },
   {
    "duration": 250,
    "start_time": "2025-01-28T18:31:04.794Z"
   },
   {
    "duration": 10,
    "start_time": "2025-01-28T18:31:05.046Z"
   },
   {
    "duration": 394,
    "start_time": "2025-01-28T18:31:05.057Z"
   },
   {
    "duration": 11,
    "start_time": "2025-01-28T18:31:05.453Z"
   },
   {
    "duration": 310,
    "start_time": "2025-01-28T18:31:05.465Z"
   },
   {
    "duration": 2,
    "start_time": "2025-01-28T18:31:05.786Z"
   },
   {
    "duration": 9,
    "start_time": "2025-01-28T18:31:05.790Z"
   },
   {
    "duration": 10,
    "start_time": "2025-01-28T18:31:05.801Z"
   },
   {
    "duration": 302,
    "start_time": "2025-01-28T18:31:05.813Z"
   },
   {
    "duration": 11,
    "start_time": "2025-01-28T18:31:06.117Z"
   },
   {
    "duration": 341,
    "start_time": "2025-01-28T18:31:06.129Z"
   },
   {
    "duration": 17,
    "start_time": "2025-01-28T18:31:06.472Z"
   },
   {
    "duration": 269,
    "start_time": "2025-01-28T18:31:06.491Z"
   },
   {
    "duration": 11,
    "start_time": "2025-01-28T18:31:06.762Z"
   },
   {
    "duration": 314,
    "start_time": "2025-01-28T18:31:06.774Z"
   },
   {
    "duration": 8,
    "start_time": "2025-01-28T18:31:07.089Z"
   },
   {
    "duration": 4,
    "start_time": "2025-01-28T18:31:07.099Z"
   },
   {
    "duration": 1374,
    "start_time": "2025-01-28T18:31:07.105Z"
   },
   {
    "duration": 0,
    "start_time": "2025-01-28T18:31:08.481Z"
   },
   {
    "duration": 0,
    "start_time": "2025-01-28T18:31:08.482Z"
   },
   {
    "duration": 161,
    "start_time": "2025-01-28T18:31:29.565Z"
   },
   {
    "duration": 52,
    "start_time": "2025-01-28T18:33:05.621Z"
   },
   {
    "duration": 127,
    "start_time": "2025-01-28T18:40:05.063Z"
   },
   {
    "duration": 16,
    "start_time": "2025-01-28T18:42:10.133Z"
   },
   {
    "duration": 12,
    "start_time": "2025-01-28T18:46:30.873Z"
   },
   {
    "duration": 49,
    "start_time": "2025-01-28T18:46:48.823Z"
   },
   {
    "duration": 50,
    "start_time": "2025-01-28T18:47:44.547Z"
   },
   {
    "duration": 50,
    "start_time": "2025-01-28T18:48:10.448Z"
   },
   {
    "duration": 14,
    "start_time": "2025-01-28T18:48:26.946Z"
   },
   {
    "duration": 1014,
    "start_time": "2025-01-28T18:48:32.233Z"
   },
   {
    "duration": 830,
    "start_time": "2025-01-28T18:48:53.383Z"
   },
   {
    "duration": 165,
    "start_time": "2025-01-28T18:48:54.215Z"
   },
   {
    "duration": 74,
    "start_time": "2025-01-28T18:48:54.382Z"
   },
   {
    "duration": 31,
    "start_time": "2025-01-28T18:48:54.458Z"
   },
   {
    "duration": 9,
    "start_time": "2025-01-28T18:48:54.492Z"
   },
   {
    "duration": 7,
    "start_time": "2025-01-28T18:48:54.504Z"
   },
   {
    "duration": 19,
    "start_time": "2025-01-28T18:48:54.513Z"
   },
   {
    "duration": 8,
    "start_time": "2025-01-28T18:48:54.534Z"
   },
   {
    "duration": 5,
    "start_time": "2025-01-28T18:48:54.543Z"
   },
   {
    "duration": 41,
    "start_time": "2025-01-28T18:48:54.549Z"
   },
   {
    "duration": 10,
    "start_time": "2025-01-28T18:48:54.592Z"
   },
   {
    "duration": 5,
    "start_time": "2025-01-28T18:48:54.604Z"
   },
   {
    "duration": 94,
    "start_time": "2025-01-28T18:48:54.611Z"
   },
   {
    "duration": 8,
    "start_time": "2025-01-28T18:48:54.709Z"
   },
   {
    "duration": 144,
    "start_time": "2025-01-28T18:48:54.719Z"
   },
   {
    "duration": 48,
    "start_time": "2025-01-28T18:48:54.865Z"
   },
   {
    "duration": 6,
    "start_time": "2025-01-28T18:48:54.914Z"
   },
   {
    "duration": 84,
    "start_time": "2025-01-28T18:48:54.922Z"
   },
   {
    "duration": 78,
    "start_time": "2025-01-28T18:48:55.008Z"
   },
   {
    "duration": 8,
    "start_time": "2025-01-28T18:48:55.088Z"
   },
   {
    "duration": 122,
    "start_time": "2025-01-28T18:48:55.098Z"
   },
   {
    "duration": 8,
    "start_time": "2025-01-28T18:48:55.221Z"
   },
   {
    "duration": 71,
    "start_time": "2025-01-28T18:48:55.230Z"
   },
   {
    "duration": 14,
    "start_time": "2025-01-28T18:48:55.302Z"
   },
   {
    "duration": 41,
    "start_time": "2025-01-28T18:48:55.317Z"
   },
   {
    "duration": 114,
    "start_time": "2025-01-28T18:48:55.360Z"
   },
   {
    "duration": 32,
    "start_time": "2025-01-28T18:48:55.475Z"
   },
   {
    "duration": 12,
    "start_time": "2025-01-28T18:48:55.509Z"
   },
   {
    "duration": 7,
    "start_time": "2025-01-28T18:48:55.522Z"
   },
   {
    "duration": 119,
    "start_time": "2025-01-28T18:48:55.531Z"
   },
   {
    "duration": 10,
    "start_time": "2025-01-28T18:48:55.652Z"
   },
   {
    "duration": 310,
    "start_time": "2025-01-28T18:48:55.664Z"
   },
   {
    "duration": 306,
    "start_time": "2025-01-28T18:48:55.976Z"
   },
   {
    "duration": 280,
    "start_time": "2025-01-28T18:48:56.287Z"
   },
   {
    "duration": 18,
    "start_time": "2025-01-28T18:48:56.569Z"
   },
   {
    "duration": 249,
    "start_time": "2025-01-28T18:48:56.588Z"
   },
   {
    "duration": 9,
    "start_time": "2025-01-28T18:48:56.839Z"
   },
   {
    "duration": 397,
    "start_time": "2025-01-28T18:48:56.850Z"
   },
   {
    "duration": 11,
    "start_time": "2025-01-28T18:48:57.249Z"
   },
   {
    "duration": 303,
    "start_time": "2025-01-28T18:48:57.262Z"
   },
   {
    "duration": 3,
    "start_time": "2025-01-28T18:48:57.569Z"
   },
   {
    "duration": 18,
    "start_time": "2025-01-28T18:48:57.574Z"
   },
   {
    "duration": 9,
    "start_time": "2025-01-28T18:48:57.594Z"
   },
   {
    "duration": 270,
    "start_time": "2025-01-28T18:48:57.605Z"
   },
   {
    "duration": 10,
    "start_time": "2025-01-28T18:48:57.886Z"
   },
   {
    "duration": 374,
    "start_time": "2025-01-28T18:48:57.898Z"
   },
   {
    "duration": 19,
    "start_time": "2025-01-28T18:48:58.274Z"
   },
   {
    "duration": 260,
    "start_time": "2025-01-28T18:48:58.295Z"
   },
   {
    "duration": 10,
    "start_time": "2025-01-28T18:48:58.557Z"
   },
   {
    "duration": 304,
    "start_time": "2025-01-28T18:48:58.569Z"
   },
   {
    "duration": 15,
    "start_time": "2025-01-28T18:48:58.875Z"
   },
   {
    "duration": 5,
    "start_time": "2025-01-28T18:48:58.892Z"
   },
   {
    "duration": 576,
    "start_time": "2025-01-28T18:48:58.898Z"
   },
   {
    "duration": 0,
    "start_time": "2025-01-28T18:48:59.475Z"
   },
   {
    "duration": 0,
    "start_time": "2025-01-28T18:48:59.477Z"
   },
   {
    "duration": 14,
    "start_time": "2025-01-28T18:49:10.669Z"
   },
   {
    "duration": 5,
    "start_time": "2025-01-28T18:49:57.672Z"
   },
   {
    "duration": 17,
    "start_time": "2025-01-28T18:50:06.239Z"
   },
   {
    "duration": 8,
    "start_time": "2025-01-28T18:53:35.491Z"
   },
   {
    "duration": 209,
    "start_time": "2025-01-28T18:53:46.078Z"
   },
   {
    "duration": 16,
    "start_time": "2025-01-28T18:53:56.706Z"
   },
   {
    "duration": 43,
    "start_time": "2025-01-28T18:57:24.075Z"
   },
   {
    "duration": 45,
    "start_time": "2025-01-28T18:57:36.794Z"
   },
   {
    "duration": 6,
    "start_time": "2025-01-28T18:59:11.697Z"
   },
   {
    "duration": 4,
    "start_time": "2025-01-28T18:59:53.568Z"
   },
   {
    "duration": 7,
    "start_time": "2025-01-28T19:00:03.292Z"
   },
   {
    "duration": 6,
    "start_time": "2025-01-28T19:00:15.744Z"
   },
   {
    "duration": 7,
    "start_time": "2025-01-28T19:00:30.096Z"
   },
   {
    "duration": 19,
    "start_time": "2025-01-28T19:00:34.973Z"
   },
   {
    "duration": 15,
    "start_time": "2025-01-28T19:01:26.542Z"
   },
   {
    "duration": 6,
    "start_time": "2025-01-28T19:01:32.049Z"
   },
   {
    "duration": 6,
    "start_time": "2025-01-28T19:01:41.274Z"
   },
   {
    "duration": 6,
    "start_time": "2025-01-28T19:02:40.996Z"
   },
   {
    "duration": 5,
    "start_time": "2025-01-28T19:02:54.055Z"
   },
   {
    "duration": 15,
    "start_time": "2025-01-28T19:02:55.547Z"
   },
   {
    "duration": 20,
    "start_time": "2025-01-28T19:03:09.889Z"
   },
   {
    "duration": 4,
    "start_time": "2025-01-28T19:05:11.016Z"
   },
   {
    "duration": 4,
    "start_time": "2025-01-28T19:05:17.546Z"
   },
   {
    "duration": 4,
    "start_time": "2025-01-28T19:05:37.475Z"
   },
   {
    "duration": 14,
    "start_time": "2025-01-28T19:05:50.780Z"
   },
   {
    "duration": 12,
    "start_time": "2025-01-28T19:06:04.148Z"
   },
   {
    "duration": 11,
    "start_time": "2025-01-28T19:06:18.072Z"
   },
   {
    "duration": 11,
    "start_time": "2025-01-28T19:06:29.846Z"
   },
   {
    "duration": 6,
    "start_time": "2025-01-28T19:07:03.193Z"
   },
   {
    "duration": 12,
    "start_time": "2025-01-28T19:07:23.339Z"
   },
   {
    "duration": 7,
    "start_time": "2025-01-28T19:07:26.454Z"
   },
   {
    "duration": 4,
    "start_time": "2025-01-28T19:07:28.176Z"
   },
   {
    "duration": 4,
    "start_time": "2025-01-28T19:07:33.862Z"
   },
   {
    "duration": 5,
    "start_time": "2025-01-28T19:07:40.869Z"
   },
   {
    "duration": 14,
    "start_time": "2025-01-28T19:12:17.097Z"
   },
   {
    "duration": 5,
    "start_time": "2025-01-28T19:12:31.479Z"
   },
   {
    "duration": 5,
    "start_time": "2025-01-28T19:13:44.437Z"
   },
   {
    "duration": 4,
    "start_time": "2025-01-28T19:13:53.747Z"
   },
   {
    "duration": 804,
    "start_time": "2025-01-28T19:14:29.982Z"
   },
   {
    "duration": 154,
    "start_time": "2025-01-28T19:14:30.788Z"
   },
   {
    "duration": 85,
    "start_time": "2025-01-28T19:14:30.944Z"
   },
   {
    "duration": 25,
    "start_time": "2025-01-28T19:14:31.031Z"
   },
   {
    "duration": 27,
    "start_time": "2025-01-28T19:14:31.059Z"
   },
   {
    "duration": 8,
    "start_time": "2025-01-28T19:14:31.089Z"
   },
   {
    "duration": 23,
    "start_time": "2025-01-28T19:14:31.098Z"
   },
   {
    "duration": 7,
    "start_time": "2025-01-28T19:14:31.123Z"
   },
   {
    "duration": 5,
    "start_time": "2025-01-28T19:14:31.131Z"
   },
   {
    "duration": 8,
    "start_time": "2025-01-28T19:14:31.137Z"
   },
   {
    "duration": 41,
    "start_time": "2025-01-28T19:14:31.146Z"
   },
   {
    "duration": 4,
    "start_time": "2025-01-28T19:14:31.188Z"
   },
   {
    "duration": 96,
    "start_time": "2025-01-28T19:14:31.194Z"
   },
   {
    "duration": 8,
    "start_time": "2025-01-28T19:14:31.294Z"
   },
   {
    "duration": 104,
    "start_time": "2025-01-28T19:14:31.303Z"
   },
   {
    "duration": 55,
    "start_time": "2025-01-28T19:14:31.408Z"
   },
   {
    "duration": 9,
    "start_time": "2025-01-28T19:14:31.465Z"
   },
   {
    "duration": 64,
    "start_time": "2025-01-28T19:14:31.476Z"
   },
   {
    "duration": 80,
    "start_time": "2025-01-28T19:14:31.543Z"
   },
   {
    "duration": 8,
    "start_time": "2025-01-28T19:14:31.625Z"
   },
   {
    "duration": 93,
    "start_time": "2025-01-28T19:14:31.635Z"
   },
   {
    "duration": 7,
    "start_time": "2025-01-28T19:14:31.730Z"
   },
   {
    "duration": 71,
    "start_time": "2025-01-28T19:14:31.739Z"
   },
   {
    "duration": 13,
    "start_time": "2025-01-28T19:14:31.812Z"
   },
   {
    "duration": 42,
    "start_time": "2025-01-28T19:14:31.826Z"
   },
   {
    "duration": 100,
    "start_time": "2025-01-28T19:14:31.887Z"
   },
   {
    "duration": 25,
    "start_time": "2025-01-28T19:14:31.989Z"
   },
   {
    "duration": 14,
    "start_time": "2025-01-28T19:14:32.015Z"
   },
   {
    "duration": 8,
    "start_time": "2025-01-28T19:14:32.032Z"
   },
   {
    "duration": 120,
    "start_time": "2025-01-28T19:14:32.042Z"
   },
   {
    "duration": 9,
    "start_time": "2025-01-28T19:14:32.163Z"
   },
   {
    "duration": 317,
    "start_time": "2025-01-28T19:14:32.174Z"
   },
   {
    "duration": 294,
    "start_time": "2025-01-28T19:14:32.493Z"
   },
   {
    "duration": 281,
    "start_time": "2025-01-28T19:14:32.788Z"
   },
   {
    "duration": 19,
    "start_time": "2025-01-28T19:14:33.071Z"
   },
   {
    "duration": 262,
    "start_time": "2025-01-28T19:14:33.091Z"
   },
   {
    "duration": 10,
    "start_time": "2025-01-28T19:14:33.354Z"
   },
   {
    "duration": 377,
    "start_time": "2025-01-28T19:14:33.366Z"
   },
   {
    "duration": 10,
    "start_time": "2025-01-28T19:14:33.745Z"
   },
   {
    "duration": 306,
    "start_time": "2025-01-28T19:14:33.757Z"
   },
   {
    "duration": 2,
    "start_time": "2025-01-28T19:14:34.068Z"
   },
   {
    "duration": 9,
    "start_time": "2025-01-28T19:14:34.086Z"
   },
   {
    "duration": 9,
    "start_time": "2025-01-28T19:14:34.097Z"
   },
   {
    "duration": 281,
    "start_time": "2025-01-28T19:14:34.108Z"
   },
   {
    "duration": 9,
    "start_time": "2025-01-28T19:14:34.391Z"
   },
   {
    "duration": 360,
    "start_time": "2025-01-28T19:14:34.401Z"
   },
   {
    "duration": 9,
    "start_time": "2025-01-28T19:14:34.763Z"
   },
   {
    "duration": 291,
    "start_time": "2025-01-28T19:14:34.774Z"
   },
   {
    "duration": 20,
    "start_time": "2025-01-28T19:14:35.067Z"
   },
   {
    "duration": 303,
    "start_time": "2025-01-28T19:14:35.089Z"
   },
   {
    "duration": 7,
    "start_time": "2025-01-28T19:14:35.394Z"
   },
   {
    "duration": 5,
    "start_time": "2025-01-28T19:14:35.403Z"
   },
   {
    "duration": 655,
    "start_time": "2025-01-28T19:14:35.410Z"
   },
   {
    "duration": 0,
    "start_time": "2025-01-28T19:14:36.066Z"
   },
   {
    "duration": 0,
    "start_time": "2025-01-28T19:14:36.068Z"
   },
   {
    "duration": 0,
    "start_time": "2025-01-28T19:14:36.069Z"
   },
   {
    "duration": 0,
    "start_time": "2025-01-28T19:14:36.070Z"
   },
   {
    "duration": 42,
    "start_time": "2025-01-28T19:16:13.902Z"
   },
   {
    "duration": 3,
    "start_time": "2025-01-28T19:16:43.951Z"
   },
   {
    "duration": 43,
    "start_time": "2025-01-28T19:16:49.563Z"
   },
   {
    "duration": 5,
    "start_time": "2025-01-28T19:17:07.048Z"
   },
   {
    "duration": 5,
    "start_time": "2025-01-28T19:17:27.435Z"
   },
   {
    "duration": 8,
    "start_time": "2025-01-28T19:17:27.443Z"
   },
   {
    "duration": 7,
    "start_time": "2025-01-28T19:17:27.452Z"
   },
   {
    "duration": 4,
    "start_time": "2025-01-28T19:17:27.461Z"
   },
   {
    "duration": 6,
    "start_time": "2025-01-28T19:17:27.467Z"
   },
   {
    "duration": 6,
    "start_time": "2025-01-28T19:19:31.830Z"
   },
   {
    "duration": 293,
    "start_time": "2025-01-28T19:19:35.916Z"
   },
   {
    "duration": 284,
    "start_time": "2025-01-28T19:22:30.087Z"
   },
   {
    "duration": 11,
    "start_time": "2025-01-28T19:22:54.266Z"
   },
   {
    "duration": 371,
    "start_time": "2025-01-28T19:24:01.183Z"
   },
   {
    "duration": 406,
    "start_time": "2025-01-28T19:25:44.862Z"
   },
   {
    "duration": 263,
    "start_time": "2025-01-28T19:25:53.796Z"
   },
   {
    "duration": 318,
    "start_time": "2025-01-28T19:27:29.655Z"
   },
   {
    "duration": 283,
    "start_time": "2025-01-28T19:27:35.286Z"
   },
   {
    "duration": 264,
    "start_time": "2025-01-28T19:28:05.626Z"
   },
   {
    "duration": 266,
    "start_time": "2025-01-28T19:28:12.693Z"
   },
   {
    "duration": 278,
    "start_time": "2025-01-28T19:28:17.932Z"
   },
   {
    "duration": 175,
    "start_time": "2025-01-28T19:28:31.976Z"
   },
   {
    "duration": 242,
    "start_time": "2025-01-28T19:29:40.315Z"
   },
   {
    "duration": 241,
    "start_time": "2025-01-28T19:29:59.524Z"
   },
   {
    "duration": 244,
    "start_time": "2025-01-28T19:30:36.022Z"
   },
   {
    "duration": 399,
    "start_time": "2025-01-28T19:30:41.559Z"
   },
   {
    "duration": 326,
    "start_time": "2025-01-28T19:45:32.583Z"
   },
   {
    "duration": 274,
    "start_time": "2025-01-28T19:46:44.800Z"
   },
   {
    "duration": 9,
    "start_time": "2025-01-28T19:47:36.547Z"
   },
   {
    "duration": 9,
    "start_time": "2025-01-28T19:47:52.772Z"
   },
   {
    "duration": 9,
    "start_time": "2025-01-28T19:48:04.015Z"
   },
   {
    "duration": 11,
    "start_time": "2025-01-28T19:55:57.603Z"
   },
   {
    "duration": 20,
    "start_time": "2025-01-28T19:56:12.434Z"
   },
   {
    "duration": 10,
    "start_time": "2025-01-28T19:56:20.348Z"
   },
   {
    "duration": 11,
    "start_time": "2025-01-28T19:56:36.039Z"
   },
   {
    "duration": 11,
    "start_time": "2025-01-28T19:58:00.231Z"
   },
   {
    "duration": 299,
    "start_time": "2025-01-28T19:58:17.252Z"
   },
   {
    "duration": 844,
    "start_time": "2025-01-28T19:59:14.886Z"
   },
   {
    "duration": 159,
    "start_time": "2025-01-28T19:59:15.733Z"
   },
   {
    "duration": 74,
    "start_time": "2025-01-28T19:59:15.894Z"
   },
   {
    "duration": 28,
    "start_time": "2025-01-28T19:59:15.971Z"
   },
   {
    "duration": 8,
    "start_time": "2025-01-28T19:59:16.000Z"
   },
   {
    "duration": 8,
    "start_time": "2025-01-28T19:59:16.010Z"
   },
   {
    "duration": 19,
    "start_time": "2025-01-28T19:59:16.020Z"
   },
   {
    "duration": 8,
    "start_time": "2025-01-28T19:59:16.040Z"
   },
   {
    "duration": 5,
    "start_time": "2025-01-28T19:59:16.086Z"
   },
   {
    "duration": 7,
    "start_time": "2025-01-28T19:59:16.095Z"
   },
   {
    "duration": 6,
    "start_time": "2025-01-28T19:59:16.104Z"
   },
   {
    "duration": 5,
    "start_time": "2025-01-28T19:59:16.111Z"
   },
   {
    "duration": 113,
    "start_time": "2025-01-28T19:59:16.118Z"
   },
   {
    "duration": 8,
    "start_time": "2025-01-28T19:59:16.233Z"
   },
   {
    "duration": 109,
    "start_time": "2025-01-28T19:59:16.243Z"
   },
   {
    "duration": 49,
    "start_time": "2025-01-28T19:59:16.353Z"
   },
   {
    "duration": 7,
    "start_time": "2025-01-28T19:59:16.404Z"
   },
   {
    "duration": 51,
    "start_time": "2025-01-28T19:59:16.413Z"
   },
   {
    "duration": 84,
    "start_time": "2025-01-28T19:59:16.465Z"
   },
   {
    "duration": 9,
    "start_time": "2025-01-28T19:59:16.550Z"
   },
   {
    "duration": 114,
    "start_time": "2025-01-28T19:59:16.560Z"
   },
   {
    "duration": 19,
    "start_time": "2025-01-28T19:59:16.676Z"
   },
   {
    "duration": 59,
    "start_time": "2025-01-28T19:59:16.696Z"
   },
   {
    "duration": 14,
    "start_time": "2025-01-28T19:59:16.757Z"
   },
   {
    "duration": 54,
    "start_time": "2025-01-28T19:59:16.773Z"
   },
   {
    "duration": 106,
    "start_time": "2025-01-28T19:59:16.828Z"
   },
   {
    "duration": 23,
    "start_time": "2025-01-28T19:59:16.936Z"
   },
   {
    "duration": 28,
    "start_time": "2025-01-28T19:59:16.963Z"
   },
   {
    "duration": 6,
    "start_time": "2025-01-28T19:59:16.993Z"
   },
   {
    "duration": 104,
    "start_time": "2025-01-28T19:59:17.001Z"
   },
   {
    "duration": 10,
    "start_time": "2025-01-28T19:59:17.106Z"
   },
   {
    "duration": 330,
    "start_time": "2025-01-28T19:59:17.117Z"
   },
   {
    "duration": 315,
    "start_time": "2025-01-28T19:59:17.449Z"
   },
   {
    "duration": 320,
    "start_time": "2025-01-28T19:59:17.766Z"
   },
   {
    "duration": 8,
    "start_time": "2025-01-28T19:59:18.089Z"
   },
   {
    "duration": 235,
    "start_time": "2025-01-28T19:59:18.099Z"
   },
   {
    "duration": 387,
    "start_time": "2025-01-28T19:59:18.336Z"
   },
   {
    "duration": 11,
    "start_time": "2025-01-28T19:59:18.724Z"
   },
   {
    "duration": 297,
    "start_time": "2025-01-28T19:59:18.736Z"
   },
   {
    "duration": 3,
    "start_time": "2025-01-28T19:59:19.035Z"
   },
   {
    "duration": 9,
    "start_time": "2025-01-28T19:59:19.040Z"
   },
   {
    "duration": 10,
    "start_time": "2025-01-28T19:59:19.051Z"
   },
   {
    "duration": 288,
    "start_time": "2025-01-28T19:59:19.063Z"
   },
   {
    "duration": 9,
    "start_time": "2025-01-28T19:59:19.353Z"
   },
   {
    "duration": 355,
    "start_time": "2025-01-28T19:59:19.364Z"
   },
   {
    "duration": 10,
    "start_time": "2025-01-28T19:59:19.720Z"
   },
   {
    "duration": 260,
    "start_time": "2025-01-28T19:59:19.732Z"
   },
   {
    "duration": 6,
    "start_time": "2025-01-28T19:59:19.994Z"
   },
   {
    "duration": 273,
    "start_time": "2025-01-28T19:59:20.002Z"
   },
   {
    "duration": 12,
    "start_time": "2025-01-28T19:59:20.277Z"
   },
   {
    "duration": 5,
    "start_time": "2025-01-28T19:59:20.291Z"
   },
   {
    "duration": 7,
    "start_time": "2025-01-28T19:59:20.298Z"
   },
   {
    "duration": 7,
    "start_time": "2025-01-28T19:59:20.306Z"
   },
   {
    "duration": 4,
    "start_time": "2025-01-28T19:59:20.314Z"
   },
   {
    "duration": 12,
    "start_time": "2025-01-28T20:09:10.678Z"
   },
   {
    "duration": 5,
    "start_time": "2025-01-28T20:14:46.178Z"
   },
   {
    "duration": 133,
    "start_time": "2025-01-28T20:15:58.570Z"
   },
   {
    "duration": 6,
    "start_time": "2025-01-28T20:16:11.682Z"
   },
   {
    "duration": 13,
    "start_time": "2025-01-28T20:16:14.964Z"
   },
   {
    "duration": 545,
    "start_time": "2025-01-28T20:16:22.498Z"
   },
   {
    "duration": 13,
    "start_time": "2025-01-28T20:16:35.008Z"
   },
   {
    "duration": 6,
    "start_time": "2025-01-28T20:16:41.934Z"
   },
   {
    "duration": 802,
    "start_time": "2025-01-28T20:17:45.731Z"
   },
   {
    "duration": 319,
    "start_time": "2025-01-28T20:18:01.287Z"
   },
   {
    "duration": 5,
    "start_time": "2025-01-28T20:18:34.870Z"
   },
   {
    "duration": 8,
    "start_time": "2025-01-28T20:18:40.278Z"
   },
   {
    "duration": 11,
    "start_time": "2025-01-28T20:19:26.370Z"
   },
   {
    "duration": 76,
    "start_time": "2025-01-28T20:19:53.503Z"
   },
   {
    "duration": 12,
    "start_time": "2025-01-28T20:20:07.150Z"
   },
   {
    "duration": 10,
    "start_time": "2025-01-28T20:20:42.639Z"
   },
   {
    "duration": 10,
    "start_time": "2025-01-28T20:21:10.983Z"
   },
   {
    "duration": 12,
    "start_time": "2025-01-28T20:23:19.660Z"
   },
   {
    "duration": 11,
    "start_time": "2025-01-28T20:23:36.227Z"
   },
   {
    "duration": 5,
    "start_time": "2025-01-28T20:24:57.995Z"
   },
   {
    "duration": 7,
    "start_time": "2025-01-28T20:25:34.367Z"
   },
   {
    "duration": 12,
    "start_time": "2025-01-28T21:35:35.379Z"
   },
   {
    "duration": 13,
    "start_time": "2025-01-28T21:37:02.051Z"
   },
   {
    "duration": 2575,
    "start_time": "2025-01-28T21:37:13.726Z"
   },
   {
    "duration": 209,
    "start_time": "2025-01-28T21:37:16.303Z"
   },
   {
    "duration": 75,
    "start_time": "2025-01-28T21:37:16.514Z"
   },
   {
    "duration": 24,
    "start_time": "2025-01-28T21:37:16.592Z"
   },
   {
    "duration": 16,
    "start_time": "2025-01-28T21:37:16.617Z"
   },
   {
    "duration": 8,
    "start_time": "2025-01-28T21:37:16.634Z"
   },
   {
    "duration": 18,
    "start_time": "2025-01-28T21:37:16.644Z"
   },
   {
    "duration": 7,
    "start_time": "2025-01-28T21:37:16.664Z"
   },
   {
    "duration": 5,
    "start_time": "2025-01-28T21:37:16.672Z"
   },
   {
    "duration": 7,
    "start_time": "2025-01-28T21:37:16.681Z"
   },
   {
    "duration": 41,
    "start_time": "2025-01-28T21:37:16.690Z"
   },
   {
    "duration": 6,
    "start_time": "2025-01-28T21:37:16.732Z"
   },
   {
    "duration": 10,
    "start_time": "2025-01-28T21:37:16.739Z"
   },
   {
    "duration": 125,
    "start_time": "2025-01-28T21:37:16.751Z"
   },
   {
    "duration": 8,
    "start_time": "2025-01-28T21:37:16.878Z"
   },
   {
    "duration": 107,
    "start_time": "2025-01-28T21:37:16.888Z"
   },
   {
    "duration": 53,
    "start_time": "2025-01-28T21:37:16.997Z"
   },
   {
    "duration": 7,
    "start_time": "2025-01-28T21:37:17.051Z"
   },
   {
    "duration": 51,
    "start_time": "2025-01-28T21:37:17.060Z"
   },
   {
    "duration": 78,
    "start_time": "2025-01-28T21:37:17.113Z"
   },
   {
    "duration": 9,
    "start_time": "2025-01-28T21:37:17.193Z"
   },
   {
    "duration": 102,
    "start_time": "2025-01-28T21:37:17.204Z"
   },
   {
    "duration": 8,
    "start_time": "2025-01-28T21:37:17.308Z"
   },
   {
    "duration": 73,
    "start_time": "2025-01-28T21:37:17.318Z"
   },
   {
    "duration": 14,
    "start_time": "2025-01-28T21:37:17.393Z"
   },
   {
    "duration": 55,
    "start_time": "2025-01-28T21:37:17.409Z"
   },
   {
    "duration": 52,
    "start_time": "2025-01-28T21:37:17.467Z"
   },
   {
    "duration": 23,
    "start_time": "2025-01-28T21:37:17.535Z"
   },
   {
    "duration": 13,
    "start_time": "2025-01-28T21:37:17.560Z"
   },
   {
    "duration": 9,
    "start_time": "2025-01-28T21:37:17.575Z"
   },
   {
    "duration": 129,
    "start_time": "2025-01-28T21:37:17.585Z"
   },
   {
    "duration": 19,
    "start_time": "2025-01-28T21:37:17.716Z"
   },
   {
    "duration": 364,
    "start_time": "2025-01-28T21:37:17.737Z"
   },
   {
    "duration": 306,
    "start_time": "2025-01-28T21:37:18.103Z"
   },
   {
    "duration": 312,
    "start_time": "2025-01-28T21:37:18.411Z"
   },
   {
    "duration": 13,
    "start_time": "2025-01-28T21:37:18.725Z"
   },
   {
    "duration": 254,
    "start_time": "2025-01-28T21:37:18.739Z"
   },
   {
    "duration": 397,
    "start_time": "2025-01-28T21:37:18.995Z"
   },
   {
    "duration": 10,
    "start_time": "2025-01-28T21:37:19.395Z"
   },
   {
    "duration": 296,
    "start_time": "2025-01-28T21:37:19.407Z"
   },
   {
    "duration": 2,
    "start_time": "2025-01-28T21:37:19.705Z"
   },
   {
    "duration": 24,
    "start_time": "2025-01-28T21:37:19.708Z"
   },
   {
    "duration": 10,
    "start_time": "2025-01-28T21:37:19.733Z"
   },
   {
    "duration": 292,
    "start_time": "2025-01-28T21:37:19.744Z"
   },
   {
    "duration": 10,
    "start_time": "2025-01-28T21:37:20.038Z"
   },
   {
    "duration": 265,
    "start_time": "2025-01-28T21:37:20.049Z"
   },
   {
    "duration": 20,
    "start_time": "2025-01-28T21:37:20.316Z"
   },
   {
    "duration": 5,
    "start_time": "2025-01-28T21:37:20.338Z"
   },
   {
    "duration": 271,
    "start_time": "2025-01-28T21:37:20.345Z"
   },
   {
    "duration": 14,
    "start_time": "2025-01-28T21:37:20.618Z"
   },
   {
    "duration": 273,
    "start_time": "2025-01-28T21:37:20.633Z"
   },
   {
    "duration": 7,
    "start_time": "2025-01-28T21:37:20.908Z"
   },
   {
    "duration": 94,
    "start_time": "2025-01-28T21:37:20.931Z"
   },
   {
    "duration": 10,
    "start_time": "2025-01-28T21:37:21.027Z"
   },
   {
    "duration": 8,
    "start_time": "2025-01-28T21:37:21.039Z"
   },
   {
    "duration": 7,
    "start_time": "2025-01-28T21:37:21.048Z"
   },
   {
    "duration": 4,
    "start_time": "2025-01-28T21:39:03.237Z"
   },
   {
    "duration": 387,
    "start_time": "2025-01-28T21:41:09.853Z"
   },
   {
    "duration": 249,
    "start_time": "2025-01-28T22:39:48.323Z"
   },
   {
    "duration": 45,
    "start_time": "2025-01-28T22:40:30.080Z"
   },
   {
    "duration": 46,
    "start_time": "2025-01-28T22:41:00.428Z"
   },
   {
    "duration": 85,
    "start_time": "2025-01-28T22:42:24.637Z"
   },
   {
    "duration": 46,
    "start_time": "2025-01-28T22:42:33.792Z"
   },
   {
    "duration": 46,
    "start_time": "2025-01-28T22:43:10.934Z"
   },
   {
    "duration": 8,
    "start_time": "2025-01-28T22:43:58.871Z"
   },
   {
    "duration": 502,
    "start_time": "2025-01-28T22:44:19.451Z"
   },
   {
    "duration": 8,
    "start_time": "2025-01-28T22:44:34.731Z"
   },
   {
    "duration": 559,
    "start_time": "2025-01-28T22:46:30.356Z"
   },
   {
    "duration": 9,
    "start_time": "2025-01-28T22:48:13.349Z"
   },
   {
    "duration": 576,
    "start_time": "2025-01-28T22:48:22.851Z"
   },
   {
    "duration": 5,
    "start_time": "2025-01-28T22:49:14.948Z"
   },
   {
    "duration": 878,
    "start_time": "2025-01-28T22:49:20.208Z"
   },
   {
    "duration": 548,
    "start_time": "2025-01-28T22:49:34.189Z"
   },
   {
    "duration": 552,
    "start_time": "2025-01-28T22:50:27.694Z"
   },
   {
    "duration": 523,
    "start_time": "2025-01-28T22:50:54.522Z"
   },
   {
    "duration": 643,
    "start_time": "2025-01-28T22:51:04.529Z"
   },
   {
    "duration": 105,
    "start_time": "2025-01-28T22:51:29.397Z"
   },
   {
    "duration": 554,
    "start_time": "2025-01-28T22:51:44.181Z"
   },
   {
    "duration": 3,
    "start_time": "2025-01-29T00:12:52.697Z"
   },
   {
    "duration": 788,
    "start_time": "2025-01-29T01:01:53.911Z"
   },
   {
    "duration": 161,
    "start_time": "2025-01-29T01:01:54.701Z"
   },
   {
    "duration": 77,
    "start_time": "2025-01-29T01:01:54.864Z"
   },
   {
    "duration": 24,
    "start_time": "2025-01-29T01:01:54.943Z"
   },
   {
    "duration": 9,
    "start_time": "2025-01-29T01:01:54.971Z"
   },
   {
    "duration": 10,
    "start_time": "2025-01-29T01:01:54.981Z"
   },
   {
    "duration": 45,
    "start_time": "2025-01-29T01:01:54.992Z"
   },
   {
    "duration": 8,
    "start_time": "2025-01-29T01:01:55.038Z"
   },
   {
    "duration": 4,
    "start_time": "2025-01-29T01:01:55.048Z"
   },
   {
    "duration": 8,
    "start_time": "2025-01-29T01:01:55.054Z"
   },
   {
    "duration": 6,
    "start_time": "2025-01-29T01:01:55.064Z"
   },
   {
    "duration": 5,
    "start_time": "2025-01-29T01:01:55.072Z"
   },
   {
    "duration": 10,
    "start_time": "2025-01-29T01:01:55.079Z"
   },
   {
    "duration": 106,
    "start_time": "2025-01-29T01:01:55.134Z"
   },
   {
    "duration": 10,
    "start_time": "2025-01-29T01:01:55.242Z"
   },
   {
    "duration": 110,
    "start_time": "2025-01-29T01:01:55.253Z"
   },
   {
    "duration": 49,
    "start_time": "2025-01-29T01:01:55.365Z"
   },
   {
    "duration": 22,
    "start_time": "2025-01-29T01:01:55.416Z"
   },
   {
    "duration": 52,
    "start_time": "2025-01-29T01:01:55.440Z"
   },
   {
    "duration": 93,
    "start_time": "2025-01-29T01:01:55.494Z"
   },
   {
    "duration": 10,
    "start_time": "2025-01-29T01:01:55.588Z"
   },
   {
    "duration": 101,
    "start_time": "2025-01-29T01:01:55.599Z"
   },
   {
    "duration": 7,
    "start_time": "2025-01-29T01:01:55.702Z"
   },
   {
    "duration": 72,
    "start_time": "2025-01-29T01:01:55.711Z"
   },
   {
    "duration": 13,
    "start_time": "2025-01-29T01:01:55.785Z"
   },
   {
    "duration": 55,
    "start_time": "2025-01-29T01:01:55.799Z"
   },
   {
    "duration": 114,
    "start_time": "2025-01-29T01:01:55.856Z"
   },
   {
    "duration": 25,
    "start_time": "2025-01-29T01:01:55.972Z"
   },
   {
    "duration": 12,
    "start_time": "2025-01-29T01:01:55.999Z"
   },
   {
    "duration": 24,
    "start_time": "2025-01-29T01:01:56.013Z"
   },
   {
    "duration": 106,
    "start_time": "2025-01-29T01:01:56.039Z"
   },
   {
    "duration": 9,
    "start_time": "2025-01-29T01:01:56.147Z"
   },
   {
    "duration": 322,
    "start_time": "2025-01-29T01:01:56.157Z"
   },
   {
    "duration": 316,
    "start_time": "2025-01-29T01:01:56.481Z"
   },
   {
    "duration": 307,
    "start_time": "2025-01-29T01:01:56.799Z"
   },
   {
    "duration": 9,
    "start_time": "2025-01-29T01:01:57.107Z"
   },
   {
    "duration": 522,
    "start_time": "2025-01-29T01:01:57.117Z"
   },
   {
    "duration": 503,
    "start_time": "2025-01-29T01:01:57.641Z"
   },
   {
    "duration": 11,
    "start_time": "2025-01-29T01:01:58.146Z"
   },
   {
    "duration": 277,
    "start_time": "2025-01-29T01:01:58.158Z"
   },
   {
    "duration": 2,
    "start_time": "2025-01-29T01:01:58.441Z"
   },
   {
    "duration": 10,
    "start_time": "2025-01-29T01:01:58.445Z"
   },
   {
    "duration": 9,
    "start_time": "2025-01-29T01:01:58.456Z"
   },
   {
    "duration": 313,
    "start_time": "2025-01-29T01:01:58.467Z"
   },
   {
    "duration": 11,
    "start_time": "2025-01-29T01:01:58.782Z"
   },
   {
    "duration": 317,
    "start_time": "2025-01-29T01:01:58.795Z"
   },
   {
    "duration": 20,
    "start_time": "2025-01-29T01:01:59.113Z"
   },
   {
    "duration": 6,
    "start_time": "2025-01-29T01:01:59.134Z"
   },
   {
    "duration": 267,
    "start_time": "2025-01-29T01:01:59.142Z"
   },
   {
    "duration": 6,
    "start_time": "2025-01-29T01:01:59.411Z"
   },
   {
    "duration": 289,
    "start_time": "2025-01-29T01:01:59.419Z"
   },
   {
    "duration": 6,
    "start_time": "2025-01-29T01:01:59.710Z"
   },
   {
    "duration": 17,
    "start_time": "2025-01-29T01:01:59.718Z"
   },
   {
    "duration": 7,
    "start_time": "2025-01-29T01:01:59.737Z"
   },
   {
    "duration": 7,
    "start_time": "2025-01-29T01:01:59.747Z"
   },
   {
    "duration": 3,
    "start_time": "2025-01-29T01:01:59.756Z"
   },
   {
    "duration": 4,
    "start_time": "2025-01-29T01:02:44.089Z"
   },
   {
    "duration": 798,
    "start_time": "2025-01-29T01:06:43.304Z"
   },
   {
    "duration": 162,
    "start_time": "2025-01-29T01:06:44.104Z"
   },
   {
    "duration": 81,
    "start_time": "2025-01-29T01:06:44.267Z"
   },
   {
    "duration": 24,
    "start_time": "2025-01-29T01:06:44.350Z"
   },
   {
    "duration": 9,
    "start_time": "2025-01-29T01:06:44.375Z"
   },
   {
    "duration": 9,
    "start_time": "2025-01-29T01:06:44.385Z"
   },
   {
    "duration": 48,
    "start_time": "2025-01-29T01:06:44.396Z"
   },
   {
    "duration": 9,
    "start_time": "2025-01-29T01:06:44.446Z"
   },
   {
    "duration": 6,
    "start_time": "2025-01-29T01:06:44.456Z"
   },
   {
    "duration": 8,
    "start_time": "2025-01-29T01:06:44.465Z"
   },
   {
    "duration": 8,
    "start_time": "2025-01-29T01:06:44.474Z"
   },
   {
    "duration": 4,
    "start_time": "2025-01-29T01:06:44.484Z"
   },
   {
    "duration": 48,
    "start_time": "2025-01-29T01:06:44.490Z"
   },
   {
    "duration": 100,
    "start_time": "2025-01-29T01:06:44.540Z"
   },
   {
    "duration": 10,
    "start_time": "2025-01-29T01:06:44.642Z"
   },
   {
    "duration": 111,
    "start_time": "2025-01-29T01:06:44.653Z"
   },
   {
    "duration": 52,
    "start_time": "2025-01-29T01:06:44.766Z"
   },
   {
    "duration": 8,
    "start_time": "2025-01-29T01:06:44.831Z"
   },
   {
    "duration": 61,
    "start_time": "2025-01-29T01:06:44.841Z"
   },
   {
    "duration": 85,
    "start_time": "2025-01-29T01:06:44.904Z"
   },
   {
    "duration": 8,
    "start_time": "2025-01-29T01:06:44.990Z"
   },
   {
    "duration": 101,
    "start_time": "2025-01-29T01:06:45.000Z"
   },
   {
    "duration": 7,
    "start_time": "2025-01-29T01:06:45.103Z"
   },
   {
    "duration": 72,
    "start_time": "2025-01-29T01:06:45.111Z"
   },
   {
    "duration": 13,
    "start_time": "2025-01-29T01:06:45.185Z"
   },
   {
    "duration": 56,
    "start_time": "2025-01-29T01:06:45.200Z"
   },
   {
    "duration": 114,
    "start_time": "2025-01-29T01:06:45.258Z"
   },
   {
    "duration": 25,
    "start_time": "2025-01-29T01:06:45.377Z"
   },
   {
    "duration": 12,
    "start_time": "2025-01-29T01:06:45.403Z"
   },
   {
    "duration": 8,
    "start_time": "2025-01-29T01:06:45.432Z"
   },
   {
    "duration": 105,
    "start_time": "2025-01-29T01:06:45.442Z"
   },
   {
    "duration": 9,
    "start_time": "2025-01-29T01:06:45.549Z"
   },
   {
    "duration": 324,
    "start_time": "2025-01-29T01:06:45.560Z"
   },
   {
    "duration": 331,
    "start_time": "2025-01-29T01:06:45.885Z"
   },
   {
    "duration": 319,
    "start_time": "2025-01-29T01:06:46.218Z"
   },
   {
    "duration": 8,
    "start_time": "2025-01-29T01:06:46.539Z"
   },
   {
    "duration": 580,
    "start_time": "2025-01-29T01:06:46.549Z"
   },
   {
    "duration": 417,
    "start_time": "2025-01-29T01:06:47.131Z"
   },
   {
    "duration": 9,
    "start_time": "2025-01-29T01:06:47.550Z"
   },
   {
    "duration": 259,
    "start_time": "2025-01-29T01:06:47.561Z"
   },
   {
    "duration": 2,
    "start_time": "2025-01-29T01:06:47.822Z"
   },
   {
    "duration": 11,
    "start_time": "2025-01-29T01:06:47.832Z"
   },
   {
    "duration": 10,
    "start_time": "2025-01-29T01:06:47.845Z"
   },
   {
    "duration": 298,
    "start_time": "2025-01-29T01:06:47.857Z"
   },
   {
    "duration": 9,
    "start_time": "2025-01-29T01:06:48.157Z"
   },
   {
    "duration": 315,
    "start_time": "2025-01-29T01:06:48.168Z"
   },
   {
    "duration": 11,
    "start_time": "2025-01-29T01:06:48.485Z"
   },
   {
    "duration": 6,
    "start_time": "2025-01-29T01:06:48.497Z"
   },
   {
    "duration": 292,
    "start_time": "2025-01-29T01:06:48.505Z"
   },
   {
    "duration": 6,
    "start_time": "2025-01-29T01:06:48.799Z"
   },
   {
    "duration": 302,
    "start_time": "2025-01-29T01:06:48.808Z"
   },
   {
    "duration": 7,
    "start_time": "2025-01-29T01:06:49.112Z"
   },
   {
    "duration": 15,
    "start_time": "2025-01-29T01:06:49.120Z"
   },
   {
    "duration": 8,
    "start_time": "2025-01-29T01:06:49.136Z"
   },
   {
    "duration": 7,
    "start_time": "2025-01-29T01:06:49.145Z"
   },
   {
    "duration": 4,
    "start_time": "2025-01-29T01:06:49.154Z"
   },
   {
    "duration": 216,
    "start_time": "2025-01-29T01:07:56.610Z"
   },
   {
    "duration": 15,
    "start_time": "2025-01-29T01:08:14.055Z"
   },
   {
    "duration": 14,
    "start_time": "2025-01-29T01:08:26.930Z"
   },
   {
    "duration": 820,
    "start_time": "2025-01-29T01:08:34.873Z"
   },
   {
    "duration": 167,
    "start_time": "2025-01-29T01:08:35.696Z"
   },
   {
    "duration": 80,
    "start_time": "2025-01-29T01:08:35.864Z"
   },
   {
    "duration": 23,
    "start_time": "2025-01-29T01:08:35.945Z"
   },
   {
    "duration": 9,
    "start_time": "2025-01-29T01:08:35.971Z"
   },
   {
    "duration": 10,
    "start_time": "2025-01-29T01:08:35.981Z"
   },
   {
    "duration": 48,
    "start_time": "2025-01-29T01:08:35.992Z"
   },
   {
    "duration": 9,
    "start_time": "2025-01-29T01:08:36.042Z"
   },
   {
    "duration": 5,
    "start_time": "2025-01-29T01:08:36.053Z"
   },
   {
    "duration": 9,
    "start_time": "2025-01-29T01:08:36.060Z"
   },
   {
    "duration": 6,
    "start_time": "2025-01-29T01:08:36.071Z"
   },
   {
    "duration": 6,
    "start_time": "2025-01-29T01:08:36.079Z"
   },
   {
    "duration": 45,
    "start_time": "2025-01-29T01:08:36.087Z"
   },
   {
    "duration": 85,
    "start_time": "2025-01-29T01:08:36.136Z"
   },
   {
    "duration": 10,
    "start_time": "2025-01-29T01:08:36.232Z"
   },
   {
    "duration": 112,
    "start_time": "2025-01-29T01:08:36.243Z"
   },
   {
    "duration": 45,
    "start_time": "2025-01-29T01:08:36.357Z"
   },
   {
    "duration": 7,
    "start_time": "2025-01-29T01:08:36.404Z"
   },
   {
    "duration": 68,
    "start_time": "2025-01-29T01:08:36.412Z"
   },
   {
    "duration": 80,
    "start_time": "2025-01-29T01:08:36.481Z"
   },
   {
    "duration": 8,
    "start_time": "2025-01-29T01:08:36.563Z"
   },
   {
    "duration": 96,
    "start_time": "2025-01-29T01:08:36.573Z"
   },
   {
    "duration": 8,
    "start_time": "2025-01-29T01:08:36.670Z"
   },
   {
    "duration": 67,
    "start_time": "2025-01-29T01:08:36.681Z"
   },
   {
    "duration": 13,
    "start_time": "2025-01-29T01:08:36.750Z"
   },
   {
    "duration": 45,
    "start_time": "2025-01-29T01:08:36.765Z"
   },
   {
    "duration": 120,
    "start_time": "2025-01-29T01:08:36.812Z"
   },
   {
    "duration": 25,
    "start_time": "2025-01-29T01:08:36.933Z"
   },
   {
    "duration": 12,
    "start_time": "2025-01-29T01:08:36.959Z"
   },
   {
    "duration": 9,
    "start_time": "2025-01-29T01:08:36.972Z"
   },
   {
    "duration": 114,
    "start_time": "2025-01-29T01:08:36.982Z"
   },
   {
    "duration": 10,
    "start_time": "2025-01-29T01:08:37.097Z"
   },
   {
    "duration": 335,
    "start_time": "2025-01-29T01:08:37.109Z"
   },
   {
    "duration": 288,
    "start_time": "2025-01-29T01:08:37.446Z"
   },
   {
    "duration": 307,
    "start_time": "2025-01-29T01:08:37.736Z"
   },
   {
    "duration": 9,
    "start_time": "2025-01-29T01:08:38.046Z"
   },
   {
    "duration": 582,
    "start_time": "2025-01-29T01:08:38.057Z"
   },
   {
    "duration": 423,
    "start_time": "2025-01-29T01:08:38.641Z"
   },
   {
    "duration": 11,
    "start_time": "2025-01-29T01:08:39.065Z"
   },
   {
    "duration": 288,
    "start_time": "2025-01-29T01:08:39.077Z"
   },
   {
    "duration": 2,
    "start_time": "2025-01-29T01:08:39.370Z"
   },
   {
    "duration": 11,
    "start_time": "2025-01-29T01:08:39.374Z"
   },
   {
    "duration": 9,
    "start_time": "2025-01-29T01:08:39.386Z"
   },
   {
    "duration": 296,
    "start_time": "2025-01-29T01:08:39.397Z"
   },
   {
    "duration": 10,
    "start_time": "2025-01-29T01:08:39.695Z"
   },
   {
    "duration": 303,
    "start_time": "2025-01-29T01:08:39.706Z"
   },
   {
    "duration": 25,
    "start_time": "2025-01-29T01:08:40.010Z"
   },
   {
    "duration": 7,
    "start_time": "2025-01-29T01:08:40.036Z"
   },
   {
    "duration": 275,
    "start_time": "2025-01-29T01:08:40.045Z"
   },
   {
    "duration": 13,
    "start_time": "2025-01-29T01:08:40.323Z"
   },
   {
    "duration": 286,
    "start_time": "2025-01-29T01:08:40.338Z"
   },
   {
    "duration": 11,
    "start_time": "2025-01-29T01:08:40.626Z"
   },
   {
    "duration": 6,
    "start_time": "2025-01-29T01:08:40.638Z"
   },
   {
    "duration": 8,
    "start_time": "2025-01-29T01:08:40.646Z"
   },
   {
    "duration": 7,
    "start_time": "2025-01-29T01:08:40.656Z"
   },
   {
    "duration": 4,
    "start_time": "2025-01-29T01:08:40.665Z"
   },
   {
    "duration": 6,
    "start_time": "2025-01-29T01:11:10.784Z"
   },
   {
    "duration": 5,
    "start_time": "2025-01-29T01:11:27.794Z"
   },
   {
    "duration": 4,
    "start_time": "2025-01-29T01:11:31.194Z"
   },
   {
    "duration": 9,
    "start_time": "2025-01-29T01:13:28.453Z"
   },
   {
    "duration": 17,
    "start_time": "2025-01-29T01:22:46.245Z"
   },
   {
    "duration": 808,
    "start_time": "2025-01-29T01:23:01.583Z"
   },
   {
    "duration": 157,
    "start_time": "2025-01-29T01:23:02.393Z"
   },
   {
    "duration": 92,
    "start_time": "2025-01-29T01:23:02.552Z"
   },
   {
    "duration": 27,
    "start_time": "2025-01-29T01:23:02.646Z"
   },
   {
    "duration": 9,
    "start_time": "2025-01-29T01:23:02.676Z"
   },
   {
    "duration": 11,
    "start_time": "2025-01-29T01:23:02.686Z"
   },
   {
    "duration": 46,
    "start_time": "2025-01-29T01:23:02.699Z"
   },
   {
    "duration": 7,
    "start_time": "2025-01-29T01:23:02.747Z"
   },
   {
    "duration": 5,
    "start_time": "2025-01-29T01:23:02.756Z"
   },
   {
    "duration": 8,
    "start_time": "2025-01-29T01:23:02.762Z"
   },
   {
    "duration": 6,
    "start_time": "2025-01-29T01:23:02.771Z"
   },
   {
    "duration": 6,
    "start_time": "2025-01-29T01:23:02.780Z"
   },
   {
    "duration": 49,
    "start_time": "2025-01-29T01:23:02.787Z"
   },
   {
    "duration": 16,
    "start_time": "2025-01-29T01:23:02.840Z"
   },
   {
    "duration": 97,
    "start_time": "2025-01-29T01:23:02.857Z"
   },
   {
    "duration": 9,
    "start_time": "2025-01-29T01:23:02.956Z"
   },
   {
    "duration": 108,
    "start_time": "2025-01-29T01:23:02.966Z"
   },
   {
    "duration": 55,
    "start_time": "2025-01-29T01:23:03.076Z"
   },
   {
    "duration": 7,
    "start_time": "2025-01-29T01:23:03.133Z"
   },
   {
    "duration": 52,
    "start_time": "2025-01-29T01:23:03.142Z"
   },
   {
    "duration": 79,
    "start_time": "2025-01-29T01:23:03.196Z"
   },
   {
    "duration": 9,
    "start_time": "2025-01-29T01:23:03.277Z"
   },
   {
    "duration": 108,
    "start_time": "2025-01-29T01:23:03.288Z"
   },
   {
    "duration": 7,
    "start_time": "2025-01-29T01:23:03.398Z"
   },
   {
    "duration": 67,
    "start_time": "2025-01-29T01:23:03.407Z"
   },
   {
    "duration": 14,
    "start_time": "2025-01-29T01:23:03.476Z"
   },
   {
    "duration": 58,
    "start_time": "2025-01-29T01:23:03.492Z"
   },
   {
    "duration": 109,
    "start_time": "2025-01-29T01:23:03.552Z"
   },
   {
    "duration": 24,
    "start_time": "2025-01-29T01:23:03.663Z"
   },
   {
    "duration": 15,
    "start_time": "2025-01-29T01:23:03.689Z"
   },
   {
    "duration": 8,
    "start_time": "2025-01-29T01:23:03.730Z"
   },
   {
    "duration": 102,
    "start_time": "2025-01-29T01:23:03.741Z"
   },
   {
    "duration": 9,
    "start_time": "2025-01-29T01:23:03.844Z"
   },
   {
    "duration": 298,
    "start_time": "2025-01-29T01:23:03.854Z"
   },
   {
    "duration": 276,
    "start_time": "2025-01-29T01:23:04.155Z"
   },
   {
    "duration": 302,
    "start_time": "2025-01-29T01:23:04.433Z"
   },
   {
    "duration": 8,
    "start_time": "2025-01-29T01:23:04.737Z"
   },
   {
    "duration": 580,
    "start_time": "2025-01-29T01:23:04.747Z"
   },
   {
    "duration": 418,
    "start_time": "2025-01-29T01:23:05.330Z"
   },
   {
    "duration": 10,
    "start_time": "2025-01-29T01:23:05.750Z"
   },
   {
    "duration": 273,
    "start_time": "2025-01-29T01:23:05.765Z"
   },
   {
    "duration": 2,
    "start_time": "2025-01-29T01:23:06.041Z"
   },
   {
    "duration": 11,
    "start_time": "2025-01-29T01:23:06.044Z"
   },
   {
    "duration": 9,
    "start_time": "2025-01-29T01:23:06.057Z"
   },
   {
    "duration": 339,
    "start_time": "2025-01-29T01:23:06.068Z"
   },
   {
    "duration": 9,
    "start_time": "2025-01-29T01:23:06.410Z"
   },
   {
    "duration": 280,
    "start_time": "2025-01-29T01:23:06.421Z"
   },
   {
    "duration": 11,
    "start_time": "2025-01-29T01:23:06.703Z"
   },
   {
    "duration": 18,
    "start_time": "2025-01-29T01:23:06.716Z"
   },
   {
    "duration": 277,
    "start_time": "2025-01-29T01:23:06.736Z"
   },
   {
    "duration": 18,
    "start_time": "2025-01-29T01:23:07.016Z"
   },
   {
    "duration": 271,
    "start_time": "2025-01-29T01:23:07.036Z"
   },
   {
    "duration": 7,
    "start_time": "2025-01-29T01:23:07.309Z"
   },
   {
    "duration": 16,
    "start_time": "2025-01-29T01:23:07.318Z"
   },
   {
    "duration": 8,
    "start_time": "2025-01-29T01:23:07.336Z"
   },
   {
    "duration": 8,
    "start_time": "2025-01-29T01:23:07.345Z"
   },
   {
    "duration": 3,
    "start_time": "2025-01-29T01:23:07.354Z"
   },
   {
    "duration": 207,
    "start_time": "2025-01-29T01:31:17.461Z"
   },
   {
    "duration": 11,
    "start_time": "2025-01-29T01:35:09.300Z"
   },
   {
    "duration": 10,
    "start_time": "2025-01-29T01:35:58.420Z"
   },
   {
    "duration": 3,
    "start_time": "2025-01-29T02:05:43.778Z"
   },
   {
    "duration": 16,
    "start_time": "2025-01-29T02:08:17.598Z"
   },
   {
    "duration": 11,
    "start_time": "2025-01-29T02:09:08.115Z"
   },
   {
    "duration": 823,
    "start_time": "2025-01-29T02:13:14.175Z"
   },
   {
    "duration": 163,
    "start_time": "2025-01-29T02:13:15.000Z"
   },
   {
    "duration": 98,
    "start_time": "2025-01-29T02:13:15.164Z"
   },
   {
    "duration": 25,
    "start_time": "2025-01-29T02:13:15.265Z"
   },
   {
    "duration": 10,
    "start_time": "2025-01-29T02:13:15.292Z"
   },
   {
    "duration": 8,
    "start_time": "2025-01-29T02:13:15.304Z"
   },
   {
    "duration": 20,
    "start_time": "2025-01-29T02:13:15.331Z"
   },
   {
    "duration": 9,
    "start_time": "2025-01-29T02:13:15.352Z"
   },
   {
    "duration": 6,
    "start_time": "2025-01-29T02:13:15.362Z"
   },
   {
    "duration": 8,
    "start_time": "2025-01-29T02:13:15.371Z"
   },
   {
    "duration": 4,
    "start_time": "2025-01-29T02:13:15.381Z"
   },
   {
    "duration": 5,
    "start_time": "2025-01-29T02:13:15.387Z"
   },
   {
    "duration": 41,
    "start_time": "2025-01-29T02:13:15.394Z"
   },
   {
    "duration": 11,
    "start_time": "2025-01-29T02:13:15.436Z"
   },
   {
    "duration": 9,
    "start_time": "2025-01-29T02:13:15.448Z"
   },
   {
    "duration": 103,
    "start_time": "2025-01-29T02:13:15.459Z"
   },
   {
    "duration": 8,
    "start_time": "2025-01-29T02:13:15.564Z"
   },
   {
    "duration": 114,
    "start_time": "2025-01-29T02:13:15.574Z"
   },
   {
    "duration": 14,
    "start_time": "2025-01-29T02:13:15.690Z"
   },
   {
    "duration": 59,
    "start_time": "2025-01-29T02:13:15.705Z"
   },
   {
    "duration": 9,
    "start_time": "2025-01-29T02:13:15.766Z"
   },
   {
    "duration": 65,
    "start_time": "2025-01-29T02:13:15.776Z"
   },
   {
    "duration": 12,
    "start_time": "2025-01-29T02:13:15.842Z"
   },
   {
    "duration": 83,
    "start_time": "2025-01-29T02:13:15.856Z"
   },
   {
    "duration": 8,
    "start_time": "2025-01-29T02:13:15.942Z"
   },
   {
    "duration": 95,
    "start_time": "2025-01-29T02:13:15.951Z"
   },
   {
    "duration": 25029,
    "start_time": "2025-01-29T02:13:16.047Z"
   },
   {
    "duration": 7,
    "start_time": "2025-01-29T02:13:41.081Z"
   },
   {
    "duration": 85,
    "start_time": "2025-01-29T02:13:41.090Z"
   },
   {
    "duration": 13,
    "start_time": "2025-01-29T02:13:41.177Z"
   },
   {
    "duration": 55,
    "start_time": "2025-01-29T02:13:41.192Z"
   },
   {
    "duration": 431,
    "start_time": "2025-01-29T02:13:41.249Z"
   },
   {
    "duration": 0,
    "start_time": "2025-01-29T02:13:41.682Z"
   },
   {
    "duration": 0,
    "start_time": "2025-01-29T02:13:41.683Z"
   },
   {
    "duration": 0,
    "start_time": "2025-01-29T02:13:41.685Z"
   },
   {
    "duration": 1,
    "start_time": "2025-01-29T02:13:41.685Z"
   },
   {
    "duration": 0,
    "start_time": "2025-01-29T02:13:41.686Z"
   },
   {
    "duration": 0,
    "start_time": "2025-01-29T02:13:41.688Z"
   },
   {
    "duration": 0,
    "start_time": "2025-01-29T02:13:41.688Z"
   },
   {
    "duration": 0,
    "start_time": "2025-01-29T02:13:41.689Z"
   },
   {
    "duration": 0,
    "start_time": "2025-01-29T02:13:41.690Z"
   },
   {
    "duration": 0,
    "start_time": "2025-01-29T02:13:41.691Z"
   },
   {
    "duration": 0,
    "start_time": "2025-01-29T02:13:41.692Z"
   },
   {
    "duration": 0,
    "start_time": "2025-01-29T02:13:41.693Z"
   },
   {
    "duration": 0,
    "start_time": "2025-01-29T02:13:41.694Z"
   },
   {
    "duration": 0,
    "start_time": "2025-01-29T02:13:41.695Z"
   },
   {
    "duration": 0,
    "start_time": "2025-01-29T02:13:41.696Z"
   },
   {
    "duration": 0,
    "start_time": "2025-01-29T02:13:41.697Z"
   },
   {
    "duration": 0,
    "start_time": "2025-01-29T02:13:41.698Z"
   },
   {
    "duration": 0,
    "start_time": "2025-01-29T02:13:41.699Z"
   },
   {
    "duration": 0,
    "start_time": "2025-01-29T02:13:41.700Z"
   },
   {
    "duration": 0,
    "start_time": "2025-01-29T02:13:41.701Z"
   },
   {
    "duration": 0,
    "start_time": "2025-01-29T02:13:41.702Z"
   },
   {
    "duration": 0,
    "start_time": "2025-01-29T02:13:41.732Z"
   },
   {
    "duration": 0,
    "start_time": "2025-01-29T02:13:41.734Z"
   },
   {
    "duration": 0,
    "start_time": "2025-01-29T02:13:41.735Z"
   },
   {
    "duration": 0,
    "start_time": "2025-01-29T02:13:41.736Z"
   },
   {
    "duration": 0,
    "start_time": "2025-01-29T02:13:41.740Z"
   },
   {
    "duration": 0,
    "start_time": "2025-01-29T02:13:41.741Z"
   },
   {
    "duration": 0,
    "start_time": "2025-01-29T02:13:41.742Z"
   },
   {
    "duration": 9,
    "start_time": "2025-01-29T02:14:44.340Z"
   },
   {
    "duration": 25193,
    "start_time": "2025-01-29T02:15:56.118Z"
   },
   {
    "duration": 8,
    "start_time": "2025-01-29T02:16:30.986Z"
   },
   {
    "duration": 8,
    "start_time": "2025-01-29T02:17:57.471Z"
   },
   {
    "duration": 9,
    "start_time": "2025-01-29T02:18:38.708Z"
   },
   {
    "duration": 53,
    "start_time": "2025-01-29T02:19:28.079Z"
   },
   {
    "duration": 847,
    "start_time": "2025-01-29T02:20:02.035Z"
   },
   {
    "duration": 156,
    "start_time": "2025-01-29T02:20:02.885Z"
   },
   {
    "duration": 76,
    "start_time": "2025-01-29T02:20:03.043Z"
   },
   {
    "duration": 30,
    "start_time": "2025-01-29T02:20:03.121Z"
   },
   {
    "duration": 8,
    "start_time": "2025-01-29T02:20:03.153Z"
   },
   {
    "duration": 8,
    "start_time": "2025-01-29T02:20:03.163Z"
   },
   {
    "duration": 20,
    "start_time": "2025-01-29T02:20:03.173Z"
   },
   {
    "duration": 7,
    "start_time": "2025-01-29T02:20:03.195Z"
   },
   {
    "duration": 30,
    "start_time": "2025-01-29T02:20:03.204Z"
   },
   {
    "duration": 8,
    "start_time": "2025-01-29T02:20:03.236Z"
   },
   {
    "duration": 5,
    "start_time": "2025-01-29T02:20:03.246Z"
   },
   {
    "duration": 6,
    "start_time": "2025-01-29T02:20:03.252Z"
   },
   {
    "duration": 5,
    "start_time": "2025-01-29T02:20:03.261Z"
   },
   {
    "duration": 10,
    "start_time": "2025-01-29T02:20:03.270Z"
   },
   {
    "duration": 50,
    "start_time": "2025-01-29T02:20:03.282Z"
   },
   {
    "duration": 98,
    "start_time": "2025-01-29T02:20:03.334Z"
   },
   {
    "duration": 9,
    "start_time": "2025-01-29T02:20:03.434Z"
   },
   {
    "duration": 106,
    "start_time": "2025-01-29T02:20:03.445Z"
   },
   {
    "duration": 18,
    "start_time": "2025-01-29T02:20:03.552Z"
   },
   {
    "duration": 63,
    "start_time": "2025-01-29T02:20:03.573Z"
   },
   {
    "duration": 7,
    "start_time": "2025-01-29T02:20:03.638Z"
   },
   {
    "duration": 50,
    "start_time": "2025-01-29T02:20:03.647Z"
   },
   {
    "duration": 11,
    "start_time": "2025-01-29T02:20:03.698Z"
   },
   {
    "duration": 68,
    "start_time": "2025-01-29T02:20:03.731Z"
   },
   {
    "duration": 7,
    "start_time": "2025-01-29T02:20:03.801Z"
   },
   {
    "duration": 99,
    "start_time": "2025-01-29T02:20:03.809Z"
   },
   {
    "duration": 8,
    "start_time": "2025-01-29T02:20:03.910Z"
   },
   {
    "duration": 7,
    "start_time": "2025-01-29T02:20:03.931Z"
   },
   {
    "duration": 71,
    "start_time": "2025-01-29T02:20:03.940Z"
   },
   {
    "duration": 25,
    "start_time": "2025-01-29T02:20:04.013Z"
   },
   {
    "duration": 42,
    "start_time": "2025-01-29T02:20:04.040Z"
   },
   {
    "duration": 117,
    "start_time": "2025-01-29T02:20:04.084Z"
   },
   {
    "duration": 32,
    "start_time": "2025-01-29T02:20:04.203Z"
   },
   {
    "duration": 12,
    "start_time": "2025-01-29T02:20:04.237Z"
   },
   {
    "duration": 8,
    "start_time": "2025-01-29T02:20:04.251Z"
   },
   {
    "duration": 802,
    "start_time": "2025-01-29T02:20:04.260Z"
   },
   {
    "duration": 0,
    "start_time": "2025-01-29T02:20:05.065Z"
   },
   {
    "duration": 0,
    "start_time": "2025-01-29T02:20:05.067Z"
   },
   {
    "duration": 0,
    "start_time": "2025-01-29T02:20:05.068Z"
   },
   {
    "duration": 0,
    "start_time": "2025-01-29T02:20:05.070Z"
   },
   {
    "duration": 0,
    "start_time": "2025-01-29T02:20:05.071Z"
   },
   {
    "duration": 0,
    "start_time": "2025-01-29T02:20:05.072Z"
   },
   {
    "duration": 0,
    "start_time": "2025-01-29T02:20:05.074Z"
   },
   {
    "duration": 0,
    "start_time": "2025-01-29T02:20:05.075Z"
   },
   {
    "duration": 0,
    "start_time": "2025-01-29T02:20:05.077Z"
   },
   {
    "duration": 0,
    "start_time": "2025-01-29T02:20:05.078Z"
   },
   {
    "duration": 0,
    "start_time": "2025-01-29T02:20:05.080Z"
   },
   {
    "duration": 0,
    "start_time": "2025-01-29T02:20:05.082Z"
   },
   {
    "duration": 0,
    "start_time": "2025-01-29T02:20:05.083Z"
   },
   {
    "duration": 0,
    "start_time": "2025-01-29T02:20:05.084Z"
   },
   {
    "duration": 0,
    "start_time": "2025-01-29T02:20:05.084Z"
   },
   {
    "duration": 0,
    "start_time": "2025-01-29T02:20:05.086Z"
   },
   {
    "duration": 0,
    "start_time": "2025-01-29T02:20:05.087Z"
   },
   {
    "duration": 0,
    "start_time": "2025-01-29T02:20:05.087Z"
   },
   {
    "duration": 0,
    "start_time": "2025-01-29T02:20:05.088Z"
   },
   {
    "duration": 0,
    "start_time": "2025-01-29T02:20:05.089Z"
   },
   {
    "duration": 0,
    "start_time": "2025-01-29T02:20:05.091Z"
   },
   {
    "duration": 0,
    "start_time": "2025-01-29T02:20:05.132Z"
   },
   {
    "duration": 0,
    "start_time": "2025-01-29T02:20:05.133Z"
   },
   {
    "duration": 0,
    "start_time": "2025-01-29T02:20:05.134Z"
   },
   {
    "duration": 59,
    "start_time": "2025-01-29T02:20:41.923Z"
   },
   {
    "duration": 4,
    "start_time": "2025-01-29T02:23:56.495Z"
   },
   {
    "duration": 98,
    "start_time": "2025-01-29T02:25:09.605Z"
   },
   {
    "duration": 15,
    "start_time": "2025-01-29T02:27:16.732Z"
   },
   {
    "duration": 85,
    "start_time": "2025-01-29T02:28:01.419Z"
   },
   {
    "duration": 54,
    "start_time": "2025-01-29T02:33:52.324Z"
   },
   {
    "duration": 90,
    "start_time": "2025-01-29T02:35:19.779Z"
   },
   {
    "duration": 5,
    "start_time": "2025-01-29T02:39:28.204Z"
   },
   {
    "duration": 43,
    "start_time": "2025-01-29T02:39:32.959Z"
   },
   {
    "duration": 101,
    "start_time": "2025-01-29T02:40:44.474Z"
   },
   {
    "duration": 49,
    "start_time": "2025-01-29T02:41:20.147Z"
   },
   {
    "duration": 136,
    "start_time": "2025-01-29T02:42:12.276Z"
   },
   {
    "duration": 23,
    "start_time": "2025-01-29T02:42:24.106Z"
   },
   {
    "duration": 14,
    "start_time": "2025-01-29T02:42:38.410Z"
   },
   {
    "duration": 50,
    "start_time": "2025-01-29T02:43:13.669Z"
   },
   {
    "duration": 16,
    "start_time": "2025-01-29T02:48:54.724Z"
   },
   {
    "duration": 81,
    "start_time": "2025-01-29T02:49:16.093Z"
   },
   {
    "duration": 9,
    "start_time": "2025-01-29T02:56:28.617Z"
   },
   {
    "duration": 7,
    "start_time": "2025-01-29T02:56:51.780Z"
   },
   {
    "duration": 31,
    "start_time": "2025-01-29T02:56:57.832Z"
   },
   {
    "duration": 24,
    "start_time": "2025-01-29T02:57:03.298Z"
   },
   {
    "duration": 813,
    "start_time": "2025-01-29T02:58:00.593Z"
   },
   {
    "duration": 167,
    "start_time": "2025-01-29T02:58:01.408Z"
   },
   {
    "duration": 75,
    "start_time": "2025-01-29T02:58:01.577Z"
   },
   {
    "duration": 24,
    "start_time": "2025-01-29T02:58:01.655Z"
   },
   {
    "duration": 9,
    "start_time": "2025-01-29T02:58:01.681Z"
   },
   {
    "duration": 8,
    "start_time": "2025-01-29T02:58:01.691Z"
   },
   {
    "duration": 47,
    "start_time": "2025-01-29T02:58:01.700Z"
   },
   {
    "duration": 8,
    "start_time": "2025-01-29T02:58:01.749Z"
   },
   {
    "duration": 5,
    "start_time": "2025-01-29T02:58:01.759Z"
   },
   {
    "duration": 8,
    "start_time": "2025-01-29T02:58:01.768Z"
   },
   {
    "duration": 5,
    "start_time": "2025-01-29T02:58:01.778Z"
   },
   {
    "duration": 6,
    "start_time": "2025-01-29T02:58:01.784Z"
   },
   {
    "duration": 41,
    "start_time": "2025-01-29T02:58:01.791Z"
   },
   {
    "duration": 10,
    "start_time": "2025-01-29T02:58:01.834Z"
   },
   {
    "duration": 9,
    "start_time": "2025-01-29T02:58:01.847Z"
   },
   {
    "duration": 100,
    "start_time": "2025-01-29T02:58:01.857Z"
   },
   {
    "duration": 9,
    "start_time": "2025-01-29T02:58:01.961Z"
   },
   {
    "duration": 108,
    "start_time": "2025-01-29T02:58:01.972Z"
   },
   {
    "duration": 14,
    "start_time": "2025-01-29T02:58:02.082Z"
   },
   {
    "duration": 70,
    "start_time": "2025-01-29T02:58:02.099Z"
   },
   {
    "duration": 10,
    "start_time": "2025-01-29T02:58:02.170Z"
   },
   {
    "duration": 63,
    "start_time": "2025-01-29T02:58:02.181Z"
   },
   {
    "duration": 11,
    "start_time": "2025-01-29T02:58:02.246Z"
   },
   {
    "duration": 91,
    "start_time": "2025-01-29T02:58:02.259Z"
   },
   {
    "duration": 9,
    "start_time": "2025-01-29T02:58:02.351Z"
   },
   {
    "duration": 99,
    "start_time": "2025-01-29T02:58:02.362Z"
   },
   {
    "duration": 8,
    "start_time": "2025-01-29T02:58:02.463Z"
   },
   {
    "duration": 7,
    "start_time": "2025-01-29T02:58:02.476Z"
   },
   {
    "duration": 86,
    "start_time": "2025-01-29T02:58:02.485Z"
   },
   {
    "duration": 15,
    "start_time": "2025-01-29T02:58:02.573Z"
   },
   {
    "duration": 54,
    "start_time": "2025-01-29T02:58:02.590Z"
   },
   {
    "duration": 107,
    "start_time": "2025-01-29T02:58:02.646Z"
   },
   {
    "duration": 26,
    "start_time": "2025-01-29T02:58:02.755Z"
   },
   {
    "duration": 14,
    "start_time": "2025-01-29T02:58:02.783Z"
   },
   {
    "duration": 7,
    "start_time": "2025-01-29T02:58:02.799Z"
   },
   {
    "duration": 16,
    "start_time": "2025-01-29T02:58:02.831Z"
   },
   {
    "duration": 83,
    "start_time": "2025-01-29T02:58:02.848Z"
   },
   {
    "duration": 10,
    "start_time": "2025-01-29T02:58:02.933Z"
   },
   {
    "duration": 308,
    "start_time": "2025-01-29T02:58:02.945Z"
   },
   {
    "duration": 308,
    "start_time": "2025-01-29T02:58:03.255Z"
   },
   {
    "duration": 290,
    "start_time": "2025-01-29T02:58:03.565Z"
   },
   {
    "duration": 9,
    "start_time": "2025-01-29T02:58:03.858Z"
   },
   {
    "duration": 551,
    "start_time": "2025-01-29T02:58:03.869Z"
   },
   {
    "duration": 366,
    "start_time": "2025-01-29T02:58:04.422Z"
   },
   {
    "duration": 11,
    "start_time": "2025-01-29T02:58:04.789Z"
   },
   {
    "duration": 321,
    "start_time": "2025-01-29T02:58:04.801Z"
   },
   {
    "duration": 2,
    "start_time": "2025-01-29T02:58:05.131Z"
   },
   {
    "duration": 12,
    "start_time": "2025-01-29T02:58:05.135Z"
   },
   {
    "duration": 8,
    "start_time": "2025-01-29T02:58:05.148Z"
   },
   {
    "duration": 280,
    "start_time": "2025-01-29T02:58:05.158Z"
   },
   {
    "duration": 14,
    "start_time": "2025-01-29T02:58:05.440Z"
   },
   {
    "duration": 287,
    "start_time": "2025-01-29T02:58:05.456Z"
   },
   {
    "duration": 11,
    "start_time": "2025-01-29T02:58:05.745Z"
   },
   {
    "duration": 5,
    "start_time": "2025-01-29T02:58:05.758Z"
   },
   {
    "duration": 311,
    "start_time": "2025-01-29T02:58:05.764Z"
   },
   {
    "duration": 6,
    "start_time": "2025-01-29T02:58:06.077Z"
   },
   {
    "duration": 316,
    "start_time": "2025-01-29T02:58:06.084Z"
   },
   {
    "duration": 6,
    "start_time": "2025-01-29T02:58:06.402Z"
   },
   {
    "duration": 21,
    "start_time": "2025-01-29T02:58:06.410Z"
   },
   {
    "duration": 6,
    "start_time": "2025-01-29T02:58:06.433Z"
   },
   {
    "duration": 4,
    "start_time": "2025-01-29T02:58:06.441Z"
   },
   {
    "duration": 9,
    "start_time": "2025-01-29T03:13:46.375Z"
   },
   {
    "duration": 849,
    "start_time": "2025-01-29T03:36:53.241Z"
   },
   {
    "duration": 157,
    "start_time": "2025-01-29T03:36:54.092Z"
   },
   {
    "duration": 75,
    "start_time": "2025-01-29T03:36:54.251Z"
   },
   {
    "duration": 23,
    "start_time": "2025-01-29T03:36:54.332Z"
   },
   {
    "duration": 9,
    "start_time": "2025-01-29T03:36:54.356Z"
   },
   {
    "duration": 8,
    "start_time": "2025-01-29T03:36:54.366Z"
   },
   {
    "duration": 19,
    "start_time": "2025-01-29T03:36:54.375Z"
   },
   {
    "duration": 36,
    "start_time": "2025-01-29T03:36:54.396Z"
   },
   {
    "duration": 7,
    "start_time": "2025-01-29T03:36:54.433Z"
   },
   {
    "duration": 7,
    "start_time": "2025-01-29T03:36:54.443Z"
   },
   {
    "duration": 4,
    "start_time": "2025-01-29T03:36:54.452Z"
   },
   {
    "duration": 5,
    "start_time": "2025-01-29T03:36:54.458Z"
   },
   {
    "duration": 6,
    "start_time": "2025-01-29T03:36:54.464Z"
   },
   {
    "duration": 11,
    "start_time": "2025-01-29T03:36:54.471Z"
   },
   {
    "duration": 9,
    "start_time": "2025-01-29T03:36:54.483Z"
   },
   {
    "duration": 86,
    "start_time": "2025-01-29T03:36:54.531Z"
   },
   {
    "duration": 17,
    "start_time": "2025-01-29T03:36:54.619Z"
   },
   {
    "duration": 106,
    "start_time": "2025-01-29T03:36:54.638Z"
   },
   {
    "duration": 16,
    "start_time": "2025-01-29T03:36:54.746Z"
   },
   {
    "duration": 46,
    "start_time": "2025-01-29T03:36:54.764Z"
   },
   {
    "duration": 25,
    "start_time": "2025-01-29T03:36:54.812Z"
   },
   {
    "duration": 52,
    "start_time": "2025-01-29T03:36:54.838Z"
   },
   {
    "duration": 11,
    "start_time": "2025-01-29T03:36:54.891Z"
   },
   {
    "duration": 92,
    "start_time": "2025-01-29T03:36:54.904Z"
   },
   {
    "duration": 6,
    "start_time": "2025-01-29T03:36:54.998Z"
   },
   {
    "duration": 98,
    "start_time": "2025-01-29T03:36:55.006Z"
   },
   {
    "duration": 9,
    "start_time": "2025-01-29T03:36:55.106Z"
   },
   {
    "duration": 15,
    "start_time": "2025-01-29T03:36:55.120Z"
   },
   {
    "duration": 69,
    "start_time": "2025-01-29T03:36:55.136Z"
   },
   {
    "duration": 34,
    "start_time": "2025-01-29T03:36:55.207Z"
   },
   {
    "duration": 42,
    "start_time": "2025-01-29T03:36:55.243Z"
   },
   {
    "duration": 110,
    "start_time": "2025-01-29T03:36:55.286Z"
   },
   {
    "duration": 33,
    "start_time": "2025-01-29T03:36:55.398Z"
   },
   {
    "duration": 13,
    "start_time": "2025-01-29T03:36:55.433Z"
   },
   {
    "duration": 9,
    "start_time": "2025-01-29T03:36:55.448Z"
   },
   {
    "duration": 15,
    "start_time": "2025-01-29T03:36:55.459Z"
   },
   {
    "duration": 94,
    "start_time": "2025-01-29T03:36:55.476Z"
   },
   {
    "duration": 10,
    "start_time": "2025-01-29T03:36:55.572Z"
   },
   {
    "duration": 349,
    "start_time": "2025-01-29T03:36:55.583Z"
   },
   {
    "duration": 279,
    "start_time": "2025-01-29T03:36:55.934Z"
   },
   {
    "duration": 310,
    "start_time": "2025-01-29T03:36:56.215Z"
   },
   {
    "duration": 9,
    "start_time": "2025-01-29T03:36:56.531Z"
   },
   {
    "duration": 502,
    "start_time": "2025-01-29T03:36:56.543Z"
   },
   {
    "duration": 383,
    "start_time": "2025-01-29T03:36:57.048Z"
   },
   {
    "duration": 11,
    "start_time": "2025-01-29T03:36:57.433Z"
   },
   {
    "duration": 375,
    "start_time": "2025-01-29T03:36:57.445Z"
   },
   {
    "duration": 9,
    "start_time": "2025-01-29T03:36:57.822Z"
   },
   {
    "duration": 11,
    "start_time": "2025-01-29T03:36:57.833Z"
   },
   {
    "duration": 9,
    "start_time": "2025-01-29T03:36:57.846Z"
   },
   {
    "duration": 281,
    "start_time": "2025-01-29T03:36:57.856Z"
   },
   {
    "duration": 10,
    "start_time": "2025-01-29T03:36:58.141Z"
   },
   {
    "duration": 272,
    "start_time": "2025-01-29T03:36:58.153Z"
   },
   {
    "duration": 11,
    "start_time": "2025-01-29T03:36:58.430Z"
   },
   {
    "duration": 6,
    "start_time": "2025-01-29T03:36:58.443Z"
   },
   {
    "duration": 307,
    "start_time": "2025-01-29T03:36:58.450Z"
   },
   {
    "duration": 7,
    "start_time": "2025-01-29T03:36:58.758Z"
   },
   {
    "duration": 293,
    "start_time": "2025-01-29T03:36:58.767Z"
   },
   {
    "duration": 8,
    "start_time": "2025-01-29T03:36:59.062Z"
   },
   {
    "duration": 9,
    "start_time": "2025-01-29T03:36:59.072Z"
   },
   {
    "duration": 8,
    "start_time": "2025-01-29T03:36:59.082Z"
   },
   {
    "duration": 5,
    "start_time": "2025-01-29T03:36:59.091Z"
   },
   {
    "duration": 8,
    "start_time": "2025-01-29T14:23:50.086Z"
   },
   {
    "duration": 156,
    "start_time": "2025-01-29T14:30:12.089Z"
   },
   {
    "duration": 2535,
    "start_time": "2025-01-29T14:30:54.068Z"
   },
   {
    "duration": 217,
    "start_time": "2025-01-29T14:30:56.605Z"
   },
   {
    "duration": 77,
    "start_time": "2025-01-29T14:30:56.823Z"
   },
   {
    "duration": 37,
    "start_time": "2025-01-29T14:30:56.903Z"
   },
   {
    "duration": 9,
    "start_time": "2025-01-29T14:30:56.942Z"
   },
   {
    "duration": 8,
    "start_time": "2025-01-29T14:30:56.952Z"
   },
   {
    "duration": 20,
    "start_time": "2025-01-29T14:30:56.962Z"
   },
   {
    "duration": 7,
    "start_time": "2025-01-29T14:30:56.984Z"
   },
   {
    "duration": 6,
    "start_time": "2025-01-29T14:30:56.992Z"
   },
   {
    "duration": 35,
    "start_time": "2025-01-29T14:30:57.002Z"
   },
   {
    "duration": 5,
    "start_time": "2025-01-29T14:30:57.039Z"
   },
   {
    "duration": 7,
    "start_time": "2025-01-29T14:30:57.045Z"
   },
   {
    "duration": 5,
    "start_time": "2025-01-29T14:30:57.053Z"
   },
   {
    "duration": 10,
    "start_time": "2025-01-29T14:30:57.060Z"
   },
   {
    "duration": 9,
    "start_time": "2025-01-29T14:30:57.071Z"
   },
   {
    "duration": 120,
    "start_time": "2025-01-29T14:30:57.082Z"
   },
   {
    "duration": 8,
    "start_time": "2025-01-29T14:30:57.204Z"
   },
   {
    "duration": 107,
    "start_time": "2025-01-29T14:30:57.213Z"
   },
   {
    "duration": 16,
    "start_time": "2025-01-29T14:30:57.322Z"
   },
   {
    "duration": 46,
    "start_time": "2025-01-29T14:30:57.339Z"
   },
   {
    "duration": 8,
    "start_time": "2025-01-29T14:30:57.386Z"
   },
   {
    "duration": 66,
    "start_time": "2025-01-29T14:30:57.396Z"
   },
   {
    "duration": 11,
    "start_time": "2025-01-29T14:30:57.464Z"
   },
   {
    "duration": 83,
    "start_time": "2025-01-29T14:30:57.477Z"
   },
   {
    "duration": 6,
    "start_time": "2025-01-29T14:30:57.562Z"
   },
   {
    "duration": 111,
    "start_time": "2025-01-29T14:30:57.569Z"
   },
   {
    "duration": 10,
    "start_time": "2025-01-29T14:30:57.681Z"
   },
   {
    "duration": 7,
    "start_time": "2025-01-29T14:30:57.694Z"
   },
   {
    "duration": 45,
    "start_time": "2025-01-29T14:31:15.765Z"
   },
   {
    "duration": 38,
    "start_time": "2025-01-29T14:31:57.474Z"
   },
   {
    "duration": 45,
    "start_time": "2025-01-29T14:32:02.943Z"
   },
   {
    "duration": 76,
    "start_time": "2025-01-29T14:32:27.130Z"
   },
   {
    "duration": 106,
    "start_time": "2025-01-29T14:32:32.739Z"
   },
   {
    "duration": 14,
    "start_time": "2025-01-29T14:32:34.721Z"
   },
   {
    "duration": 45,
    "start_time": "2025-01-29T14:32:39.473Z"
   },
   {
    "duration": 13,
    "start_time": "2025-01-29T14:32:42.363Z"
   },
   {
    "duration": 782,
    "start_time": "2025-01-29T14:35:25.606Z"
   },
   {
    "duration": 204,
    "start_time": "2025-01-29T14:35:26.390Z"
   },
   {
    "duration": 80,
    "start_time": "2025-01-29T14:35:26.596Z"
   },
   {
    "duration": 24,
    "start_time": "2025-01-29T14:35:26.679Z"
   },
   {
    "duration": 8,
    "start_time": "2025-01-29T14:35:26.705Z"
   },
   {
    "duration": 20,
    "start_time": "2025-01-29T14:35:26.715Z"
   },
   {
    "duration": 20,
    "start_time": "2025-01-29T14:35:26.737Z"
   },
   {
    "duration": 7,
    "start_time": "2025-01-29T14:35:26.759Z"
   },
   {
    "duration": 5,
    "start_time": "2025-01-29T14:35:26.768Z"
   },
   {
    "duration": 8,
    "start_time": "2025-01-29T14:35:26.776Z"
   },
   {
    "duration": 4,
    "start_time": "2025-01-29T14:35:26.786Z"
   },
   {
    "duration": 42,
    "start_time": "2025-01-29T14:35:26.791Z"
   },
   {
    "duration": 5,
    "start_time": "2025-01-29T14:35:26.835Z"
   },
   {
    "duration": 10,
    "start_time": "2025-01-29T14:35:26.841Z"
   },
   {
    "duration": 10,
    "start_time": "2025-01-29T14:35:26.852Z"
   },
   {
    "duration": 113,
    "start_time": "2025-01-29T14:35:26.863Z"
   },
   {
    "duration": 8,
    "start_time": "2025-01-29T14:35:26.978Z"
   },
   {
    "duration": 107,
    "start_time": "2025-01-29T14:35:26.988Z"
   },
   {
    "duration": 16,
    "start_time": "2025-01-29T14:35:27.096Z"
   },
   {
    "duration": 58,
    "start_time": "2025-01-29T14:35:27.114Z"
   },
   {
    "duration": 8,
    "start_time": "2025-01-29T14:35:27.173Z"
   },
   {
    "duration": 62,
    "start_time": "2025-01-29T14:35:27.183Z"
   },
   {
    "duration": 10,
    "start_time": "2025-01-29T14:35:27.247Z"
   },
   {
    "duration": 79,
    "start_time": "2025-01-29T14:35:27.259Z"
   },
   {
    "duration": 6,
    "start_time": "2025-01-29T14:35:27.340Z"
   },
   {
    "duration": 95,
    "start_time": "2025-01-29T14:35:27.348Z"
   },
   {
    "duration": 9,
    "start_time": "2025-01-29T14:35:27.445Z"
   },
   {
    "duration": 8,
    "start_time": "2025-01-29T14:35:27.458Z"
   },
   {
    "duration": 704,
    "start_time": "2025-01-29T14:35:27.467Z"
   },
   {
    "duration": 0,
    "start_time": "2025-01-29T14:35:28.173Z"
   },
   {
    "duration": 0,
    "start_time": "2025-01-29T14:35:28.174Z"
   },
   {
    "duration": 0,
    "start_time": "2025-01-29T14:35:28.176Z"
   },
   {
    "duration": 0,
    "start_time": "2025-01-29T14:35:28.176Z"
   },
   {
    "duration": 0,
    "start_time": "2025-01-29T14:35:28.178Z"
   },
   {
    "duration": 0,
    "start_time": "2025-01-29T14:35:28.178Z"
   },
   {
    "duration": 0,
    "start_time": "2025-01-29T14:35:28.180Z"
   },
   {
    "duration": 0,
    "start_time": "2025-01-29T14:35:28.181Z"
   },
   {
    "duration": 0,
    "start_time": "2025-01-29T14:35:28.182Z"
   },
   {
    "duration": 0,
    "start_time": "2025-01-29T14:35:28.183Z"
   },
   {
    "duration": 0,
    "start_time": "2025-01-29T14:35:28.184Z"
   },
   {
    "duration": 0,
    "start_time": "2025-01-29T14:35:28.186Z"
   },
   {
    "duration": 0,
    "start_time": "2025-01-29T14:35:28.187Z"
   },
   {
    "duration": 0,
    "start_time": "2025-01-29T14:35:28.188Z"
   },
   {
    "duration": 0,
    "start_time": "2025-01-29T14:35:28.189Z"
   },
   {
    "duration": 0,
    "start_time": "2025-01-29T14:35:28.190Z"
   },
   {
    "duration": 0,
    "start_time": "2025-01-29T14:35:28.192Z"
   },
   {
    "duration": 0,
    "start_time": "2025-01-29T14:35:28.192Z"
   },
   {
    "duration": 0,
    "start_time": "2025-01-29T14:35:28.193Z"
   },
   {
    "duration": 0,
    "start_time": "2025-01-29T14:35:28.194Z"
   },
   {
    "duration": 0,
    "start_time": "2025-01-29T14:35:28.231Z"
   },
   {
    "duration": 0,
    "start_time": "2025-01-29T14:35:28.232Z"
   },
   {
    "duration": 0,
    "start_time": "2025-01-29T14:35:28.233Z"
   },
   {
    "duration": 0,
    "start_time": "2025-01-29T14:35:28.234Z"
   },
   {
    "duration": 0,
    "start_time": "2025-01-29T14:35:28.235Z"
   },
   {
    "duration": 0,
    "start_time": "2025-01-29T14:35:28.236Z"
   },
   {
    "duration": 0,
    "start_time": "2025-01-29T14:35:28.237Z"
   },
   {
    "duration": 0,
    "start_time": "2025-01-29T14:35:28.238Z"
   },
   {
    "duration": 0,
    "start_time": "2025-01-29T14:35:28.239Z"
   },
   {
    "duration": 0,
    "start_time": "2025-01-29T14:35:28.241Z"
   },
   {
    "duration": 0,
    "start_time": "2025-01-29T14:35:28.242Z"
   },
   {
    "duration": 0,
    "start_time": "2025-01-29T14:35:28.243Z"
   },
   {
    "duration": 14,
    "start_time": "2025-01-29T14:38:02.046Z"
   },
   {
    "duration": 55,
    "start_time": "2025-01-29T14:43:11.585Z"
   },
   {
    "duration": 58,
    "start_time": "2025-01-29T14:43:21.701Z"
   },
   {
    "duration": 50,
    "start_time": "2025-01-29T14:43:38.589Z"
   },
   {
    "duration": 49,
    "start_time": "2025-01-29T14:43:56.439Z"
   },
   {
    "duration": 22,
    "start_time": "2025-01-29T14:44:17.719Z"
   },
   {
    "duration": 57,
    "start_time": "2025-01-29T14:44:28.843Z"
   },
   {
    "duration": 49,
    "start_time": "2025-01-29T14:44:34.407Z"
   },
   {
    "duration": 8,
    "start_time": "2025-01-29T14:44:45.662Z"
   },
   {
    "duration": 172,
    "start_time": "2025-01-29T14:46:24.396Z"
   },
   {
    "duration": 95,
    "start_time": "2025-01-29T14:46:42.955Z"
   },
   {
    "duration": 14,
    "start_time": "2025-01-29T14:47:06.282Z"
   },
   {
    "duration": 5,
    "start_time": "2025-01-29T14:47:17.858Z"
   },
   {
    "duration": 164,
    "start_time": "2025-01-29T14:47:17.865Z"
   },
   {
    "duration": 79,
    "start_time": "2025-01-29T14:47:18.031Z"
   },
   {
    "duration": 34,
    "start_time": "2025-01-29T14:47:18.112Z"
   },
   {
    "duration": 7,
    "start_time": "2025-01-29T14:47:18.149Z"
   },
   {
    "duration": 9,
    "start_time": "2025-01-29T14:47:18.157Z"
   },
   {
    "duration": 24,
    "start_time": "2025-01-29T14:47:18.168Z"
   },
   {
    "duration": 9,
    "start_time": "2025-01-29T14:47:18.193Z"
   },
   {
    "duration": 7,
    "start_time": "2025-01-29T14:47:18.230Z"
   },
   {
    "duration": 9,
    "start_time": "2025-01-29T14:47:18.239Z"
   },
   {
    "duration": 5,
    "start_time": "2025-01-29T14:47:18.249Z"
   },
   {
    "duration": 6,
    "start_time": "2025-01-29T14:47:18.256Z"
   },
   {
    "duration": 5,
    "start_time": "2025-01-29T14:47:18.264Z"
   },
   {
    "duration": 10,
    "start_time": "2025-01-29T14:47:18.273Z"
   },
   {
    "duration": 47,
    "start_time": "2025-01-29T14:47:18.285Z"
   },
   {
    "duration": 117,
    "start_time": "2025-01-29T14:47:18.334Z"
   },
   {
    "duration": 8,
    "start_time": "2025-01-29T14:47:18.454Z"
   },
   {
    "duration": 109,
    "start_time": "2025-01-29T14:47:18.464Z"
   },
   {
    "duration": 14,
    "start_time": "2025-01-29T14:47:18.575Z"
   },
   {
    "duration": 63,
    "start_time": "2025-01-29T14:47:18.591Z"
   },
   {
    "duration": 9,
    "start_time": "2025-01-29T14:47:18.656Z"
   },
   {
    "duration": 66,
    "start_time": "2025-01-29T14:47:18.666Z"
   },
   {
    "duration": 12,
    "start_time": "2025-01-29T14:47:18.733Z"
   },
   {
    "duration": 68,
    "start_time": "2025-01-29T14:47:18.747Z"
   },
   {
    "duration": 7,
    "start_time": "2025-01-29T14:47:18.830Z"
   },
   {
    "duration": 100,
    "start_time": "2025-01-29T14:47:18.839Z"
   },
   {
    "duration": 14,
    "start_time": "2025-01-29T14:47:18.941Z"
   },
   {
    "duration": 7,
    "start_time": "2025-01-29T14:47:18.958Z"
   },
   {
    "duration": 8,
    "start_time": "2025-01-29T14:47:18.967Z"
   },
   {
    "duration": 116,
    "start_time": "2025-01-29T14:47:18.977Z"
   },
   {
    "duration": 14,
    "start_time": "2025-01-29T14:47:19.095Z"
   },
   {
    "duration": 0,
    "start_time": "2025-01-29T14:47:19.110Z"
   },
   {
    "duration": 0,
    "start_time": "2025-01-29T14:47:19.112Z"
   },
   {
    "duration": 206,
    "start_time": "2025-01-29T14:47:33.887Z"
   },
   {
    "duration": 90,
    "start_time": "2025-01-29T14:48:21.754Z"
   },
   {
    "duration": 43,
    "start_time": "2025-01-29T14:48:24.595Z"
   },
   {
    "duration": 336,
    "start_time": "2025-01-29T14:48:56.191Z"
   },
   {
    "duration": 48,
    "start_time": "2025-01-29T14:49:23.360Z"
   },
   {
    "duration": 59,
    "start_time": "2025-01-29T14:49:49.222Z"
   },
   {
    "duration": 47,
    "start_time": "2025-01-29T14:49:56.742Z"
   },
   {
    "duration": 14,
    "start_time": "2025-01-29T14:50:02.735Z"
   },
   {
    "duration": 47,
    "start_time": "2025-01-29T14:50:05.520Z"
   },
   {
    "duration": 123,
    "start_time": "2025-01-29T14:50:22.775Z"
   },
   {
    "duration": 48,
    "start_time": "2025-01-29T14:50:25.517Z"
   },
   {
    "duration": 25,
    "start_time": "2025-01-29T14:50:30.343Z"
   },
   {
    "duration": 821,
    "start_time": "2025-01-29T14:50:42.053Z"
   },
   {
    "duration": 158,
    "start_time": "2025-01-29T14:50:42.876Z"
   },
   {
    "duration": 79,
    "start_time": "2025-01-29T14:50:43.036Z"
   },
   {
    "duration": 32,
    "start_time": "2025-01-29T14:50:43.118Z"
   },
   {
    "duration": 9,
    "start_time": "2025-01-29T14:50:43.152Z"
   },
   {
    "duration": 8,
    "start_time": "2025-01-29T14:50:43.163Z"
   },
   {
    "duration": 28,
    "start_time": "2025-01-29T14:50:43.172Z"
   },
   {
    "duration": 30,
    "start_time": "2025-01-29T14:50:43.202Z"
   },
   {
    "duration": 9,
    "start_time": "2025-01-29T14:50:43.234Z"
   },
   {
    "duration": 7,
    "start_time": "2025-01-29T14:50:43.247Z"
   },
   {
    "duration": 5,
    "start_time": "2025-01-29T14:50:43.255Z"
   },
   {
    "duration": 6,
    "start_time": "2025-01-29T14:50:43.262Z"
   },
   {
    "duration": 6,
    "start_time": "2025-01-29T14:50:43.269Z"
   },
   {
    "duration": 10,
    "start_time": "2025-01-29T14:50:43.276Z"
   },
   {
    "duration": 46,
    "start_time": "2025-01-29T14:50:43.287Z"
   },
   {
    "duration": 84,
    "start_time": "2025-01-29T14:50:43.335Z"
   },
   {
    "duration": 9,
    "start_time": "2025-01-29T14:50:43.431Z"
   },
   {
    "duration": 109,
    "start_time": "2025-01-29T14:50:43.442Z"
   },
   {
    "duration": 14,
    "start_time": "2025-01-29T14:50:43.553Z"
   },
   {
    "duration": 44,
    "start_time": "2025-01-29T14:50:43.568Z"
   },
   {
    "duration": 22,
    "start_time": "2025-01-29T14:50:43.614Z"
   },
   {
    "duration": 51,
    "start_time": "2025-01-29T14:50:43.638Z"
   },
   {
    "duration": 11,
    "start_time": "2025-01-29T14:50:43.691Z"
   },
   {
    "duration": 88,
    "start_time": "2025-01-29T14:50:43.703Z"
   },
   {
    "duration": 7,
    "start_time": "2025-01-29T14:50:43.793Z"
   },
   {
    "duration": 99,
    "start_time": "2025-01-29T14:50:43.802Z"
   },
   {
    "duration": 15,
    "start_time": "2025-01-29T14:50:43.903Z"
   },
   {
    "duration": 11,
    "start_time": "2025-01-29T14:50:43.922Z"
   },
   {
    "duration": 8,
    "start_time": "2025-01-29T14:50:43.935Z"
   },
   {
    "duration": 154,
    "start_time": "2025-01-29T14:50:43.944Z"
   },
   {
    "duration": 53,
    "start_time": "2025-01-29T14:50:44.101Z"
   },
   {
    "duration": 40,
    "start_time": "2025-01-29T14:50:44.156Z"
   },
   {
    "duration": 60,
    "start_time": "2025-01-29T14:50:44.198Z"
   },
   {
    "duration": 24,
    "start_time": "2025-01-29T14:50:44.260Z"
   },
   {
    "duration": 13,
    "start_time": "2025-01-29T14:50:44.286Z"
   },
   {
    "duration": 8,
    "start_time": "2025-01-29T14:50:44.300Z"
   },
   {
    "duration": 35,
    "start_time": "2025-01-29T14:50:44.310Z"
   },
   {
    "duration": 829,
    "start_time": "2025-01-29T14:50:44.347Z"
   },
   {
    "duration": 0,
    "start_time": "2025-01-29T14:50:45.178Z"
   },
   {
    "duration": 0,
    "start_time": "2025-01-29T14:50:45.179Z"
   },
   {
    "duration": 0,
    "start_time": "2025-01-29T14:50:45.181Z"
   },
   {
    "duration": 0,
    "start_time": "2025-01-29T14:50:45.182Z"
   },
   {
    "duration": 0,
    "start_time": "2025-01-29T14:50:45.183Z"
   },
   {
    "duration": 0,
    "start_time": "2025-01-29T14:50:45.184Z"
   },
   {
    "duration": 0,
    "start_time": "2025-01-29T14:50:45.184Z"
   },
   {
    "duration": 0,
    "start_time": "2025-01-29T14:50:45.185Z"
   },
   {
    "duration": 0,
    "start_time": "2025-01-29T14:50:45.186Z"
   },
   {
    "duration": 0,
    "start_time": "2025-01-29T14:50:45.188Z"
   },
   {
    "duration": 0,
    "start_time": "2025-01-29T14:50:45.191Z"
   },
   {
    "duration": 0,
    "start_time": "2025-01-29T14:50:45.192Z"
   },
   {
    "duration": 0,
    "start_time": "2025-01-29T14:50:45.193Z"
   },
   {
    "duration": 0,
    "start_time": "2025-01-29T14:50:45.195Z"
   },
   {
    "duration": 0,
    "start_time": "2025-01-29T14:50:45.197Z"
   },
   {
    "duration": 0,
    "start_time": "2025-01-29T14:50:45.231Z"
   },
   {
    "duration": 0,
    "start_time": "2025-01-29T14:50:45.232Z"
   },
   {
    "duration": 0,
    "start_time": "2025-01-29T14:50:45.233Z"
   },
   {
    "duration": 0,
    "start_time": "2025-01-29T14:50:45.235Z"
   },
   {
    "duration": 0,
    "start_time": "2025-01-29T14:50:45.235Z"
   },
   {
    "duration": 0,
    "start_time": "2025-01-29T14:50:45.236Z"
   },
   {
    "duration": 0,
    "start_time": "2025-01-29T14:50:45.237Z"
   },
   {
    "duration": 0,
    "start_time": "2025-01-29T14:50:45.239Z"
   },
   {
    "duration": 0,
    "start_time": "2025-01-29T14:50:45.240Z"
   },
   {
    "duration": 20,
    "start_time": "2025-01-29T14:52:53.167Z"
   },
   {
    "duration": 79,
    "start_time": "2025-01-29T14:52:58.590Z"
   },
   {
    "duration": 792,
    "start_time": "2025-01-29T14:53:09.189Z"
   },
   {
    "duration": 158,
    "start_time": "2025-01-29T14:53:09.983Z"
   },
   {
    "duration": 76,
    "start_time": "2025-01-29T14:53:10.143Z"
   },
   {
    "duration": 28,
    "start_time": "2025-01-29T14:53:10.222Z"
   },
   {
    "duration": 8,
    "start_time": "2025-01-29T14:53:10.252Z"
   },
   {
    "duration": 8,
    "start_time": "2025-01-29T14:53:10.261Z"
   },
   {
    "duration": 20,
    "start_time": "2025-01-29T14:53:10.271Z"
   },
   {
    "duration": 8,
    "start_time": "2025-01-29T14:53:10.292Z"
   },
   {
    "duration": 32,
    "start_time": "2025-01-29T14:53:10.303Z"
   },
   {
    "duration": 8,
    "start_time": "2025-01-29T14:53:10.336Z"
   },
   {
    "duration": 4,
    "start_time": "2025-01-29T14:53:10.345Z"
   },
   {
    "duration": 6,
    "start_time": "2025-01-29T14:53:10.350Z"
   },
   {
    "duration": 6,
    "start_time": "2025-01-29T14:53:10.358Z"
   },
   {
    "duration": 10,
    "start_time": "2025-01-29T14:53:10.368Z"
   },
   {
    "duration": 10,
    "start_time": "2025-01-29T14:53:10.380Z"
   },
   {
    "duration": 140,
    "start_time": "2025-01-29T14:53:10.391Z"
   },
   {
    "duration": 8,
    "start_time": "2025-01-29T14:53:10.533Z"
   },
   {
    "duration": 105,
    "start_time": "2025-01-29T14:53:10.543Z"
   },
   {
    "duration": 14,
    "start_time": "2025-01-29T14:53:10.650Z"
   },
   {
    "duration": 45,
    "start_time": "2025-01-29T14:53:10.667Z"
   },
   {
    "duration": 23,
    "start_time": "2025-01-29T14:53:10.714Z"
   },
   {
    "duration": 52,
    "start_time": "2025-01-29T14:53:10.739Z"
   },
   {
    "duration": 12,
    "start_time": "2025-01-29T14:53:10.792Z"
   },
   {
    "duration": 93,
    "start_time": "2025-01-29T14:53:10.806Z"
   },
   {
    "duration": 7,
    "start_time": "2025-01-29T14:53:10.901Z"
   },
   {
    "duration": 100,
    "start_time": "2025-01-29T14:53:10.910Z"
   },
   {
    "duration": 20,
    "start_time": "2025-01-29T14:53:11.012Z"
   },
   {
    "duration": 6,
    "start_time": "2025-01-29T14:53:11.034Z"
   },
   {
    "duration": 7,
    "start_time": "2025-01-29T14:53:11.042Z"
   },
   {
    "duration": 161,
    "start_time": "2025-01-29T14:53:11.051Z"
   },
   {
    "duration": 47,
    "start_time": "2025-01-29T14:53:11.214Z"
   },
   {
    "duration": 37,
    "start_time": "2025-01-29T14:53:11.262Z"
   },
   {
    "duration": 62,
    "start_time": "2025-01-29T14:53:11.300Z"
   },
   {
    "duration": 21,
    "start_time": "2025-01-29T14:53:11.364Z"
   },
   {
    "duration": 11,
    "start_time": "2025-01-29T14:53:11.387Z"
   },
   {
    "duration": 31,
    "start_time": "2025-01-29T14:53:11.400Z"
   },
   {
    "duration": 15,
    "start_time": "2025-01-29T14:53:11.432Z"
   },
   {
    "duration": 90,
    "start_time": "2025-01-29T14:53:11.448Z"
   },
   {
    "duration": 10,
    "start_time": "2025-01-29T14:53:11.539Z"
   },
   {
    "duration": 319,
    "start_time": "2025-01-29T14:53:11.551Z"
   },
   {
    "duration": 302,
    "start_time": "2025-01-29T14:53:11.875Z"
   },
   {
    "duration": 300,
    "start_time": "2025-01-29T14:53:12.178Z"
   },
   {
    "duration": 10,
    "start_time": "2025-01-29T14:53:12.479Z"
   },
   {
    "duration": 559,
    "start_time": "2025-01-29T14:53:12.491Z"
   },
   {
    "duration": 411,
    "start_time": "2025-01-29T14:53:13.052Z"
   },
   {
    "duration": 10,
    "start_time": "2025-01-29T14:53:13.466Z"
   },
   {
    "duration": 282,
    "start_time": "2025-01-29T14:53:13.478Z"
   },
   {
    "duration": 2,
    "start_time": "2025-01-29T14:53:13.762Z"
   },
   {
    "duration": 12,
    "start_time": "2025-01-29T14:53:13.765Z"
   },
   {
    "duration": 9,
    "start_time": "2025-01-29T14:53:13.778Z"
   },
   {
    "duration": 310,
    "start_time": "2025-01-29T14:53:13.789Z"
   },
   {
    "duration": 8,
    "start_time": "2025-01-29T14:53:14.101Z"
   },
   {
    "duration": 296,
    "start_time": "2025-01-29T14:53:14.111Z"
   },
   {
    "duration": 10,
    "start_time": "2025-01-29T14:53:14.408Z"
   },
   {
    "duration": 6,
    "start_time": "2025-01-29T14:53:14.431Z"
   },
   {
    "duration": 280,
    "start_time": "2025-01-29T14:53:14.439Z"
   },
   {
    "duration": 14,
    "start_time": "2025-01-29T14:53:14.721Z"
   },
   {
    "duration": 274,
    "start_time": "2025-01-29T14:53:14.736Z"
   },
   {
    "duration": 7,
    "start_time": "2025-01-29T14:53:15.012Z"
   },
   {
    "duration": 8,
    "start_time": "2025-01-29T14:53:15.032Z"
   },
   {
    "duration": 6,
    "start_time": "2025-01-29T14:53:15.041Z"
   },
   {
    "duration": 3,
    "start_time": "2025-01-29T14:53:15.049Z"
   },
   {
    "duration": 18,
    "start_time": "2025-01-29T14:54:36.818Z"
   },
   {
    "duration": 809,
    "start_time": "2025-01-29T14:54:47.279Z"
   },
   {
    "duration": 157,
    "start_time": "2025-01-29T14:54:48.089Z"
   },
   {
    "duration": 73,
    "start_time": "2025-01-29T14:54:48.250Z"
   },
   {
    "duration": 34,
    "start_time": "2025-01-29T14:54:48.325Z"
   },
   {
    "duration": 9,
    "start_time": "2025-01-29T14:54:48.364Z"
   },
   {
    "duration": 10,
    "start_time": "2025-01-29T14:54:48.374Z"
   },
   {
    "duration": 22,
    "start_time": "2025-01-29T14:54:48.386Z"
   },
   {
    "duration": 27,
    "start_time": "2025-01-29T14:54:48.410Z"
   },
   {
    "duration": 5,
    "start_time": "2025-01-29T14:54:48.439Z"
   },
   {
    "duration": 8,
    "start_time": "2025-01-29T14:54:48.445Z"
   },
   {
    "duration": 4,
    "start_time": "2025-01-29T14:54:48.456Z"
   },
   {
    "duration": 6,
    "start_time": "2025-01-29T14:54:48.461Z"
   },
   {
    "duration": 6,
    "start_time": "2025-01-29T14:54:48.468Z"
   },
   {
    "duration": 12,
    "start_time": "2025-01-29T14:54:48.477Z"
   },
   {
    "duration": 46,
    "start_time": "2025-01-29T14:54:48.490Z"
   },
   {
    "duration": 100,
    "start_time": "2025-01-29T14:54:48.538Z"
   },
   {
    "duration": 9,
    "start_time": "2025-01-29T14:54:48.640Z"
   },
   {
    "duration": 108,
    "start_time": "2025-01-29T14:54:48.650Z"
   },
   {
    "duration": 14,
    "start_time": "2025-01-29T14:54:48.760Z"
   },
   {
    "duration": 57,
    "start_time": "2025-01-29T14:54:48.777Z"
   },
   {
    "duration": 7,
    "start_time": "2025-01-29T14:54:48.836Z"
   },
   {
    "duration": 50,
    "start_time": "2025-01-29T14:54:48.845Z"
   },
   {
    "duration": 12,
    "start_time": "2025-01-29T14:54:48.897Z"
   },
   {
    "duration": 69,
    "start_time": "2025-01-29T14:54:48.930Z"
   },
   {
    "duration": 7,
    "start_time": "2025-01-29T14:54:49.001Z"
   },
   {
    "duration": 96,
    "start_time": "2025-01-29T14:54:49.010Z"
   },
   {
    "duration": 27,
    "start_time": "2025-01-29T14:54:49.108Z"
   },
   {
    "duration": 8,
    "start_time": "2025-01-29T14:54:49.136Z"
   },
   {
    "duration": 8,
    "start_time": "2025-01-29T14:54:49.145Z"
   },
   {
    "duration": 149,
    "start_time": "2025-01-29T14:54:49.155Z"
   },
   {
    "duration": 48,
    "start_time": "2025-01-29T14:54:49.305Z"
   },
   {
    "duration": 43,
    "start_time": "2025-01-29T14:54:49.355Z"
   },
   {
    "duration": 66,
    "start_time": "2025-01-29T14:54:49.400Z"
   },
   {
    "duration": 19,
    "start_time": "2025-01-29T14:54:49.468Z"
   },
   {
    "duration": 12,
    "start_time": "2025-01-29T14:54:49.489Z"
   },
   {
    "duration": 7,
    "start_time": "2025-01-29T14:54:49.503Z"
   },
   {
    "duration": 14,
    "start_time": "2025-01-29T14:54:49.532Z"
   },
   {
    "duration": 83,
    "start_time": "2025-01-29T14:54:49.547Z"
   },
   {
    "duration": 9,
    "start_time": "2025-01-29T14:54:49.633Z"
   },
   {
    "duration": 296,
    "start_time": "2025-01-29T14:54:49.644Z"
   },
   {
    "duration": 319,
    "start_time": "2025-01-29T14:54:49.947Z"
   },
   {
    "duration": 292,
    "start_time": "2025-01-29T14:54:50.268Z"
   },
   {
    "duration": 8,
    "start_time": "2025-01-29T14:54:50.562Z"
   },
   {
    "duration": 539,
    "start_time": "2025-01-29T14:54:50.572Z"
   },
   {
    "duration": 375,
    "start_time": "2025-01-29T14:54:51.113Z"
   },
   {
    "duration": 10,
    "start_time": "2025-01-29T14:54:51.490Z"
   },
   {
    "duration": 312,
    "start_time": "2025-01-29T14:54:51.502Z"
   },
   {
    "duration": 2,
    "start_time": "2025-01-29T14:54:51.816Z"
   },
   {
    "duration": 11,
    "start_time": "2025-01-29T14:54:51.831Z"
   },
   {
    "duration": 10,
    "start_time": "2025-01-29T14:54:51.844Z"
   },
   {
    "duration": 264,
    "start_time": "2025-01-29T14:54:51.856Z"
   },
   {
    "duration": 10,
    "start_time": "2025-01-29T14:54:52.132Z"
   },
   {
    "duration": 291,
    "start_time": "2025-01-29T14:54:52.143Z"
   },
   {
    "duration": 10,
    "start_time": "2025-01-29T14:54:52.436Z"
   },
   {
    "duration": 6,
    "start_time": "2025-01-29T14:54:52.447Z"
   },
   {
    "duration": 297,
    "start_time": "2025-01-29T14:54:52.455Z"
   },
   {
    "duration": 6,
    "start_time": "2025-01-29T14:54:52.754Z"
   },
   {
    "duration": 281,
    "start_time": "2025-01-29T14:54:52.761Z"
   },
   {
    "duration": 7,
    "start_time": "2025-01-29T14:54:53.043Z"
   },
   {
    "duration": 7,
    "start_time": "2025-01-29T14:54:53.052Z"
   },
   {
    "duration": 710,
    "start_time": "2025-01-29T14:54:53.060Z"
   },
   {
    "duration": 0,
    "start_time": "2025-01-29T14:54:53.772Z"
   },
   {
    "duration": 7,
    "start_time": "2025-01-29T14:57:21.389Z"
   },
   {
    "duration": 8,
    "start_time": "2025-01-29T14:57:26.704Z"
   },
   {
    "duration": 851,
    "start_time": "2025-01-29T14:57:36.139Z"
   },
   {
    "duration": 154,
    "start_time": "2025-01-29T14:57:36.992Z"
   },
   {
    "duration": 83,
    "start_time": "2025-01-29T14:57:37.148Z"
   },
   {
    "duration": 31,
    "start_time": "2025-01-29T14:57:37.235Z"
   },
   {
    "duration": 9,
    "start_time": "2025-01-29T14:57:37.267Z"
   },
   {
    "duration": 8,
    "start_time": "2025-01-29T14:57:37.277Z"
   },
   {
    "duration": 44,
    "start_time": "2025-01-29T14:57:37.287Z"
   },
   {
    "duration": 9,
    "start_time": "2025-01-29T14:57:37.333Z"
   },
   {
    "duration": 5,
    "start_time": "2025-01-29T14:57:37.344Z"
   },
   {
    "duration": 8,
    "start_time": "2025-01-29T14:57:37.352Z"
   },
   {
    "duration": 5,
    "start_time": "2025-01-29T14:57:37.361Z"
   },
   {
    "duration": 7,
    "start_time": "2025-01-29T14:57:37.367Z"
   },
   {
    "duration": 6,
    "start_time": "2025-01-29T14:57:37.375Z"
   },
   {
    "duration": 9,
    "start_time": "2025-01-29T14:57:37.382Z"
   },
   {
    "duration": 47,
    "start_time": "2025-01-29T14:57:37.393Z"
   },
   {
    "duration": 101,
    "start_time": "2025-01-29T14:57:37.442Z"
   },
   {
    "duration": 8,
    "start_time": "2025-01-29T14:57:37.545Z"
   },
   {
    "duration": 120,
    "start_time": "2025-01-29T14:57:37.554Z"
   },
   {
    "duration": 14,
    "start_time": "2025-01-29T14:57:37.676Z"
   },
   {
    "duration": 59,
    "start_time": "2025-01-29T14:57:37.692Z"
   },
   {
    "duration": 7,
    "start_time": "2025-01-29T14:57:37.753Z"
   },
   {
    "duration": 53,
    "start_time": "2025-01-29T14:57:37.761Z"
   },
   {
    "duration": 25,
    "start_time": "2025-01-29T14:57:37.815Z"
   },
   {
    "duration": 77,
    "start_time": "2025-01-29T14:57:37.842Z"
   },
   {
    "duration": 8,
    "start_time": "2025-01-29T14:57:37.931Z"
   },
   {
    "duration": 103,
    "start_time": "2025-01-29T14:57:37.941Z"
   },
   {
    "duration": 14,
    "start_time": "2025-01-29T14:57:38.046Z"
   },
   {
    "duration": 7,
    "start_time": "2025-01-29T14:57:38.065Z"
   },
   {
    "duration": 8,
    "start_time": "2025-01-29T14:57:38.073Z"
   },
   {
    "duration": 159,
    "start_time": "2025-01-29T14:57:38.083Z"
   },
   {
    "duration": 51,
    "start_time": "2025-01-29T14:57:38.244Z"
   },
   {
    "duration": 61,
    "start_time": "2025-01-29T14:57:38.297Z"
   },
   {
    "duration": 48,
    "start_time": "2025-01-29T14:57:38.360Z"
   },
   {
    "duration": 34,
    "start_time": "2025-01-29T14:57:38.409Z"
   },
   {
    "duration": 13,
    "start_time": "2025-01-29T14:57:38.444Z"
   },
   {
    "duration": 7,
    "start_time": "2025-01-29T14:57:38.459Z"
   },
   {
    "duration": 13,
    "start_time": "2025-01-29T14:57:38.468Z"
   },
   {
    "duration": 94,
    "start_time": "2025-01-29T14:57:38.483Z"
   },
   {
    "duration": 9,
    "start_time": "2025-01-29T14:57:38.579Z"
   },
   {
    "duration": 349,
    "start_time": "2025-01-29T14:57:38.589Z"
   },
   {
    "duration": 275,
    "start_time": "2025-01-29T14:57:38.941Z"
   },
   {
    "duration": 317,
    "start_time": "2025-01-29T14:57:39.219Z"
   },
   {
    "duration": 8,
    "start_time": "2025-01-29T14:57:39.539Z"
   },
   {
    "duration": 567,
    "start_time": "2025-01-29T14:57:39.548Z"
   },
   {
    "duration": 380,
    "start_time": "2025-01-29T14:57:40.117Z"
   },
   {
    "duration": 11,
    "start_time": "2025-01-29T14:57:40.498Z"
   },
   {
    "duration": 302,
    "start_time": "2025-01-29T14:57:40.510Z"
   },
   {
    "duration": 3,
    "start_time": "2025-01-29T14:57:40.814Z"
   },
   {
    "duration": 12,
    "start_time": "2025-01-29T14:57:40.831Z"
   },
   {
    "duration": 9,
    "start_time": "2025-01-29T14:57:40.844Z"
   },
   {
    "duration": 277,
    "start_time": "2025-01-29T14:57:40.854Z"
   },
   {
    "duration": 10,
    "start_time": "2025-01-29T14:57:41.134Z"
   },
   {
    "duration": 278,
    "start_time": "2025-01-29T14:57:41.145Z"
   },
   {
    "duration": 11,
    "start_time": "2025-01-29T14:57:41.430Z"
   },
   {
    "duration": 7,
    "start_time": "2025-01-29T14:57:41.443Z"
   },
   {
    "duration": 311,
    "start_time": "2025-01-29T14:57:41.451Z"
   },
   {
    "duration": 6,
    "start_time": "2025-01-29T14:57:41.764Z"
   },
   {
    "duration": 309,
    "start_time": "2025-01-29T14:57:41.772Z"
   },
   {
    "duration": 6,
    "start_time": "2025-01-29T14:57:42.083Z"
   },
   {
    "duration": 6,
    "start_time": "2025-01-29T14:57:42.092Z"
   },
   {
    "duration": 3,
    "start_time": "2025-01-29T14:57:42.100Z"
   }
  ],
  "colab": {
   "provenance": []
  },
  "kernelspec": {
   "display_name": "Python 3 (ipykernel)",
   "language": "python",
   "name": "python3"
  },
  "language_info": {
   "codemirror_mode": {
    "name": "ipython",
    "version": 3
   },
   "file_extension": ".py",
   "mimetype": "text/x-python",
   "name": "python",
   "nbconvert_exporter": "python",
   "pygments_lexer": "ipython3",
   "version": "3.9.19"
  },
  "toc": {
   "base_numbering": 1,
   "nav_menu": {},
   "number_sections": true,
   "sideBar": true,
   "skip_h1_title": false,
   "title_cell": "Table of Contents",
   "title_sidebar": "Contents",
   "toc_cell": false,
   "toc_position": {},
   "toc_section_display": true,
   "toc_window_display": false
  }
 },
 "nbformat": 4,
 "nbformat_minor": 1
}
