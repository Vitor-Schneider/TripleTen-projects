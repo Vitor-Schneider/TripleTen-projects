{
 "cells": [
  {
   "cell_type": "markdown",
   "metadata": {},
   "source": [
    "Olá, \n",
    "\n",
    "Meu nome é Ramon. Ao ao longo do texto farei algumas observações sobre melhorias no código. Nas partes em que não houver comentários, está tudo certo, ok? Estarei aberto a feedbacks e discussões sobre o tema.\n",
    "\n",
    "**Peço que mantenha e não altere os comentários que eu fizer por aqui para que possamos nos localizar posteriormente, ok?**\n",
    "\n",
    "Mais uma coisa, vamos utilizar um código de cores para você entender os meus feedbacks no seu notebook. Funciona assim:\n",
    "\n",
    "<div class=\"alert alert-block alert-success\">\n",
    "<b> Comentário do revisor: </b> <a class=\"tocSkip\"></a>\n",
    "\n",
    "Sucesso. Tudo foi feito corretamente.\n",
    "</div>\n",
    "\n",
    "<div class=\"alert alert-block alert-warning\">\n",
    "<b>Comentário do revisor: </b> <a class=\"tocSkip\"></a>\n",
    "\n",
    "Alerta não crítco, mas que pode ser corrigido para melhoria geral no seu código/análise\n",
    "</div>\n",
    "\n",
    "<div class=\"alert alert-block alert-danger\">\n",
    "\n",
    "<b>Comentário do revisor: </b> <a class=\"tocSkip\"></a>\n",
    "    \n",
    "Erro que precisa ser consertado, caso contrário seu projeto **não** será aceito.\n",
    "</div>\n",
    "\n",
    "Você pode me responder usando isso:\n",
    "<div class=\"alert alert-block alert-info\">\n",
    "<b>Resposta do Aluno.</b> <a class=\"tocSkip\"></a>\n",
    "</div>\n",
    "\n",
    "###\n",
    "\n",
    "\n"
   ]
  },
  {
   "cell_type": "markdown",
   "metadata": {},
   "source": [
    "<div class=\"alert alert-block alert-success\">\n",
    "<b> Comentário Geral do Revisor Final: </b> <a class=\"tocSkip\"></a>\n",
    "\n",
    "Tudo certo agora. Desejo sucesso na jornada. Parabéns pelo empenho.\n",
    "</div>\n"
   ]
  },
  {
   "cell_type": "markdown",
   "metadata": {},
   "source": [
    "\n",
    "Você trabalha na empresa de mineração OilyGiant. Sua tarefa é encontrar os melhores lugares para o desenvolvimento de novos poços de petróleo.\n",
    "\n",
    "Para concluir essa tarefa, você vai precisar executar as seguintes etapas:\n",
    "\n",
    "Ler os arquivos com parâmetros coletados de poços de petróleo na região selecionada: a quantidade de petróleo e o volume de reservas;\n",
    "Construir um modelo para predizer o volume de reservas em novos poços;\n",
    "\n",
    "Escolher os poços de petróleo que têm os maiores valores estimados;\n",
    "\n",
    "Escolher a região com o maior lucro total para os poços de petróleo selecionados.\n",
    "\n",
    "Você tem dados sobre amostras de petróleo de três regiões. Os parâmetros de cada poço de petróleo na região já são conhecidos. Construa um modelo que te ajudará a escolher a região com a margem de lucro mais alta. Utilize a técnica de Bootstrapping para analisar lucro potencial e riscos."
   ]
  },
  {
   "cell_type": "markdown",
   "metadata": {},
   "source": [
    "# abaixo está o enunciado de todo o projeto"
   ]
  },
  {
   "cell_type": "markdown",
   "metadata": {},
   "source": [
    "2-Treine e teste o modelo para cada região em geo_data_0.csv:\n",
    "\n",
    "Divida os dados em um conjunto de treinamento e um conjunto de validação em uma proporção de 75:25.\n",
    "\n",
    "Treine o modelo e faça predições para o conjunto de validação.\n",
    "\n",
    "Salve as predições e respostas corretas no conjunto de validação.\n",
    "\n",
    "Imprima o volume médio previsto de reservas e o REQM do modelo.\n",
    "\n",
    "Analise os resultados.\n",
    "\n",
    "Coloque todos os passos anteriores em funções, execute os passos 2.1 a 2.5 nos arquivos 'geo_data_1.csv' e 'geo_data_2.csv'.\n",
    "\n",
    "3-Prepare-se para o cálculo de lucro:\n",
    "\n",
    "Armazene todos os valores necessários para os cálculos em variáveis separadas.\n",
    "\n",
    "Dado o investimento de 100 milhões para 200 poços de petróleo, cada um precisa produzir, em média, uma quantidade de unidades equivalente a pelo menos 500 mil dólares para evitar prejuízos (isso é aproximadamente 111,1 unidades). Compare essa quantidade com o volume médio de cada região.\n",
    "\n",
    "Forneça conclusões sobre a etapa de preparação para o cálculo de lucro.\n",
    "\n",
    "4-Escreva uma função para calcular lucro de um conjunto de poços de petróleo selecionados e predições do modelo:\n",
    "\n",
    "Escolha os 200 poços com os valores mais altos previstos de cada uma das 3 regiões (ou seja, arquivos 'csv').\n",
    "\n",
    "Sumarize o volume alvo de reservas de acordo com essas predições. Armazene as predições para os 200 poços para cada uma das 3 regiões.\n",
    "\n",
    "Calcule o lucro potencial dos 200 melhores poços por região. Apresente suas conclusões: sugira uma região para o desenvolvimento de poços de petróleo e justifique sua escolha.\n",
    "\n",
    "5-Calcule riscos e lucro para cada região:\n",
    "\n",
    "Usando as predições que você armazenou na etapa 4.2, use a técnica de bootstrapping com 1.000 amostras para encontrar a distribuição de lucros.\n",
    "\n",
    "Encontre lucro médio, intervalo de confiança de 95% e o risco de prejuízo. Prejuízo é um lucro negativo, calcule-o como uma probabilidade e depois o expresse como uma porcentagem.\n",
    "\n",
    "Apresente suas conclusões: sugira uma região para o desenvolvimento de poços de petróleo e justifique sua escolha. A sua escolha corresponde à escolha anterior na etapa 4.3?"
   ]
  },
  {
   "cell_type": "markdown",
   "metadata": {},
   "source": [
    "\n",
    "<div class=\"alert alert-block alert-danger\">\n",
    "<b> Comentário do revisor: </b> <a class=\"tocSkip\"></a>\n",
    "\n",
    "Vou responder por partes:\n",
    "    \n",
    "    - Você precisa ajustar um modelo usando regressão linear\n",
    "    - Em seguida, você vai utilizar a técnica de bootstrapping que nos permite fazer inferência usando uma amostra. Veja que, dentre os 200 melhores poços, pode haver possos com prejuízo.\n",
    "    - Deixei comentários mas nossa comunicação é limitada. Vocẽ programa bem. Vamos fazer uma iteração e caso haja dúvidas vou pedir um tutor para falar contigo.\n",
    "</div>"
   ]
  },
  {
   "cell_type": "markdown",
   "metadata": {},
   "source": [
    "<div class=\"alert alert-block alert-info\">\n",
    "<b>Eu achei o enunciado um pouco confuso, mas se eu entendi ele agora o bootstrap é para estar certo.</b> <a class=\"tocSkip\"></a>\n",
    "</div>"
   ]
  },
  {
   "cell_type": "code",
   "execution_count": 38,
   "metadata": {},
   "outputs": [],
   "source": [
    "import pandas as pd\n",
    "from sklearn.preprocessing import StandardScaler\n",
    "from sklearn.model_selection import train_test_split\n",
    "from sklearn.linear_model import LinearRegression  \n",
    "from sklearn.metrics import mean_squared_error\n",
    "import numpy as np\n",
    "from numpy.random import RandomState"
   ]
  },
  {
   "cell_type": "code",
   "execution_count": 39,
   "metadata": {},
   "outputs": [],
   "source": [
    "df0 = pd.read_csv('geo_data_0.csv')\n",
    "df1 = pd.read_csv('geo_data_1.csv')\n",
    "df2 = pd.read_csv('geo_data_2.csv')\n"
   ]
  },
  {
   "cell_type": "markdown",
   "metadata": {},
   "source": [
    "# Análise e limpeza de dados iniciais"
   ]
  },
  {
   "cell_type": "markdown",
   "metadata": {},
   "source": [
    "# geo_data_0"
   ]
  },
  {
   "cell_type": "code",
   "execution_count": 40,
   "metadata": {
    "scrolled": false
   },
   "outputs": [
    {
     "data": {
      "text/html": [
       "<div>\n",
       "<style scoped>\n",
       "    .dataframe tbody tr th:only-of-type {\n",
       "        vertical-align: middle;\n",
       "    }\n",
       "\n",
       "    .dataframe tbody tr th {\n",
       "        vertical-align: top;\n",
       "    }\n",
       "\n",
       "    .dataframe thead th {\n",
       "        text-align: right;\n",
       "    }\n",
       "</style>\n",
       "<table border=\"1\" class=\"dataframe\">\n",
       "  <thead>\n",
       "    <tr style=\"text-align: right;\">\n",
       "      <th></th>\n",
       "      <th>id</th>\n",
       "      <th>f0</th>\n",
       "      <th>f1</th>\n",
       "      <th>f2</th>\n",
       "      <th>product</th>\n",
       "    </tr>\n",
       "  </thead>\n",
       "  <tbody>\n",
       "    <tr>\n",
       "      <th>0</th>\n",
       "      <td>txEyH</td>\n",
       "      <td>0.705745</td>\n",
       "      <td>-0.497823</td>\n",
       "      <td>1.221170</td>\n",
       "      <td>105.280062</td>\n",
       "    </tr>\n",
       "    <tr>\n",
       "      <th>1</th>\n",
       "      <td>2acmU</td>\n",
       "      <td>1.334711</td>\n",
       "      <td>-0.340164</td>\n",
       "      <td>4.365080</td>\n",
       "      <td>73.037750</td>\n",
       "    </tr>\n",
       "    <tr>\n",
       "      <th>2</th>\n",
       "      <td>409Wp</td>\n",
       "      <td>1.022732</td>\n",
       "      <td>0.151990</td>\n",
       "      <td>1.419926</td>\n",
       "      <td>85.265647</td>\n",
       "    </tr>\n",
       "    <tr>\n",
       "      <th>3</th>\n",
       "      <td>iJLyR</td>\n",
       "      <td>-0.032172</td>\n",
       "      <td>0.139033</td>\n",
       "      <td>2.978566</td>\n",
       "      <td>168.620776</td>\n",
       "    </tr>\n",
       "    <tr>\n",
       "      <th>4</th>\n",
       "      <td>Xdl7t</td>\n",
       "      <td>1.988431</td>\n",
       "      <td>0.155413</td>\n",
       "      <td>4.751769</td>\n",
       "      <td>154.036647</td>\n",
       "    </tr>\n",
       "  </tbody>\n",
       "</table>\n",
       "</div>"
      ],
      "text/plain": [
       "      id        f0        f1        f2     product\n",
       "0  txEyH  0.705745 -0.497823  1.221170  105.280062\n",
       "1  2acmU  1.334711 -0.340164  4.365080   73.037750\n",
       "2  409Wp  1.022732  0.151990  1.419926   85.265647\n",
       "3  iJLyR -0.032172  0.139033  2.978566  168.620776\n",
       "4  Xdl7t  1.988431  0.155413  4.751769  154.036647"
      ]
     },
     "execution_count": 40,
     "metadata": {},
     "output_type": "execute_result"
    }
   ],
   "source": [
    "df0.head()"
   ]
  },
  {
   "cell_type": "code",
   "execution_count": 41,
   "metadata": {
    "scrolled": true
   },
   "outputs": [
    {
     "name": "stdout",
     "output_type": "stream",
     "text": [
      "<class 'pandas.core.frame.DataFrame'>\n",
      "RangeIndex: 100000 entries, 0 to 99999\n",
      "Data columns (total 5 columns):\n",
      " #   Column   Non-Null Count   Dtype  \n",
      "---  ------   --------------   -----  \n",
      " 0   id       100000 non-null  object \n",
      " 1   f0       100000 non-null  float64\n",
      " 2   f1       100000 non-null  float64\n",
      " 3   f2       100000 non-null  float64\n",
      " 4   product  100000 non-null  float64\n",
      "dtypes: float64(4), object(1)\n",
      "memory usage: 3.8+ MB\n"
     ]
    }
   ],
   "source": [
    "df0.info()"
   ]
  },
  {
   "cell_type": "code",
   "execution_count": 42,
   "metadata": {},
   "outputs": [
    {
     "data": {
      "text/plain": [
       "count    100000.000000\n",
       "mean         92.500000\n",
       "std          44.288691\n",
       "min           0.000000\n",
       "25%          56.497507\n",
       "50%          91.849972\n",
       "75%         128.564089\n",
       "max         185.364347\n",
       "Name: product, dtype: float64"
      ]
     },
     "execution_count": 42,
     "metadata": {},
     "output_type": "execute_result"
    }
   ],
   "source": [
    "df0['product'].describe()"
   ]
  },
  {
   "cell_type": "code",
   "execution_count": 43,
   "metadata": {},
   "outputs": [
    {
     "data": {
      "text/plain": [
       "0"
      ]
     },
     "execution_count": 43,
     "metadata": {},
     "output_type": "execute_result"
    }
   ],
   "source": [
    "df0.duplicated().sum()"
   ]
  },
  {
   "cell_type": "markdown",
   "metadata": {},
   "source": [
    "**Todos os parametros dentro dos padrões para manipulação**"
   ]
  },
  {
   "cell_type": "markdown",
   "metadata": {},
   "source": [
    "# geo_data_1"
   ]
  },
  {
   "cell_type": "code",
   "execution_count": 44,
   "metadata": {
    "scrolled": false
   },
   "outputs": [
    {
     "data": {
      "text/html": [
       "<div>\n",
       "<style scoped>\n",
       "    .dataframe tbody tr th:only-of-type {\n",
       "        vertical-align: middle;\n",
       "    }\n",
       "\n",
       "    .dataframe tbody tr th {\n",
       "        vertical-align: top;\n",
       "    }\n",
       "\n",
       "    .dataframe thead th {\n",
       "        text-align: right;\n",
       "    }\n",
       "</style>\n",
       "<table border=\"1\" class=\"dataframe\">\n",
       "  <thead>\n",
       "    <tr style=\"text-align: right;\">\n",
       "      <th></th>\n",
       "      <th>id</th>\n",
       "      <th>f0</th>\n",
       "      <th>f1</th>\n",
       "      <th>f2</th>\n",
       "      <th>product</th>\n",
       "    </tr>\n",
       "  </thead>\n",
       "  <tbody>\n",
       "    <tr>\n",
       "      <th>0</th>\n",
       "      <td>kBEdx</td>\n",
       "      <td>-15.001348</td>\n",
       "      <td>-8.276000</td>\n",
       "      <td>-0.005876</td>\n",
       "      <td>3.179103</td>\n",
       "    </tr>\n",
       "    <tr>\n",
       "      <th>1</th>\n",
       "      <td>62mP7</td>\n",
       "      <td>14.272088</td>\n",
       "      <td>-3.475083</td>\n",
       "      <td>0.999183</td>\n",
       "      <td>26.953261</td>\n",
       "    </tr>\n",
       "    <tr>\n",
       "      <th>2</th>\n",
       "      <td>vyE1P</td>\n",
       "      <td>6.263187</td>\n",
       "      <td>-5.948386</td>\n",
       "      <td>5.001160</td>\n",
       "      <td>134.766305</td>\n",
       "    </tr>\n",
       "    <tr>\n",
       "      <th>3</th>\n",
       "      <td>KcrkZ</td>\n",
       "      <td>-13.081196</td>\n",
       "      <td>-11.506057</td>\n",
       "      <td>4.999415</td>\n",
       "      <td>137.945408</td>\n",
       "    </tr>\n",
       "    <tr>\n",
       "      <th>4</th>\n",
       "      <td>AHL4O</td>\n",
       "      <td>12.702195</td>\n",
       "      <td>-8.147433</td>\n",
       "      <td>5.004363</td>\n",
       "      <td>134.766305</td>\n",
       "    </tr>\n",
       "  </tbody>\n",
       "</table>\n",
       "</div>"
      ],
      "text/plain": [
       "      id         f0         f1        f2     product\n",
       "0  kBEdx -15.001348  -8.276000 -0.005876    3.179103\n",
       "1  62mP7  14.272088  -3.475083  0.999183   26.953261\n",
       "2  vyE1P   6.263187  -5.948386  5.001160  134.766305\n",
       "3  KcrkZ -13.081196 -11.506057  4.999415  137.945408\n",
       "4  AHL4O  12.702195  -8.147433  5.004363  134.766305"
      ]
     },
     "execution_count": 44,
     "metadata": {},
     "output_type": "execute_result"
    }
   ],
   "source": [
    "df1.head()"
   ]
  },
  {
   "cell_type": "code",
   "execution_count": 45,
   "metadata": {
    "scrolled": true
   },
   "outputs": [
    {
     "name": "stdout",
     "output_type": "stream",
     "text": [
      "<class 'pandas.core.frame.DataFrame'>\n",
      "RangeIndex: 100000 entries, 0 to 99999\n",
      "Data columns (total 5 columns):\n",
      " #   Column   Non-Null Count   Dtype  \n",
      "---  ------   --------------   -----  \n",
      " 0   id       100000 non-null  object \n",
      " 1   f0       100000 non-null  float64\n",
      " 2   f1       100000 non-null  float64\n",
      " 3   f2       100000 non-null  float64\n",
      " 4   product  100000 non-null  float64\n",
      "dtypes: float64(4), object(1)\n",
      "memory usage: 3.8+ MB\n"
     ]
    }
   ],
   "source": [
    "df1.info()"
   ]
  },
  {
   "cell_type": "code",
   "execution_count": 46,
   "metadata": {},
   "outputs": [
    {
     "data": {
      "text/plain": [
       "count    100000.000000\n",
       "mean         68.825000\n",
       "std          45.944423\n",
       "min           0.000000\n",
       "25%          26.953261\n",
       "50%          57.085625\n",
       "75%         107.813044\n",
       "max         137.945408\n",
       "Name: product, dtype: float64"
      ]
     },
     "execution_count": 46,
     "metadata": {},
     "output_type": "execute_result"
    }
   ],
   "source": [
    "df1['product'].describe()"
   ]
  },
  {
   "cell_type": "code",
   "execution_count": 47,
   "metadata": {},
   "outputs": [
    {
     "data": {
      "text/plain": [
       "0"
      ]
     },
     "execution_count": 47,
     "metadata": {},
     "output_type": "execute_result"
    }
   ],
   "source": [
    "df1.duplicated().sum()"
   ]
  },
  {
   "cell_type": "markdown",
   "metadata": {},
   "source": [
    "**Todos os parametros dentro dos padrões para manipulação**"
   ]
  },
  {
   "cell_type": "markdown",
   "metadata": {},
   "source": [
    "# geo_data_2"
   ]
  },
  {
   "cell_type": "code",
   "execution_count": 48,
   "metadata": {
    "scrolled": false
   },
   "outputs": [
    {
     "data": {
      "text/html": [
       "<div>\n",
       "<style scoped>\n",
       "    .dataframe tbody tr th:only-of-type {\n",
       "        vertical-align: middle;\n",
       "    }\n",
       "\n",
       "    .dataframe tbody tr th {\n",
       "        vertical-align: top;\n",
       "    }\n",
       "\n",
       "    .dataframe thead th {\n",
       "        text-align: right;\n",
       "    }\n",
       "</style>\n",
       "<table border=\"1\" class=\"dataframe\">\n",
       "  <thead>\n",
       "    <tr style=\"text-align: right;\">\n",
       "      <th></th>\n",
       "      <th>id</th>\n",
       "      <th>f0</th>\n",
       "      <th>f1</th>\n",
       "      <th>f2</th>\n",
       "      <th>product</th>\n",
       "    </tr>\n",
       "  </thead>\n",
       "  <tbody>\n",
       "    <tr>\n",
       "      <th>0</th>\n",
       "      <td>fwXo0</td>\n",
       "      <td>-1.146987</td>\n",
       "      <td>0.963328</td>\n",
       "      <td>-0.828965</td>\n",
       "      <td>27.758673</td>\n",
       "    </tr>\n",
       "    <tr>\n",
       "      <th>1</th>\n",
       "      <td>WJtFt</td>\n",
       "      <td>0.262778</td>\n",
       "      <td>0.269839</td>\n",
       "      <td>-2.530187</td>\n",
       "      <td>56.069697</td>\n",
       "    </tr>\n",
       "    <tr>\n",
       "      <th>2</th>\n",
       "      <td>ovLUW</td>\n",
       "      <td>0.194587</td>\n",
       "      <td>0.289035</td>\n",
       "      <td>-5.586433</td>\n",
       "      <td>62.871910</td>\n",
       "    </tr>\n",
       "    <tr>\n",
       "      <th>3</th>\n",
       "      <td>q6cA6</td>\n",
       "      <td>2.236060</td>\n",
       "      <td>-0.553760</td>\n",
       "      <td>0.930038</td>\n",
       "      <td>114.572842</td>\n",
       "    </tr>\n",
       "    <tr>\n",
       "      <th>4</th>\n",
       "      <td>WPMUX</td>\n",
       "      <td>-0.515993</td>\n",
       "      <td>1.716266</td>\n",
       "      <td>5.899011</td>\n",
       "      <td>149.600746</td>\n",
       "    </tr>\n",
       "  </tbody>\n",
       "</table>\n",
       "</div>"
      ],
      "text/plain": [
       "      id        f0        f1        f2     product\n",
       "0  fwXo0 -1.146987  0.963328 -0.828965   27.758673\n",
       "1  WJtFt  0.262778  0.269839 -2.530187   56.069697\n",
       "2  ovLUW  0.194587  0.289035 -5.586433   62.871910\n",
       "3  q6cA6  2.236060 -0.553760  0.930038  114.572842\n",
       "4  WPMUX -0.515993  1.716266  5.899011  149.600746"
      ]
     },
     "execution_count": 48,
     "metadata": {},
     "output_type": "execute_result"
    }
   ],
   "source": [
    "df2.head()"
   ]
  },
  {
   "cell_type": "code",
   "execution_count": 49,
   "metadata": {
    "scrolled": true
   },
   "outputs": [
    {
     "name": "stdout",
     "output_type": "stream",
     "text": [
      "<class 'pandas.core.frame.DataFrame'>\n",
      "RangeIndex: 100000 entries, 0 to 99999\n",
      "Data columns (total 5 columns):\n",
      " #   Column   Non-Null Count   Dtype  \n",
      "---  ------   --------------   -----  \n",
      " 0   id       100000 non-null  object \n",
      " 1   f0       100000 non-null  float64\n",
      " 2   f1       100000 non-null  float64\n",
      " 3   f2       100000 non-null  float64\n",
      " 4   product  100000 non-null  float64\n",
      "dtypes: float64(4), object(1)\n",
      "memory usage: 3.8+ MB\n"
     ]
    }
   ],
   "source": [
    "df2.info()"
   ]
  },
  {
   "cell_type": "code",
   "execution_count": 50,
   "metadata": {},
   "outputs": [
    {
     "data": {
      "text/plain": [
       "count    100000.000000\n",
       "mean         95.000000\n",
       "std          44.749921\n",
       "min           0.000000\n",
       "25%          59.450441\n",
       "50%          94.925613\n",
       "75%         130.595027\n",
       "max         190.029838\n",
       "Name: product, dtype: float64"
      ]
     },
     "execution_count": 50,
     "metadata": {},
     "output_type": "execute_result"
    }
   ],
   "source": [
    "df2['product'].describe()"
   ]
  },
  {
   "cell_type": "code",
   "execution_count": 51,
   "metadata": {
    "scrolled": true
   },
   "outputs": [
    {
     "data": {
      "text/plain": [
       "0"
      ]
     },
     "execution_count": 51,
     "metadata": {},
     "output_type": "execute_result"
    }
   ],
   "source": [
    "df2.duplicated().sum()"
   ]
  },
  {
   "cell_type": "markdown",
   "metadata": {},
   "source": [
    "**Todos os parametros dentro dos padrões para manipulação**"
   ]
  },
  {
   "cell_type": "markdown",
   "metadata": {},
   "source": [
    "# Treino do modelo de regressão linear"
   ]
  },
  {
   "cell_type": "code",
   "execution_count": 52,
   "metadata": {},
   "outputs": [
    {
     "name": "stdout",
     "output_type": "stream",
     "text": [
      "volume medio dos poços: 92.49262459838863\n",
      "erro médio da predição: 37.74258669996437\n"
     ]
    }
   ],
   "source": [
    "features = df0.drop(['id','product'], axis = 1)\n",
    "target = df0['product']\n",
    "\n",
    "features_train, features_valid, target_train, target_valid = train_test_split(\n",
    "    features, target, test_size=0.25, random_state=1\n",
    ")\n",
    "scaler = StandardScaler()\n",
    "features_train = scaler.fit_transform(features_train) \n",
    "features_valid = scaler.transform(features_valid)\n",
    "\n",
    "model = LinearRegression()  \n",
    "model.fit(features_train , target_train)\n",
    "x  = model.predict(features_valid)\n",
    "xx = model.score(features_valid, target_valid)\n",
    "\n",
    "media_volume = x.mean()\n",
    "print('volume medio dos poços:' ,media_volume)\n",
    "\n",
    "reqm = np.sqrt(mean_squared_error(target_valid , x))\n",
    "print('erro médio da predição:',reqm)"
   ]
  },
  {
   "cell_type": "markdown",
   "metadata": {},
   "source": [
    "# Avaliação dos volumes médios dos poços "
   ]
  },
  {
   "cell_type": "code",
   "execution_count": 53,
   "metadata": {},
   "outputs": [],
   "source": [
    "def evaluate_region(df):\n",
    "    features = df.drop(['id', 'product'], axis=1)\n",
    "    target = df['product']\n",
    "    \n",
    "    features_train, features_valid, target_train, target_valid = train_test_split(\n",
    "        features, target, test_size=0.25, random_state=1\n",
    "    )\n",
    "    \n",
    "    scaler = StandardScaler()\n",
    "    features_train_scaled = scaler.fit_transform(features_train)\n",
    "    features_valid_scaled = scaler.transform(features_valid)\n",
    "    \n",
    "    model = LinearRegression()\n",
    "    model.fit(features_train_scaled, target_train)\n",
    "    predictions = model.predict(features_valid_scaled)\n",
    "    \n",
    "    mean_volume = predictions.mean()\n",
    "    rmse = np.sqrt(mean_squared_error(target_valid, predictions))\n",
    "    \n",
    "    print(f\"Volume médio dos poços: {mean_volume:.2f}\")\n",
    "    print(f\"Erro médio da predição (REQM): {rmse:.2f}\")\n",
    "    \n",
    "    \n",
    "    return mean_volume, rmse\n",
    "\n",
    "\n"
   ]
  },
  {
   "cell_type": "markdown",
   "metadata": {},
   "source": [
    "\n",
    "<div class=\"alert alert-block alert-success\">\n",
    "<b> Comentário do revisor: </b> <a class=\"tocSkip\"></a>\n",
    "\n",
    "Não me parece haver problemas no teu código. \n",
    "</div>"
   ]
  },
  {
   "cell_type": "markdown",
   "metadata": {},
   "source": [
    "<div class=\"alert alert-block alert-info\">\n",
    "<b>Ok, perdi bastante tempo tentando achar algum erro mas aparentemente não há mesmo.</b> <a class=\"tocSkip\"></a>\n",
    "</div>"
   ]
  },
  {
   "cell_type": "code",
   "execution_count": 54,
   "metadata": {
    "scrolled": false
   },
   "outputs": [
    {
     "name": "stdout",
     "output_type": "stream",
     "text": [
      "Volume médio dos poços: 69.12\n",
      "Erro médio da predição (REQM): 0.89\n"
     ]
    },
    {
     "data": {
      "text/plain": [
       "(69.12040524285558, 0.8943375629130574)"
      ]
     },
     "execution_count": 54,
     "metadata": {},
     "output_type": "execute_result"
    }
   ],
   "source": [
    "evaluate_region(df1)"
   ]
  },
  {
   "cell_type": "code",
   "execution_count": 55,
   "metadata": {
    "scrolled": true
   },
   "outputs": [
    {
     "data": {
      "text/plain": [
       "count    100000.000000\n",
       "mean         68.825000\n",
       "std          45.944423\n",
       "min           0.000000\n",
       "25%          26.953261\n",
       "50%          57.085625\n",
       "75%         107.813044\n",
       "max         137.945408\n",
       "Name: product, dtype: float64"
      ]
     },
     "execution_count": 55,
     "metadata": {},
     "output_type": "execute_result"
    }
   ],
   "source": [
    "df1['product'].describe()"
   ]
  },
  {
   "cell_type": "code",
   "execution_count": 56,
   "metadata": {
    "scrolled": true
   },
   "outputs": [
    {
     "name": "stdout",
     "output_type": "stream",
     "text": [
      "Volume médio dos poços: 94.96\n",
      "Erro médio da predição (REQM): 39.87\n"
     ]
    },
    {
     "data": {
      "text/plain": [
       "(94.9568304858529, 39.86671127773423)"
      ]
     },
     "execution_count": 56,
     "metadata": {},
     "output_type": "execute_result"
    }
   ],
   "source": [
    "evaluate_region(df2)"
   ]
  },
  {
   "cell_type": "markdown",
   "metadata": {},
   "source": [
    "\n",
    "<div class=\"alert alert-block alert-success\">\n",
    "<b> Comentário do revisor: </b> <a class=\"tocSkip\"></a>\n",
    "\n",
    "Os valores estão corretos/coerentes com outros projetos que já revisei</div>"
   ]
  },
  {
   "cell_type": "markdown",
   "metadata": {},
   "source": [
    "**A região geo_data1 exibe as menores médias de volumes previstos, com um risco elevado de não alcançarmos a meta de 200 poços com produção mínima de 111 unidades (em milhares de barris). Esse cenário poderia resultar em retornos insuficientes, justificando a exclusão dessa região do plano de perfuração. Em contrapartida, as regiões geo_data0 e geo_data2 seriam selecionadas por apresentar uma média de volumes significativamente maior(as duas com valores bem próximos um do outro), oferecendo maior potencial de viabilidade econômica**"
   ]
  },
  {
   "cell_type": "markdown",
   "metadata": {},
   "source": [
    "# Cálculo de lucro na perfuração de poços"
   ]
  },
  {
   "cell_type": "code",
   "execution_count": 57,
   "metadata": {},
   "outputs": [],
   "source": [
    "def cal_profit(df):\n",
    "    features = df.drop(['id', 'product'], axis=1)\n",
    "    target = df['product']\n",
    "    \n",
    "    features_train, features_valid, target_train, target_valid = train_test_split(\n",
    "        features, target, test_size=0.25, random_state=1)\n",
    "    \n",
    "    \n",
    "    scaler = StandardScaler()\n",
    "    features_train_scaled = scaler.fit_transform(features_train)\n",
    "    features_valid_scaled = scaler.transform(features_valid)\n",
    "    \n",
    "    model = LinearRegression()\n",
    "    model.fit(features_train_scaled, target_train)\n",
    "    predictions = model.predict(features_valid_scaled)\n",
    "    return pd.Series(predictions)\n",
    "    \n",
    "    \n",
    "    \n"
   ]
  },
  {
   "cell_type": "markdown",
   "metadata": {},
   "source": [
    "\n",
    "<div class=\"alert alert-block alert-danger\">\n",
    "<b> Comentário do revisor: </b> <a class=\"tocSkip\"></a>\n",
    "\n",
    "    - É importante dividir as tarefas: uma função para treinar e retornar as predições para todos os poços\n",
    "    - Você pode criar uma função que apenas alcula lucro \n",
    "    - Você pode criar uma 3a função para calcular o boostrapping que recebe as predições (você fez abaixo)\n",
    "\n",
    "        \n",
    "</div>"
   ]
  },
  {
   "cell_type": "markdown",
   "metadata": {},
   "source": [
    "<div class=\"alert alert-block alert-info\">\n",
    "<b>Deixei apenas as prediçoes na função e coloquei o calculo dos possíveis lucros nás respectivas células.</b> <a class=\"tocSkip\"></a>\n",
    "</div>"
   ]
  },
  {
   "cell_type": "code",
   "execution_count": 58,
   "metadata": {
    "scrolled": true
   },
   "outputs": [
    {
     "name": "stdout",
     "output_type": "stream",
     "text": [
      "Somatório dos 200 principais poços previstos: 31017.97 mil barris\n",
      "Lucro potencial estimado: $39.58 milhoes\n"
     ]
    }
   ],
   "source": [
    "x0 = cal_profit(df0)\n",
    "\n",
    "predict200 = x0.nlargest(200)\n",
    "total200 = predict200.sum() \n",
    "profit_value = (total200 * 4500 / 1000000) - 100 \n",
    "\n",
    "\n",
    "print(f\"Somatório dos 200 principais poços previstos: {total200:.2f} mil barris\")\n",
    "print(f\"Lucro potencial estimado: ${profit_value:.2f} milhoes\")"
   ]
  },
  {
   "cell_type": "code",
   "execution_count": 59,
   "metadata": {},
   "outputs": [
    {
     "name": "stdout",
     "output_type": "stream",
     "text": [
      "Somatório dos 200 principais poços previstos: 27759.86 mil barris\n",
      "Lucro potencial estimado: $24.92 milhoes\n"
     ]
    }
   ],
   "source": [
    "x1 = cal_profit(df1)\n",
    "\n",
    "predict200 = x1.nlargest(200)\n",
    "total200 = predict200.sum() \n",
    "profit_value = (total200 * 4500 / 1000000) - 100  \n",
    "\n",
    "\n",
    "print(f\"Somatório dos 200 principais poços previstos: {total200:.2f} mil barris\")\n",
    "print(f\"Lucro potencial estimado: ${profit_value:.2f} milhoes\")"
   ]
  },
  {
   "cell_type": "code",
   "execution_count": 60,
   "metadata": {},
   "outputs": [
    {
     "name": "stdout",
     "output_type": "stream",
     "text": [
      "Somatório dos 200 principais poços previstos: 29758.74 mil barris\n",
      "Lucro potencial estimado: $33.91 milhoes\n"
     ]
    }
   ],
   "source": [
    "x2 = cal_profit(df2)\n",
    "\n",
    "predict200 = x2.nlargest(200)\n",
    "total200 = predict200.sum() \n",
    "profit_value = (total200 * 4500 / 1000000) - 100 \n",
    "\n",
    "\n",
    "print(f\"Somatório dos 200 principais poços previstos: {total200:.2f} mil barris\")\n",
    "print(f\"Lucro potencial estimado: ${profit_value:.2f} milhoes\")"
   ]
  },
  {
   "cell_type": "markdown",
   "metadata": {},
   "source": [
    "**A região 0 foi selecionada para este projeto por apresentar o maior potencial de rentabilidade. As previsões indicam que, ao escolher os 200 poços mais produtivos dessa área, há uma perspectiva significativamente maior de obtenção de lucros**"
   ]
  },
  {
   "cell_type": "markdown",
   "metadata": {},
   "source": [
    "# Riscos e lucros para cada região com bootstraping"
   ]
  },
  {
   "cell_type": "code",
   "execution_count": 61,
   "metadata": {},
   "outputs": [],
   "source": [
    "def bootstrap_profit(x):\n",
    "    state = RandomState(12345)\n",
    "    profits = []    \n",
    "    for i in range(1000):\n",
    "        \n",
    "        sample = x.sample( replace=True, random_state=state.randint(0, 10000))\n",
    "        \n",
    "        sample_mean = sample.mean()\n",
    "        profits.append(sample_mean)\n",
    "   \n",
    "    profits = pd.Series(profits)  \n",
    "    ic_lower = profits.quantile(0.025)  \n",
    "    ic_upper = profits.quantile(0.975)  \n",
    "        \n",
    "    profits_filtered = profits[(profits >= ic_lower) & (profits <= ic_upper)]\n",
    "        \n",
    "    print(f\"Média das médias bootstrap: {profits_filtered.mean():.2f}\")\n",
    "    print(f\"Intervalo de confiança 95%: [{ic_lower:.2f}, {ic_upper:.2f}]\")\n",
    "    \n",
    "    return profits_filtered"
   ]
  },
  {
   "cell_type": "markdown",
   "metadata": {},
   "source": [
    "**Nesta função, são geradas 1000 amostras, cada uma contendo 25000 poços, e calculada a média dos volumes de produção para cada amostra. O resultado é uma série de 1000 médias, que permite avaliar a viabilidade da perfuração na região com base na distribuição desses valores.**"
   ]
  },
  {
   "cell_type": "markdown",
   "metadata": {},
   "source": [
    "<div class=\"alert alert-block alert-danger\">\n",
    "<b> Comentário do revisor: </b> <a class=\"tocSkip\"></a>\n",
    "\n",
    "    - Para o boostrapping, vocẽ precisa usar todos os poços não apenas os top 200. Talvez aqui esteja o ponto crítico. Veja que você está passando paenado apenas os top 200. Se você passar tudo e amostrar (ex: 200), haverá certamente poço com prejuízo.\n",
    "    \n",
    "</div>"
   ]
  },
  {
   "cell_type": "markdown",
   "metadata": {},
   "source": [
    "<div class=\"alert alert-block alert-info\">\n",
    "<b>Agora fez mais sentido, mas pra mim o enunciado tinha ficado ambíguo. </b> <a class=\"tocSkip\"></a>\n",
    "</div>"
   ]
  },
  {
   "cell_type": "markdown",
   "metadata": {},
   "source": [
    "\n",
    "\n",
    "<div class=\"alert alert-block alert-success\">\n",
    "<b> Comentário do revisor V2: </b> <a class=\"tocSkip\"></a>\n",
    "\n",
    "Correto. Deixo só uma observação quanto ao boostrapping. Segundo a literatura, o correto é usar todo o dataset em vez de subconjunto (n=200)\n",
    "    \n",
    "    \n",
    "https://machinelearningmastery.com/a-gentle-introduction-to-the-bootstrap-method/\n",
    "\n",
    "\"The bootstrap sample is the same size as the original dataset. As a result, some samples will be represented multiple times in the bootstrap sample while others will not be selected at all.\"\n",
    "</div>\n"
   ]
  },
  {
   "cell_type": "code",
   "execution_count": 62,
   "metadata": {
    "scrolled": false
   },
   "outputs": [
    {
     "name": "stdout",
     "output_type": "stream",
     "text": [
      "Média das médias bootstrap: 93.53\n",
      "Intervalo de confiança 95%: [46.90, 140.71]\n",
      "39      46.900879\n",
      "966     47.074228\n",
      "424     47.251301\n",
      "381     47.425722\n",
      "668     47.467020\n",
      "          ...    \n",
      "476    138.476018\n",
      "167    138.584439\n",
      "799    139.281448\n",
      "196    140.713661\n",
      "976    140.713661\n",
      "Length: 951, dtype: float64\n",
      "\n",
      "\n",
      "LUCRO/PREJUÍZO MÉDIO DE CADA AMOSTRA\n",
      "\n",
      "\n"
     ]
    },
    {
     "data": {
      "text/plain": [
       "55019.280179679765"
      ]
     },
     "execution_count": 62,
     "metadata": {},
     "output_type": "execute_result"
    }
   ],
   "source": [
    "x0 = cal_profit(df0)\n",
    "x00 = bootstrap_profit(x0)\n",
    "print(x00.sort_values())\n",
    "lucros = (x00 * 4500 -  500000)\n",
    "print('\\n')\n",
    "print('LUCRO/PREJUÍZO MÉDIO DAS AMOSTRAS')\n",
    "lucros.sort_values()\n",
    "print('\\n')\n",
    "maiores200 = lucros.nlargest(200)\n",
    "maiores200.mean()"
   ]
  },
  {
   "cell_type": "code",
   "execution_count": 63,
   "metadata": {},
   "outputs": [
    {
     "name": "stdout",
     "output_type": "stream",
     "text": [
      "Média das médias bootstrap: 68.97\n",
      "Intervalo de confiança 95%: [-0.04, 137.72]\n",
      "763     -0.037945\n",
      "175      0.066163\n",
      "70       0.187790\n",
      "48       0.218163\n",
      "944      0.282706\n",
      "          ...    \n",
      "25     137.584677\n",
      "909    137.604115\n",
      "883    137.616301\n",
      "665    137.697252\n",
      "780    137.715572\n",
      "Length: 950, dtype: float64\n",
      "\n",
      "\n",
      "LUCRO/PREJUÍZO MÉDIO DE CADA AMOSTRA\n",
      "\n",
      "\n"
     ]
    },
    {
     "data": {
      "text/plain": [
       "71862.4016113067"
      ]
     },
     "execution_count": 63,
     "metadata": {},
     "output_type": "execute_result"
    }
   ],
   "source": [
    "x1 = cal_profit(df1)\n",
    "x11 = bootstrap_profit(x1)\n",
    "print(x11.sort_values())\n",
    "lucros = (x11 * 4500 -  500000)\n",
    "print('\\n')\n",
    "print('LUCRO/PREJUÍZO MÉDIO DAS AMOSTRAS')\n",
    "lucros.sort_values()\n",
    "print('\\n')\n",
    "maiores200 = lucros.nlargest(200)\n",
    "maiores200.mean()"
   ]
  },
  {
   "cell_type": "code",
   "execution_count": 64,
   "metadata": {
    "scrolled": true
   },
   "outputs": [
    {
     "name": "stdout",
     "output_type": "stream",
     "text": [
      "Média das médias bootstrap: 95.14\n",
      "Intervalo de confiança 95%: [57.02, 134.40]\n",
      "393     57.017633\n",
      "448     57.082108\n",
      "236     57.457773\n",
      "715     57.457773\n",
      "681     57.548493\n",
      "          ...    \n",
      "709    132.956517\n",
      "662    133.560426\n",
      "26     133.592681\n",
      "368    134.301256\n",
      "333    134.377721\n",
      "Length: 950, dtype: float64\n",
      "\n",
      "\n",
      "LUCRO/PREJUÍZO MÉDIO DE CADA AMOSTRA\n",
      "\n",
      "\n"
     ]
    },
    {
     "data": {
      "text/plain": [
       "38000.05202810771"
      ]
     },
     "execution_count": 64,
     "metadata": {},
     "output_type": "execute_result"
    }
   ],
   "source": [
    "x2 = cal_profit(df2)\n",
    "x22 = bootstrap_profit(x2)\n",
    "print(x22.sort_values())\n",
    "lucros = (x22 * 4500 -  500000)\n",
    "print('\\n')\n",
    "print('LUCRO/PREJUÍZO MÉDIO DAS AMOSTRAS')\n",
    "lucros.sort_values()\n",
    "print('\\n')\n",
    "maiores200 = lucros.nlargest(200)\n",
    "maiores200.mean()"
   ]
  },
  {
   "cell_type": "markdown",
   "metadata": {},
   "source": [
    "**Realizamos um bootstrap com os dados previstos na etapa anterior, gerando médias a partir de 1000 amostras de 25000 poços cada. Pegamos as 200 maiores médias dessas 1000 amostras e achamos o lucro médio na perfuração de cada região.**"
   ]
  },
  {
   "cell_type": "markdown",
   "metadata": {},
   "source": [
    "# Conclusão"
   ]
  },
  {
   "cell_type": "markdown",
   "metadata": {},
   "source": [
    "**Ao aplicar a técnica de bootstrap na análise dos lucros previstos, obtivemos médias distintas das previamente analisadas, alterando a perspectiva inicial. Antes, a região 2 era a menos lucrativa, mas agora se destacou como a mais rentável com lucro médio de 71862.40(milhares) de dolares por 200 poços, sendo selecionada para o projeto de perfuração por oferecer o maior retorno financeiro.**"
   ]
  }
 ],
 "metadata": {
  "ExecuteTimeLog": [
   {
    "duration": 293,
    "start_time": "2025-02-27T12:49:35.343Z"
   },
   {
    "duration": 519,
    "start_time": "2025-02-27T12:50:45.067Z"
   },
   {
    "duration": 61,
    "start_time": "2025-02-27T12:50:52.659Z"
   },
   {
    "duration": 81,
    "start_time": "2025-02-27T12:51:05.139Z"
   },
   {
    "duration": 64,
    "start_time": "2025-02-27T12:52:51.814Z"
   },
   {
    "duration": 5,
    "start_time": "2025-02-27T12:54:17.214Z"
   },
   {
    "duration": 68,
    "start_time": "2025-02-27T12:54:42.822Z"
   },
   {
    "duration": 63,
    "start_time": "2025-02-27T13:00:11.345Z"
   },
   {
    "duration": 61,
    "start_time": "2025-02-27T13:00:39.289Z"
   },
   {
    "duration": 60,
    "start_time": "2025-02-27T13:04:54.420Z"
   },
   {
    "duration": 4,
    "start_time": "2025-02-27T13:05:02.508Z"
   },
   {
    "duration": 4,
    "start_time": "2025-02-27T13:05:22.891Z"
   },
   {
    "duration": 59,
    "start_time": "2025-02-27T13:07:34.825Z"
   },
   {
    "duration": 3,
    "start_time": "2025-02-27T13:09:17.038Z"
   },
   {
    "duration": 60,
    "start_time": "2025-02-27T13:10:36.961Z"
   },
   {
    "duration": 59,
    "start_time": "2025-02-27T13:10:54.469Z"
   },
   {
    "duration": 58,
    "start_time": "2025-02-27T13:11:02.162Z"
   },
   {
    "duration": 58,
    "start_time": "2025-02-27T13:12:18.948Z"
   },
   {
    "duration": 305,
    "start_time": "2025-02-27T13:14:47.932Z"
   },
   {
    "duration": 13,
    "start_time": "2025-02-27T13:15:21.462Z"
   },
   {
    "duration": 10,
    "start_time": "2025-02-27T13:15:27.627Z"
   },
   {
    "duration": 13,
    "start_time": "2025-02-27T13:15:41.987Z"
   },
   {
    "duration": 214,
    "start_time": "2025-02-27T13:17:04.053Z"
   },
   {
    "duration": 3,
    "start_time": "2025-02-27T13:17:09.195Z"
   },
   {
    "duration": 7,
    "start_time": "2025-02-27T13:33:46.360Z"
   },
   {
    "duration": 8,
    "start_time": "2025-02-27T13:33:50.645Z"
   },
   {
    "duration": 7,
    "start_time": "2025-02-27T13:33:54.790Z"
   },
   {
    "duration": 13,
    "start_time": "2025-02-27T13:34:12.683Z"
   },
   {
    "duration": 14,
    "start_time": "2025-02-27T13:34:24.104Z"
   },
   {
    "duration": 35,
    "start_time": "2025-02-27T13:34:30.665Z"
   },
   {
    "duration": 36,
    "start_time": "2025-02-27T13:34:43.796Z"
   },
   {
    "duration": 11,
    "start_time": "2025-02-27T13:35:11.948Z"
   },
   {
    "duration": 31,
    "start_time": "2025-02-27T13:35:30.611Z"
   },
   {
    "duration": 11,
    "start_time": "2025-02-27T13:35:36.061Z"
   },
   {
    "duration": 13,
    "start_time": "2025-02-27T13:35:50.440Z"
   },
   {
    "duration": 34,
    "start_time": "2025-02-27T13:36:13.607Z"
   },
   {
    "duration": 6,
    "start_time": "2025-02-27T13:41:00.208Z"
   },
   {
    "duration": 17,
    "start_time": "2025-02-27T13:41:58.827Z"
   },
   {
    "duration": 496,
    "start_time": "2025-02-27T13:42:04.558Z"
   },
   {
    "duration": 56,
    "start_time": "2025-02-27T13:42:07.650Z"
   },
   {
    "duration": 18,
    "start_time": "2025-02-27T13:43:01.115Z"
   },
   {
    "duration": 18,
    "start_time": "2025-02-27T13:43:10.764Z"
   },
   {
    "duration": 67,
    "start_time": "2025-02-27T13:49:29.418Z"
   },
   {
    "duration": 47,
    "start_time": "2025-02-27T13:49:39.552Z"
   },
   {
    "duration": 17,
    "start_time": "2025-02-27T13:50:15.031Z"
   },
   {
    "duration": 26,
    "start_time": "2025-02-27T13:50:29.418Z"
   },
   {
    "duration": 19,
    "start_time": "2025-02-27T14:00:36.666Z"
   },
   {
    "duration": 23,
    "start_time": "2025-02-27T14:02:40.582Z"
   },
   {
    "duration": 22,
    "start_time": "2025-02-27T14:08:03.105Z"
   },
   {
    "duration": 20,
    "start_time": "2025-02-27T14:12:24.970Z"
   },
   {
    "duration": 18,
    "start_time": "2025-02-27T14:16:46.641Z"
   },
   {
    "duration": 13,
    "start_time": "2025-02-27T14:24:49.056Z"
   },
   {
    "duration": 4,
    "start_time": "2025-02-27T14:24:54.073Z"
   },
   {
    "duration": 22,
    "start_time": "2025-02-27T14:24:56.253Z"
   },
   {
    "duration": 4,
    "start_time": "2025-02-27T14:25:49.908Z"
   },
   {
    "duration": 22,
    "start_time": "2025-02-27T14:25:51.325Z"
   },
   {
    "duration": 19,
    "start_time": "2025-02-27T14:26:16.458Z"
   },
   {
    "duration": 24,
    "start_time": "2025-02-27T14:26:22.283Z"
   },
   {
    "duration": 18,
    "start_time": "2025-02-27T14:26:36.507Z"
   },
   {
    "duration": 24,
    "start_time": "2025-02-27T14:44:42.389Z"
   },
   {
    "duration": 5,
    "start_time": "2025-02-27T14:44:46.769Z"
   },
   {
    "duration": 21,
    "start_time": "2025-02-27T14:44:50.102Z"
   },
   {
    "duration": 4,
    "start_time": "2025-02-27T14:44:53.058Z"
   },
   {
    "duration": 19,
    "start_time": "2025-02-27T14:44:58.303Z"
   },
   {
    "duration": 21,
    "start_time": "2025-02-27T14:45:00.581Z"
   },
   {
    "duration": 754,
    "start_time": "2025-02-27T14:48:42.548Z"
   },
   {
    "duration": 227,
    "start_time": "2025-02-27T14:48:43.305Z"
   },
   {
    "duration": 12,
    "start_time": "2025-02-27T14:48:43.534Z"
   },
   {
    "duration": 11,
    "start_time": "2025-02-27T14:48:43.548Z"
   },
   {
    "duration": 49,
    "start_time": "2025-02-27T14:48:43.560Z"
   },
   {
    "duration": 7,
    "start_time": "2025-02-27T14:48:43.611Z"
   },
   {
    "duration": 10,
    "start_time": "2025-02-27T14:48:43.620Z"
   },
   {
    "duration": 30,
    "start_time": "2025-02-27T14:48:43.632Z"
   },
   {
    "duration": 10,
    "start_time": "2025-02-27T14:48:43.688Z"
   },
   {
    "duration": 10,
    "start_time": "2025-02-27T14:48:43.700Z"
   },
   {
    "duration": 33,
    "start_time": "2025-02-27T14:48:43.712Z"
   },
   {
    "duration": 48,
    "start_time": "2025-02-27T14:48:43.747Z"
   },
   {
    "duration": 5,
    "start_time": "2025-02-27T14:48:43.797Z"
   },
   {
    "duration": 100,
    "start_time": "2025-02-27T14:48:43.804Z"
   },
   {
    "duration": 98,
    "start_time": "2025-02-27T14:48:43.909Z"
   },
   {
    "duration": 9,
    "start_time": "2025-02-27T14:56:32.700Z"
   },
   {
    "duration": 10,
    "start_time": "2025-02-27T14:57:26.193Z"
   },
   {
    "duration": 88,
    "start_time": "2025-02-27T15:01:03.056Z"
   },
   {
    "duration": 26,
    "start_time": "2025-02-27T15:01:05.368Z"
   },
   {
    "duration": 79,
    "start_time": "2025-02-27T15:01:29.455Z"
   },
   {
    "duration": 4,
    "start_time": "2025-02-27T15:01:35.713Z"
   },
   {
    "duration": 26,
    "start_time": "2025-02-27T15:01:37.188Z"
   },
   {
    "duration": 10,
    "start_time": "2025-02-27T15:04:50.644Z"
   },
   {
    "duration": 9,
    "start_time": "2025-02-27T15:05:20.509Z"
   },
   {
    "duration": 9,
    "start_time": "2025-02-27T15:05:34.213Z"
   },
   {
    "duration": 9,
    "start_time": "2025-02-27T15:05:42.321Z"
   },
   {
    "duration": 9,
    "start_time": "2025-02-27T15:10:44.353Z"
   },
   {
    "duration": 796,
    "start_time": "2025-02-27T16:52:24.196Z"
   },
   {
    "duration": 223,
    "start_time": "2025-02-27T16:52:24.995Z"
   },
   {
    "duration": 12,
    "start_time": "2025-02-27T16:52:25.220Z"
   },
   {
    "duration": 11,
    "start_time": "2025-02-27T16:52:25.234Z"
   },
   {
    "duration": 10,
    "start_time": "2025-02-27T16:52:25.248Z"
   },
   {
    "duration": 56,
    "start_time": "2025-02-27T16:52:25.260Z"
   },
   {
    "duration": 7,
    "start_time": "2025-02-27T16:52:25.318Z"
   },
   {
    "duration": 11,
    "start_time": "2025-02-27T16:52:25.327Z"
   },
   {
    "duration": 8,
    "start_time": "2025-02-27T16:52:25.340Z"
   },
   {
    "duration": 55,
    "start_time": "2025-02-27T16:52:25.349Z"
   },
   {
    "duration": 8,
    "start_time": "2025-02-27T16:52:25.405Z"
   },
   {
    "duration": 10,
    "start_time": "2025-02-27T16:52:25.415Z"
   },
   {
    "duration": 10,
    "start_time": "2025-02-27T16:52:25.427Z"
   },
   {
    "duration": 58,
    "start_time": "2025-02-27T16:52:25.440Z"
   },
   {
    "duration": 28,
    "start_time": "2025-02-27T16:52:25.500Z"
   },
   {
    "duration": 57,
    "start_time": "2025-02-27T16:52:25.530Z"
   },
   {
    "duration": 102,
    "start_time": "2025-02-27T16:52:25.589Z"
   },
   {
    "duration": 11,
    "start_time": "2025-02-27T16:52:25.693Z"
   },
   {
    "duration": 95,
    "start_time": "2025-02-27T16:52:25.706Z"
   },
   {
    "duration": 4,
    "start_time": "2025-02-27T17:13:40.065Z"
   },
   {
    "duration": 215,
    "start_time": "2025-02-27T17:14:20.539Z"
   },
   {
    "duration": 5,
    "start_time": "2025-02-27T17:14:24.606Z"
   },
   {
    "duration": 97,
    "start_time": "2025-02-27T17:14:29.804Z"
   },
   {
    "duration": 6,
    "start_time": "2025-02-27T17:15:02.241Z"
   },
   {
    "duration": 5,
    "start_time": "2025-02-27T17:15:11.525Z"
   },
   {
    "duration": 27,
    "start_time": "2025-02-27T17:15:13.156Z"
   },
   {
    "duration": 4,
    "start_time": "2025-02-27T17:20:07.675Z"
   },
   {
    "duration": 24,
    "start_time": "2025-02-27T17:20:09.092Z"
   },
   {
    "duration": 27,
    "start_time": "2025-02-27T17:21:06.852Z"
   },
   {
    "duration": 26,
    "start_time": "2025-02-27T17:21:07.976Z"
   },
   {
    "duration": 25,
    "start_time": "2025-02-27T17:21:19.660Z"
   },
   {
    "duration": 5,
    "start_time": "2025-02-27T17:21:24.940Z"
   },
   {
    "duration": 27,
    "start_time": "2025-02-27T17:21:26.732Z"
   },
   {
    "duration": 27,
    "start_time": "2025-02-27T17:21:28.595Z"
   },
   {
    "duration": 26,
    "start_time": "2025-02-27T17:21:29.374Z"
   },
   {
    "duration": 4,
    "start_time": "2025-02-27T17:22:09.452Z"
   },
   {
    "duration": 37,
    "start_time": "2025-02-27T17:22:13.375Z"
   },
   {
    "duration": 5,
    "start_time": "2025-02-27T17:22:36.375Z"
   },
   {
    "duration": 29,
    "start_time": "2025-02-27T17:22:38.418Z"
   },
   {
    "duration": 31,
    "start_time": "2025-02-27T17:22:40.234Z"
   },
   {
    "duration": 26,
    "start_time": "2025-02-27T17:22:41.616Z"
   },
   {
    "duration": 5,
    "start_time": "2025-02-27T17:54:08.864Z"
   },
   {
    "duration": 67,
    "start_time": "2025-02-27T17:54:12.332Z"
   },
   {
    "duration": 4,
    "start_time": "2025-02-27T17:54:32.360Z"
   },
   {
    "duration": 62,
    "start_time": "2025-02-27T17:54:34.442Z"
   },
   {
    "duration": 5,
    "start_time": "2025-02-27T17:56:32.611Z"
   },
   {
    "duration": 27,
    "start_time": "2025-02-27T17:56:34.762Z"
   },
   {
    "duration": 27,
    "start_time": "2025-02-27T17:56:40.563Z"
   },
   {
    "duration": 25,
    "start_time": "2025-02-27T17:56:42.900Z"
   },
   {
    "duration": 5,
    "start_time": "2025-02-27T17:59:01.214Z"
   },
   {
    "duration": 26,
    "start_time": "2025-02-27T17:59:02.806Z"
   },
   {
    "duration": 24,
    "start_time": "2025-02-27T17:59:04.876Z"
   },
   {
    "duration": 26,
    "start_time": "2025-02-27T17:59:10.525Z"
   },
   {
    "duration": 95,
    "start_time": "2025-02-27T18:06:09.920Z"
   },
   {
    "duration": 496,
    "start_time": "2025-02-27T18:06:18.676Z"
   },
   {
    "duration": 219,
    "start_time": "2025-02-27T18:23:27.709Z"
   },
   {
    "duration": 4,
    "start_time": "2025-02-27T18:24:16.268Z"
   },
   {
    "duration": 18,
    "start_time": "2025-02-27T18:24:18.541Z"
   },
   {
    "duration": 772,
    "start_time": "2025-02-27T18:27:39.536Z"
   },
   {
    "duration": 230,
    "start_time": "2025-02-27T18:27:40.310Z"
   },
   {
    "duration": 12,
    "start_time": "2025-02-27T18:27:40.543Z"
   },
   {
    "duration": 11,
    "start_time": "2025-02-27T18:27:40.556Z"
   },
   {
    "duration": 21,
    "start_time": "2025-02-27T18:27:40.570Z"
   },
   {
    "duration": 34,
    "start_time": "2025-02-27T18:27:40.593Z"
   },
   {
    "duration": 7,
    "start_time": "2025-02-27T18:27:40.628Z"
   },
   {
    "duration": 11,
    "start_time": "2025-02-27T18:27:40.637Z"
   },
   {
    "duration": 37,
    "start_time": "2025-02-27T18:27:40.650Z"
   },
   {
    "duration": 30,
    "start_time": "2025-02-27T18:27:40.689Z"
   },
   {
    "duration": 8,
    "start_time": "2025-02-27T18:27:40.720Z"
   },
   {
    "duration": 11,
    "start_time": "2025-02-27T18:27:40.729Z"
   },
   {
    "duration": 8,
    "start_time": "2025-02-27T18:27:40.742Z"
   },
   {
    "duration": 61,
    "start_time": "2025-02-27T18:27:40.753Z"
   },
   {
    "duration": 24,
    "start_time": "2025-02-27T18:27:40.816Z"
   },
   {
    "duration": 49,
    "start_time": "2025-02-27T18:27:40.842Z"
   },
   {
    "duration": 104,
    "start_time": "2025-02-27T18:27:40.894Z"
   },
   {
    "duration": 10,
    "start_time": "2025-02-27T18:27:41.003Z"
   },
   {
    "duration": 24,
    "start_time": "2025-02-27T18:27:41.088Z"
   },
   {
    "duration": 5,
    "start_time": "2025-02-27T18:27:41.113Z"
   },
   {
    "duration": 167,
    "start_time": "2025-02-27T18:27:41.120Z"
   },
   {
    "duration": 101,
    "start_time": "2025-02-27T18:27:41.289Z"
   },
   {
    "duration": 99,
    "start_time": "2025-02-27T18:27:41.392Z"
   },
   {
    "duration": 5,
    "start_time": "2025-02-27T18:31:17.770Z"
   },
   {
    "duration": 28,
    "start_time": "2025-02-27T18:31:22.980Z"
   },
   {
    "duration": 22,
    "start_time": "2025-02-27T18:31:31.960Z"
   },
   {
    "duration": 24,
    "start_time": "2025-02-27T18:31:36.375Z"
   },
   {
    "duration": 3,
    "start_time": "2025-02-27T23:17:46.707Z"
   },
   {
    "duration": 268,
    "start_time": "2025-02-27T23:18:17.665Z"
   },
   {
    "duration": 4,
    "start_time": "2025-02-27T23:18:20.468Z"
   },
   {
    "duration": 3767,
    "start_time": "2025-02-27T23:18:21.575Z"
   },
   {
    "duration": 3,
    "start_time": "2025-02-27T23:19:52.897Z"
   },
   {
    "duration": 21,
    "start_time": "2025-02-27T23:19:53.823Z"
   },
   {
    "duration": 4,
    "start_time": "2025-02-27T23:20:05.147Z"
   },
   {
    "duration": 4,
    "start_time": "2025-02-27T23:20:09.032Z"
   },
   {
    "duration": 3686,
    "start_time": "2025-02-27T23:20:11.182Z"
   },
   {
    "duration": 3,
    "start_time": "2025-02-27T23:22:12.176Z"
   },
   {
    "duration": 3790,
    "start_time": "2025-02-27T23:22:13.478Z"
   },
   {
    "duration": 3838,
    "start_time": "2025-02-27T23:24:44.363Z"
   },
   {
    "duration": 114,
    "start_time": "2025-02-27T23:25:32.383Z"
   },
   {
    "duration": 107,
    "start_time": "2025-02-27T23:25:52.936Z"
   },
   {
    "duration": 3,
    "start_time": "2025-02-27T23:26:44.759Z"
   },
   {
    "duration": 3637,
    "start_time": "2025-02-27T23:27:06.341Z"
   },
   {
    "duration": 98,
    "start_time": "2025-02-27T23:30:45.650Z"
   },
   {
    "duration": 3,
    "start_time": "2025-02-27T23:32:14.740Z"
   },
   {
    "duration": 4,
    "start_time": "2025-02-27T23:32:22.289Z"
   },
   {
    "duration": 4,
    "start_time": "2025-02-27T23:32:29.665Z"
   },
   {
    "duration": 3,
    "start_time": "2025-02-27T23:32:35.062Z"
   },
   {
    "duration": 2324,
    "start_time": "2025-02-27T23:32:38.145Z"
   },
   {
    "duration": 3,
    "start_time": "2025-02-27T23:32:56.140Z"
   },
   {
    "duration": 783,
    "start_time": "2025-02-27T23:33:11.456Z"
   },
   {
    "duration": 300,
    "start_time": "2025-02-27T23:33:12.242Z"
   },
   {
    "duration": 11,
    "start_time": "2025-02-27T23:33:12.544Z"
   },
   {
    "duration": 12,
    "start_time": "2025-02-27T23:33:12.557Z"
   },
   {
    "duration": 22,
    "start_time": "2025-02-27T23:33:12.571Z"
   },
   {
    "duration": 32,
    "start_time": "2025-02-27T23:33:12.594Z"
   },
   {
    "duration": 7,
    "start_time": "2025-02-27T23:33:12.628Z"
   },
   {
    "duration": 10,
    "start_time": "2025-02-27T23:33:12.637Z"
   },
   {
    "duration": 8,
    "start_time": "2025-02-27T23:33:12.649Z"
   },
   {
    "duration": 61,
    "start_time": "2025-02-27T23:33:12.659Z"
   },
   {
    "duration": 10,
    "start_time": "2025-02-27T23:33:12.722Z"
   },
   {
    "duration": 11,
    "start_time": "2025-02-27T23:33:12.734Z"
   },
   {
    "duration": 10,
    "start_time": "2025-02-27T23:33:12.746Z"
   },
   {
    "duration": 54,
    "start_time": "2025-02-27T23:33:12.759Z"
   },
   {
    "duration": 27,
    "start_time": "2025-02-27T23:33:12.814Z"
   },
   {
    "duration": 48,
    "start_time": "2025-02-27T23:33:12.843Z"
   },
   {
    "duration": 103,
    "start_time": "2025-02-27T23:33:12.893Z"
   },
   {
    "duration": 15,
    "start_time": "2025-02-27T23:33:12.998Z"
   },
   {
    "duration": 95,
    "start_time": "2025-02-27T23:33:13.015Z"
   },
   {
    "duration": 6,
    "start_time": "2025-02-27T23:33:13.112Z"
   },
   {
    "duration": 97,
    "start_time": "2025-02-27T23:33:13.120Z"
   },
   {
    "duration": 168,
    "start_time": "2025-02-27T23:33:13.219Z"
   },
   {
    "duration": 108,
    "start_time": "2025-02-27T23:33:13.389Z"
   },
   {
    "duration": 4,
    "start_time": "2025-02-27T23:33:13.502Z"
   },
   {
    "duration": 784,
    "start_time": "2025-02-27T23:33:32.039Z"
   },
   {
    "duration": 305,
    "start_time": "2025-02-27T23:33:32.825Z"
   },
   {
    "duration": 16,
    "start_time": "2025-02-27T23:33:33.132Z"
   },
   {
    "duration": 23,
    "start_time": "2025-02-27T23:33:33.150Z"
   },
   {
    "duration": 15,
    "start_time": "2025-02-27T23:33:33.180Z"
   },
   {
    "duration": 35,
    "start_time": "2025-02-27T23:33:33.197Z"
   },
   {
    "duration": 7,
    "start_time": "2025-02-27T23:33:33.235Z"
   },
   {
    "duration": 10,
    "start_time": "2025-02-27T23:33:33.244Z"
   },
   {
    "duration": 38,
    "start_time": "2025-02-27T23:33:33.256Z"
   },
   {
    "duration": 32,
    "start_time": "2025-02-27T23:33:33.296Z"
   },
   {
    "duration": 9,
    "start_time": "2025-02-27T23:33:33.330Z"
   },
   {
    "duration": 12,
    "start_time": "2025-02-27T23:33:33.342Z"
   },
   {
    "duration": 35,
    "start_time": "2025-02-27T23:33:33.356Z"
   },
   {
    "duration": 35,
    "start_time": "2025-02-27T23:33:33.395Z"
   },
   {
    "duration": 29,
    "start_time": "2025-02-27T23:33:33.432Z"
   },
   {
    "duration": 6,
    "start_time": "2025-02-27T23:33:33.487Z"
   },
   {
    "duration": 99,
    "start_time": "2025-02-27T23:33:33.495Z"
   },
   {
    "duration": 10,
    "start_time": "2025-02-27T23:33:33.596Z"
   },
   {
    "duration": 95,
    "start_time": "2025-02-27T23:33:33.608Z"
   },
   {
    "duration": 80,
    "start_time": "2025-02-27T23:33:33.707Z"
   },
   {
    "duration": 29,
    "start_time": "2025-02-27T23:33:33.789Z"
   },
   {
    "duration": 92,
    "start_time": "2025-02-27T23:33:33.820Z"
   },
   {
    "duration": 31,
    "start_time": "2025-02-27T23:33:33.992Z"
   },
   {
    "duration": 62,
    "start_time": "2025-02-27T23:33:34.025Z"
   },
   {
    "duration": 7,
    "start_time": "2025-02-27T23:34:52.105Z"
   },
   {
    "duration": 754,
    "start_time": "2025-02-27T23:35:08.774Z"
   },
   {
    "duration": 293,
    "start_time": "2025-02-27T23:35:09.530Z"
   },
   {
    "duration": 12,
    "start_time": "2025-02-27T23:35:09.824Z"
   },
   {
    "duration": 11,
    "start_time": "2025-02-27T23:35:09.838Z"
   },
   {
    "duration": 10,
    "start_time": "2025-02-27T23:35:09.851Z"
   },
   {
    "duration": 49,
    "start_time": "2025-02-27T23:35:09.863Z"
   },
   {
    "duration": 7,
    "start_time": "2025-02-27T23:35:09.914Z"
   },
   {
    "duration": 11,
    "start_time": "2025-02-27T23:35:09.923Z"
   },
   {
    "duration": 8,
    "start_time": "2025-02-27T23:35:09.935Z"
   },
   {
    "duration": 63,
    "start_time": "2025-02-27T23:35:09.945Z"
   },
   {
    "duration": 7,
    "start_time": "2025-02-27T23:35:10.011Z"
   },
   {
    "duration": 10,
    "start_time": "2025-02-27T23:35:10.019Z"
   },
   {
    "duration": 9,
    "start_time": "2025-02-27T23:35:10.031Z"
   },
   {
    "duration": 53,
    "start_time": "2025-02-27T23:35:10.044Z"
   },
   {
    "duration": 28,
    "start_time": "2025-02-27T23:35:10.099Z"
   },
   {
    "duration": 5,
    "start_time": "2025-02-27T23:35:10.128Z"
   },
   {
    "duration": 156,
    "start_time": "2025-02-27T23:35:10.135Z"
   },
   {
    "duration": 10,
    "start_time": "2025-02-27T23:35:10.293Z"
   },
   {
    "duration": 105,
    "start_time": "2025-02-27T23:35:10.304Z"
   },
   {
    "duration": 5,
    "start_time": "2025-02-27T23:35:10.414Z"
   },
   {
    "duration": 26,
    "start_time": "2025-02-27T23:35:10.488Z"
   },
   {
    "duration": 101,
    "start_time": "2025-02-27T23:35:10.586Z"
   },
   {
    "duration": 102,
    "start_time": "2025-02-27T23:35:10.689Z"
   },
   {
    "duration": 4,
    "start_time": "2025-02-27T23:35:10.796Z"
   },
   {
    "duration": 3133,
    "start_time": "2025-02-27T23:35:10.806Z"
   },
   {
    "duration": 4,
    "start_time": "2025-02-27T23:35:52.754Z"
   },
   {
    "duration": 2982,
    "start_time": "2025-02-27T23:35:53.484Z"
   },
   {
    "duration": 219,
    "start_time": "2025-02-27T23:43:20.655Z"
   },
   {
    "duration": 2870,
    "start_time": "2025-02-27T23:44:35.184Z"
   },
   {
    "duration": 4,
    "start_time": "2025-02-28T00:11:52.017Z"
   },
   {
    "duration": 3,
    "start_time": "2025-02-28T00:20:09.391Z"
   },
   {
    "duration": 117,
    "start_time": "2025-02-28T00:21:13.291Z"
   },
   {
    "duration": 4,
    "start_time": "2025-02-28T00:22:54.270Z"
   },
   {
    "duration": 4,
    "start_time": "2025-02-28T00:22:57.946Z"
   },
   {
    "duration": 479,
    "start_time": "2025-02-28T00:22:59.019Z"
   },
   {
    "duration": 5,
    "start_time": "2025-02-28T00:23:33.284Z"
   },
   {
    "duration": 4,
    "start_time": "2025-02-28T00:23:46.726Z"
   },
   {
    "duration": 4,
    "start_time": "2025-02-28T00:25:12.831Z"
   },
   {
    "duration": 501,
    "start_time": "2025-02-28T00:25:14.402Z"
   },
   {
    "duration": 512,
    "start_time": "2025-02-28T00:28:17.800Z"
   },
   {
    "duration": 504,
    "start_time": "2025-02-28T00:29:06.613Z"
   },
   {
    "duration": 2,
    "start_time": "2025-02-28T01:53:29.451Z"
   },
   {
    "duration": 15,
    "start_time": "2025-02-28T10:56:48.572Z"
   },
   {
    "duration": 6,
    "start_time": "2025-02-28T14:29:39.278Z"
   },
   {
    "duration": 730,
    "start_time": "2025-02-28T14:29:45.011Z"
   },
   {
    "duration": 290,
    "start_time": "2025-02-28T14:29:45.743Z"
   },
   {
    "duration": 12,
    "start_time": "2025-02-28T14:29:46.035Z"
   },
   {
    "duration": 11,
    "start_time": "2025-02-28T14:29:46.049Z"
   },
   {
    "duration": 10,
    "start_time": "2025-02-28T14:29:46.062Z"
   },
   {
    "duration": 32,
    "start_time": "2025-02-28T14:29:46.073Z"
   },
   {
    "duration": 27,
    "start_time": "2025-02-28T14:29:46.106Z"
   },
   {
    "duration": 10,
    "start_time": "2025-02-28T14:29:46.135Z"
   },
   {
    "duration": 9,
    "start_time": "2025-02-28T14:29:46.147Z"
   },
   {
    "duration": 31,
    "start_time": "2025-02-28T14:29:46.157Z"
   },
   {
    "duration": 8,
    "start_time": "2025-02-28T14:29:46.190Z"
   },
   {
    "duration": 39,
    "start_time": "2025-02-28T14:29:46.200Z"
   },
   {
    "duration": 10,
    "start_time": "2025-02-28T14:29:46.240Z"
   },
   {
    "duration": 30,
    "start_time": "2025-02-28T14:29:46.253Z"
   },
   {
    "duration": 48,
    "start_time": "2025-02-28T14:29:46.285Z"
   },
   {
    "duration": 6,
    "start_time": "2025-02-28T14:29:46.334Z"
   },
   {
    "duration": 99,
    "start_time": "2025-02-28T14:29:46.341Z"
   },
   {
    "duration": 14,
    "start_time": "2025-02-28T14:29:46.442Z"
   },
   {
    "duration": 99,
    "start_time": "2025-02-28T14:29:46.457Z"
   },
   {
    "duration": 71,
    "start_time": "2025-02-28T14:29:46.561Z"
   },
   {
    "duration": 395,
    "start_time": "2025-02-28T14:29:46.637Z"
   },
   {
    "duration": 0,
    "start_time": "2025-02-28T14:29:47.034Z"
   },
   {
    "duration": 0,
    "start_time": "2025-02-28T14:29:47.035Z"
   },
   {
    "duration": 1,
    "start_time": "2025-02-28T14:29:47.035Z"
   },
   {
    "duration": 0,
    "start_time": "2025-02-28T14:29:47.036Z"
   },
   {
    "duration": 0,
    "start_time": "2025-02-28T14:29:47.037Z"
   },
   {
    "duration": 0,
    "start_time": "2025-02-28T14:29:47.038Z"
   },
   {
    "duration": 0,
    "start_time": "2025-02-28T14:29:47.039Z"
   },
   {
    "duration": 3,
    "start_time": "2025-02-28T14:30:41.258Z"
   },
   {
    "duration": 21,
    "start_time": "2025-02-28T14:30:43.957Z"
   },
   {
    "duration": 20,
    "start_time": "2025-02-28T14:31:20.007Z"
   },
   {
    "duration": 20,
    "start_time": "2025-02-28T14:31:21.991Z"
   },
   {
    "duration": 3,
    "start_time": "2025-02-28T14:33:44.076Z"
   },
   {
    "duration": 475,
    "start_time": "2025-02-28T14:35:03.431Z"
   },
   {
    "duration": 27,
    "start_time": "2025-02-28T16:58:44.465Z"
   },
   {
    "duration": 741,
    "start_time": "2025-02-28T17:02:36.632Z"
   },
   {
    "duration": 219,
    "start_time": "2025-02-28T17:02:37.375Z"
   },
   {
    "duration": 12,
    "start_time": "2025-02-28T17:02:37.595Z"
   },
   {
    "duration": 10,
    "start_time": "2025-02-28T17:02:37.609Z"
   },
   {
    "duration": 15,
    "start_time": "2025-02-28T17:02:37.622Z"
   },
   {
    "duration": 37,
    "start_time": "2025-02-28T17:02:37.638Z"
   },
   {
    "duration": 8,
    "start_time": "2025-02-28T17:02:37.677Z"
   },
   {
    "duration": 11,
    "start_time": "2025-02-28T17:02:37.686Z"
   },
   {
    "duration": 8,
    "start_time": "2025-02-28T17:02:37.698Z"
   },
   {
    "duration": 52,
    "start_time": "2025-02-28T17:02:37.707Z"
   },
   {
    "duration": 7,
    "start_time": "2025-02-28T17:02:37.761Z"
   },
   {
    "duration": 12,
    "start_time": "2025-02-28T17:02:37.769Z"
   },
   {
    "duration": 9,
    "start_time": "2025-02-28T17:02:37.783Z"
   },
   {
    "duration": 50,
    "start_time": "2025-02-28T17:02:37.795Z"
   },
   {
    "duration": 27,
    "start_time": "2025-02-28T17:02:37.846Z"
   },
   {
    "duration": 5,
    "start_time": "2025-02-28T17:02:37.875Z"
   },
   {
    "duration": 150,
    "start_time": "2025-02-28T17:02:37.882Z"
   },
   {
    "duration": 16,
    "start_time": "2025-02-28T17:02:38.034Z"
   },
   {
    "duration": 99,
    "start_time": "2025-02-28T17:02:38.055Z"
   },
   {
    "duration": 4,
    "start_time": "2025-02-28T17:02:38.156Z"
   },
   {
    "duration": 92,
    "start_time": "2025-02-28T17:02:38.163Z"
   },
   {
    "duration": 178,
    "start_time": "2025-02-28T17:02:38.256Z"
   },
   {
    "duration": 95,
    "start_time": "2025-02-28T17:02:38.435Z"
   },
   {
    "duration": 5,
    "start_time": "2025-02-28T17:02:38.532Z"
   },
   {
    "duration": 716,
    "start_time": "2025-02-28T17:02:38.539Z"
   },
   {
    "duration": 0,
    "start_time": "2025-02-28T17:02:39.257Z"
   },
   {
    "duration": 0,
    "start_time": "2025-02-28T17:02:39.258Z"
   },
   {
    "duration": 0,
    "start_time": "2025-02-28T17:02:39.260Z"
   },
   {
    "duration": 3,
    "start_time": "2025-02-28T17:03:17.814Z"
   },
   {
    "duration": 210,
    "start_time": "2025-02-28T17:03:19.626Z"
   },
   {
    "duration": 20,
    "start_time": "2025-02-28T17:05:42.464Z"
   },
   {
    "duration": 22,
    "start_time": "2025-02-28T17:05:50.752Z"
   },
   {
    "duration": 4,
    "start_time": "2025-02-28T17:09:31.103Z"
   },
   {
    "duration": 744,
    "start_time": "2025-02-28T17:09:33.204Z"
   },
   {
    "duration": 4,
    "start_time": "2025-02-28T17:18:37.004Z"
   },
   {
    "duration": 405,
    "start_time": "2025-02-28T17:18:39.480Z"
   },
   {
    "duration": 387,
    "start_time": "2025-02-28T17:19:14.118Z"
   },
   {
    "duration": 433,
    "start_time": "2025-02-28T17:19:17.644Z"
   },
   {
    "duration": 4,
    "start_time": "2025-02-28T17:23:05.728Z"
   },
   {
    "duration": 378,
    "start_time": "2025-02-28T17:23:08.267Z"
   },
   {
    "duration": 5,
    "start_time": "2025-02-28T17:26:39.198Z"
   },
   {
    "duration": 3,
    "start_time": "2025-02-28T17:31:18.127Z"
   },
   {
    "duration": 324,
    "start_time": "2025-02-28T17:31:20.764Z"
   },
   {
    "duration": 4,
    "start_time": "2025-02-28T17:33:00.883Z"
   },
   {
    "duration": 357,
    "start_time": "2025-02-28T17:33:02.912Z"
   },
   {
    "duration": 4,
    "start_time": "2025-02-28T17:34:13.635Z"
   },
   {
    "duration": 387,
    "start_time": "2025-02-28T17:34:16.524Z"
   },
   {
    "duration": 363,
    "start_time": "2025-02-28T17:35:39.289Z"
   },
   {
    "duration": 365,
    "start_time": "2025-02-28T17:37:01.889Z"
   },
   {
    "duration": 405,
    "start_time": "2025-02-28T17:37:09.454Z"
   },
   {
    "duration": 377,
    "start_time": "2025-02-28T17:37:32.575Z"
   },
   {
    "duration": 401,
    "start_time": "2025-02-28T17:37:34.832Z"
   },
   {
    "duration": 4,
    "start_time": "2025-02-28T17:49:27.512Z"
   },
   {
    "duration": 359,
    "start_time": "2025-02-28T17:49:30.501Z"
   },
   {
    "duration": 391,
    "start_time": "2025-02-28T17:49:38.961Z"
   },
   {
    "duration": 370,
    "start_time": "2025-02-28T17:49:43.915Z"
   },
   {
    "duration": 371,
    "start_time": "2025-02-28T18:11:10.210Z"
   },
   {
    "duration": 408,
    "start_time": "2025-02-28T18:11:17.952Z"
   },
   {
    "duration": 356,
    "start_time": "2025-02-28T18:11:26.804Z"
   },
   {
    "duration": 368,
    "start_time": "2025-02-28T18:11:28.685Z"
   },
   {
    "duration": 380,
    "start_time": "2025-02-28T18:11:32.920Z"
   },
   {
    "duration": 407,
    "start_time": "2025-02-28T18:13:44.260Z"
   },
   {
    "duration": 412,
    "start_time": "2025-02-28T18:13:59.645Z"
   },
   {
    "duration": 409,
    "start_time": "2025-02-28T18:14:41.042Z"
   },
   {
    "duration": 414,
    "start_time": "2025-02-28T18:14:42.954Z"
   },
   {
    "duration": 405,
    "start_time": "2025-02-28T18:15:07.360Z"
   },
   {
    "duration": 390,
    "start_time": "2025-02-28T18:17:56.465Z"
   },
   {
    "duration": 426,
    "start_time": "2025-02-28T18:19:17.742Z"
   },
   {
    "duration": 361,
    "start_time": "2025-02-28T18:20:11.006Z"
   },
   {
    "duration": 406,
    "start_time": "2025-02-28T18:20:35.663Z"
   },
   {
    "duration": 374,
    "start_time": "2025-02-28T18:20:38.776Z"
   },
   {
    "duration": 414,
    "start_time": "2025-02-28T18:27:08.038Z"
   },
   {
    "duration": 7,
    "start_time": "2025-02-28T18:27:15.757Z"
   },
   {
    "duration": 3,
    "start_time": "2025-02-28T18:27:31.051Z"
   },
   {
    "duration": 361,
    "start_time": "2025-02-28T18:27:44.002Z"
   },
   {
    "duration": 361,
    "start_time": "2025-02-28T18:28:13.905Z"
   },
   {
    "duration": 365,
    "start_time": "2025-02-28T18:28:28.102Z"
   },
   {
    "duration": 4,
    "start_time": "2025-02-28T18:29:58.778Z"
   },
   {
    "duration": 4,
    "start_time": "2025-02-28T18:45:56.341Z"
   },
   {
    "duration": 2,
    "start_time": "2025-02-28T18:47:14.275Z"
   },
   {
    "duration": 5,
    "start_time": "2025-02-28T18:50:41.408Z"
   },
   {
    "duration": 5,
    "start_time": "2025-02-28T18:54:51.388Z"
   },
   {
    "duration": 372,
    "start_time": "2025-02-28T18:56:43.987Z"
   },
   {
    "duration": 751,
    "start_time": "2025-02-28T19:02:39.190Z"
   },
   {
    "duration": 215,
    "start_time": "2025-02-28T19:02:39.943Z"
   },
   {
    "duration": 11,
    "start_time": "2025-02-28T19:02:40.160Z"
   },
   {
    "duration": 11,
    "start_time": "2025-02-28T19:02:40.173Z"
   },
   {
    "duration": 10,
    "start_time": "2025-02-28T19:02:40.186Z"
   },
   {
    "duration": 52,
    "start_time": "2025-02-28T19:02:40.197Z"
   },
   {
    "duration": 7,
    "start_time": "2025-02-28T19:02:40.250Z"
   },
   {
    "duration": 10,
    "start_time": "2025-02-28T19:02:40.259Z"
   },
   {
    "duration": 7,
    "start_time": "2025-02-28T19:02:40.271Z"
   },
   {
    "duration": 28,
    "start_time": "2025-02-28T19:02:40.279Z"
   },
   {
    "duration": 7,
    "start_time": "2025-02-28T19:02:40.331Z"
   },
   {
    "duration": 11,
    "start_time": "2025-02-28T19:02:40.339Z"
   },
   {
    "duration": 8,
    "start_time": "2025-02-28T19:02:40.351Z"
   },
   {
    "duration": 32,
    "start_time": "2025-02-28T19:02:40.362Z"
   },
   {
    "duration": 53,
    "start_time": "2025-02-28T19:02:40.395Z"
   },
   {
    "duration": 4,
    "start_time": "2025-02-28T19:02:40.450Z"
   },
   {
    "duration": 96,
    "start_time": "2025-02-28T19:02:40.456Z"
   },
   {
    "duration": 11,
    "start_time": "2025-02-28T19:02:40.632Z"
   },
   {
    "duration": 87,
    "start_time": "2025-02-28T19:02:40.647Z"
   },
   {
    "duration": 6,
    "start_time": "2025-02-28T19:02:40.738Z"
   },
   {
    "duration": 99,
    "start_time": "2025-02-28T19:02:40.747Z"
   },
   {
    "duration": 90,
    "start_time": "2025-02-28T19:02:40.850Z"
   },
   {
    "duration": 101,
    "start_time": "2025-02-28T19:02:40.945Z"
   },
   {
    "duration": 5,
    "start_time": "2025-02-28T19:02:41.051Z"
   },
   {
    "duration": 495,
    "start_time": "2025-02-28T19:02:41.058Z"
   },
   {
    "duration": 424,
    "start_time": "2025-02-28T19:02:41.554Z"
   },
   {
    "duration": 391,
    "start_time": "2025-02-28T19:02:41.980Z"
   },
   {
    "duration": 6,
    "start_time": "2025-03-05T13:28:19.230Z"
   },
   {
    "duration": 772,
    "start_time": "2025-03-05T13:28:26.279Z"
   },
   {
    "duration": 298,
    "start_time": "2025-03-05T13:28:27.053Z"
   },
   {
    "duration": 12,
    "start_time": "2025-03-05T13:28:27.352Z"
   },
   {
    "duration": 12,
    "start_time": "2025-03-05T13:28:27.366Z"
   },
   {
    "duration": 10,
    "start_time": "2025-03-05T13:28:27.381Z"
   },
   {
    "duration": 48,
    "start_time": "2025-03-05T13:28:27.392Z"
   },
   {
    "duration": 8,
    "start_time": "2025-03-05T13:28:27.442Z"
   },
   {
    "duration": 11,
    "start_time": "2025-03-05T13:28:27.452Z"
   },
   {
    "duration": 9,
    "start_time": "2025-03-05T13:28:27.465Z"
   },
   {
    "duration": 61,
    "start_time": "2025-03-05T13:28:27.476Z"
   },
   {
    "duration": 9,
    "start_time": "2025-03-05T13:28:27.539Z"
   },
   {
    "duration": 10,
    "start_time": "2025-03-05T13:28:27.549Z"
   },
   {
    "duration": 8,
    "start_time": "2025-03-05T13:28:27.561Z"
   },
   {
    "duration": 31,
    "start_time": "2025-03-05T13:28:27.573Z"
   },
   {
    "duration": 52,
    "start_time": "2025-03-05T13:28:27.606Z"
   },
   {
    "duration": 5,
    "start_time": "2025-03-05T13:28:27.664Z"
   },
   {
    "duration": 159,
    "start_time": "2025-03-05T13:28:27.671Z"
   },
   {
    "duration": 10,
    "start_time": "2025-03-05T13:28:27.836Z"
   },
   {
    "duration": 90,
    "start_time": "2025-03-05T13:28:27.848Z"
   },
   {
    "duration": 8,
    "start_time": "2025-03-05T13:28:27.940Z"
   },
   {
    "duration": 100,
    "start_time": "2025-03-05T13:28:27.950Z"
   },
   {
    "duration": 92,
    "start_time": "2025-03-05T13:28:28.054Z"
   },
   {
    "duration": 98,
    "start_time": "2025-03-05T13:28:28.148Z"
   },
   {
    "duration": 82,
    "start_time": "2025-03-05T13:28:28.248Z"
   },
   {
    "duration": 430,
    "start_time": "2025-03-05T13:28:28.342Z"
   },
   {
    "duration": 386,
    "start_time": "2025-03-05T13:28:28.775Z"
   },
   {
    "duration": 396,
    "start_time": "2025-03-05T13:28:29.163Z"
   },
   {
    "duration": 170,
    "start_time": "2025-03-05T17:47:49.157Z"
   },
   {
    "duration": 800,
    "start_time": "2025-03-05T17:48:12.044Z"
   },
   {
    "duration": 314,
    "start_time": "2025-03-05T17:48:12.846Z"
   },
   {
    "duration": 12,
    "start_time": "2025-03-05T17:48:13.162Z"
   },
   {
    "duration": 10,
    "start_time": "2025-03-05T17:48:13.176Z"
   },
   {
    "duration": 9,
    "start_time": "2025-03-05T17:48:13.188Z"
   },
   {
    "duration": 49,
    "start_time": "2025-03-05T17:48:13.198Z"
   },
   {
    "duration": 7,
    "start_time": "2025-03-05T17:48:13.249Z"
   },
   {
    "duration": 11,
    "start_time": "2025-03-05T17:48:13.257Z"
   },
   {
    "duration": 7,
    "start_time": "2025-03-05T17:48:13.270Z"
   },
   {
    "duration": 54,
    "start_time": "2025-03-05T17:48:13.279Z"
   },
   {
    "duration": 8,
    "start_time": "2025-03-05T17:48:13.334Z"
   },
   {
    "duration": 10,
    "start_time": "2025-03-05T17:48:13.343Z"
   },
   {
    "duration": 9,
    "start_time": "2025-03-05T17:48:13.354Z"
   },
   {
    "duration": 31,
    "start_time": "2025-03-05T17:48:13.366Z"
   },
   {
    "duration": 29,
    "start_time": "2025-03-05T17:48:13.423Z"
   },
   {
    "duration": 6,
    "start_time": "2025-03-05T17:48:13.453Z"
   },
   {
    "duration": 164,
    "start_time": "2025-03-05T17:48:13.461Z"
   },
   {
    "duration": 10,
    "start_time": "2025-03-05T17:48:13.627Z"
   },
   {
    "duration": 99,
    "start_time": "2025-03-05T17:48:13.641Z"
   },
   {
    "duration": 4,
    "start_time": "2025-03-05T17:48:13.742Z"
   },
   {
    "duration": 92,
    "start_time": "2025-03-05T17:48:13.747Z"
   },
   {
    "duration": 92,
    "start_time": "2025-03-05T17:48:13.841Z"
   },
   {
    "duration": 97,
    "start_time": "2025-03-05T17:48:13.935Z"
   },
   {
    "duration": 4,
    "start_time": "2025-03-05T17:48:14.034Z"
   },
   {
    "duration": 472,
    "start_time": "2025-03-05T17:48:14.040Z"
   },
   {
    "duration": 421,
    "start_time": "2025-03-05T17:48:14.514Z"
   },
   {
    "duration": 409,
    "start_time": "2025-03-05T17:48:14.937Z"
   },
   {
    "duration": 400,
    "start_time": "2025-03-05T17:48:39.217Z"
   },
   {
    "duration": 4,
    "start_time": "2025-03-05T17:56:21.068Z"
   },
   {
    "duration": 4,
    "start_time": "2025-03-05T17:59:59.659Z"
   },
   {
    "duration": 403,
    "start_time": "2025-03-05T18:00:06.237Z"
   },
   {
    "duration": 358,
    "start_time": "2025-03-05T18:00:14.506Z"
   },
   {
    "duration": 371,
    "start_time": "2025-03-05T18:00:17.889Z"
   },
   {
    "duration": 373,
    "start_time": "2025-03-05T18:00:31.916Z"
   },
   {
    "duration": 414,
    "start_time": "2025-03-05T18:01:11.429Z"
   },
   {
    "duration": 406,
    "start_time": "2025-03-05T18:06:37.661Z"
   },
   {
    "duration": 3,
    "start_time": "2025-03-05T18:06:44.589Z"
   },
   {
    "duration": 218,
    "start_time": "2025-03-05T18:06:44.594Z"
   },
   {
    "duration": 10,
    "start_time": "2025-03-05T18:06:44.814Z"
   },
   {
    "duration": 11,
    "start_time": "2025-03-05T18:06:44.826Z"
   },
   {
    "duration": 9,
    "start_time": "2025-03-05T18:06:44.838Z"
   },
   {
    "duration": 31,
    "start_time": "2025-03-05T18:06:44.848Z"
   },
   {
    "duration": 8,
    "start_time": "2025-03-05T18:06:44.882Z"
   },
   {
    "duration": 35,
    "start_time": "2025-03-05T18:06:44.892Z"
   },
   {
    "duration": 9,
    "start_time": "2025-03-05T18:06:44.930Z"
   },
   {
    "duration": 34,
    "start_time": "2025-03-05T18:06:44.941Z"
   },
   {
    "duration": 8,
    "start_time": "2025-03-05T18:06:44.979Z"
   },
   {
    "duration": 41,
    "start_time": "2025-03-05T18:06:44.988Z"
   },
   {
    "duration": 8,
    "start_time": "2025-03-05T18:06:45.031Z"
   },
   {
    "duration": 29,
    "start_time": "2025-03-05T18:06:45.041Z"
   },
   {
    "duration": 52,
    "start_time": "2025-03-05T18:06:45.072Z"
   },
   {
    "duration": 4,
    "start_time": "2025-03-05T18:06:45.126Z"
   },
   {
    "duration": 97,
    "start_time": "2025-03-05T18:06:45.132Z"
   },
   {
    "duration": 12,
    "start_time": "2025-03-05T18:06:45.232Z"
   },
   {
    "duration": 93,
    "start_time": "2025-03-05T18:06:45.248Z"
   },
   {
    "duration": 5,
    "start_time": "2025-03-05T18:06:45.343Z"
   },
   {
    "duration": 91,
    "start_time": "2025-03-05T18:06:45.350Z"
   },
   {
    "duration": 101,
    "start_time": "2025-03-05T18:06:45.443Z"
   },
   {
    "duration": 100,
    "start_time": "2025-03-05T18:06:45.546Z"
   },
   {
    "duration": 7,
    "start_time": "2025-03-05T18:06:45.726Z"
   },
   {
    "duration": 420,
    "start_time": "2025-03-05T18:06:45.738Z"
   },
   {
    "duration": 391,
    "start_time": "2025-03-05T18:06:46.160Z"
   },
   {
    "duration": 398,
    "start_time": "2025-03-05T18:06:46.553Z"
   }
  ],
  "kernelspec": {
   "display_name": "Python 3 (ipykernel)",
   "language": "python",
   "name": "python3"
  },
  "language_info": {
   "codemirror_mode": {
    "name": "ipython",
    "version": 3
   },
   "file_extension": ".py",
   "mimetype": "text/x-python",
   "name": "python",
   "nbconvert_exporter": "python",
   "pygments_lexer": "ipython3",
   "version": "3.9.19"
  },
  "toc": {
   "base_numbering": 1,
   "nav_menu": {},
   "number_sections": true,
   "sideBar": true,
   "skip_h1_title": true,
   "title_cell": "Table of Contents",
   "title_sidebar": "Contents",
   "toc_cell": false,
   "toc_position": {},
   "toc_section_display": true,
   "toc_window_display": false
  }
 },
 "nbformat": 4,
 "nbformat_minor": 2
}
