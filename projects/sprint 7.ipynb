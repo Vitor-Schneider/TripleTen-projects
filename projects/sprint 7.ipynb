{
 "cells": [
  {
   "cell_type": "markdown",
   "metadata": {},
   "source": [
    "<div>\n",
    "Olá, Vitor!\n",
    "\n",
    "Meu nome é Luiz. Fico feliz em revisar seu projeto. Ao longo do texto farei algumas observações sobre melhorias no código e também farei comentários sobre suas percepções sobre o assunto. Estarei aberto a feedbacks e discussões sobre o tema.\n",
    "\n",
    "**Peço que mantenha e não altere os comentários que eu fizer por aqui para que possamos nos localizar posteriormente, ok?**\n",
    "\n",
    "Mais uma coisa, vamos utilizar um código de cores para você entender o meu feedback no seu notebook. Funciona assim:\n",
    "\n",
    "<div class=\"alert alert-block alert-success\">\n",
    "<b> Comentário do revisor: </b> <a class=\"tocSkip\"></a>\n",
    "\n",
    "Sucesso. Tudo foi feito corretamente.\n",
    "</div>\n",
    "\n",
    "<div class=\"alert alert-block alert-warning\">\n",
    "<b>Comentário do revisor: </b> <a class=\"tocSkip\"></a>\n",
    "\n",
    "Alerta não crítico, mas que pode ser corrigido para melhoria geral no seu código/análise.\n",
    "</div>\n",
    "\n",
    "<div class=\"alert alert-block alert-danger\">\n",
    "\n",
    "<b>Comentário do revisor: </b> <a class=\"tocSkip\"></a>\n",
    "    \n",
    "Erro que precisa ser arrumado, caso contrário seu projeto **não** será aceito.\n",
    "</div>\n",
    "\n",
    "Você pode interagir comigo através dessa célula:\n",
    "<div class=\"alert alert-block alert-info\">\n",
    "<b>Resposta do Aluno.</b> <a class=\"tocSkip\"></a>\n",
    "</div>"
   ]
  },
  {
   "cell_type": "markdown",
   "metadata": {},
   "source": [
    "<div class=\"alert alert-block alert-danger\">\n",
    "<b> Comentário do revisor v1 </b> <a class=\"tocSkip\"></a>\n",
    "<s>\n",
    "    \n",
    "Obrigado por enviar o seu projeto e pelo esforço para executar as etapas necessárias.   \n",
    "<br>\n",
    "    \n",
    "Essa versão do seu projeto está muito boa, parabéns. Entretanto, deixei alguns comentários em pontos que precisamos de pequenos ajustes para seguirmos. Além disso, como sugestão geral, considere apresentar conclusões mais detalhadas em suas análises para facilitar o entendimento do leitor.\n",
    "    \n",
    "<br>\n",
    "    \n",
    "Se tiver alguma dúvida, pode contar comigo.\n",
    "    \n",
    "<br>   \n",
    "\n",
    "**Até breve!**\n",
    "</s>\n",
    "</div>"
   ]
  },
  {
   "cell_type": "markdown",
   "metadata": {},
   "source": [
    "<div class=\"alert alert-block alert-success\">\n",
    "<b> Comentário geral do revisor v2</b> <a class=\"tocSkip\"></a>\n",
    "\n",
    "Obrigado por enviar o seu projeto e fazer os ajustes sugeridos. Essa versão do seu trabalho ficou muito melhor! Espero que as sugestões sejam relevantes para projetos futuros.\n",
    "    \n",
    "<br>\n",
    "Te desejo uma jornada de muito sucesso e aprendizado.\n",
    "    \n",
    "<br>   \n",
    "    \n",
    "Qualquer dúvida, pode contar comigo.   \n",
    "    \n",
    "<br>  \n",
    "    \n",
    "**Até breve!**\n",
    "\n",
    "</div>"
   ]
  },
  {
   "cell_type": "code",
   "execution_count": 1,
   "metadata": {},
   "outputs": [],
   "source": [
    "import pandas as pd\n",
    "import numpy as np\n",
    "import matplotlib.pyplot as plt\n",
    "import scipy.stats as st"
   ]
  },
  {
   "cell_type": "code",
   "execution_count": 2,
   "metadata": {},
   "outputs": [],
   "source": [
    "df1= pd.read_csv('/datasets/project_sql_result_01.csv')"
   ]
  },
  {
   "cell_type": "code",
   "execution_count": 3,
   "metadata": {},
   "outputs": [],
   "source": [
    "df4 = pd.read_csv('/datasets/project_sql_result_04.csv')"
   ]
  },
  {
   "cell_type": "code",
   "execution_count": 4,
   "metadata": {},
   "outputs": [],
   "source": [
    "df7= pd.read_csv('/datasets/project_sql_result_07.csv')"
   ]
  },
  {
   "cell_type": "markdown",
   "metadata": {},
   "source": [
    "<div class=\"alert alert-block alert-success\">\n",
    "<b> Comentário do revisor: </b> <a class=\"tocSkip\"></a>\n",
    "\n",
    "- Os arquivos de dados foram carregados corretamente\n",
    "- As bibliotecas foram carregadas corretamente e em uma célula separada\n",
    "</div>"
   ]
  },
  {
   "cell_type": "markdown",
   "metadata": {},
   "source": [
    "## Df1: primeira tabela"
   ]
  },
  {
   "cell_type": "code",
   "execution_count": 5,
   "metadata": {},
   "outputs": [
    {
     "data": {
      "text/html": [
       "<div>\n",
       "<style scoped>\n",
       "    .dataframe tbody tr th:only-of-type {\n",
       "        vertical-align: middle;\n",
       "    }\n",
       "\n",
       "    .dataframe tbody tr th {\n",
       "        vertical-align: top;\n",
       "    }\n",
       "\n",
       "    .dataframe thead th {\n",
       "        text-align: right;\n",
       "    }\n",
       "</style>\n",
       "<table border=\"1\" class=\"dataframe\">\n",
       "  <thead>\n",
       "    <tr style=\"text-align: right;\">\n",
       "      <th></th>\n",
       "      <th>company_name</th>\n",
       "      <th>trips_amount</th>\n",
       "    </tr>\n",
       "  </thead>\n",
       "  <tbody>\n",
       "    <tr>\n",
       "      <th>0</th>\n",
       "      <td>Flash Cab</td>\n",
       "      <td>19558</td>\n",
       "    </tr>\n",
       "    <tr>\n",
       "      <th>1</th>\n",
       "      <td>Taxi Affiliation Services</td>\n",
       "      <td>11422</td>\n",
       "    </tr>\n",
       "    <tr>\n",
       "      <th>2</th>\n",
       "      <td>Medallion Leasing</td>\n",
       "      <td>10367</td>\n",
       "    </tr>\n",
       "    <tr>\n",
       "      <th>3</th>\n",
       "      <td>Yellow Cab</td>\n",
       "      <td>9888</td>\n",
       "    </tr>\n",
       "    <tr>\n",
       "      <th>4</th>\n",
       "      <td>Taxi Affiliation Service Yellow</td>\n",
       "      <td>9299</td>\n",
       "    </tr>\n",
       "  </tbody>\n",
       "</table>\n",
       "</div>"
      ],
      "text/plain": [
       "                      company_name  trips_amount\n",
       "0                        Flash Cab         19558\n",
       "1        Taxi Affiliation Services         11422\n",
       "2                Medallion Leasing         10367\n",
       "3                       Yellow Cab          9888\n",
       "4  Taxi Affiliation Service Yellow          9299"
      ]
     },
     "execution_count": 5,
     "metadata": {},
     "output_type": "execute_result"
    }
   ],
   "source": [
    "df1.head()"
   ]
  },
  {
   "cell_type": "code",
   "execution_count": 6,
   "metadata": {},
   "outputs": [
    {
     "data": {
      "text/html": [
       "<div>\n",
       "<style scoped>\n",
       "    .dataframe tbody tr th:only-of-type {\n",
       "        vertical-align: middle;\n",
       "    }\n",
       "\n",
       "    .dataframe tbody tr th {\n",
       "        vertical-align: top;\n",
       "    }\n",
       "\n",
       "    .dataframe thead th {\n",
       "        text-align: right;\n",
       "    }\n",
       "</style>\n",
       "<table border=\"1\" class=\"dataframe\">\n",
       "  <thead>\n",
       "    <tr style=\"text-align: right;\">\n",
       "      <th></th>\n",
       "      <th>trips_amount</th>\n",
       "    </tr>\n",
       "  </thead>\n",
       "  <tbody>\n",
       "    <tr>\n",
       "      <th>count</th>\n",
       "      <td>64.000000</td>\n",
       "    </tr>\n",
       "    <tr>\n",
       "      <th>mean</th>\n",
       "      <td>2145.484375</td>\n",
       "    </tr>\n",
       "    <tr>\n",
       "      <th>std</th>\n",
       "      <td>3812.310186</td>\n",
       "    </tr>\n",
       "    <tr>\n",
       "      <th>min</th>\n",
       "      <td>2.000000</td>\n",
       "    </tr>\n",
       "    <tr>\n",
       "      <th>25%</th>\n",
       "      <td>20.750000</td>\n",
       "    </tr>\n",
       "    <tr>\n",
       "      <th>50%</th>\n",
       "      <td>178.500000</td>\n",
       "    </tr>\n",
       "    <tr>\n",
       "      <th>75%</th>\n",
       "      <td>2106.500000</td>\n",
       "    </tr>\n",
       "    <tr>\n",
       "      <th>max</th>\n",
       "      <td>19558.000000</td>\n",
       "    </tr>\n",
       "  </tbody>\n",
       "</table>\n",
       "</div>"
      ],
      "text/plain": [
       "       trips_amount\n",
       "count     64.000000\n",
       "mean    2145.484375\n",
       "std     3812.310186\n",
       "min        2.000000\n",
       "25%       20.750000\n",
       "50%      178.500000\n",
       "75%     2106.500000\n",
       "max    19558.000000"
      ]
     },
     "execution_count": 6,
     "metadata": {},
     "output_type": "execute_result"
    }
   ],
   "source": [
    "df1.describe()"
   ]
  },
  {
   "cell_type": "markdown",
   "metadata": {},
   "source": [
    "**Descrições iniciais para visualização de como são os dados**"
   ]
  },
  {
   "cell_type": "markdown",
   "metadata": {},
   "source": [
    "### dados duplicados?"
   ]
  },
  {
   "cell_type": "code",
   "execution_count": 7,
   "metadata": {
    "scrolled": false
   },
   "outputs": [
    {
     "data": {
      "text/plain": [
       "0"
      ]
     },
     "execution_count": 7,
     "metadata": {},
     "output_type": "execute_result"
    }
   ],
   "source": [
    "df1.duplicated().sum()"
   ]
  },
  {
   "cell_type": "code",
   "execution_count": 8,
   "metadata": {},
   "outputs": [
    {
     "data": {
      "text/plain": [
       "0"
      ]
     },
     "execution_count": 8,
     "metadata": {},
     "output_type": "execute_result"
    }
   ],
   "source": [
    "df1['company_name'].duplicated().sum()"
   ]
  },
  {
   "cell_type": "markdown",
   "metadata": {},
   "source": [
    "**sem duplicados**"
   ]
  },
  {
   "cell_type": "markdown",
   "metadata": {},
   "source": [
    "### sem valores nulos."
   ]
  },
  {
   "cell_type": "code",
   "execution_count": 9,
   "metadata": {},
   "outputs": [
    {
     "name": "stdout",
     "output_type": "stream",
     "text": [
      "<class 'pandas.core.frame.DataFrame'>\n",
      "RangeIndex: 64 entries, 0 to 63\n",
      "Data columns (total 2 columns):\n",
      " #   Column        Non-Null Count  Dtype \n",
      "---  ------        --------------  ----- \n",
      " 0   company_name  64 non-null     object\n",
      " 1   trips_amount  64 non-null     int64 \n",
      "dtypes: int64(1), object(1)\n",
      "memory usage: 1.1+ KB\n"
     ]
    }
   ],
   "source": [
    "df1.info()"
   ]
  },
  {
   "cell_type": "code",
   "execution_count": null,
   "metadata": {},
   "outputs": [],
   "source": []
  },
  {
   "cell_type": "markdown",
   "metadata": {},
   "source": [
    "## Df4: segunda tabela"
   ]
  },
  {
   "cell_type": "markdown",
   "metadata": {},
   "source": [
    "### os 10 principais destinos"
   ]
  },
  {
   "cell_type": "code",
   "execution_count": 10,
   "metadata": {
    "scrolled": false
   },
   "outputs": [
    {
     "data": {
      "text/html": [
       "<div>\n",
       "<style scoped>\n",
       "    .dataframe tbody tr th:only-of-type {\n",
       "        vertical-align: middle;\n",
       "    }\n",
       "\n",
       "    .dataframe tbody tr th {\n",
       "        vertical-align: top;\n",
       "    }\n",
       "\n",
       "    .dataframe thead th {\n",
       "        text-align: right;\n",
       "    }\n",
       "</style>\n",
       "<table border=\"1\" class=\"dataframe\">\n",
       "  <thead>\n",
       "    <tr style=\"text-align: right;\">\n",
       "      <th></th>\n",
       "      <th>dropoff_location_name</th>\n",
       "      <th>average_trips</th>\n",
       "    </tr>\n",
       "  </thead>\n",
       "  <tbody>\n",
       "    <tr>\n",
       "      <th>0</th>\n",
       "      <td>Loop</td>\n",
       "      <td>10727.466667</td>\n",
       "    </tr>\n",
       "    <tr>\n",
       "      <th>1</th>\n",
       "      <td>River North</td>\n",
       "      <td>9523.666667</td>\n",
       "    </tr>\n",
       "    <tr>\n",
       "      <th>2</th>\n",
       "      <td>Streeterville</td>\n",
       "      <td>6664.666667</td>\n",
       "    </tr>\n",
       "    <tr>\n",
       "      <th>3</th>\n",
       "      <td>West Loop</td>\n",
       "      <td>5163.666667</td>\n",
       "    </tr>\n",
       "    <tr>\n",
       "      <th>4</th>\n",
       "      <td>O'Hare</td>\n",
       "      <td>2546.900000</td>\n",
       "    </tr>\n",
       "    <tr>\n",
       "      <th>5</th>\n",
       "      <td>Lake View</td>\n",
       "      <td>2420.966667</td>\n",
       "    </tr>\n",
       "    <tr>\n",
       "      <th>6</th>\n",
       "      <td>Grant Park</td>\n",
       "      <td>2068.533333</td>\n",
       "    </tr>\n",
       "    <tr>\n",
       "      <th>7</th>\n",
       "      <td>Museum Campus</td>\n",
       "      <td>1510.000000</td>\n",
       "    </tr>\n",
       "    <tr>\n",
       "      <th>8</th>\n",
       "      <td>Gold Coast</td>\n",
       "      <td>1364.233333</td>\n",
       "    </tr>\n",
       "    <tr>\n",
       "      <th>9</th>\n",
       "      <td>Sheffield &amp; DePaul</td>\n",
       "      <td>1259.766667</td>\n",
       "    </tr>\n",
       "  </tbody>\n",
       "</table>\n",
       "</div>"
      ],
      "text/plain": [
       "  dropoff_location_name  average_trips\n",
       "0                  Loop   10727.466667\n",
       "1           River North    9523.666667\n",
       "2         Streeterville    6664.666667\n",
       "3             West Loop    5163.666667\n",
       "4                O'Hare    2546.900000\n",
       "5             Lake View    2420.966667\n",
       "6            Grant Park    2068.533333\n",
       "7         Museum Campus    1510.000000\n",
       "8            Gold Coast    1364.233333\n",
       "9    Sheffield & DePaul    1259.766667"
      ]
     },
     "execution_count": 10,
     "metadata": {},
     "output_type": "execute_result"
    }
   ],
   "source": [
    "df4.head(10)"
   ]
  },
  {
   "cell_type": "markdown",
   "metadata": {},
   "source": [
    "**aproveitando a demonstração inicial de visualisação da tabela para imprimir as 10 primeiras linhas para ver os 10 principais destinos**"
   ]
  },
  {
   "cell_type": "code",
   "execution_count": 11,
   "metadata": {
    "scrolled": true
   },
   "outputs": [
    {
     "data": {
      "text/html": [
       "<div>\n",
       "<style scoped>\n",
       "    .dataframe tbody tr th:only-of-type {\n",
       "        vertical-align: middle;\n",
       "    }\n",
       "\n",
       "    .dataframe tbody tr th {\n",
       "        vertical-align: top;\n",
       "    }\n",
       "\n",
       "    .dataframe thead th {\n",
       "        text-align: right;\n",
       "    }\n",
       "</style>\n",
       "<table border=\"1\" class=\"dataframe\">\n",
       "  <thead>\n",
       "    <tr style=\"text-align: right;\">\n",
       "      <th></th>\n",
       "      <th>average_trips</th>\n",
       "    </tr>\n",
       "  </thead>\n",
       "  <tbody>\n",
       "    <tr>\n",
       "      <th>count</th>\n",
       "      <td>94.000000</td>\n",
       "    </tr>\n",
       "    <tr>\n",
       "      <th>mean</th>\n",
       "      <td>599.953728</td>\n",
       "    </tr>\n",
       "    <tr>\n",
       "      <th>std</th>\n",
       "      <td>1714.591098</td>\n",
       "    </tr>\n",
       "    <tr>\n",
       "      <th>min</th>\n",
       "      <td>1.800000</td>\n",
       "    </tr>\n",
       "    <tr>\n",
       "      <th>25%</th>\n",
       "      <td>14.266667</td>\n",
       "    </tr>\n",
       "    <tr>\n",
       "      <th>50%</th>\n",
       "      <td>52.016667</td>\n",
       "    </tr>\n",
       "    <tr>\n",
       "      <th>75%</th>\n",
       "      <td>298.858333</td>\n",
       "    </tr>\n",
       "    <tr>\n",
       "      <th>max</th>\n",
       "      <td>10727.466667</td>\n",
       "    </tr>\n",
       "  </tbody>\n",
       "</table>\n",
       "</div>"
      ],
      "text/plain": [
       "       average_trips\n",
       "count      94.000000\n",
       "mean      599.953728\n",
       "std      1714.591098\n",
       "min         1.800000\n",
       "25%        14.266667\n",
       "50%        52.016667\n",
       "75%       298.858333\n",
       "max     10727.466667"
      ]
     },
     "execution_count": 11,
     "metadata": {},
     "output_type": "execute_result"
    }
   ],
   "source": [
    "df4.describe()"
   ]
  },
  {
   "cell_type": "markdown",
   "metadata": {},
   "source": [
    "**Descrições iniciais para visualização de como são os dados**"
   ]
  },
  {
   "cell_type": "markdown",
   "metadata": {},
   "source": [
    "### dados duplicados?"
   ]
  },
  {
   "cell_type": "code",
   "execution_count": 12,
   "metadata": {},
   "outputs": [
    {
     "data": {
      "text/plain": [
       "0"
      ]
     },
     "execution_count": 12,
     "metadata": {},
     "output_type": "execute_result"
    }
   ],
   "source": [
    "df4.duplicated().sum()"
   ]
  },
  {
   "cell_type": "code",
   "execution_count": 13,
   "metadata": {},
   "outputs": [
    {
     "data": {
      "text/plain": [
       "0"
      ]
     },
     "execution_count": 13,
     "metadata": {},
     "output_type": "execute_result"
    }
   ],
   "source": [
    "df4['dropoff_location_name'].duplicated().sum()"
   ]
  },
  {
   "cell_type": "markdown",
   "metadata": {},
   "source": [
    "**sem duplicados**"
   ]
  },
  {
   "cell_type": "markdown",
   "metadata": {},
   "source": [
    "### valores nulos?"
   ]
  },
  {
   "cell_type": "code",
   "execution_count": 14,
   "metadata": {},
   "outputs": [
    {
     "name": "stdout",
     "output_type": "stream",
     "text": [
      "<class 'pandas.core.frame.DataFrame'>\n",
      "RangeIndex: 94 entries, 0 to 93\n",
      "Data columns (total 2 columns):\n",
      " #   Column                 Non-Null Count  Dtype  \n",
      "---  ------                 --------------  -----  \n",
      " 0   dropoff_location_name  94 non-null     object \n",
      " 1   average_trips          94 non-null     float64\n",
      "dtypes: float64(1), object(1)\n",
      "memory usage: 1.6+ KB\n"
     ]
    }
   ],
   "source": [
    "df4.info()"
   ]
  },
  {
   "cell_type": "markdown",
   "metadata": {},
   "source": [
    "**sem valores nulos**"
   ]
  },
  {
   "cell_type": "markdown",
   "metadata": {},
   "source": [
    "## Df7: terceira tabela"
   ]
  },
  {
   "cell_type": "code",
   "execution_count": 15,
   "metadata": {
    "scrolled": true
   },
   "outputs": [
    {
     "data": {
      "text/html": [
       "<div>\n",
       "<style scoped>\n",
       "    .dataframe tbody tr th:only-of-type {\n",
       "        vertical-align: middle;\n",
       "    }\n",
       "\n",
       "    .dataframe tbody tr th {\n",
       "        vertical-align: top;\n",
       "    }\n",
       "\n",
       "    .dataframe thead th {\n",
       "        text-align: right;\n",
       "    }\n",
       "</style>\n",
       "<table border=\"1\" class=\"dataframe\">\n",
       "  <thead>\n",
       "    <tr style=\"text-align: right;\">\n",
       "      <th></th>\n",
       "      <th>start_ts</th>\n",
       "      <th>weather_conditions</th>\n",
       "      <th>duration_seconds</th>\n",
       "    </tr>\n",
       "  </thead>\n",
       "  <tbody>\n",
       "    <tr>\n",
       "      <th>0</th>\n",
       "      <td>2017-11-25 16:00:00</td>\n",
       "      <td>Good</td>\n",
       "      <td>2410.0</td>\n",
       "    </tr>\n",
       "    <tr>\n",
       "      <th>1</th>\n",
       "      <td>2017-11-25 14:00:00</td>\n",
       "      <td>Good</td>\n",
       "      <td>1920.0</td>\n",
       "    </tr>\n",
       "    <tr>\n",
       "      <th>2</th>\n",
       "      <td>2017-11-25 12:00:00</td>\n",
       "      <td>Good</td>\n",
       "      <td>1543.0</td>\n",
       "    </tr>\n",
       "    <tr>\n",
       "      <th>3</th>\n",
       "      <td>2017-11-04 10:00:00</td>\n",
       "      <td>Good</td>\n",
       "      <td>2512.0</td>\n",
       "    </tr>\n",
       "    <tr>\n",
       "      <th>4</th>\n",
       "      <td>2017-11-11 07:00:00</td>\n",
       "      <td>Good</td>\n",
       "      <td>1440.0</td>\n",
       "    </tr>\n",
       "  </tbody>\n",
       "</table>\n",
       "</div>"
      ],
      "text/plain": [
       "              start_ts weather_conditions  duration_seconds\n",
       "0  2017-11-25 16:00:00               Good            2410.0\n",
       "1  2017-11-25 14:00:00               Good            1920.0\n",
       "2  2017-11-25 12:00:00               Good            1543.0\n",
       "3  2017-11-04 10:00:00               Good            2512.0\n",
       "4  2017-11-11 07:00:00               Good            1440.0"
      ]
     },
     "execution_count": 15,
     "metadata": {},
     "output_type": "execute_result"
    }
   ],
   "source": [
    "df7.head()"
   ]
  },
  {
   "cell_type": "code",
   "execution_count": 16,
   "metadata": {
    "scrolled": true
   },
   "outputs": [
    {
     "data": {
      "text/html": [
       "<div>\n",
       "<style scoped>\n",
       "    .dataframe tbody tr th:only-of-type {\n",
       "        vertical-align: middle;\n",
       "    }\n",
       "\n",
       "    .dataframe tbody tr th {\n",
       "        vertical-align: top;\n",
       "    }\n",
       "\n",
       "    .dataframe thead th {\n",
       "        text-align: right;\n",
       "    }\n",
       "</style>\n",
       "<table border=\"1\" class=\"dataframe\">\n",
       "  <thead>\n",
       "    <tr style=\"text-align: right;\">\n",
       "      <th></th>\n",
       "      <th>duration_seconds</th>\n",
       "    </tr>\n",
       "  </thead>\n",
       "  <tbody>\n",
       "    <tr>\n",
       "      <th>count</th>\n",
       "      <td>1068.000000</td>\n",
       "    </tr>\n",
       "    <tr>\n",
       "      <th>mean</th>\n",
       "      <td>2071.731273</td>\n",
       "    </tr>\n",
       "    <tr>\n",
       "      <th>std</th>\n",
       "      <td>769.461125</td>\n",
       "    </tr>\n",
       "    <tr>\n",
       "      <th>min</th>\n",
       "      <td>0.000000</td>\n",
       "    </tr>\n",
       "    <tr>\n",
       "      <th>25%</th>\n",
       "      <td>1438.250000</td>\n",
       "    </tr>\n",
       "    <tr>\n",
       "      <th>50%</th>\n",
       "      <td>1980.000000</td>\n",
       "    </tr>\n",
       "    <tr>\n",
       "      <th>75%</th>\n",
       "      <td>2580.000000</td>\n",
       "    </tr>\n",
       "    <tr>\n",
       "      <th>max</th>\n",
       "      <td>7440.000000</td>\n",
       "    </tr>\n",
       "  </tbody>\n",
       "</table>\n",
       "</div>"
      ],
      "text/plain": [
       "       duration_seconds\n",
       "count       1068.000000\n",
       "mean        2071.731273\n",
       "std          769.461125\n",
       "min            0.000000\n",
       "25%         1438.250000\n",
       "50%         1980.000000\n",
       "75%         2580.000000\n",
       "max         7440.000000"
      ]
     },
     "execution_count": 16,
     "metadata": {},
     "output_type": "execute_result"
    }
   ],
   "source": [
    "df7.describe()"
   ]
  },
  {
   "cell_type": "markdown",
   "metadata": {},
   "source": [
    "**Descrições iniciais para visualização de como são os dados**"
   ]
  },
  {
   "cell_type": "markdown",
   "metadata": {},
   "source": [
    "### dados duplicados?"
   ]
  },
  {
   "cell_type": "code",
   "execution_count": 17,
   "metadata": {},
   "outputs": [
    {
     "data": {
      "text/plain": [
       "197"
      ]
     },
     "execution_count": 17,
     "metadata": {},
     "output_type": "execute_result"
    }
   ],
   "source": [
    "df7.duplicated().sum()"
   ]
  },
  {
   "cell_type": "markdown",
   "metadata": {},
   "source": [
    "**Neste tipo de tabela é possivel ter linhas duplicadas e não ser um erro, portanto não iremos modificar**"
   ]
  },
  {
   "cell_type": "markdown",
   "metadata": {},
   "source": [
    "### Valores nulos"
   ]
  },
  {
   "cell_type": "code",
   "execution_count": 18,
   "metadata": {},
   "outputs": [
    {
     "name": "stdout",
     "output_type": "stream",
     "text": [
      "<class 'pandas.core.frame.DataFrame'>\n",
      "RangeIndex: 1068 entries, 0 to 1067\n",
      "Data columns (total 3 columns):\n",
      " #   Column              Non-Null Count  Dtype  \n",
      "---  ------              --------------  -----  \n",
      " 0   start_ts            1068 non-null   object \n",
      " 1   weather_conditions  1068 non-null   object \n",
      " 2   duration_seconds    1068 non-null   float64\n",
      "dtypes: float64(1), object(2)\n",
      "memory usage: 25.2+ KB\n"
     ]
    }
   ],
   "source": [
    "df7.info()"
   ]
  },
  {
   "cell_type": "markdown",
   "metadata": {},
   "source": [
    "**sem valores nulos**"
   ]
  },
  {
   "cell_type": "markdown",
   "metadata": {},
   "source": [
    "<div class=\"alert alert-block alert-warning\">\n",
    "<b> Comentário do revisor: </b> <a class=\"tocSkip\"></a>\n",
    "    \n",
    "- O método `head()` foi  utilizado para exibir uma amostra inicial dos seus dados\n",
    "- O método `info()` foi utilizado para estudo inicial do conjunto de dados\n",
    "- **Sugestão:** você poderia executar o método `describe()` também para esutudo dos dados\n",
    "\n",
    "</div>"
   ]
  },
  {
   "cell_type": "markdown",
   "metadata": {},
   "source": [
    "### separando data e hora"
   ]
  },
  {
   "cell_type": "code",
   "execution_count": 19,
   "metadata": {},
   "outputs": [
    {
     "name": "stdout",
     "output_type": "stream",
     "text": [
      "                 start_ts weather_conditions  duration_seconds       data  \\\n",
      "0     2017-11-25 16:00:00               Good            2410.0 2017-11-25   \n",
      "1     2017-11-25 14:00:00               Good            1920.0 2017-11-25   \n",
      "2     2017-11-25 12:00:00               Good            1543.0 2017-11-25   \n",
      "3     2017-11-04 10:00:00               Good            2512.0 2017-11-04   \n",
      "4     2017-11-11 07:00:00               Good            1440.0 2017-11-11   \n",
      "...                   ...                ...               ...        ...   \n",
      "1063  2017-11-25 11:00:00               Good               0.0 2017-11-25   \n",
      "1064  2017-11-11 10:00:00               Good            1318.0 2017-11-11   \n",
      "1065  2017-11-11 13:00:00               Good            2100.0 2017-11-11   \n",
      "1066  2017-11-11 08:00:00               Good            1380.0 2017-11-11   \n",
      "1067  2017-11-04 16:00:00                Bad            2834.0 2017-11-04   \n",
      "\n",
      "          hora  dia_da_semana  \n",
      "0     16:00:00              5  \n",
      "1     14:00:00              5  \n",
      "2     12:00:00              5  \n",
      "3     10:00:00              5  \n",
      "4     07:00:00              5  \n",
      "...        ...            ...  \n",
      "1063  11:00:00              5  \n",
      "1064  10:00:00              5  \n",
      "1065  13:00:00              5  \n",
      "1066  08:00:00              5  \n",
      "1067  16:00:00              5  \n",
      "\n",
      "[1068 rows x 6 columns]\n"
     ]
    }
   ],
   "source": [
    "df7['start_ts'] = df7['start_ts'].astype(str)\n",
    "\n",
    "df7[['data', 'hora']] = df7['start_ts'].str.split(' ', expand=True)\n",
    "\n",
    "df7['data'] = pd.to_datetime(df7['data'], errors='coerce').dt.date\n",
    "\n",
    "\n",
    "\n",
    "df7['data'] = pd.to_datetime(df7['data'], errors='coerce', format='%Y-%m-%d') \n",
    "df7['data'] = pd.to_datetime(df7['data'], errors='coerce', format='%d/%m/%Y') \n",
    "df7['dia_da_semana'] = df7['data'].dt.dayofweek\n",
    "sabados = df7[df7['dia_da_semana'] == 5]\n",
    "print(sabados)"
   ]
  },
  {
   "cell_type": "markdown",
   "metadata": {},
   "source": [
    "\n",
    "**Separamos data e hora para um melhor manuseio dos dados caso necessário e criamos novas colunas 'data' , 'hora' e 'dia_da_semana'**\n",
    "\n",
    "**Verificamos se todas as datas registradas são de sábados**"
   ]
  },
  {
   "cell_type": "markdown",
   "metadata": {},
   "source": [
    "## Analises"
   ]
  },
  {
   "cell_type": "markdown",
   "metadata": {},
   "source": [
    "### Grafico de corridas por empresa de 15 a 16 de novembro de 2017."
   ]
  },
  {
   "cell_type": "code",
   "execution_count": 20,
   "metadata": {
    "scrolled": false
   },
   "outputs": [
    {
     "data": {
      "image/png": "[encoded data removed]",
      "text/plain": [
       "<Figure size 1000x600 with 1 Axes>"
      ]
     },
     "metadata": {},
     "output_type": "display_data"
    }
   ],
   "source": [
    "df1_sorted = df1.sort_values('trips_amount', ascending=False)\n",
    "\n",
    "# Seleciona as 10 empresas com mais viagens\n",
    "top_10_companies = df1_sorted.head(10)\n",
    "\n",
    "plt.figure(figsize=(10, 6))  # Ajustei a altura para melhor visualização dos 10\n",
    "\n",
    "plt.barh(top_10_companies['company_name'], top_10_companies['trips_amount'], color='gold')\n",
    "\n",
    "plt.xlabel('Número de Viagens', fontsize=12)\n",
    "plt.ylabel('Empresa', fontsize=12)\n",
    "plt.title('Top 10 Empresas - Número de Viagens', fontsize=14)\n",
    "plt.gca().invert_yaxis()\n",
    "plt.grid(axis='x', linestyle='--', alpha=0.7)\n",
    "plt.tight_layout()\n",
    "plt.show()\n"
   ]
  },
  {
   "cell_type": "markdown",
   "metadata": {},
   "source": [
    "<div class=\"alert alert-block alert-warning\">\n",
    "<b> Comentário do revisor: </b> <a class=\"tocSkip\"></a>\n",
    "\n",
    "- As principais empresas em número de corridas foram analisadas. Sugestão: aqui você poderia filtrar o gráfico acima para apresentar apenas o Top 10 ou Top 15, por exemplo.\n",
    "- Um gráfico de barras foi construído\n",
    "</div>"
   ]
  },
  {
   "cell_type": "code",
   "execution_count": 21,
   "metadata": {},
   "outputs": [
    {
     "data": {
      "image/png": "[encoded data removed]",
      "text/plain": [
       "<Figure size 1000x600 with 1 Axes>"
      ]
     },
     "metadata": {},
     "output_type": "display_data"
    }
   ],
   "source": [
    "df1['percentage'] = (df1['trips_amount'] / df1['trips_amount'].sum()) * 100\n",
    "\n",
    "df1_sorted = df1.sort_values('percentage', ascending=False)\n",
    "\n",
    "top_10 = df1_sorted.head(10)\n",
    "plt.figure(figsize=(10, 6))\n",
    "bars = plt.barh(top_10['company_name'], top_10['percentage'], color='gold')\n",
    "\n",
    "plt.xlabel('Porcentagem de Corridas do total')\n",
    "plt.ylabel('Empresa')\n",
    "plt.title('Porcentagem de Corridas por Empresa no periodo(Top 10)')\n",
    "\n",
    "plt.gca().invert_yaxis()  \n",
    "\n",
    "# Adiciona a porcentagem perto de cada barra (mais simples)\n",
    "for bar in bars:\n",
    "    width = bar.get_width()\n",
    "    plt.text(width + 0.5,  # Posição x (um pouco à direita da barra)\n",
    "             bar.get_y() + bar.get_height() / 2,  # Posição y (centro da barra)\n",
    "             f'{width:.1f}%',  # Texto da porcentagem (formatado com 1 casa decimal)\n",
    "             va='center', ha='left')  \n",
    "\n",
    "plt.show()"
   ]
  },
  {
   "cell_type": "markdown",
   "metadata": {},
   "source": [
    "**Pelo gráfico vemos que a Flash cab é a companhia com mais corridas feitas no periodo, quase o dobro da segunda colocada.**\n",
    "\n",
    "**Como temos apenas uma amostra de dois dias para as corridas não podemos dizer com certeza, mas se estes numero forem os mesmos para outros periodos podemos dizer que a companhia Flash cab tem 14,2% do market share de taxis.**"
   ]
  },
  {
   "cell_type": "markdown",
   "metadata": {},
   "source": [
    "### top 10 bairros por número de corridas"
   ]
  },
  {
   "cell_type": "code",
   "execution_count": 22,
   "metadata": {},
   "outputs": [
    {
     "data": {
      "image/png": "[encoded data removed]",
      "text/plain": [
       "<Figure size 1200x600 with 1 Axes>"
      ]
     },
     "metadata": {},
     "output_type": "display_data"
    }
   ],
   "source": [
    "df4_sorted = df4.sort_values('average_trips', ascending=False)\n",
    "\n",
    "top_10_locations = df4_sorted.head(10)\n",
    "\n",
    "plt.figure(figsize=(12, 6))  \n",
    "plt.bar(top_10_locations['dropoff_location_name'], top_10_locations['average_trips'], color='gold')\n",
    "plt.xlabel('Local de Desembarque', fontsize=12)\n",
    "plt.ylabel('Número Médio de Viagens', fontsize=12)\n",
    "plt.title('Top 10 Locais de Desembarque por Número de Viagens', fontsize=14)\n",
    "plt.xticks(rotation=45, ha='right', fontsize=10)\n",
    "plt.grid(axis='y', linestyle='--', alpha=0.7)\n",
    "plt.tight_layout()\n",
    "plt.show()"
   ]
  },
  {
   "cell_type": "markdown",
   "metadata": {},
   "source": [
    "**Loop e River North são os destinos mais procurados pelos passageiros com uma boa diferença para os demais.**"
   ]
  },
  {
   "cell_type": "markdown",
   "metadata": {},
   "source": [
    "<div class=\"alert alert-block alert-success\">\n",
    "<b> Comentário do revisor: </b> <a class=\"tocSkip\"></a>\n",
    "\n",
    "- Os 10 principais bairros em número de corridas foram analisados\n",
    "- Um gráfico de barras foi construído\n",
    "</div>"
   ]
  },
  {
   "cell_type": "markdown",
   "metadata": {},
   "source": [
    "## Hipóteses"
   ]
  },
  {
   "cell_type": "markdown",
   "metadata": {},
   "source": [
    "### teste de variância"
   ]
  },
  {
   "cell_type": "code",
   "execution_count": 23,
   "metadata": {},
   "outputs": [
    {
     "data": {
      "text/plain": [
       "576382.0096895087"
      ]
     },
     "execution_count": 23,
     "metadata": {},
     "output_type": "execute_result"
    }
   ],
   "source": [
    "bom = df7.groupby('weather_conditions')['duration_seconds'].var().loc['Good']\n",
    "bom"
   ]
  },
  {
   "cell_type": "code",
   "execution_count": 24,
   "metadata": {},
   "outputs": [
    {
     "data": {
      "text/plain": [
       "520294.0860024828"
      ]
     },
     "execution_count": 24,
     "metadata": {},
     "output_type": "execute_result"
    }
   ],
   "source": [
    "bad = df7.groupby('weather_conditions')['duration_seconds'].var().loc['Bad']\n",
    "bad"
   ]
  },
  {
   "cell_type": "markdown",
   "metadata": {},
   "source": [
    "**Testes de variancias realizados e resultados distintos foram achados** "
   ]
  },
  {
   "cell_type": "markdown",
   "metadata": {},
   "source": [
    "<div class=\"alert alert-block alert-danger\">\n",
    "<b> Comentário do revisor v1: </b> <a class=\"tocSkip\"></a>\n",
    "<s>\n",
    "    \n",
    "Aqui você precisa calcular a variância para dias chuvosos e dias não chuvoses para definir o argumento `equal_var`. Você precisa usar o resultado dessa análise para definir que as variâncias são diferentes (argumento `equal_var=False`)\n",
    "    \n",
    "```python\n",
    "# descobrir se as variâncias são diferentes\n",
    "rainy_saturdays.var(), non_rainy_saturdays.var()\n",
    "```\n",
    "    \n",
    "<br>\n",
    "    \n",
    "**Sugestão:** Você pode fazer o teste no código ou apenas imprimir as variâncias e concluir se são iguais ou diferentes. Essa etapa é importante para satisfazer a premissa do teste-t\n",
    "</s>\n",
    "</div>"
   ]
  },
  {
   "cell_type": "markdown",
   "metadata": {},
   "source": [
    "### Hipotese"
   ]
  },
  {
   "cell_type": "markdown",
   "metadata": {},
   "source": [
    "\n",
    "**H0- hipótese nula: A duração média dos passeios do Loop para o Aeroporto Internacional O'Hare NÃO muda nos sábados chuvosos.**\n",
    "\n",
    "**H1- hipótese alternativa:A duração média dos passeios do Loop para o Aeroporto Internacional O'Hare muda nos sábados chuvosos.**\n",
    "    "
   ]
  },
  {
   "cell_type": "code",
   "execution_count": 25,
   "metadata": {},
   "outputs": [
    {
     "name": "stdout",
     "output_type": "stream",
     "text": [
      "valor p: 6.738994326108734e-12\n",
      "Rejeitamos a hipótese nula: a média é significativamente diferente de h0.\n"
     ]
    }
   ],
   "source": [
    "bom = df7.loc[df7['weather_conditions'] == 'Good', 'duration_seconds'].tolist()\n",
    "bad = df7.loc[df7['weather_conditions'] == 'Bad', 'duration_seconds'].tolist()\n",
    "\n",
    "alpha = 0.05\n",
    "\n",
    "result = st.ttest_ind(bom , bad ,equal_var = False )\n",
    "print( 'valor p:' , result.pvalue)\n",
    "\n",
    "if result.pvalue < alpha:\n",
    "    print(\"Rejeitamos a hipótese nula: a média é significativamente diferente de h0.\")\n",
    "else:\n",
    "    print(\"Não rejeitamos a hipótese nula: não há evidências de que a média seja diferente de h0.\")"
   ]
  },
  {
   "cell_type": "markdown",
   "metadata": {},
   "source": [
    "<div class=\"alert alert-block alert-danger\">\n",
    "<b> Comentário do revisor v2: </b> <a class=\"tocSkip\"></a>\n",
    "\n",
    "<s>Aqui você precisa executar o `test-t` e definir o argumento `equal_var` no método `ttest_ind(..)`, conforme sugerido anteriormente.</s>\n",
    "</div>"
   ]
  },
  {
   "cell_type": "markdown",
   "metadata": {},
   "source": [
    "<div class=\"alert alert-block alert-info\">\n",
    "<b>Gostaria só de algumas dicas de como descobrir qual teste de hipótese é o ideal para cada cenário. Eu verifiquei com a IA e ela me disse que era o de 1 sample, ai eu achei a média total de todas as durações(independente do tempo) e comparei com a média dos dias chuvosos, porque não era esse o teste? \n",
    "</b> <a class=\"tocSkip\"></a>\n",
    "</div>"
   ]
  },
  {
   "cell_type": "markdown",
   "metadata": {},
   "source": [
    "<div class=\"alert alert-block alert-warning\">\n",
    "<b> Comentário do revisor v2: </b> <a class=\"tocSkip\"></a>\n",
    "\n",
    "Boa pergunta. A escolha do teste vai depender, entre outras coisas, da distribuição e tipo dos dados. Por exemplo: você pode querer testar se a média de 2 grupos distintos variam significativamente ou se a distribuição de classes entre 2 experimentos é diferente. Um tipo de teste muito comum também é o teste de proporções (é algo que você vê aqui no programa também, principalmente no projeto de teste A/B).\n",
    "\n",
    "<br>\n",
    "    \n",
    "Existem vários guias na internet que podem te ajudar, não é necessário decorar cada caso. Segue um referência para estudo complementar: https://www.sbquadril.org.br/app/uploads/2021/10/Como-escolher-o-teste-estati%CC%81stico-Um-guia-para-o-pesquisador-iniciante.pdf.\n",
    "</div>"
   ]
  },
  {
   "cell_type": "markdown",
   "metadata": {},
   "source": [
    "# Comentarios gerais e dúvidas sobre projetos"
   ]
  },
  {
   "cell_type": "markdown",
   "metadata": {},
   "source": [
    "<div class=\"alert alert-block alert-info\">\n",
    "<b>Eu tenho dúvida quanto aos comentários nos cadernos, parece que encher de comentario pode parecer mais um spam, eu tenho sintetizar os pensamentos o maximo possivel para que fique confortavel de ler. Nos projetos o cliente costuma pedir muitos detalhes?</b> <a class=\"tocSkip\"></a>\n",
    "</div>"
   ]
  },
  {
   "cell_type": "markdown",
   "metadata": {},
   "source": [
    "\n",
    "<div class=\"alert alert-block alert-info\">    \n",
    "<b>   Eu perguntei para alguns profissionais eles dizem que geralmente nós reportamos esses cadernos para alguem que é da area de tecnologia também. Como são enviados esses cadernos do jupyter(se são realmente enviados)?     \n",
    "        Minha duvida é porque a leitura dos dados estarao na minha máquina e provavelmente o destino dos arquivos estão em locais diferentes para cada pc, então para quem eu mandar esses projetos as pessoas nao vao conseguir abrir este caderno como eu, então terei que tirar print das analises e enviar?  </b>\n",
    " <a class=\"tocSkip\"></a>\n",
    "</div>\n"
   ]
  },
  {
   "cell_type": "markdown",
   "metadata": {},
   "source": [
    "<div class=\"alert alert-block alert-warning\">\n",
    "<b> Comentário do revisor v2: </b> <a class=\"tocSkip\"></a>\n",
    "\n",
    "Excelente pergunta, Vitor! Na prática, depende da sua audiência. Por exemplo, se você for apresentar os seus resultados para algúem da área de negócios, você pode sintetizar os principais resultados em uma apresentação, apenas listando o problema que está sendo resolvido e os resultados. Se for apresentar para outro profissional de dados, entretanto, você pode compartilhar via notebook (caderno). Nesse caso, é essencial que a outra pessoa consiga carregar os dados que você usou no seu estudo e reproduzir o seu trabalho. \n",
    "    \n",
    "<br>\n",
    "    \n",
    "Existem várias formas de fazer isso, mas em uma empresa, por exemplo, é relativamente simples obter acesso aos dados que geraram o seu estudo. Se for algo público, você pode compartilhar os dados no Github, Drive, S3, etc.\n",
    "</div>"
   ]
  }
 ],
 "metadata": {
  "ExecuteTimeLog": [
   {
    "duration": 2233,
    "start_time": "2025-02-12T23:20:48.435Z"
   },
   {
    "duration": 8,
    "start_time": "2025-02-12T23:20:50.670Z"
   },
   {
    "duration": 6,
    "start_time": "2025-02-12T23:20:50.686Z"
   },
   {
    "duration": 8,
    "start_time": "2025-02-12T23:20:52.583Z"
   },
   {
    "duration": 7,
    "start_time": "2025-02-12T23:20:58.925Z"
   },
   {
    "duration": 6,
    "start_time": "2025-02-12T23:27:12.167Z"
   },
   {
    "duration": 8,
    "start_time": "2025-02-12T23:29:22.905Z"
   },
   {
    "duration": 8,
    "start_time": "2025-02-12T23:29:34.347Z"
   },
   {
    "duration": 5,
    "start_time": "2025-02-12T23:31:54.809Z"
   },
   {
    "duration": 4,
    "start_time": "2025-02-12T23:32:00.998Z"
   },
   {
    "duration": 5,
    "start_time": "2025-02-12T23:32:17.835Z"
   },
   {
    "duration": 6,
    "start_time": "2025-02-12T23:32:28.932Z"
   },
   {
    "duration": 588,
    "start_time": "2025-02-12T23:33:17.446Z"
   },
   {
    "duration": 4,
    "start_time": "2025-02-12T23:34:32.164Z"
   },
   {
    "duration": 6,
    "start_time": "2025-02-12T23:35:08.248Z"
   },
   {
    "duration": 4,
    "start_time": "2025-02-12T23:35:37.383Z"
   },
   {
    "duration": 9,
    "start_time": "2025-02-12T23:56:10.914Z"
   },
   {
    "duration": 8,
    "start_time": "2025-02-12T23:56:29.884Z"
   },
   {
    "duration": 9,
    "start_time": "2025-02-12T23:57:07.319Z"
   },
   {
    "duration": 9,
    "start_time": "2025-02-12T23:57:20.418Z"
   },
   {
    "duration": 10,
    "start_time": "2025-02-13T00:31:46.622Z"
   },
   {
    "duration": 6,
    "start_time": "2025-02-13T00:33:54.509Z"
   },
   {
    "duration": 13,
    "start_time": "2025-02-13T01:03:25.091Z"
   },
   {
    "duration": 1295,
    "start_time": "2025-02-13T01:04:45.620Z"
   },
   {
    "duration": 1295,
    "start_time": "2025-02-13T01:05:38.259Z"
   },
   {
    "duration": 1212,
    "start_time": "2025-02-13T01:07:53.482Z"
   },
   {
    "duration": 1255,
    "start_time": "2025-02-13T01:08:14.902Z"
   },
   {
    "duration": 1256,
    "start_time": "2025-02-13T01:08:26.350Z"
   },
   {
    "duration": 6,
    "start_time": "2025-02-13T01:09:12.299Z"
   },
   {
    "duration": 6,
    "start_time": "2025-02-13T01:09:20.051Z"
   },
   {
    "duration": 102,
    "start_time": "2025-02-13T01:15:08.728Z"
   },
   {
    "duration": 23,
    "start_time": "2025-02-13T01:15:38.021Z"
   },
   {
    "duration": 255,
    "start_time": "2025-02-13T01:17:13.642Z"
   },
   {
    "duration": 18,
    "start_time": "2025-02-13T01:26:07.376Z"
   },
   {
    "duration": 814,
    "start_time": "2025-02-13T01:26:47.016Z"
   },
   {
    "duration": 980,
    "start_time": "2025-02-13T01:28:27.577Z"
   },
   {
    "duration": 967,
    "start_time": "2025-02-13T01:45:04.316Z"
   },
   {
    "duration": 153,
    "start_time": "2025-02-13T01:45:54.804Z"
   },
   {
    "duration": 176,
    "start_time": "2025-02-13T01:47:08.202Z"
   },
   {
    "duration": 174,
    "start_time": "2025-02-13T02:01:41.324Z"
   },
   {
    "duration": 6,
    "start_time": "2025-02-13T02:04:09.588Z"
   },
   {
    "duration": 157,
    "start_time": "2025-02-13T11:43:25.391Z"
   },
   {
    "duration": 3,
    "start_time": "2025-02-13T11:43:32.111Z"
   },
   {
    "duration": 2105,
    "start_time": "2025-02-13T11:43:32.117Z"
   },
   {
    "duration": 10,
    "start_time": "2025-02-13T11:43:34.224Z"
   },
   {
    "duration": 7,
    "start_time": "2025-02-13T11:43:34.236Z"
   },
   {
    "duration": 9,
    "start_time": "2025-02-13T11:43:34.247Z"
   },
   {
    "duration": 9,
    "start_time": "2025-02-13T11:43:34.257Z"
   },
   {
    "duration": 4,
    "start_time": "2025-02-13T11:43:34.269Z"
   },
   {
    "duration": 4,
    "start_time": "2025-02-13T11:43:34.275Z"
   },
   {
    "duration": 9,
    "start_time": "2025-02-13T11:43:34.281Z"
   },
   {
    "duration": 6,
    "start_time": "2025-02-13T11:43:34.292Z"
   },
   {
    "duration": 5,
    "start_time": "2025-02-13T11:43:34.299Z"
   },
   {
    "duration": 3,
    "start_time": "2025-02-13T11:43:34.306Z"
   },
   {
    "duration": 7,
    "start_time": "2025-02-13T11:43:34.343Z"
   },
   {
    "duration": 5,
    "start_time": "2025-02-13T11:43:34.354Z"
   },
   {
    "duration": 1358,
    "start_time": "2025-02-13T11:43:34.361Z"
   },
   {
    "duration": 212,
    "start_time": "2025-02-13T11:43:35.721Z"
   },
   {
    "duration": 277,
    "start_time": "2025-02-13T11:43:35.934Z"
   },
   {
    "duration": 7,
    "start_time": "2025-02-13T11:43:36.213Z"
   },
   {
    "duration": 1270,
    "start_time": "2025-02-13T11:45:55.355Z"
   },
   {
    "duration": 171,
    "start_time": "2025-02-13T11:46:13.098Z"
   },
   {
    "duration": 267,
    "start_time": "2025-02-13T11:46:22.637Z"
   },
   {
    "duration": 5,
    "start_time": "2025-02-13T11:47:45.080Z"
   },
   {
    "duration": 8,
    "start_time": "2025-02-13T11:50:07.169Z"
   },
   {
    "duration": 189,
    "start_time": "2025-02-13T11:53:56.309Z"
   },
   {
    "duration": 539,
    "start_time": "2025-02-13T11:54:04.312Z"
   },
   {
    "duration": 6,
    "start_time": "2025-02-13T11:54:55.301Z"
   },
   {
    "duration": 5,
    "start_time": "2025-02-13T11:54:58.091Z"
   },
   {
    "duration": 11,
    "start_time": "2025-02-13T11:55:03.030Z"
   },
   {
    "duration": 71,
    "start_time": "2025-02-13T11:55:54.578Z"
   },
   {
    "duration": 15,
    "start_time": "2025-02-13T11:56:11.090Z"
   },
   {
    "duration": 10,
    "start_time": "2025-02-13T11:57:43.097Z"
   },
   {
    "duration": 12,
    "start_time": "2025-02-13T11:58:50.145Z"
   },
   {
    "duration": 9,
    "start_time": "2025-02-13T11:59:16.165Z"
   },
   {
    "duration": 5,
    "start_time": "2025-02-13T12:00:13.866Z"
   },
   {
    "duration": 13,
    "start_time": "2025-02-13T12:00:19.078Z"
   },
   {
    "duration": 3,
    "start_time": "2025-02-13T12:00:51.948Z"
   },
   {
    "duration": 480,
    "start_time": "2025-02-13T12:00:51.953Z"
   },
   {
    "duration": 40,
    "start_time": "2025-02-13T12:00:52.434Z"
   },
   {
    "duration": 5,
    "start_time": "2025-02-13T12:00:52.475Z"
   },
   {
    "duration": 4,
    "start_time": "2025-02-13T12:00:52.482Z"
   },
   {
    "duration": 8,
    "start_time": "2025-02-13T12:00:52.487Z"
   },
   {
    "duration": 4,
    "start_time": "2025-02-13T12:00:52.497Z"
   },
   {
    "duration": 4,
    "start_time": "2025-02-13T12:00:52.503Z"
   },
   {
    "duration": 38,
    "start_time": "2025-02-13T12:00:52.509Z"
   },
   {
    "duration": 7,
    "start_time": "2025-02-13T12:00:52.549Z"
   },
   {
    "duration": 3,
    "start_time": "2025-02-13T12:00:52.558Z"
   },
   {
    "duration": 4,
    "start_time": "2025-02-13T12:00:52.563Z"
   },
   {
    "duration": 9,
    "start_time": "2025-02-13T12:00:52.568Z"
   },
   {
    "duration": 7,
    "start_time": "2025-02-13T12:00:52.580Z"
   },
   {
    "duration": 5,
    "start_time": "2025-02-13T12:00:52.588Z"
   },
   {
    "duration": 48,
    "start_time": "2025-02-13T12:00:52.594Z"
   },
   {
    "duration": 13,
    "start_time": "2025-02-13T12:00:52.645Z"
   },
   {
    "duration": 1303,
    "start_time": "2025-02-13T12:00:52.660Z"
   },
   {
    "duration": 179,
    "start_time": "2025-02-13T12:00:53.965Z"
   },
   {
    "duration": 262,
    "start_time": "2025-02-13T12:00:54.147Z"
   },
   {
    "duration": 7,
    "start_time": "2025-02-13T12:00:54.411Z"
   },
   {
    "duration": 16,
    "start_time": "2025-02-13T12:02:32.942Z"
   },
   {
    "duration": 15,
    "start_time": "2025-02-13T12:17:18.348Z"
   },
   {
    "duration": 3,
    "start_time": "2025-02-13T12:17:30.065Z"
   },
   {
    "duration": 189,
    "start_time": "2025-02-13T12:22:59.552Z"
   },
   {
    "duration": 7,
    "start_time": "2025-02-13T12:23:03.568Z"
   },
   {
    "duration": 3,
    "start_time": "2025-02-13T12:23:20.261Z"
   },
   {
    "duration": 4,
    "start_time": "2025-02-13T12:23:34.738Z"
   },
   {
    "duration": 4,
    "start_time": "2025-02-13T12:24:11.918Z"
   },
   {
    "duration": 4,
    "start_time": "2025-02-13T12:24:16.048Z"
   },
   {
    "duration": 3,
    "start_time": "2025-02-13T12:24:31.157Z"
   },
   {
    "duration": 5,
    "start_time": "2025-02-13T12:30:56.031Z"
   },
   {
    "duration": 283,
    "start_time": "2025-02-13T12:31:23.935Z"
   },
   {
    "duration": 314,
    "start_time": "2025-02-13T12:32:26.344Z"
   },
   {
    "duration": 2,
    "start_time": "2025-02-13T12:32:41.715Z"
   },
   {
    "duration": 118,
    "start_time": "2025-02-13T12:33:38.910Z"
   },
   {
    "duration": 17,
    "start_time": "2025-02-13T12:35:04.733Z"
   },
   {
    "duration": 9,
    "start_time": "2025-02-13T12:35:08.068Z"
   },
   {
    "duration": 7,
    "start_time": "2025-02-13T12:40:25.383Z"
   },
   {
    "duration": 17,
    "start_time": "2025-02-13T12:41:26.511Z"
   },
   {
    "duration": 7,
    "start_time": "2025-02-13T12:41:37.914Z"
   },
   {
    "duration": 19,
    "start_time": "2025-02-13T12:42:01.254Z"
   },
   {
    "duration": 12,
    "start_time": "2025-02-13T12:42:09.662Z"
   },
   {
    "duration": 10,
    "start_time": "2025-02-13T12:42:17.251Z"
   },
   {
    "duration": 8,
    "start_time": "2025-02-13T12:47:01.706Z"
   },
   {
    "duration": 32,
    "start_time": "2025-02-13T12:47:48.231Z"
   },
   {
    "duration": 15,
    "start_time": "2025-02-13T12:48:31.402Z"
   },
   {
    "duration": 19,
    "start_time": "2025-02-13T12:51:24.619Z"
   },
   {
    "duration": 3,
    "start_time": "2025-02-13T12:54:50.596Z"
   },
   {
    "duration": 15,
    "start_time": "2025-02-13T12:56:09.281Z"
   },
   {
    "duration": 16,
    "start_time": "2025-02-13T12:56:47.471Z"
   },
   {
    "duration": 15,
    "start_time": "2025-02-13T12:59:01.179Z"
   },
   {
    "duration": 18,
    "start_time": "2025-02-13T12:59:05.506Z"
   },
   {
    "duration": 5,
    "start_time": "2025-02-13T12:59:18.986Z"
   },
   {
    "duration": 5,
    "start_time": "2025-02-13T12:59:37.666Z"
   },
   {
    "duration": 4,
    "start_time": "2025-02-13T13:01:11.235Z"
   },
   {
    "duration": 159,
    "start_time": "2025-02-13T21:53:57.417Z"
   },
   {
    "duration": 2552,
    "start_time": "2025-02-13T21:56:07.003Z"
   },
   {
    "duration": 11,
    "start_time": "2025-02-13T21:56:09.557Z"
   },
   {
    "duration": 8,
    "start_time": "2025-02-13T21:56:09.570Z"
   },
   {
    "duration": 8,
    "start_time": "2025-02-13T21:56:09.580Z"
   },
   {
    "duration": 8,
    "start_time": "2025-02-13T21:56:09.590Z"
   },
   {
    "duration": 9,
    "start_time": "2025-02-13T21:56:09.599Z"
   },
   {
    "duration": 4,
    "start_time": "2025-02-13T21:56:09.610Z"
   },
   {
    "duration": 3,
    "start_time": "2025-02-13T21:56:09.616Z"
   },
   {
    "duration": 8,
    "start_time": "2025-02-13T21:56:09.621Z"
   },
   {
    "duration": 5,
    "start_time": "2025-02-13T21:56:09.632Z"
   },
   {
    "duration": 9,
    "start_time": "2025-02-13T21:56:09.670Z"
   },
   {
    "duration": 3,
    "start_time": "2025-02-13T21:56:09.681Z"
   },
   {
    "duration": 4,
    "start_time": "2025-02-13T21:56:09.686Z"
   },
   {
    "duration": 7,
    "start_time": "2025-02-13T21:56:09.693Z"
   },
   {
    "duration": 6,
    "start_time": "2025-02-13T21:56:09.702Z"
   },
   {
    "duration": 12,
    "start_time": "2025-02-13T21:56:09.710Z"
   },
   {
    "duration": 46,
    "start_time": "2025-02-13T21:56:09.724Z"
   },
   {
    "duration": 9,
    "start_time": "2025-02-13T21:56:09.772Z"
   },
   {
    "duration": 656,
    "start_time": "2025-02-13T21:56:09.783Z"
   },
   {
    "duration": 0,
    "start_time": "2025-02-13T21:56:10.441Z"
   },
   {
    "duration": 0,
    "start_time": "2025-02-13T21:56:10.442Z"
   },
   {
    "duration": 0,
    "start_time": "2025-02-13T21:56:10.443Z"
   },
   {
    "duration": 0,
    "start_time": "2025-02-13T21:56:10.445Z"
   },
   {
    "duration": 0,
    "start_time": "2025-02-13T21:56:10.446Z"
   },
   {
    "duration": 46,
    "start_time": "2025-02-13T22:00:50.101Z"
   },
   {
    "duration": 41,
    "start_time": "2025-02-13T22:01:13.970Z"
   },
   {
    "duration": 14,
    "start_time": "2025-02-13T22:12:56.294Z"
   },
   {
    "duration": 14,
    "start_time": "2025-02-13T22:13:06.469Z"
   },
   {
    "duration": 341,
    "start_time": "2025-02-13T22:13:21.253Z"
   },
   {
    "duration": 14,
    "start_time": "2025-02-13T22:14:31.757Z"
   },
   {
    "duration": 15,
    "start_time": "2025-02-13T22:15:02.122Z"
   },
   {
    "duration": 20,
    "start_time": "2025-02-13T22:15:10.981Z"
   },
   {
    "duration": 813,
    "start_time": "2025-02-13T22:16:35.479Z"
   },
   {
    "duration": 7,
    "start_time": "2025-02-13T22:16:36.295Z"
   },
   {
    "duration": 5,
    "start_time": "2025-02-13T22:16:36.303Z"
   },
   {
    "duration": 8,
    "start_time": "2025-02-13T22:16:36.310Z"
   },
   {
    "duration": 9,
    "start_time": "2025-02-13T22:16:36.320Z"
   },
   {
    "duration": 11,
    "start_time": "2025-02-13T22:16:36.331Z"
   },
   {
    "duration": 27,
    "start_time": "2025-02-13T22:16:36.344Z"
   },
   {
    "duration": 3,
    "start_time": "2025-02-13T22:16:36.373Z"
   },
   {
    "duration": 8,
    "start_time": "2025-02-13T22:16:36.378Z"
   },
   {
    "duration": 6,
    "start_time": "2025-02-13T22:16:36.387Z"
   },
   {
    "duration": 8,
    "start_time": "2025-02-13T22:16:36.396Z"
   },
   {
    "duration": 4,
    "start_time": "2025-02-13T22:16:36.405Z"
   },
   {
    "duration": 4,
    "start_time": "2025-02-13T22:16:36.411Z"
   },
   {
    "duration": 7,
    "start_time": "2025-02-13T22:16:36.419Z"
   },
   {
    "duration": 48,
    "start_time": "2025-02-13T22:16:36.427Z"
   },
   {
    "duration": 8,
    "start_time": "2025-02-13T22:16:36.477Z"
   },
   {
    "duration": 5,
    "start_time": "2025-02-13T22:16:36.486Z"
   },
   {
    "duration": 8,
    "start_time": "2025-02-13T22:16:36.492Z"
   },
   {
    "duration": 11,
    "start_time": "2025-02-13T22:16:36.502Z"
   },
   {
    "duration": 536,
    "start_time": "2025-02-13T22:16:36.514Z"
   },
   {
    "duration": 0,
    "start_time": "2025-02-13T22:16:37.052Z"
   },
   {
    "duration": 0,
    "start_time": "2025-02-13T22:16:37.054Z"
   },
   {
    "duration": 0,
    "start_time": "2025-02-13T22:16:37.055Z"
   },
   {
    "duration": 0,
    "start_time": "2025-02-13T22:16:37.057Z"
   },
   {
    "duration": 0,
    "start_time": "2025-02-13T22:16:37.069Z"
   },
   {
    "duration": 21,
    "start_time": "2025-02-13T22:18:30.051Z"
   },
   {
    "duration": 13,
    "start_time": "2025-02-13T22:18:34.833Z"
   },
   {
    "duration": 18,
    "start_time": "2025-02-13T22:18:51.629Z"
   },
   {
    "duration": 11,
    "start_time": "2025-02-13T22:19:15.984Z"
   },
   {
    "duration": 814,
    "start_time": "2025-02-13T22:19:35.188Z"
   },
   {
    "duration": 6,
    "start_time": "2025-02-13T22:19:36.005Z"
   },
   {
    "duration": 4,
    "start_time": "2025-02-13T22:19:36.013Z"
   },
   {
    "duration": 6,
    "start_time": "2025-02-13T22:19:36.018Z"
   },
   {
    "duration": 8,
    "start_time": "2025-02-13T22:19:36.026Z"
   },
   {
    "duration": 10,
    "start_time": "2025-02-13T22:19:36.035Z"
   },
   {
    "duration": 7,
    "start_time": "2025-02-13T22:19:36.070Z"
   },
   {
    "duration": 3,
    "start_time": "2025-02-13T22:19:36.079Z"
   },
   {
    "duration": 8,
    "start_time": "2025-02-13T22:19:36.084Z"
   },
   {
    "duration": 7,
    "start_time": "2025-02-13T22:19:36.093Z"
   },
   {
    "duration": 7,
    "start_time": "2025-02-13T22:19:36.102Z"
   },
   {
    "duration": 5,
    "start_time": "2025-02-13T22:19:36.111Z"
   },
   {
    "duration": 4,
    "start_time": "2025-02-13T22:19:36.118Z"
   },
   {
    "duration": 48,
    "start_time": "2025-02-13T22:19:36.125Z"
   },
   {
    "duration": 7,
    "start_time": "2025-02-13T22:19:36.174Z"
   },
   {
    "duration": 8,
    "start_time": "2025-02-13T22:19:36.183Z"
   },
   {
    "duration": 4,
    "start_time": "2025-02-13T22:19:36.193Z"
   },
   {
    "duration": 7,
    "start_time": "2025-02-13T22:19:36.199Z"
   },
   {
    "duration": 11,
    "start_time": "2025-02-13T22:19:36.208Z"
   },
   {
    "duration": 11,
    "start_time": "2025-02-13T22:19:36.221Z"
   },
   {
    "duration": 325,
    "start_time": "2025-02-13T22:19:36.270Z"
   },
   {
    "duration": 176,
    "start_time": "2025-02-13T22:19:36.597Z"
   },
   {
    "duration": 280,
    "start_time": "2025-02-13T22:19:36.776Z"
   },
   {
    "duration": 15,
    "start_time": "2025-02-13T22:19:37.058Z"
   },
   {
    "duration": 6,
    "start_time": "2025-02-13T22:19:37.074Z"
   },
   {
    "duration": 3,
    "start_time": "2025-02-13T22:25:16.382Z"
   },
   {
    "duration": 872,
    "start_time": "2025-02-13T22:26:29.400Z"
   },
   {
    "duration": 6,
    "start_time": "2025-02-13T22:28:20.663Z"
   },
   {
    "duration": 4,
    "start_time": "2025-02-13T22:28:47.255Z"
   },
   {
    "duration": 4,
    "start_time": "2025-02-13T22:29:07.166Z"
   },
   {
    "duration": 5,
    "start_time": "2025-02-13T22:29:12.989Z"
   },
   {
    "duration": 5,
    "start_time": "2025-02-13T22:29:16.573Z"
   },
   {
    "duration": 6,
    "start_time": "2025-02-13T22:29:31.726Z"
   },
   {
    "duration": 6,
    "start_time": "2025-02-13T22:29:36.841Z"
   },
   {
    "duration": 5,
    "start_time": "2025-02-13T22:30:13.925Z"
   },
   {
    "duration": 6,
    "start_time": "2025-02-13T22:30:16.013Z"
   },
   {
    "duration": 7,
    "start_time": "2025-02-13T22:33:34.032Z"
   },
   {
    "duration": 6,
    "start_time": "2025-02-13T22:34:40.654Z"
   },
   {
    "duration": 3,
    "start_time": "2025-02-13T22:35:01.096Z"
   },
   {
    "duration": 76,
    "start_time": "2025-02-13T22:35:46.356Z"
   },
   {
    "duration": 4,
    "start_time": "2025-02-13T22:39:41.464Z"
   },
   {
    "duration": 113,
    "start_time": "2025-02-13T22:40:02.762Z"
   },
   {
    "duration": 5,
    "start_time": "2025-02-13T22:40:18.369Z"
   },
   {
    "duration": 4,
    "start_time": "2025-02-13T22:42:49.456Z"
   },
   {
    "duration": 6,
    "start_time": "2025-02-13T22:43:25.983Z"
   },
   {
    "duration": 2,
    "start_time": "2025-02-13T22:44:11.731Z"
   },
   {
    "duration": 4,
    "start_time": "2025-02-13T23:06:48.705Z"
   },
   {
    "duration": 21,
    "start_time": "2025-02-13T23:16:02.303Z"
   },
   {
    "duration": 818,
    "start_time": "2025-02-13T23:16:13.588Z"
   },
   {
    "duration": 7,
    "start_time": "2025-02-13T23:16:14.409Z"
   },
   {
    "duration": 5,
    "start_time": "2025-02-13T23:16:14.417Z"
   },
   {
    "duration": 5,
    "start_time": "2025-02-13T23:16:14.424Z"
   },
   {
    "duration": 7,
    "start_time": "2025-02-13T23:16:14.431Z"
   },
   {
    "duration": 9,
    "start_time": "2025-02-13T23:16:14.440Z"
   },
   {
    "duration": 21,
    "start_time": "2025-02-13T23:16:14.450Z"
   },
   {
    "duration": 4,
    "start_time": "2025-02-13T23:16:14.473Z"
   },
   {
    "duration": 9,
    "start_time": "2025-02-13T23:16:14.479Z"
   },
   {
    "duration": 6,
    "start_time": "2025-02-13T23:16:14.489Z"
   },
   {
    "duration": 8,
    "start_time": "2025-02-13T23:16:14.496Z"
   },
   {
    "duration": 5,
    "start_time": "2025-02-13T23:16:14.506Z"
   },
   {
    "duration": 5,
    "start_time": "2025-02-13T23:16:14.512Z"
   },
   {
    "duration": 7,
    "start_time": "2025-02-13T23:16:14.520Z"
   },
   {
    "duration": 47,
    "start_time": "2025-02-13T23:16:14.529Z"
   },
   {
    "duration": 9,
    "start_time": "2025-02-13T23:16:14.578Z"
   },
   {
    "duration": 5,
    "start_time": "2025-02-13T23:16:14.589Z"
   },
   {
    "duration": 8,
    "start_time": "2025-02-13T23:16:14.596Z"
   },
   {
    "duration": 16,
    "start_time": "2025-02-13T23:16:14.605Z"
   },
   {
    "duration": 345,
    "start_time": "2025-02-13T23:16:14.623Z"
   },
   {
    "duration": 176,
    "start_time": "2025-02-13T23:16:14.970Z"
   },
   {
    "duration": 309,
    "start_time": "2025-02-13T23:16:15.148Z"
   },
   {
    "duration": 13,
    "start_time": "2025-02-13T23:16:15.458Z"
   },
   {
    "duration": 5,
    "start_time": "2025-02-13T23:16:15.472Z"
   },
   {
    "duration": 6,
    "start_time": "2025-02-13T23:16:15.479Z"
   },
   {
    "duration": 786,
    "start_time": "2025-02-13T23:17:07.817Z"
   },
   {
    "duration": 6,
    "start_time": "2025-02-13T23:17:08.606Z"
   },
   {
    "duration": 5,
    "start_time": "2025-02-13T23:17:08.613Z"
   },
   {
    "duration": 5,
    "start_time": "2025-02-13T23:17:08.620Z"
   },
   {
    "duration": 8,
    "start_time": "2025-02-13T23:17:08.626Z"
   },
   {
    "duration": 9,
    "start_time": "2025-02-13T23:17:08.636Z"
   },
   {
    "duration": 4,
    "start_time": "2025-02-13T23:17:08.670Z"
   },
   {
    "duration": 5,
    "start_time": "2025-02-13T23:17:08.675Z"
   },
   {
    "duration": 8,
    "start_time": "2025-02-13T23:17:08.681Z"
   },
   {
    "duration": 5,
    "start_time": "2025-02-13T23:17:08.692Z"
   },
   {
    "duration": 8,
    "start_time": "2025-02-13T23:17:08.699Z"
   },
   {
    "duration": 4,
    "start_time": "2025-02-13T23:17:08.709Z"
   },
   {
    "duration": 4,
    "start_time": "2025-02-13T23:17:08.714Z"
   },
   {
    "duration": 52,
    "start_time": "2025-02-13T23:17:08.720Z"
   },
   {
    "duration": 8,
    "start_time": "2025-02-13T23:17:08.774Z"
   },
   {
    "duration": 9,
    "start_time": "2025-02-13T23:17:08.783Z"
   },
   {
    "duration": 6,
    "start_time": "2025-02-13T23:17:08.793Z"
   },
   {
    "duration": 7,
    "start_time": "2025-02-13T23:17:08.801Z"
   },
   {
    "duration": 15,
    "start_time": "2025-02-13T23:17:08.810Z"
   },
   {
    "duration": 344,
    "start_time": "2025-02-13T23:17:08.827Z"
   },
   {
    "duration": 179,
    "start_time": "2025-02-13T23:17:09.172Z"
   },
   {
    "duration": 293,
    "start_time": "2025-02-13T23:17:09.353Z"
   },
   {
    "duration": 5,
    "start_time": "2025-02-13T23:17:09.648Z"
   },
   {
    "duration": 16,
    "start_time": "2025-02-13T23:17:09.655Z"
   },
   {
    "duration": 5,
    "start_time": "2025-02-13T23:17:09.673Z"
   }
  ],
  "kernelspec": {
   "display_name": "Python 3 (ipykernel)",
   "language": "python",
   "name": "python3"
  },
  "language_info": {
   "codemirror_mode": {
    "name": "ipython",
    "version": 3
   },
   "file_extension": ".py",
   "mimetype": "text/x-python",
   "name": "python",
   "nbconvert_exporter": "python",
   "pygments_lexer": "ipython3",
   "version": "3.9.19"
  },
  "toc": {
   "base_numbering": 1,
   "nav_menu": {},
   "number_sections": true,
   "sideBar": true,
   "skip_h1_title": true,
   "title_cell": "Table of Contents",
   "title_sidebar": "Contents",
   "toc_cell": false,
   "toc_position": {},
   "toc_section_display": true,
   "toc_window_display": false
  }
 },
 "nbformat": 4,
 "nbformat_minor": 2
}
